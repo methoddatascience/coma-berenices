{
 "cells": [
  {
   "cell_type": "markdown",
   "metadata": {},
   "source": [
    "## Pub Med Scraper"
   ]
  },
  {
   "cell_type": "code",
   "execution_count": 1,
   "metadata": {
    "collapsed": true
   },
   "outputs": [],
   "source": [
    "# scrape dependencies\n",
    "import requests\n",
    "import re\n",
    "from bs4 import BeautifulSoup as bs\n",
    "\n",
    "# data analysis dependencies\n",
    "import pandas as pd\n",
    "import numpy as np\n",
    "import csv\n",
    "\n",
    "# ipynb dependencies\n",
    "from IPython.core.interactiveshell import InteractiveShell\n",
    "InteractiveShell.ast_node_interactivity = \"all\"\n",
    "import warnings\n",
    "warnings.filterwarnings('ignore')\n",
    "\n",
    "# viz dependencies\n",
    "%matplotlib inline\n",
    "import matplotlib.pyplot as plt\n",
    "import seaborn as sns\n",
    "plt.style.use('fivethirtyeight')\n",
    "\n",
    "import datetime as dt\n",
    "import time"
   ]
  },
  {
   "cell_type": "code",
   "execution_count": 2,
   "metadata": {},
   "outputs": [
    {
     "name": "stdout",
     "output_type": "stream",
     "text": [
      "https://www.ncbi.nlm.nih.gov/pubmed/?term=parkinsons+disease\n"
     ]
    }
   ],
   "source": [
    "# set the url to scrape\n",
    "url = 'https://www.ncbi.nlm.nih.gov/pubmed/?term=parkinsons+disease'\n",
    "print(url)"
   ]
  },
  {
   "cell_type": "code",
   "execution_count": 3,
   "metadata": {
    "collapsed": true
   },
   "outputs": [],
   "source": [
    "# set up beautiful soup to scrape\n",
    "response = requests.get(url)\n",
    "soup = bs(response.text, 'html.parser')"
   ]
  },
  {
   "cell_type": "code",
   "execution_count": 4,
   "metadata": {
    "collapsed": true
   },
   "outputs": [],
   "source": [
    "# lets scrape the article titles\n",
    "journals = soup.find_all(\"p\", attrs={'class':'title'})"
   ]
  },
  {
   "cell_type": "code",
   "execution_count": 5,
   "metadata": {},
   "outputs": [
    {
     "name": "stdout",
     "output_type": "stream",
     "text": [
      "There are 20 journals to scrape on the first page.\n"
     ]
    }
   ],
   "source": [
    "# searching for the journal titles\n",
    "journals_len = len(journals)\n",
    "print(f\"There are {journals_len} journals to scrape on the first page.\")"
   ]
  },
  {
   "cell_type": "code",
   "execution_count": 6,
   "metadata": {},
   "outputs": [
    {
     "data": {
      "text/plain": [
       "\"The factors associated with impulse control behaviors in Parkinson's disease: A 2-year longitudinal retrospective cohort study.\""
      ]
     },
     "execution_count": 6,
     "metadata": {},
     "output_type": "execute_result"
    },
    {
     "data": {
      "text/plain": [
       "\"Evaluation of Linguistic Markers of Word-Finding Difficulty and Cognition in Parkinson's Disease.\""
      ]
     },
     "execution_count": 6,
     "metadata": {},
     "output_type": "execute_result"
    },
    {
     "data": {
      "text/plain": [
       "'Implementation and evaluation of Parkinson disease management in an outpatient clinical pharmacist-run neurology telephone clinic.'"
      ]
     },
     "execution_count": 6,
     "metadata": {},
     "output_type": "execute_result"
    },
    {
     "data": {
      "text/plain": [
       "'Treatment of psychotic symptoms in patients with Parkinson disease.'"
      ]
     },
     "execution_count": 6,
     "metadata": {},
     "output_type": "execute_result"
    },
    {
     "data": {
      "text/plain": [
       "'Pimavanserin (Nuplazid™) for the treatment of Parkinson disease psychosis: A review of the literature.'"
      ]
     },
     "execution_count": 6,
     "metadata": {},
     "output_type": "execute_result"
    },
    {
     "data": {
      "text/plain": [
       "'Drug-induced parkinsonism: A case report.'"
      ]
     },
     "execution_count": 6,
     "metadata": {},
     "output_type": "execute_result"
    },
    {
     "data": {
      "text/plain": [
       "'Evidence for the use of \"medical marijuana\" in psychiatric and neurologic disorders.'"
      ]
     },
     "execution_count": 6,
     "metadata": {},
     "output_type": "execute_result"
    },
    {
     "data": {
      "text/plain": [
       "'Interaction between Monoamine Oxidase B Inhibitors and Selective Serotonin Reuptake Inhibitors.'"
      ]
     },
     "execution_count": 6,
     "metadata": {},
     "output_type": "execute_result"
    },
    {
     "data": {
      "text/plain": [
       "'Comparative Study of MRI Biomarkers in the Substantia Nigra to Discriminate Idiopathic Parkinson Disease.'"
      ]
     },
     "execution_count": 6,
     "metadata": {},
     "output_type": "execute_result"
    },
    {
     "data": {
      "text/plain": [
       "\"Visual hallucinations in dementia and Parkinson's disease: A qualitative exploration of patient and caregiver experiences.\""
      ]
     },
     "execution_count": 6,
     "metadata": {},
     "output_type": "execute_result"
    },
    {
     "data": {
      "text/plain": [
       "'Therapy With Mesenchymal Stem Cells in Parkinson Disease: History and Perspectives.'"
      ]
     },
     "execution_count": 6,
     "metadata": {},
     "output_type": "execute_result"
    },
    {
     "data": {
      "text/plain": [
       "'Level of uric acid and uric acid/creatinine ratios in correlation with stage of Parkinson disease.'"
      ]
     },
     "execution_count": 6,
     "metadata": {},
     "output_type": "execute_result"
    },
    {
     "data": {
      "text/plain": [
       "'Improvement During Inpatient Rehabilitation Among Older Adults with Guillain-Barré Syndrome, Multiple Sclerosis, Parkinson Disease, and Stroke.'"
      ]
     },
     "execution_count": 6,
     "metadata": {},
     "output_type": "execute_result"
    },
    {
     "data": {
      "text/plain": [
       "\"Longitudinal white matter microstructural change in Parkinson's disease.\""
      ]
     },
     "execution_count": 6,
     "metadata": {},
     "output_type": "execute_result"
    },
    {
     "data": {
      "text/plain": [
       "\"Cognitive impairment in Parkinson's disease: a report from a multidisciplinary symposium on unmet needs and future directions to maintain cognitive health.\""
      ]
     },
     "execution_count": 6,
     "metadata": {},
     "output_type": "execute_result"
    },
    {
     "data": {
      "text/plain": [
       "'Closed- and Open-loop Deep Brain Stimulation: Methods, Challenges, Current and Future Aspects.'"
      ]
     },
     "execution_count": 6,
     "metadata": {},
     "output_type": "execute_result"
    },
    {
     "data": {
      "text/plain": [
       "\"Alzheimer 's Disease: Possible Mechanisms Behind Neurohormesis Induced by Exposure to Low Doses of Ionizing Radiation.\""
      ]
     },
     "execution_count": 6,
     "metadata": {},
     "output_type": "execute_result"
    },
    {
     "data": {
      "text/plain": [
       "\"Apathy following Bilateral Deep Brain Stimulation of Subthalamic Nucleus in Parkinson's Disease: A Meta-Analysis.\""
      ]
     },
     "execution_count": 6,
     "metadata": {},
     "output_type": "execute_result"
    },
    {
     "data": {
      "text/plain": [
       "'Rating Scales for Movement Disorders With Sleep Disturbances: A Narrative Review.'"
      ]
     },
     "execution_count": 6,
     "metadata": {},
     "output_type": "execute_result"
    },
    {
     "data": {
      "text/plain": [
       "\"Osteoarthritis Increases Paresthestic and Akathisic Pain, Anxiety Case-ness, and Depression Severity in Patients With Parkinson's Disease.\""
      ]
     },
     "execution_count": 6,
     "metadata": {},
     "output_type": "execute_result"
    }
   ],
   "source": [
    "# loop through journals to print titles\n",
    "for i in range(0,20):\n",
    "    journals[i].text.strip()"
   ]
  },
  {
   "cell_type": "markdown",
   "metadata": {},
   "source": [
    "### Set main url to concat with pubmed ids"
   ]
  },
  {
   "cell_type": "code",
   "execution_count": 7,
   "metadata": {
    "scrolled": false
   },
   "outputs": [
    {
     "name": "stdout",
     "output_type": "stream",
     "text": [
      "https://www.ncbi.nlm.nih.gov/pubmed/\n"
     ]
    }
   ],
   "source": [
    "# set the main url that we will concatanate with the pubmed id\n",
    "main_url = 'https://www.ncbi.nlm.nih.gov/pubmed/'\n",
    "print(main_url)"
   ]
  },
  {
   "cell_type": "code",
   "execution_count": 8,
   "metadata": {},
   "outputs": [],
   "source": [
    "# set empty links_all list to append to \n",
    "links_all = []\n",
    "\n",
    "# set pubmed ids list to append to\n",
    "pubmed_ids = []\n",
    "\n",
    "# set empty list to append scrape_links to\n",
    "scrape_links = []\n",
    "\n",
    "\n",
    "# function to get links\n",
    "def get_links(main_url):\n",
    "    \n",
    "    links = soup.find_all(\"p\",attrs={'class':'links'})\n",
    "    links.pop(0)\n",
    "    \n",
    "    # testing to see how my links / journals to scrape\n",
    "    articles_to_scrape = len(links)\n",
    "    print(f\"There are {articles_to_scrape} articles to scrape.\")\n",
    "    print(\"----------------------------------------------\")\n",
    "    \n",
    "    # loop through links to convert to string\n",
    "    for i in range (len(links)):\n",
    "        links_all.append(str(links[i]))\n",
    "        print(links[i])\n",
    "        print(\"----------------------------------------------\")\n",
    "        \n",
    "    # slice through links_all to test\n",
    "    len(links_all)\n",
    "    links_all[1]\n",
    "    \n",
    "    # loop through links all and use regex to grab the id numbers\n",
    "    for i in range (len(links_all)):\n",
    "        pubmed_ids.append(re.findall(r'\\d{8}',links_all[i]))\n",
    "    \n",
    "    # print out info for pubmed_ids\n",
    "    len(pubmed_ids)\n",
    "    type(pubmed_ids)\n",
    "    print(pubmed_ids)\n",
    "    \n",
    "    # use itertools to transform pubmed ids from an array withn an array into one list\n",
    "    import itertools\n",
    "    pubmed_merged = list(itertools.chain.from_iterable(pubmed_ids))\n",
    "    \n",
    "    # slice through pubmed_merged to see what itertools did\n",
    "    pubmed_merged[0]\n",
    "    \n",
    "    # concat main_url with a slice of pubmed_merged before we loop\n",
    "    print(main_url + str(pubmed_merged[0]))\n",
    "    \n",
    "    # append merged links to links_all\n",
    "    for i in range (len(pubmed_merged)):\n",
    "        scrape_links.append(main_url + str(pubmed_merged[i]))\n",
    "    \n",
    "    # print out links_all\n",
    "    for i in scrape_links:\n",
    "        print(i)\n",
    "    \n",
    "    # return links_all\n",
    "    return scrape_links   "
   ]
  },
  {
   "cell_type": "code",
   "execution_count": 9,
   "metadata": {
    "scrolled": false
   },
   "outputs": [
    {
     "name": "stdout",
     "output_type": "stream",
     "text": [
      "There are 19 articles to scrape.\n",
      "----------------------------------------------\n",
      "<p class=\"links nohighlight\"><a href=\"/pubmed?linkname=pubmed_pubmed&amp;from_uid=29955824\" ref=\"ordinalpos=2\">Similar articles</a> </p>\n",
      "----------------------------------------------\n",
      "<p class=\"links nohighlight\"><a href=\"/pubmed?linkname=pubmed_pubmed&amp;from_uid=29955562\" ref=\"ordinalpos=3\">Similar articles</a> </p>\n",
      "----------------------------------------------\n",
      "<p class=\"links nohighlight\"><a href=\"/pubmed?linkname=pubmed_pubmed&amp;from_uid=29955532\" ref=\"ordinalpos=4\">Similar articles</a> </p>\n",
      "----------------------------------------------\n",
      "<p class=\"links nohighlight\"><a href=\"/pubmed?linkname=pubmed_pubmed&amp;from_uid=29955528\" ref=\"ordinalpos=5\">Similar articles</a> </p>\n",
      "----------------------------------------------\n",
      "<p class=\"links nohighlight\"><a href=\"/pubmed?linkname=pubmed_pubmed&amp;from_uid=29955500\" ref=\"ordinalpos=6\">Similar articles</a> </p>\n",
      "----------------------------------------------\n",
      "<p class=\"links nohighlight\"><a href=\"/pubmed?linkname=pubmed_pubmed&amp;from_uid=29955495\" ref=\"ordinalpos=7\">Similar articles</a> </p>\n",
      "----------------------------------------------\n",
      "<p class=\"links nohighlight\"><a href=\"/pubmed?linkname=pubmed_pubmed&amp;from_uid=29955193\" ref=\"ordinalpos=8\">Similar articles</a> </p>\n",
      "----------------------------------------------\n",
      "<p class=\"links nohighlight\"><a href=\"/pubmed?linkname=pubmed_pubmed&amp;from_uid=29954816\" ref=\"ordinalpos=9\">Similar articles</a> </p>\n",
      "----------------------------------------------\n",
      "<p class=\"links nohighlight\"><a href=\"/pubmed?linkname=pubmed_pubmed&amp;from_uid=29953689\" ref=\"ordinalpos=10\">Similar articles</a> </p>\n",
      "----------------------------------------------\n",
      "<p class=\"links nohighlight\"><a href=\"/pubmed?linkname=pubmed_pubmed&amp;from_uid=29953040\" ref=\"ordinalpos=11\">Similar articles</a> </p>\n",
      "----------------------------------------------\n",
      "<p class=\"links nohighlight\"><a href=\"/pubmed?linkname=pubmed_pubmed&amp;from_uid=29952939\" ref=\"ordinalpos=12\">Similar articles</a> </p>\n",
      "----------------------------------------------\n",
      "<p class=\"links nohighlight\"><a href=\"/pubmed?linkname=pubmed_pubmed&amp;from_uid=29952780\" ref=\"ordinalpos=13\">Similar articles</a> </p>\n",
      "----------------------------------------------\n",
      "<p class=\"links nohighlight\"><a href=\"/pubmed?linkname=pubmed_pubmed&amp;from_uid=29952102\" ref=\"ordinalpos=14\">Similar articles</a> </p>\n",
      "----------------------------------------------\n",
      "<p class=\"links nohighlight\"><a href=\"/pubmed?linkname=pubmed_pubmed&amp;from_uid=29951580\" ref=\"ordinalpos=15\">Similar articles</a> </p>\n",
      "----------------------------------------------\n",
      "<p class=\"links nohighlight\"><a href=\"/pubmed?linkname=pubmed_pubmed&amp;from_uid=29951448\" ref=\"ordinalpos=16\">Similar articles</a> </p>\n",
      "----------------------------------------------\n",
      "<p class=\"links nohighlight\"><a href=\"/pubmed?linkname=pubmed_pubmed&amp;from_uid=29951441\" ref=\"ordinalpos=17\">Similar articles</a> </p>\n",
      "----------------------------------------------\n",
      "<p class=\"links nohighlight\"><a href=\"/pubmed?linkname=pubmed_pubmed&amp;from_uid=29951186\" ref=\"ordinalpos=18\">Similar articles</a> </p>\n",
      "----------------------------------------------\n",
      "<p class=\"links nohighlight\"><a href=\"/pubmed?linkname=pubmed_pubmed&amp;from_uid=29951032\" ref=\"ordinalpos=19\">Similar articles</a> </p>\n",
      "----------------------------------------------\n",
      "<p class=\"links nohighlight\"><a href=\"/pubmed?linkname=pubmed_pubmed&amp;from_uid=29951029\" ref=\"ordinalpos=20\">Similar articles</a> </p>\n",
      "----------------------------------------------\n",
      "[['29955824'], ['29955562'], ['29955532'], ['29955528'], ['29955500'], ['29955495'], ['29955193'], ['29954816'], ['29953689'], ['29953040'], ['29952939'], ['29952780'], ['29952102'], ['29951580'], ['29951448'], ['29951441'], ['29951186'], ['29951032'], ['29951029']]\n",
      "https://www.ncbi.nlm.nih.gov/pubmed/29955824\n",
      "https://www.ncbi.nlm.nih.gov/pubmed/29955824\n",
      "https://www.ncbi.nlm.nih.gov/pubmed/29955562\n",
      "https://www.ncbi.nlm.nih.gov/pubmed/29955532\n",
      "https://www.ncbi.nlm.nih.gov/pubmed/29955528\n",
      "https://www.ncbi.nlm.nih.gov/pubmed/29955500\n",
      "https://www.ncbi.nlm.nih.gov/pubmed/29955495\n",
      "https://www.ncbi.nlm.nih.gov/pubmed/29955193\n",
      "https://www.ncbi.nlm.nih.gov/pubmed/29954816\n",
      "https://www.ncbi.nlm.nih.gov/pubmed/29953689\n",
      "https://www.ncbi.nlm.nih.gov/pubmed/29953040\n",
      "https://www.ncbi.nlm.nih.gov/pubmed/29952939\n",
      "https://www.ncbi.nlm.nih.gov/pubmed/29952780\n",
      "https://www.ncbi.nlm.nih.gov/pubmed/29952102\n",
      "https://www.ncbi.nlm.nih.gov/pubmed/29951580\n",
      "https://www.ncbi.nlm.nih.gov/pubmed/29951448\n",
      "https://www.ncbi.nlm.nih.gov/pubmed/29951441\n",
      "https://www.ncbi.nlm.nih.gov/pubmed/29951186\n",
      "https://www.ncbi.nlm.nih.gov/pubmed/29951032\n",
      "https://www.ncbi.nlm.nih.gov/pubmed/29951029\n"
     ]
    },
    {
     "data": {
      "text/plain": [
       "['https://www.ncbi.nlm.nih.gov/pubmed/29955824',\n",
       " 'https://www.ncbi.nlm.nih.gov/pubmed/29955562',\n",
       " 'https://www.ncbi.nlm.nih.gov/pubmed/29955532',\n",
       " 'https://www.ncbi.nlm.nih.gov/pubmed/29955528',\n",
       " 'https://www.ncbi.nlm.nih.gov/pubmed/29955500',\n",
       " 'https://www.ncbi.nlm.nih.gov/pubmed/29955495',\n",
       " 'https://www.ncbi.nlm.nih.gov/pubmed/29955193',\n",
       " 'https://www.ncbi.nlm.nih.gov/pubmed/29954816',\n",
       " 'https://www.ncbi.nlm.nih.gov/pubmed/29953689',\n",
       " 'https://www.ncbi.nlm.nih.gov/pubmed/29953040',\n",
       " 'https://www.ncbi.nlm.nih.gov/pubmed/29952939',\n",
       " 'https://www.ncbi.nlm.nih.gov/pubmed/29952780',\n",
       " 'https://www.ncbi.nlm.nih.gov/pubmed/29952102',\n",
       " 'https://www.ncbi.nlm.nih.gov/pubmed/29951580',\n",
       " 'https://www.ncbi.nlm.nih.gov/pubmed/29951448',\n",
       " 'https://www.ncbi.nlm.nih.gov/pubmed/29951441',\n",
       " 'https://www.ncbi.nlm.nih.gov/pubmed/29951186',\n",
       " 'https://www.ncbi.nlm.nih.gov/pubmed/29951032',\n",
       " 'https://www.ncbi.nlm.nih.gov/pubmed/29951029']"
      ]
     },
     "execution_count": 9,
     "metadata": {},
     "output_type": "execute_result"
    }
   ],
   "source": [
    "get_links(main_url)"
   ]
  },
  {
   "cell_type": "markdown",
   "metadata": {},
   "source": [
    "## Main array of links to scrape:\n",
    "\n",
    "Here we use selenium to iterate through these links. Seleium will click on each link then scrape the title and abstracts on each page. "
   ]
  },
  {
   "cell_type": "code",
   "execution_count": 10,
   "metadata": {},
   "outputs": [
    {
     "name": "stdout",
     "output_type": "stream",
     "text": [
      "https://www.ncbi.nlm.nih.gov/pubmed/29955824\n",
      "https://www.ncbi.nlm.nih.gov/pubmed/29955562\n",
      "https://www.ncbi.nlm.nih.gov/pubmed/29955532\n",
      "https://www.ncbi.nlm.nih.gov/pubmed/29955528\n",
      "https://www.ncbi.nlm.nih.gov/pubmed/29955500\n",
      "https://www.ncbi.nlm.nih.gov/pubmed/29955495\n",
      "https://www.ncbi.nlm.nih.gov/pubmed/29955193\n",
      "https://www.ncbi.nlm.nih.gov/pubmed/29954816\n",
      "https://www.ncbi.nlm.nih.gov/pubmed/29953689\n",
      "https://www.ncbi.nlm.nih.gov/pubmed/29953040\n",
      "https://www.ncbi.nlm.nih.gov/pubmed/29952939\n",
      "https://www.ncbi.nlm.nih.gov/pubmed/29952780\n",
      "https://www.ncbi.nlm.nih.gov/pubmed/29952102\n",
      "https://www.ncbi.nlm.nih.gov/pubmed/29951580\n",
      "https://www.ncbi.nlm.nih.gov/pubmed/29951448\n",
      "https://www.ncbi.nlm.nih.gov/pubmed/29951441\n",
      "https://www.ncbi.nlm.nih.gov/pubmed/29951186\n",
      "https://www.ncbi.nlm.nih.gov/pubmed/29951032\n",
      "https://www.ncbi.nlm.nih.gov/pubmed/29951029\n"
     ]
    }
   ],
   "source": [
    "# testing scrape_links\n",
    "for i in scrape_links:\n",
    "    print(i)"
   ]
  },
  {
   "cell_type": "markdown",
   "metadata": {},
   "source": [
    "### OLD SCRIPT - DONT RUN ###\n",
    "***The following is nested inside the function above***"
   ]
  },
  {
   "cell_type": "code",
   "execution_count": 11,
   "metadata": {},
   "outputs": [],
   "source": [
    "# # scrape journal links, delete first link\n",
    "# links = soup.find_all(\"p\",attrs={'class':'links'})\n",
    "# links.pop(0)\n",
    "\n",
    "# # testing to see how my links / journals to scrape\n",
    "# print(len(links))\n",
    "\n",
    "# # set empty array to append all links to\n",
    "# links_all = []\n",
    "\n",
    "# # loop through links to convert to string\n",
    "# for i in range (0,19):\n",
    "#     links_all.append(str(links[i]))\n",
    "#     print(links[i])\n",
    "#     print(\"----------------------------------------------\")\n",
    "\n",
    "# # slice through links_all to test\n",
    "# len(links_all)\n",
    "# links_all[1]\n",
    "\n",
    "# # create empty list to append pubmed_ids to\n",
    "# pubmed_ids = []\n",
    "\n",
    "# # loop through links all and use regex to grab the id numbers\n",
    "# for i in range (len(links_all)):\n",
    "#     pubmed_ids.append(re.findall(r'\\d{8}',links_all[i]))\n",
    "\n",
    "# # print out info for pubmed_ids\n",
    "# len(pubmed_ids)\n",
    "# type(pubmed_ids)\n",
    "# print(pubmed_ids)\n",
    "\n",
    "# # use itertools to transform pubmed ids from an array withn an array into one list\n",
    "# import itertools\n",
    "# pubmed_merged = list(itertools.chain.from_iterable(pubmed_ids))\n",
    "\n",
    "# # slice through pubmed_merged to see what itertools did\n",
    "# pubmed_merged[0]\n",
    "\n",
    "# # concat main_url with a slice of pubmed_merged before we loop\n",
    "# print(main_url + str(pubmed_merged[0]))\n",
    "\n",
    "# links_all = []\n",
    "\n",
    "# for i in range (len(pubmed_merged)):\n",
    "#     links_all.append(main_url + str(pubmed_merged[i]))"
   ]
  },
  {
   "cell_type": "markdown",
   "metadata": {},
   "source": [
    "## END OF OLD SCRIPT\n",
    "<br>\n",
    "<br>"
   ]
  },
  {
   "cell_type": "markdown",
   "metadata": {},
   "source": [
    "## Regex Notes"
   ]
  },
  {
   "cell_type": "code",
   "execution_count": 12,
   "metadata": {
    "collapsed": true
   },
   "outputs": [],
   "source": [
    "# Regex\n",
    "# Identifiers:\n",
    "# \\d any number\n",
    "# \\D anything but a number\n",
    "# \\s space\n",
    "# \\S anything but a space\n",
    "# \\w any character\n",
    "# \\W anything but a character\n",
    "# . any character, except for a newline\n",
    "# \\b the whitespace around words\n",
    "# \\. a period\n",
    "\n",
    "# Modifiers:\n",
    "# {1,3} we're expecting 1-3 \\d{1-3}\n",
    "# + Match 1 or more\n",
    "# ? Match 0 or more\n",
    "# * Match 0 or more\n",
    "# $ Match the end of a string\n",
    "# ^ matching the beginning of a string\n",
    "# | either or\n",
    "# [] range or \"variance\" [A-Za-z] [1-5a-qA-Z]\n",
    "# {x} expecting \"x\" amount\n",
    "\n",
    "# White Space Characters: \n",
    "# \\n new line\n",
    "# \\s space\n",
    "# \\t tab\n",
    "# \\e escape\n",
    "# \\f form feed\n",
    "# \\r return\n",
    "\n",
    "# DONT FORGET!:\n",
    "# . + * [] $ ^ () {} | \\"
   ]
  },
  {
   "cell_type": "markdown",
   "metadata": {
    "collapsed": true
   },
   "source": [
    "## Selenium\n",
    "**Web Browser Automation**"
   ]
  },
  {
   "cell_type": "code",
   "execution_count": 13,
   "metadata": {
    "collapsed": true
   },
   "outputs": [],
   "source": [
    "from splinter import Browser\n",
    "from selenium import webdriver"
   ]
  },
  {
   "cell_type": "code",
   "execution_count": 14,
   "metadata": {
    "collapsed": true
   },
   "outputs": [],
   "source": [
    "# make sure chrome browser exe is in current directory\n",
    "# chrome browser exe is not necessary for MACS\n",
    "executable_path = {'executable_path': 'chromedriver'}"
   ]
  },
  {
   "cell_type": "code",
   "execution_count": 15,
   "metadata": {
    "collapsed": true
   },
   "outputs": [],
   "source": [
    "# test with one link\n",
    "# hard code article_one\n",
    "article_one = \"https://www.ncbi.nlm.nih.gov/pubmed/29953040\""
   ]
  },
  {
   "cell_type": "code",
   "execution_count": 16,
   "metadata": {
    "collapsed": true
   },
   "outputs": [],
   "source": [
    "browser = Browser('chrome', headless=False)\n",
    "html = browser.html\n",
    "response2 = requests.get(article_one)\n",
    "soup2 = bs(response2.text, 'html.parser')"
   ]
  },
  {
   "cell_type": "code",
   "execution_count": 17,
   "metadata": {
    "collapsed": true
   },
   "outputs": [],
   "source": [
    "browser.visit(article_one)"
   ]
  },
  {
   "cell_type": "code",
   "execution_count": 18,
   "metadata": {
    "collapsed": true
   },
   "outputs": [],
   "source": [
    "# scrapes both article title and abstract\n",
    "test5 = soup2.find(\"div\", attrs={'class': 'rprt_all'}).text.strip()"
   ]
  },
  {
   "cell_type": "code",
   "execution_count": 19,
   "metadata": {
    "collapsed": true
   },
   "outputs": [],
   "source": [
    "# there are two 'h1' tags on this page. slice out index 0\n",
    "title_one = soup2.find_all('h1')"
   ]
  },
  {
   "cell_type": "markdown",
   "metadata": {},
   "source": [
    "## Article Title"
   ]
  },
  {
   "cell_type": "code",
   "execution_count": 20,
   "metadata": {},
   "outputs": [
    {
     "data": {
      "text/plain": [
       "'Therapy With Mesenchymal Stem Cells in Parkinson Disease: History and Perspectives.'"
      ]
     },
     "execution_count": 20,
     "metadata": {},
     "output_type": "execute_result"
    }
   ],
   "source": [
    "article_one_title = title_one[1].text.strip()\n",
    "article_one_title"
   ]
  },
  {
   "cell_type": "code",
   "execution_count": 21,
   "metadata": {
    "collapsed": true
   },
   "outputs": [],
   "source": [
    "# grabs the entire abstracted nested with the <p> tag\n",
    "text_main = soup2.find_all('p')"
   ]
  },
  {
   "cell_type": "markdown",
   "metadata": {},
   "source": [
    "## Abstract"
   ]
  },
  {
   "cell_type": "code",
   "execution_count": 22,
   "metadata": {},
   "outputs": [
    {
     "data": {
      "text/plain": [
       "'Parkinson disease (PD) is a neurodegenerative disorder affecting the basal nuclei, causing motor and cognitive disorders. Bearing in mind that standard treatments are ineffective in delaying the disease progression, alternative treatments capable of eliminating symptoms and reversing the clinical condition have been sought. Possible alternative treatments include cell therapy, especially with the use of mesenchymal stem cells (MSC).'"
      ]
     },
     "execution_count": 22,
     "metadata": {},
     "output_type": "execute_result"
    }
   ],
   "source": [
    "abstract = text_main[9].text.strip()\n",
    "abstract"
   ]
  },
  {
   "cell_type": "markdown",
   "metadata": {},
   "source": [
    "## Review Summary"
   ]
  },
  {
   "cell_type": "code",
   "execution_count": 23,
   "metadata": {},
   "outputs": [
    {
     "data": {
      "text/plain": [
       "'MSC are adult stem cells which have demonstrated remarkable therapeutic power in parkinsonian animals due to their differentiation competence, migratory capacity and the production of bioactive molecules. This review aims to analyze the main studies involving MSC and PD in more than a decade of studies, addressing their different methodologies and common characteristics, as well as suggesting perspectives on the application of MSC in PD.'"
      ]
     },
     "execution_count": 23,
     "metadata": {},
     "output_type": "execute_result"
    }
   ],
   "source": [
    "review_summary = text_main[10].text.strip()\n",
    "review_summary"
   ]
  },
  {
   "cell_type": "markdown",
   "metadata": {},
   "source": [
    "## Conclusion"
   ]
  },
  {
   "cell_type": "code",
   "execution_count": 24,
   "metadata": {
    "scrolled": true
   },
   "outputs": [
    {
     "data": {
      "text/plain": [
       "'The results of MSC therapy in animal models and some clinical trials suggest that such cellular therapy may slow the progression of PD and promote neuroregeneration. However, further research is needed to address the limitations of an eventual clinical application.'"
      ]
     },
     "execution_count": 24,
     "metadata": {},
     "output_type": "execute_result"
    }
   ],
   "source": [
    "conclusion = text_main[11].text.strip()\n",
    "conclusion"
   ]
  },
  {
   "cell_type": "code",
   "execution_count": null,
   "metadata": {
    "collapsed": true
   },
   "outputs": [],
   "source": []
  }
 ],
 "metadata": {
  "kernelspec": {
   "display_name": "Python 3",
   "language": "python",
   "name": "python3"
  },
  "language_info": {
   "codemirror_mode": {
    "name": "ipython",
    "version": 3
   },
   "file_extension": ".py",
   "mimetype": "text/x-python",
   "name": "python",
   "nbconvert_exporter": "python",
   "pygments_lexer": "ipython3",
   "version": "3.6.4"
  }
 },
 "nbformat": 4,
 "nbformat_minor": 2
}
