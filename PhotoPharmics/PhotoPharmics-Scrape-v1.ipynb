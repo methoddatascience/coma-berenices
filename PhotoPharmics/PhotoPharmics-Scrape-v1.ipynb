{
 "cells": [
  {
   "cell_type": "markdown",
   "metadata": {},
   "source": [
    "## Pub Med Scraper"
   ]
  },
  {
   "cell_type": "code",
   "execution_count": 1,
   "metadata": {
    "collapsed": true
   },
   "outputs": [],
   "source": [
    "# scrape dependencies\n",
    "import requests\n",
    "import re\n",
    "from bs4 import BeautifulSoup as bs\n",
    "\n",
    "# data analysis dependencies\n",
    "import pandas as pd\n",
    "import numpy as np\n",
    "import csv\n",
    "\n",
    "# ipynb dependencies\n",
    "from IPython.core.interactiveshell import InteractiveShell\n",
    "InteractiveShell.ast_node_interactivity = \"all\"\n",
    "import warnings\n",
    "warnings.filterwarnings('ignore')\n",
    "\n",
    "# viz dependencies\n",
    "%matplotlib inline\n",
    "import matplotlib.pyplot as plt\n",
    "import seaborn as sns\n",
    "plt.style.use('fivethirtyeight')\n",
    "\n",
    "import datetime as dt\n",
    "import time"
   ]
  },
  {
   "cell_type": "code",
   "execution_count": 2,
   "metadata": {},
   "outputs": [
    {
     "name": "stdout",
     "output_type": "stream",
     "text": [
      "https://www.ncbi.nlm.nih.gov/pubmed/?term=parkinsons+disease\n"
     ]
    }
   ],
   "source": [
    "# set the url to scrape\n",
    "url = 'https://www.ncbi.nlm.nih.gov/pubmed/?term=parkinsons+disease'\n",
    "print(url)"
   ]
  },
  {
   "cell_type": "code",
   "execution_count": 3,
   "metadata": {
    "collapsed": true
   },
   "outputs": [],
   "source": [
    "# set up beautiful soup to scrape\n",
    "response = requests.get(url)\n",
    "soup = bs(response.text, 'html.parser')"
   ]
  },
  {
   "cell_type": "code",
   "execution_count": 4,
   "metadata": {
    "collapsed": true
   },
   "outputs": [],
   "source": [
    "# lets scrape the article titles\n",
    "journals = soup.find_all(\"p\", attrs={'class':'title'})"
   ]
  },
  {
   "cell_type": "code",
   "execution_count": 5,
   "metadata": {},
   "outputs": [
    {
     "name": "stdout",
     "output_type": "stream",
     "text": [
      "There are 20 journals to scrape on the first page.\n"
     ]
    }
   ],
   "source": [
    "# searching for the journal titles\n",
    "journals_len = len(journals)\n",
    "print(f\"There are {journals_len} journals to scrape on the first page.\")"
   ]
  },
  {
   "cell_type": "code",
   "execution_count": 6,
   "metadata": {},
   "outputs": [
    {
     "data": {
      "text/plain": [
       "\"Visual hallucinations in dementia and Parkinson's disease: A qualitative exploration of patient and caregiver experiences.\""
      ]
     },
     "execution_count": 6,
     "metadata": {},
     "output_type": "execute_result"
    },
    {
     "data": {
      "text/plain": [
       "'Therapy With Mesenchymal Stem Cells in Parkinson Disease: History and Perspectives.'"
      ]
     },
     "execution_count": 6,
     "metadata": {},
     "output_type": "execute_result"
    },
    {
     "data": {
      "text/plain": [
       "'Level of uric acid and uric acid/creatinine ratios in correlation with stage of Parkinson disease.'"
      ]
     },
     "execution_count": 6,
     "metadata": {},
     "output_type": "execute_result"
    },
    {
     "data": {
      "text/plain": [
       "'Improvement During Inpatient Rehabilitation Among Older Adults with Guillain-Barré Syndrome, Multiple Sclerosis, Parkinson Disease, and Stroke.'"
      ]
     },
     "execution_count": 6,
     "metadata": {},
     "output_type": "execute_result"
    },
    {
     "data": {
      "text/plain": [
       "\"Longitudinal white matter microstructural change in Parkinson's disease.\""
      ]
     },
     "execution_count": 6,
     "metadata": {},
     "output_type": "execute_result"
    },
    {
     "data": {
      "text/plain": [
       "\"Cognitive impairment in Parkinson's disease: a report from a multidisciplinary symposium on unmet needs and future directions to maintain cognitive health.\""
      ]
     },
     "execution_count": 6,
     "metadata": {},
     "output_type": "execute_result"
    },
    {
     "data": {
      "text/plain": [
       "'Closed- and Open-loop Deep Brain Stimulation: Methods, Challenges, Current and Future Aspects.'"
      ]
     },
     "execution_count": 6,
     "metadata": {},
     "output_type": "execute_result"
    },
    {
     "data": {
      "text/plain": [
       "\"Alzheimer 's Disease: Possible Mechanisms Behind Neurohormesis Induced by Exposure to Low Doses of Ionizing Radiation.\""
      ]
     },
     "execution_count": 6,
     "metadata": {},
     "output_type": "execute_result"
    },
    {
     "data": {
      "text/plain": [
       "\"Apathy following Bilateral Deep Brain Stimulation of Subthalamic Nucleus in Parkinson's Disease: A Meta-Analysis.\""
      ]
     },
     "execution_count": 6,
     "metadata": {},
     "output_type": "execute_result"
    },
    {
     "data": {
      "text/plain": [
       "'Rating Scales for Movement Disorders With Sleep Disturbances: A Narrative Review.'"
      ]
     },
     "execution_count": 6,
     "metadata": {},
     "output_type": "execute_result"
    },
    {
     "data": {
      "text/plain": [
       "\"Osteoarthritis Increases Paresthestic and Akathisic Pain, Anxiety Case-ness, and Depression Severity in Patients With Parkinson's Disease.\""
      ]
     },
     "execution_count": 6,
     "metadata": {},
     "output_type": "execute_result"
    },
    {
     "data": {
      "text/plain": [
       "'Now is the Critical Time for Engineered Neuroplasticity.'"
      ]
     },
     "execution_count": 6,
     "metadata": {},
     "output_type": "execute_result"
    },
    {
     "data": {
      "text/plain": [
       "\"Episodic memory decline in Parkinson' s disease: relation with white matter hyperintense lesions and influence of quantification method.\""
      ]
     },
     "execution_count": 6,
     "metadata": {},
     "output_type": "execute_result"
    },
    {
     "data": {
      "text/plain": [
       "\"Blunted Cardiovascular Responses to Exercise in Parkinson's disease Patients: Role of the Muscle Metaboreflex.\""
      ]
     },
     "execution_count": 6,
     "metadata": {},
     "output_type": "execute_result"
    },
    {
     "data": {
      "text/plain": [
       "'Age- and disease-dependent increase of the mitophagy marker phospho-ubiquitin in normal aging and Lewy body disease.'"
      ]
     },
     "execution_count": 6,
     "metadata": {},
     "output_type": "execute_result"
    },
    {
     "data": {
      "text/plain": [
       "\"Inflammation and fatigue in early, untreated Parkinson's Disease.\""
      ]
     },
     "execution_count": 6,
     "metadata": {},
     "output_type": "execute_result"
    },
    {
     "data": {
      "text/plain": [
       "'Association of Retinal Neurodegeneration on Optical Coherence Tomography With Dementia: A Population-Based Study.'"
      ]
     },
     "execution_count": 6,
     "metadata": {},
     "output_type": "execute_result"
    },
    {
     "data": {
      "text/plain": [
       "'Effects of Deep Brain Stimulation on Eye Movements and Vestibular Function.'"
      ]
     },
     "execution_count": 6,
     "metadata": {},
     "output_type": "execute_result"
    },
    {
     "data": {
      "text/plain": [
       "\"Virtual research visits and direct-to-consumer genetic testing in Parkinson's disease.\""
      ]
     },
     "execution_count": 6,
     "metadata": {},
     "output_type": "execute_result"
    },
    {
     "data": {
      "text/plain": [
       "'[Status and development of the role as Parkinson Nurse in Germany - an online survey].'"
      ]
     },
     "execution_count": 6,
     "metadata": {},
     "output_type": "execute_result"
    }
   ],
   "source": [
    "# loop through journals to print titles\n",
    "for i in range(0,20):\n",
    "    journals[i].text.strip()"
   ]
  },
  {
   "cell_type": "markdown",
   "metadata": {},
   "source": [
    "### Set main url to concat with pubmed ids"
   ]
  },
  {
   "cell_type": "code",
   "execution_count": 7,
   "metadata": {
    "scrolled": false
   },
   "outputs": [
    {
     "name": "stdout",
     "output_type": "stream",
     "text": [
      "https://www.ncbi.nlm.nih.gov/pubmed/\n"
     ]
    }
   ],
   "source": [
    "# set the main url that we will concatanate with the pubmed id\n",
    "main_url = 'https://www.ncbi.nlm.nih.gov/pubmed/'\n",
    "print(main_url)"
   ]
  },
  {
   "cell_type": "code",
   "execution_count": 8,
   "metadata": {},
   "outputs": [
    {
     "data": {
      "text/plain": [
       "<p class=\"links nohighlight\"><a href=\"/pubmed?linkname=pubmed_pubmed&amp;from_uid=29953689\" ref=\"ordinalpos=1\">Similar articles</a> </p>"
      ]
     },
     "execution_count": 8,
     "metadata": {},
     "output_type": "execute_result"
    }
   ],
   "source": [
    "# scrape journal links, delete first link\n",
    "links = soup.find_all(\"p\",attrs={'class':'links'})\n",
    "links.pop(0)"
   ]
  },
  {
   "cell_type": "code",
   "execution_count": 9,
   "metadata": {},
   "outputs": [
    {
     "name": "stdout",
     "output_type": "stream",
     "text": [
      "19\n"
     ]
    }
   ],
   "source": [
    "# testing to see how my links / journals to scrape\n",
    "print(len(links))"
   ]
  },
  {
   "cell_type": "code",
   "execution_count": 10,
   "metadata": {},
   "outputs": [
    {
     "name": "stdout",
     "output_type": "stream",
     "text": [
      "<p class=\"links nohighlight\"><a href=\"/pubmed?linkname=pubmed_pubmed&amp;from_uid=29953040\" ref=\"ordinalpos=2\">Similar articles</a> </p>\n",
      "----------------------------------------------\n",
      "<p class=\"links nohighlight\"><a href=\"/pubmed?linkname=pubmed_pubmed&amp;from_uid=29952939\" ref=\"ordinalpos=3\">Similar articles</a> </p>\n",
      "----------------------------------------------\n",
      "<p class=\"links nohighlight\"><a href=\"/pubmed?linkname=pubmed_pubmed&amp;from_uid=29952780\" ref=\"ordinalpos=4\">Similar articles</a> </p>\n",
      "----------------------------------------------\n",
      "<p class=\"links nohighlight\"><a href=\"/pubmed?linkname=pubmed_pubmed&amp;from_uid=29952102\" ref=\"ordinalpos=5\">Similar articles</a> </p>\n",
      "----------------------------------------------\n",
      "<p class=\"links nohighlight\"><a href=\"/pubmed?linkname=pubmed_pubmed&amp;from_uid=29951580\" ref=\"ordinalpos=6\">Similar articles</a> </p>\n",
      "----------------------------------------------\n",
      "<p class=\"links nohighlight\"><a href=\"/pubmed?linkname=pubmed_pubmed&amp;from_uid=29951448\" ref=\"ordinalpos=7\">Similar articles</a> </p>\n",
      "----------------------------------------------\n",
      "<p class=\"links nohighlight\"><a href=\"/pubmed?linkname=pubmed_pubmed&amp;from_uid=29951441\" ref=\"ordinalpos=8\">Similar articles</a> </p>\n",
      "----------------------------------------------\n",
      "<p class=\"links nohighlight\"><a href=\"/pubmed?linkname=pubmed_pubmed&amp;from_uid=29951186\" ref=\"ordinalpos=9\">Similar articles</a> </p>\n",
      "----------------------------------------------\n",
      "<p class=\"links nohighlight\"><a href=\"/pubmed?linkname=pubmed_pubmed&amp;from_uid=29951032\" ref=\"ordinalpos=10\">Similar articles</a> </p>\n",
      "----------------------------------------------\n",
      "<p class=\"links nohighlight\"><a href=\"/pubmed?linkname=pubmed_pubmed&amp;from_uid=29951029\" ref=\"ordinalpos=11\">Similar articles</a> </p>\n",
      "----------------------------------------------\n",
      "<p class=\"links nohighlight\"><a href=\"/pubmed?linkname=pubmed_pubmed&amp;from_uid=29948920\" ref=\"ordinalpos=12\">Similar articles</a> </p>\n",
      "----------------------------------------------\n",
      "<p class=\"links nohighlight\"><a href=\"/pubmed?linkname=pubmed_pubmed&amp;from_uid=29948903\" ref=\"ordinalpos=13\">Similar articles</a> </p>\n",
      "----------------------------------------------\n",
      "<p class=\"links nohighlight\"><a href=\"/pubmed?linkname=pubmed_pubmed&amp;from_uid=29947592\" ref=\"ordinalpos=14\">Similar articles</a> </p>\n",
      "----------------------------------------------\n",
      "<p class=\"links nohighlight\"><a href=\"/pubmed?linkname=pubmed_pubmed&amp;from_uid=29947276\" ref=\"ordinalpos=15\">Similar articles</a> </p>\n",
      "----------------------------------------------\n",
      "<p class=\"links nohighlight\"><a href=\"/pubmed?linkname=pubmed_pubmed&amp;from_uid=29947088\" ref=\"ordinalpos=16\">Similar articles</a> </p>\n",
      "----------------------------------------------\n",
      "<p class=\"links nohighlight\"><a href=\"/pubmed?linkname=pubmed_pubmed&amp;from_uid=29946702\" ref=\"ordinalpos=17\">Similar articles</a> </p>\n",
      "----------------------------------------------\n",
      "<p class=\"links nohighlight\"><a href=\"/pubmed?linkname=pubmed_pubmed&amp;from_uid=29946295\" ref=\"ordinalpos=18\">Similar articles</a> </p>\n",
      "----------------------------------------------\n",
      "<p class=\"links nohighlight\"><a href=\"/pubmed?linkname=pubmed_pubmed&amp;from_uid=29942542\" ref=\"ordinalpos=19\">Similar articles</a> </p>\n",
      "----------------------------------------------\n",
      "<p class=\"links nohighlight\"><a href=\"/pubmed?linkname=pubmed_pubmed&amp;from_uid=29944066\" ref=\"ordinalpos=20\">Similar articles</a> </p>\n",
      "----------------------------------------------\n"
     ]
    }
   ],
   "source": [
    "# set empty array to append all links to\n",
    "links_all = []\n",
    "\n",
    "# loop through links to convert to string\n",
    "for i in range (0,19):\n",
    "    links_all.append(str(links[i]))\n",
    "    print(links[i])\n",
    "    print(\"----------------------------------------------\")"
   ]
  },
  {
   "cell_type": "code",
   "execution_count": 11,
   "metadata": {},
   "outputs": [
    {
     "data": {
      "text/plain": [
       "19"
      ]
     },
     "execution_count": 11,
     "metadata": {},
     "output_type": "execute_result"
    },
    {
     "data": {
      "text/plain": [
       "'<p class=\"links nohighlight\"><a href=\"/pubmed?linkname=pubmed_pubmed&amp;from_uid=29952939\" ref=\"ordinalpos=3\">Similar articles</a> </p>'"
      ]
     },
     "execution_count": 11,
     "metadata": {},
     "output_type": "execute_result"
    }
   ],
   "source": [
    "# slice through links_all to test\n",
    "len(links_all)\n",
    "links_all[1]"
   ]
  },
  {
   "cell_type": "code",
   "execution_count": 12,
   "metadata": {
    "collapsed": true
   },
   "outputs": [],
   "source": [
    "# create empty list to append pubmed_ids to\n",
    "pubmed_ids = []\n",
    "\n",
    "# loop through links all and use regex to grab the id numbers\n",
    "for i in range (len(links_all)):\n",
    "    pubmed_ids.append(re.findall(r'\\d{8}',links_all[i]))"
   ]
  },
  {
   "cell_type": "code",
   "execution_count": 13,
   "metadata": {},
   "outputs": [
    {
     "data": {
      "text/plain": [
       "19"
      ]
     },
     "execution_count": 13,
     "metadata": {},
     "output_type": "execute_result"
    },
    {
     "data": {
      "text/plain": [
       "list"
      ]
     },
     "execution_count": 13,
     "metadata": {},
     "output_type": "execute_result"
    },
    {
     "name": "stdout",
     "output_type": "stream",
     "text": [
      "[['29953040'], ['29952939'], ['29952780'], ['29952102'], ['29951580'], ['29951448'], ['29951441'], ['29951186'], ['29951032'], ['29951029'], ['29948920'], ['29948903'], ['29947592'], ['29947276'], ['29947088'], ['29946702'], ['29946295'], ['29942542'], ['29944066']]\n"
     ]
    }
   ],
   "source": [
    "# print out info for pubmed_ids\n",
    "len(pubmed_ids)\n",
    "type(pubmed_ids)\n",
    "print(pubmed_ids)"
   ]
  },
  {
   "cell_type": "code",
   "execution_count": 14,
   "metadata": {
    "collapsed": true
   },
   "outputs": [],
   "source": [
    "# use itertools to transform pubmed ids from an array withn an array into one list\n",
    "import itertools\n",
    "pubmed_merged = list(itertools.chain.from_iterable(pubmed_ids))"
   ]
  },
  {
   "cell_type": "code",
   "execution_count": 15,
   "metadata": {},
   "outputs": [
    {
     "data": {
      "text/plain": [
       "'29953040'"
      ]
     },
     "execution_count": 15,
     "metadata": {},
     "output_type": "execute_result"
    }
   ],
   "source": [
    "# slice through pubmed_merged to see what itertools did\n",
    "pubmed_merged[0]"
   ]
  },
  {
   "cell_type": "code",
   "execution_count": 16,
   "metadata": {
    "scrolled": false
   },
   "outputs": [
    {
     "name": "stdout",
     "output_type": "stream",
     "text": [
      "https://www.ncbi.nlm.nih.gov/pubmed/29953040\n"
     ]
    }
   ],
   "source": [
    "# concat main_url with a slice of pubmed_merged before we loop\n",
    "print(main_url + str(pubmed_merged[0]))"
   ]
  },
  {
   "cell_type": "code",
   "execution_count": 17,
   "metadata": {
    "collapsed": true
   },
   "outputs": [],
   "source": [
    "links_all = []\n",
    "\n",
    "for i in range (len(pubmed_merged)):\n",
    "    links_all.append(main_url + str(pubmed_merged[i]))"
   ]
  },
  {
   "cell_type": "markdown",
   "metadata": {},
   "source": [
    "## Main array of links to scrape:\n",
    "\n",
    "Here we use selenium to iterate through these links. Seleium will click on each link then scrape the title and abstracts on each page. "
   ]
  },
  {
   "cell_type": "code",
   "execution_count": 18,
   "metadata": {
    "scrolled": true
   },
   "outputs": [
    {
     "name": "stdout",
     "output_type": "stream",
     "text": [
      "https://www.ncbi.nlm.nih.gov/pubmed/29953040\n",
      "https://www.ncbi.nlm.nih.gov/pubmed/29952939\n",
      "https://www.ncbi.nlm.nih.gov/pubmed/29952780\n",
      "https://www.ncbi.nlm.nih.gov/pubmed/29952102\n",
      "https://www.ncbi.nlm.nih.gov/pubmed/29951580\n",
      "https://www.ncbi.nlm.nih.gov/pubmed/29951448\n",
      "https://www.ncbi.nlm.nih.gov/pubmed/29951441\n",
      "https://www.ncbi.nlm.nih.gov/pubmed/29951186\n",
      "https://www.ncbi.nlm.nih.gov/pubmed/29951032\n",
      "https://www.ncbi.nlm.nih.gov/pubmed/29951029\n",
      "https://www.ncbi.nlm.nih.gov/pubmed/29948920\n",
      "https://www.ncbi.nlm.nih.gov/pubmed/29948903\n",
      "https://www.ncbi.nlm.nih.gov/pubmed/29947592\n",
      "https://www.ncbi.nlm.nih.gov/pubmed/29947276\n",
      "https://www.ncbi.nlm.nih.gov/pubmed/29947088\n",
      "https://www.ncbi.nlm.nih.gov/pubmed/29946702\n",
      "https://www.ncbi.nlm.nih.gov/pubmed/29946295\n",
      "https://www.ncbi.nlm.nih.gov/pubmed/29942542\n",
      "https://www.ncbi.nlm.nih.gov/pubmed/29944066\n"
     ]
    }
   ],
   "source": [
    "for i in links_all:\n",
    "    print(i)"
   ]
  },
  {
   "cell_type": "markdown",
   "metadata": {},
   "source": [
    "## Regex Notes"
   ]
  },
  {
   "cell_type": "code",
   "execution_count": 19,
   "metadata": {
    "collapsed": true
   },
   "outputs": [],
   "source": [
    "# Regex\n",
    "# Identifiers:\n",
    "# \\d any number\n",
    "# \\D anything but a number\n",
    "# \\s space\n",
    "# \\S anything but a space\n",
    "# \\w any character\n",
    "# \\W anything but a character\n",
    "# . any character, except for a newline\n",
    "# \\b the whitespace around words\n",
    "# \\. a period\n",
    "\n",
    "# Modifiers:\n",
    "# {1,3} we're expecting 1-3 \\d{1-3}\n",
    "# + Match 1 or more\n",
    "# ? Match 0 or more\n",
    "# * Match 0 or more\n",
    "# $ Match the end of a string\n",
    "# ^ matching the beginning of a string\n",
    "# | either or\n",
    "# [] range or \"variance\" [A-Za-z] [1-5a-qA-Z]\n",
    "# {x} expecting \"x\" amount\n",
    "\n",
    "# White Space Characters: \n",
    "# \\n new line\n",
    "# \\s space\n",
    "# \\t tab\n",
    "# \\e escape\n",
    "# \\f form feed\n",
    "# \\r return\n",
    "\n",
    "# DONT FORGET!:\n",
    "# . + * [] $ ^ () {} | \\"
   ]
  },
  {
   "cell_type": "markdown",
   "metadata": {
    "collapsed": true
   },
   "source": [
    "## Selenium\n",
    "**Web Browser Automation**"
   ]
  },
  {
   "cell_type": "code",
   "execution_count": 20,
   "metadata": {
    "collapsed": true
   },
   "outputs": [],
   "source": [
    "from splinter import Browser\n",
    "from selenium import webdriver"
   ]
  },
  {
   "cell_type": "code",
   "execution_count": 21,
   "metadata": {
    "collapsed": true
   },
   "outputs": [],
   "source": [
    "# make sure chrome browser exe is in current directory\n",
    "# chrome browser exe is not necessary for MACS\n",
    "executable_path = {'executable_path': 'chromedriver'}"
   ]
  },
  {
   "cell_type": "code",
   "execution_count": 22,
   "metadata": {
    "collapsed": true
   },
   "outputs": [],
   "source": [
    "# test with one link\n",
    "# hard code article_one\n",
    "article_one = \"https://www.ncbi.nlm.nih.gov/pubmed/29953040\""
   ]
  },
  {
   "cell_type": "code",
   "execution_count": 23,
   "metadata": {
    "collapsed": true
   },
   "outputs": [],
   "source": [
    "browser = Browser('chrome', headless=False)\n",
    "html = browser.html\n",
    "response2 = requests.get(article_one)\n",
    "soup2 = bs(response2.text, 'html.parser')"
   ]
  },
  {
   "cell_type": "code",
   "execution_count": 24,
   "metadata": {
    "collapsed": true
   },
   "outputs": [],
   "source": [
    "browser.visit(article_one)"
   ]
  },
  {
   "cell_type": "code",
   "execution_count": 25,
   "metadata": {},
   "outputs": [],
   "source": [
    "# scrapes both article title and abstract\n",
    "test5 = soup2.find(\"div\", attrs={'class': 'rprt_all'}).text.strip()"
   ]
  },
  {
   "cell_type": "code",
   "execution_count": 26,
   "metadata": {},
   "outputs": [],
   "source": [
    "# there are two 'h1' tags on this page. slice out index 0\n",
    "title_one = soup2.find_all('h1')"
   ]
  },
  {
   "cell_type": "markdown",
   "metadata": {},
   "source": [
    "## Article Title"
   ]
  },
  {
   "cell_type": "code",
   "execution_count": 27,
   "metadata": {},
   "outputs": [
    {
     "data": {
      "text/plain": [
       "'Therapy With Mesenchymal Stem Cells in Parkinson Disease: History and Perspectives.'"
      ]
     },
     "execution_count": 27,
     "metadata": {},
     "output_type": "execute_result"
    }
   ],
   "source": [
    "article_one_title = title_one[1].text.strip()\n",
    "article_one_title"
   ]
  },
  {
   "cell_type": "code",
   "execution_count": 28,
   "metadata": {
    "collapsed": true
   },
   "outputs": [],
   "source": [
    "# grabs the entire abstracted nested with the <p> tag\n",
    "text_main = soup2.find_all('p')"
   ]
  },
  {
   "cell_type": "markdown",
   "metadata": {},
   "source": [
    "## Abstract"
   ]
  },
  {
   "cell_type": "code",
   "execution_count": 29,
   "metadata": {},
   "outputs": [
    {
     "data": {
      "text/plain": [
       "'Parkinson disease (PD) is a neurodegenerative disorder affecting the basal nuclei, causing motor and cognitive disorders. Bearing in mind that standard treatments are ineffective in delaying the disease progression, alternative treatments capable of eliminating symptoms and reversing the clinical condition have been sought. Possible alternative treatments include cell therapy, especially with the use of mesenchymal stem cells (MSC).'"
      ]
     },
     "execution_count": 29,
     "metadata": {},
     "output_type": "execute_result"
    }
   ],
   "source": [
    "abstract = text_main[9].text.strip()\n",
    "abstract"
   ]
  },
  {
   "cell_type": "markdown",
   "metadata": {},
   "source": [
    "## Review Summary"
   ]
  },
  {
   "cell_type": "code",
   "execution_count": 30,
   "metadata": {},
   "outputs": [
    {
     "data": {
      "text/plain": [
       "'MSC are adult stem cells which have demonstrated remarkable therapeutic power in parkinsonian animals due to their differentiation competence, migratory capacity and the production of bioactive molecules. This review aims to analyze the main studies involving MSC and PD in more than a decade of studies, addressing their different methodologies and common characteristics, as well as suggesting perspectives on the application of MSC in PD.'"
      ]
     },
     "execution_count": 30,
     "metadata": {},
     "output_type": "execute_result"
    }
   ],
   "source": [
    "review_summary = text_main[10].text.strip()\n",
    "review_summary"
   ]
  },
  {
   "cell_type": "markdown",
   "metadata": {},
   "source": [
    "## Conclusion"
   ]
  },
  {
   "cell_type": "code",
   "execution_count": 31,
   "metadata": {
    "scrolled": true
   },
   "outputs": [
    {
     "data": {
      "text/plain": [
       "'The results of MSC therapy in animal models and some clinical trials suggest that such cellular therapy may slow the progression of PD and promote neuroregeneration. However, further research is needed to address the limitations of an eventual clinical application.'"
      ]
     },
     "execution_count": 31,
     "metadata": {},
     "output_type": "execute_result"
    }
   ],
   "source": [
    "conclusion = text_main[11].text.strip()\n",
    "conclusion"
   ]
  },
  {
   "cell_type": "code",
   "execution_count": null,
   "metadata": {
    "collapsed": true
   },
   "outputs": [],
   "source": []
  }
 ],
 "metadata": {
  "kernelspec": {
   "display_name": "Python 3",
   "language": "python",
   "name": "python3"
  },
  "language_info": {
   "codemirror_mode": {
    "name": "ipython",
    "version": 3
   },
   "file_extension": ".py",
   "mimetype": "text/x-python",
   "name": "python",
   "nbconvert_exporter": "python",
   "pygments_lexer": "ipython3",
   "version": "3.6.4"
  }
 },
 "nbformat": 4,
 "nbformat_minor": 2
}
