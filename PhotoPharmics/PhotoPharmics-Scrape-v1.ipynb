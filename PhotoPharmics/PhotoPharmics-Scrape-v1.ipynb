{
 "cells": [
  {
   "cell_type": "code",
   "execution_count": 1,
   "metadata": {
    "collapsed": true
   },
   "outputs": [],
   "source": [
    "# scrape dependencies\n",
    "import requests\n",
    "import re\n",
    "from bs4 import BeautifulSoup as bs\n",
    "\n",
    "# data analysis dependencies\n",
    "import pandas as pd\n",
    "import numpy as np\n",
    "import csv\n",
    "\n",
    "# ipynb dependencies\n",
    "from IPython.core.interactiveshell import InteractiveShell\n",
    "InteractiveShell.ast_node_interactivity = \"all\"\n",
    "import warnings\n",
    "warnings.filterwarnings('ignore')\n",
    "\n",
    "# viz dependencies\n",
    "%matplotlib inline\n",
    "import matplotlib.pyplot as plt\n",
    "import seaborn as sns\n",
    "plt.style.use('fivethirtyeight')\n",
    "\n",
    "import datetime as dt\n",
    "import time"
   ]
  },
  {
   "cell_type": "code",
   "execution_count": 2,
   "metadata": {
    "collapsed": true
   },
   "outputs": [],
   "source": [
    "def parse_definition(regex_pattern, string):\n",
    "    result = re.compile(regex_pattern, flags=re.MULTILINE|re.DOTALL)\n",
    "    if not result.search(string):\n",
    "        return \"None\"\n",
    "    else:\n",
    "        return result.search(string).group(1)"
   ]
  },
  {
   "cell_type": "code",
   "execution_count": 3,
   "metadata": {},
   "outputs": [
    {
     "name": "stdout",
     "output_type": "stream",
     "text": [
      "https://www.ncbi.nlm.nih.gov/pubmed/?term=parkinsons+disease\n"
     ]
    }
   ],
   "source": [
    "# set the url to scrape\n",
    "url = 'https://www.ncbi.nlm.nih.gov/pubmed/?term=parkinsons+disease'\n",
    "print(url)"
   ]
  },
  {
   "cell_type": "code",
   "execution_count": 4,
   "metadata": {
    "collapsed": true
   },
   "outputs": [],
   "source": [
    "response = requests.get(url)\n",
    "soup = bs(response.text, 'html.parser')"
   ]
  },
  {
   "cell_type": "code",
   "execution_count": 14,
   "metadata": {},
   "outputs": [],
   "source": [
    "# lets scrape the article titles\n",
    "journals = soup.find_all(\"p\", attrs={'class':'title'})"
   ]
  },
  {
   "cell_type": "code",
   "execution_count": 23,
   "metadata": {},
   "outputs": [
    {
     "name": "stdout",
     "output_type": "stream",
     "text": [
      "There are 20 journals to scrape on the first page.\n"
     ]
    }
   ],
   "source": [
    "journals_len = len(journals)\n",
    "print(f\"There are {journals_len} journals to scrape on the first page.\")"
   ]
  },
  {
   "cell_type": "code",
   "execution_count": 52,
   "metadata": {},
   "outputs": [
    {
     "data": {
      "text/plain": [
       "'[Status and development of the role as Parkinson Nurse in Germany - an online survey].'"
      ]
     },
     "execution_count": 52,
     "metadata": {},
     "output_type": "execute_result"
    },
    {
     "data": {
      "text/plain": [
       "\"Beyond 35\\xa0years of Parkinson's disease: a comprehensive clinical and instrumental assessment.\""
      ]
     },
     "execution_count": 52,
     "metadata": {},
     "output_type": "execute_result"
    },
    {
     "data": {
      "text/plain": [
       "'TNF inhibits catecholamine production from induced sympathetic neuron-like cells in rheumatoid arthritis and osteoarthritis in vitro.'"
      ]
     },
     "execution_count": 52,
     "metadata": {},
     "output_type": "execute_result"
    },
    {
     "data": {
      "text/plain": [
       "'Structure-Activity Relationship of Cannabis Derived Compounds for the Treatment of Neuronal Activity-Related Diseases.'"
      ]
     },
     "execution_count": 52,
     "metadata": {},
     "output_type": "execute_result"
    },
    {
     "data": {
      "text/plain": [
       "\"Pallidal Stimulation Modulates Pedunculopontine Nuclei in Parkinson's Disease.\""
      ]
     },
     "execution_count": 52,
     "metadata": {},
     "output_type": "execute_result"
    },
    {
     "data": {
      "text/plain": [
       "'Attenuated dopaminergic neurodegeneration and motor dysfunction in hemiparkinsonian mice lacking the α5 nicotinic acetylcholine receptor subunit.'"
      ]
     },
     "execution_count": 52,
     "metadata": {},
     "output_type": "execute_result"
    },
    {
     "data": {
      "text/plain": [
       "'Lipophilic antioxidants in neurodegenerative diseases.'"
      ]
     },
     "execution_count": 52,
     "metadata": {},
     "output_type": "execute_result"
    },
    {
     "data": {
      "text/plain": [
       "\"Experience of care for Parkinson's disease in European countries: A survey by the European Parkinson's Disease Association.\""
      ]
     },
     "execution_count": 52,
     "metadata": {},
     "output_type": "execute_result"
    },
    {
     "data": {
      "text/plain": [
       "'Nutrition and Nutraceuticals in Neuroinflammatory and Brain Metabolic Stress: Implications for Neurodegenerative Disorders.'"
      ]
     },
     "execution_count": 52,
     "metadata": {},
     "output_type": "execute_result"
    },
    {
     "data": {
      "text/plain": [
       "\"Retinal changes in Parkinson's disease and glaucoma.\""
      ]
     },
     "execution_count": 52,
     "metadata": {},
     "output_type": "execute_result"
    },
    {
     "data": {
      "text/plain": [
       "'Complementary Medicine in Parkinson Disease: Once Again, Surprisingly Effective.'"
      ]
     },
     "execution_count": 52,
     "metadata": {},
     "output_type": "execute_result"
    },
    {
     "data": {
      "text/plain": [
       "\"Progression Rate Associated Peripheral Blood Biomarkers of Parkinson's Disease.\""
      ]
     },
     "execution_count": 52,
     "metadata": {},
     "output_type": "execute_result"
    },
    {
     "data": {
      "text/plain": [
       "'Treatment of Visual Disorders in Parkinson Disease.'"
      ]
     },
     "execution_count": 52,
     "metadata": {},
     "output_type": "execute_result"
    },
    {
     "data": {
      "text/plain": [
       "'The enteric nervous system in PD: gateway, bystander victim, or source of solutions.'"
      ]
     },
     "execution_count": 52,
     "metadata": {},
     "output_type": "execute_result"
    },
    {
     "data": {
      "text/plain": [
       "'Aldehyde Dehydrogenase 2 in the spotlight: the link between mitochondria and neurodegeneration.'"
      ]
     },
     "execution_count": 52,
     "metadata": {},
     "output_type": "execute_result"
    },
    {
     "data": {
      "text/plain": [
       "'Modulation in miR-200a/SIRT1axis is associated with apoptosis in MPP+-induced SH-SY5Y cells.'"
      ]
     },
     "execution_count": 52,
     "metadata": {},
     "output_type": "execute_result"
    },
    {
     "data": {
      "text/plain": [
       "'Behavioral and cellular dopamine D1 and D3 receptor-mediated synergy: Implications for L-DOPA-induced dyskinesia.'"
      ]
     },
     "execution_count": 52,
     "metadata": {},
     "output_type": "execute_result"
    },
    {
     "data": {
      "text/plain": [
       "'The expression of cannabinoid type 1 receptor and 2-arachidonoyl glycerol synthesizing/degrading enzymes is altered in basal ganglia during the active phase of levodopa-induced dyskinesia.'"
      ]
     },
     "execution_count": 52,
     "metadata": {},
     "output_type": "execute_result"
    },
    {
     "data": {
      "text/plain": [
       "\"Olfactory dysfunction in Alzheimer's disease- and Lewy body-related cognitive impairment.\""
      ]
     },
     "execution_count": 52,
     "metadata": {},
     "output_type": "execute_result"
    },
    {
     "data": {
      "text/plain": [
       "\"Predicting early cognitive decline in newly-diagnosed Parkinson's patients: A practical model.\""
      ]
     },
     "execution_count": 52,
     "metadata": {},
     "output_type": "execute_result"
    }
   ],
   "source": [
    "for i in range(0,20):\n",
    "    journals[i].text.strip()"
   ]
  },
  {
   "cell_type": "code",
   "execution_count": null,
   "metadata": {
    "collapsed": true
   },
   "outputs": [],
   "source": []
  }
 ],
 "metadata": {
  "kernelspec": {
   "display_name": "Python 3",
   "language": "python",
   "name": "python3"
  },
  "language_info": {
   "codemirror_mode": {
    "name": "ipython",
    "version": 3
   },
   "file_extension": ".py",
   "mimetype": "text/x-python",
   "name": "python",
   "nbconvert_exporter": "python",
   "pygments_lexer": "ipython3",
   "version": "3.6.4"
  }
 },
 "nbformat": 4,
 "nbformat_minor": 2
}
