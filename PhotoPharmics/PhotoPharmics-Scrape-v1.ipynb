{
 "cells": [
  {
   "cell_type": "code",
   "execution_count": 1,
   "metadata": {
    "collapsed": true
   },
   "outputs": [],
   "source": [
    "# scrape dependencies\n",
    "import requests\n",
    "import re\n",
    "from bs4 import BeautifulSoup as bs\n",
    "\n",
    "# data analysis dependencies\n",
    "import pandas as pd\n",
    "import numpy as np\n",
    "import csv\n",
    "\n",
    "# ipynb dependencies\n",
    "from IPython.core.interactiveshell import InteractiveShell\n",
    "InteractiveShell.ast_node_interactivity = \"all\"\n",
    "import warnings\n",
    "warnings.filterwarnings('ignore')\n",
    "\n",
    "# viz dependencies\n",
    "%matplotlib inline\n",
    "import matplotlib.pyplot as plt\n",
    "import seaborn as sns\n",
    "plt.style.use('fivethirtyeight')\n",
    "\n",
    "import datetime as dt\n",
    "import time"
   ]
  },
  {
   "cell_type": "code",
   "execution_count": 2,
   "metadata": {
    "collapsed": true
   },
   "outputs": [],
   "source": [
    "def parse_definition(regex_pattern, string):\n",
    "    result = re.compile(regex_pattern, flags=re.MULTILINE|re.DOTALL)\n",
    "    if not result.search(string):\n",
    "        return \"None\"\n",
    "    else:\n",
    "        return result.search(string).group(1)"
   ]
  },
  {
   "cell_type": "code",
   "execution_count": 3,
   "metadata": {},
   "outputs": [
    {
     "name": "stdout",
     "output_type": "stream",
     "text": [
      "https://www.ncbi.nlm.nih.gov/pubmed/?term=parkinsons+disease\n"
     ]
    }
   ],
   "source": [
    "# set the url to scrape\n",
    "url = 'https://www.ncbi.nlm.nih.gov/pubmed/?term=parkinsons+disease'\n",
    "print(url)"
   ]
  },
  {
   "cell_type": "code",
   "execution_count": 4,
   "metadata": {
    "collapsed": true
   },
   "outputs": [],
   "source": [
    "response = requests.get(url)\n",
    "soup = bs(response.text, 'html.parser')"
   ]
  },
  {
   "cell_type": "code",
   "execution_count": 5,
   "metadata": {},
   "outputs": [],
   "source": [
    "# lets scrape the article titles\n",
    "journals = soup.find_all(\"p\", attrs={'class':'title'})"
   ]
  },
  {
   "cell_type": "code",
   "execution_count": 6,
   "metadata": {},
   "outputs": [
    {
     "name": "stdout",
     "output_type": "stream",
     "text": [
      "There are 20 journals to scrape on the first page.\n"
     ]
    }
   ],
   "source": [
    "journals_len = len(journals)\n",
    "print(f\"There are {journals_len} journals to scrape on the first page.\")"
   ]
  },
  {
   "cell_type": "code",
   "execution_count": 7,
   "metadata": {},
   "outputs": [
    {
     "data": {
      "text/plain": [
       "'Now is the Critical Time for Engineered Neuroplasticity.'"
      ]
     },
     "execution_count": 7,
     "metadata": {},
     "output_type": "execute_result"
    },
    {
     "data": {
      "text/plain": [
       "\"Episodic memory decline in Parkinson' s disease: relation with white matter hyperintense lesions and influence of quantification method.\""
      ]
     },
     "execution_count": 7,
     "metadata": {},
     "output_type": "execute_result"
    },
    {
     "data": {
      "text/plain": [
       "\"Blunted Cardiovascular Responses to Exercise in Parkinson's disease Patients: Role of the Muscle Metaboreflex.\""
      ]
     },
     "execution_count": 7,
     "metadata": {},
     "output_type": "execute_result"
    },
    {
     "data": {
      "text/plain": [
       "'Age- and disease-dependent increase of the mitophagy marker phospho-ubiquitin in normal aging and Lewy body disease.'"
      ]
     },
     "execution_count": 7,
     "metadata": {},
     "output_type": "execute_result"
    },
    {
     "data": {
      "text/plain": [
       "\"Inflammation and fatigue in early, untreated Parkinson's Disease.\""
      ]
     },
     "execution_count": 7,
     "metadata": {},
     "output_type": "execute_result"
    },
    {
     "data": {
      "text/plain": [
       "'Association of Retinal Neurodegeneration on Optical Coherence Tomography With Dementia: A Population-Based Study.'"
      ]
     },
     "execution_count": 7,
     "metadata": {},
     "output_type": "execute_result"
    },
    {
     "data": {
      "text/plain": [
       "'Effects of Deep Brain Stimulation on Eye Movements and Vestibular Function.'"
      ]
     },
     "execution_count": 7,
     "metadata": {},
     "output_type": "execute_result"
    },
    {
     "data": {
      "text/plain": [
       "\"Virtual research visits and direct-to-consumer genetic testing in Parkinson's disease.\""
      ]
     },
     "execution_count": 7,
     "metadata": {},
     "output_type": "execute_result"
    },
    {
     "data": {
      "text/plain": [
       "'[Status and development of the role as Parkinson Nurse in Germany - an online survey].'"
      ]
     },
     "execution_count": 7,
     "metadata": {},
     "output_type": "execute_result"
    },
    {
     "data": {
      "text/plain": [
       "\"Beyond 35\\xa0years of Parkinson's disease: a comprehensive clinical and instrumental assessment.\""
      ]
     },
     "execution_count": 7,
     "metadata": {},
     "output_type": "execute_result"
    },
    {
     "data": {
      "text/plain": [
       "'TNF inhibits catecholamine production from induced sympathetic neuron-like cells in rheumatoid arthritis and osteoarthritis in vitro.'"
      ]
     },
     "execution_count": 7,
     "metadata": {},
     "output_type": "execute_result"
    },
    {
     "data": {
      "text/plain": [
       "'Structure-Activity Relationship of Cannabis Derived Compounds for the Treatment of Neuronal Activity-Related Diseases.'"
      ]
     },
     "execution_count": 7,
     "metadata": {},
     "output_type": "execute_result"
    },
    {
     "data": {
      "text/plain": [
       "\"Pallidal Stimulation Modulates Pedunculopontine Nuclei in Parkinson's Disease.\""
      ]
     },
     "execution_count": 7,
     "metadata": {},
     "output_type": "execute_result"
    },
    {
     "data": {
      "text/plain": [
       "'Attenuated dopaminergic neurodegeneration and motor dysfunction in hemiparkinsonian mice lacking the α5 nicotinic acetylcholine receptor subunit.'"
      ]
     },
     "execution_count": 7,
     "metadata": {},
     "output_type": "execute_result"
    },
    {
     "data": {
      "text/plain": [
       "'Lipophilic antioxidants in neurodegenerative diseases.'"
      ]
     },
     "execution_count": 7,
     "metadata": {},
     "output_type": "execute_result"
    },
    {
     "data": {
      "text/plain": [
       "\"Experience of care for Parkinson's disease in European countries: A survey by the European Parkinson's Disease Association.\""
      ]
     },
     "execution_count": 7,
     "metadata": {},
     "output_type": "execute_result"
    },
    {
     "data": {
      "text/plain": [
       "'Nutrition and Nutraceuticals in Neuroinflammatory and Brain Metabolic Stress: Implications for Neurodegenerative Disorders.'"
      ]
     },
     "execution_count": 7,
     "metadata": {},
     "output_type": "execute_result"
    },
    {
     "data": {
      "text/plain": [
       "\"Retinal changes in Parkinson's disease and glaucoma.\""
      ]
     },
     "execution_count": 7,
     "metadata": {},
     "output_type": "execute_result"
    },
    {
     "data": {
      "text/plain": [
       "'Complementary Medicine in Parkinson Disease: Once Again, Surprisingly Effective.'"
      ]
     },
     "execution_count": 7,
     "metadata": {},
     "output_type": "execute_result"
    },
    {
     "data": {
      "text/plain": [
       "\"Progression Rate Associated Peripheral Blood Biomarkers of Parkinson's Disease.\""
      ]
     },
     "execution_count": 7,
     "metadata": {},
     "output_type": "execute_result"
    }
   ],
   "source": [
    "for i in range(0,20):\n",
    "    journals[i].text.strip()"
   ]
  },
  {
   "cell_type": "code",
   "execution_count": 8,
   "metadata": {},
   "outputs": [
    {
     "data": {
      "text/plain": [
       "<p class=\"links nohighlight\"><a href=\"/pubmed?linkname=pubmed_pubmed&amp;from_uid=29948920\" ref=\"ordinalpos=1\">Similar articles</a> </p>"
      ]
     },
     "execution_count": 8,
     "metadata": {},
     "output_type": "execute_result"
    }
   ],
   "source": [
    "links = soup.find_all(\"p\",attrs={'class':'links'})\n",
    "links.pop(0)"
   ]
  },
  {
   "cell_type": "code",
   "execution_count": 9,
   "metadata": {},
   "outputs": [
    {
     "name": "stdout",
     "output_type": "stream",
     "text": [
      "19\n"
     ]
    }
   ],
   "source": [
    "print(len(links))"
   ]
  },
  {
   "cell_type": "code",
   "execution_count": 10,
   "metadata": {},
   "outputs": [
    {
     "name": "stdout",
     "output_type": "stream",
     "text": [
      "<p class=\"links nohighlight\"><a href=\"/pubmed?linkname=pubmed_pubmed&amp;from_uid=29948903\" ref=\"ordinalpos=2\">Similar articles</a> </p>\n",
      "----------------------------------------------\n",
      "<p class=\"links nohighlight\"><a href=\"/pubmed?linkname=pubmed_pubmed&amp;from_uid=29947592\" ref=\"ordinalpos=3\">Similar articles</a> </p>\n",
      "----------------------------------------------\n",
      "<p class=\"links nohighlight\"><a href=\"/pubmed?linkname=pubmed_pubmed&amp;from_uid=29947276\" ref=\"ordinalpos=4\">Similar articles</a> </p>\n",
      "----------------------------------------------\n",
      "<p class=\"links nohighlight\"><a href=\"/pubmed?linkname=pubmed_pubmed&amp;from_uid=29947088\" ref=\"ordinalpos=5\">Similar articles</a> </p>\n",
      "----------------------------------------------\n",
      "<p class=\"links nohighlight\"><a href=\"/pubmed?linkname=pubmed_pubmed&amp;from_uid=29946702\" ref=\"ordinalpos=6\">Similar articles</a> </p>\n",
      "----------------------------------------------\n",
      "<p class=\"links nohighlight\"><a href=\"/pubmed?linkname=pubmed_pubmed&amp;from_uid=29946295\" ref=\"ordinalpos=7\">Similar articles</a> </p>\n",
      "----------------------------------------------\n",
      "<p class=\"links nohighlight\"><a href=\"/pubmed?linkname=pubmed_pubmed&amp;from_uid=29942542\" ref=\"ordinalpos=8\">Similar articles</a> </p>\n",
      "----------------------------------------------\n",
      "<p class=\"links nohighlight\"><a href=\"/pubmed?linkname=pubmed_pubmed&amp;from_uid=29944066\" ref=\"ordinalpos=9\">Similar articles</a> </p>\n",
      "----------------------------------------------\n",
      "<p class=\"links nohighlight\"><a href=\"/pubmed?linkname=pubmed_pubmed&amp;from_uid=29943201\" ref=\"ordinalpos=10\">Similar articles</a> </p>\n",
      "----------------------------------------------\n",
      "<p class=\"links nohighlight\"><a href=\"/pubmed?linkname=pubmed_pubmed&amp;from_uid=29941879\" ref=\"ordinalpos=11\">Similar articles</a> </p>\n",
      "----------------------------------------------\n",
      "<p class=\"links nohighlight\"><a href=\"/pubmed?linkname=pubmed_pubmed&amp;from_uid=29941830\" ref=\"ordinalpos=12\">Similar articles</a> </p>\n",
      "----------------------------------------------\n",
      "<p class=\"links nohighlight\"><a href=\"/pubmed?linkname=pubmed_pubmed&amp;from_uid=29941788\" ref=\"ordinalpos=13\">Similar articles</a> </p>\n",
      "----------------------------------------------\n",
      "<p class=\"links nohighlight\"><a href=\"/pubmed?linkname=pubmed_pubmed&amp;from_uid=29940207\" ref=\"ordinalpos=14\">Similar articles</a> </p>\n",
      "----------------------------------------------\n",
      "<p class=\"links nohighlight\"><a href=\"/pubmed?linkname=pubmed_pubmed&amp;from_uid=29940147\" ref=\"ordinalpos=15\">Similar articles</a> </p>\n",
      "----------------------------------------------\n",
      "<p class=\"links nohighlight\"><a href=\"/pubmed?linkname=pubmed_pubmed&amp;from_uid=29939446\" ref=\"ordinalpos=16\">Similar articles</a> </p>\n",
      "----------------------------------------------\n",
      "<p class=\"links nohighlight\"><a href=\"/pubmed?linkname=pubmed_pubmed&amp;from_uid=29938622\" ref=\"ordinalpos=17\">Similar articles</a> </p>\n",
      "----------------------------------------------\n",
      "<p class=\"links nohighlight\"><a href=\"/pubmed?linkname=pubmed_pubmed&amp;from_uid=29937099\" ref=\"ordinalpos=18\">Similar articles</a> </p>\n",
      "----------------------------------------------\n",
      "<p class=\"links nohighlight\"><a href=\"/pubmed?linkname=pubmed_pubmed&amp;from_uid=29937088\" ref=\"ordinalpos=19\">Similar articles</a> </p>\n",
      "----------------------------------------------\n",
      "<p class=\"links nohighlight\"><a href=\"/pubmed?linkname=pubmed_pubmed&amp;from_uid=29936662\" ref=\"ordinalpos=20\">Similar articles</a> </p>\n",
      "----------------------------------------------\n"
     ]
    }
   ],
   "source": [
    "for i in range (0,19):\n",
    "    print(links[i])\n",
    "    print(\"----------------------------------------------\")"
   ]
  },
  {
   "cell_type": "code",
   "execution_count": 12,
   "metadata": {},
   "outputs": [
    {
     "name": "stdout",
     "output_type": "stream",
     "text": [
      "https://www.ncbi.nlm.nih.gov/pubmed/\n"
     ]
    }
   ],
   "source": [
    "main_url = 'https://www.ncbi.nlm.nih.gov/pubmed/'\n",
    "print(main_url)"
   ]
  },
  {
   "cell_type": "code",
   "execution_count": 37,
   "metadata": {},
   "outputs": [
    {
     "data": {
      "text/plain": [
       "<p class=\"links nohighlight\"><a href=\"/pubmed?linkname=pubmed_pubmed&amp;from_uid=29948903\" ref=\"ordinalpos=2\">Similar articles</a> </p>"
      ]
     },
     "execution_count": 37,
     "metadata": {},
     "output_type": "execute_result"
    }
   ],
   "source": [
    "# pubmed_one = str(links[0])\n",
    "pubmed_one = links[0]\n",
    "pubmed_one"
   ]
  },
  {
   "cell_type": "code",
   "execution_count": null,
   "metadata": {
    "collapsed": true
   },
   "outputs": [],
   "source": []
  }
 ],
 "metadata": {
  "kernelspec": {
   "display_name": "Python 3",
   "language": "python",
   "name": "python3"
  },
  "language_info": {
   "codemirror_mode": {
    "name": "ipython",
    "version": 3
   },
   "file_extension": ".py",
   "mimetype": "text/x-python",
   "name": "python",
   "nbconvert_exporter": "python",
   "pygments_lexer": "ipython3",
   "version": "3.6.4"
  }
 },
 "nbformat": 4,
 "nbformat_minor": 2
}
