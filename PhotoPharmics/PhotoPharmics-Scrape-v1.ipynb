{
 "cells": [
  {
   "cell_type": "markdown",
   "metadata": {},
   "source": [
    "## Pub Med Scraper"
   ]
  },
  {
   "cell_type": "code",
   "execution_count": 1,
   "metadata": {
    "collapsed": true
   },
   "outputs": [],
   "source": [
    "# scrape dependencies\n",
    "import requests\n",
    "import re\n",
    "from bs4 import BeautifulSoup as bs\n",
    "\n",
    "# data analysis dependencies\n",
    "import pandas as pd\n",
    "import numpy as np\n",
    "import csv\n",
    "\n",
    "# ipynb dependencies\n",
    "from IPython.core.interactiveshell import InteractiveShell\n",
    "InteractiveShell.ast_node_interactivity = \"all\"\n",
    "import warnings\n",
    "warnings.filterwarnings('ignore')\n",
    "\n",
    "# viz dependencies\n",
    "%matplotlib inline\n",
    "import matplotlib.pyplot as plt\n",
    "import seaborn as sns\n",
    "plt.style.use('fivethirtyeight')\n",
    "\n",
    "import datetime as dt\n",
    "import time"
   ]
  },
  {
   "cell_type": "code",
   "execution_count": 2,
   "metadata": {},
   "outputs": [
    {
     "name": "stdout",
     "output_type": "stream",
     "text": [
      "https://www.ncbi.nlm.nih.gov/pubmed/?term=parkinsons+disease\n"
     ]
    }
   ],
   "source": [
    "# set the url to scrape\n",
    "url = 'https://www.ncbi.nlm.nih.gov/pubmed/?term=parkinsons+disease'\n",
    "print(url)"
   ]
  },
  {
   "cell_type": "code",
   "execution_count": 3,
   "metadata": {
    "collapsed": true
   },
   "outputs": [],
   "source": [
    "# set up beautiful soup to scrape\n",
    "response = requests.get(url)\n",
    "soup = bs(response.text, 'html.parser')"
   ]
  },
  {
   "cell_type": "code",
   "execution_count": 4,
   "metadata": {
    "collapsed": true
   },
   "outputs": [],
   "source": [
    "# lets scrape the article titles\n",
    "journals = soup.find_all(\"p\", attrs={'class':'title'})"
   ]
  },
  {
   "cell_type": "code",
   "execution_count": 5,
   "metadata": {},
   "outputs": [
    {
     "name": "stdout",
     "output_type": "stream",
     "text": [
      "There are 20 journals to scrape on the first page.\n"
     ]
    }
   ],
   "source": [
    "# searching for the journal titles\n",
    "journals_len = len(journals)\n",
    "print(f\"There are {journals_len} journals to scrape on the first page.\")"
   ]
  },
  {
   "cell_type": "code",
   "execution_count": 6,
   "metadata": {},
   "outputs": [
    {
     "data": {
      "text/plain": [
       "\"Trx-1 ameliorates learning and memory deficits in MPTP-induced Parkinson's disease model in mice.\""
      ]
     },
     "execution_count": 6,
     "metadata": {},
     "output_type": "execute_result"
    },
    {
     "data": {
      "text/plain": [
       "'Lipid vesicles affect the aggregation of 4-hydroxy-2-nonenal-modified α-synuclein oligomers.'"
      ]
     },
     "execution_count": 6,
     "metadata": {},
     "output_type": "execute_result"
    },
    {
     "data": {
      "text/plain": [
       "\"MANF protects dopamine neurons and locomotion defects from a human α-synuclein induced Parkinson's disease model in C. elegans by regulating ER stress and autophagy pathways.\""
      ]
     },
     "execution_count": 6,
     "metadata": {},
     "output_type": "execute_result"
    },
    {
     "data": {
      "text/plain": [
       "'Long-term evolution of patient-reported outcome measures in spinocerebellar ataxias.'"
      ]
     },
     "execution_count": 6,
     "metadata": {},
     "output_type": "execute_result"
    },
    {
     "data": {
      "text/plain": [
       "'Effects of deep brain stimulation on rest tremor progression in early stage Parkinson disease.'"
      ]
     },
     "execution_count": 6,
     "metadata": {},
     "output_type": "execute_result"
    },
    {
     "data": {
      "text/plain": [
       "\"Patients' shifting goals for deep brain stimulation and informed consent.\""
      ]
     },
     "execution_count": 6,
     "metadata": {},
     "output_type": "execute_result"
    },
    {
     "data": {
      "text/plain": [
       "'Glycosaminoglycans have variable effects on α-synuclein aggregation and differentially affect the activities of the resulting amyloid fibrils.'"
      ]
     },
     "execution_count": 6,
     "metadata": {},
     "output_type": "execute_result"
    },
    {
     "data": {
      "text/plain": [
       "'Association between attention-deficit/hyperactivity disorder and amyotrophic lateral sclerosis.'"
      ]
     },
     "execution_count": 6,
     "metadata": {},
     "output_type": "execute_result"
    },
    {
     "data": {
      "text/plain": [
       "\"The factors associated with impulse control behaviors in Parkinson's disease: A 2-year longitudinal retrospective cohort study.\""
      ]
     },
     "execution_count": 6,
     "metadata": {},
     "output_type": "execute_result"
    },
    {
     "data": {
      "text/plain": [
       "\"Evaluation of Linguistic Markers of Word-Finding Difficulty and Cognition in Parkinson's Disease.\""
      ]
     },
     "execution_count": 6,
     "metadata": {},
     "output_type": "execute_result"
    },
    {
     "data": {
      "text/plain": [
       "'Implementation and evaluation of Parkinson disease management in an outpatient clinical pharmacist-run neurology telephone clinic.'"
      ]
     },
     "execution_count": 6,
     "metadata": {},
     "output_type": "execute_result"
    },
    {
     "data": {
      "text/plain": [
       "'Treatment of psychotic symptoms in patients with Parkinson disease.'"
      ]
     },
     "execution_count": 6,
     "metadata": {},
     "output_type": "execute_result"
    },
    {
     "data": {
      "text/plain": [
       "'Pimavanserin (Nuplazid™) for the treatment of Parkinson disease psychosis: A review of the literature.'"
      ]
     },
     "execution_count": 6,
     "metadata": {},
     "output_type": "execute_result"
    },
    {
     "data": {
      "text/plain": [
       "'Drug-induced parkinsonism: A case report.'"
      ]
     },
     "execution_count": 6,
     "metadata": {},
     "output_type": "execute_result"
    },
    {
     "data": {
      "text/plain": [
       "'Evidence for the use of \"medical marijuana\" in psychiatric and neurologic disorders.'"
      ]
     },
     "execution_count": 6,
     "metadata": {},
     "output_type": "execute_result"
    },
    {
     "data": {
      "text/plain": [
       "'Interaction between Monoamine Oxidase B Inhibitors and Selective Serotonin Reuptake Inhibitors.'"
      ]
     },
     "execution_count": 6,
     "metadata": {},
     "output_type": "execute_result"
    },
    {
     "data": {
      "text/plain": [
       "'Comparative Study of MRI Biomarkers in the Substantia Nigra to Discriminate Idiopathic Parkinson Disease.'"
      ]
     },
     "execution_count": 6,
     "metadata": {},
     "output_type": "execute_result"
    },
    {
     "data": {
      "text/plain": [
       "\"Visual hallucinations in dementia and Parkinson's disease: A qualitative exploration of patient and caregiver experiences.\""
      ]
     },
     "execution_count": 6,
     "metadata": {},
     "output_type": "execute_result"
    },
    {
     "data": {
      "text/plain": [
       "'Therapy With Mesenchymal Stem Cells in Parkinson Disease: History and Perspectives.'"
      ]
     },
     "execution_count": 6,
     "metadata": {},
     "output_type": "execute_result"
    },
    {
     "data": {
      "text/plain": [
       "'Level of uric acid and uric acid/creatinine ratios in correlation with stage of Parkinson disease.'"
      ]
     },
     "execution_count": 6,
     "metadata": {},
     "output_type": "execute_result"
    }
   ],
   "source": [
    "# loop through journals to print titles\n",
    "for i in range(0,20):\n",
    "    journals[i].text.strip()"
   ]
  },
  {
   "cell_type": "markdown",
   "metadata": {},
   "source": [
    "## Set main url to concat with pubmed ids"
   ]
  },
  {
   "cell_type": "code",
   "execution_count": 7,
   "metadata": {
    "scrolled": false
   },
   "outputs": [
    {
     "name": "stdout",
     "output_type": "stream",
     "text": [
      "https://www.ncbi.nlm.nih.gov/pubmed/\n"
     ]
    }
   ],
   "source": [
    "# set the main url that we will concatanate with the pubmed id\n",
    "main_url = 'https://www.ncbi.nlm.nih.gov/pubmed/'\n",
    "print(main_url)"
   ]
  },
  {
   "cell_type": "markdown",
   "metadata": {},
   "source": [
    "## Function to create array of links to scrape"
   ]
  },
  {
   "cell_type": "code",
   "execution_count": 8,
   "metadata": {},
   "outputs": [],
   "source": [
    "# set empty links_all list to append to \n",
    "links_all = []\n",
    "\n",
    "# set pubmed ids list to append to\n",
    "pubmed_ids = []\n",
    "\n",
    "# set empty list to append scrape_links to\n",
    "scrape_links = []\n",
    "\n",
    "# function to get links\n",
    "def get_links(main_url):\n",
    "    \n",
    "    # use bs to scarpe p tags with class - title\n",
    "    links = soup.find_all(\"p\",attrs={'class':'title'})\n",
    "      \n",
    "    # testing to see how my links / journals to scrape\n",
    "    articles_to_scrape = len(links)\n",
    "    print(f\"There are {articles_to_scrape} articles to scrape.\")\n",
    "    print(\"----------------------------------------------\")\n",
    "    \n",
    "    # loop through links to convert to string\n",
    "    for i in range (len(links)):\n",
    "        links_all.append(str(links[i]))\n",
    "        print(links[i])\n",
    "        print(\"----------------------------------------------\")\n",
    "        \n",
    "    # slice through links_all to test\n",
    "    len(links_all)\n",
    "    links_all[1]\n",
    "    \n",
    "    # loop through links all and use regex to grab the id numbers\n",
    "    for i in range (len(links_all)):\n",
    "        pubmed_ids.append(re.findall(r'\\d{8}',links_all[i]))\n",
    "    \n",
    "    # print out info for pubmed_ids\n",
    "    len(pubmed_ids)\n",
    "    type(pubmed_ids)\n",
    "    print(pubmed_ids)\n",
    "    print(\"----------------------------------------------\")\n",
    "    \n",
    "    # use itertools to transform pubmed ids from an array withn an array into one list\n",
    "    import itertools\n",
    "    pubmed_merged = list(itertools.chain.from_iterable(pubmed_ids))\n",
    "    \n",
    "    # slice through pubmed_merged to see what itertools did\n",
    "    pubmed_merged[0]\n",
    "    \n",
    "    # concat main_url with a slice of pubmed_merged before we loop\n",
    "    print(main_url + str(pubmed_merged[0]))\n",
    "    \n",
    "    # append merged links to links_all\n",
    "    for i in range (len(pubmed_merged)):\n",
    "        scrape_links.append(main_url + str(pubmed_merged[i]))"
   ]
  },
  {
   "cell_type": "code",
   "execution_count": 9,
   "metadata": {
    "scrolled": false
   },
   "outputs": [
    {
     "name": "stdout",
     "output_type": "stream",
     "text": [
      "There are 20 articles to scrape.\n",
      "----------------------------------------------\n",
      "<p class=\"title\" xmlns:mml=\"http://www.w3.org/1998/Math/MathML\"><a href=\"/pubmed/29960099\" ref=\"ordinalpos=1&amp;ncbi_uid=29960099&amp;link_uid=29960099&amp;linksrc=docsum_title\">Trx-1 ameliorates learning and memory deficits in MPTP-induced <b>Parkinson</b>'s <b>disease</b> model in mice.</a></p>\n",
      "----------------------------------------------\n",
      "<p class=\"title\" xmlns:mml=\"http://www.w3.org/1998/Math/MathML\"><a href=\"/pubmed/29960040\" ref=\"ordinalpos=2&amp;ncbi_uid=29960040&amp;link_uid=29960040&amp;linksrc=docsum_title\">Lipid vesicles affect the aggregation of 4-hydroxy-2-nonenal-modified α-synuclein oligomers.</a></p>\n",
      "----------------------------------------------\n",
      "<p class=\"title\" xmlns:mml=\"http://www.w3.org/1998/Math/MathML\"><a href=\"/pubmed/29959908\" ref=\"ordinalpos=3&amp;ncbi_uid=29959908&amp;link_uid=29959908&amp;linksrc=docsum_title\">MANF protects dopamine neurons and locomotion defects from a human α-synuclein induced <b>Parkinson</b>'s <b>disease</b> model in C. elegans by regulating ER stress and autophagy pathways.</a></p>\n",
      "----------------------------------------------\n",
      "<p class=\"title\" xmlns:mml=\"http://www.w3.org/1998/Math/MathML\"><a href=\"/pubmed/29959555\" ref=\"ordinalpos=4&amp;ncbi_uid=29959555&amp;link_uid=29959555&amp;linksrc=docsum_title\">Long-term evolution of patient-reported outcome measures in spinocerebellar ataxias.</a></p>\n",
      "----------------------------------------------\n",
      "<p class=\"title\" xmlns:mml=\"http://www.w3.org/1998/Math/MathML\"><a href=\"/pubmed/29959266\" ref=\"ordinalpos=5&amp;ncbi_uid=29959266&amp;link_uid=29959266&amp;linksrc=docsum_title\">Effects of deep brain stimulation on rest tremor progression in early stage <b>Parkinson disease</b>.</a></p>\n",
      "----------------------------------------------\n",
      "<p class=\"title\" xmlns:mml=\"http://www.w3.org/1998/Math/MathML\"><a href=\"/pubmed/29959262\" ref=\"ordinalpos=6&amp;ncbi_uid=29959262&amp;link_uid=29959262&amp;linksrc=docsum_title\">Patients' shifting goals for deep brain stimulation and informed consent.</a></p>\n",
      "----------------------------------------------\n",
      "<p class=\"title\" xmlns:mml=\"http://www.w3.org/1998/Math/MathML\"><a href=\"/pubmed/29959225\" ref=\"ordinalpos=7&amp;ncbi_uid=29959225&amp;link_uid=29959225&amp;linksrc=docsum_title\">Glycosaminoglycans have variable effects on α-synuclein aggregation and differentially affect the activities of the resulting amyloid fibrils.</a></p>\n",
      "----------------------------------------------\n",
      "<p class=\"title\" xmlns:mml=\"http://www.w3.org/1998/Math/MathML\"><a href=\"/pubmed/29958655\" ref=\"ordinalpos=8&amp;ncbi_uid=29958655&amp;link_uid=29958655&amp;linksrc=docsum_title\">Association between attention-deficit/hyperactivity disorder and amyotrophic lateral sclerosis.</a></p>\n",
      "----------------------------------------------\n",
      "<p class=\"title\" xmlns:mml=\"http://www.w3.org/1998/Math/MathML\"><a href=\"/pubmed/29956879\" ref=\"ordinalpos=9&amp;ncbi_uid=29956879&amp;link_uid=29956879&amp;linksrc=docsum_title\">The factors associated with impulse control behaviors in <b>Parkinson</b>'s <b>disease</b>: A 2-year longitudinal retrospective cohort study.</a></p>\n",
      "----------------------------------------------\n",
      "<p class=\"title\" xmlns:mml=\"http://www.w3.org/1998/Math/MathML\"><a href=\"/pubmed/29955824\" ref=\"ordinalpos=10&amp;ncbi_uid=29955824&amp;link_uid=29955824&amp;linksrc=docsum_title\">Evaluation of Linguistic Markers of Word-Finding Difficulty and Cognition in <b>Parkinson</b>'s <b>Disease</b>.</a></p>\n",
      "----------------------------------------------\n",
      "<p class=\"title\" xmlns:mml=\"http://www.w3.org/1998/Math/MathML\"><a href=\"/pubmed/29955562\" ref=\"ordinalpos=11&amp;ncbi_uid=29955562&amp;link_uid=29955562&amp;linksrc=docsum_title\">Implementation and evaluation of <b>Parkinson disease</b> management in an outpatient clinical pharmacist-run neurology telephone clinic.</a></p>\n",
      "----------------------------------------------\n",
      "<p class=\"title\" xmlns:mml=\"http://www.w3.org/1998/Math/MathML\"><a href=\"/pubmed/29955532\" ref=\"ordinalpos=12&amp;ncbi_uid=29955532&amp;link_uid=29955532&amp;linksrc=docsum_title\">Treatment of psychotic symptoms in patients with <b>Parkinson disease</b>.</a></p>\n",
      "----------------------------------------------\n",
      "<p class=\"title\" xmlns:mml=\"http://www.w3.org/1998/Math/MathML\"><a href=\"/pubmed/29955528\" ref=\"ordinalpos=13&amp;ncbi_uid=29955528&amp;link_uid=29955528&amp;linksrc=docsum_title\">Pimavanserin (Nuplazid™) for the treatment of <b>Parkinson disease</b> psychosis: A review of the literature.</a></p>\n",
      "----------------------------------------------\n",
      "<p class=\"title\" xmlns:mml=\"http://www.w3.org/1998/Math/MathML\"><a href=\"/pubmed/29955500\" ref=\"ordinalpos=14&amp;ncbi_uid=29955500&amp;link_uid=29955500&amp;linksrc=docsum_title\">Drug-induced parkinsonism: A case report.</a></p>\n",
      "----------------------------------------------\n",
      "<p class=\"title\" xmlns:mml=\"http://www.w3.org/1998/Math/MathML\"><a href=\"/pubmed/29955495\" ref=\"ordinalpos=15&amp;ncbi_uid=29955495&amp;link_uid=29955495&amp;linksrc=docsum_title\">Evidence for the use of \"medical marijuana\" in psychiatric and neurologic disorders.</a></p>\n",
      "----------------------------------------------\n",
      "<p class=\"title\" xmlns:mml=\"http://www.w3.org/1998/Math/MathML\"><a href=\"/pubmed/29955193\" ref=\"ordinalpos=16&amp;ncbi_uid=29955193&amp;link_uid=29955193&amp;linksrc=docsum_title\">Interaction between Monoamine Oxidase B Inhibitors and Selective Serotonin Reuptake Inhibitors.</a></p>\n",
      "----------------------------------------------\n",
      "<p class=\"title\" xmlns:mml=\"http://www.w3.org/1998/Math/MathML\"><a href=\"/pubmed/29954816\" ref=\"ordinalpos=17&amp;ncbi_uid=29954816&amp;link_uid=29954816&amp;linksrc=docsum_title\">Comparative Study of MRI Biomarkers in the Substantia Nigra to Discriminate Idiopathic <b>Parkinson Disease</b>.</a></p>\n",
      "----------------------------------------------\n",
      "<p class=\"title\" xmlns:mml=\"http://www.w3.org/1998/Math/MathML\"><a href=\"/pubmed/29953689\" ref=\"ordinalpos=18&amp;ncbi_uid=29953689&amp;link_uid=29953689&amp;linksrc=docsum_title\">Visual hallucinations in dementia and <b>Parkinson</b>'s <b>disease</b>: A qualitative exploration of patient and caregiver experiences.</a></p>\n",
      "----------------------------------------------\n",
      "<p class=\"title\" xmlns:mml=\"http://www.w3.org/1998/Math/MathML\"><a href=\"/pubmed/29953040\" ref=\"ordinalpos=19&amp;ncbi_uid=29953040&amp;link_uid=29953040&amp;linksrc=docsum_title\">Therapy With Mesenchymal Stem Cells in <b>Parkinson Disease</b>: History and Perspectives.</a></p>\n",
      "----------------------------------------------\n",
      "<p class=\"title\" xmlns:mml=\"http://www.w3.org/1998/Math/MathML\"><a href=\"/pubmed/29952939\" ref=\"ordinalpos=20&amp;ncbi_uid=29952939&amp;link_uid=29952939&amp;linksrc=docsum_title\">Level of uric acid and uric acid/creatinine ratios in correlation with stage of <b>Parkinson disease</b>.</a></p>\n",
      "----------------------------------------------\n",
      "[['29960099', '29960099', '29960099'], ['29960040', '29960040', '29960040'], ['29959908', '29959908', '29959908'], ['29959555', '29959555', '29959555'], ['29959266', '29959266', '29959266'], ['29959262', '29959262', '29959262'], ['29959225', '29959225', '29959225'], ['29958655', '29958655', '29958655'], ['29956879', '29956879', '29956879'], ['29955824', '29955824', '29955824'], ['29955562', '29955562', '29955562'], ['29955532', '29955532', '29955532'], ['29955528', '29955528', '29955528'], ['29955500', '29955500', '29955500'], ['29955495', '29955495', '29955495'], ['29955193', '29955193', '29955193'], ['29954816', '29954816', '29954816'], ['29953689', '29953689', '29953689'], ['29953040', '29953040', '29953040'], ['29952939', '29952939', '29952939']]\n",
      "----------------------------------------------\n",
      "https://www.ncbi.nlm.nih.gov/pubmed/29960099\n"
     ]
    }
   ],
   "source": [
    "# RUN FUNCTION\n",
    "get_links(main_url)"
   ]
  },
  {
   "cell_type": "markdown",
   "metadata": {},
   "source": [
    "There are duplicates in our **scrape_links** array. Use `list` to delete the duplicates."
   ]
  },
  {
   "cell_type": "code",
   "execution_count": 10,
   "metadata": {},
   "outputs": [
    {
     "data": {
      "text/plain": [
       "20"
      ]
     },
     "execution_count": 10,
     "metadata": {},
     "output_type": "execute_result"
    },
    {
     "data": {
      "text/plain": [
       "['https://www.ncbi.nlm.nih.gov/pubmed/29955532',\n",
       " 'https://www.ncbi.nlm.nih.gov/pubmed/29959266',\n",
       " 'https://www.ncbi.nlm.nih.gov/pubmed/29953689',\n",
       " 'https://www.ncbi.nlm.nih.gov/pubmed/29955500',\n",
       " 'https://www.ncbi.nlm.nih.gov/pubmed/29959262',\n",
       " 'https://www.ncbi.nlm.nih.gov/pubmed/29955562',\n",
       " 'https://www.ncbi.nlm.nih.gov/pubmed/29955528',\n",
       " 'https://www.ncbi.nlm.nih.gov/pubmed/29953040',\n",
       " 'https://www.ncbi.nlm.nih.gov/pubmed/29959225',\n",
       " 'https://www.ncbi.nlm.nih.gov/pubmed/29952939',\n",
       " 'https://www.ncbi.nlm.nih.gov/pubmed/29955495',\n",
       " 'https://www.ncbi.nlm.nih.gov/pubmed/29954816',\n",
       " 'https://www.ncbi.nlm.nih.gov/pubmed/29959908',\n",
       " 'https://www.ncbi.nlm.nih.gov/pubmed/29959555',\n",
       " 'https://www.ncbi.nlm.nih.gov/pubmed/29960099',\n",
       " 'https://www.ncbi.nlm.nih.gov/pubmed/29955824',\n",
       " 'https://www.ncbi.nlm.nih.gov/pubmed/29956879',\n",
       " 'https://www.ncbi.nlm.nih.gov/pubmed/29955193',\n",
       " 'https://www.ncbi.nlm.nih.gov/pubmed/29960040',\n",
       " 'https://www.ncbi.nlm.nih.gov/pubmed/29958655']"
      ]
     },
     "execution_count": 10,
     "metadata": {},
     "output_type": "execute_result"
    }
   ],
   "source": [
    "# delete duplicates in scrape_links and assign to new variable scrape_links_final\n",
    "scrape_links_final = list(set(scrape_links))\n",
    "len(scrape_links_final)\n",
    "scrape_links_final"
   ]
  },
  {
   "cell_type": "markdown",
   "metadata": {},
   "source": [
    "## Main array of links to scrape:\n",
    "\n",
    "Here we use selenium to iterate through these links. Seleium will click on each link then scrape the title and abstracts on each page. "
   ]
  },
  {
   "cell_type": "code",
   "execution_count": 11,
   "metadata": {},
   "outputs": [
    {
     "name": "stdout",
     "output_type": "stream",
     "text": [
      "https://www.ncbi.nlm.nih.gov/pubmed/29955532\n",
      "https://www.ncbi.nlm.nih.gov/pubmed/29959266\n",
      "https://www.ncbi.nlm.nih.gov/pubmed/29953689\n",
      "https://www.ncbi.nlm.nih.gov/pubmed/29955500\n",
      "https://www.ncbi.nlm.nih.gov/pubmed/29959262\n",
      "https://www.ncbi.nlm.nih.gov/pubmed/29955562\n",
      "https://www.ncbi.nlm.nih.gov/pubmed/29955528\n",
      "https://www.ncbi.nlm.nih.gov/pubmed/29953040\n",
      "https://www.ncbi.nlm.nih.gov/pubmed/29959225\n",
      "https://www.ncbi.nlm.nih.gov/pubmed/29952939\n",
      "https://www.ncbi.nlm.nih.gov/pubmed/29955495\n",
      "https://www.ncbi.nlm.nih.gov/pubmed/29954816\n",
      "https://www.ncbi.nlm.nih.gov/pubmed/29959908\n",
      "https://www.ncbi.nlm.nih.gov/pubmed/29959555\n",
      "https://www.ncbi.nlm.nih.gov/pubmed/29960099\n",
      "https://www.ncbi.nlm.nih.gov/pubmed/29955824\n",
      "https://www.ncbi.nlm.nih.gov/pubmed/29956879\n",
      "https://www.ncbi.nlm.nih.gov/pubmed/29955193\n",
      "https://www.ncbi.nlm.nih.gov/pubmed/29960040\n",
      "https://www.ncbi.nlm.nih.gov/pubmed/29958655\n"
     ]
    }
   ],
   "source": [
    "# testing scrape_links\n",
    "for i in scrape_links_final:\n",
    "    print(i)"
   ]
  },
  {
   "cell_type": "markdown",
   "metadata": {},
   "source": [
    "## OLD SCRIPT - DONT RUN \n",
    "***The following is nested inside the function above***"
   ]
  },
  {
   "cell_type": "code",
   "execution_count": null,
   "metadata": {
    "collapsed": true
   },
   "outputs": [],
   "source": [
    "# # scrape journal links, delete first link\n",
    "# links = soup.find_all(\"p\",attrs={'class':'links'})\n",
    "# links.pop(0)\n",
    "\n",
    "# # testing to see how my links / journals to scrape\n",
    "# print(len(links))\n",
    "\n",
    "# # set empty array to append all links to\n",
    "# links_all = []\n",
    "\n",
    "# # loop through links to convert to string\n",
    "# for i in range (0,19):\n",
    "#     links_all.append(str(links[i]))\n",
    "#     print(links[i])\n",
    "#     print(\"----------------------------------------------\")\n",
    "\n",
    "# # slice through links_all to test\n",
    "# len(links_all)\n",
    "# links_all[1]\n",
    "\n",
    "# # create empty list to append pubmed_ids to\n",
    "# pubmed_ids = []\n",
    "\n",
    "# # loop through links all and use regex to grab the id numbers\n",
    "# for i in range (len(links_all)):\n",
    "#     pubmed_ids.append(re.findall(r'\\d{8}',links_all[i]))\n",
    "\n",
    "# # print out info for pubmed_ids\n",
    "# len(pubmed_ids)\n",
    "# type(pubmed_ids)\n",
    "# print(pubmed_ids)\n",
    "\n",
    "# # use itertools to transform pubmed ids from an array withn an array into one list\n",
    "# import itertools\n",
    "# pubmed_merged = list(itertools.chain.from_iterable(pubmed_ids))\n",
    "\n",
    "# # slice through pubmed_merged to see what itertools did\n",
    "# pubmed_merged[0]\n",
    "\n",
    "# # concat main_url with a slice of pubmed_merged before we loop\n",
    "# print(main_url + str(pubmed_merged[0]))\n",
    "\n",
    "# links_all = []\n",
    "\n",
    "# for i in range (len(pubmed_merged)):\n",
    "#     links_all.append(main_url + str(pubmed_merged[i]))"
   ]
  },
  {
   "cell_type": "markdown",
   "metadata": {},
   "source": [
    "## END OF OLD SCRIPT \n",
    "<br>\n",
    "<br>"
   ]
  },
  {
   "cell_type": "markdown",
   "metadata": {},
   "source": [
    "## Regex Notes"
   ]
  },
  {
   "cell_type": "code",
   "execution_count": null,
   "metadata": {
    "collapsed": true
   },
   "outputs": [],
   "source": [
    "# Regex\n",
    "# Identifiers:\n",
    "# \\d any number\n",
    "# \\D anything but a number\n",
    "# \\s space\n",
    "# \\S anything but a space\n",
    "# \\w any character\n",
    "# \\W anything but a character\n",
    "# . any character, except for a newline\n",
    "# \\b the whitespace around words\n",
    "# \\. a period\n",
    "\n",
    "# Modifiers:\n",
    "# {1,3} we're expecting 1-3 \\d{1-3}\n",
    "# + Match 1 or more\n",
    "# ? Match 0 or more\n",
    "# * Match 0 or more\n",
    "# $ Match the end of a string\n",
    "# ^ matching the beginning of a string\n",
    "# | either or\n",
    "# [] range or \"variance\" [A-Za-z] [1-5a-qA-Z]\n",
    "# {x} expecting \"x\" amount\n",
    "\n",
    "# White Space Characters: \n",
    "# \\n new line\n",
    "# \\s space\n",
    "# \\t tab\n",
    "# \\e escape\n",
    "# \\f form feed\n",
    "# \\r return\n",
    "\n",
    "# DONT FORGET!:\n",
    "# . + * [] $ ^ () {} | \\"
   ]
  },
  {
   "cell_type": "markdown",
   "metadata": {
    "collapsed": true
   },
   "source": [
    "## Selenium\n",
    "**Web Browser Automation**"
   ]
  },
  {
   "cell_type": "code",
   "execution_count": 12,
   "metadata": {
    "collapsed": true
   },
   "outputs": [],
   "source": [
    "from splinter import Browser\n",
    "from selenium import webdriver"
   ]
  },
  {
   "cell_type": "code",
   "execution_count": 13,
   "metadata": {
    "collapsed": true
   },
   "outputs": [],
   "source": [
    "# make sure chrome browser exe is in current directory\n",
    "# chrome browser exe is not necessary for MACS\n",
    "executable_path = {'executable_path': 'chromedriver'}"
   ]
  },
  {
   "cell_type": "code",
   "execution_count": 14,
   "metadata": {
    "collapsed": true
   },
   "outputs": [],
   "source": [
    "# test with one link\n",
    "# hard code article_one\n",
    "article_one = scrape_links_final[0]"
   ]
  },
  {
   "cell_type": "markdown",
   "metadata": {},
   "source": [
    "### start of original bs scrape script - DONT RUN"
   ]
  },
  {
   "cell_type": "code",
   "execution_count": 50,
   "metadata": {
    "collapsed": true
   },
   "outputs": [],
   "source": [
    "# # script to set up bs scraper\n",
    "# browser = Browser('chrome', headless=False)\n",
    "# html = browser.html\n",
    "# response2 = requests.get(article_one)\n",
    "# soup2 = bs(response2.text, 'html.parser')\n",
    "# browser.visit(article_one)"
   ]
  },
  {
   "cell_type": "markdown",
   "metadata": {
    "collapsed": true
   },
   "source": [
    "### ^ end of original bs scrape script"
   ]
  },
  {
   "cell_type": "markdown",
   "metadata": {},
   "source": [
    "## Set up dictionary to append data to"
   ]
  },
  {
   "cell_type": "code",
   "execution_count": 27,
   "metadata": {
    "collapsed": true
   },
   "outputs": [],
   "source": [
    "article_dict = {\"title\": [],\n",
    "               \"abstract\": []}"
   ]
  },
  {
   "cell_type": "markdown",
   "metadata": {},
   "source": [
    "## Create get title function"
   ]
  },
  {
   "cell_type": "code",
   "execution_count": 51,
   "metadata": {
    "collapsed": true
   },
   "outputs": [],
   "source": [
    "title = []\n",
    "abstract = []\n",
    "\n",
    "def get_title(article_one):\n",
    "    \n",
    "    # sets up scraper\n",
    "    browser = Browser('chrome', headless=False)\n",
    "    html = browser.html\n",
    "    response2 = requests.get(article_one)\n",
    "    soup2 = bs(response2.text, 'html.parser')\n",
    "    \n",
    "    browser.visit(article_one)\n",
    "    \n",
    "    # there are two 'h1' tags on this page. slice out index 0\n",
    "    title_one = soup2.find_all('h1')\n",
    "    article_one_title = title_one[1].text.strip()\n",
    "    \n",
    "    # slice h1 at index 1 to grab article title\n",
    "    title.append(article_one_title)\n",
    "    \n",
    "    # get abstract\n",
    "    abstract.append(soup2.find(\"div\", attrs={'class': 'rprt_all'}).text.strip())\n",
    "    \n",
    "    # return title and abstract\n",
    "    # return title\n",
    "    print (title)\n",
    "    print('\\n')\n",
    "    print(abstract)"
   ]
  },
  {
   "cell_type": "markdown",
   "metadata": {},
   "source": [
    "## Run get_title function"
   ]
  },
  {
   "cell_type": "code",
   "execution_count": 52,
   "metadata": {},
   "outputs": [
    {
     "name": "stdout",
     "output_type": "stream",
     "text": [
      "['Treatment of psychotic symptoms in patients with Parkinson disease.']\n",
      "\n",
      "\n",
      "[\"Ment Health Clin. 2018 Mar 23;7(6):262-270. doi: 10.9740/mhc.2017.11.262. eCollection  2017 Nov.Treatment of psychotic symptoms in patients with Parkinson disease.Chen JJ1.Author information1Professor and Chair, Department of Pharmacy Practice, College of Pharmacy, Marshall B. Ketchum University, Fullerton, California; Professor, Department of Neurology, Loma Linda University, Loma Linda, California, jchen@ketchum.edu.AbstractPersistent psychotic symptoms will develop in up to 60% of patients with Parkinson disease (PD). The initial approach to the management of PD psychosis (PDP) begins with addressing concurrent systemic conditions associated with psychotic behavior, such as delirium, medical conditions (eg, infections), psychiatric disorders (eg, major depression with psychotic symptoms, mania, schizophrenia), and substance misuse or withdrawal. A review of current medications is recommended, and medications that may trigger psychotic symptoms should be eliminated. If possible, antiparkinson medications should be reduced to the minimum therapeutic dose or discontinued in a sequential manner. Generally, dose reduction or discontinuation of anticholinergics is attempted first, followed by that of monoamine oxidase B inhibitors, amantadine, dopamine agonists, catechol-O-methyltransferase inhibitors, and lastly carbidopa/levodopa. The aim of antiparkinson medication dose reduction is to achieve a balance between improving drug-related psychotic symptoms and not significantly worsening the motor symptoms of PD. If additional measures are needed for chronic PDP treatment, the use of second-generation antipsychotics, such as clozapine, pimavanserin, or quetiapine, must be considered. The first-generation antipsychotics (eg, fluphenazine, haloperidol) are not recommended. In the patient with comorbid dementia, the addition of a cholinesterase inhibitor might also be beneficial for PDP. The choice of agent is based on patient-specific parameters, potential benefit, and side effects.KEYWORDS: Parkinson disease; antipsychotics; clozapine; movement disorders; nonmotor symptoms; pimavanserin; psychosis; quetiapinePMID: 29955532 PMCID: PMC6007727 DOI: 10.9740/mhc.2017.11.262 ShareConflict of interest statementDisclosures: J.J.C. is on the Speaker's Bureau for ACADIA Pharmaceuticals. Psychopharmacology Pearls are review articles intended to highlight both the evidence base available and/or controversial areas of clinical care for psychiatric and neurologic conditions, as well as strategies of clinical decision-making used by expert clinicians. As pearls, articles reflect the views and practice of each author as substantiated with evidence-based facts as well as opinion and experience. Articles are edited by members of the Psychopharmacology Pearls Editorial Board and are peer reviewed by MHC reviewers. This article was developed as part of the 2017 Psychopharmacology Pearls product for BCPP recertification credit. The course information and testing center is at cpnp.org/322903.\"]\n"
     ]
    }
   ],
   "source": [
    "get_title(article_one)"
   ]
  },
  {
   "cell_type": "code",
   "execution_count": 58,
   "metadata": {},
   "outputs": [
    {
     "name": "stdout",
     "output_type": "stream",
     "text": [
      "['Treatment of psychotic symptoms in patients with Parkinson disease.']\n"
     ]
    }
   ],
   "source": [
    "print(title)"
   ]
  },
  {
   "cell_type": "code",
   "execution_count": 59,
   "metadata": {},
   "outputs": [
    {
     "name": "stdout",
     "output_type": "stream",
     "text": [
      "[\"Ment Health Clin. 2018 Mar 23;7(6):262-270. doi: 10.9740/mhc.2017.11.262. eCollection  2017 Nov.Treatment of psychotic symptoms in patients with Parkinson disease.Chen JJ1.Author information1Professor and Chair, Department of Pharmacy Practice, College of Pharmacy, Marshall B. Ketchum University, Fullerton, California; Professor, Department of Neurology, Loma Linda University, Loma Linda, California, jchen@ketchum.edu.AbstractPersistent psychotic symptoms will develop in up to 60% of patients with Parkinson disease (PD). The initial approach to the management of PD psychosis (PDP) begins with addressing concurrent systemic conditions associated with psychotic behavior, such as delirium, medical conditions (eg, infections), psychiatric disorders (eg, major depression with psychotic symptoms, mania, schizophrenia), and substance misuse or withdrawal. A review of current medications is recommended, and medications that may trigger psychotic symptoms should be eliminated. If possible, antiparkinson medications should be reduced to the minimum therapeutic dose or discontinued in a sequential manner. Generally, dose reduction or discontinuation of anticholinergics is attempted first, followed by that of monoamine oxidase B inhibitors, amantadine, dopamine agonists, catechol-O-methyltransferase inhibitors, and lastly carbidopa/levodopa. The aim of antiparkinson medication dose reduction is to achieve a balance between improving drug-related psychotic symptoms and not significantly worsening the motor symptoms of PD. If additional measures are needed for chronic PDP treatment, the use of second-generation antipsychotics, such as clozapine, pimavanserin, or quetiapine, must be considered. The first-generation antipsychotics (eg, fluphenazine, haloperidol) are not recommended. In the patient with comorbid dementia, the addition of a cholinesterase inhibitor might also be beneficial for PDP. The choice of agent is based on patient-specific parameters, potential benefit, and side effects.KEYWORDS: Parkinson disease; antipsychotics; clozapine; movement disorders; nonmotor symptoms; pimavanserin; psychosis; quetiapinePMID: 29955532 PMCID: PMC6007727 DOI: 10.9740/mhc.2017.11.262 ShareConflict of interest statementDisclosures: J.J.C. is on the Speaker's Bureau for ACADIA Pharmaceuticals. Psychopharmacology Pearls are review articles intended to highlight both the evidence base available and/or controversial areas of clinical care for psychiatric and neurologic conditions, as well as strategies of clinical decision-making used by expert clinicians. As pearls, articles reflect the views and practice of each author as substantiated with evidence-based facts as well as opinion and experience. Articles are edited by members of the Psychopharmacology Pearls Editorial Board and are peer reviewed by MHC reviewers. This article was developed as part of the 2017 Psychopharmacology Pearls product for BCPP recertification credit. The course information and testing center is at cpnp.org/322903.\"]\n"
     ]
    }
   ],
   "source": [
    "print(abstract)"
   ]
  },
  {
   "cell_type": "markdown",
   "metadata": {},
   "source": [
    "## Add title and abstract to article_dict"
   ]
  },
  {
   "cell_type": "code",
   "execution_count": 55,
   "metadata": {
    "collapsed": true
   },
   "outputs": [],
   "source": [
    "article_dict[\"title\"].append(title)\n",
    "article_dict[\"abstract\"].append(abstract)"
   ]
  },
  {
   "cell_type": "code",
   "execution_count": 57,
   "metadata": {},
   "outputs": [
    {
     "name": "stdout",
     "output_type": "stream",
     "text": [
      "{'title': [['Treatment of psychotic symptoms in patients with Parkinson disease.']], 'abstract': [[\"Ment Health Clin. 2018 Mar 23;7(6):262-270. doi: 10.9740/mhc.2017.11.262. eCollection  2017 Nov.Treatment of psychotic symptoms in patients with Parkinson disease.Chen JJ1.Author information1Professor and Chair, Department of Pharmacy Practice, College of Pharmacy, Marshall B. Ketchum University, Fullerton, California; Professor, Department of Neurology, Loma Linda University, Loma Linda, California, jchen@ketchum.edu.AbstractPersistent psychotic symptoms will develop in up to 60% of patients with Parkinson disease (PD). The initial approach to the management of PD psychosis (PDP) begins with addressing concurrent systemic conditions associated with psychotic behavior, such as delirium, medical conditions (eg, infections), psychiatric disorders (eg, major depression with psychotic symptoms, mania, schizophrenia), and substance misuse or withdrawal. A review of current medications is recommended, and medications that may trigger psychotic symptoms should be eliminated. If possible, antiparkinson medications should be reduced to the minimum therapeutic dose or discontinued in a sequential manner. Generally, dose reduction or discontinuation of anticholinergics is attempted first, followed by that of monoamine oxidase B inhibitors, amantadine, dopamine agonists, catechol-O-methyltransferase inhibitors, and lastly carbidopa/levodopa. The aim of antiparkinson medication dose reduction is to achieve a balance between improving drug-related psychotic symptoms and not significantly worsening the motor symptoms of PD. If additional measures are needed for chronic PDP treatment, the use of second-generation antipsychotics, such as clozapine, pimavanserin, or quetiapine, must be considered. The first-generation antipsychotics (eg, fluphenazine, haloperidol) are not recommended. In the patient with comorbid dementia, the addition of a cholinesterase inhibitor might also be beneficial for PDP. The choice of agent is based on patient-specific parameters, potential benefit, and side effects.KEYWORDS: Parkinson disease; antipsychotics; clozapine; movement disorders; nonmotor symptoms; pimavanserin; psychosis; quetiapinePMID: 29955532 PMCID: PMC6007727 DOI: 10.9740/mhc.2017.11.262 ShareConflict of interest statementDisclosures: J.J.C. is on the Speaker's Bureau for ACADIA Pharmaceuticals. Psychopharmacology Pearls are review articles intended to highlight both the evidence base available and/or controversial areas of clinical care for psychiatric and neurologic conditions, as well as strategies of clinical decision-making used by expert clinicians. As pearls, articles reflect the views and practice of each author as substantiated with evidence-based facts as well as opinion and experience. Articles are edited by members of the Psychopharmacology Pearls Editorial Board and are peer reviewed by MHC reviewers. This article was developed as part of the 2017 Psychopharmacology Pearls product for BCPP recertification credit. The course information and testing center is at cpnp.org/322903.\"]]}\n"
     ]
    }
   ],
   "source": [
    "print(article_dict)"
   ]
  },
  {
   "cell_type": "code",
   "execution_count": null,
   "metadata": {
    "collapsed": true
   },
   "outputs": [],
   "source": []
  },
  {
   "cell_type": "code",
   "execution_count": null,
   "metadata": {
    "collapsed": true
   },
   "outputs": [],
   "source": []
  },
  {
   "cell_type": "code",
   "execution_count": null,
   "metadata": {
    "collapsed": true
   },
   "outputs": [],
   "source": []
  },
  {
   "cell_type": "code",
   "execution_count": null,
   "metadata": {
    "collapsed": true
   },
   "outputs": [],
   "source": []
  },
  {
   "cell_type": "code",
   "execution_count": null,
   "metadata": {
    "collapsed": true
   },
   "outputs": [],
   "source": []
  },
  {
   "cell_type": "code",
   "execution_count": null,
   "metadata": {
    "collapsed": true
   },
   "outputs": [],
   "source": []
  },
  {
   "cell_type": "code",
   "execution_count": null,
   "metadata": {
    "collapsed": true
   },
   "outputs": [],
   "source": []
  },
  {
   "cell_type": "code",
   "execution_count": null,
   "metadata": {
    "collapsed": true
   },
   "outputs": [],
   "source": []
  },
  {
   "cell_type": "code",
   "execution_count": null,
   "metadata": {
    "collapsed": true
   },
   "outputs": [],
   "source": []
  },
  {
   "cell_type": "markdown",
   "metadata": {},
   "source": [
    "<br>\n",
    "<br>\n",
    "<br>\n",
    "<br>\n",
    "<br>\n",
    "\n",
    "## Older scripts"
   ]
  },
  {
   "cell_type": "markdown",
   "metadata": {},
   "source": [
    "<br>\n",
    "<br>\n",
    "<br>"
   ]
  },
  {
   "cell_type": "markdown",
   "metadata": {},
   "source": [
    "# Older section to scrape abstract"
   ]
  },
  {
   "cell_type": "code",
   "execution_count": 20,
   "metadata": {
    "collapsed": true
   },
   "outputs": [],
   "source": [
    "# grabs the entire abstracted nested with the <p> tag\n",
    "text_main = soup2.find_all('p')"
   ]
  },
  {
   "cell_type": "markdown",
   "metadata": {},
   "source": [
    "## Abstract"
   ]
  },
  {
   "cell_type": "code",
   "execution_count": 21,
   "metadata": {},
   "outputs": [
    {
     "data": {
      "text/plain": [
       "'Persistent psychotic symptoms will develop in up to 60% of patients with Parkinson disease (PD). The initial approach to the management of PD psychosis (PDP) begins with addressing concurrent systemic conditions associated with psychotic behavior, such as delirium, medical conditions (eg, infections), psychiatric disorders (eg, major depression with psychotic symptoms, mania, schizophrenia), and substance misuse or withdrawal. A review of current medications is recommended, and medications that may trigger psychotic symptoms should be eliminated. If possible, antiparkinson medications should be reduced to the minimum therapeutic dose or discontinued in a sequential manner. Generally, dose reduction or discontinuation of anticholinergics is attempted first, followed by that of monoamine oxidase B inhibitors, amantadine, dopamine agonists, catechol-O-methyltransferase inhibitors, and lastly carbidopa/levodopa. The aim of antiparkinson medication dose reduction is to achieve a balance between improving drug-related psychotic symptoms and not significantly worsening the motor symptoms of PD. If additional measures are needed for chronic PDP treatment, the use of second-generation antipsychotics, such as clozapine, pimavanserin, or quetiapine, must be considered. The first-generation antipsychotics (eg, fluphenazine, haloperidol) are not recommended. In the patient with comorbid dementia, the addition of a cholinesterase inhibitor might also be beneficial for PDP. The choice of agent is based on patient-specific parameters, potential benefit, and side effects.'"
      ]
     },
     "execution_count": 21,
     "metadata": {},
     "output_type": "execute_result"
    }
   ],
   "source": [
    "abstract = text_main[9].text.strip()\n",
    "abstract"
   ]
  },
  {
   "cell_type": "markdown",
   "metadata": {},
   "source": [
    "## Review Summary"
   ]
  },
  {
   "cell_type": "code",
   "execution_count": 22,
   "metadata": {},
   "outputs": [
    {
     "data": {
      "text/plain": [
       "'Parkinson disease; antipsychotics; clozapine; movement disorders; nonmotor symptoms; pimavanserin; psychosis; quetiapine'"
      ]
     },
     "execution_count": 22,
     "metadata": {},
     "output_type": "execute_result"
    }
   ],
   "source": [
    "review_summary = text_main[10].text.strip()\n",
    "review_summary"
   ]
  },
  {
   "cell_type": "markdown",
   "metadata": {},
   "source": [
    "## Conclusion"
   ]
  },
  {
   "cell_type": "code",
   "execution_count": 23,
   "metadata": {
    "scrolled": true
   },
   "outputs": [
    {
     "data": {
      "text/plain": [
       "\"Disclosures: J.J.C. is on the Speaker's Bureau for ACADIA Pharmaceuticals. Psychopharmacology Pearls are review articles intended to highlight both the evidence base available and/or controversial areas of clinical care for psychiatric and neurologic conditions, as well as strategies of clinical decision-making used by expert clinicians. As pearls, articles reflect the views and practice of each author as substantiated with evidence-based facts as well as opinion and experience. Articles are edited by members of the Psychopharmacology Pearls Editorial Board and are peer reviewed by MHC reviewers. This article was developed as part of the 2017 Psychopharmacology Pearls product for BCPP recertification credit. The course information and testing center is at cpnp.org/322903.\""
      ]
     },
     "execution_count": 23,
     "metadata": {},
     "output_type": "execute_result"
    }
   ],
   "source": [
    "conclusion = text_main[11].text.strip()\n",
    "conclusion"
   ]
  },
  {
   "cell_type": "code",
   "execution_count": null,
   "metadata": {
    "collapsed": true
   },
   "outputs": [],
   "source": []
  }
 ],
 "metadata": {
  "kernelspec": {
   "display_name": "Python 3",
   "language": "python",
   "name": "python3"
  },
  "language_info": {
   "codemirror_mode": {
    "name": "ipython",
    "version": 3
   },
   "file_extension": ".py",
   "mimetype": "text/x-python",
   "name": "python",
   "nbconvert_exporter": "python",
   "pygments_lexer": "ipython3",
   "version": "3.6.4"
  }
 },
 "nbformat": 4,
 "nbformat_minor": 2
}
