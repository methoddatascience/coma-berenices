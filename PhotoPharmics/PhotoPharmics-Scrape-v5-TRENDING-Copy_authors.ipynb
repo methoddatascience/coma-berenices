{
 "cells": [
  {
   "cell_type": "markdown",
   "metadata": {},
   "source": [
    "## Pub Med Scraper"
   ]
  },
  {
   "cell_type": "code",
   "execution_count": 2,
   "metadata": {
    "collapsed": true
   },
   "outputs": [],
   "source": [
    "# scrape dependencies\n",
    "import requests\n",
    "import re\n",
    "from bs4 import BeautifulSoup as bs\n",
    "\n",
    "# data analysis dependencies\n",
    "import pandas as pd\n",
    "import numpy as np\n",
    "import csv\n",
    "\n",
    "# ipynb dependencies\n",
    "from IPython.core.interactiveshell import InteractiveShell\n",
    "InteractiveShell.ast_node_interactivity = \"all\"\n",
    "import warnings\n",
    "warnings.filterwarnings('ignore')\n",
    "\n",
    "# viz dependencies\n",
    "%matplotlib inline\n",
    "import matplotlib.pyplot as plt\n",
    "import seaborn as sns\n",
    "plt.style.use('fivethirtyeight')\n",
    "\n",
    "import datetime as dt\n",
    "import time"
   ]
  },
  {
   "cell_type": "code",
   "execution_count": 3,
   "metadata": {},
   "outputs": [
    {
     "name": "stdout",
     "output_type": "stream",
     "text": [
      "https://www.ncbi.nlm.nih.gov/pubmed/trending/\n"
     ]
    }
   ],
   "source": [
    "# set the url to scrape\n",
    "url = 'https://www.ncbi.nlm.nih.gov/pubmed/trending/'\n",
    "print(url)"
   ]
  },
  {
   "cell_type": "code",
   "execution_count": 4,
   "metadata": {
    "collapsed": true
   },
   "outputs": [],
   "source": [
    "# set up beautiful soup to scrape\n",
    "response = requests.get(url)\n",
    "soup = bs(response.text, 'html.parser')"
   ]
  },
  {
   "cell_type": "code",
   "execution_count": 5,
   "metadata": {
    "collapsed": true
   },
   "outputs": [],
   "source": [
    "# lets scrape the article titles\n",
    "journals = soup.find_all(\"p\", attrs={'class':'title'})"
   ]
  },
  {
   "cell_type": "code",
   "execution_count": 6,
   "metadata": {},
   "outputs": [
    {
     "name": "stdout",
     "output_type": "stream",
     "text": [
      "There are 20 journals to scrape on the first page.\n"
     ]
    }
   ],
   "source": [
    "# searching for the journal titles\n",
    "journals_len = len(journals)\n",
    "print(f\"There are {journals_len} journals to scrape on the first page.\")"
   ]
  },
  {
   "cell_type": "code",
   "execution_count": 7,
   "metadata": {},
   "outputs": [
    {
     "data": {
      "text/plain": [
       "'High-quality genomes reveal new differences between the great apes.'"
      ]
     },
     "execution_count": 7,
     "metadata": {},
     "output_type": "execute_result"
    },
    {
     "data": {
      "text/plain": [
       "'The role of ADAMTS13 testing in the diagnosis and management of thrombotic microangiopathies and thrombosis.'"
      ]
     },
     "execution_count": 7,
     "metadata": {},
     "output_type": "execute_result"
    },
    {
     "data": {
      "text/plain": [
       "'Reprogramming human T cell function and specificity with non-viral genome targeting.'"
      ]
     },
     "execution_count": 7,
     "metadata": {},
     "output_type": "execute_result"
    },
    {
     "data": {
      "text/plain": [
       "'The oncometabolite D-2-hydroxyglutarate is an intercellular mediator in IDH-mutant gliomas that inhibits both complement and T cells.'"
      ]
     },
     "execution_count": 7,
     "metadata": {},
     "output_type": "execute_result"
    },
    {
     "data": {
      "text/plain": [
       "'Unexpected similarities between C9ORF72 and sporadic forms of ALS/FTD suggest a common disease mechanism.'"
      ]
     },
     "execution_count": 7,
     "metadata": {},
     "output_type": "execute_result"
    },
    {
     "data": {
      "text/plain": [
       "'Repair of double-strand breaks induced by CRISPR-Cas9 leads to large deletions and complex rearrangements.'"
      ]
     },
     "execution_count": 7,
     "metadata": {},
     "output_type": "execute_result"
    },
    {
     "data": {
      "text/plain": [
       "'Co-expression of CD39 and CD103 identifies tumor-reactive CD8 T cells in human solid tumors.'"
      ]
     },
     "execution_count": 7,
     "metadata": {},
     "output_type": "execute_result"
    },
    {
     "data": {
      "text/plain": [
       "'DNMT3A and TET1 cooperate to regulate promoter epigenetic landscapes in mouse embryonic stem cells.'"
      ]
     },
     "execution_count": 7,
     "metadata": {},
     "output_type": "execute_result"
    },
    {
     "data": {
      "text/plain": [
       "'Equity in Physical Activity: A Misguided Goal.'"
      ]
     },
     "execution_count": 7,
     "metadata": {},
     "output_type": "execute_result"
    },
    {
     "data": {
      "text/plain": [
       "'Author Correction: What models eat.'"
      ]
     },
     "execution_count": 7,
     "metadata": {},
     "output_type": "execute_result"
    },
    {
     "data": {
      "text/plain": [
       "'Prediction of acute myeloid leukaemia risk in healthy individuals.'"
      ]
     },
     "execution_count": 7,
     "metadata": {},
     "output_type": "execute_result"
    },
    {
     "data": {
      "text/plain": [
       "'Cancer immune therapy for lymphoid malignancies: recent advances.'"
      ]
     },
     "execution_count": 7,
     "metadata": {},
     "output_type": "execute_result"
    },
    {
     "data": {
      "text/plain": [
       "'A Mediterranean-like dietary pattern with vitamin D3 (10 µg/d) supplements reduced the rate of bone loss in older Europeans with osteoporosis at baseline: results of a 1-y randomized controlled trial.'"
      ]
     },
     "execution_count": 7,
     "metadata": {},
     "output_type": "execute_result"
    },
    {
     "data": {
      "text/plain": [
       "'Interacting organelles.'"
      ]
     },
     "execution_count": 7,
     "metadata": {},
     "output_type": "execute_result"
    },
    {
     "data": {
      "text/plain": [
       "'Physical and Mental Effects of Bathing: A Randomized Intervention Study.'"
      ]
     },
     "execution_count": 7,
     "metadata": {},
     "output_type": "execute_result"
    },
    {
     "data": {
      "text/plain": [
       "'Günter Blobel (1936–2018)'"
      ]
     },
     "execution_count": 7,
     "metadata": {},
     "output_type": "execute_result"
    },
    {
     "data": {
      "text/plain": [
       "'Bacterial Endospores as Phage Genome Carriers and Protective Shells.'"
      ]
     },
     "execution_count": 7,
     "metadata": {},
     "output_type": "execute_result"
    },
    {
     "data": {
      "text/plain": [
       "'Histidine catabolism is a major determinant of methotrexate sensitivity.'"
      ]
     },
     "execution_count": 7,
     "metadata": {},
     "output_type": "execute_result"
    },
    {
     "data": {
      "text/plain": [
       "'Enhancing T cell therapy through TCR-signaling-responsive nanoparticle drug delivery.'"
      ]
     },
     "execution_count": 7,
     "metadata": {},
     "output_type": "execute_result"
    },
    {
     "data": {
      "text/plain": [
       "'Health risks of using mothballs in Greater Accra, Ghana.'"
      ]
     },
     "execution_count": 7,
     "metadata": {},
     "output_type": "execute_result"
    }
   ],
   "source": [
    "# loop through journals to print titles\n",
    "for i in range(journals_len):\n",
    "    journals[i].text.strip()"
   ]
  },
  {
   "cell_type": "markdown",
   "metadata": {},
   "source": [
    "## Set main url to concat with pubmed ids"
   ]
  },
  {
   "cell_type": "code",
   "execution_count": 8,
   "metadata": {
    "scrolled": false
   },
   "outputs": [
    {
     "name": "stdout",
     "output_type": "stream",
     "text": [
      "https://www.ncbi.nlm.nih.gov/pubmed/\n"
     ]
    }
   ],
   "source": [
    "# set the main url that we will concatanate with the pubmed id\n",
    "main_url = 'https://www.ncbi.nlm.nih.gov/pubmed/'\n",
    "print(main_url)"
   ]
  },
  {
   "cell_type": "markdown",
   "metadata": {},
   "source": [
    "<br>\n",
    "<br>\n",
    "# TESTING SECTION ------------------------------------------------------------------"
   ]
  },
  {
   "cell_type": "code",
   "execution_count": 9,
   "metadata": {
    "collapsed": true
   },
   "outputs": [],
   "source": [
    "# set empty links_all list to append to \n",
    "links_all = []\n",
    "\n",
    "# set pubmed ids list to append to\n",
    "pubmed_ids = []\n",
    "\n",
    "# set empty list to append scrape_links to\n",
    "scrape_links = []"
   ]
  },
  {
   "cell_type": "code",
   "execution_count": 10,
   "metadata": {},
   "outputs": [
    {
     "name": "stdout",
     "output_type": "stream",
     "text": [
      "<p class=\"title\" xmlns:mml=\"http://www.w3.org/1998/Math/MathML\"><a href=\"/pubmed/30006623\" ref=\"ordinalpos=1&amp;ncbi_uid=30006623&amp;link_uid=30006623&amp;linksrc=docsum_title\">High-quality genomes reveal new differences between the great apes.</a></p>\n"
     ]
    }
   ],
   "source": [
    "# use bs to scarpe p tags with class - title\n",
    "links = soup.find_all(\"p\",attrs={'class':'title'})\n",
    "print(links[0])"
   ]
  },
  {
   "cell_type": "code",
   "execution_count": 11,
   "metadata": {},
   "outputs": [
    {
     "name": "stdout",
     "output_type": "stream",
     "text": [
      "There are 20 articles to scrape.\n",
      "----------------------------------------------\n"
     ]
    }
   ],
   "source": [
    "# testing to see how my links / journals to scrape\n",
    "articles_to_scrape = len(links)\n",
    "print(f\"There are {articles_to_scrape} articles to scrape.\")\n",
    "print(\"----------------------------------------------\")"
   ]
  },
  {
   "cell_type": "code",
   "execution_count": 12,
   "metadata": {},
   "outputs": [
    {
     "name": "stdout",
     "output_type": "stream",
     "text": [
      "<p class=\"title\" xmlns:mml=\"http://www.w3.org/1998/Math/MathML\"><a href=\"/pubmed/30006623\" ref=\"ordinalpos=1&amp;ncbi_uid=30006623&amp;link_uid=30006623&amp;linksrc=docsum_title\">High-quality genomes reveal new differences between the great apes.</a></p>\n",
      "----------------------------------------------\n",
      "<p class=\"title\" xmlns:mml=\"http://www.w3.org/1998/Math/MathML\"><a href=\"/pubmed/30006329\" ref=\"ordinalpos=2&amp;ncbi_uid=30006329&amp;link_uid=30006329&amp;linksrc=docsum_title\">The role of ADAMTS13 testing in the diagnosis and management of thrombotic microangiopathies and thrombosis.</a></p>\n",
      "----------------------------------------------\n",
      "<p class=\"title\" xmlns:mml=\"http://www.w3.org/1998/Math/MathML\"><a href=\"/pubmed/29995861\" ref=\"ordinalpos=3&amp;ncbi_uid=29995861&amp;link_uid=29995861&amp;linksrc=docsum_title\">Reprogramming human T cell function and specificity with non-viral genome targeting.</a></p>\n",
      "----------------------------------------------\n",
      "<p class=\"title\" xmlns:mml=\"http://www.w3.org/1998/Math/MathML\"><a href=\"/pubmed/30006485\" ref=\"ordinalpos=4&amp;ncbi_uid=30006485&amp;link_uid=30006485&amp;linksrc=docsum_title\">The oncometabolite D-2-hydroxyglutarate is an intercellular mediator in IDH-mutant gliomas that inhibits both complement and T cells.</a></p>\n",
      "----------------------------------------------\n",
      "<p class=\"title\" xmlns:mml=\"http://www.w3.org/1998/Math/MathML\"><a href=\"/pubmed/30003873\" ref=\"ordinalpos=5&amp;ncbi_uid=30003873&amp;link_uid=30003873&amp;linksrc=docsum_title\">Unexpected similarities between C9ORF72 and sporadic forms of ALS/FTD suggest a common disease mechanism.</a></p>\n",
      "----------------------------------------------\n",
      "<p class=\"title\" xmlns:mml=\"http://www.w3.org/1998/Math/MathML\"><a href=\"/pubmed/30010673\" ref=\"ordinalpos=6&amp;ncbi_uid=30010673&amp;link_uid=30010673&amp;linksrc=docsum_title\">Repair of double-strand breaks induced by CRISPR-Cas9 leads to large deletions and complex rearrangements.</a></p>\n",
      "----------------------------------------------\n",
      "<p class=\"title\" xmlns:mml=\"http://www.w3.org/1998/Math/MathML\"><a href=\"/pubmed/30006565\" ref=\"ordinalpos=7&amp;ncbi_uid=30006565&amp;link_uid=30006565&amp;linksrc=docsum_title\">Co-expression of CD39 and CD103 identifies tumor-reactive CD8 T cells in human solid tumors.</a></p>\n",
      "----------------------------------------------\n",
      "<p class=\"title\" xmlns:mml=\"http://www.w3.org/1998/Math/MathML\"><a href=\"/pubmed/30001199\" ref=\"ordinalpos=8&amp;ncbi_uid=30001199&amp;link_uid=30001199&amp;linksrc=docsum_title\">DNMT3A and TET1 cooperate to regulate promoter epigenetic landscapes in mouse embryonic stem cells.</a></p>\n",
      "----------------------------------------------\n",
      "<p class=\"title\" xmlns:mml=\"http://www.w3.org/1998/Math/MathML\"><a href=\"/pubmed/30006921\" ref=\"ordinalpos=9&amp;ncbi_uid=30006921&amp;link_uid=30006921&amp;linksrc=docsum_title\">Equity in Physical Activity: A Misguided Goal.</a></p>\n",
      "----------------------------------------------\n",
      "<p class=\"title\" xmlns:mml=\"http://www.w3.org/1998/Math/MathML\"><a href=\"/pubmed/29985486\" ref=\"ordinalpos=10&amp;ncbi_uid=29985486&amp;link_uid=29985486&amp;linksrc=docsum_title\">Author Correction: What models eat.</a></p>\n",
      "----------------------------------------------\n",
      "<p class=\"title\" xmlns:mml=\"http://www.w3.org/1998/Math/MathML\"><a href=\"/pubmed/29988082\" ref=\"ordinalpos=11&amp;ncbi_uid=29988082&amp;link_uid=29988082&amp;linksrc=docsum_title\">Prediction of acute myeloid leukaemia risk in healthy individuals.</a></p>\n",
      "----------------------------------------------\n",
      "<p class=\"title\" xmlns:mml=\"http://www.w3.org/1998/Math/MathML\"><a href=\"/pubmed/30006739\" ref=\"ordinalpos=12&amp;ncbi_uid=30006739&amp;link_uid=30006739&amp;linksrc=docsum_title\">Cancer immune therapy for lymphoid malignancies: recent advances.</a></p>\n",
      "----------------------------------------------\n",
      "<p class=\"title\" xmlns:mml=\"http://www.w3.org/1998/Math/MathML\"><a href=\"/pubmed/30007343\" ref=\"ordinalpos=13&amp;ncbi_uid=30007343&amp;link_uid=30007343&amp;linksrc=docsum_title\">A Mediterranean-like dietary pattern with vitamin D3 (10 µg/d) supplements reduced the rate of bone loss in older Europeans with osteoporosis at baseline: results of a 1-y randomized controlled trial.</a></p>\n",
      "----------------------------------------------\n",
      "<p class=\"title\" xmlns:mml=\"http://www.w3.org/1998/Math/MathML\"><a href=\"/pubmed/30006038\" ref=\"ordinalpos=14&amp;ncbi_uid=30006038&amp;link_uid=30006038&amp;linksrc=docsum_title\">Interacting organelles.</a></p>\n",
      "----------------------------------------------\n",
      "<p class=\"title\" xmlns:mml=\"http://www.w3.org/1998/Math/MathML\"><a href=\"/pubmed/29977318\" ref=\"ordinalpos=15&amp;ncbi_uid=29977318&amp;link_uid=29977318&amp;linksrc=docsum_title\">Physical and Mental Effects of Bathing: A Randomized Intervention Study.</a></p>\n",
      "----------------------------------------------\n",
      "<p class=\"title\" xmlns:mml=\"http://www.w3.org/1998/Math/MathML\"><a href=\"/pubmed/29975496\" ref=\"ordinalpos=16&amp;ncbi_uid=29975496&amp;link_uid=29975496&amp;linksrc=docsum_title\">Günter Blobel (1936–2018)</a></p>\n",
      "----------------------------------------------\n",
      "<p class=\"title\" xmlns:mml=\"http://www.w3.org/1998/Math/MathML\"><a href=\"/pubmed/30006404\" ref=\"ordinalpos=17&amp;ncbi_uid=30006404&amp;link_uid=30006404&amp;linksrc=docsum_title\">Bacterial Endospores as Phage Genome Carriers and Protective Shells.</a></p>\n",
      "----------------------------------------------\n",
      "<p class=\"title\" xmlns:mml=\"http://www.w3.org/1998/Math/MathML\"><a href=\"/pubmed/29995852\" ref=\"ordinalpos=18&amp;ncbi_uid=29995852&amp;link_uid=29995852&amp;linksrc=docsum_title\">Histidine catabolism is a major determinant of methotrexate sensitivity.</a></p>\n",
      "----------------------------------------------\n",
      "<p class=\"title\" xmlns:mml=\"http://www.w3.org/1998/Math/MathML\"><a href=\"/pubmed/29985479\" ref=\"ordinalpos=19&amp;ncbi_uid=29985479&amp;link_uid=29985479&amp;linksrc=docsum_title\">Enhancing T cell therapy through TCR-signaling-responsive nanoparticle drug delivery.</a></p>\n",
      "----------------------------------------------\n",
      "<p class=\"title\" xmlns:mml=\"http://www.w3.org/1998/Math/MathML\"><a href=\"/pubmed/21967193\" ref=\"ordinalpos=20&amp;ncbi_uid=21967193&amp;link_uid=21967193&amp;linksrc=docsum_title\">Health risks of using mothballs in Greater Accra, Ghana.</a></p>\n",
      "----------------------------------------------\n"
     ]
    }
   ],
   "source": [
    "# loop through links to convert to string\n",
    "for i in range (len(links)):\n",
    "    links_all.append(str(links[i]))\n",
    "    print(links[i])\n",
    "    print(\"----------------------------------------------\")"
   ]
  },
  {
   "cell_type": "code",
   "execution_count": 13,
   "metadata": {
    "collapsed": true
   },
   "outputs": [],
   "source": [
    "# for i in links_all:\n",
    "#     print(i)\n",
    "#     print(\"----------------------------------------------\")"
   ]
  },
  {
   "cell_type": "code",
   "execution_count": 14,
   "metadata": {},
   "outputs": [
    {
     "data": {
      "text/plain": [
       "20"
      ]
     },
     "execution_count": 14,
     "metadata": {},
     "output_type": "execute_result"
    },
    {
     "data": {
      "text/plain": [
       "'<p class=\"title\" xmlns:mml=\"http://www.w3.org/1998/Math/MathML\"><a href=\"/pubmed/30006623\" ref=\"ordinalpos=1&amp;ncbi_uid=30006623&amp;link_uid=30006623&amp;linksrc=docsum_title\">High-quality genomes reveal new differences between the great apes.</a></p>'"
      ]
     },
     "execution_count": 14,
     "metadata": {},
     "output_type": "execute_result"
    }
   ],
   "source": [
    "# slice through links_all to test\n",
    "len(links_all)\n",
    "links_all[0]"
   ]
  },
  {
   "cell_type": "markdown",
   "metadata": {},
   "source": [
    "### Regex test"
   ]
  },
  {
   "cell_type": "code",
   "execution_count": 15,
   "metadata": {
    "collapsed": true
   },
   "outputs": [],
   "source": [
    "regex_test = '<p class=\"title\" xmlns:mml=\"http://www.w3.org/1998/Math/MathML\"><a href=\"/pubmed/29985486\" ref=\"ordinalpos=1&amp;ncbi_uid=29985486&amp;link_uid=29985486&amp;linksrc=docsum_title\">Author Correction: What models eat.</a></p>'"
   ]
  },
  {
   "cell_type": "code",
   "execution_count": 16,
   "metadata": {},
   "outputs": [
    {
     "name": "stdout",
     "output_type": "stream",
     "text": [
      "<p class=\"title\" xmlns:mml=\"http://www.w3.org/1998/Math/MathML\"><a href=\"/pubmed/29985486\" ref=\"ordinalpos=1&amp;ncbi_uid=29985486&amp;link_uid=29985486&amp;linksrc=docsum_title\">Author Correction: What models eat.</a></p>\n"
     ]
    }
   ],
   "source": [
    "print(regex_test)"
   ]
  },
  {
   "cell_type": "code",
   "execution_count": 17,
   "metadata": {},
   "outputs": [
    {
     "data": {
      "text/plain": [
       "['29985486', '29985486', '29985486']"
      ]
     },
     "execution_count": 17,
     "metadata": {},
     "output_type": "execute_result"
    }
   ],
   "source": [
    "re.findall(r'\\d{8}',regex_test)"
   ]
  },
  {
   "cell_type": "markdown",
   "metadata": {},
   "source": [
    "### End Regex Test"
   ]
  },
  {
   "cell_type": "code",
   "execution_count": 18,
   "metadata": {
    "collapsed": true
   },
   "outputs": [],
   "source": [
    "# loop through links all and use regex to grab the id numbers\n",
    "for i in range (len(links_all)):\n",
    "    pubmed_ids.append(re.findall(r'\\d{8}',links_all[i]))"
   ]
  },
  {
   "cell_type": "code",
   "execution_count": 19,
   "metadata": {},
   "outputs": [
    {
     "data": {
      "text/plain": [
       "20"
      ]
     },
     "execution_count": 19,
     "metadata": {},
     "output_type": "execute_result"
    },
    {
     "data": {
      "text/plain": [
       "list"
      ]
     },
     "execution_count": 19,
     "metadata": {},
     "output_type": "execute_result"
    },
    {
     "name": "stdout",
     "output_type": "stream",
     "text": [
      "[['30006623', '30006623', '30006623'], ['30006329', '30006329', '30006329'], ['29995861', '29995861', '29995861'], ['30006485', '30006485', '30006485'], ['30003873', '30003873', '30003873'], ['30010673', '30010673', '30010673'], ['30006565', '30006565', '30006565'], ['30001199', '30001199', '30001199'], ['30006921', '30006921', '30006921'], ['29985486', '29985486', '29985486'], ['29988082', '29988082', '29988082'], ['30006739', '30006739', '30006739'], ['30007343', '30007343', '30007343'], ['30006038', '30006038', '30006038'], ['29977318', '29977318', '29977318'], ['29975496', '29975496', '29975496'], ['30006404', '30006404', '30006404'], ['29995852', '29995852', '29995852'], ['29985479', '29985479', '29985479'], ['21967193', '21967193', '21967193']]\n",
      "----------------------------------------------\n"
     ]
    }
   ],
   "source": [
    "# print out info for pubmed_ids\n",
    "len(pubmed_ids)\n",
    "type(pubmed_ids)\n",
    "print(pubmed_ids)\n",
    "print(\"----------------------------------------------\")"
   ]
  },
  {
   "cell_type": "code",
   "execution_count": 20,
   "metadata": {
    "collapsed": true
   },
   "outputs": [],
   "source": [
    "# use itertools to transform pubmed ids from an array withn an array into one list\n",
    "import itertools\n",
    "pubmed_merged = list(itertools.chain.from_iterable(pubmed_ids))"
   ]
  },
  {
   "cell_type": "code",
   "execution_count": 21,
   "metadata": {},
   "outputs": [
    {
     "data": {
      "text/plain": [
       "'30006623'"
      ]
     },
     "execution_count": 21,
     "metadata": {},
     "output_type": "execute_result"
    },
    {
     "name": "stdout",
     "output_type": "stream",
     "text": [
      "['30006623', '30006623', '30006623', '30006329', '30006329', '30006329', '29995861', '29995861', '29995861', '30006485', '30006485', '30006485', '30003873', '30003873', '30003873', '30010673', '30010673', '30010673', '30006565', '30006565', '30006565', '30001199', '30001199', '30001199', '30006921', '30006921', '30006921', '29985486', '29985486', '29985486', '29988082', '29988082', '29988082', '30006739', '30006739', '30006739', '30007343', '30007343', '30007343', '30006038', '30006038', '30006038', '29977318', '29977318', '29977318', '29975496', '29975496', '29975496', '30006404', '30006404', '30006404', '29995852', '29995852', '29995852', '29985479', '29985479', '29985479', '21967193', '21967193', '21967193']\n"
     ]
    }
   ],
   "source": [
    "# slice through pubmed_merged to see what itertools did\n",
    "pubmed_merged[0]\n",
    "print(pubmed_merged)"
   ]
  },
  {
   "cell_type": "code",
   "execution_count": 22,
   "metadata": {},
   "outputs": [
    {
     "name": "stdout",
     "output_type": "stream",
     "text": [
      "https://www.ncbi.nlm.nih.gov/pubmed/30006623\n"
     ]
    }
   ],
   "source": [
    "# concat main_url with a slice of pubmed_merged before we loop\n",
    "print(main_url + str(pubmed_merged[0]))"
   ]
  },
  {
   "cell_type": "code",
   "execution_count": 23,
   "metadata": {
    "collapsed": true
   },
   "outputs": [],
   "source": [
    "# append merged links to links_all\n",
    "for i in range (len(pubmed_merged)):\n",
    "    scrape_links.append(main_url + str(pubmed_merged[i]))"
   ]
  },
  {
   "cell_type": "code",
   "execution_count": 24,
   "metadata": {},
   "outputs": [
    {
     "name": "stdout",
     "output_type": "stream",
     "text": [
      "https://www.ncbi.nlm.nih.gov/pubmed/30006623\n",
      "https://www.ncbi.nlm.nih.gov/pubmed/30006623\n",
      "https://www.ncbi.nlm.nih.gov/pubmed/30006623\n",
      "https://www.ncbi.nlm.nih.gov/pubmed/30006329\n",
      "https://www.ncbi.nlm.nih.gov/pubmed/30006329\n",
      "https://www.ncbi.nlm.nih.gov/pubmed/30006329\n",
      "https://www.ncbi.nlm.nih.gov/pubmed/29995861\n",
      "https://www.ncbi.nlm.nih.gov/pubmed/29995861\n",
      "https://www.ncbi.nlm.nih.gov/pubmed/29995861\n",
      "https://www.ncbi.nlm.nih.gov/pubmed/30006485\n",
      "https://www.ncbi.nlm.nih.gov/pubmed/30006485\n",
      "https://www.ncbi.nlm.nih.gov/pubmed/30006485\n",
      "https://www.ncbi.nlm.nih.gov/pubmed/30003873\n",
      "https://www.ncbi.nlm.nih.gov/pubmed/30003873\n",
      "https://www.ncbi.nlm.nih.gov/pubmed/30003873\n",
      "https://www.ncbi.nlm.nih.gov/pubmed/30010673\n",
      "https://www.ncbi.nlm.nih.gov/pubmed/30010673\n",
      "https://www.ncbi.nlm.nih.gov/pubmed/30010673\n",
      "https://www.ncbi.nlm.nih.gov/pubmed/30006565\n",
      "https://www.ncbi.nlm.nih.gov/pubmed/30006565\n",
      "https://www.ncbi.nlm.nih.gov/pubmed/30006565\n",
      "https://www.ncbi.nlm.nih.gov/pubmed/30001199\n",
      "https://www.ncbi.nlm.nih.gov/pubmed/30001199\n",
      "https://www.ncbi.nlm.nih.gov/pubmed/30001199\n",
      "https://www.ncbi.nlm.nih.gov/pubmed/30006921\n",
      "https://www.ncbi.nlm.nih.gov/pubmed/30006921\n",
      "https://www.ncbi.nlm.nih.gov/pubmed/30006921\n",
      "https://www.ncbi.nlm.nih.gov/pubmed/29985486\n",
      "https://www.ncbi.nlm.nih.gov/pubmed/29985486\n",
      "https://www.ncbi.nlm.nih.gov/pubmed/29985486\n",
      "https://www.ncbi.nlm.nih.gov/pubmed/29988082\n",
      "https://www.ncbi.nlm.nih.gov/pubmed/29988082\n",
      "https://www.ncbi.nlm.nih.gov/pubmed/29988082\n",
      "https://www.ncbi.nlm.nih.gov/pubmed/30006739\n",
      "https://www.ncbi.nlm.nih.gov/pubmed/30006739\n",
      "https://www.ncbi.nlm.nih.gov/pubmed/30006739\n",
      "https://www.ncbi.nlm.nih.gov/pubmed/30007343\n",
      "https://www.ncbi.nlm.nih.gov/pubmed/30007343\n",
      "https://www.ncbi.nlm.nih.gov/pubmed/30007343\n",
      "https://www.ncbi.nlm.nih.gov/pubmed/30006038\n",
      "https://www.ncbi.nlm.nih.gov/pubmed/30006038\n",
      "https://www.ncbi.nlm.nih.gov/pubmed/30006038\n",
      "https://www.ncbi.nlm.nih.gov/pubmed/29977318\n",
      "https://www.ncbi.nlm.nih.gov/pubmed/29977318\n",
      "https://www.ncbi.nlm.nih.gov/pubmed/29977318\n",
      "https://www.ncbi.nlm.nih.gov/pubmed/29975496\n",
      "https://www.ncbi.nlm.nih.gov/pubmed/29975496\n",
      "https://www.ncbi.nlm.nih.gov/pubmed/29975496\n",
      "https://www.ncbi.nlm.nih.gov/pubmed/30006404\n",
      "https://www.ncbi.nlm.nih.gov/pubmed/30006404\n",
      "https://www.ncbi.nlm.nih.gov/pubmed/30006404\n",
      "https://www.ncbi.nlm.nih.gov/pubmed/29995852\n",
      "https://www.ncbi.nlm.nih.gov/pubmed/29995852\n",
      "https://www.ncbi.nlm.nih.gov/pubmed/29995852\n",
      "https://www.ncbi.nlm.nih.gov/pubmed/29985479\n",
      "https://www.ncbi.nlm.nih.gov/pubmed/29985479\n",
      "https://www.ncbi.nlm.nih.gov/pubmed/29985479\n",
      "https://www.ncbi.nlm.nih.gov/pubmed/21967193\n",
      "https://www.ncbi.nlm.nih.gov/pubmed/21967193\n",
      "https://www.ncbi.nlm.nih.gov/pubmed/21967193\n"
     ]
    }
   ],
   "source": [
    "for i in scrape_links:\n",
    "    print(i)"
   ]
  },
  {
   "cell_type": "markdown",
   "metadata": {},
   "source": [
    "# END TESTING SECTION------------------------------------------------------------\n",
    "<br>\n",
    "<br>"
   ]
  },
  {
   "cell_type": "markdown",
   "metadata": {},
   "source": [
    "## Function to create array of links to scrape"
   ]
  },
  {
   "cell_type": "code",
   "execution_count": 25,
   "metadata": {
    "collapsed": true
   },
   "outputs": [],
   "source": [
    "# set empty links_all list to append to \n",
    "links_all = []\n",
    "\n",
    "# set pubmed ids list to append to\n",
    "pubmed_ids = []\n",
    "\n",
    "# set empty list to append scrape_links to\n",
    "scrape_links = []\n",
    "\n",
    "# function to get links\n",
    "def get_links(main_url):\n",
    "    \n",
    "    # use bs to scarpe p tags with class - title\n",
    "    links = soup.find_all(\"p\",attrs={'class':'title'})\n",
    "      \n",
    "    # testing to see how my links / journals to scrape\n",
    "    articles_to_scrape = len(links)\n",
    "    print(f\"There are {articles_to_scrape} articles to scrape.\")\n",
    "    print(\"----------------------------------------------\")\n",
    "    \n",
    "    # loop through links to convert to string\n",
    "    for i in range (len(links)):\n",
    "        links_all.append(str(links[i]))\n",
    "        print(links[i])\n",
    "        print(\"----------------------------------------------\")\n",
    "        \n",
    "    # slice through links_all to test\n",
    "    len(links_all)\n",
    "    links_all[1]\n",
    "    \n",
    "    # loop through links all and use regex to grab the id numbers\n",
    "    for i in range (len(links_all)):\n",
    "        pubmed_ids.append(re.findall(r'\\d{8}',links_all[i]))\n",
    "    \n",
    "    # print out info for pubmed_ids\n",
    "    len(pubmed_ids)\n",
    "    type(pubmed_ids)\n",
    "    print(pubmed_ids)\n",
    "    print(\"----------------------------------------------\")\n",
    "    \n",
    "    # use itertools to transform pubmed ids from an array withn an array into one list\n",
    "    import itertools\n",
    "    pubmed_merged = list(itertools.chain.from_iterable(pubmed_ids))\n",
    "    \n",
    "    # slice through pubmed_merged to see what itertools did\n",
    "    pubmed_merged[0]\n",
    "    \n",
    "    # concat main_url with a slice of pubmed_merged before we loop\n",
    "    print(main_url + str(pubmed_merged[0]))\n",
    "    \n",
    "    # append merged links to links_all\n",
    "    for i in range (len(pubmed_merged)):\n",
    "        scrape_links.append(main_url + str(pubmed_merged[i]))"
   ]
  },
  {
   "cell_type": "code",
   "execution_count": 26,
   "metadata": {
    "scrolled": false
   },
   "outputs": [
    {
     "name": "stdout",
     "output_type": "stream",
     "text": [
      "There are 20 articles to scrape.\n",
      "----------------------------------------------\n",
      "<p class=\"title\" xmlns:mml=\"http://www.w3.org/1998/Math/MathML\"><a href=\"/pubmed/30006623\" ref=\"ordinalpos=1&amp;ncbi_uid=30006623&amp;link_uid=30006623&amp;linksrc=docsum_title\">High-quality genomes reveal new differences between the great apes.</a></p>\n",
      "----------------------------------------------\n",
      "<p class=\"title\" xmlns:mml=\"http://www.w3.org/1998/Math/MathML\"><a href=\"/pubmed/30006329\" ref=\"ordinalpos=2&amp;ncbi_uid=30006329&amp;link_uid=30006329&amp;linksrc=docsum_title\">The role of ADAMTS13 testing in the diagnosis and management of thrombotic microangiopathies and thrombosis.</a></p>\n",
      "----------------------------------------------\n",
      "<p class=\"title\" xmlns:mml=\"http://www.w3.org/1998/Math/MathML\"><a href=\"/pubmed/29995861\" ref=\"ordinalpos=3&amp;ncbi_uid=29995861&amp;link_uid=29995861&amp;linksrc=docsum_title\">Reprogramming human T cell function and specificity with non-viral genome targeting.</a></p>\n",
      "----------------------------------------------\n",
      "<p class=\"title\" xmlns:mml=\"http://www.w3.org/1998/Math/MathML\"><a href=\"/pubmed/30006485\" ref=\"ordinalpos=4&amp;ncbi_uid=30006485&amp;link_uid=30006485&amp;linksrc=docsum_title\">The oncometabolite D-2-hydroxyglutarate is an intercellular mediator in IDH-mutant gliomas that inhibits both complement and T cells.</a></p>\n",
      "----------------------------------------------\n",
      "<p class=\"title\" xmlns:mml=\"http://www.w3.org/1998/Math/MathML\"><a href=\"/pubmed/30003873\" ref=\"ordinalpos=5&amp;ncbi_uid=30003873&amp;link_uid=30003873&amp;linksrc=docsum_title\">Unexpected similarities between C9ORF72 and sporadic forms of ALS/FTD suggest a common disease mechanism.</a></p>\n",
      "----------------------------------------------\n",
      "<p class=\"title\" xmlns:mml=\"http://www.w3.org/1998/Math/MathML\"><a href=\"/pubmed/30010673\" ref=\"ordinalpos=6&amp;ncbi_uid=30010673&amp;link_uid=30010673&amp;linksrc=docsum_title\">Repair of double-strand breaks induced by CRISPR-Cas9 leads to large deletions and complex rearrangements.</a></p>\n",
      "----------------------------------------------\n",
      "<p class=\"title\" xmlns:mml=\"http://www.w3.org/1998/Math/MathML\"><a href=\"/pubmed/30006565\" ref=\"ordinalpos=7&amp;ncbi_uid=30006565&amp;link_uid=30006565&amp;linksrc=docsum_title\">Co-expression of CD39 and CD103 identifies tumor-reactive CD8 T cells in human solid tumors.</a></p>\n",
      "----------------------------------------------\n",
      "<p class=\"title\" xmlns:mml=\"http://www.w3.org/1998/Math/MathML\"><a href=\"/pubmed/30001199\" ref=\"ordinalpos=8&amp;ncbi_uid=30001199&amp;link_uid=30001199&amp;linksrc=docsum_title\">DNMT3A and TET1 cooperate to regulate promoter epigenetic landscapes in mouse embryonic stem cells.</a></p>\n",
      "----------------------------------------------\n",
      "<p class=\"title\" xmlns:mml=\"http://www.w3.org/1998/Math/MathML\"><a href=\"/pubmed/30006921\" ref=\"ordinalpos=9&amp;ncbi_uid=30006921&amp;link_uid=30006921&amp;linksrc=docsum_title\">Equity in Physical Activity: A Misguided Goal.</a></p>\n",
      "----------------------------------------------\n",
      "<p class=\"title\" xmlns:mml=\"http://www.w3.org/1998/Math/MathML\"><a href=\"/pubmed/29985486\" ref=\"ordinalpos=10&amp;ncbi_uid=29985486&amp;link_uid=29985486&amp;linksrc=docsum_title\">Author Correction: What models eat.</a></p>\n",
      "----------------------------------------------\n",
      "<p class=\"title\" xmlns:mml=\"http://www.w3.org/1998/Math/MathML\"><a href=\"/pubmed/29988082\" ref=\"ordinalpos=11&amp;ncbi_uid=29988082&amp;link_uid=29988082&amp;linksrc=docsum_title\">Prediction of acute myeloid leukaemia risk in healthy individuals.</a></p>\n",
      "----------------------------------------------\n",
      "<p class=\"title\" xmlns:mml=\"http://www.w3.org/1998/Math/MathML\"><a href=\"/pubmed/30006739\" ref=\"ordinalpos=12&amp;ncbi_uid=30006739&amp;link_uid=30006739&amp;linksrc=docsum_title\">Cancer immune therapy for lymphoid malignancies: recent advances.</a></p>\n",
      "----------------------------------------------\n",
      "<p class=\"title\" xmlns:mml=\"http://www.w3.org/1998/Math/MathML\"><a href=\"/pubmed/30007343\" ref=\"ordinalpos=13&amp;ncbi_uid=30007343&amp;link_uid=30007343&amp;linksrc=docsum_title\">A Mediterranean-like dietary pattern with vitamin D3 (10 µg/d) supplements reduced the rate of bone loss in older Europeans with osteoporosis at baseline: results of a 1-y randomized controlled trial.</a></p>\n",
      "----------------------------------------------\n",
      "<p class=\"title\" xmlns:mml=\"http://www.w3.org/1998/Math/MathML\"><a href=\"/pubmed/30006038\" ref=\"ordinalpos=14&amp;ncbi_uid=30006038&amp;link_uid=30006038&amp;linksrc=docsum_title\">Interacting organelles.</a></p>\n",
      "----------------------------------------------\n",
      "<p class=\"title\" xmlns:mml=\"http://www.w3.org/1998/Math/MathML\"><a href=\"/pubmed/29977318\" ref=\"ordinalpos=15&amp;ncbi_uid=29977318&amp;link_uid=29977318&amp;linksrc=docsum_title\">Physical and Mental Effects of Bathing: A Randomized Intervention Study.</a></p>\n",
      "----------------------------------------------\n",
      "<p class=\"title\" xmlns:mml=\"http://www.w3.org/1998/Math/MathML\"><a href=\"/pubmed/29975496\" ref=\"ordinalpos=16&amp;ncbi_uid=29975496&amp;link_uid=29975496&amp;linksrc=docsum_title\">Günter Blobel (1936–2018)</a></p>\n",
      "----------------------------------------------\n",
      "<p class=\"title\" xmlns:mml=\"http://www.w3.org/1998/Math/MathML\"><a href=\"/pubmed/30006404\" ref=\"ordinalpos=17&amp;ncbi_uid=30006404&amp;link_uid=30006404&amp;linksrc=docsum_title\">Bacterial Endospores as Phage Genome Carriers and Protective Shells.</a></p>\n",
      "----------------------------------------------\n",
      "<p class=\"title\" xmlns:mml=\"http://www.w3.org/1998/Math/MathML\"><a href=\"/pubmed/29995852\" ref=\"ordinalpos=18&amp;ncbi_uid=29995852&amp;link_uid=29995852&amp;linksrc=docsum_title\">Histidine catabolism is a major determinant of methotrexate sensitivity.</a></p>\n",
      "----------------------------------------------\n",
      "<p class=\"title\" xmlns:mml=\"http://www.w3.org/1998/Math/MathML\"><a href=\"/pubmed/29985479\" ref=\"ordinalpos=19&amp;ncbi_uid=29985479&amp;link_uid=29985479&amp;linksrc=docsum_title\">Enhancing T cell therapy through TCR-signaling-responsive nanoparticle drug delivery.</a></p>\n",
      "----------------------------------------------\n",
      "<p class=\"title\" xmlns:mml=\"http://www.w3.org/1998/Math/MathML\"><a href=\"/pubmed/21967193\" ref=\"ordinalpos=20&amp;ncbi_uid=21967193&amp;link_uid=21967193&amp;linksrc=docsum_title\">Health risks of using mothballs in Greater Accra, Ghana.</a></p>\n",
      "----------------------------------------------\n",
      "[['30006623', '30006623', '30006623'], ['30006329', '30006329', '30006329'], ['29995861', '29995861', '29995861'], ['30006485', '30006485', '30006485'], ['30003873', '30003873', '30003873'], ['30010673', '30010673', '30010673'], ['30006565', '30006565', '30006565'], ['30001199', '30001199', '30001199'], ['30006921', '30006921', '30006921'], ['29985486', '29985486', '29985486'], ['29988082', '29988082', '29988082'], ['30006739', '30006739', '30006739'], ['30007343', '30007343', '30007343'], ['30006038', '30006038', '30006038'], ['29977318', '29977318', '29977318'], ['29975496', '29975496', '29975496'], ['30006404', '30006404', '30006404'], ['29995852', '29995852', '29995852'], ['29985479', '29985479', '29985479'], ['21967193', '21967193', '21967193']]\n",
      "----------------------------------------------\n",
      "https://www.ncbi.nlm.nih.gov/pubmed/30006623\n"
     ]
    }
   ],
   "source": [
    "# RUN FUNCTION\n",
    "get_links(main_url)"
   ]
  },
  {
   "cell_type": "markdown",
   "metadata": {},
   "source": [
    "<br>\n",
    "There are duplicates in our **scrape_links** array. Use `list` to delete the duplicates."
   ]
  },
  {
   "cell_type": "code",
   "execution_count": 27,
   "metadata": {},
   "outputs": [
    {
     "data": {
      "text/plain": [
       "20"
      ]
     },
     "execution_count": 27,
     "metadata": {},
     "output_type": "execute_result"
    },
    {
     "data": {
      "text/plain": [
       "['https://www.ncbi.nlm.nih.gov/pubmed/30006623',\n",
       " 'https://www.ncbi.nlm.nih.gov/pubmed/30006404',\n",
       " 'https://www.ncbi.nlm.nih.gov/pubmed/30006739',\n",
       " 'https://www.ncbi.nlm.nih.gov/pubmed/29977318',\n",
       " 'https://www.ncbi.nlm.nih.gov/pubmed/29985479',\n",
       " 'https://www.ncbi.nlm.nih.gov/pubmed/30006921',\n",
       " 'https://www.ncbi.nlm.nih.gov/pubmed/21967193',\n",
       " 'https://www.ncbi.nlm.nih.gov/pubmed/30010673',\n",
       " 'https://www.ncbi.nlm.nih.gov/pubmed/29995861',\n",
       " 'https://www.ncbi.nlm.nih.gov/pubmed/30006329',\n",
       " 'https://www.ncbi.nlm.nih.gov/pubmed/30003873',\n",
       " 'https://www.ncbi.nlm.nih.gov/pubmed/29995852',\n",
       " 'https://www.ncbi.nlm.nih.gov/pubmed/30007343',\n",
       " 'https://www.ncbi.nlm.nih.gov/pubmed/30006485',\n",
       " 'https://www.ncbi.nlm.nih.gov/pubmed/29985486',\n",
       " 'https://www.ncbi.nlm.nih.gov/pubmed/29988082',\n",
       " 'https://www.ncbi.nlm.nih.gov/pubmed/30001199',\n",
       " 'https://www.ncbi.nlm.nih.gov/pubmed/30006038',\n",
       " 'https://www.ncbi.nlm.nih.gov/pubmed/30006565',\n",
       " 'https://www.ncbi.nlm.nih.gov/pubmed/29975496']"
      ]
     },
     "execution_count": 27,
     "metadata": {},
     "output_type": "execute_result"
    }
   ],
   "source": [
    "# delete duplicates in scrape_links and assign to new variable scrape_links_final\n",
    "scrape_links_final = list(set(scrape_links))\n",
    "len(scrape_links_final)\n",
    "scrape_links_final"
   ]
  },
  {
   "cell_type": "markdown",
   "metadata": {},
   "source": [
    "## Main array of links to scrape:\n",
    "\n",
    "Here we use selenium to iterate through these links. Seleium will click on each link then scrape the title and abstracts on each page. "
   ]
  },
  {
   "cell_type": "code",
   "execution_count": 28,
   "metadata": {},
   "outputs": [
    {
     "name": "stdout",
     "output_type": "stream",
     "text": [
      "https://www.ncbi.nlm.nih.gov/pubmed/30006623\n",
      "https://www.ncbi.nlm.nih.gov/pubmed/30006404\n",
      "https://www.ncbi.nlm.nih.gov/pubmed/30006739\n",
      "https://www.ncbi.nlm.nih.gov/pubmed/29977318\n",
      "https://www.ncbi.nlm.nih.gov/pubmed/29985479\n",
      "https://www.ncbi.nlm.nih.gov/pubmed/30006921\n",
      "https://www.ncbi.nlm.nih.gov/pubmed/21967193\n",
      "https://www.ncbi.nlm.nih.gov/pubmed/30010673\n",
      "https://www.ncbi.nlm.nih.gov/pubmed/29995861\n",
      "https://www.ncbi.nlm.nih.gov/pubmed/30006329\n",
      "https://www.ncbi.nlm.nih.gov/pubmed/30003873\n",
      "https://www.ncbi.nlm.nih.gov/pubmed/29995852\n",
      "https://www.ncbi.nlm.nih.gov/pubmed/30007343\n",
      "https://www.ncbi.nlm.nih.gov/pubmed/30006485\n",
      "https://www.ncbi.nlm.nih.gov/pubmed/29985486\n",
      "https://www.ncbi.nlm.nih.gov/pubmed/29988082\n",
      "https://www.ncbi.nlm.nih.gov/pubmed/30001199\n",
      "https://www.ncbi.nlm.nih.gov/pubmed/30006038\n",
      "https://www.ncbi.nlm.nih.gov/pubmed/30006565\n",
      "https://www.ncbi.nlm.nih.gov/pubmed/29975496\n"
     ]
    }
   ],
   "source": [
    "# testing scrape_links\n",
    "for i in scrape_links_final:\n",
    "    print(i)"
   ]
  },
  {
   "cell_type": "markdown",
   "metadata": {},
   "source": [
    "### Add timer to main function when scraping"
   ]
  },
  {
   "cell_type": "code",
   "execution_count": 41,
   "metadata": {},
   "outputs": [
    {
     "data": {
      "text/plain": [
       "['https://www.ncbi.nlm.nih.gov/pubmed/30006623']"
      ]
     },
     "execution_count": 41,
     "metadata": {},
     "output_type": "execute_result"
    },
    {
     "data": {
      "text/plain": [
       "['https://www.ncbi.nlm.nih.gov/pubmed/30006921']"
      ]
     },
     "execution_count": 41,
     "metadata": {},
     "output_type": "execute_result"
    },
    {
     "data": {
      "text/plain": [
       "['https://www.ncbi.nlm.nih.gov/pubmed/30003873',\n",
       " 'https://www.ncbi.nlm.nih.gov/pubmed/29995852',\n",
       " 'https://www.ncbi.nlm.nih.gov/pubmed/30007343',\n",
       " 'https://www.ncbi.nlm.nih.gov/pubmed/30006485',\n",
       " 'https://www.ncbi.nlm.nih.gov/pubmed/29985486']"
      ]
     },
     "execution_count": 41,
     "metadata": {},
     "output_type": "execute_result"
    },
    {
     "data": {
      "text/plain": [
       "['https://www.ncbi.nlm.nih.gov/pubmed/29988082',\n",
       " 'https://www.ncbi.nlm.nih.gov/pubmed/30001199',\n",
       " 'https://www.ncbi.nlm.nih.gov/pubmed/30006038',\n",
       " 'https://www.ncbi.nlm.nih.gov/pubmed/30006565',\n",
       " 'https://www.ncbi.nlm.nih.gov/pubmed/29975496']"
      ]
     },
     "execution_count": 41,
     "metadata": {},
     "output_type": "execute_result"
    }
   ],
   "source": [
    "# slice out scrape_links_final so we can scrape 5 articles at a time\n",
    "links_1 = scrape_links_final[0:1]\n",
    "links_1\n",
    "\n",
    "links_2 = scrape_links_final[5:6]\n",
    "links_2\n",
    "\n",
    "links_3 = scrape_links_final[10:15]\n",
    "links_3\n",
    "\n",
    "links_4 = scrape_links_final[15:20]\n",
    "links_4"
   ]
  },
  {
   "cell_type": "markdown",
   "metadata": {},
   "source": [
    "## Regex Notes"
   ]
  },
  {
   "cell_type": "code",
   "execution_count": 30,
   "metadata": {
    "collapsed": true
   },
   "outputs": [],
   "source": [
    "# Regex\n",
    "# Identifiers:\n",
    "# \\d any number\n",
    "# \\D anything but a number\n",
    "# \\s space\n",
    "# \\S anything but a space\n",
    "# \\w any character\n",
    "# \\W anything but a character\n",
    "# . any character, except for a newline\n",
    "# \\b the whitespace around words\n",
    "# \\. a period\n",
    "\n",
    "# Modifiers:\n",
    "# {1,3} we're expecting 1-3 \\d{1-3}\n",
    "# + Match 1 or more\n",
    "# ? Match 0 or more\n",
    "# * Match 0 or more\n",
    "# $ Match the end of a string\n",
    "# ^ matching the beginning of a string\n",
    "# | either or\n",
    "# [] range or \"variance\" [A-Za-z] [1-5a-qA-Z]\n",
    "# {x} expecting \"x\" amount\n",
    "\n",
    "# White Space Characters: \n",
    "# \\n new line\n",
    "# \\s space\n",
    "# \\t tab\n",
    "# \\e escape\n",
    "# \\f form feed\n",
    "# \\r return\n",
    "\n",
    "# DONT FORGET!:\n",
    "# . + * [] $ ^ () {} | \\"
   ]
  },
  {
   "cell_type": "markdown",
   "metadata": {
    "collapsed": true
   },
   "source": [
    "## Selenium\n",
    "**Web Browser Automation**"
   ]
  },
  {
   "cell_type": "code",
   "execution_count": 31,
   "metadata": {
    "collapsed": true
   },
   "outputs": [],
   "source": [
    "from splinter import Browser\n",
    "from selenium import webdriver"
   ]
  },
  {
   "cell_type": "code",
   "execution_count": 32,
   "metadata": {
    "collapsed": true
   },
   "outputs": [],
   "source": [
    "# make sure chrome browser exe is in current directory\n",
    "# chrome browser exe is not necessary for MACS\n",
    "executable_path = {'executable_path': 'chromedriver'}"
   ]
  },
  {
   "cell_type": "markdown",
   "metadata": {},
   "source": [
    "## Set up dictionary to append data to"
   ]
  },
  {
   "cell_type": "code",
   "execution_count": 33,
   "metadata": {
    "collapsed": true
   },
   "outputs": [],
   "source": [
    "article_dict = {}"
   ]
  },
  {
   "cell_type": "markdown",
   "metadata": {},
   "source": [
    "## Create get_article_info function"
   ]
  },
  {
   "cell_type": "code",
   "execution_count": 43,
   "metadata": {},
   "outputs": [],
   "source": [
    "title = []\n",
    "abstract = []\n",
    "authors = []\n",
    "\n",
    "for i in links_1:\n",
    "    \n",
    "        browser = Browser('chrome', headless=False)\n",
    "        html = browser.html\n",
    "        response2 = requests.get(i)\n",
    "        soup2 = bs(response2.text, 'html.parser')\n",
    "    \n",
    "        browser.visit(i)\n",
    "    \n",
    "        # there are two 'h1' tags on this page. slice out index 0\n",
    "        title_one = soup2.find_all('h1')\n",
    "        article_one_title = title_one[1].text.strip()\n",
    "    \n",
    "        # slice h1 at index 1 to grab article title\n",
    "        title.append(article_one_title)\n",
    "    \n",
    "        # get abstract \n",
    "        # abstract.append(soup2.find(\"div\", attrs={'class': 'rprt_all'}).text.strip())     \n",
    "        abstract.append(soup2.find(\"div\", attrs={'class': 'abstr'}))\n",
    "        \n",
    "        # get authors\n",
    "        #for data in soup2.find('div', attrs={'class': 'auths'}):\n",
    "        #    for a in data.find_all('a'):\n",
    "        #        print(a.text)\n",
    "        #        print(a.get('href'))\n",
    "        \n",
    "        article_dict[\"title\"] = title\n",
    "        article_dict[\"abstract\"] = abstract\n",
    "        #article_dict[\"authors\"] = authors\n",
    "        "
   ]
  },
  {
   "cell_type": "code",
   "execution_count": 37,
   "metadata": {},
   "outputs": [
    {
     "data": {
      "text/plain": [
       "['High-quality genomes reveal new differences between the great apes.']"
      ]
     },
     "execution_count": 37,
     "metadata": {},
     "output_type": "execute_result"
    }
   ],
   "source": [
    "title"
   ]
  },
  {
   "cell_type": "markdown",
   "metadata": {},
   "source": [
    "# strip article for author, abstract, other info"
   ]
  },
  {
   "cell_type": "code",
   "execution_count": 45,
   "metadata": {},
   "outputs": [
    {
     "ename": "InvalidSchema",
     "evalue": "No connection adapters were found for '['https://www.ncbi.nlm.nih.gov/pubmed/30006921']'",
     "output_type": "error",
     "traceback": [
      "\u001b[1;31m---------------------------------------------------------------------------\u001b[0m",
      "\u001b[1;31mInvalidSchema\u001b[0m                             Traceback (most recent call last)",
      "\u001b[1;32m<ipython-input-45-10de32a5e2b7>\u001b[0m in \u001b[0;36m<module>\u001b[1;34m()\u001b[0m\n\u001b[0;32m     17\u001b[0m \u001b[0mbrowser\u001b[0m \u001b[1;33m=\u001b[0m \u001b[0mBrowser\u001b[0m\u001b[1;33m(\u001b[0m\u001b[1;34m'chrome'\u001b[0m\u001b[1;33m,\u001b[0m \u001b[0mheadless\u001b[0m\u001b[1;33m=\u001b[0m\u001b[1;32mFalse\u001b[0m\u001b[1;33m)\u001b[0m\u001b[1;33m\u001b[0m\u001b[0m\n\u001b[0;32m     18\u001b[0m \u001b[0mhtml\u001b[0m \u001b[1;33m=\u001b[0m \u001b[0mbrowser\u001b[0m\u001b[1;33m.\u001b[0m\u001b[0mhtml\u001b[0m\u001b[1;33m\u001b[0m\u001b[0m\n\u001b[1;32m---> 19\u001b[1;33m \u001b[0mresponse2\u001b[0m \u001b[1;33m=\u001b[0m \u001b[0mrequests\u001b[0m\u001b[1;33m.\u001b[0m\u001b[0mget\u001b[0m\u001b[1;33m(\u001b[0m\u001b[0murl2\u001b[0m\u001b[1;33m)\u001b[0m\u001b[1;33m\u001b[0m\u001b[0m\n\u001b[0m\u001b[0;32m     20\u001b[0m \u001b[0msoup2\u001b[0m \u001b[1;33m=\u001b[0m \u001b[0mbs\u001b[0m\u001b[1;33m(\u001b[0m\u001b[0mresponse2\u001b[0m\u001b[1;33m.\u001b[0m\u001b[0mtext\u001b[0m\u001b[1;33m,\u001b[0m \u001b[1;34m'html.parser'\u001b[0m\u001b[1;33m)\u001b[0m\u001b[1;33m\u001b[0m\u001b[0m\n\u001b[0;32m     21\u001b[0m \u001b[1;33m\u001b[0m\u001b[0m\n",
      "\u001b[1;32m~\\Anaconda3\\lib\\site-packages\\requests\\api.py\u001b[0m in \u001b[0;36mget\u001b[1;34m(url, params, **kwargs)\u001b[0m\n\u001b[0;32m     70\u001b[0m \u001b[1;33m\u001b[0m\u001b[0m\n\u001b[0;32m     71\u001b[0m     \u001b[0mkwargs\u001b[0m\u001b[1;33m.\u001b[0m\u001b[0msetdefault\u001b[0m\u001b[1;33m(\u001b[0m\u001b[1;34m'allow_redirects'\u001b[0m\u001b[1;33m,\u001b[0m \u001b[1;32mTrue\u001b[0m\u001b[1;33m)\u001b[0m\u001b[1;33m\u001b[0m\u001b[0m\n\u001b[1;32m---> 72\u001b[1;33m     \u001b[1;32mreturn\u001b[0m \u001b[0mrequest\u001b[0m\u001b[1;33m(\u001b[0m\u001b[1;34m'get'\u001b[0m\u001b[1;33m,\u001b[0m \u001b[0murl\u001b[0m\u001b[1;33m,\u001b[0m \u001b[0mparams\u001b[0m\u001b[1;33m=\u001b[0m\u001b[0mparams\u001b[0m\u001b[1;33m,\u001b[0m \u001b[1;33m**\u001b[0m\u001b[0mkwargs\u001b[0m\u001b[1;33m)\u001b[0m\u001b[1;33m\u001b[0m\u001b[0m\n\u001b[0m\u001b[0;32m     73\u001b[0m \u001b[1;33m\u001b[0m\u001b[0m\n\u001b[0;32m     74\u001b[0m \u001b[1;33m\u001b[0m\u001b[0m\n",
      "\u001b[1;32m~\\Anaconda3\\lib\\site-packages\\requests\\api.py\u001b[0m in \u001b[0;36mrequest\u001b[1;34m(method, url, **kwargs)\u001b[0m\n\u001b[0;32m     56\u001b[0m     \u001b[1;31m# cases, and look like a memory leak in others.\u001b[0m\u001b[1;33m\u001b[0m\u001b[1;33m\u001b[0m\u001b[0m\n\u001b[0;32m     57\u001b[0m     \u001b[1;32mwith\u001b[0m \u001b[0msessions\u001b[0m\u001b[1;33m.\u001b[0m\u001b[0mSession\u001b[0m\u001b[1;33m(\u001b[0m\u001b[1;33m)\u001b[0m \u001b[1;32mas\u001b[0m \u001b[0msession\u001b[0m\u001b[1;33m:\u001b[0m\u001b[1;33m\u001b[0m\u001b[0m\n\u001b[1;32m---> 58\u001b[1;33m         \u001b[1;32mreturn\u001b[0m \u001b[0msession\u001b[0m\u001b[1;33m.\u001b[0m\u001b[0mrequest\u001b[0m\u001b[1;33m(\u001b[0m\u001b[0mmethod\u001b[0m\u001b[1;33m=\u001b[0m\u001b[0mmethod\u001b[0m\u001b[1;33m,\u001b[0m \u001b[0murl\u001b[0m\u001b[1;33m=\u001b[0m\u001b[0murl\u001b[0m\u001b[1;33m,\u001b[0m \u001b[1;33m**\u001b[0m\u001b[0mkwargs\u001b[0m\u001b[1;33m)\u001b[0m\u001b[1;33m\u001b[0m\u001b[0m\n\u001b[0m\u001b[0;32m     59\u001b[0m \u001b[1;33m\u001b[0m\u001b[0m\n\u001b[0;32m     60\u001b[0m \u001b[1;33m\u001b[0m\u001b[0m\n",
      "\u001b[1;32m~\\Anaconda3\\lib\\site-packages\\requests\\sessions.py\u001b[0m in \u001b[0;36mrequest\u001b[1;34m(self, method, url, params, data, headers, cookies, files, auth, timeout, allow_redirects, proxies, hooks, stream, verify, cert, json)\u001b[0m\n\u001b[0;32m    506\u001b[0m         }\n\u001b[0;32m    507\u001b[0m         \u001b[0msend_kwargs\u001b[0m\u001b[1;33m.\u001b[0m\u001b[0mupdate\u001b[0m\u001b[1;33m(\u001b[0m\u001b[0msettings\u001b[0m\u001b[1;33m)\u001b[0m\u001b[1;33m\u001b[0m\u001b[0m\n\u001b[1;32m--> 508\u001b[1;33m         \u001b[0mresp\u001b[0m \u001b[1;33m=\u001b[0m \u001b[0mself\u001b[0m\u001b[1;33m.\u001b[0m\u001b[0msend\u001b[0m\u001b[1;33m(\u001b[0m\u001b[0mprep\u001b[0m\u001b[1;33m,\u001b[0m \u001b[1;33m**\u001b[0m\u001b[0msend_kwargs\u001b[0m\u001b[1;33m)\u001b[0m\u001b[1;33m\u001b[0m\u001b[0m\n\u001b[0m\u001b[0;32m    509\u001b[0m \u001b[1;33m\u001b[0m\u001b[0m\n\u001b[0;32m    510\u001b[0m         \u001b[1;32mreturn\u001b[0m \u001b[0mresp\u001b[0m\u001b[1;33m\u001b[0m\u001b[0m\n",
      "\u001b[1;32m~\\Anaconda3\\lib\\site-packages\\requests\\sessions.py\u001b[0m in \u001b[0;36msend\u001b[1;34m(self, request, **kwargs)\u001b[0m\n\u001b[0;32m    610\u001b[0m \u001b[1;33m\u001b[0m\u001b[0m\n\u001b[0;32m    611\u001b[0m         \u001b[1;31m# Get the appropriate adapter to use\u001b[0m\u001b[1;33m\u001b[0m\u001b[1;33m\u001b[0m\u001b[0m\n\u001b[1;32m--> 612\u001b[1;33m         \u001b[0madapter\u001b[0m \u001b[1;33m=\u001b[0m \u001b[0mself\u001b[0m\u001b[1;33m.\u001b[0m\u001b[0mget_adapter\u001b[0m\u001b[1;33m(\u001b[0m\u001b[0murl\u001b[0m\u001b[1;33m=\u001b[0m\u001b[0mrequest\u001b[0m\u001b[1;33m.\u001b[0m\u001b[0murl\u001b[0m\u001b[1;33m)\u001b[0m\u001b[1;33m\u001b[0m\u001b[0m\n\u001b[0m\u001b[0;32m    613\u001b[0m \u001b[1;33m\u001b[0m\u001b[0m\n\u001b[0;32m    614\u001b[0m         \u001b[1;31m# Start time (approximately) of the request\u001b[0m\u001b[1;33m\u001b[0m\u001b[1;33m\u001b[0m\u001b[0m\n",
      "\u001b[1;32m~\\Anaconda3\\lib\\site-packages\\requests\\sessions.py\u001b[0m in \u001b[0;36mget_adapter\u001b[1;34m(self, url)\u001b[0m\n\u001b[0;32m    701\u001b[0m \u001b[1;33m\u001b[0m\u001b[0m\n\u001b[0;32m    702\u001b[0m         \u001b[1;31m# Nothing matches :-/\u001b[0m\u001b[1;33m\u001b[0m\u001b[1;33m\u001b[0m\u001b[0m\n\u001b[1;32m--> 703\u001b[1;33m         \u001b[1;32mraise\u001b[0m \u001b[0mInvalidSchema\u001b[0m\u001b[1;33m(\u001b[0m\u001b[1;34m\"No connection adapters were found for '%s'\"\u001b[0m \u001b[1;33m%\u001b[0m \u001b[0murl\u001b[0m\u001b[1;33m)\u001b[0m\u001b[1;33m\u001b[0m\u001b[0m\n\u001b[0m\u001b[0;32m    704\u001b[0m \u001b[1;33m\u001b[0m\u001b[0m\n\u001b[0;32m    705\u001b[0m     \u001b[1;32mdef\u001b[0m \u001b[0mclose\u001b[0m\u001b[1;33m(\u001b[0m\u001b[0mself\u001b[0m\u001b[1;33m)\u001b[0m\u001b[1;33m:\u001b[0m\u001b[1;33m\u001b[0m\u001b[0m\n",
      "\u001b[1;31mInvalidSchema\u001b[0m: No connection adapters were found for '['https://www.ncbi.nlm.nih.gov/pubmed/30006921']'"
     ]
    }
   ],
   "source": [
    "# sets up scraper\n",
    "from splinter import Browser\n",
    "\n",
    "\n",
    "from selenium import webdriver\n",
    "\n",
    "# make sure chrome browser exe is in current directory\n",
    "# chrome browser exe is not necessary for MACS\n",
    "executable_path = {'executable_path': 'chromedriver'}\n",
    "\n",
    "title = []\n",
    "abstract = []\n",
    "authors = []\n",
    "\n",
    "url2 = links_2\n",
    "\n",
    "browser = Browser('chrome', headless=False)\n",
    "html = browser.html\n",
    "response2 = requests.get(url2)\n",
    "soup2 = bs(response2.text, 'html.parser')\n",
    "    \n",
    "browser.visit(url2)\n",
    "  "
   ]
  },
  {
   "cell_type": "code",
   "execution_count": null,
   "metadata": {
    "collapsed": true
   },
   "outputs": [],
   "source": [
    "  \n",
    "# there are two 'h1' tags on this page. slice out index 0\n",
    "title_one = soup2.find_all('h1')\n",
    "article_one_title = title_one[1].text.strip()\n",
    "    \n",
    "# slice h1 at index 1 to grab article title\n",
    "title.append(article_one_title)\n",
    "    \n",
    "# get abstract \n",
    "# abstract.append(soup2.find(\"div\", attrs={'class': 'rprt_all'}).text.strip())     \n",
    "abstract.append(soup2.find(\"div\", attrs={'class': 'rprt abstract'}).text.strip())\n",
    "        \n",
    "# get authors\n",
    "authors.append(soup2.find(\"div\", attrs={'class': 'auths'}).text.strip())\n",
    "        \n"
   ]
  },
  {
   "cell_type": "markdown",
   "metadata": {},
   "source": [
    "## Run article_info function"
   ]
  },
  {
   "cell_type": "code",
   "execution_count": 35,
   "metadata": {
    "collapsed": true
   },
   "outputs": [],
   "source": [
    "get_article_info(links_1)"
   ]
  },
  {
   "cell_type": "code",
   "execution_count": null,
   "metadata": {
    "collapsed": true
   },
   "outputs": [],
   "source": [
    "get_article_info(links_2)"
   ]
  },
  {
   "cell_type": "code",
   "execution_count": null,
   "metadata": {
    "collapsed": true
   },
   "outputs": [],
   "source": [
    "get_article_info(links_3)"
   ]
  },
  {
   "cell_type": "code",
   "execution_count": null,
   "metadata": {
    "collapsed": true
   },
   "outputs": [],
   "source": [
    "get_article_info(links_4)"
   ]
  },
  {
   "cell_type": "code",
   "execution_count": 36,
   "metadata": {},
   "outputs": [
    {
     "name": "stdout",
     "output_type": "stream",
     "text": [
      "DNMT3A and TET1 cooperate to regulate promoter epigenetic landscapes in mouse embryonic stem cells.\n",
      "\n",
      "Health risks of using mothballs in Greater Accra, Ghana.\n",
      "\n",
      "Author Correction: What models eat.\n",
      "\n",
      "The role of ADAMTS13 testing in the diagnosis and management of thrombotic microangiopathies and thrombosis.\n",
      "\n",
      "Reprogramming human T cell function and specificity with non-viral genome targeting.\n",
      "\n"
     ]
    },
    {
     "data": {
      "text/plain": [
       "5"
      ]
     },
     "execution_count": 36,
     "metadata": {},
     "output_type": "execute_result"
    }
   ],
   "source": [
    "for i in title:\n",
    "    print(i + \"\\n\")\n",
    "\n",
    "len(title)"
   ]
  },
  {
   "cell_type": "code",
   "execution_count": 37,
   "metadata": {
    "scrolled": false
   },
   "outputs": [
    {
     "name": "stdout",
     "output_type": "stream",
     "text": [
      "Genome Biol. 2018 Jul 12;19(1):88. doi: 10.1186/s13059-018-1464-7.DNMT3A and TET1 cooperate to regulate promoter epigenetic landscapes in mouse embryonic stem cells.Gu T1, Lin X2,3,4,5, Cullen SM1,6,7, Luo M1, Jeong M1, Estecio M8, Shen J8, Hardikar S8, Sun D2,3,9, Su J2,3, Rux D10, Guzman A1, Lee M9, Qi LS5, Chen JJ11, Kyba M10, Huang Y9, Chen T8, Li W12,13, Goodell MA14,15.Author information1Stem Cells and Regenerative Medicine Center, Baylor College of Medicine, Houston, TX, 77030, USA.2Division of Biostatistics, Dan L. Duncan Cancer Center, Baylor College of Medicine, Houston, TX, 77030, USA.3Department of Molecular and Cellular Biology, Baylor College of Medicine, Houston, TX, 77030, USA.4Department of Bioinformatics, School of Life Sciences and Technology, Tongji University, Shanghai, China.5Department of Bioengineering, Stanford University, Stanford, California, USA.6Program in Developmental Biology, Baylor College of Medicine, Houston, TX, 77030, USA.7Medical Scientist Training Program, Baylor College of Medicine, Houston, TX, 77030, USA.8Department of Epigenetics and Molecular Carcinogenesis, The University of Texas MD Anderson Cancer Center, Smithville, TX, 78957, USA.9Center for Epigenetics and Disease Prevention, Institute of Biosciences and Technology, Texas A&M University, Houston, TX, 77030, USA.10Lillehei Heart Institute and Department of Pediatrics, University of Minnesota, Minneapolis, MN, 55455, USA.11Institute of Biochemistry and Cell Biology, Chinese Academy of Sciences, Shanghai, 200031, China.12Division of Biostatistics, Dan L. Duncan Cancer Center, Baylor College of Medicine, Houston, TX, 77030, USA. wl1@bcm.edu.13Department of Molecular and Cellular Biology, Baylor College of Medicine, Houston, TX, 77030, USA. wl1@bcm.edu.14Stem Cells and Regenerative Medicine Center, Baylor College of Medicine, Houston, TX, 77030, USA. goodell@bcm.edu.15Program in Developmental Biology, Baylor College of Medicine, Houston, TX, 77030, USA. goodell@bcm.edu.AbstractBACKGROUND: DNA methylation is a heritable epigenetic mark, enabling stable but reversible gene repression. In mammalian cells, DNA methyltransferases (DNMTs) are responsible for modifying cytosine to 5-methylcytosine (5mC), which can be further oxidized by the TET dioxygenases to ultimately cause DNA demethylation. However, the genome-wide cooperation and functions of these two families of proteins, especially at large under-methylated regions, called canyons, remain largely unknown.RESULTS: Here we demonstrate that DNMT3A and TET1 function in a complementary and competitive manner in mouse embryonic stem cells to mediate proper epigenetic landscapes and gene expression. The longer isoform of DNMT3A, DNMT3A1, exhibits significant enrichment at distal promoters and canyon edges, but is excluded from proximal promoters and canyons where TET1 shows prominent binding. Deletion of Tet1 increases DNMT3A1 binding capacity at and around genes with wild-type TET1 binding. However, deletion of Dnmt3a has a minor effect on TET1 binding on chromatin, indicating that TET1 may limit DNA methylation partially by protecting its targets from DNMT3A and establishing boundaries for DNA methylation. Local CpG density may determine their complementary binding patterns and therefore that the methylation landscape is encoded in the DNA sequence. Furthermore, DNMT3A and TET1 impact histone modifications which in turn regulate gene expression. In particular, they regulate Polycomb Repressive Complex 2 (PRC2)-mediated H3K27me3 enrichment to constrain gene expression from bivalent promoters.CONCLUSIONS: We conclude that DNMT3A and TET1 regulate the epigenome and gene expression at specific targets via their functional interplay.KEYWORDS: DNA methylation; DNMT3A; Embryonic stem cells; H3K27me3; PRC2; TET1PMID: 30001199 PMCID: PMC6042404 DOI: 10.1186/s13059-018-1464-7 Free PMC ArticleShareImages from this publication.See all images  (7)Free textFig. 1Global DNA methylation in mouse ESCs is predominantly regulated by DNMT3A. a Average genome-wide methylated CpG dinucleotides percentages in WT, Dnmt3a KO, and Dnmt3b KO ESCs. b Violin plots of CpG methylation levels in WT, Dnmt3a KO, and Dnmt3b KO ESCs determined by whole genome bisulfite sequencing (WGBS) at the indicated genomic features. c UCSC genome browser track depicting DNA methylation at the Sox2 locus in WT, Dnmt3a KO, and Dnmt3b KO ESCs. Methylation ratios from 0 to 1 for individual CpG sites are shown. The identified DNA methylation canyon in each line is indicated by a solid colored bar. d, e The number of UMRs (d) and canyons (e) in the indicated lines of ESCsDNMT3A and TET1 cooperate to regulate promoter epigenetic landscapes in mouse embryonic stem cellsGenome Biol. 2018;19:88.Fig. 2DNMT3A1 is enriched at distal promoter and canyon edges. a Expression levels (FPKM) determined by RNA-seq of major active isoforms of Dnmt3a: Dnmt3a1 (NM_001271753, NM_007872), Dnmt3a2 (NM_153743), and Dnmt3b: Dnmt3b1 (NM_001003961), Dnmt3b6 (NM_001003963) in WT J1 ESCs. b Relative binding enrichment between DNMTs (DNMT3A1, DNMT3A, and DNMT3B1) at different genomic features, compared to their average genomic distribution. The canyon edge corresponds to 2-kb flanking regions around canyons. DNMT3A2 and DNMT3B1 data are from []DNMT3A and TET1 cooperate to regulate promoter epigenetic landscapes in mouse embryonic stem cellsGenome Biol. 2018;19:88.Fig. 3DNMT3A1 binding is complementary to TET1. a Average binding occupancy of DNMT3A1 and TET1 (anti-FLAG ChIP-seq) across all canyons, normalized to same length (Start-End), and 5-kb flanking regions. b UCSC genome browser track depicts DNA methylation, TET1 (anti-FLAG and anti-TET ChIP), and DNMT3A1 binding profiles around Foxo1 gene promoter in Tet1-FLAG ESCs. c Average binding occupancy of DNMT3A1 and TET1 (anti-FLAG ChIP-seq) across all gene bodies and 3-kb flanking regions. d DNMT3A1 and TET1 binding enrichment in 1-kb genomic windows ranked by CpG density, which was displayed as a dashed line. The point where DNMT3A and TET1 lines cross on right y-axis represents roughly 1.5 CpG per 100 bpDNMT3A and TET1 cooperate to regulate promoter epigenetic landscapes in mouse embryonic stem cellsGenome Biol. 2018;19:88.Fig. 4DNMT3A and TET1 binding correlate with histone marks and overall gene expression. a Heatmaps showing DNMT3A1, DNMT3A2, and DNMT3B1 binding around all TSSs in mouse genome which were clustered into five groups (G1–G5) based on their different binding properties in WT ESCs. b Quantification of (a): Average occupancy of DNMT3A1, DNMT3A2, and DNMT3B1 at genes from G1–G4. c Heatmaps showing TET1 and histone marks (H3K4me3 and H3K27me3) enrichment in WT ESCs around all TSSs, listed in the same order as Fig. 4a. d Boxplots of gene expression (FPKM) from G1–G4 in WT ESCs. e Boxplot of CpG density (normalized to 100 bp) around gene promoters (− 1 kb ~ + 0.5 kb) in G1–G4DNMT3A and TET1 cooperate to regulate promoter epigenetic landscapes in mouse embryonic stem cellsGenome Biol. 2018;19:88.Fig. 5DNMT3A and TET1 impact each other’s binding on chromatin. a The average occupancy of DNMT3A1 in Bio-Dnmt3a1 and Bio-Dnmt3a1 - Tet1 KO ESCs on TSS-associated TET1 peaks and the flanking 5-kb regions. b Position of hypermethylated DMRs around TSS-associated TET1 peaks, comparing Tet1/2/3 TKO (Tet TKO) [] and WT ESCs. The normalized TET1 peaks are positioned with 0 representing the peak centers, and positions ± 1 representing the TET1 peak edges, as indicated by the gray bar. c, d The average occupancy of TET1 (anti-FLAG ChIP-seq) in Tet1-FLAG and Tet1-FLAG - Dnmt3a KO ESCs across all TET1 peaks (c) and canyons (d). e Average occupancy of TET1 in Tet1-FLAG and Tet1-FLAG - Dnmt3a KO ESCs and DNMT3A1 in WT (Bio-Dnmt3a1) and Tet1 KO ESCs at genes from each groupDNMT3A and TET1 cooperate to regulate promoter epigenetic landscapes in mouse embryonic stem cellsGenome Biol. 2018;19:88.Fig. 6DNMT3A and TET1 regulate bivalent gene expression via PRC2-mediated H3K27me3. a Hierarchical clustering analysis of differentially expressed genes in WT, Dnmt3a KO, Tet1 KO, and Dnmt3a-Tet1 DKO ESCs. Genes Smad6 and Bmpr2 belong to Hippo / TGF-beta signaling (over-represented in C1) while Foxo3 and Akt3 in PI3K-Akt signaling pathway (over-represented in C2). Their expression difference between cell lines was confirmed by RT-qPCR (shown in Additional file : Figure S9b). b Heatmap representations of H3K27me3 enrichment on the flanking 5 kb surrounding the specific TSSs in each cluster in WT, Dnmt3a KO, Tet1 KO, and DKO ESCs. All TSSs are listed in the same order as Fig. 6a. c Average density profiles for H3K27me3 marks at genes from C1 (top) and C2 (bottom) clusters in indicated cells. d UCSC genome browser tracks depicting DNA methylation (WGBS) in WT ESCs and H3K27me3 in WT, Dnmt3a KO, Tet1 KO, and DKO ESCs at Smad6 (top) and Foxo3 gene (bottom). e Heatmap representations of SUZ12 occupancy on the flanking 5 kb surrounding the TSSs in cluster C1–C7 in WT, Dnmt3a KO, Tet1 KO and DKO ESCs. f Average density profiles for SUZ12 occupancy at genes from C1 (top) and C2 (bottom) clusters in indicated cellsDNMT3A and TET1 cooperate to regulate promoter epigenetic landscapes in mouse embryonic stem cellsGenome Biol. 2018;19:88.Fig. 7Analyses of DNA methylation in Dnmt3a KO, Tet1 KO, and DKO ESCs. a Violin plots of CpG methylation levels in WT, Dnmt3a KO, Tet1 KO, and DKO ESCs determined by WGBS at the indicated genomic features. b Average CpG methylation profiles at the flanking 5-kb regions of gene TSSs from clusters C1–C7 (listed in the same order as Fig. ) in WT, Dnmt3a KO, Tet1 KO, and DKO ESCsDNMT3A and TET1 cooperate to regulate promoter epigenetic landscapes in mouse embryonic stem cellsGenome Biol. 2018;19:88.Publication types, Grant supportPublication typesResearch Support, Non-U.S. Gov'tResearch Support, N.I.H., ExtramuralGrant support16IRG27250155/American Heart Association/InternationalRR140053/Cancer Prevention and Research Institute of Texas/InternationalCP120348, CP170002/Cancer Prevention and Research Institute of Texas/InternationalAI121403/NH/NIH HHS/United StatesHG007538, CA193466/NH/NIH HHS/United StatesDK092883, CA183252/NH/NIH HHS/United StatesLinkOut - more resourcesFull Text SourcesBioMed CentralEurope PubMed CentralPubMed Central\n",
      "\n",
      "\n",
      "Trop Med Int Health. 2012 Jan;17(1):135-8. doi: 10.1111/j.1365-3156.2011.02885.x. Epub  2011 Oct 4.Health risks of using mothballs in Greater Accra, Ghana.Soghoian S1, Nyadedzor C, Ed Nignpense B, Clarke EE, Hoffman RS.Author information1New York University and the New York City Poison Control Center, New York, NY, USA. sarisoghoian@yahoo.comAbstractOBJECTIVE: Internal use of 'camphor' is a potential public health concern in Accra. We sought to identify the toxins being sold as mothballs in Greater Accra and use this information to help educate both clinicians and the public.METHODS: Mothballs are commonly sold by street and marketplace vendors in unmarked cling film-wrapped packs. Fifteen small packs of mothballs were purchased from random vendors in three major markets and six roadside stands in Greater Accra. All samples were subjected to the float test; one sample was confirmed by gas chromatography/mass spectroscopy.RESULTS: All samples sank in tap water but floated in a saturated salt solution, consistent with naphthalene. The analysed sample was identified as naphthalene.CONCLUSION: Naphthalene was most likely the primary ingredient in all the mothballs purchased for the study. Naphthalene is poorly soluble in water, and 'camphor water' is unlikely to cause harm. However, ideas about the efficacy of 'camphor' as a purification tool may lead to therapeutic misuse by analogy. A high prevalence of G6PD in the Ghanaian population may increase the risk of toxic haematologic effects from ingestion of mothballs. Mothballs known in Greater Accra as 'camphor' are likely to be predominantly naphthalene. A public awareness campaign about the health risks of mothball ingestion is planned.© 2011 Blackwell Publishing Ltd.PMID: 21967193 DOI: 10.1111/j.1365-3156.2011.02885.x  [Indexed for MEDLINE] Free full textShareMeSH terms, SubstancesMeSH termsAnimalsCamphorCommerceGhanaGlucosephosphate Dehydrogenase Deficiency/complicationsHazardous Substances/adverse effects*Hazardous Substances/analysisHumansInsect Repellents/adverse effects*Insect Repellents/analysisMoths*Naphthalenes/adverse effects*Naphthalenes/analysisPublic Health*SolubilityWaterSubstancesHazardous SubstancesInsect RepellentsNaphthalenesWaternaphthaleneCamphorLinkOut - more resourcesFull Text SourcesWileyOvid Technologies, Inc.MiscellaneousCAMPHOR - Hazardous Substances Data BankNAPHTHALENE - Hazardous Substances Data BankWater - Hazardous Substances Data BankNCI CPTAC Assay PortalNCI CPTAC Assay Portal\n",
      "\n",
      "\n",
      "Nat Med. 2018 Jul 9. doi: 10.1038/s41591-018-0133-4. [Epub ahead of print]Author Correction: What models eat.Engber D1.Author information1Freelance science journalist and can be found on Twitter at @danengber, . danengber@yahoo.com.AbstractIn the version of this article originally published, there was an error in the sentence \"That quest, which started in the 1980s, continues through until today: For a paper published online in 2017, a group of researchers based at Brazil's Federal University of Rio Grande do Sul tested Sprague Dawley rats on either a high-fat diet, a cafeteria diet or what they called a 'Western diet', formulated to match up more closely with eating patterns in developed nations (it had 42.5% of its calories from fat and added salt and carbohydrates).\" Wistar rats were used in the experiment, not Sprague Dawley rats. Also, in ref. 7, the first author's last name was listed as Bortoloin. The correct spelling is Bortolin. The errors have been corrected in the HTML and PDF versions of this article.Erratum forWhat models eat. [Nat Med.  2018]PMID: 29985486 DOI: 10.1038/s41591-018-0133-4 SharePublication typePublication typePublished ErratumLinkOut - more resourcesFull Text SourcesNature Publishing Group\n",
      "\n",
      "\n",
      "Blood. 2018 Jul 13. pii: blood-2018-02-791533. doi: 10.1182/blood-2018-02-791533. [Epub ahead of print]The role of ADAMTS13 testing in the diagnosis and management of thrombotic microangiopathies and thrombosis.Masias C1, Cataland SR2.Author information1Department of Medicine, Ohio State University, Columbus, OH, United States camila.masiascastanon@osumc.edu.2Department of Medicine, Ohio State University, Columbus, OH, United States.AbstractADAMTS13 (A Disintegrin And Metalloproteinase with Thrombospondin type 1 motif, 13) is a metalloprotease responsible for cleavage of ultra large Von Willebrand factor (ULVWF) multimers. Severely deficient activity of the protease can trigger an acute episode of thrombotic thrombocytopenic purpura (TTP). Our understanding of the pathophysiology of TTP, has allowed us to grasp the important role of ADAMTS13 in other thrombotic microangiopathies (TMA) and thrombotic disorders, such as ischemic stroke and coronary artery disease. Through its action on von willebrand factor (VWF), ADAMTS13 can have prothrombotic and proinflammatory properties, not only when its activity is severely deficient but also when it is only moderately low. Here, we will discuss the biology of ADAMTS13 and the different assays developed to evaluate its function in the context of TTP, in the acute setting and during follow up. We will also discuss the latest evidence on the role of ADAMTS13 on other TMA, stroke and cardiovascular disease. This information will be useful for clinicians when evaluating a patient that presents with microangiopathic hemolytic anemia and thrombocytopenia, but also when making clinical decision regarding the follow up of patients with TTP.PMID: 30006329 DOI: 10.1182/blood-2018-02-791533 ShareLinkOut - more resourcesFull Text SourcesHighWire - PDF\n",
      "\n",
      "\n",
      "Nature. 2018 Jul 11. doi: 10.1038/s41586-018-0326-5. [Epub ahead of print]Reprogramming human T cell function and specificity with non-viral genome targeting.Roth TL1,2,3,4,5, Puig-Saus C6, Yu R3,4,5, Shifrut E3,4,5, Carnevale J7, Li PJ3,4,5, Hiatt J1,2,3,4,5, Saco J6, Krystofinski P6, Li H8,9, Tobin V3,4,5, Nguyen DN3,4,5, Lee MR4, Putnam AL4, Ferris AL10, Chen JW11, Schickel JN11, Pellerin L12,13, Carmody D14, Alkorta-Aranburu G15, Del Gaudio D15, Matsumoto H16, Morell M16, Mao Y16, Cho M17, Quadros RM18, Gurumurthy CB18, Smith B16, Haugwitz M16, Hughes SH10,11, Weissman JS8,9, Schumann K3,4,5, Esensten JH19, May AP17, Ashworth A7, Kupfer GM20, Greeley SAW14, Bacchetta R12,13, Meffre E11, Roncarolo MG12,13, Romberg N21,22, Herold KC23, Ribas A6,24,25,26, Leonetti MD8,9,17, Marson A27,28,29,30,31,32.Author information1Medical Scientist Training Program, University of California, San Francisco, San Francisco, CA, USA.2Biomedical Sciences Graduate Program, University of California, San Francisco, San Francisco, CA, USA.3Department of Microbiology and Immunology, University of California, San Francisco, San Francisco, CA, USA.4Diabetes Center, University of California, San Francisco, San Francisco, CA, USA.5Innovative Genomics Institute, University of California, Berkeley, Berkeley, CA, USA.6Department of Medicine, University of California at Los Angeles, Los Angeles, CA, USA.7UCSF Helen Diller Family Comprehensive Cancer Center, University of California, San Francisco, San Francisco, CA, USA.8Department of Cellular and Molecular Pharmacology, University of California, San Francisco, San Francisco, CA, USA.9Howard Hughes Medical Institute, University of California, San Francisco, San Francisco, CA, USA.10HIV Dynamics and Replication Program, Vector Design and Replication Section, National Cancer Institute, Frederick, MD, USA.11Department of Immunobiology, Yale School of Medicine, New Haven, CT, USA.12Division of Stem Cell Transplantation and Regenerative Medicine, Department of Pediatrics, Stanford University, Stanford, CA, USA.13Institute for Stem Cell Biology and Regenerative Medicine, Stanford University, Stanford, CA, USA.14Section of Adult and Pediatric Endocrinology, Diabetes, and Metabolism, Departments of Medicine and Pediatrics, The University of Chicago, Chicago, IL, USA.15Department of Human Genetics, The University of Chicago, Chicago, IL, USA.16Takara Bio USA, Inc, Mountain View, CA, USA.17Chan Zuckerberg Biohub, San Francisco, CA, USA.18Mouse Genome Engineering Core Facility, Vice Chancellor for Research Office, University of Nebraska Medical Center, Omaha, NE, USA.19Department of Laboratory Medicine, University of California, San Francisco, San Francisco, CA, USA.20Department of Pediatrics, Pathology, Yale School of Medicine, New Haven, CT, USA.21Division of Immunology and Allergy, The Children's Hospital of Philadelphia, Philadelphia, PA, USA.22Department of Pediatrics, The Perelman School of Medicine at the University of Pennsylvania, Philadelphia, PA, USA.23Departments of Immunobiology and Internal Medicine, Yale University, New Haven, CT, USA.24Department of Surgery, University of California, Los Angeles, Los Angeles, CA, USA.25Department of Medical and Molecular Pharmacology, University of California, Los Angeles, Los Angeles, CA, USA.26Jonsson Comprehensive Cancer Center, Los Angeles, CA, USA.27Department of Microbiology and Immunology, University of California, San Francisco, San Francisco, CA, USA. alexander.marson@ucsf.edu.28Diabetes Center, University of California, San Francisco, San Francisco, CA, USA. alexander.marson@ucsf.edu.29Innovative Genomics Institute, University of California, Berkeley, Berkeley, CA, USA. alexander.marson@ucsf.edu.30UCSF Helen Diller Family Comprehensive Cancer Center, University of California, San Francisco, San Francisco, CA, USA. alexander.marson@ucsf.edu.31Chan Zuckerberg Biohub, San Francisco, CA, USA. alexander.marson@ucsf.edu.32Department of Medicine, University of California, San Francisco, San Francisco, CA, USA. alexander.marson@ucsf.edu.AbstractDecades of work have aimed to genetically reprogram T cells for therapeutic purposes1,2 using recombinant viral vectors, which do not target transgenes to specific genomic sites3,4. The need for viral vectors has slowed down research and clinical use as their manufacturing and testing is lengthy and expensive. Genome editing brought the promise of specific and efficient insertion of large transgenes into target cells using homology-directed repair5,6. Here we developed a CRISPR-Cas9 genome-targeting system that does not require viral vectors, allowing rapid and efficient insertion of large DNA sequences (greater than one kilobase) at specific sites in the genomes of primary human T cells, while preserving cell viability and function. This permits individual or multiplexed modification of endogenous genes. First, we applied this strategy to correct a pathogenic IL2RA mutation in cells from patients with monogenic autoimmune disease, and demonstrate improved signalling function. Second, we replaced the endogenous T cell receptor (TCR) locus with a new TCR that redirected T cells to a cancer antigen. The resulting TCR-engineered T cells specifically recognized tumour antigens and mounted productive anti-tumour cell responses in vitro and in vivo. Together, these studies provide preclinical evidence that non-viral genome targeting can enable rapid and flexible experimental manipulation and therapeutic engineering of primary human immune cells.PMID: 29995861 DOI: 10.1038/s41586-018-0326-5 ShareLinkOut - more resourcesFull Text SourcesNature Publishing GroupResearch MaterialsGet Article's Plasmids - Addgene - Addgene Non-profit plasmid repository\n",
      "\n",
      "\n"
     ]
    },
    {
     "data": {
      "text/plain": [
       "5"
      ]
     },
     "execution_count": 37,
     "metadata": {},
     "output_type": "execute_result"
    }
   ],
   "source": [
    "for i in abstract:\n",
    "    print(i)\n",
    "    print(\"\\n\")\n",
    "\n",
    "len(abstract)"
   ]
  },
  {
   "cell_type": "markdown",
   "metadata": {},
   "source": [
    "## Add title and abstract to article_dict"
   ]
  },
  {
   "cell_type": "code",
   "execution_count": 38,
   "metadata": {
    "scrolled": false
   },
   "outputs": [
    {
     "data": {
      "text/plain": [
       "{'abstract': [\"Genome Biol. 2018 Jul 12;19(1):88. doi: 10.1186/s13059-018-1464-7.DNMT3A and TET1 cooperate to regulate promoter epigenetic landscapes in mouse embryonic stem cells.Gu T1, Lin X2,3,4,5, Cullen SM1,6,7, Luo M1, Jeong M1, Estecio M8, Shen J8, Hardikar S8, Sun D2,3,9, Su J2,3, Rux D10, Guzman A1, Lee M9, Qi LS5, Chen JJ11, Kyba M10, Huang Y9, Chen T8, Li W12,13, Goodell MA14,15.Author information1Stem Cells and Regenerative Medicine Center, Baylor College of Medicine, Houston, TX, 77030, USA.2Division of Biostatistics, Dan L. Duncan Cancer Center, Baylor College of Medicine, Houston, TX, 77030, USA.3Department of Molecular and Cellular Biology, Baylor College of Medicine, Houston, TX, 77030, USA.4Department of Bioinformatics, School of Life Sciences and Technology, Tongji University, Shanghai, China.5Department of Bioengineering, Stanford University, Stanford, California, USA.6Program in Developmental Biology, Baylor College of Medicine, Houston, TX, 77030, USA.7Medical Scientist Training Program, Baylor College of Medicine, Houston, TX, 77030, USA.8Department of Epigenetics and Molecular Carcinogenesis, The University of Texas MD Anderson Cancer Center, Smithville, TX, 78957, USA.9Center for Epigenetics and Disease Prevention, Institute of Biosciences and Technology, Texas A&M University, Houston, TX, 77030, USA.10Lillehei Heart Institute and Department of Pediatrics, University of Minnesota, Minneapolis, MN, 55455, USA.11Institute of Biochemistry and Cell Biology, Chinese Academy of Sciences, Shanghai, 200031, China.12Division of Biostatistics, Dan L. Duncan Cancer Center, Baylor College of Medicine, Houston, TX, 77030, USA. wl1@bcm.edu.13Department of Molecular and Cellular Biology, Baylor College of Medicine, Houston, TX, 77030, USA. wl1@bcm.edu.14Stem Cells and Regenerative Medicine Center, Baylor College of Medicine, Houston, TX, 77030, USA. goodell@bcm.edu.15Program in Developmental Biology, Baylor College of Medicine, Houston, TX, 77030, USA. goodell@bcm.edu.AbstractBACKGROUND: DNA methylation is a heritable epigenetic mark, enabling stable but reversible gene repression. In mammalian cells, DNA methyltransferases (DNMTs) are responsible for modifying cytosine to 5-methylcytosine (5mC), which can be further oxidized by the TET dioxygenases to ultimately cause DNA demethylation. However, the genome-wide cooperation and functions of these two families of proteins, especially at large under-methylated regions, called canyons, remain largely unknown.RESULTS: Here we demonstrate that DNMT3A and TET1 function in a complementary and competitive manner in mouse embryonic stem cells to mediate proper epigenetic landscapes and gene expression. The longer isoform of DNMT3A, DNMT3A1, exhibits significant enrichment at distal promoters and canyon edges, but is excluded from proximal promoters and canyons where TET1 shows prominent binding. Deletion of Tet1 increases DNMT3A1 binding capacity at and around genes with wild-type TET1 binding. However, deletion of Dnmt3a has a minor effect on TET1 binding on chromatin, indicating that TET1 may limit DNA methylation partially by protecting its targets from DNMT3A and establishing boundaries for DNA methylation. Local CpG density may determine their complementary binding patterns and therefore that the methylation landscape is encoded in the DNA sequence. Furthermore, DNMT3A and TET1 impact histone modifications which in turn regulate gene expression. In particular, they regulate Polycomb Repressive Complex 2 (PRC2)-mediated H3K27me3 enrichment to constrain gene expression from bivalent promoters.CONCLUSIONS: We conclude that DNMT3A and TET1 regulate the epigenome and gene expression at specific targets via their functional interplay.KEYWORDS: DNA methylation; DNMT3A; Embryonic stem cells; H3K27me3; PRC2; TET1PMID: 30001199 PMCID: PMC6042404 DOI: 10.1186/s13059-018-1464-7 Free PMC ArticleShareImages from this publication.See all images  (7)Free textFig. 1Global DNA methylation in mouse ESCs is predominantly regulated by DNMT3A. a Average genome-wide methylated CpG dinucleotides percentages in WT, Dnmt3a KO, and Dnmt3b KO ESCs. b Violin plots of CpG methylation levels in WT, Dnmt3a KO, and Dnmt3b KO ESCs determined by whole genome bisulfite sequencing (WGBS) at the indicated genomic features. c UCSC genome browser track depicting DNA methylation at the Sox2 locus in WT, Dnmt3a KO, and Dnmt3b KO ESCs. Methylation ratios from 0 to 1 for individual CpG sites are shown. The identified DNA methylation canyon in each line is indicated by a solid colored bar. d, e The number of UMRs (d) and canyons (e) in the indicated lines of ESCsDNMT3A and TET1 cooperate to regulate promoter epigenetic landscapes in mouse embryonic stem cellsGenome Biol. 2018;19:88.Fig. 2DNMT3A1 is enriched at distal promoter and canyon edges. a Expression levels (FPKM) determined by RNA-seq of major active isoforms of Dnmt3a: Dnmt3a1 (NM_001271753, NM_007872), Dnmt3a2 (NM_153743), and Dnmt3b: Dnmt3b1 (NM_001003961), Dnmt3b6 (NM_001003963) in WT J1 ESCs. b Relative binding enrichment between DNMTs (DNMT3A1, DNMT3A, and DNMT3B1) at different genomic features, compared to their average genomic distribution. The canyon edge corresponds to 2-kb flanking regions around canyons. DNMT3A2 and DNMT3B1 data are from []DNMT3A and TET1 cooperate to regulate promoter epigenetic landscapes in mouse embryonic stem cellsGenome Biol. 2018;19:88.Fig. 3DNMT3A1 binding is complementary to TET1. a Average binding occupancy of DNMT3A1 and TET1 (anti-FLAG ChIP-seq) across all canyons, normalized to same length (Start-End), and 5-kb flanking regions. b UCSC genome browser track depicts DNA methylation, TET1 (anti-FLAG and anti-TET ChIP), and DNMT3A1 binding profiles around Foxo1 gene promoter in Tet1-FLAG ESCs. c Average binding occupancy of DNMT3A1 and TET1 (anti-FLAG ChIP-seq) across all gene bodies and 3-kb flanking regions. d DNMT3A1 and TET1 binding enrichment in 1-kb genomic windows ranked by CpG density, which was displayed as a dashed line. The point where DNMT3A and TET1 lines cross on right y-axis represents roughly 1.5 CpG per 100\\xa0bpDNMT3A and TET1 cooperate to regulate promoter epigenetic landscapes in mouse embryonic stem cellsGenome Biol. 2018;19:88.Fig. 4DNMT3A and TET1 binding correlate with histone marks and overall gene expression. a Heatmaps showing DNMT3A1, DNMT3A2, and DNMT3B1 binding around all TSSs in mouse genome which were clustered into five groups (G1–G5) based on their different binding properties in WT ESCs. b Quantification of (a): Average occupancy of DNMT3A1, DNMT3A2, and DNMT3B1 at genes from G1–G4. c Heatmaps showing TET1 and histone marks (H3K4me3 and H3K27me3) enrichment in WT ESCs around all TSSs, listed in the same order as Fig. 4a. d Boxplots of gene expression (FPKM) from G1–G4 in WT ESCs. e Boxplot of CpG density (normalized to 100\\xa0bp) around gene promoters (−\\u20091\\xa0kb ~ +\\u20090.5\\xa0kb) in G1–G4DNMT3A and TET1 cooperate to regulate promoter epigenetic landscapes in mouse embryonic stem cellsGenome Biol. 2018;19:88.Fig. 5DNMT3A and TET1 impact each other’s binding on chromatin. a The average occupancy of DNMT3A1 in Bio-Dnmt3a1 and Bio-Dnmt3a1 - Tet1 KO ESCs on TSS-associated TET1 peaks and the flanking 5-kb regions. b Position of hypermethylated DMRs around TSS-associated TET1 peaks, comparing Tet1/2/3 TKO (Tet TKO) [] and WT ESCs. The normalized TET1 peaks are positioned with 0 representing the peak centers, and positions ±\\u20091 representing the TET1 peak edges, as indicated by the gray bar. c, d The average occupancy of TET1 (anti-FLAG ChIP-seq) in Tet1-FLAG and Tet1-FLAG - Dnmt3a KO ESCs across all TET1 peaks (c) and canyons (d). e Average occupancy of TET1 in Tet1-FLAG and Tet1-FLAG - Dnmt3a KO ESCs and DNMT3A1 in WT (Bio-Dnmt3a1) and Tet1 KO ESCs at genes from each groupDNMT3A and TET1 cooperate to regulate promoter epigenetic landscapes in mouse embryonic stem cellsGenome Biol. 2018;19:88.Fig. 6DNMT3A and TET1 regulate bivalent gene expression via PRC2-mediated H3K27me3. a Hierarchical clustering analysis of differentially expressed genes in WT, Dnmt3a KO, Tet1 KO, and Dnmt3a-Tet1 DKO ESCs. Genes Smad6 and Bmpr2 belong to Hippo / TGF-beta signaling (over-represented in C1) while Foxo3 and Akt3 in PI3K-Akt signaling pathway (over-represented in C2). Their expression difference between cell lines was confirmed by RT-qPCR (shown in Additional file : Figure S9b). b Heatmap representations of H3K27me3 enrichment on the flanking 5\\xa0kb surrounding the specific TSSs in each cluster in WT, Dnmt3a KO, Tet1 KO, and DKO ESCs. All TSSs are listed in the same order as Fig. 6a. c Average density profiles for H3K27me3 marks at genes from C1 (top) and C2 (bottom) clusters in indicated cells. d UCSC genome browser tracks depicting DNA methylation (WGBS) in WT ESCs and H3K27me3 in WT, Dnmt3a KO, Tet1 KO, and DKO ESCs at Smad6 (top) and Foxo3 gene (bottom). e Heatmap representations of SUZ12 occupancy on the flanking 5 kb surrounding the TSSs in cluster C1–C7 in WT, Dnmt3a KO, Tet1 KO and DKO ESCs. f\\xa0Average density profiles for SUZ12 occupancy at genes from C1 (top) and C2 (bottom) clusters in indicated cellsDNMT3A and TET1 cooperate to regulate promoter epigenetic landscapes in mouse embryonic stem cellsGenome Biol. 2018;19:88.Fig. 7Analyses of DNA methylation in Dnmt3a KO, Tet1 KO, and DKO ESCs. a Violin plots of CpG methylation levels in WT, Dnmt3a KO, Tet1 KO, and DKO ESCs determined by WGBS at the indicated genomic features. b Average CpG methylation profiles at the flanking 5-kb regions of gene TSSs from clusters C1–C7 (listed in the same order as Fig. ) in WT, Dnmt3a KO, Tet1 KO, and DKO ESCsDNMT3A and TET1 cooperate to regulate promoter epigenetic landscapes in mouse embryonic stem cellsGenome Biol. 2018;19:88.Publication types, Grant supportPublication typesResearch Support, Non-U.S. Gov'tResearch Support, N.I.H., ExtramuralGrant support16IRG27250155/American Heart Association/InternationalRR140053/Cancer Prevention and Research Institute of Texas/InternationalCP120348, CP170002/Cancer Prevention and Research Institute of Texas/InternationalAI121403/NH/NIH HHS/United StatesHG007538, CA193466/NH/NIH HHS/United StatesDK092883, CA183252/NH/NIH HHS/United StatesLinkOut - more resourcesFull Text SourcesBioMed CentralEurope PubMed CentralPubMed Central\",\n",
       "  \"Trop Med Int Health. 2012 Jan;17(1):135-8. doi: 10.1111/j.1365-3156.2011.02885.x. Epub  2011 Oct 4.Health risks of using mothballs in Greater Accra, Ghana.Soghoian S1, Nyadedzor C, Ed Nignpense B, Clarke EE, Hoffman RS.Author information1New York University and the New York City Poison Control Center, New York, NY, USA. sarisoghoian@yahoo.comAbstractOBJECTIVE: Internal use of 'camphor' is a potential public health concern in Accra. We sought to identify the toxins being sold as mothballs in Greater Accra and use this information to help educate both clinicians and the public.METHODS: Mothballs are commonly sold by street and marketplace vendors in unmarked cling film-wrapped packs. Fifteen small packs of mothballs were purchased from random vendors in three major markets and six roadside stands in Greater Accra. All samples were subjected to the float test; one sample was confirmed by gas chromatography/mass spectroscopy.RESULTS: All samples sank in tap water but floated in a saturated salt solution, consistent with naphthalene. The analysed sample was identified as naphthalene.CONCLUSION: Naphthalene was most likely the primary ingredient in all the mothballs purchased for the study. Naphthalene is poorly soluble in water, and 'camphor water' is unlikely to cause harm. However, ideas about the efficacy of 'camphor' as a purification tool may lead to therapeutic misuse by analogy. A high prevalence of G6PD in the Ghanaian population may increase the risk of toxic haematologic effects from ingestion of mothballs. Mothballs known in Greater Accra as 'camphor' are likely to be predominantly naphthalene. A public awareness campaign about the health risks of mothball ingestion is planned.© 2011 Blackwell Publishing Ltd.PMID: 21967193 DOI: 10.1111/j.1365-3156.2011.02885.x  [Indexed for MEDLINE] Free full textShareMeSH terms, SubstancesMeSH termsAnimalsCamphorCommerceGhanaGlucosephosphate Dehydrogenase Deficiency/complicationsHazardous Substances/adverse effects*Hazardous Substances/analysisHumansInsect Repellents/adverse effects*Insect Repellents/analysisMoths*Naphthalenes/adverse effects*Naphthalenes/analysisPublic Health*SolubilityWaterSubstancesHazardous SubstancesInsect RepellentsNaphthalenesWaternaphthaleneCamphorLinkOut - more resourcesFull Text SourcesWileyOvid Technologies, Inc.MiscellaneousCAMPHOR - Hazardous Substances Data BankNAPHTHALENE - Hazardous Substances Data BankWater - Hazardous Substances Data BankNCI CPTAC Assay PortalNCI CPTAC Assay Portal\",\n",
       "  'Nat Med. 2018 Jul 9. doi: 10.1038/s41591-018-0133-4. [Epub ahead of print]Author Correction: What models eat.Engber D1.Author information1Freelance science journalist and can be found on Twitter at @danengber, . danengber@yahoo.com.AbstractIn the version of this article originally published, there was an error in the sentence \"That quest, which started in the 1980s, continues through until today: For a paper published online in 2017, a group of researchers based at Brazil\\'s Federal University of Rio Grande do Sul tested Sprague Dawley rats on either a high-fat diet, a cafeteria diet or what they called a \\'Western diet\\', formulated to match up more closely with eating patterns in developed nations (it had 42.5% of its calories from fat and added salt and carbohydrates).\" Wistar rats were used in the experiment, not Sprague Dawley rats. Also, in ref. 7, the first author\\'s last name was listed as Bortoloin. The correct spelling is Bortolin. The errors have been corrected in the HTML and PDF versions of this article.Erratum forWhat models eat. [Nat Med.  2018]PMID: 29985486 DOI: 10.1038/s41591-018-0133-4 SharePublication typePublication typePublished ErratumLinkOut - more resourcesFull Text SourcesNature Publishing Group',\n",
       "  'Blood. 2018 Jul 13. pii: blood-2018-02-791533. doi: 10.1182/blood-2018-02-791533. [Epub ahead of print]The role of ADAMTS13 testing in the diagnosis and management of thrombotic microangiopathies and thrombosis.Masias C1, Cataland SR2.Author information1Department of Medicine, Ohio State University, Columbus, OH, United States camila.masiascastanon@osumc.edu.2Department of Medicine, Ohio State University, Columbus, OH, United States.AbstractADAMTS13 (A Disintegrin And Metalloproteinase with Thrombospondin type 1 motif, 13) is a metalloprotease responsible for cleavage of ultra large Von Willebrand factor (ULVWF) multimers. Severely deficient activity of the protease can trigger an acute episode of thrombotic thrombocytopenic purpura (TTP). Our understanding of the pathophysiology of TTP, has allowed us to grasp the important role of ADAMTS13 in other thrombotic microangiopathies (TMA) and thrombotic disorders, such as ischemic stroke and coronary artery disease. Through its action on von willebrand factor (VWF), ADAMTS13 can have prothrombotic and proinflammatory properties, not only when its activity is severely deficient but also when it is only moderately low. Here, we will discuss the biology of ADAMTS13 and the different assays developed to evaluate its function in the context of TTP, in the acute setting and during follow up. We will also discuss the latest evidence on the role of ADAMTS13 on other TMA, stroke and cardiovascular disease. This information will be useful for clinicians when evaluating a patient that presents with microangiopathic hemolytic anemia and thrombocytopenia, but also when making clinical decision regarding the follow up of patients with TTP.PMID: 30006329 DOI: 10.1182/blood-2018-02-791533 ShareLinkOut - more resourcesFull Text SourcesHighWire - PDF',\n",
       "  \"Nature. 2018 Jul 11. doi: 10.1038/s41586-018-0326-5. [Epub ahead of print]Reprogramming human T cell function and specificity with non-viral genome targeting.Roth TL1,2,3,4,5, Puig-Saus C6, Yu R3,4,5, Shifrut E3,4,5, Carnevale J7, Li PJ3,4,5, Hiatt J1,2,3,4,5, Saco J6, Krystofinski P6, Li H8,9, Tobin V3,4,5, Nguyen DN3,4,5, Lee MR4, Putnam AL4, Ferris AL10, Chen JW11, Schickel JN11, Pellerin L12,13, Carmody D14, Alkorta-Aranburu G15, Del Gaudio D15, Matsumoto H16, Morell M16, Mao Y16, Cho M17, Quadros RM18, Gurumurthy CB18, Smith B16, Haugwitz M16, Hughes SH10,11, Weissman JS8,9, Schumann K3,4,5, Esensten JH19, May AP17, Ashworth A7, Kupfer GM20, Greeley SAW14, Bacchetta R12,13, Meffre E11, Roncarolo MG12,13, Romberg N21,22, Herold KC23, Ribas A6,24,25,26, Leonetti MD8,9,17, Marson A27,28,29,30,31,32.Author information1Medical Scientist Training Program, University of California, San Francisco, San Francisco, CA, USA.2Biomedical Sciences Graduate Program, University of California, San Francisco, San Francisco, CA, USA.3Department of Microbiology and Immunology, University of California, San Francisco, San Francisco, CA, USA.4Diabetes Center, University of California, San Francisco, San Francisco, CA, USA.5Innovative Genomics Institute, University of California, Berkeley, Berkeley, CA, USA.6Department of Medicine, University of California at Los Angeles, Los Angeles, CA, USA.7UCSF Helen Diller Family Comprehensive Cancer Center, University of California, San Francisco, San Francisco, CA, USA.8Department of Cellular and Molecular Pharmacology, University of California, San Francisco, San Francisco, CA, USA.9Howard Hughes Medical Institute, University of California, San Francisco, San Francisco, CA, USA.10HIV Dynamics and Replication Program, Vector Design and Replication Section, National Cancer Institute, Frederick, MD, USA.11Department of Immunobiology, Yale School of Medicine, New Haven, CT, USA.12Division of Stem Cell Transplantation and Regenerative Medicine, Department of Pediatrics, Stanford University, Stanford, CA, USA.13Institute for Stem Cell Biology and Regenerative Medicine, Stanford University, Stanford, CA, USA.14Section of Adult and Pediatric Endocrinology, Diabetes, and Metabolism, Departments of Medicine and Pediatrics, The University of Chicago, Chicago, IL, USA.15Department of Human Genetics, The University of Chicago, Chicago, IL, USA.16Takara Bio USA, Inc, Mountain View, CA, USA.17Chan Zuckerberg Biohub, San Francisco, CA, USA.18Mouse Genome Engineering Core Facility, Vice Chancellor for Research Office, University of Nebraska Medical Center, Omaha, NE, USA.19Department of Laboratory Medicine, University of California, San Francisco, San Francisco, CA, USA.20Department of Pediatrics, Pathology, Yale School of Medicine, New Haven, CT, USA.21Division of Immunology and Allergy, The Children's Hospital of Philadelphia, Philadelphia, PA, USA.22Department of Pediatrics, The Perelman School of Medicine at the University of Pennsylvania, Philadelphia, PA, USA.23Departments of Immunobiology and Internal Medicine, Yale University, New Haven, CT, USA.24Department of Surgery, University of California, Los Angeles, Los Angeles, CA, USA.25Department of Medical and Molecular Pharmacology, University of California, Los Angeles, Los Angeles, CA, USA.26Jonsson Comprehensive Cancer Center, Los Angeles, CA, USA.27Department of Microbiology and Immunology, University of California, San Francisco, San Francisco, CA, USA. alexander.marson@ucsf.edu.28Diabetes Center, University of California, San Francisco, San Francisco, CA, USA. alexander.marson@ucsf.edu.29Innovative Genomics Institute, University of California, Berkeley, Berkeley, CA, USA. alexander.marson@ucsf.edu.30UCSF Helen Diller Family Comprehensive Cancer Center, University of California, San Francisco, San Francisco, CA, USA. alexander.marson@ucsf.edu.31Chan Zuckerberg Biohub, San Francisco, CA, USA. alexander.marson@ucsf.edu.32Department of Medicine, University of California, San Francisco, San Francisco, CA, USA. alexander.marson@ucsf.edu.AbstractDecades of work have aimed to genetically reprogram T cells for therapeutic purposes1,2 using recombinant viral vectors, which do not target transgenes to specific genomic sites3,4. The need for viral vectors has slowed down research and clinical use as their manufacturing and testing is lengthy and expensive. Genome editing brought the promise of specific and efficient insertion of large transgenes into target cells using homology-directed repair5,6. Here we developed a CRISPR-Cas9 genome-targeting system that does not require viral vectors, allowing rapid and efficient insertion of large DNA sequences (greater than one\\xa0kilobase) at specific sites in the genomes of primary human T cells, while preserving cell viability and function. This permits individual or multiplexed modification of endogenous genes. First, we applied this strategy to correct a pathogenic IL2RA mutation in cells from patients with monogenic autoimmune disease, and demonstrate improved signalling function. Second, we replaced the endogenous T cell receptor (TCR) locus with a new TCR that redirected T cells to a cancer antigen. The resulting TCR-engineered T cells specifically recognized tumour antigens and mounted productive anti-tumour cell responses in vitro and in vivo. Together, these studies provide preclinical evidence that non-viral genome targeting can enable rapid and flexible experimental manipulation and therapeutic engineering of primary human immune cells.PMID: 29995861 DOI: 10.1038/s41586-018-0326-5 ShareLinkOut - more resourcesFull Text SourcesNature Publishing GroupResearch MaterialsGet Article's Plasmids - Addgene - Addgene Non-profit plasmid repository\"],\n",
       " 'title': ['DNMT3A and TET1 cooperate to regulate promoter epigenetic landscapes in mouse embryonic stem cells.',\n",
       "  'Health risks of using mothballs in Greater Accra, Ghana.',\n",
       "  'Author Correction: What models eat.',\n",
       "  'The role of ADAMTS13 testing in the diagnosis and management of thrombotic microangiopathies and thrombosis.',\n",
       "  'Reprogramming human T cell function and specificity with non-viral genome targeting.']}"
      ]
     },
     "execution_count": 38,
     "metadata": {},
     "output_type": "execute_result"
    }
   ],
   "source": [
    "# check article dict\n",
    "article_dict"
   ]
  },
  {
   "cell_type": "markdown",
   "metadata": {},
   "source": [
    "## Save article_dict to json"
   ]
  },
  {
   "cell_type": "code",
   "execution_count": 39,
   "metadata": {
    "collapsed": true
   },
   "outputs": [],
   "source": [
    "import json"
   ]
  },
  {
   "cell_type": "code",
   "execution_count": 40,
   "metadata": {},
   "outputs": [
    {
     "data": {
      "text/plain": [
       "22182"
      ]
     },
     "execution_count": 40,
     "metadata": {},
     "output_type": "execute_result"
    }
   ],
   "source": [
    "# check json file\n",
    "json = json.dumps(article_dict)\n",
    "f = open(\"trending2.json\",\"w\")\n",
    "f.write(json)\n",
    "f.close()"
   ]
  },
  {
   "cell_type": "code",
   "execution_count": 41,
   "metadata": {
    "collapsed": true
   },
   "outputs": [],
   "source": [
    "# Import sqlalchemy Dependencies\n",
    "import sqlalchemy\n",
    "from sqlalchemy.ext.automap import automap_base\n",
    "from sqlalchemy.orm import Session\n",
    "from sqlalchemy import create_engine\n",
    "from sqlalchemy import func\n",
    "from sqlalchemy import Column, Float, Integer, String, Date\n",
    "from sqlalchemy.ext.declarative import declarative_base"
   ]
  },
  {
   "cell_type": "code",
   "execution_count": 42,
   "metadata": {
    "collapsed": true
   },
   "outputs": [],
   "source": [
    "# Create an engine for the photopharm.sqlite database\n",
    "engine = create_engine(\"sqlite:///photopharm.sqlite\")\n"
   ]
  },
  {
   "cell_type": "code",
   "execution_count": 43,
   "metadata": {
    "collapsed": true
   },
   "outputs": [],
   "source": [
    "# Reflect Database into ORM classes\n",
    "Base = declarative_base()"
   ]
  },
  {
   "cell_type": "code",
   "execution_count": 49,
   "metadata": {
    "collapsed": true
   },
   "outputs": [],
   "source": [
    "# Create ORM class for titles and abstracts\n",
    "class Articles(Base):\n",
    "    __tablename__ = \"Title_Abstracts\"\n",
    "    \n",
    "    __table_args__ = {'extend_existing': True} \n",
    "    \n",
    "    id = Column(Integer, primary_key = True)\n",
    "    title = Column(String)\n",
    "    abstract = Column(String)\n",
    "    "
   ]
  },
  {
   "cell_type": "code",
   "execution_count": 50,
   "metadata": {
    "collapsed": true
   },
   "outputs": [],
   "source": [
    "# create tables\n",
    "Base.metadata.create_all(engine)"
   ]
  },
  {
   "cell_type": "code",
   "execution_count": 51,
   "metadata": {
    "collapsed": true
   },
   "outputs": [],
   "source": [
    "# read in trending1 json into a dataframe\n",
    "df2 = pd.read_json('trending2.json')"
   ]
  },
  {
   "cell_type": "code",
   "execution_count": 52,
   "metadata": {},
   "outputs": [
    {
     "data": {
      "text/html": [
       "<div>\n",
       "<style>\n",
       "    .dataframe thead tr:only-child th {\n",
       "        text-align: right;\n",
       "    }\n",
       "\n",
       "    .dataframe thead th {\n",
       "        text-align: left;\n",
       "    }\n",
       "\n",
       "    .dataframe tbody tr th {\n",
       "        vertical-align: top;\n",
       "    }\n",
       "</style>\n",
       "<table border=\"1\" class=\"dataframe\">\n",
       "  <thead>\n",
       "    <tr style=\"text-align: right;\">\n",
       "      <th></th>\n",
       "      <th>abstract</th>\n",
       "      <th>title</th>\n",
       "    </tr>\n",
       "  </thead>\n",
       "  <tbody>\n",
       "    <tr>\n",
       "      <th>0</th>\n",
       "      <td>Genome Biol. 2018 Jul 12;19(1):88. doi: 10.118...</td>\n",
       "      <td>DNMT3A and TET1 cooperate to regulate promoter...</td>\n",
       "    </tr>\n",
       "    <tr>\n",
       "      <th>1</th>\n",
       "      <td>Trop Med Int Health. 2012 Jan;17(1):135-8. doi...</td>\n",
       "      <td>Health risks of using mothballs in Greater Acc...</td>\n",
       "    </tr>\n",
       "    <tr>\n",
       "      <th>2</th>\n",
       "      <td>Nat Med. 2018 Jul 9. doi: 10.1038/s41591-018-0...</td>\n",
       "      <td>Author Correction: What models eat.</td>\n",
       "    </tr>\n",
       "    <tr>\n",
       "      <th>3</th>\n",
       "      <td>Blood. 2018 Jul 13. pii: blood-2018-02-791533....</td>\n",
       "      <td>The role of ADAMTS13 testing in the diagnosis ...</td>\n",
       "    </tr>\n",
       "    <tr>\n",
       "      <th>4</th>\n",
       "      <td>Nature. 2018 Jul 11. doi: 10.1038/s41586-018-0...</td>\n",
       "      <td>Reprogramming human T cell function and specif...</td>\n",
       "    </tr>\n",
       "  </tbody>\n",
       "</table>\n",
       "</div>"
      ],
      "text/plain": [
       "                                            abstract  \\\n",
       "0  Genome Biol. 2018 Jul 12;19(1):88. doi: 10.118...   \n",
       "1  Trop Med Int Health. 2012 Jan;17(1):135-8. doi...   \n",
       "2  Nat Med. 2018 Jul 9. doi: 10.1038/s41591-018-0...   \n",
       "3  Blood. 2018 Jul 13. pii: blood-2018-02-791533....   \n",
       "4  Nature. 2018 Jul 11. doi: 10.1038/s41586-018-0...   \n",
       "\n",
       "                                               title  \n",
       "0  DNMT3A and TET1 cooperate to regulate promoter...  \n",
       "1  Health risks of using mothballs in Greater Acc...  \n",
       "2                Author Correction: What models eat.  \n",
       "3  The role of ADAMTS13 testing in the diagnosis ...  \n",
       "4  Reprogramming human T cell function and specif...  "
      ]
     },
     "execution_count": 52,
     "metadata": {},
     "output_type": "execute_result"
    }
   ],
   "source": [
    "df2"
   ]
  },
  {
   "cell_type": "code",
   "execution_count": 53,
   "metadata": {
    "collapsed": true
   },
   "outputs": [],
   "source": [
    "# import json to sqlite\n",
    "df2.to_sql(con=engine, index_label='id', name=Articles.__tablename__, if_exists='append')"
   ]
  },
  {
   "cell_type": "code",
   "execution_count": null,
   "metadata": {
    "collapsed": true
   },
   "outputs": [],
   "source": []
  }
 ],
 "metadata": {
  "kernelspec": {
   "display_name": "Python 3",
   "language": "python",
   "name": "python3"
  },
  "language_info": {
   "codemirror_mode": {
    "name": "ipython",
    "version": 3
   },
   "file_extension": ".py",
   "mimetype": "text/x-python",
   "name": "python",
   "nbconvert_exporter": "python",
   "pygments_lexer": "ipython3",
   "version": "3.6.3"
  }
 },
 "nbformat": 4,
 "nbformat_minor": 2
}
