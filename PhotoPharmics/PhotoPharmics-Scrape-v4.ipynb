{
 "cells": [
  {
   "cell_type": "markdown",
   "metadata": {},
   "source": [
    "## Pub Med Scraper"
   ]
  },
  {
   "cell_type": "code",
   "execution_count": 1,
   "metadata": {
    "collapsed": true
   },
   "outputs": [],
   "source": [
    "# scrape dependencies\n",
    "import requests\n",
    "import re\n",
    "from bs4 import BeautifulSoup as bs\n",
    "\n",
    "# data analysis dependencies\n",
    "import pandas as pd\n",
    "import numpy as np\n",
    "import csv\n",
    "\n",
    "# ipynb dependencies\n",
    "from IPython.core.interactiveshell import InteractiveShell\n",
    "InteractiveShell.ast_node_interactivity = \"all\"\n",
    "import warnings\n",
    "warnings.filterwarnings('ignore')\n",
    "\n",
    "# viz dependencies\n",
    "%matplotlib inline\n",
    "import matplotlib.pyplot as plt\n",
    "import seaborn as sns\n",
    "plt.style.use('fivethirtyeight')\n",
    "\n",
    "import datetime as dt\n",
    "import time"
   ]
  },
  {
   "cell_type": "code",
   "execution_count": 2,
   "metadata": {},
   "outputs": [
    {
     "name": "stdout",
     "output_type": "stream",
     "text": [
      "https://www.ncbi.nlm.nih.gov/pubmed/?term=parkinsons+disease\n"
     ]
    }
   ],
   "source": [
    "# set the url to scrape\n",
    "url = 'https://www.ncbi.nlm.nih.gov/pubmed/?term=parkinsons+disease'\n",
    "print(url)"
   ]
  },
  {
   "cell_type": "code",
   "execution_count": 3,
   "metadata": {
    "collapsed": true
   },
   "outputs": [],
   "source": [
    "# set up beautiful soup to scrape\n",
    "response = requests.get(url)\n",
    "soup = bs(response.text, 'html.parser')"
   ]
  },
  {
   "cell_type": "code",
   "execution_count": 4,
   "metadata": {
    "collapsed": true
   },
   "outputs": [],
   "source": [
    "# lets scrape the article titles\n",
    "journals = soup.find_all(\"p\", attrs={'class':'title'})"
   ]
  },
  {
   "cell_type": "code",
   "execution_count": 5,
   "metadata": {},
   "outputs": [
    {
     "name": "stdout",
     "output_type": "stream",
     "text": [
      "There are 20 journals to scrape on the first page.\n"
     ]
    }
   ],
   "source": [
    "# searching for the journal titles\n",
    "journals_len = len(journals)\n",
    "print(f\"There are {journals_len} journals to scrape on the first page.\")"
   ]
  },
  {
   "cell_type": "code",
   "execution_count": 7,
   "metadata": {},
   "outputs": [
    {
     "data": {
      "text/plain": [
       "'Modeling, Detecting, and Tracking Freezing of Gait in Parkinson Disease using Inertial Sensors.'"
      ]
     },
     "execution_count": 7,
     "metadata": {},
     "output_type": "execute_result"
    },
    {
     "data": {
      "text/plain": [
       "'The lysosomal membrane protein LAMP2A promotes autophagic flux and prevents SNCA-induced Parkinson disease-like symptoms in the Drosophila brain.'"
      ]
     },
     "execution_count": 7,
     "metadata": {},
     "output_type": "execute_result"
    },
    {
     "data": {
      "text/plain": [
       "\"LRRK2 G2019S Parkinson's disease with more benign phenotype than idiopathic.\""
      ]
     },
     "execution_count": 7,
     "metadata": {},
     "output_type": "execute_result"
    },
    {
     "data": {
      "text/plain": [
       "\"Bioactive constituents from cinnamon, hemp seed and polygonum cuspidatum protect against H2O2 but not rotenone toxicity in a cellular model of Parkinson's disease.\""
      ]
     },
     "execution_count": 7,
     "metadata": {},
     "output_type": "execute_result"
    },
    {
     "data": {
      "text/plain": [
       "\"Dilated Virchow-Robin space and Parkinson's disease: A case report of combined MRI and diffusion tensor imaging.\""
      ]
     },
     "execution_count": 7,
     "metadata": {},
     "output_type": "execute_result"
    },
    {
     "data": {
      "text/plain": [
       "\"Personal computer-based cognitive training in Parkinson's disease: a case study.\""
      ]
     },
     "execution_count": 7,
     "metadata": {},
     "output_type": "execute_result"
    },
    {
     "data": {
      "text/plain": [
       "'Angiotensin Type 1 Receptor Antagonists Protect Against Alpha-Synuclein-Induced Neuroinflammation and Dopaminergic Neuron Death.'"
      ]
     },
     "execution_count": 7,
     "metadata": {},
     "output_type": "execute_result"
    },
    {
     "data": {
      "text/plain": [
       "'Quantitative Intensity Harmonization of Dopamine Transporter SPECT Images Using Gamma Mixture Models.'"
      ]
     },
     "execution_count": 7,
     "metadata": {},
     "output_type": "execute_result"
    },
    {
     "data": {
      "text/plain": [
       "\"Inflammation: a highly conserved, Janus-like phenomenon-a gastroenterologist' perspective.\""
      ]
     },
     "execution_count": 7,
     "metadata": {},
     "output_type": "execute_result"
    },
    {
     "data": {
      "text/plain": [
       "'Author response: A predictive model to identify Parkinson disease from administrative claims data.'"
      ]
     },
     "execution_count": 7,
     "metadata": {},
     "output_type": "execute_result"
    },
    {
     "data": {
      "text/plain": [
       "'Reader response: A predictive model to identify Parkinson disease from administrative claims data.'"
      ]
     },
     "execution_count": 7,
     "metadata": {},
     "output_type": "execute_result"
    },
    {
     "data": {
      "text/plain": [
       "\"Editors' note: A predictive model to identify Parkinson disease from administrative claims data.\""
      ]
     },
     "execution_count": 7,
     "metadata": {},
     "output_type": "execute_result"
    },
    {
     "data": {
      "text/plain": [
       "'Deliberate gait scissoring to overcome freezing of gait in Parkinson disease.'"
      ]
     },
     "execution_count": 7,
     "metadata": {},
     "output_type": "execute_result"
    },
    {
     "data": {
      "text/plain": [
       "'Association of Low Lysosomal Enzymes Activity With Brain Arterial Dilatation: A Pilot Study.'"
      ]
     },
     "execution_count": 7,
     "metadata": {},
     "output_type": "execute_result"
    },
    {
     "data": {
      "text/plain": [
       "\"Quantitative assessment of upper limb functional impairments in people with Parkinson's disease.\""
      ]
     },
     "execution_count": 7,
     "metadata": {},
     "output_type": "execute_result"
    },
    {
     "data": {
      "text/plain": [
       "'The efficacy of repetitive transcranial magnetic stimulation for Parkinson disease patients with depression.'"
      ]
     },
     "execution_count": 7,
     "metadata": {},
     "output_type": "execute_result"
    },
    {
     "data": {
      "text/plain": [
       "'Age-dependent determinants of antipsychotic use among newly admitted residents of skilled nursing facilities: A population-based study.'"
      ]
     },
     "execution_count": 7,
     "metadata": {},
     "output_type": "execute_result"
    },
    {
     "data": {
      "text/plain": [
       "'Beta-band oscillations in the supplementary motor cortex are modulated by levodopa and associated with functional activity in the basal ganglia.'"
      ]
     },
     "execution_count": 7,
     "metadata": {},
     "output_type": "execute_result"
    },
    {
     "data": {
      "text/plain": [
       "\"Inflammatory bowel disease and risk of Parkinson's disease in medicare beneficiaries.\""
      ]
     },
     "execution_count": 7,
     "metadata": {},
     "output_type": "execute_result"
    },
    {
     "data": {
      "text/plain": [
       "\"Does nephrotic syndrome without chronic kidney disease increase the risk of Parkinson's disease and secondary parkinsonism? A nationwide population-based study in Taiwan.\""
      ]
     },
     "execution_count": 7,
     "metadata": {},
     "output_type": "execute_result"
    }
   ],
   "source": [
    "# loop through journals to print titles\n",
    "for i in range(0,20):\n",
    "    journals[i].text.strip()"
   ]
  },
  {
   "cell_type": "markdown",
   "metadata": {},
   "source": [
    "## Set main url to concat with pubmed ids"
   ]
  },
  {
   "cell_type": "code",
   "execution_count": 8,
   "metadata": {
    "scrolled": false
   },
   "outputs": [
    {
     "name": "stdout",
     "output_type": "stream",
     "text": [
      "https://www.ncbi.nlm.nih.gov/pubmed/\n"
     ]
    }
   ],
   "source": [
    "# set the main url that we will concatanate with the pubmed id\n",
    "main_url = 'https://www.ncbi.nlm.nih.gov/pubmed/'\n",
    "print(main_url)"
   ]
  },
  {
   "cell_type": "markdown",
   "metadata": {},
   "source": [
    "<br>\n",
    "<br>\n",
    "# TESTING SECTION ------------------------------------------------------------------"
   ]
  },
  {
   "cell_type": "code",
   "execution_count": 9,
   "metadata": {
    "collapsed": true
   },
   "outputs": [],
   "source": [
    "# set empty links_all list to append to \n",
    "links_all = []\n",
    "\n",
    "# set pubmed ids list to append to\n",
    "pubmed_ids = []\n",
    "\n",
    "# set empty list to append scrape_links to\n",
    "scrape_links = []"
   ]
  },
  {
   "cell_type": "code",
   "execution_count": 10,
   "metadata": {},
   "outputs": [
    {
     "name": "stdout",
     "output_type": "stream",
     "text": [
      "<p class=\"title\" xmlns:mml=\"http://www.w3.org/1998/Math/MathML\"><a href=\"/pubmed/29989948\" ref=\"ordinalpos=1&amp;ncbi_uid=29989948&amp;link_uid=29989948&amp;linksrc=docsum_title\">Modeling, Detecting, and Tracking Freezing of Gait in <b>Parkinson Disease</b> using Inertial Sensors.</a></p>\n"
     ]
    }
   ],
   "source": [
    "# use bs to scarpe p tags with class - title\n",
    "links = soup.find_all(\"p\",attrs={'class':'title'})\n",
    "print(links[0])"
   ]
  },
  {
   "cell_type": "code",
   "execution_count": 11,
   "metadata": {},
   "outputs": [
    {
     "name": "stdout",
     "output_type": "stream",
     "text": [
      "There are 20 articles to scrape.\n",
      "----------------------------------------------\n"
     ]
    }
   ],
   "source": [
    "# testing to see how my links / journals to scrape\n",
    "articles_to_scrape = len(links)\n",
    "print(f\"There are {articles_to_scrape} articles to scrape.\")\n",
    "print(\"----------------------------------------------\")"
   ]
  },
  {
   "cell_type": "code",
   "execution_count": 12,
   "metadata": {},
   "outputs": [
    {
     "name": "stdout",
     "output_type": "stream",
     "text": [
      "<p class=\"title\" xmlns:mml=\"http://www.w3.org/1998/Math/MathML\"><a href=\"/pubmed/29989948\" ref=\"ordinalpos=1&amp;ncbi_uid=29989948&amp;link_uid=29989948&amp;linksrc=docsum_title\">Modeling, Detecting, and Tracking Freezing of Gait in <b>Parkinson Disease</b> using Inertial Sensors.</a></p>\n",
      "----------------------------------------------\n",
      "<p class=\"title\" xmlns:mml=\"http://www.w3.org/1998/Math/MathML\"><a href=\"/pubmed/29989488\" ref=\"ordinalpos=2&amp;ncbi_uid=29989488&amp;link_uid=29989488&amp;linksrc=docsum_title\">The lysosomal membrane protein LAMP2A promotes autophagic flux and prevents SNCA-induced <b>Parkinson disease</b>-like symptoms in the Drosophila brain.</a></p>\n",
      "----------------------------------------------\n",
      "<p class=\"title\" xmlns:mml=\"http://www.w3.org/1998/Math/MathML\"><a href=\"/pubmed/29989150\" ref=\"ordinalpos=3&amp;ncbi_uid=29989150&amp;link_uid=29989150&amp;linksrc=docsum_title\">LRRK2 G2019S <b>Parkinson</b>'s <b>disease</b> with more benign phenotype than idiopathic.</a></p>\n",
      "----------------------------------------------\n",
      "<p class=\"title\" xmlns:mml=\"http://www.w3.org/1998/Math/MathML\"><a href=\"/pubmed/29989058\" ref=\"ordinalpos=4&amp;ncbi_uid=29989058&amp;link_uid=29989058&amp;linksrc=docsum_title\">Bioactive constituents from cinnamon, hemp seed and <i>polygonum cuspidatum</i> protect against H<sub>2</sub>O<sub>2</sub> but not rotenone toxicity in a cellular model of <b>Parkinson</b>'s <b>disease</b>.</a></p>\n",
      "----------------------------------------------\n",
      "<p class=\"title\" xmlns:mml=\"http://www.w3.org/1998/Math/MathML\"><a href=\"/pubmed/29988793\" ref=\"ordinalpos=5&amp;ncbi_uid=29988793&amp;link_uid=29988793&amp;linksrc=docsum_title\">Dilated Virchow-Robin space and <b>Parkinson</b>'s <b>disease</b>: A case report of combined MRI and diffusion tensor imaging.</a></p>\n",
      "----------------------------------------------\n",
      "<p class=\"title\" xmlns:mml=\"http://www.w3.org/1998/Math/MathML\"><a href=\"/pubmed/29987868\" ref=\"ordinalpos=6&amp;ncbi_uid=29987868&amp;link_uid=29987868&amp;linksrc=docsum_title\">Personal computer-based cognitive training in <b>Parkinson</b>'s <b>disease</b>: a case study.</a></p>\n",
      "----------------------------------------------\n",
      "<p class=\"title\" xmlns:mml=\"http://www.w3.org/1998/Math/MathML\"><a href=\"/pubmed/29987762\" ref=\"ordinalpos=7&amp;ncbi_uid=29987762&amp;link_uid=29987762&amp;linksrc=docsum_title\">Angiotensin Type 1 Receptor Antagonists Protect Against Alpha-Synuclein-Induced Neuroinflammation and Dopaminergic Neuron Death.</a></p>\n",
      "----------------------------------------------\n",
      "<p class=\"title\" xmlns:mml=\"http://www.w3.org/1998/Math/MathML\"><a href=\"/pubmed/29987621\" ref=\"ordinalpos=8&amp;ncbi_uid=29987621&amp;link_uid=29987621&amp;linksrc=docsum_title\">Quantitative Intensity Harmonization of Dopamine Transporter SPECT Images Using Gamma Mixture Models.</a></p>\n",
      "----------------------------------------------\n",
      "<p class=\"title\" xmlns:mml=\"http://www.w3.org/1998/Math/MathML\"><a href=\"/pubmed/29987405\" ref=\"ordinalpos=9&amp;ncbi_uid=29987405&amp;link_uid=29987405&amp;linksrc=docsum_title\">Inflammation: a highly conserved, Janus-like phenomenon-a gastroenterologist' perspective.</a></p>\n",
      "----------------------------------------------\n",
      "<p class=\"title\" xmlns:mml=\"http://www.w3.org/1998/Math/MathML\"><a href=\"/pubmed/29987183\" ref=\"ordinalpos=10&amp;ncbi_uid=29987183&amp;link_uid=29987183&amp;linksrc=docsum_title\">Author response: A predictive model to identify <b>Parkinson disease</b> from administrative claims data.</a></p>\n",
      "----------------------------------------------\n",
      "<p class=\"title\" xmlns:mml=\"http://www.w3.org/1998/Math/MathML\"><a href=\"/pubmed/29987182\" ref=\"ordinalpos=11&amp;ncbi_uid=29987182&amp;link_uid=29987182&amp;linksrc=docsum_title\">Reader response: A predictive model to identify <b>Parkinson disease</b> from administrative claims data.</a></p>\n",
      "----------------------------------------------\n",
      "<p class=\"title\" xmlns:mml=\"http://www.w3.org/1998/Math/MathML\"><a href=\"/pubmed/29987181\" ref=\"ordinalpos=12&amp;ncbi_uid=29987181&amp;link_uid=29987181&amp;linksrc=docsum_title\">Editors' note: A predictive model to identify <b>Parkinson disease</b> from administrative claims data.</a></p>\n",
      "----------------------------------------------\n",
      "<p class=\"title\" xmlns:mml=\"http://www.w3.org/1998/Math/MathML\"><a href=\"/pubmed/29987176\" ref=\"ordinalpos=13&amp;ncbi_uid=29987176&amp;link_uid=29987176&amp;linksrc=docsum_title\">Deliberate gait scissoring to overcome freezing of gait in <b>Parkinson disease</b>.</a></p>\n",
      "----------------------------------------------\n",
      "<p class=\"title\" xmlns:mml=\"http://www.w3.org/1998/Math/MathML\"><a href=\"/pubmed/29986930\" ref=\"ordinalpos=14&amp;ncbi_uid=29986930&amp;link_uid=29986930&amp;linksrc=docsum_title\">Association of Low Lysosomal Enzymes Activity With Brain Arterial Dilatation: A Pilot Study.</a></p>\n",
      "----------------------------------------------\n",
      "<p class=\"title\" xmlns:mml=\"http://www.w3.org/1998/Math/MathML\"><a href=\"/pubmed/29986276\" ref=\"ordinalpos=15&amp;ncbi_uid=29986276&amp;link_uid=29986276&amp;linksrc=docsum_title\">Quantitative assessment of upper limb functional impairments in people with <b>Parkinson</b>'s <b>disease</b>.</a></p>\n",
      "----------------------------------------------\n",
      "<p class=\"title\" xmlns:mml=\"http://www.w3.org/1998/Math/MathML\"><a href=\"/pubmed/29985089\" ref=\"ordinalpos=16&amp;ncbi_uid=29985089&amp;link_uid=29985089&amp;linksrc=docsum_title\">The efficacy of repetitive transcranial magnetic stimulation for <b>Parkinson disease</b> patients with depression.</a></p>\n",
      "----------------------------------------------\n",
      "<p class=\"title\" xmlns:mml=\"http://www.w3.org/1998/Math/MathML\"><a href=\"/pubmed/29984493\" ref=\"ordinalpos=17&amp;ncbi_uid=29984493&amp;link_uid=29984493&amp;linksrc=docsum_title\">Age-dependent determinants of antipsychotic use among newly admitted residents of skilled nursing facilities: A population-based study.</a></p>\n",
      "----------------------------------------------\n",
      "<p class=\"title\" xmlns:mml=\"http://www.w3.org/1998/Math/MathML\"><a href=\"/pubmed/29984164\" ref=\"ordinalpos=18&amp;ncbi_uid=29984164&amp;link_uid=29984164&amp;linksrc=docsum_title\">Beta-band oscillations in the supplementary motor cortex are modulated by levodopa and associated with functional activity in the basal ganglia.</a></p>\n",
      "----------------------------------------------\n",
      "<p class=\"title\" xmlns:mml=\"http://www.w3.org/1998/Math/MathML\"><a href=\"/pubmed/29983328\" ref=\"ordinalpos=19&amp;ncbi_uid=29983328&amp;link_uid=29983328&amp;linksrc=docsum_title\">Inflammatory bowel <b>disease</b> and risk of <b>Parkinson</b>'s <b>disease</b> in medicare beneficiaries.</a></p>\n",
      "----------------------------------------------\n",
      "<p class=\"title\" xmlns:mml=\"http://www.w3.org/1998/Math/MathML\"><a href=\"/pubmed/29982207\" ref=\"ordinalpos=20&amp;ncbi_uid=29982207&amp;link_uid=29982207&amp;linksrc=docsum_title\">Does nephrotic syndrome without chronic kidney <b>disease</b> increase the risk of <b>Parkinson</b>'s <b>disease</b> and secondary parkinsonism? A nationwide population-based study in Taiwan.</a></p>\n",
      "----------------------------------------------\n"
     ]
    }
   ],
   "source": [
    "# loop through links to convert to string\n",
    "for i in range (len(links)):\n",
    "    links_all.append(str(links[i]))\n",
    "    print(links[i])\n",
    "    print(\"----------------------------------------------\")"
   ]
  },
  {
   "cell_type": "code",
   "execution_count": 21,
   "metadata": {
    "collapsed": true
   },
   "outputs": [],
   "source": [
    "# for i in links_all:\n",
    "#     print(i)\n",
    "#     print(\"----------------------------------------------\")"
   ]
  },
  {
   "cell_type": "code",
   "execution_count": 24,
   "metadata": {},
   "outputs": [
    {
     "data": {
      "text/plain": [
       "20"
      ]
     },
     "execution_count": 24,
     "metadata": {},
     "output_type": "execute_result"
    },
    {
     "data": {
      "text/plain": [
       "'<p class=\"title\" xmlns:mml=\"http://www.w3.org/1998/Math/MathML\"><a href=\"/pubmed/29987868\" ref=\"ordinalpos=6&amp;ncbi_uid=29987868&amp;link_uid=29987868&amp;linksrc=docsum_title\">Personal computer-based cognitive training in <b>Parkinson</b>\\'s <b>disease</b>: a case study.</a></p>'"
      ]
     },
     "execution_count": 24,
     "metadata": {},
     "output_type": "execute_result"
    }
   ],
   "source": [
    "# slice through links_all to test\n",
    "len(links_all)\n",
    "links_all[5]"
   ]
  },
  {
   "cell_type": "markdown",
   "metadata": {},
   "source": [
    "### Regex test"
   ]
  },
  {
   "cell_type": "code",
   "execution_count": 30,
   "metadata": {
    "collapsed": true
   },
   "outputs": [],
   "source": [
    "regex_test = '<p class=\"title\" xmlns:mml=\"http://www.w3.org/1998/Math/MathML\"><a href=\"/pubmed/29987868\" ref=\"ordinalpos=6&amp;ncbi_uid=29987868&amp;link_uid=29987868&amp;linksrc=docsum_title\">Personal computer-based cognitive training in <b>Parkinson</b>\\'s <b>disease</b>: a case study.</a></p>'"
   ]
  },
  {
   "cell_type": "code",
   "execution_count": 31,
   "metadata": {},
   "outputs": [
    {
     "name": "stdout",
     "output_type": "stream",
     "text": [
      "<p class=\"title\" xmlns:mml=\"http://www.w3.org/1998/Math/MathML\"><a href=\"/pubmed/29987868\" ref=\"ordinalpos=6&amp;ncbi_uid=29987868&amp;link_uid=29987868&amp;linksrc=docsum_title\">Personal computer-based cognitive training in <b>Parkinson</b>'s <b>disease</b>: a case study.</a></p>\n"
     ]
    }
   ],
   "source": [
    "print(regex_test)"
   ]
  },
  {
   "cell_type": "code",
   "execution_count": 32,
   "metadata": {},
   "outputs": [
    {
     "data": {
      "text/plain": [
       "['29987868', '29987868', '29987868']"
      ]
     },
     "execution_count": 32,
     "metadata": {},
     "output_type": "execute_result"
    }
   ],
   "source": [
    "re.findall(r'\\d{8}',regex_test)"
   ]
  },
  {
   "cell_type": "markdown",
   "metadata": {},
   "source": [
    "### End Regex Test"
   ]
  },
  {
   "cell_type": "code",
   "execution_count": 33,
   "metadata": {
    "collapsed": true
   },
   "outputs": [],
   "source": [
    "# loop through links all and use regex to grab the id numbers\n",
    "for i in range (len(links_all)):\n",
    "    pubmed_ids.append(re.findall(r'\\d{8}',links_all[i]))"
   ]
  },
  {
   "cell_type": "code",
   "execution_count": 34,
   "metadata": {},
   "outputs": [
    {
     "data": {
      "text/plain": [
       "20"
      ]
     },
     "execution_count": 34,
     "metadata": {},
     "output_type": "execute_result"
    },
    {
     "data": {
      "text/plain": [
       "list"
      ]
     },
     "execution_count": 34,
     "metadata": {},
     "output_type": "execute_result"
    },
    {
     "name": "stdout",
     "output_type": "stream",
     "text": [
      "[['29989948', '29989948', '29989948'], ['29989488', '29989488', '29989488'], ['29989150', '29989150', '29989150'], ['29989058', '29989058', '29989058'], ['29988793', '29988793', '29988793'], ['29987868', '29987868', '29987868'], ['29987762', '29987762', '29987762'], ['29987621', '29987621', '29987621'], ['29987405', '29987405', '29987405'], ['29987183', '29987183', '29987183'], ['29987182', '29987182', '29987182'], ['29987181', '29987181', '29987181'], ['29987176', '29987176', '29987176'], ['29986930', '29986930', '29986930'], ['29986276', '29986276', '29986276'], ['29985089', '29985089', '29985089'], ['29984493', '29984493', '29984493'], ['29984164', '29984164', '29984164'], ['29983328', '29983328', '29983328'], ['29982207', '29982207', '29982207']]\n",
      "----------------------------------------------\n"
     ]
    }
   ],
   "source": [
    "# print out info for pubmed_ids\n",
    "len(pubmed_ids)\n",
    "type(pubmed_ids)\n",
    "print(pubmed_ids)\n",
    "print(\"----------------------------------------------\")"
   ]
  },
  {
   "cell_type": "code",
   "execution_count": 35,
   "metadata": {
    "collapsed": true
   },
   "outputs": [],
   "source": [
    "# use itertools to transform pubmed ids from an array withn an array into one list\n",
    "import itertools\n",
    "pubmed_merged = list(itertools.chain.from_iterable(pubmed_ids))"
   ]
  },
  {
   "cell_type": "code",
   "execution_count": 42,
   "metadata": {},
   "outputs": [
    {
     "data": {
      "text/plain": [
       "'29989948'"
      ]
     },
     "execution_count": 42,
     "metadata": {},
     "output_type": "execute_result"
    },
    {
     "name": "stdout",
     "output_type": "stream",
     "text": [
      "['29989948', '29989948', '29989948', '29989488', '29989488', '29989488', '29989150', '29989150', '29989150', '29989058', '29989058', '29989058', '29988793', '29988793', '29988793', '29987868', '29987868', '29987868', '29987762', '29987762', '29987762', '29987621', '29987621', '29987621', '29987405', '29987405', '29987405', '29987183', '29987183', '29987183', '29987182', '29987182', '29987182', '29987181', '29987181', '29987181', '29987176', '29987176', '29987176', '29986930', '29986930', '29986930', '29986276', '29986276', '29986276', '29985089', '29985089', '29985089', '29984493', '29984493', '29984493', '29984164', '29984164', '29984164', '29983328', '29983328', '29983328', '29982207', '29982207', '29982207']\n"
     ]
    }
   ],
   "source": [
    "# slice through pubmed_merged to see what itertools did\n",
    "pubmed_merged[0]\n",
    "print(pubmed_merged)"
   ]
  },
  {
   "cell_type": "code",
   "execution_count": 43,
   "metadata": {},
   "outputs": [
    {
     "name": "stdout",
     "output_type": "stream",
     "text": [
      "https://www.ncbi.nlm.nih.gov/pubmed/29989948\n"
     ]
    }
   ],
   "source": [
    "# concat main_url with a slice of pubmed_merged before we loop\n",
    "print(main_url + str(pubmed_merged[0]))"
   ]
  },
  {
   "cell_type": "code",
   "execution_count": 44,
   "metadata": {
    "collapsed": true
   },
   "outputs": [],
   "source": [
    "# append merged links to links_all\n",
    "for i in range (len(pubmed_merged)):\n",
    "    scrape_links.append(main_url + str(pubmed_merged[i]))"
   ]
  },
  {
   "cell_type": "code",
   "execution_count": 46,
   "metadata": {},
   "outputs": [
    {
     "name": "stdout",
     "output_type": "stream",
     "text": [
      "https://www.ncbi.nlm.nih.gov/pubmed/29989948\n",
      "https://www.ncbi.nlm.nih.gov/pubmed/29989948\n",
      "https://www.ncbi.nlm.nih.gov/pubmed/29989948\n",
      "https://www.ncbi.nlm.nih.gov/pubmed/29989488\n",
      "https://www.ncbi.nlm.nih.gov/pubmed/29989488\n",
      "https://www.ncbi.nlm.nih.gov/pubmed/29989488\n",
      "https://www.ncbi.nlm.nih.gov/pubmed/29989150\n",
      "https://www.ncbi.nlm.nih.gov/pubmed/29989150\n",
      "https://www.ncbi.nlm.nih.gov/pubmed/29989150\n",
      "https://www.ncbi.nlm.nih.gov/pubmed/29989058\n",
      "https://www.ncbi.nlm.nih.gov/pubmed/29989058\n",
      "https://www.ncbi.nlm.nih.gov/pubmed/29989058\n",
      "https://www.ncbi.nlm.nih.gov/pubmed/29988793\n",
      "https://www.ncbi.nlm.nih.gov/pubmed/29988793\n",
      "https://www.ncbi.nlm.nih.gov/pubmed/29988793\n",
      "https://www.ncbi.nlm.nih.gov/pubmed/29987868\n",
      "https://www.ncbi.nlm.nih.gov/pubmed/29987868\n",
      "https://www.ncbi.nlm.nih.gov/pubmed/29987868\n",
      "https://www.ncbi.nlm.nih.gov/pubmed/29987762\n",
      "https://www.ncbi.nlm.nih.gov/pubmed/29987762\n",
      "https://www.ncbi.nlm.nih.gov/pubmed/29987762\n",
      "https://www.ncbi.nlm.nih.gov/pubmed/29987621\n",
      "https://www.ncbi.nlm.nih.gov/pubmed/29987621\n",
      "https://www.ncbi.nlm.nih.gov/pubmed/29987621\n",
      "https://www.ncbi.nlm.nih.gov/pubmed/29987405\n",
      "https://www.ncbi.nlm.nih.gov/pubmed/29987405\n",
      "https://www.ncbi.nlm.nih.gov/pubmed/29987405\n",
      "https://www.ncbi.nlm.nih.gov/pubmed/29987183\n",
      "https://www.ncbi.nlm.nih.gov/pubmed/29987183\n",
      "https://www.ncbi.nlm.nih.gov/pubmed/29987183\n",
      "https://www.ncbi.nlm.nih.gov/pubmed/29987182\n",
      "https://www.ncbi.nlm.nih.gov/pubmed/29987182\n",
      "https://www.ncbi.nlm.nih.gov/pubmed/29987182\n",
      "https://www.ncbi.nlm.nih.gov/pubmed/29987181\n",
      "https://www.ncbi.nlm.nih.gov/pubmed/29987181\n",
      "https://www.ncbi.nlm.nih.gov/pubmed/29987181\n",
      "https://www.ncbi.nlm.nih.gov/pubmed/29987176\n",
      "https://www.ncbi.nlm.nih.gov/pubmed/29987176\n",
      "https://www.ncbi.nlm.nih.gov/pubmed/29987176\n",
      "https://www.ncbi.nlm.nih.gov/pubmed/29986930\n",
      "https://www.ncbi.nlm.nih.gov/pubmed/29986930\n",
      "https://www.ncbi.nlm.nih.gov/pubmed/29986930\n",
      "https://www.ncbi.nlm.nih.gov/pubmed/29986276\n",
      "https://www.ncbi.nlm.nih.gov/pubmed/29986276\n",
      "https://www.ncbi.nlm.nih.gov/pubmed/29986276\n",
      "https://www.ncbi.nlm.nih.gov/pubmed/29985089\n",
      "https://www.ncbi.nlm.nih.gov/pubmed/29985089\n",
      "https://www.ncbi.nlm.nih.gov/pubmed/29985089\n",
      "https://www.ncbi.nlm.nih.gov/pubmed/29984493\n",
      "https://www.ncbi.nlm.nih.gov/pubmed/29984493\n",
      "https://www.ncbi.nlm.nih.gov/pubmed/29984493\n",
      "https://www.ncbi.nlm.nih.gov/pubmed/29984164\n",
      "https://www.ncbi.nlm.nih.gov/pubmed/29984164\n",
      "https://www.ncbi.nlm.nih.gov/pubmed/29984164\n",
      "https://www.ncbi.nlm.nih.gov/pubmed/29983328\n",
      "https://www.ncbi.nlm.nih.gov/pubmed/29983328\n",
      "https://www.ncbi.nlm.nih.gov/pubmed/29983328\n",
      "https://www.ncbi.nlm.nih.gov/pubmed/29982207\n",
      "https://www.ncbi.nlm.nih.gov/pubmed/29982207\n",
      "https://www.ncbi.nlm.nih.gov/pubmed/29982207\n"
     ]
    }
   ],
   "source": [
    "for i in scrape_links:\n",
    "    print(i)"
   ]
  },
  {
   "cell_type": "markdown",
   "metadata": {},
   "source": [
    "# END TESTING SECTION------------------------------------------------------------\n",
    "<br>\n",
    "<br>"
   ]
  },
  {
   "cell_type": "markdown",
   "metadata": {},
   "source": [
    "## Function to create array of links to scrape"
   ]
  },
  {
   "cell_type": "code",
   "execution_count": null,
   "metadata": {
    "collapsed": true
   },
   "outputs": [],
   "source": [
    "# set empty links_all list to append to \n",
    "links_all = []\n",
    "\n",
    "# set pubmed ids list to append to\n",
    "pubmed_ids = []\n",
    "\n",
    "# set empty list to append scrape_links to\n",
    "scrape_links = []\n",
    "\n",
    "# function to get links\n",
    "def get_links(main_url):\n",
    "    \n",
    "    # use bs to scarpe p tags with class - title\n",
    "    links = soup.find_all(\"p\",attrs={'class':'title'})\n",
    "      \n",
    "    # testing to see how my links / journals to scrape\n",
    "    articles_to_scrape = len(links)\n",
    "    print(f\"There are {articles_to_scrape} articles to scrape.\")\n",
    "    print(\"----------------------------------------------\")\n",
    "    \n",
    "    # loop through links to convert to string\n",
    "    for i in range (len(links)):\n",
    "        links_all.append(str(links[i]))\n",
    "        print(links[i])\n",
    "        print(\"----------------------------------------------\")\n",
    "        \n",
    "    # slice through links_all to test\n",
    "    len(links_all)\n",
    "    links_all[1]\n",
    "    \n",
    "    # loop through links all and use regex to grab the id numbers\n",
    "    for i in range (len(links_all)):\n",
    "        pubmed_ids.append(re.findall(r'\\d{8}',links_all[i]))\n",
    "    \n",
    "    # print out info for pubmed_ids\n",
    "    len(pubmed_ids)\n",
    "    type(pubmed_ids)\n",
    "    print(pubmed_ids)\n",
    "    print(\"----------------------------------------------\")\n",
    "    \n",
    "    # use itertools to transform pubmed ids from an array withn an array into one list\n",
    "    import itertools\n",
    "    pubmed_merged = list(itertools.chain.from_iterable(pubmed_ids))\n",
    "    \n",
    "    # slice through pubmed_merged to see what itertools did\n",
    "    pubmed_merged[0]\n",
    "    \n",
    "    # concat main_url with a slice of pubmed_merged before we loop\n",
    "    print(main_url + str(pubmed_merged[0]))\n",
    "    \n",
    "    # append merged links to links_all\n",
    "    for i in range (len(pubmed_merged)):\n",
    "        scrape_links.append(main_url + str(pubmed_merged[i]))"
   ]
  },
  {
   "cell_type": "code",
   "execution_count": null,
   "metadata": {
    "collapsed": true,
    "scrolled": false
   },
   "outputs": [],
   "source": [
    "# RUN FUNCTION\n",
    "get_links(main_url)"
   ]
  },
  {
   "cell_type": "markdown",
   "metadata": {},
   "source": [
    "<br>\n",
    "There are duplicates in our **scrape_links** array. Use `list` to delete the duplicates."
   ]
  },
  {
   "cell_type": "code",
   "execution_count": 47,
   "metadata": {},
   "outputs": [
    {
     "data": {
      "text/plain": [
       "20"
      ]
     },
     "execution_count": 47,
     "metadata": {},
     "output_type": "execute_result"
    },
    {
     "data": {
      "text/plain": [
       "['https://www.ncbi.nlm.nih.gov/pubmed/29988793',\n",
       " 'https://www.ncbi.nlm.nih.gov/pubmed/29987182',\n",
       " 'https://www.ncbi.nlm.nih.gov/pubmed/29987183',\n",
       " 'https://www.ncbi.nlm.nih.gov/pubmed/29986276',\n",
       " 'https://www.ncbi.nlm.nih.gov/pubmed/29987762',\n",
       " 'https://www.ncbi.nlm.nih.gov/pubmed/29985089',\n",
       " 'https://www.ncbi.nlm.nih.gov/pubmed/29984164',\n",
       " 'https://www.ncbi.nlm.nih.gov/pubmed/29987181',\n",
       " 'https://www.ncbi.nlm.nih.gov/pubmed/29983328',\n",
       " 'https://www.ncbi.nlm.nih.gov/pubmed/29989058',\n",
       " 'https://www.ncbi.nlm.nih.gov/pubmed/29989948',\n",
       " 'https://www.ncbi.nlm.nih.gov/pubmed/29989150',\n",
       " 'https://www.ncbi.nlm.nih.gov/pubmed/29987868',\n",
       " 'https://www.ncbi.nlm.nih.gov/pubmed/29987405',\n",
       " 'https://www.ncbi.nlm.nih.gov/pubmed/29987176',\n",
       " 'https://www.ncbi.nlm.nih.gov/pubmed/29982207',\n",
       " 'https://www.ncbi.nlm.nih.gov/pubmed/29989488',\n",
       " 'https://www.ncbi.nlm.nih.gov/pubmed/29986930',\n",
       " 'https://www.ncbi.nlm.nih.gov/pubmed/29987621',\n",
       " 'https://www.ncbi.nlm.nih.gov/pubmed/29984493']"
      ]
     },
     "execution_count": 47,
     "metadata": {},
     "output_type": "execute_result"
    }
   ],
   "source": [
    "# delete duplicates in scrape_links and assign to new variable scrape_links_final\n",
    "scrape_links_final = list(set(scrape_links))\n",
    "len(scrape_links_final)\n",
    "scrape_links_final"
   ]
  },
  {
   "cell_type": "markdown",
   "metadata": {},
   "source": [
    "## Main array of links to scrape:\n",
    "\n",
    "Here we use selenium to iterate through these links. Seleium will click on each link then scrape the title and abstracts on each page. "
   ]
  },
  {
   "cell_type": "code",
   "execution_count": 48,
   "metadata": {},
   "outputs": [
    {
     "name": "stdout",
     "output_type": "stream",
     "text": [
      "https://www.ncbi.nlm.nih.gov/pubmed/29988793\n",
      "https://www.ncbi.nlm.nih.gov/pubmed/29987182\n",
      "https://www.ncbi.nlm.nih.gov/pubmed/29987183\n",
      "https://www.ncbi.nlm.nih.gov/pubmed/29986276\n",
      "https://www.ncbi.nlm.nih.gov/pubmed/29987762\n",
      "https://www.ncbi.nlm.nih.gov/pubmed/29985089\n",
      "https://www.ncbi.nlm.nih.gov/pubmed/29984164\n",
      "https://www.ncbi.nlm.nih.gov/pubmed/29987181\n",
      "https://www.ncbi.nlm.nih.gov/pubmed/29983328\n",
      "https://www.ncbi.nlm.nih.gov/pubmed/29989058\n",
      "https://www.ncbi.nlm.nih.gov/pubmed/29989948\n",
      "https://www.ncbi.nlm.nih.gov/pubmed/29989150\n",
      "https://www.ncbi.nlm.nih.gov/pubmed/29987868\n",
      "https://www.ncbi.nlm.nih.gov/pubmed/29987405\n",
      "https://www.ncbi.nlm.nih.gov/pubmed/29987176\n",
      "https://www.ncbi.nlm.nih.gov/pubmed/29982207\n",
      "https://www.ncbi.nlm.nih.gov/pubmed/29989488\n",
      "https://www.ncbi.nlm.nih.gov/pubmed/29986930\n",
      "https://www.ncbi.nlm.nih.gov/pubmed/29987621\n",
      "https://www.ncbi.nlm.nih.gov/pubmed/29984493\n"
     ]
    }
   ],
   "source": [
    "# testing scrape_links\n",
    "for i in scrape_links_final:\n",
    "    print(i)"
   ]
  },
  {
   "cell_type": "code",
   "execution_count": 60,
   "metadata": {},
   "outputs": [
    {
     "data": {
      "text/plain": [
       "['https://www.ncbi.nlm.nih.gov/pubmed/29988793',\n",
       " 'https://www.ncbi.nlm.nih.gov/pubmed/29987182',\n",
       " 'https://www.ncbi.nlm.nih.gov/pubmed/29987183',\n",
       " 'https://www.ncbi.nlm.nih.gov/pubmed/29986276',\n",
       " 'https://www.ncbi.nlm.nih.gov/pubmed/29987762']"
      ]
     },
     "execution_count": 60,
     "metadata": {},
     "output_type": "execute_result"
    },
    {
     "data": {
      "text/plain": [
       "['https://www.ncbi.nlm.nih.gov/pubmed/29985089',\n",
       " 'https://www.ncbi.nlm.nih.gov/pubmed/29984164',\n",
       " 'https://www.ncbi.nlm.nih.gov/pubmed/29987181',\n",
       " 'https://www.ncbi.nlm.nih.gov/pubmed/29983328',\n",
       " 'https://www.ncbi.nlm.nih.gov/pubmed/29989058']"
      ]
     },
     "execution_count": 60,
     "metadata": {},
     "output_type": "execute_result"
    },
    {
     "data": {
      "text/plain": [
       "['https://www.ncbi.nlm.nih.gov/pubmed/29989948',\n",
       " 'https://www.ncbi.nlm.nih.gov/pubmed/29989150',\n",
       " 'https://www.ncbi.nlm.nih.gov/pubmed/29987868',\n",
       " 'https://www.ncbi.nlm.nih.gov/pubmed/29987405',\n",
       " 'https://www.ncbi.nlm.nih.gov/pubmed/29987176']"
      ]
     },
     "execution_count": 60,
     "metadata": {},
     "output_type": "execute_result"
    },
    {
     "data": {
      "text/plain": [
       "['https://www.ncbi.nlm.nih.gov/pubmed/29982207',\n",
       " 'https://www.ncbi.nlm.nih.gov/pubmed/29989488',\n",
       " 'https://www.ncbi.nlm.nih.gov/pubmed/29986930',\n",
       " 'https://www.ncbi.nlm.nih.gov/pubmed/29987621',\n",
       " 'https://www.ncbi.nlm.nih.gov/pubmed/29984493']"
      ]
     },
     "execution_count": 60,
     "metadata": {},
     "output_type": "execute_result"
    }
   ],
   "source": [
    "# slice out scrape_links_final so we can scrape 5 articles at a time\n",
    "links_1 = scrape_links_final[0:5]\n",
    "links_1\n",
    "\n",
    "links_2 = scrape_links_final[5:10]\n",
    "links_2\n",
    "\n",
    "links_3 = scrape_links_final[10:15]\n",
    "links_3\n",
    "\n",
    "links_4 = scrape_links_final[15:20]\n",
    "links_4"
   ]
  },
  {
   "cell_type": "markdown",
   "metadata": {},
   "source": [
    "## Regex Notes"
   ]
  },
  {
   "cell_type": "code",
   "execution_count": null,
   "metadata": {
    "collapsed": true
   },
   "outputs": [],
   "source": [
    "# Regex\n",
    "# Identifiers:\n",
    "# \\d any number\n",
    "# \\D anything but a number\n",
    "# \\s space\n",
    "# \\S anything but a space\n",
    "# \\w any character\n",
    "# \\W anything but a character\n",
    "# . any character, except for a newline\n",
    "# \\b the whitespace around words\n",
    "# \\. a period\n",
    "\n",
    "# Modifiers:\n",
    "# {1,3} we're expecting 1-3 \\d{1-3}\n",
    "# + Match 1 or more\n",
    "# ? Match 0 or more\n",
    "# * Match 0 or more\n",
    "# $ Match the end of a string\n",
    "# ^ matching the beginning of a string\n",
    "# | either or\n",
    "# [] range or \"variance\" [A-Za-z] [1-5a-qA-Z]\n",
    "# {x} expecting \"x\" amount\n",
    "\n",
    "# White Space Characters: \n",
    "# \\n new line\n",
    "# \\s space\n",
    "# \\t tab\n",
    "# \\e escape\n",
    "# \\f form feed\n",
    "# \\r return\n",
    "\n",
    "# DONT FORGET!:\n",
    "# . + * [] $ ^ () {} | \\"
   ]
  },
  {
   "cell_type": "markdown",
   "metadata": {
    "collapsed": true
   },
   "source": [
    "## Selenium\n",
    "**Web Browser Automation**"
   ]
  },
  {
   "cell_type": "code",
   "execution_count": 50,
   "metadata": {
    "collapsed": true
   },
   "outputs": [],
   "source": [
    "from splinter import Browser\n",
    "from selenium import webdriver"
   ]
  },
  {
   "cell_type": "code",
   "execution_count": 51,
   "metadata": {
    "collapsed": true
   },
   "outputs": [],
   "source": [
    "# make sure chrome browser exe is in current directory\n",
    "# chrome browser exe is not necessary for MACS\n",
    "executable_path = {'executable_path': 'chromedriver'}"
   ]
  },
  {
   "cell_type": "markdown",
   "metadata": {},
   "source": [
    "## Set up dictionary to append data to"
   ]
  },
  {
   "cell_type": "code",
   "execution_count": 52,
   "metadata": {
    "collapsed": true
   },
   "outputs": [],
   "source": [
    "article_dict = {\"title\": [],\n",
    "               \"abstract\": []}"
   ]
  },
  {
   "cell_type": "markdown",
   "metadata": {},
   "source": [
    "## Create get_article_info function"
   ]
  },
  {
   "cell_type": "code",
   "execution_count": 2,
   "metadata": {
    "collapsed": true
   },
   "outputs": [],
   "source": [
    "title = []\n",
    "abstract = []\n",
    "\n",
    "def get_article_info(links_1):\n",
    "    \n",
    "    # iterate through articles\n",
    "    for i in links_1:\n",
    "        \n",
    "        # sets up scraper\n",
    "        browser = Browser('chrome', headless=False)\n",
    "        html = browser.html\n",
    "        response2 = requests.get(i)\n",
    "        soup2 = bs(response2.text, 'html.parser')\n",
    "    \n",
    "        browser.visit(i)\n",
    "    \n",
    "        # there are two 'h1' tags on this page. slice out index 0\n",
    "        title_one = soup2.find_all('h1')\n",
    "        article_one_title = title_one[1].text.strip()\n",
    "    \n",
    "        # slice h1 at index 1 to grab article title\n",
    "        title.append(article_one_title)\n",
    "    \n",
    "        # get abstract \n",
    "        # abstract.append(soup2.find(\"div\", attrs={'class': 'rprt_all'}).text.strip())     \n",
    "        abstract.append(soup2.find(\"div\", attrs={'class': 'rprt abstract'}).text.strip())"
   ]
  },
  {
   "cell_type": "markdown",
   "metadata": {},
   "source": [
    "## Run article_info function"
   ]
  },
  {
   "cell_type": "code",
   "execution_count": 65,
   "metadata": {
    "collapsed": true
   },
   "outputs": [],
   "source": [
    "get_article_info(links_1)"
   ]
  },
  {
   "cell_type": "code",
   "execution_count": 68,
   "metadata": {
    "collapsed": true
   },
   "outputs": [],
   "source": [
    "get_article_info(links_2)"
   ]
  },
  {
   "cell_type": "code",
   "execution_count": 69,
   "metadata": {
    "collapsed": true
   },
   "outputs": [],
   "source": [
    "get_article_info(links_3)"
   ]
  },
  {
   "cell_type": "code",
   "execution_count": 70,
   "metadata": {
    "collapsed": true
   },
   "outputs": [],
   "source": [
    "get_article_info(links_4)"
   ]
  },
  {
   "cell_type": "code",
   "execution_count": 3,
   "metadata": {},
   "outputs": [
    {
     "data": {
      "text/plain": [
       "0"
      ]
     },
     "execution_count": 3,
     "metadata": {},
     "output_type": "execute_result"
    }
   ],
   "source": [
    "for i in title:\n",
    "    print(i + \"\\n\")\n",
    "\n",
    "len(title)"
   ]
  },
  {
   "cell_type": "code",
   "execution_count": 72,
   "metadata": {
    "scrolled": false
   },
   "outputs": [
    {
     "name": "stdout",
     "output_type": "stream",
     "text": [
      "Radiol Case Rep. 2018 Jun 30;13(4):871-877. doi: 10.1016/j.radcr.2018.05.011. eCollection  2018 Aug.Dilated Virchow-Robin space and Parkinson's disease: A case report of combined MRI and diffusion tensor imaging.Conforti R1, Sardaro A2, Negro A1, Caiazzo G3, Paccone A3, De Micco R4, Cirillo S1, Tessitore A4.Author information1Università degli Studi della Campania Luigi Vanvitelli, Section of Neuroradiology, viale Colli Aminei 21, Napoli 80131, Italy.2Università degli Studi della Campania Luigi Vanvitelli, piazza Miraglia 2, Napoli 80138, Italy.3MRI Research Center SUN-FISM, Università degli Studi della Campania Luigi Vanvitelli, piazza Miraglia 2, Napoli 80138, Italy.4Università degli Studi della Campania Luigi Vanvitelli, Dipartimento di Scienze Mediche, Chirurgiche, Neurologiche, Metaboliche e dell'Invecchiamento, piazza Miraglia 2, Napoli 80138, Italy.AbstractIn this manuscript we report the case of a 69-year-old female patient, who suffers from Parkinson's disease (PD) with a dilated Virchow-Robin space (dVRS) on the left anterior perforated substance. During a magnetic resonance imaging examination, the presence of a dVRS was discovered on the left anterior perforated substance. Subsequently, the patient has been subjected to further investigation of magnetic resonance imaging and diffusion tensor imaging (DTI). The DTI data of our PD patient showed increased peak frequency of left fractional anisotropy and decreases in the distribution of Mean Diffusivity(MD) with changes in the fiber density compared to the normal contralateral tract. We hypothesize that the DTI changes are due to dVRS. In the text a review of the recent literature on the presence of dVRSs, located in mono and bilateral seat, in patients with PD is reported, explaining its possible implications on disease progression, cognitive decline, and worsening of symptoms.KEYWORDS: Diffusion tensor imaging (DTI); Dilated Virchow-Robin spaces; Magnetic resonance imaging (MRI); Parkinson's diseasePMID: 29988793 PMCID: PMC6031236 DOI: 10.1016/j.radcr.2018.05.011 ShareLinkOut - more resourcesFull Text SourcesElsevier ScienceClinicalKey\n",
      "\n",
      "\n",
      "Neurology. 2018 Jul 10;91(2):104. doi: 10.1212/WNL.0000000000005768.Reader response: A predictive model to identify Parkinson disease from administrative claims data.Kawada T1.Author information1(Tokyo).PMID: 29987182 DOI: 10.1212/WNL.0000000000005768 ShareLinkOut - more resourcesFull Text SourcesHighWireOvid Technologies, Inc.\n",
      "\n",
      "\n",
      "Neurology. 2018 Jul 10;91(2):104. doi: 10.1212/WNL.0000000000005767.Author response: A predictive model to identify Parkinson disease from administrative claims data.Searles Nielsen S1, Racette BA1.Author information1(St. Louis).PMID: 29987183 DOI: 10.1212/WNL.0000000000005767 ShareLinkOut - more resourcesFull Text SourcesHighWireOvid Technologies, Inc.\n",
      "\n",
      "\n",
      "Clin Biomech (Bristol, Avon). 2018 Jun 30;57:137-143. doi: 10.1016/j.clinbiomech.2018.06.019. [Epub ahead of print]Quantitative assessment of upper limb functional impairments in people with Parkinson's disease.Corona F1, Pilloni G2, Arippa F2, Porta M2, Casula C3, Cossu G3, Pau M2.Author information1Department of Mechanical, Chemical and Materials Engineering, University of Cagliari, Cagliari, Italy. Electronic address: corona.federic@gmail.com.2Department of Mechanical, Chemical and Materials Engineering, University of Cagliari, Cagliari, Italy.3AOB \"G. Brotzu\" General Hospital, Cagliari, Italy.AbstractBACKGROUND: In clinical routine, upper limb motor disorders of people with Parkinson's disease are commonly assessed using scale- or timed tests, but such tools are not fully suitable for providing detailed information about their type and magnitude. To partly overcome these limitations, the present study aims to quantitatively investigate upper limb functional impairments through quantitative analysis of the \"hand-to-mouth\" task.METHODS: Twenty-five individuals with Parkinson's disease and 20 age-matched healthy individuals underwent a kinematic analysis of the hand-to-mouth task from which spatio-temporal and kinematic measures, including summary measures (Arm Variable Score and Arm Profile Score), were calculated and correlated with clinical scores (Hoehn & Yahr, H&Y and the Unified Parkinson Disease Rating Scale, UPDRS).FINDINGS: The \"hand-to-mouth\" movement is significantly altered in individuals with Parkinson's disease, especially in terms of reduced velocity, reduced range of motion of elbow flexion-extension and deviation from a physiologic pattern (Arm Profile Score 12.8° vs. 10.1° of unaffected, P = 0.002). Significant moderate correlations were found between movement duration and UPDRS-III (rho = 0.478, P = 0.001) and between the Arm Profile Score and H&Y (rho = 0.481, P = 0.024) and UPDRS-III (rho = 0.326, P = 0.001).INTERPRETATION: On the basis of such findings, we can state that the kinematic analysis of \"hand-to-mouth\" movement, and in particular the summary indexes, are suitable for easily representing upper limb movement alterations in people with Parkinson's disease, thus allowing the monitoring either of disease progression or effectiveness of pharmacologic and rehabilitative treatments.Copyright © 2018 Elsevier Ltd. All rights reserved.KEYWORDS: Arm profile score; Hand-to-mouth; Kinematics; Parkinson's disease; Upper limbsPMID: 29986276 DOI: 10.1016/j.clinbiomech.2018.06.019 ShareLinkOut - more resourcesFull Text SourcesElsevier ScienceClinicalKey\n",
      "\n",
      "\n",
      "Neurotherapeutics. 2018 Jul 9. doi: 10.1007/s13311-018-0646-z. [Epub ahead of print]Angiotensin Type 1 Receptor Antagonists Protect Against Alpha-Synuclein-Induced Neuroinflammation and Dopaminergic Neuron Death.Rodriguez-Perez AI1,2, Sucunza D2,3, Pedrosa MA1,2, Garrido-Gil P1,2, Kulisevsky J2,4, Lanciego JL2,3, Labandeira-Garcia JL5,6.Author information1Laboratory of Neuroanatomy and Experimental Neurology, Department of Morphological Sciences, Centro de Investigación en Medicina Molecular y Enfermedades Crónicas, Faculty of Medicine, University of Santiago de Compostela, 15782, Santiago de Compostela, Spain.2Networking Research Center on Neurodegenerative Diseases (Centro de Investigación Biomédica en Red Enfermedades Neurodegenerativas), Madrid, 28031, Spain.3Neurosciences Division, Centro de Investigación Médica Aplicada, University of Navarra, Pamplona, 31008, Spain.4Movement Disorders Unit, Neurology Department, Sant Pau Hospital and Biomedical Research Institute, Universitat Autonoma de Barcelona and Universitat Oberta de Catalunya, Barcelona, 08025, Spain.5Laboratory of Neuroanatomy and Experimental Neurology, Department of Morphological Sciences, Centro de Investigación en Medicina Molecular y Enfermedades Crónicas, Faculty of Medicine, University of Santiago de Compostela, 15782, Santiago de Compostela, Spain. joseluis.labandeira@usc.es.6Networking Research Center on Neurodegenerative Diseases (Centro de Investigación Biomédica en Red Enfermedades Neurodegenerativas), Madrid, 28031, Spain. joseluis.labandeira@usc.es.AbstractThe loss of dopaminergic neurons and α-synuclein accumulation are major hallmarks of Parkinson's disease (PD), and it has been suggested that a major mechanism of α-synuclein toxicity is microglial activation. The lack of animal models that properly reproduce PD, and particularly the underlying synucleinopathy, has hampered the clarification of PD mechanisms and the development of effective therapies. Here, we used neurospecific adeno-associated viral vectors serotype 9 coding for either the wild-type or mutated forms of human alpha-synuclein (WT and SynA53T, respectively) under the control of a synapsin promoter to further induce a marked dopaminergic neuron loss together with an important microglial neuroinflammatory response. Overexpression of neuronal alpha-synuclein led to increased expression of angiotensin type 1 receptors and NADPH oxidase activity, together with a marked increase in the number of OX-6-positive microglial cells and expression of markers of phagocytic activity (CD68) and classical pro-inflammatory/M1 microglial phenotype markers such as inducible nitric oxide synthase, tumor necrosis factor alpha, interleukin-1β, and IL-6. Moreover, a significant decrease in the expression of markers of immunoregulatory/M2 microglial phenotype such as the enzyme arginase-1 was constantly observed. Interestingly, alpha-synuclein-induced changes in microglial phenotype markers and dopaminergic neuron death were inhibited by simultaneous treatment with the angiotensin type 1 blockers candesartan or telmisartan. Our results suggest the repurposing of candesartan and telmisartan as a neuroprotective strategy for PD.KEYWORDS: Candesartan; Microglia; Neurodegeneration; Parkinson; Telmisartan; Viral vectorsPMID: 29987762 DOI: 10.1007/s13311-018-0646-z ShareGrant supportGrant support(BFU2015-70523 and BFU2017-82407-R/Spanish Ministry of Economy and Competitiveness/PI17/00828, RD16/0011/0016 and CIBERNED/Spanish Ministry of Health/GRC2014/002/Galician Government/046-2017/Departamento de Educación, Gobierno de Navarra/LinkOut - more resourcesFull Text SourcesElsevier ScienceSpringerMiscellaneousNCI CPTC Antibody Characterization Program\n",
      "\n",
      "\n",
      "Int J Neurosci. 2018 Jul 9:1-24. doi: 10.1080/00207454.2018.1495632. [Epub ahead of print]The efficacy of repetitive transcranial magnetic stimulation for Parkinson disease patients with depression.Wang HJ1, Tan G1, Zhu LN1, Chen D1, Xu D1, Chu SS1, Ling L1.Author information1a Department of Neurology , West China Hospital, Sichuan University , Chengdu 610041 , Sichuan , China.AbstractObjective To evaluate the efficacy of repetitive transcranial magnetic stimulation for Parkinson disease (PD) patients with depression. Methods A meta-analysis was performed using relevant randomized controlled trials (RCTs) from online databases such as PubMed, Embase, Cochrane Online Library, and Clinicaltrials.gov. Studies were selected according to pre-defined inclusion and exclusion criteria, and the quality of the studies was evaluated using the Jadad Scale. All data were pooled by RevMan 5.2 software for meta-analysis. Results The review covered 528 articles, and 7 articles with Jadad score ≥ 4 were included in the analysis. The meta-analysis showed that, compared to sham repetitive transcranial magnetic stimulation (sham-rTMS), repetitive transcranial magnetic stimulation (rTMS) over dorsolateral prefrontal cortex (DLPFC) improved depression, but that there was no significant difference in depression improvement between rTMS and selective serotonin reuptake inhibitor (SSRI) treatment. In contrast, rTMS over DLPFC did not improve motor function compared to sham-rTMS or SSRI, and the studies that included neurocognitive measures showed no significant difference between rTMS and sham-rTMS. Conclusion This meta-analysis provides evidence that rTMS over DLPFC can improve depression similar to SSRI treatment, has no effect on the motor function and cognition of PD patients with depression.KEYWORDS: Parkinson disease; depression; transcranial magnetic stimulationPMID: 29985089 DOI: 10.1080/00207454.2018.1495632 ShareLinkOut - more resourcesFull Text SourcesTaylor & Francis\n",
      "\n",
      "\n",
      "Neuroimage Clin. 2018 May 18;19:559-571. doi: 10.1016/j.nicl.2018.05.021. eCollection  2018.Beta-band oscillations in the supplementary motor cortex are modulated by levodopa and associated with functional activity in the basal ganglia.Chung JW1, Burciu RG2, Ofori E3, Coombes SA1, Christou EA1,4, Okun MS5, Hess CW5, Vaillancourt DE1,5,6.Author information1Department of Applied Physiology and Kinesiology, University of Florida, Gainesville, FL, USA.2Department of Kinesiology and Applied Physiology, University of Delaware, Newark, DE, USA.3College of Health Solutions, Arizona State University, Phoenix, AZ, USA.4Department of Physical Therapy, University of Florida, Gainesville, FL, USA.5Department of Neurology and Center for Movement Disorders and Neurorestoration, University of Florida, Gainesville, FL, USA.6Department of Biomedical Engineering, University of Florida, Gainesville, FL, USA.AbstractWe investigated the effect of acute levodopa administration on movement-related cortical oscillations and movement velocity in Parkinson's disease (PD). Patients with PD on and off medication and age- and sex-matched healthy controls performed a ballistic upper limb flexion movement as fast and accurately as possible while cortical oscillations were recorded with high-density electroencephalography. Patients off medication were also studied using task-based functional magnetic resonance imaging (fMRI) using a force control paradigm. Percent signal change of functional activity during the force control task was calculated for the putamen and subthalamic nucleus (STN) contralateral to the hand tested. We found that patients with PD off medication had an exaggerated movement-related beta-band (13-30 Hz) desynchronization in the supplementary motor area (SMA) compared to controls. In PD, spectral power in the beta-band was correlated with movement velocity. Following an acute dose of levodopa, we observed that the beta-band desynchronization in the SMA was reduced in PD, and was associated with increased movement velocity and increased voltage of agonist muscle activity. Further, using fMRI we found that the functional activity in the putamen and STN in the off medication state, was related to how responsive that cortical oscillations in the SMA of PD were to levodopa. Collectively, these findings provide the first direct evaluation of how movement-related cortical oscillations relate to movement velocity during the ballistic phase of movement in PD and demonstrate that functional brain activity in the basal ganglia pathways relate to the effects of dopaminergic medication on cortical neuronal oscillations during movement.KEYWORDS: BOLD, blood oxygen level dependent; Ballistic movements; DBS, deep brain stimulation; ECoG, electrocorticography; EEG; EEG, electroencephalography; EMG, electromyography; ERSP, event-related power spectral perturbation; FDR, false discovery rate; HC, healthy control; ICA, independent component analysis; LFP, local field potential; Levodopa; M1, primary motor cortex; MDS-UPDRS, Movement Disorder Society Unified Parkinson's Disease Rating Scale; MEG, magnetoencephalography; MPA, measure projection analysis; MVC, maximum voluntary contraction; MoCA, Montreal Cognitive Assessment; PD, Parkinson's disease; PD-OFF, off medication (levodopa) day; PD-ON, on medication (levodopa) day; PET, positron emission tomography; Parkinson's disease; ROI, regions of interest; S1, primary somatosensory cortex; SMA, supplementary motor area; SNc, substantia nigra pars compacta; STN, subthalamic nucleus; Supplementary motor area; fMRI; fMRI, functional magnetic resonance imaging; iEMG, integrated electromyography; rCBF, regional cerebral blood flowPMID: 29984164 PMCID: PMC6029579 DOI: 10.1016/j.nicl.2018.05.021 ShareImages from this publication.See all images  (7)Free textFig. 1Experimental design schema. There are two groups (i.e. patients with Parkinson's disease (PD) and healthy controls (HC)) in this study. The experiments for the PD group were performed on two consecutive days (i.e. the on medication day and off medication day). The order of testing medication across days was counter-balanced across PD group. Each patient with PD underwent high-density EEG and assessment of motor symptoms (MDS-UPDRS-III) in both days. In addition, patients with PD were studied using task-based fMRI in the on medication day. The experiments of HC were included EEG and MDS-UPDRS-III. Abbreviations: EEG = electroencephalography; fMRI = functional magnetic resonance imaging; MDS-UPDRS-III = the motor section of the Movement Disorder Society Unified Parkinson's Disease Rating Scale; PD = Parkinson's disease.Beta-band oscillations in the supplementary motor cortex are modulated by levodopa and associated with functional activity in the basal gangliaNeuroimage Clin. 2018;19:559-571.Fig. 2Experimental setup of the task, example kinematic and neuromuscular data. A shows a schematic of the experimental set-up. B depicts examples of analyses performed on the EEG, kinematic, and EMG records using data from an individual movement trial, and shows EEG channels, movement displacement, velocity, and acceleration, and biceps agonist EMG. The bottom section of B shows the Beep Sound time line, depicting when subjects were asked to move their arm to the target (B0) and when subjects were asked to return to the start position (B4). The black vertical line is aligned on the movement on-set time (M0) across multiple data. Abbreviations: B0 = the first beep sound to move subjects' arm; B4 = the second beep sound to return subjects' arm to the start position from the target (4 s after the first beep sound); M0 = the movement onset time (5% of the peak acceleration); MEnd = the movement termination time; M2 = 2 s after the movement onset time; M−1 = 1 s before movement onset; M−2 = 2 s before movement onset.Beta-band oscillations in the supplementary motor cortex are modulated by levodopa and associated with functional activity in the basal gangliaNeuroimage Clin. 2018;19:559-571.Fig. 3Bar graphs for the task performance variables. A and B show bar graphs of average peak displacement for group comparison and medication condition in the patient group. C and D show bar graphs of average peak velocity and E and F show bar graphs of average integrated EMG (iEMG) in the movement initiation phase. Asterisks indicate significant group effects or medication effects at FDR-corrected p-value < 0.05. All error bars represent standard error (NHC = 15, and NPD = 15). Abbreviations: iEMG = integrated EMG, PD-ON = PD taking levodopa; PD-OFF = PD off levodopa overnight.Beta-band oscillations in the supplementary motor cortex are modulated by levodopa and associated with functional activity in the basal gangliaNeuroimage Clin. 2018;19:559-571.Fig. 4Measure projection analysis (MPA) of the event-related spectral perturbation (ERSP) measure and time-frequency contrast statistical plot (Group comparison between healthy control and PD groups). A displays 3D representation of the brain area of ERSP domains on the MNI brain template. B shows anatomical localization of each domain. C shows ERSP measures from the supplementary motor area (i.e. Red blocks, Domain 1 in A) on each group and time-frequency contrast statistical plot. The x-axis denotes time (ms) with M0 representing movement onset, −300 representing 300 ms before movement onset and 150 representing 150 ms after movement onset. The logarithmic y-axis depicts frequencies from 3 to 50 Hz. The plots are color scaled based on decibel where positive values are warm colors and negative values are cool colors. In the right plot which shows statistical group differences, red color indicates statistically greater decibel values (i.e. HC > PD) whereas blue indicates lower decibel values (i.e. HC < PD). The green regions indicate non-significant areas of the plot. The statistical results were FDR corrected p < 0.05.Beta-band oscillations in the supplementary motor cortex are modulated by levodopa and associated with functional activity in the basal gangliaNeuroimage Clin. 2018;19:559-571.Fig. 5Measure projection analysis (MPA) of the event-related spectral perturbation (ERSP) measure and time-frequency contrast statistical plot (levodopa medication condition comparison in the PD group). A displays 3D representation of the brain area of ERSP domains on the MNI brain template. B shows anatomical localization of each domain. C and D show ERSP measures from Domain 1 and Domain 2 on each condition in PD group and time-frequency contrast statistical plots. The x-axis denotes time (ms) with M0 representing movement onset, −300 representing 300 ms before movement onset and 150 representing 150 ms after movement onset. The logarithmic y-axis depicts frequencies from 3 to 50 Hz. The plots are color scaled based on decibel where positive values are warm colors and negative values are cool colors. In the right plot which shows statistical levodopa medication condition differences in the PD group, red color indicates statistically greater decibel values (i.e. ON-Medication condition > OFF-Medication condition) whereas blue indicates lower decibel values (i.e. ON-Medication condition < OFF-Medication condition). The green regions indicate non-significant areas of the plots. The statistical results were FDR corrected p < 0.05.Beta-band oscillations in the supplementary motor cortex are modulated by levodopa and associated with functional activity in the basal gangliaNeuroimage Clin. 2018;19:559-571.Fig. 6Linear regression between average peak velocity during the task and beta-band spectral power after movement onset in the PD group. A and B show the linear regression for 13 patients with PD in Domain 1. C and D show the linear regression for 11 patients with PD in Domain 2. A and C are PD group off medication and B and D are PD group on medication.Beta-band oscillations in the supplementary motor cortex are modulated by levodopa and associated with functional activity in the basal gangliaNeuroimage Clin. 2018;19:559-571.Fig. 7Linear regression between fMRI BOLD signals in both the contralateral putamen and STN and the differences between levodopa medication conditions in the beta-band spectral power. A and B show the linear regression for 13 patients with PD in Domain 1. C and D show the linear regression for 11 patients with PD in Domain 2. A and C show putamen BOLD signal predicts the effects of levodopa medication on the beta-band spectral power after the movement onset. B and D show STN BOLD signal predicts the effects of levodopa medication on the beta-band spectral power after movement onset.Beta-band oscillations in the supplementary motor cortex are modulated by levodopa and associated with functional activity in the basal gangliaNeuroimage Clin. 2018;19:559-571.LinkOut - more resourcesFull Text SourcesElsevier ScienceEurope PubMed CentralPubMed CentralMiscellaneousNCI CPTAC Assay PortalNCI CPTAC Assay PortalNCI CPTC Antibody Characterization Program\n",
      "\n",
      "\n",
      "Neurology. 2018 Jul 10;91(2):103. doi: 10.1212/WNL.0000000000005766.Editors' note: A predictive model to identify Parkinson disease from administrative claims data.Alcauskas M, Galetta S.PMID: 29987181 DOI: 10.1212/WNL.0000000000005766 ShareLinkOut - more resourcesFull Text SourcesHighWireOvid Technologies, Inc.\n",
      "\n",
      "\n",
      "Parkinsonism Relat Disord. 2018 Jun 27. pii: S1353-8020(18)30290-6. doi: 10.1016/j.parkreldis.2018.06.028. [Epub ahead of print]Inflammatory bowel disease and risk of Parkinson's disease in medicare beneficiaries.Camacho-Soto A1, Searles Nielsen S2, Racette BA3.Author information1Department of Neurology, Washington University School of Medicine, St. Louis, Missouri, United States. Electronic address: acamacho-soto@wustl.edu.2Department of Neurology, Washington University School of Medicine, St. Louis, Missouri, United States.3Department of Neurology, Washington University School of Medicine, St. Louis, Missouri, United States; School of Public Health, Faculty of Health Sciences, University of the Witwatersrand, Johannesburg, South Africa.KEYWORDS: Inflammatory bowel disease; Parkinson's diseasePMID: 29983328 DOI: 10.1016/j.parkreldis.2018.06.028 SharePublication typePublication typeLetterLinkOut - more resourcesFull Text SourcesElsevier ScienceClinicalKey\n",
      "\n",
      "\n",
      "J Tradit Complement Med. 2018 Apr 30;8(3):420-427. doi: 10.1016/j.jtcme.2017.11.001. eCollection  2018 Jul.Bioactive constituents from cinnamon, hemp seed and polygonum cuspidatum protect against H2O2 but not rotenone toxicity in a cellular model of Parkinson's disease.Maiolo SA1, Fan P2, Bobrovskaya L1.Author information1School of Pharmacy and Medical Sciences, Sansom Institute for Health Research, University of South Australia, Adelaide, SA 5000, Australia.2Department of Natural Product Chemistry, Key Laboratory of Chemical Biology of Ministry of Education, School of Pharmaceutical Sciences, Shandong University, Jinan 250012, China.AbstractMitochondrial dysfunction and oxidative stress are two factors that are thought to contribute to the pathogenesis of Parkinson's disease (PD), a debilitating progressive neurodegenerative disorder that results in the loss of catecholamine producing cells throughout specific regions of the brain. In this study we aimed to compare the effects of hydrogen peroxide (H2O2) and rotenone (a pesticide and mitochondrial complex 1 inhibitor) on cell viability and the expression of tyrosine hydroxylase (TH) in a cellular model of PD. We also sought to investigate the potential neuroprotective benefits of bioactive constituents from cinnamon, hemp seed and polygonum cuspidatum. To create a model, SH-SY5Y cells transfected with human TH isoform 1 were treated with varying concentrations of H2O2 and rotenone, in the presence or absence of bioactive constituents. The effect of these toxins and constituents on cell viability, apoptosis and protein expression was assessed using MTT viability assays and western blotting. Rotenone treatment caused a significant decrease in cell viability but a significant increase in TH in the remaining cells. H2O2 treatment caused a significant decrease in cell viability but had no significant effect on TH expression. Curcumin, cinnamaldehyde, caffeoyltyramide (hemp seed extract) and piceatannol glucoside (polygonum cuspidatum extract) were unable to attenuate rotenone induced cell death, however they were able to provide protection against H2O2 induced cell death. This is the first study to demonstrate the neuroprotective properties of cinnamaldehyde, caffeoyltyramide and piceatannol glucoside in a dopaminergic cell line in response to H2O2.KEYWORDS: Cinnamon; DA, Dopamine; DMSO, Dimethyl sulfoxide; GSH, Glutathione; H2O2, Hydrogen peroxide; Hemp seed; MPTP, 1-methyl-4-phenyl-1,2,3,6-tetra hydropyridine; MTT, Methylthiazolyldiphenyl-tetrazolium bromide; Oxidative stress; PARP-1, Poly (ADP-ribose) polymerase-1; PBS, Phosphate buffered saline; PD, Parkinson's disease; Parkinson's disease; Polygonum cuspidatum; ROS, Reactive oxygen species; Rotenone; SDS, Sodium dodecyl sulphate; TH, Tyrosine hydroxylase; tTH, Total THPMID: 29989058 PMCID: PMC6035308 DOI: 10.1016/j.jtcme.2017.11.001 ShareLinkOut - more resourcesFull Text SourcesElsevier ScienceMiscellaneousNCI CPTC Antibody Characterization Program\n",
      "\n",
      "\n",
      "IEEE Trans Biomed Eng. 2017 Dec 20. doi: 10.1109/TBME.2017.2785625. [Epub ahead of print]Modeling, Detecting, and Tracking Freezing of Gait in Parkinson Disease using Inertial Sensors.Prateek GV, Skog I, McNeely ME, Duncan RP, Earhart GM, Nehorai A.AbstractIn this paper, we develop new methods to automatically detect the onset and duration of freezing of gait (FOG) in people with Parkinson disease (PD) in real-time, using inertial sensors. We first build a physical model that describes the trembling motion during the FOG events. Then, we design a generalized likelihood ratio test framework to develop a two-stage detector for determining the zero-velocity and trembling events during gait. Thereafter, to filter out falsely detected FOG events, we develop a point-process filter that combines the output of the detectors with information about the speed of the foot, provided by a foot-mounted inertial navigation system. We computed the probability of FOG (pFOG) by using the point-process filter to determine the onset and duration of the FOG event. Finally, we validate the performance of the proposed system design using real data obtained from people with PD who performed a set of gait tasks. We compare our FOG detection results with an existing method that only uses accelerometer data. The results indicate that our method yields 81.03% accuracy in detecting FOG events, and a three-fold decrease in the false-alarm rate relative to the existing method.PMID: 29989948 DOI: 10.1109/TBME.2017.2785625 ShareLinkOut - more resourcesFull Text SourcesIEEE Engineering in Medicine and Biology Society\n",
      "\n",
      "\n",
      "Acta Neurol Scand. 2018 Jul 10. doi: 10.1111/ane.12996. [Epub ahead of print]LRRK2 G2019S Parkinson's disease with more benign phenotype than idiopathic.Ben Romdhan S1,2,3, Farhat N1, Nasri A4, Lesage S2, Hdiji O1, Ben Djebara M4, Landoulsi Z4, Stevanin G2,3, Brice A2, Damak M1, Gouider R4, Mhiri C1.Author information1Laboratory of Neurogenetics, Parkinson's Disease and Cerebrovascular Disease, University Hospital Habib Bourguiba, Sfax, Tunisia.2Institut du Cerveau et de la Moelle épinière, INSERM U1127, Sorbonne Université, UPMC Paris VI Univ. UMR_S1127, CNRS UMR 7225, Paris, France.3École Pratique des Hautes Études EPHE, PSL Research University, Paris, France.4Department of Neurology, University Hospital Razi, Tunis, Mannouba, Tunisia.AbstractOBJECTIVES: The LRRK2-G2019S mutation is the most common cause of Parkinson's disease (PD) in North Africa. G2019S-PD has been described as similar to idiopathic with minor clinical differences. The aim of this study was to determine the G2019S-related phenotype and to investigate gender and gene dosage effects on clinical features of G2019S carriers.PATIENTS AND METHODS: The G2019S mutation was screened in 250 Tunisian patients with PD. Twenty-four patients carrying mutations in other PD genes were excluded. Logistic regression models were used to compare clinical features between the studied groups.RESULTS: G2019S carriers (107 cases) and non-carriers (119 cases) were similar in disease duration, levodopa doses, and gender and phenotype distributions. However, carriers had a younger age at examination, higher level of education, and were more likely to report family history of PD and to develop PD at earlier age (P = 0.017). Adjusted for age, sex, disease duration, levodopa-equivalent dose and educational level, MMSE scores remained significantly higher (adjust P = 0.019) and UPDRS-III scores were lower (adjust P = 0.012) in the G2019S carriers than non-carriers. Demographic characteristics of men and women with G2019S mutation were similar, but men had higher level of education, better cognition (adjust P-value for educational level = 0.042) and less tendency towards depression than females (adjust P = 0.046). Furthermore, PD phenotype did not differ between the homozygous and heterozygous G2019S carriers.CONCLUSION: In this study, G2019S carriers had a more benign phenotype than non-carriers. Cognitive impairment and depression were less common in G2019S male carriers compared with females. In addition, we found that LRRK2 gene dosage does not influence the severity of PD.© 2018 John Wiley & Sons A/S. Published by John Wiley & Sons Ltd.KEYWORDS: G2019S mutation; Parkinson's disease; phenotypePMID: 29989150 DOI: 10.1111/ane.12996 ShareLinkOut - more resourcesFull Text SourcesWiley\n",
      "\n",
      "\n",
      "Psychogeriatrics. 2018 Jul 10. doi: 10.1111/psyg.12333. [Epub ahead of print]Personal computer-based cognitive training in Parkinson's disease: a case study.Maggio MG1, De Luca R1, Maresca G1, Di Lorenzo G1, Latella D1, Calabro RS1, Bramanti A1.Author information1Institute of Research and Care, Neurolesi Center 'Bonino-Pulejo', Messina, Italy.AbstractParkinson's disease (PD) is a neurodegenerative disorder that is best managed by a combination of medication and regular physiotherapy. PD's main symptoms involve the motor system, but cognitive disorders can be very severe as well. The aim of this study was to evaluate the effects of the computerized rehabilitative tool Esercizi di Riabilitazione Cognitiva (ERICA) in the cognitive recovery of a patient with PD. The patient was a 65-year-old man affected by PD with motor complications and severe cognitive and behavioural alterations. He underwent two different types of intensive rehabilitation training: standard cognitive rehabilitation alone and in combination with specific personal computer (PC)-based cognitive training. We evaluated his neuropsychological profile before and after the two types of training by using a specific psychometric battery. Only at the end of the PC training did we observe improvement in cognitive function as well as mood stabilization. When used in addition to standard cognitive rehabilitation, PC-based cognitive training may be a valuable tool in improving cognitive skills, with regard to attention, memory process, and executive functions. PC-based cognitive training may be able to help optimize managing the symptoms of PD.KEYWORDS: PC-based cognitive training; Parkinson's disease; cognitive rehabilitationPMID: 29987868 DOI: 10.1111/psyg.12333 SharePublication typePublication typeCase ReportsLinkOut - more resourcesFull Text SourcesWiley\n",
      "\n",
      "\n",
      "J Mol Med (Berl). 2018 Jul 9. doi: 10.1007/s00109-018-1668-z. [Epub ahead of print]Inflammation: a highly conserved, Janus-like phenomenon-a gastroenterologist' perspective.Ribaldone DG1, Pellicano R2, Actis GC3.Author information1Department of Medical Sciences, Division of Gastroenterology, University of Torino, C.so Bramante 88, 10126, Turin, Italy. davrib_1998@yahoo.com.2Department of General and Specialist Medicine, Gastroenterologia-U, Molinette Hospital, Turin, Italy.3The Medical Center Practice Office, Turin, Italy.AbstractInflammation is the result of the loss of host's resilience towards the surrounding world. At gross tissue level, inflammation coincides with fluid leakage from vessels, swelling, and blood stasis and extravasation of mononuclear/macrophage cells. Biochemically, these events lead to anoxia and dramatic changes: interruption of the mitochondrial oxidative phosphorylation, influx of the M1 macrophage subset, which live on anaerobic glycolysis. Fall of ATP then leads to energy shortage and debt. In their chronic forms, these phenomena are now known to mark a number of degenerative disorders that have invaded the Western World since the last century: Parkinson's disease, Alzheimer's syndromes, rheumatic diseases, metabolic diseases. Intriguingly, these affections seem to derive from the gut, along two possible pathways. A sort of ascending loss of function caused by accumulation of (and hyperreactivity to) proteins released to restrain spread of enteric viruses: the alpha-synucleins, now increasingly spotted in relation to Parkinson's pathogenesis. The second pathway would entail the intellectual decline perhaps brought about by large use of food containing the proteins of red processed meat. The bacterium Bilophila wadsworthia, thriving in this meat, can erode the mucus layer on colon surfaces, allowing further bacterial flora to approach lining cells, so upgrading the alarm state. We discuss two strategies to prevent such instability from ending up to full-blown inflammatory bowel disease: physical exercise and systematic switch to fibre-containing diets.KEYWORDS: Diet; Inflammation; Inflammatory bowel diseases; Metabolic diseases; Parkinson; Rheumatic diseasesPMID: 29987405 DOI: 10.1007/s00109-018-1668-z SharePublication typePublication typeReviewLinkOut - more resourcesFull Text SourcesSpringer\n",
      "\n",
      "\n",
      "Neurology. 2018 Jul 10;91(2):97. doi: 10.1212/WNL.0000000000005780.Deliberate gait scissoring to overcome freezing of gait in Parkinson disease.Nonnekes J1, Bloem BR2.Author information1From the Departments of Rehabilitation (J.N.) and Neurology (B.R.B.), Donders Institute for Brain, Cognition and Behaviour, Radboud University Medical Centre, Nijmegen, the Netherlands. jorik.nonnekes@radboudumc.nl.2From the Departments of Rehabilitation (J.N.) and Neurology (B.R.B.), Donders Institute for Brain, Cognition and Behaviour, Radboud University Medical Centre, Nijmegen, the Netherlands.PMID: 29987176 DOI: 10.1212/WNL.0000000000005780 ShareLinkOut - more resourcesFull Text SourcesHighWireOvid Technologies, Inc.\n",
      "\n",
      "\n",
      "BMJ Open. 2018 Jul 7;8(7):e020821. doi: 10.1136/bmjopen-2017-020821.Does nephrotic syndrome without chronic kidney disease increase the risk of Parkinson's disease and secondary parkinsonism? A nationwide population-based study in Taiwan.Huang ZH1,2, Chen HC1, Chou YC3, Lin CL4,5, Kao CH6,7, Lo HY8, Yang TY#9, Liu FC#1.Author information1Division of Rheumatology, Immunology and Allergy, Department of Medicine, Tri-Service General Hospital, National Defense Medical Center, Taipei, Taiwan.2Division of Rheumatology, Immunology and Allergy, Department of Medicine, Kaohsiung Armed Forces General Hospital, Kaohsiung, Taiwan.3Department of Health Promotion and Health Education, National Defense Medical Center, Taipei, Taiwan.4School of Medicine, China Medical University, Taichung, Taiwan.5Management Office for Health Data, China Medical University Hospital, Taichung, Taiwan.6Department of Nuclear Medicine and PET Center, China Medical University Hospital, Taichung, Taiwan.7Graduate Institute of Clinical Medicine Science and School of Medicine, College of Medicine, China Medical University, Taichung, Taiwan.8Graduate Institute of Chinese Medicine, China Medical University, Taichung, Taiwan.9Molecular and Genomic Epidemiology Center, China Medical University Hospital, Taichung, Taiwan.#Contributed equallyAbstractOBJECTIVES: Previous research has shown that patients with nephrotic syndrome (NS) have a higher risk of cognitive impairment, dementia or neurodegenerative disorder. The present study aimed to examine a relationship, if any exists between NS and Parkinson's disease (PD), a neurodegenerative disorder and secondary parkinsonism (sPS).METHODS: A nationwide retrospective observational study conducted using data from the 2000-2010 Taiwan National Health Insurance Research Database. This study included 3663 patients with NS and 14 652 randomly selected, age-matched and sex-matched patients without NS. A Cox multivariable proportional hazards model was used to evaluate the risk of PD and sPS (PDsPS) in the NS cohort.RESULTS: This study identified a positive association between NS and the risk of PDsPS in both men and women and in all age groups (adjusted HR 1.51; 95% CI 1.37 to 1.66). Compared with patients without NS and comorbidities, those with NS with two or more comorbidities exhibited an 8.23-fold higher risk of PDsPS (95% CI 6.22 to 10.9) and patients with NS and one comorbidity exhibited a 2.93-fold higher risk of PDsPS (95% CI 2.37 to 3.63).CONCLUSIONS: Patients with NS have an increased risk of PDsPS. This increased risk may be related to brain vascular damage or blood-brain barrier impairment. Further research is necessary to explore the underlying relationship between NS and PDsPS.© Author(s) (or their employer(s)) 2018. Re-use permitted under CC BY-NC. No commercial re-use. See rights and permissions. Published by BMJ.KEYWORDS: nephrotic syndrome; parkinson disease; proteinuriaPMID: 29982207 DOI: 10.1136/bmjopen-2017-020821 ShareConflict of interest statementCompeting interests: None declared.LinkOut - more resourcesFull Text SourcesHighWireMiscellaneousNCI CPTAC Assay PortalNCI CPTC Antibody Characterization Program\n",
      "\n",
      "\n",
      "Autophagy. 2018 Jul 10. doi: 10.1080/15548627.2018.1491489. [Epub ahead of print]The lysosomal membrane protein LAMP2A promotes autophagic flux and prevents SNCA-induced Parkinson disease-like symptoms in the Drosophila brain.Issa AR1, Sun J1, Petitgas C1, Mesquita A2, Dulac A1, Robin M3, Mollereau B3, Jenny A2, Chérif-Zahar B1, Birman S1.Author information1a Genes Circuits Rhythms and Neuropathology, Brain Plasticity Unit, CNRS, ESPCI Paris , PSL Research University , Paris , France.2b Albert Einstein College of Medicine , NY , US.3c ENSL, UCBL, CNRS, LBMC, UMS 3444 Biosciences Lyon Gerland Université de Lyon , 46 Allée d'Italie, F-69007, Lyon , France.AbstractThe autophagy-lysosome pathway plays a fundamental role in the clearance of aggregated proteins and protection against cellular stress and neurodegenerative conditions. Alterations in autophagy processes, including macroautophagy and chaperone-mediated autophagy (CMA), have been described in Parkinson disease (PD). CMA is a selective autophagic process that depends on LAMP2A (Lysosomal associated membrane protein 2A), a mammal and bird-specific membrane glycoprotein that translocates cytosolic proteins containing a KFERQ-like peptide motif across the lysosomal membrane. Drosophila reportedly lack CMA and use endosomal microautophagy (eMI) as an alternative selective autophagic process. Here we report that neuronal expression of human LAMP2A protected Drosophila against starvation and oxidative stress, and delayed locomotor decline in aging flies without extending their lifespan. LAMP2A also prevented the progressive locomotor and oxidative defects induced by neuronal expression of PD-associated human SNCA (synuclein alpha) with alanine-to-proline mutation at position 30 (SNCAA30P). Using KFERQ-tagged fluorescent biosensors, we observed that LAMP2A expression stimulated selective autophagy in the adult brain and not in the larval fat body, but did not increase this process under starvation conditions. Noteworthy, we found that neurally expressed LAMP2A markedly upregulated levels of Drosophila Atg5, a key macroautophagy initiation protein, and of the Atg5-containing complex, and that it increased the density of Atg8a/LC3-positive puncta, which reflects the formation of autophagosomes. Furthermore, LAMP2A efficiently prevented accumulation of the autophagy defect marker Ref(2)P/p62 in the adult brain under acute oxidative stress. These results indicate that LAMP2A can promote autophagosome formation and potentiate autophagic flux in the Drosophila brain, leading to enhanced stress resistance and neuroprotection.KEYWORDS: Drosophila melanogaster; Parkinson disease model; autophagy-lysosome pathway; endosomal microautophagy; macroautophagy; neuroprotection; oxidative stress; synuclein alpha (SNCA)PMID: 29989488 DOI: 10.1080/15548627.2018.1491489 ShareLinkOut - more resourcesFull Text SourcesTaylor & Francis\n",
      "\n",
      "\n",
      "Stroke. 2018 Jul 9. pii: STROKEAHA.118.021964. doi: 10.1161/STROKEAHA.118.021964. [Epub ahead of print]Association of Low Lysosomal Enzymes Activity With Brain Arterial Dilatation: A Pilot Study.Shah H1, Liong C2, Levy OA2, Waters C2, Fahn S2, Marder K2, Kang UJ2, Wolf P3, Oliva P3, Zhang K3, Alcalay RN4, Gutierrez J2.Author information1From the College of Medicine, University of Florida, Gainesville (H.S.).2Department of Neurology, Columbia University Medical Center, New York, NY (C.L., O.A.L., C.W., S.F., K.M., U.J.K., R.N.A., J.G.).3Global Translational Science, Sanofi, Framingham, MA (P.W., P.O., K.Z.).4Department of Neurology, Columbia University Medical Center, New York, NY (C.L., O.A.L., C.W., S.F., K.M., U.J.K., R.N.A., J.G.) rna2104@columbia.edu jg3233@cumc.columbia.edu.AbstractBACKGROUND AND PURPOSE: Absent or diminished α-galactosidase A (GLA) and acid α-glucosidase (GAA) enzyme activity are core features of Fabry and Pompe disease, respectively. Patients with Fabry or Pompe disease may have dilated intracranial arteries but whether lower GLA or GAA enzyme activity relates to brain arterial dilatation in other populations is unknown.METHODS: Participants included Parkinson disease patients and nonblood-related controls, whose GLA and GAA enzymatic activities were measured in dried blood spots. Independent readers measured the axial arterial diameter of the ascending portion of the cavernous internal carotid arteries and the most proximal segment of the basilar artery in T2 black voids. Linear regression models were built to investigate the relationship between brain arterial diameters and lysosomal enzymatic activities.RESULTS: The cohort included 107 participants (mean age, 66.5±10.3; 67% men). In an adjusted linear regression model, lower GLA activity was associated with larger brain arterial diameters (B=0.50±0.23, P=0.03). The strength of association was the greatest for the basilar artery diameter (B=0.80±0.33, P=0.02). Similarly, lower GAA activity was associated with an increased basilar arterial diameter (B=0.73±0.35, P=0.04).CONCLUSIONS: Lower GLA and GAA enzymatic activities were associated with larger brain arterial diameters, particularly the basilar artery diameter. Lower lysosomal enzymatic function in patients without Fabry or Pompe disease may play a role in brain arterial dilatation.© 2018 American Heart Association, Inc.KEYWORDS: dilatation; hypertension; inflammation; lysosomes; sphingolipidsPMID: 29986930 DOI: 10.1161/STROKEAHA.118.021964 ShareLinkOut - more resourcesFull Text SourcesHighWire - PDFWolters KluwerOvid Technologies, Inc.MiscellaneousNCI CPTAC Assay Portal\n",
      "\n",
      "\n",
      "Mol Imaging Biol. 2018 Jul 9. doi: 10.1007/s11307-018-1217-8. [Epub ahead of print]Quantitative Intensity Harmonization of Dopamine Transporter SPECT Images Using Gamma Mixture Models.Llera A1, Huertas I2,3, Mir P4, Beckmann CF1,5,6.Author information1Donders Centre for Cognitive Neuroimaging, Donders Institute for Brain, Cognition and Behaviour, Radboud University, Nijmegen, The Netherlands.2Donders Centre for Cognitive Neuroimaging, Donders Institute for Brain, Cognition and Behaviour, Radboud University, Nijmegen, The Netherlands. ismhuefer@gmail.com.3Unidad de Trastornos del Movimiento, Servicio de Neurología y Neurofisiología Clínica, Instituto de Biomedicina de Sevilla (IBiS), Hospital Universitario Virgen del Rocío/CSIC/Universidad de Sevilla, Avda. Manuel Siurot s/n., 41013, Seville, Spain. ismhuefer@gmail.com.4Unidad de Trastornos del Movimiento, Servicio de Neurología y Neurofisiología Clínica, Instituto de Biomedicina de Sevilla (IBiS), Hospital Universitario Virgen del Rocío/CSIC/Universidad de Sevilla, Avda. Manuel Siurot s/n., 41013, Seville, Spain.5Department of Cognitive Neuroscience, Radboud University Medical Centre, Nijmegen, The Netherlands.6Oxford Centre for Functional Magnetic Resonance Imaging of the Brain (FMRIB), University of Oxford, Oxford, UK.AbstractPURPOSE: Differences in site, device, and/or settings may cause large variations in the intensity profile of dopamine transporter (DAT) single-photon emission computed tomography (SPECT) images. However, the current standard to evaluate these images, the striatal binding ratio (SBR), does not efficiently account for this heterogeneity and the assessment can be unequivalent across distinct acquisition pipelines. In this work, we present a voxel-based automated approach to intensity normalize such type of data that improves on cross-session interpretation.PROCEDURES: The normalization method consists of a reparametrization of the voxel values based on the cumulative density function (CDF) of a Gamma distribution modeling the specific region intensity. The harmonization ability was tested in 1342 SPECT images from the PPMI repository, acquired with 7 distinct gamma camera models and at 24 different sites. We compared the striatal quantification across distinct cameras for raw intensities, SBR values, and after applying the Gamma CDF (GDCF) harmonization. As a proof-of-concept, we evaluated the impact of GCDF normalization in a classification task between controls and Parkinson disease patients.RESULTS: Raw striatal intensities and SBR values presented significant differences across distinct camera models. We demonstrate that GCDF normalization efficiently alleviated these differences in striatal quantification and with values constrained to a fixed interval [0, 1]. Also, our method allowed a fully automated image assessment that provided maximal classification ability, given by an area under the curve (AUC) of AUC = 0.94 when used mean regional variables and AUC = 0.98 when used voxel-based variables.CONCLUSION: The GCDF normalization method is useful to standardize the intensity of DAT SPECT images in an automated fashion and enables the development of unbiased algorithms using multicenter datasets. This method may constitute a key pre-processing step in the analysis of this type of images.KEYWORDS: Dopamine transporter; Gamma distribution; Intensity normalization; Multicenter studies; PPMI; SPECTPMID: 29987621 DOI: 10.1007/s11307-018-1217-8 ShareGrant supportGrant supportFI14/00497/PFIS doctoral programme/MV15/00034/M-AES mobility fellowship/098369/Z/12/Z/Wellcome Trust UK Strategic Award/NWO- Vidi 864-12-003/Stichting voor de Technische Wetenschappen/PI16/01575/Instituto de Salud Carlos III/LinkOut - more resourcesFull Text SourcesElsevier ScienceSpringerMiscellaneousNCI CPTC Antibody Characterization Program\n",
      "\n",
      "\n",
      "Int J Geriatr Psychiatry. 2018 Jul 8. doi: 10.1002/gps.4934. [Epub ahead of print]Age-dependent determinants of antipsychotic use among newly admitted residents of skilled nursing facilities: A population-based study.Jester DJ1, Hyer K1, Molinari V1, Andel R1, Rozek E2.Author information1Florida Policy Exchange Center on Aging, School of Aging Studies, University of South Florida, Tampa, FL, USA.2Department of Psychology, University of Wisconsin - La Crosse, La Crosse, WI, USA.AbstractOBJECTIVES: To assess factors related to antipsychotic (AP) use in skilled nursing facilities for newly admitted residents aged 18 to 49, 50 to 64, 65 to 84, and 85 years or older.METHODS: Retrospective, population-level, Minimum Data Set (MDS) 2.0 data from the United States during the year of 2009 were used. Over 1 million residents were included. Fourteen clinically relevant variables were identified through a literature search. Antipsychotic use was defined as APs dispensed daily for the prior 7 days. Logistic regression was used to identify clinically relevant variables, which were then ranked based on magnitude of their association with APs.RESULTS: Bipolar disorder and schizophrenia were consistently related to AP use across age groups. For older age groups, off-label indications such as cognitive impairment, dementia, behavioral symptoms, and physical restraint use were more closely related to AP use, while delusions and hallucinations decreased in strength. Higher proportions of APs were found in all diseases and symptoms in nonelderly adults, with the exception of physical restraint use. Concurrent physical restraint and AP use was highest for older adults aged 65 to 84 at 36%.CONCLUSIONS: Correlates of AP use varied by age, with stronger associations between on-label conditions and AP use among younger adults and off-label conditions among older adults. Several less conventional determinants, namely, Parkinson disease, traumatic brain injury, and the use of physical restraints were identified to increase the likelihood of AP use. This study highlights the importance of monitoring for adverse effects for residents of all ages.© 2018 John Wiley & Sons, Ltd.KEYWORDS: age differences; antipsychotic prescription; nursing home; off-labelPMID: 29984493 DOI: 10.1002/gps.4934 ShareLinkOut - more resourcesFull Text SourcesWileyMiscellaneousNCI CPTAC Assay PortalNCI CPTAC Assay PortalNCI CPTC Antibody Characterization Program\n",
      "\n",
      "\n"
     ]
    },
    {
     "data": {
      "text/plain": [
       "20"
      ]
     },
     "execution_count": 72,
     "metadata": {},
     "output_type": "execute_result"
    }
   ],
   "source": [
    "for i in abstract:\n",
    "    print(i)\n",
    "    print(\"\\n\")\n",
    "\n",
    "len(abstract)"
   ]
  },
  {
   "cell_type": "markdown",
   "metadata": {},
   "source": [
    "## Add title and abstract to article_dict"
   ]
  },
  {
   "cell_type": "code",
   "execution_count": 73,
   "metadata": {
    "scrolled": false
   },
   "outputs": [
    {
     "name": "stdout",
     "output_type": "stream",
     "text": [
      "{'title': [[\"Dilated Virchow-Robin space and Parkinson's disease: A case report of combined MRI and diffusion tensor imaging.\", 'Reader response: A predictive model to identify Parkinson disease from administrative claims data.', 'Author response: A predictive model to identify Parkinson disease from administrative claims data.', \"Quantitative assessment of upper limb functional impairments in people with Parkinson's disease.\", 'Angiotensin Type 1 Receptor Antagonists Protect Against Alpha-Synuclein-Induced Neuroinflammation and Dopaminergic Neuron Death.', 'The efficacy of repetitive transcranial magnetic stimulation for Parkinson disease patients with depression.', 'Beta-band oscillations in the supplementary motor cortex are modulated by levodopa and associated with functional activity in the basal ganglia.', \"Editors' note: A predictive model to identify Parkinson disease from administrative claims data.\", \"Inflammatory bowel disease and risk of Parkinson's disease in medicare beneficiaries.\", \"Bioactive constituents from cinnamon, hemp seed and polygonum cuspidatum protect against H2O2 but not rotenone toxicity in a cellular model of Parkinson's disease.\", 'Modeling, Detecting, and Tracking Freezing of Gait in Parkinson Disease using Inertial Sensors.', \"LRRK2 G2019S Parkinson's disease with more benign phenotype than idiopathic.\", \"Personal computer-based cognitive training in Parkinson's disease: a case study.\", \"Inflammation: a highly conserved, Janus-like phenomenon-a gastroenterologist' perspective.\", 'Deliberate gait scissoring to overcome freezing of gait in Parkinson disease.', \"Does nephrotic syndrome without chronic kidney disease increase the risk of Parkinson's disease and secondary parkinsonism? A nationwide population-based study in Taiwan.\", 'The lysosomal membrane protein LAMP2A promotes autophagic flux and prevents SNCA-induced Parkinson disease-like symptoms in the Drosophila brain.', 'Association of Low Lysosomal Enzymes Activity With Brain Arterial Dilatation: A Pilot Study.', 'Quantitative Intensity Harmonization of Dopamine Transporter SPECT Images Using Gamma Mixture Models.', 'Age-dependent determinants of antipsychotic use among newly admitted residents of skilled nursing facilities: A population-based study.']], 'abstract': [[\"Radiol Case Rep. 2018 Jun 30;13(4):871-877. doi: 10.1016/j.radcr.2018.05.011. eCollection  2018 Aug.Dilated Virchow-Robin space and Parkinson's disease: A case report of combined MRI and diffusion tensor imaging.Conforti R1, Sardaro A2, Negro A1, Caiazzo G3, Paccone A3, De Micco R4, Cirillo S1, Tessitore A4.Author information1Università degli Studi della Campania Luigi Vanvitelli, Section of Neuroradiology, viale Colli Aminei 21, Napoli 80131, Italy.2Università degli Studi della Campania Luigi Vanvitelli, piazza Miraglia 2, Napoli 80138, Italy.3MRI Research Center SUN-FISM, Università degli Studi della Campania Luigi Vanvitelli, piazza Miraglia 2, Napoli 80138, Italy.4Università degli Studi della Campania Luigi Vanvitelli, Dipartimento di Scienze Mediche, Chirurgiche, Neurologiche, Metaboliche e dell'Invecchiamento, piazza Miraglia 2, Napoli 80138, Italy.AbstractIn this manuscript we report the case of a 69-year-old female patient, who suffers from Parkinson's disease (PD) with a dilated Virchow-Robin space (dVRS) on the left anterior perforated substance. During a magnetic resonance imaging examination, the presence of a dVRS was discovered on the left anterior perforated substance. Subsequently, the patient has been subjected to further investigation of magnetic resonance imaging and diffusion tensor imaging (DTI). The DTI data of our PD patient showed increased peak frequency of left fractional anisotropy and decreases in the distribution of Mean Diffusivity(MD) with changes in the fiber density compared to the normal contralateral tract. We hypothesize that the DTI changes are due to dVRS. In the text a review of the recent literature on the presence of dVRSs, located in mono and bilateral seat, in patients with PD is reported, explaining its possible implications on disease progression, cognitive decline, and worsening of symptoms.KEYWORDS: Diffusion tensor imaging (DTI); Dilated Virchow-Robin spaces; Magnetic resonance imaging (MRI); Parkinson's diseasePMID: 29988793 PMCID: PMC6031236 DOI: 10.1016/j.radcr.2018.05.011 ShareLinkOut - more resourcesFull Text SourcesElsevier ScienceClinicalKey\", 'Neurology. 2018 Jul 10;91(2):104. doi: 10.1212/WNL.0000000000005768.Reader response: A predictive model to identify Parkinson disease from administrative claims data.Kawada T1.Author information1(Tokyo).PMID: 29987182 DOI: 10.1212/WNL.0000000000005768 ShareLinkOut - more resourcesFull Text SourcesHighWireOvid Technologies, Inc.', 'Neurology. 2018 Jul 10;91(2):104. doi: 10.1212/WNL.0000000000005767.Author response: A predictive model to identify Parkinson disease from administrative claims data.Searles Nielsen S1, Racette BA1.Author information1(St. Louis).PMID: 29987183 DOI: 10.1212/WNL.0000000000005767 ShareLinkOut - more resourcesFull Text SourcesHighWireOvid Technologies, Inc.', 'Clin Biomech (Bristol, Avon). 2018 Jun 30;57:137-143. doi: 10.1016/j.clinbiomech.2018.06.019. [Epub ahead of print]Quantitative assessment of upper limb functional impairments in people with Parkinson\\'s disease.Corona F1, Pilloni G2, Arippa F2, Porta M2, Casula C3, Cossu G3, Pau M2.Author information1Department of Mechanical, Chemical and Materials Engineering, University of Cagliari, Cagliari, Italy. Electronic address: corona.federic@gmail.com.2Department of Mechanical, Chemical and Materials Engineering, University of Cagliari, Cagliari, Italy.3AOB \"G. Brotzu\" General Hospital, Cagliari, Italy.AbstractBACKGROUND: In clinical routine, upper limb motor disorders of people with Parkinson\\'s disease are commonly assessed using scale- or timed tests, but such tools are not fully suitable for providing detailed information about their type and magnitude. To partly overcome these limitations, the present study aims to quantitatively investigate upper limb functional impairments through quantitative analysis of the \"hand-to-mouth\" task.METHODS: Twenty-five individuals with Parkinson\\'s disease and 20 age-matched healthy individuals underwent a kinematic analysis of the hand-to-mouth task from which spatio-temporal and kinematic measures, including summary measures (Arm Variable Score and Arm Profile Score), were calculated and correlated with clinical scores (Hoehn & Yahr, H&Y and the Unified Parkinson Disease Rating Scale, UPDRS).FINDINGS: The \"hand-to-mouth\" movement is significantly altered in individuals with Parkinson\\'s disease, especially in terms of reduced velocity, reduced range of motion of elbow flexion-extension and deviation from a physiologic pattern (Arm Profile Score 12.8° vs. 10.1° of unaffected, P\\u202f=\\u202f0.002). Significant moderate correlations were found between movement duration and UPDRS-III (rho\\u202f=\\u202f0.478, P\\u202f=\\u202f0.001) and between the Arm Profile Score and H&Y (rho\\u202f=\\u202f0.481, P\\u202f=\\u202f0.024) and UPDRS-III (rho\\u202f=\\u202f0.326, P\\u202f=\\u202f0.001).INTERPRETATION: On the basis of such findings, we can state that the kinematic analysis of \"hand-to-mouth\" movement, and in particular the summary indexes, are suitable for easily representing upper limb movement alterations in people with Parkinson\\'s disease, thus allowing the monitoring either of disease progression or effectiveness of pharmacologic and rehabilitative treatments.Copyright © 2018 Elsevier Ltd. All rights reserved.KEYWORDS: Arm profile score; Hand-to-mouth; Kinematics; Parkinson\\'s disease; Upper limbsPMID: 29986276 DOI: 10.1016/j.clinbiomech.2018.06.019 ShareLinkOut - more resourcesFull Text SourcesElsevier ScienceClinicalKey', \"Neurotherapeutics. 2018 Jul 9. doi: 10.1007/s13311-018-0646-z. [Epub ahead of print]Angiotensin Type 1 Receptor Antagonists Protect Against Alpha-Synuclein-Induced Neuroinflammation and Dopaminergic Neuron Death.Rodriguez-Perez AI1,2, Sucunza D2,3, Pedrosa MA1,2, Garrido-Gil P1,2, Kulisevsky J2,4, Lanciego JL2,3, Labandeira-Garcia JL5,6.Author information1Laboratory of Neuroanatomy and Experimental Neurology, Department of Morphological Sciences, Centro de Investigación en Medicina Molecular y Enfermedades Crónicas, Faculty of Medicine, University of Santiago de Compostela, 15782, Santiago de Compostela, Spain.2Networking Research Center on Neurodegenerative Diseases (Centro de Investigación Biomédica en Red Enfermedades Neurodegenerativas), Madrid, 28031, Spain.3Neurosciences Division, Centro de Investigación Médica Aplicada, University of Navarra, Pamplona, 31008, Spain.4Movement Disorders Unit, Neurology Department, Sant Pau Hospital and Biomedical Research Institute, Universitat Autonoma de Barcelona and Universitat Oberta de Catalunya, Barcelona, 08025, Spain.5Laboratory of Neuroanatomy and Experimental Neurology, Department of Morphological Sciences, Centro de Investigación en Medicina Molecular y Enfermedades Crónicas, Faculty of Medicine, University of Santiago de Compostela, 15782, Santiago de Compostela, Spain. joseluis.labandeira@usc.es.6Networking Research Center on Neurodegenerative Diseases (Centro de Investigación Biomédica en Red Enfermedades Neurodegenerativas), Madrid, 28031, Spain. joseluis.labandeira@usc.es.AbstractThe loss of dopaminergic neurons and α-synuclein accumulation are major hallmarks of Parkinson's disease (PD), and it has been suggested that a major mechanism of α-synuclein toxicity is microglial activation. The lack of animal models that properly reproduce PD, and particularly the underlying synucleinopathy, has hampered the clarification of PD mechanisms and the development of effective therapies. Here, we used neurospecific adeno-associated viral vectors serotype 9 coding for either the wild-type or mutated forms of human alpha-synuclein (WT and SynA53T, respectively) under the control of a synapsin promoter to further induce a marked dopaminergic neuron loss together with an important microglial neuroinflammatory response. Overexpression of neuronal alpha-synuclein led to increased expression of angiotensin type 1 receptors and NADPH oxidase activity, together with a marked increase in the number of OX-6-positive microglial cells and expression of markers of phagocytic activity (CD68) and classical pro-inflammatory/M1 microglial phenotype markers such as inducible nitric oxide synthase, tumor necrosis factor alpha, interleukin-1β, and IL-6. Moreover, a significant decrease in the expression of markers of immunoregulatory/M2 microglial phenotype such as the enzyme arginase-1 was constantly observed. Interestingly, alpha-synuclein-induced changes in microglial phenotype markers and dopaminergic neuron death were inhibited by simultaneous treatment with the angiotensin type 1 blockers candesartan or telmisartan. Our results suggest the repurposing of candesartan and telmisartan as a neuroprotective strategy for PD.KEYWORDS: Candesartan; Microglia; Neurodegeneration; Parkinson; Telmisartan; Viral vectorsPMID: 29987762 DOI: 10.1007/s13311-018-0646-z ShareGrant supportGrant support(BFU2015-70523 and BFU2017-82407-R/Spanish Ministry of Economy and Competitiveness/PI17/00828, RD16/0011/0016 and CIBERNED/Spanish Ministry of Health/GRC2014/002/Galician Government/046-2017/Departamento de Educación, Gobierno de Navarra/LinkOut - more resourcesFull Text SourcesElsevier ScienceSpringerMiscellaneousNCI CPTC Antibody Characterization Program\", 'Int J Neurosci. 2018 Jul 9:1-24. doi: 10.1080/00207454.2018.1495632. [Epub ahead of print]The efficacy of repetitive transcranial magnetic stimulation for Parkinson disease patients with depression.Wang HJ1, Tan G1, Zhu LN1, Chen D1, Xu D1, Chu SS1, Ling L1.Author information1a Department of Neurology , West China Hospital, Sichuan University , Chengdu 610041 , Sichuan , China.AbstractObjective To evaluate the efficacy of repetitive transcranial magnetic stimulation for Parkinson disease (PD) patients with depression. Methods A meta-analysis was performed using relevant randomized controlled trials (RCTs) from online databases such as PubMed, Embase, Cochrane Online Library, and Clinicaltrials.gov. Studies were selected according to pre-defined inclusion and exclusion criteria, and the quality of the studies was evaluated using the Jadad Scale. All data were pooled by RevMan 5.2 software for meta-analysis. Results The review covered 528 articles, and 7 articles with Jadad score ≥ 4 were included in the analysis. The meta-analysis showed that, compared to sham repetitive transcranial magnetic stimulation (sham-rTMS), repetitive transcranial magnetic stimulation (rTMS) over dorsolateral prefrontal cortex (DLPFC) improved depression, but that there was no significant difference in depression improvement between rTMS and selective serotonin reuptake inhibitor (SSRI) treatment. In contrast, rTMS over DLPFC did not improve motor function compared to sham-rTMS or SSRI, and the studies that included neurocognitive measures showed no significant difference between rTMS and sham-rTMS. Conclusion This meta-analysis provides evidence that rTMS over DLPFC can improve depression similar to SSRI treatment, has no effect on the motor function and cognition of PD patients with depression.KEYWORDS: Parkinson disease; depression; transcranial magnetic stimulationPMID: 29985089 DOI: 10.1080/00207454.2018.1495632 ShareLinkOut - more resourcesFull Text SourcesTaylor & Francis', \"Neuroimage Clin. 2018 May 18;19:559-571. doi: 10.1016/j.nicl.2018.05.021. eCollection  2018.Beta-band oscillations in the supplementary motor cortex are modulated by levodopa and associated with functional activity in the basal ganglia.Chung JW1, Burciu RG2, Ofori E3, Coombes SA1, Christou EA1,4, Okun MS5, Hess CW5, Vaillancourt DE1,5,6.Author information1Department of Applied Physiology and Kinesiology, University of Florida, Gainesville, FL, USA.2Department of Kinesiology and Applied Physiology, University of Delaware, Newark, DE, USA.3College of Health Solutions, Arizona State University, Phoenix, AZ, USA.4Department of Physical Therapy, University of Florida, Gainesville, FL, USA.5Department of Neurology and Center for Movement Disorders and Neurorestoration, University of Florida, Gainesville, FL, USA.6Department of Biomedical Engineering, University of Florida, Gainesville, FL, USA.AbstractWe investigated the effect of acute levodopa administration on movement-related cortical oscillations and movement velocity in Parkinson's disease (PD). Patients with PD on and off medication and age- and sex-matched healthy controls performed a ballistic upper limb flexion movement as fast and accurately as possible while cortical oscillations were recorded with high-density electroencephalography. Patients off medication were also studied using task-based functional magnetic resonance imaging (fMRI) using a force control paradigm. Percent signal change of functional activity during the force control task was calculated for the putamen and subthalamic nucleus (STN) contralateral to the hand tested. We found that patients with PD off medication had an exaggerated movement-related beta-band (13-30\\u202fHz) desynchronization in the supplementary motor area (SMA) compared to controls. In PD, spectral power in the beta-band was correlated with movement velocity. Following an acute dose of levodopa, we observed that the beta-band desynchronization in the SMA was reduced in PD, and was associated with increased movement velocity and increased voltage of agonist muscle activity. Further, using fMRI we found that the functional activity in the putamen and STN in the off medication state, was related to how responsive that cortical oscillations in the SMA of PD were to levodopa. Collectively, these findings provide the first direct evaluation of how movement-related cortical oscillations relate to movement velocity during the ballistic phase of movement in PD and demonstrate that functional brain activity in the basal ganglia pathways relate to the effects of dopaminergic medication on cortical neuronal oscillations during movement.KEYWORDS: BOLD, blood oxygen level dependent; Ballistic movements; DBS, deep brain stimulation; ECoG, electrocorticography; EEG; EEG, electroencephalography; EMG, electromyography; ERSP, event-related power spectral perturbation; FDR, false discovery rate; HC, healthy control; ICA, independent component analysis; LFP, local field potential; Levodopa; M1, primary motor cortex; MDS-UPDRS, Movement Disorder Society Unified Parkinson's Disease Rating Scale; MEG, magnetoencephalography; MPA, measure projection analysis; MVC, maximum voluntary contraction; MoCA, Montreal Cognitive Assessment; PD, Parkinson's disease; PD-OFF, off medication (levodopa) day; PD-ON, on medication (levodopa) day; PET, positron emission tomography; Parkinson's disease; ROI, regions of interest; S1, primary somatosensory cortex; SMA, supplementary motor area; SNc, substantia nigra pars compacta; STN, subthalamic nucleus; Supplementary motor area; fMRI; fMRI, functional magnetic resonance imaging; iEMG, integrated electromyography; rCBF, regional cerebral blood flowPMID: 29984164 PMCID: PMC6029579 DOI: 10.1016/j.nicl.2018.05.021 ShareImages from this publication.See all images  (7)Free textFig. 1Experimental design schema. There are two groups (i.e. patients with Parkinson's disease (PD) and healthy controls (HC)) in this study. The experiments for the PD group were performed on two consecutive days (i.e. the on medication day and off medication day). The order of testing medication across days was counter-balanced across PD group. Each patient with PD underwent high-density EEG and assessment of motor symptoms (MDS-UPDRS-III) in both days. In addition, patients with PD were studied using task-based fMRI in the on medication day. The experiments of HC were included EEG and MDS-UPDRS-III. Abbreviations: EEG\\u202f=\\u202felectroencephalography; fMRI\\u202f=\\u202ffunctional magnetic resonance imaging; MDS-UPDRS-III\\u202f=\\u202fthe motor section of the Movement Disorder Society Unified Parkinson's Disease Rating Scale; PD\\u202f=\\u202fParkinson's disease.Beta-band oscillations in the supplementary motor cortex are modulated by levodopa and associated with functional activity in the basal gangliaNeuroimage Clin. 2018;19:559-571.Fig. 2Experimental setup of the task, example kinematic and neuromuscular data. A shows a schematic of the experimental set-up. B depicts examples of analyses performed on the EEG, kinematic, and EMG records using data from an individual movement trial, and shows EEG channels, movement displacement, velocity, and acceleration, and biceps agonist EMG. The bottom section of B shows the Beep Sound time line, depicting when subjects were asked to move their arm to the target (B0) and when subjects were asked to return to the start position (B4). The black vertical line is aligned on the movement on-set time (M0) across multiple data. Abbreviations: B0\\u202f=\\u202fthe first beep sound to move subjects' arm; B4\\u202f=\\u202fthe second beep sound to return subjects' arm to the start position from the target (4\\u202fs after the first beep sound); M0\\u202f=\\u202fthe movement onset time (5% of the peak acceleration); MEnd\\u202f=\\u202fthe movement termination time; M2\\u202f=\\u202f2\\u202fs after the movement onset time; M−1\\u202f=\\u202f1\\u202fs before movement onset; M−2\\u202f=\\u202f2\\u202fs before movement onset.Beta-band oscillations in the supplementary motor cortex are modulated by levodopa and associated with functional activity in the basal gangliaNeuroimage Clin. 2018;19:559-571.Fig. 3Bar graphs for the task performance variables. A and B show bar graphs of average peak displacement for group comparison and medication condition in the patient group. C and D show bar graphs of average peak velocity and E and F show bar graphs of average integrated EMG (iEMG) in the movement initiation phase. Asterisks indicate significant group effects or medication effects at FDR-corrected p-value\\u202f<\\u202f0.05. All error bars represent standard error (NHC\\u202f=\\u202f15, and NPD\\u202f=\\u202f15). Abbreviations: iEMG\\u202f=\\u202fintegrated EMG, PD-ON\\u202f=\\u202fPD taking levodopa; PD-OFF\\u202f=\\u202fPD off levodopa overnight.Beta-band oscillations in the supplementary motor cortex are modulated by levodopa and associated with functional activity in the basal gangliaNeuroimage Clin. 2018;19:559-571.Fig. 4Measure projection analysis (MPA) of the event-related spectral perturbation (ERSP) measure and time-frequency contrast statistical plot (Group comparison between healthy control and PD groups). A displays 3D representation of the brain area of ERSP domains on the MNI brain template. B shows anatomical localization of each domain. C shows ERSP measures from the supplementary motor area (i.e. Red blocks, Domain 1 in A) on each group and time-frequency contrast statistical plot. The x-axis denotes time (ms) with M0 representing movement onset, −300 representing 300\\u202fms before movement onset and 150 representing 150\\u202fms after movement onset. The logarithmic y-axis depicts frequencies from 3 to 50\\u202fHz. The plots are color scaled based on decibel where positive values are warm colors and negative values are cool colors. In the right plot which shows statistical group differences, red color indicates statistically greater decibel values (i.e. HC\\u202f>\\u202fPD) whereas blue indicates lower decibel values (i.e. HC\\u202f<\\u202fPD). The green regions indicate non-significant areas of the plot. The statistical results were FDR corrected p\\u202f<\\u202f0.05.Beta-band oscillations in the supplementary motor cortex are modulated by levodopa and associated with functional activity in the basal gangliaNeuroimage Clin. 2018;19:559-571.Fig. 5Measure projection analysis (MPA) of the event-related spectral perturbation (ERSP) measure and time-frequency contrast statistical plot (levodopa medication condition comparison in the PD group). A displays 3D representation of the brain area of ERSP domains on the MNI brain template. B shows anatomical localization of each domain. C and D show ERSP measures from Domain 1 and Domain 2 on each condition in PD group and time-frequency contrast statistical plots. The x-axis denotes time (ms) with M0 representing movement onset, −300 representing 300\\u202fms before movement onset and 150 representing 150\\u202fms after movement onset. The logarithmic y-axis depicts frequencies from 3 to 50\\u202fHz. The plots are color scaled based on decibel where positive values are warm colors and negative values are cool colors. In the right plot which shows statistical levodopa medication condition differences in the PD group, red color indicates statistically greater decibel values (i.e. ON-Medication condition\\u202f>\\u202fOFF-Medication condition) whereas blue indicates lower decibel values (i.e. ON-Medication condition\\u202f<\\u202fOFF-Medication condition). The green regions indicate non-significant areas of the plots. The statistical results were FDR corrected p\\u202f<\\u202f0.05.Beta-band oscillations in the supplementary motor cortex are modulated by levodopa and associated with functional activity in the basal gangliaNeuroimage Clin. 2018;19:559-571.Fig. 6Linear regression between average peak velocity during the task and beta-band spectral power after movement onset in the PD group. A and B show the linear regression for 13 patients with PD in Domain 1. C and D show the linear regression for 11 patients with PD in Domain 2. A and C are PD group off medication and B and D are PD group on medication.Beta-band oscillations in the supplementary motor cortex are modulated by levodopa and associated with functional activity in the basal gangliaNeuroimage Clin. 2018;19:559-571.Fig. 7Linear regression between fMRI BOLD signals in both the contralateral putamen and STN and the differences between levodopa medication conditions in the beta-band spectral power. A and B show the linear regression for 13 patients with PD in Domain 1. C and D show the linear regression for 11 patients with PD in Domain 2. A and C show putamen BOLD signal predicts the effects of levodopa medication on the beta-band spectral power after the movement onset. B and D show STN BOLD signal predicts the effects of levodopa medication on the beta-band spectral power after movement onset.Beta-band oscillations in the supplementary motor cortex are modulated by levodopa and associated with functional activity in the basal gangliaNeuroimage Clin. 2018;19:559-571.LinkOut - more resourcesFull Text SourcesElsevier ScienceEurope PubMed CentralPubMed CentralMiscellaneousNCI CPTAC Assay PortalNCI CPTAC Assay PortalNCI CPTC Antibody Characterization Program\", \"Neurology. 2018 Jul 10;91(2):103. doi: 10.1212/WNL.0000000000005766.Editors' note: A predictive model to identify Parkinson disease from administrative claims data.Alcauskas M, Galetta S.PMID: 29987181 DOI: 10.1212/WNL.0000000000005766 ShareLinkOut - more resourcesFull Text SourcesHighWireOvid Technologies, Inc.\", \"Parkinsonism Relat Disord. 2018 Jun 27. pii: S1353-8020(18)30290-6. doi: 10.1016/j.parkreldis.2018.06.028. [Epub ahead of print]Inflammatory bowel disease and risk of Parkinson's disease in medicare beneficiaries.Camacho-Soto A1, Searles Nielsen S2, Racette BA3.Author information1Department of Neurology, Washington University School of Medicine, St. Louis, Missouri, United States. Electronic address: acamacho-soto@wustl.edu.2Department of Neurology, Washington University School of Medicine, St. Louis, Missouri, United States.3Department of Neurology, Washington University School of Medicine, St. Louis, Missouri, United States; School of Public Health, Faculty of Health Sciences, University of the Witwatersrand, Johannesburg, South Africa.KEYWORDS: Inflammatory bowel disease; Parkinson's diseasePMID: 29983328 DOI: 10.1016/j.parkreldis.2018.06.028 SharePublication typePublication typeLetterLinkOut - more resourcesFull Text SourcesElsevier ScienceClinicalKey\", \"J Tradit Complement Med. 2018 Apr 30;8(3):420-427. doi: 10.1016/j.jtcme.2017.11.001. eCollection  2018 Jul.Bioactive constituents from cinnamon, hemp seed and polygonum cuspidatum protect against H2O2 but not rotenone toxicity in a cellular model of Parkinson's disease.Maiolo SA1, Fan P2, Bobrovskaya L1.Author information1School of Pharmacy and Medical Sciences, Sansom Institute for Health Research, University of South Australia, Adelaide, SA 5000, Australia.2Department of Natural Product Chemistry, Key Laboratory of Chemical Biology of Ministry of Education, School of Pharmaceutical Sciences, Shandong University, Jinan 250012, China.AbstractMitochondrial dysfunction and oxidative stress are two factors that are thought to contribute to the pathogenesis of Parkinson's disease (PD), a debilitating progressive neurodegenerative disorder that results in the loss of catecholamine producing cells throughout specific regions of the brain. In this study we aimed to compare the effects of hydrogen peroxide (H2O2) and rotenone (a pesticide and mitochondrial complex 1 inhibitor) on cell viability and the expression of tyrosine hydroxylase (TH) in a cellular model of PD. We also sought to investigate the potential neuroprotective benefits of bioactive constituents from cinnamon, hemp seed and polygonum cuspidatum. To create a model, SH-SY5Y cells transfected with human TH isoform 1 were treated with varying concentrations of H2O2 and rotenone, in the presence or absence of bioactive constituents. The effect of these toxins and constituents on cell viability, apoptosis and protein expression was assessed using MTT viability assays and western blotting. Rotenone treatment caused a significant decrease in cell viability but a significant increase in TH in the remaining cells. H2O2 treatment caused a significant decrease in cell viability but had no significant effect on TH expression. Curcumin, cinnamaldehyde, caffeoyltyramide (hemp seed extract) and piceatannol glucoside (polygonum cuspidatum extract) were unable to attenuate rotenone induced cell death, however they were able to provide protection against H2O2 induced cell death. This is the first study to demonstrate the neuroprotective properties of cinnamaldehyde, caffeoyltyramide and piceatannol glucoside in a dopaminergic cell line in response to H2O2.KEYWORDS: Cinnamon; DA, Dopamine; DMSO, Dimethyl sulfoxide; GSH, Glutathione; H2O2, Hydrogen peroxide; Hemp seed; MPTP, 1-methyl-4-phenyl-1,2,3,6-tetra hydropyridine; MTT, Methylthiazolyldiphenyl-tetrazolium bromide; Oxidative stress; PARP-1, Poly (ADP-ribose) polymerase-1; PBS, Phosphate buffered saline; PD, Parkinson's disease; Parkinson's disease; Polygonum cuspidatum; ROS, Reactive oxygen species; Rotenone; SDS, Sodium dodecyl sulphate; TH, Tyrosine hydroxylase; tTH, Total THPMID: 29989058 PMCID: PMC6035308 DOI: 10.1016/j.jtcme.2017.11.001 ShareLinkOut - more resourcesFull Text SourcesElsevier ScienceMiscellaneousNCI CPTC Antibody Characterization Program\", 'IEEE Trans Biomed Eng. 2017 Dec 20. doi: 10.1109/TBME.2017.2785625. [Epub ahead of print]Modeling, Detecting, and Tracking Freezing of Gait in Parkinson Disease using Inertial Sensors.Prateek GV, Skog I, McNeely ME, Duncan RP, Earhart GM, Nehorai A.AbstractIn this paper, we develop new methods to automatically detect the onset and duration of freezing of gait (FOG) in people with Parkinson disease (PD) in real-time, using inertial sensors. We first build a physical model that describes the trembling motion during the FOG events. Then, we design a generalized likelihood ratio test framework to develop a two-stage detector for determining the zero-velocity and trembling events during gait. Thereafter, to filter out falsely detected FOG events, we develop a point-process filter that combines the output of the detectors with information about the speed of the foot, provided by a foot-mounted inertial navigation system. We computed the probability of FOG (pFOG) by using the point-process filter to determine the onset and duration of the FOG event. Finally, we validate the performance of the proposed system design using real data obtained from people with PD who performed a set of gait tasks. We compare our FOG detection results with an existing method that only uses accelerometer data. The results indicate that our method yields 81.03% accuracy in detecting FOG events, and a three-fold decrease in the false-alarm rate relative to the existing method.PMID: 29989948 DOI: 10.1109/TBME.2017.2785625 ShareLinkOut - more resourcesFull Text SourcesIEEE Engineering in Medicine and Biology Society', \"Acta Neurol Scand. 2018 Jul 10. doi: 10.1111/ane.12996. [Epub ahead of print]LRRK2 G2019S Parkinson's disease with more benign phenotype than idiopathic.Ben Romdhan S1,2,3, Farhat N1, Nasri A4, Lesage S2, Hdiji O1, Ben Djebara M4, Landoulsi Z4, Stevanin G2,3, Brice A2, Damak M1, Gouider R4, Mhiri C1.Author information1Laboratory of Neurogenetics, Parkinson's Disease and Cerebrovascular Disease, University Hospital Habib Bourguiba, Sfax, Tunisia.2Institut du Cerveau et de la Moelle épinière, INSERM U1127, Sorbonne Université, UPMC Paris VI Univ. UMR_S1127, CNRS UMR 7225, Paris, France.3École Pratique des Hautes Études EPHE, PSL Research University, Paris, France.4Department of Neurology, University Hospital Razi, Tunis, Mannouba, Tunisia.AbstractOBJECTIVES: The LRRK2-G2019S mutation is the most common cause of Parkinson's disease (PD) in North Africa. G2019S-PD has been described as similar to idiopathic with minor clinical differences. The aim of this study was to determine the G2019S-related phenotype and to investigate gender and gene dosage effects on clinical features of G2019S carriers.PATIENTS AND METHODS: The G2019S mutation was screened in 250 Tunisian patients with PD. Twenty-four patients carrying mutations in other PD genes were excluded. Logistic regression models were used to compare clinical features between the studied groups.RESULTS: G2019S carriers (107 cases) and non-carriers (119 cases) were similar in disease duration, levodopa doses, and gender and phenotype distributions. However, carriers had a younger age at examination, higher level of education, and were more likely to report family history of PD and to develop PD at earlier age (P\\xa0=\\xa00.017). Adjusted for age, sex, disease duration, levodopa-equivalent dose and educational level, MMSE scores remained significantly higher (adjust P\\xa0=\\xa00.019) and UPDRS-III scores were lower (adjust P\\xa0=\\xa00.012) in the G2019S carriers than non-carriers. Demographic characteristics of men and women with G2019S mutation were similar, but men had higher level of education, better cognition (adjust P-value for educational level\\xa0=\\xa00.042) and less tendency towards depression than females (adjust P\\xa0=\\xa00.046). Furthermore, PD phenotype did not differ between the homozygous and heterozygous G2019S carriers.CONCLUSION: In this study, G2019S carriers had a more benign phenotype than non-carriers. Cognitive impairment and depression were less common in G2019S male carriers compared with females. In addition, we found that LRRK2 gene dosage does not influence the severity of PD.© 2018 John Wiley & Sons A/S. Published by John Wiley & Sons Ltd.KEYWORDS: G2019S mutation; Parkinson's disease; phenotypePMID: 29989150 DOI: 10.1111/ane.12996 ShareLinkOut - more resourcesFull Text SourcesWiley\", \"Psychogeriatrics. 2018 Jul 10. doi: 10.1111/psyg.12333. [Epub ahead of print]Personal computer-based cognitive training in Parkinson's disease: a case study.Maggio MG1, De Luca R1, Maresca G1, Di Lorenzo G1, Latella D1, Calabro RS1, Bramanti A1.Author information1Institute of Research and Care, Neurolesi Center 'Bonino-Pulejo', Messina, Italy.AbstractParkinson's disease (PD) is a neurodegenerative disorder that is best managed by a combination of medication and regular physiotherapy. PD's main symptoms involve the motor system, but cognitive disorders can be very severe as well. The aim of this study was to evaluate the effects of the computerized rehabilitative tool Esercizi di Riabilitazione Cognitiva (ERICA) in the cognitive recovery of a patient with PD. The patient was a 65-year-old man affected by PD with motor complications and severe cognitive and behavioural alterations. He underwent two different types of intensive rehabilitation training: standard cognitive rehabilitation alone and in combination with specific personal computer (PC)-based cognitive training. We evaluated his neuropsychological profile before and after the two types of training by using a specific psychometric battery. Only at the end of the PC training did we observe improvement in cognitive function as well as mood stabilization. When used in addition to standard cognitive rehabilitation, PC-based cognitive training may be a valuable tool in improving cognitive skills, with regard to attention, memory process, and executive functions. PC-based cognitive training may be able to help optimize managing the symptoms of PD.KEYWORDS: PC-based cognitive training; Parkinson's disease; cognitive rehabilitationPMID: 29987868 DOI: 10.1111/psyg.12333 SharePublication typePublication typeCase ReportsLinkOut - more resourcesFull Text SourcesWiley\", \"J Mol Med (Berl). 2018 Jul 9. doi: 10.1007/s00109-018-1668-z. [Epub ahead of print]Inflammation: a highly conserved, Janus-like phenomenon-a gastroenterologist' perspective.Ribaldone DG1, Pellicano R2, Actis GC3.Author information1Department of Medical Sciences, Division of Gastroenterology, University of Torino, C.so Bramante 88, 10126, Turin, Italy. davrib_1998@yahoo.com.2Department of General and Specialist Medicine, Gastroenterologia-U, Molinette Hospital, Turin, Italy.3The Medical Center Practice Office, Turin, Italy.AbstractInflammation is the result of the loss of host's resilience towards the surrounding world. At gross tissue level, inflammation coincides with fluid leakage from vessels, swelling, and blood stasis and extravasation of mononuclear/macrophage cells. Biochemically, these events lead to anoxia and dramatic changes: interruption of the mitochondrial oxidative phosphorylation, influx of the M1 macrophage subset, which live on anaerobic glycolysis. Fall of ATP then leads to energy shortage and debt. In their chronic forms, these phenomena are now known to mark a number of degenerative disorders that have invaded the Western World since the last century: Parkinson's disease, Alzheimer's syndromes, rheumatic diseases, metabolic diseases. Intriguingly, these affections seem to derive from the gut, along two possible pathways. A sort of ascending loss of function caused by accumulation of (and hyperreactivity to) proteins released to restrain spread of enteric viruses: the alpha-synucleins, now increasingly spotted in relation to Parkinson's pathogenesis. The second pathway would entail the intellectual decline perhaps brought about by large use of food containing the proteins of red processed meat. The bacterium Bilophila wadsworthia, thriving in this meat, can erode the mucus layer on colon surfaces, allowing further bacterial flora to approach lining cells, so upgrading the alarm state. We discuss two strategies to prevent such instability from ending up to full-blown inflammatory bowel disease: physical exercise and systematic switch to fibre-containing diets.KEYWORDS: Diet; Inflammation; Inflammatory bowel diseases; Metabolic diseases; Parkinson; Rheumatic diseasesPMID: 29987405 DOI: 10.1007/s00109-018-1668-z SharePublication typePublication typeReviewLinkOut - more resourcesFull Text SourcesSpringer\", 'Neurology. 2018 Jul 10;91(2):97. doi: 10.1212/WNL.0000000000005780.Deliberate gait scissoring to overcome freezing of gait in Parkinson disease.Nonnekes J1, Bloem BR2.Author information1From the Departments of Rehabilitation (J.N.) and Neurology (B.R.B.), Donders Institute for Brain, Cognition and Behaviour, Radboud University Medical Centre, Nijmegen, the Netherlands. jorik.nonnekes@radboudumc.nl.2From the Departments of Rehabilitation (J.N.) and Neurology (B.R.B.), Donders Institute for Brain, Cognition and Behaviour, Radboud University Medical Centre, Nijmegen, the Netherlands.PMID: 29987176 DOI: 10.1212/WNL.0000000000005780 ShareLinkOut - more resourcesFull Text SourcesHighWireOvid Technologies, Inc.', \"BMJ Open. 2018 Jul 7;8(7):e020821. doi: 10.1136/bmjopen-2017-020821.Does nephrotic syndrome without chronic kidney disease increase the risk of Parkinson's disease and secondary parkinsonism? A nationwide population-based study in Taiwan.Huang ZH1,2, Chen HC1, Chou YC3, Lin CL4,5, Kao CH6,7, Lo HY8, Yang TY#9, Liu FC#1.Author information1Division of Rheumatology, Immunology and Allergy, Department of Medicine, Tri-Service General Hospital, National Defense Medical Center, Taipei, Taiwan.2Division of Rheumatology, Immunology and Allergy, Department of Medicine, Kaohsiung Armed Forces General Hospital, Kaohsiung, Taiwan.3Department of Health Promotion and Health Education, National Defense Medical Center, Taipei, Taiwan.4School of Medicine, China Medical University, Taichung, Taiwan.5Management Office for Health Data, China Medical University Hospital, Taichung, Taiwan.6Department of Nuclear Medicine and PET Center, China Medical University Hospital, Taichung, Taiwan.7Graduate Institute of Clinical Medicine Science and School of Medicine, College of Medicine, China Medical University, Taichung, Taiwan.8Graduate Institute of Chinese Medicine, China Medical University, Taichung, Taiwan.9Molecular and Genomic Epidemiology Center, China Medical University Hospital, Taichung, Taiwan.#Contributed equallyAbstractOBJECTIVES: Previous research has shown that patients with nephrotic syndrome (NS) have a higher risk of cognitive impairment, dementia or neurodegenerative disorder. The present study aimed to examine a relationship, if any exists between NS and Parkinson's disease (PD), a neurodegenerative disorder and secondary parkinsonism (sPS).METHODS: A nationwide retrospective observational study conducted using data from the 2000-2010 Taiwan National Health Insurance Research Database. This study included 3663 patients with NS and 14\\u2009652 randomly selected, age-matched and sex-matched patients without NS. A Cox multivariable proportional hazards model was used to evaluate the risk of PD and sPS (PDsPS) in the NS cohort.RESULTS: This study identified a positive association between NS and the risk of PDsPS in both men and women and in all age groups (adjusted HR 1.51; 95% CI 1.37 to 1.66). Compared with patients without NS and comorbidities, those with NS with two or more comorbidities exhibited an 8.23-fold higher risk of PDsPS (95%\\u2009CI 6.22 to 10.9) and patients with NS and one comorbidity exhibited a 2.93-fold higher risk of PDsPS (95%\\u2009CI 2.37 to 3.63).CONCLUSIONS: Patients with NS have an increased risk of PDsPS. This increased risk may be related to brain vascular damage or blood-brain barrier impairment. Further research is necessary to explore the underlying relationship between NS and PDsPS.© Author(s) (or their employer(s)) 2018. Re-use permitted under CC BY-NC. No commercial re-use. See rights and permissions. Published by BMJ.KEYWORDS: nephrotic syndrome; parkinson disease; proteinuriaPMID: 29982207 DOI: 10.1136/bmjopen-2017-020821 ShareConflict of interest statementCompeting interests: None declared.LinkOut - more resourcesFull Text SourcesHighWireMiscellaneousNCI CPTAC Assay PortalNCI CPTC Antibody Characterization Program\", \"Autophagy. 2018 Jul 10. doi: 10.1080/15548627.2018.1491489. [Epub ahead of print]The lysosomal membrane protein LAMP2A promotes autophagic flux and prevents SNCA-induced Parkinson disease-like symptoms in the Drosophila brain.Issa AR1, Sun J1, Petitgas C1, Mesquita A2, Dulac A1, Robin M3, Mollereau B3, Jenny A2, Chérif-Zahar B1, Birman S1.Author information1a Genes Circuits Rhythms and Neuropathology, Brain Plasticity Unit, CNRS, ESPCI Paris , PSL Research University , Paris , France.2b Albert Einstein College of Medicine , NY , US.3c ENSL, UCBL, CNRS, LBMC, UMS 3444 Biosciences Lyon Gerland Université de Lyon , 46 Allée d'Italie, F-69007, Lyon , France.AbstractThe autophagy-lysosome pathway plays a fundamental role in the clearance of aggregated proteins and protection against cellular stress and neurodegenerative conditions. Alterations in autophagy processes, including macroautophagy and chaperone-mediated autophagy (CMA), have been described in Parkinson disease (PD). CMA is a selective autophagic process that depends on LAMP2A (Lysosomal associated membrane protein 2A), a mammal and bird-specific membrane glycoprotein that translocates cytosolic proteins containing a KFERQ-like peptide motif across the lysosomal membrane. Drosophila reportedly lack CMA and use endosomal microautophagy (eMI) as an alternative selective autophagic process. Here we report that neuronal expression of human LAMP2A protected Drosophila against starvation and oxidative stress, and delayed locomotor decline in aging flies without extending their lifespan. LAMP2A also prevented the progressive locomotor and oxidative defects induced by neuronal expression of PD-associated human SNCA (synuclein alpha) with alanine-to-proline mutation at position 30 (SNCAA30P). Using KFERQ-tagged fluorescent biosensors, we observed that LAMP2A expression stimulated selective autophagy in the adult brain and not in the larval fat body, but did not increase this process under starvation conditions. Noteworthy, we found that neurally expressed LAMP2A markedly upregulated levels of Drosophila Atg5, a key macroautophagy initiation protein, and of the Atg5-containing complex, and that it increased the density of Atg8a/LC3-positive puncta, which reflects the formation of autophagosomes. Furthermore, LAMP2A efficiently prevented accumulation of the autophagy defect marker Ref(2)P/p62 in the adult brain under acute oxidative stress. These results indicate that LAMP2A can promote autophagosome formation and potentiate autophagic flux in the Drosophila brain, leading to enhanced stress resistance and neuroprotection.KEYWORDS: Drosophila melanogaster; Parkinson disease model; autophagy-lysosome pathway; endosomal microautophagy; macroautophagy; neuroprotection; oxidative stress; synuclein alpha (SNCA)PMID: 29989488 DOI: 10.1080/15548627.2018.1491489 ShareLinkOut - more resourcesFull Text SourcesTaylor & Francis\", 'Stroke. 2018 Jul 9. pii: STROKEAHA.118.021964. doi: 10.1161/STROKEAHA.118.021964. [Epub ahead of print]Association of Low Lysosomal Enzymes Activity With Brain Arterial Dilatation: A Pilot Study.Shah H1, Liong C2, Levy OA2, Waters C2, Fahn S2, Marder K2, Kang UJ2, Wolf P3, Oliva P3, Zhang K3, Alcalay RN4, Gutierrez J2.Author information1From the College of Medicine, University of Florida, Gainesville (H.S.).2Department of Neurology, Columbia University Medical Center, New York, NY (C.L., O.A.L., C.W., S.F., K.M., U.J.K., R.N.A., J.G.).3Global Translational Science, Sanofi, Framingham, MA (P.W., P.O., K.Z.).4Department of Neurology, Columbia University Medical Center, New York, NY (C.L., O.A.L., C.W., S.F., K.M., U.J.K., R.N.A., J.G.) rna2104@columbia.edu jg3233@cumc.columbia.edu.AbstractBACKGROUND AND PURPOSE: Absent or diminished α-galactosidase A (GLA) and acid α-glucosidase (GAA) enzyme activity are core features of Fabry and Pompe disease, respectively. Patients with Fabry or Pompe disease may have dilated intracranial arteries but whether lower GLA or GAA enzyme activity relates to brain arterial dilatation in other populations is unknown.METHODS: Participants included Parkinson disease patients and nonblood-related controls, whose GLA and GAA enzymatic activities were measured in dried blood spots. Independent readers measured the axial arterial diameter of the ascending portion of the cavernous internal carotid arteries and the most proximal segment of the basilar artery in T2 black voids. Linear regression models were built to investigate the relationship between brain arterial diameters and lysosomal enzymatic activities.RESULTS: The cohort included 107 participants (mean age, 66.5±10.3; 67% men). In an adjusted linear regression model, lower GLA activity was associated with larger brain arterial diameters (B=0.50±0.23, P=0.03). The strength of association was the greatest for the basilar artery diameter (B=0.80±0.33, P=0.02). Similarly, lower GAA activity was associated with an increased basilar arterial diameter (B=0.73±0.35, P=0.04).CONCLUSIONS: Lower GLA and GAA enzymatic activities were associated with larger brain arterial diameters, particularly the basilar artery diameter. Lower lysosomal enzymatic function in patients without Fabry or Pompe disease may play a role in brain arterial dilatation.© 2018 American Heart Association, Inc.KEYWORDS: dilatation; hypertension; inflammation; lysosomes; sphingolipidsPMID: 29986930 DOI: 10.1161/STROKEAHA.118.021964 ShareLinkOut - more resourcesFull Text SourcesHighWire - PDFWolters KluwerOvid Technologies, Inc.MiscellaneousNCI CPTAC Assay Portal', 'Mol Imaging Biol. 2018 Jul 9. doi: 10.1007/s11307-018-1217-8. [Epub ahead of print]Quantitative Intensity Harmonization of Dopamine Transporter SPECT Images Using Gamma Mixture Models.Llera A1, Huertas I2,3, Mir P4, Beckmann CF1,5,6.Author information1Donders Centre for Cognitive Neuroimaging, Donders Institute for Brain, Cognition and Behaviour, Radboud University, Nijmegen, The Netherlands.2Donders Centre for Cognitive Neuroimaging, Donders Institute for Brain, Cognition and Behaviour, Radboud University, Nijmegen, The Netherlands. ismhuefer@gmail.com.3Unidad de Trastornos del Movimiento, Servicio de Neurología y Neurofisiología Clínica, Instituto de Biomedicina de Sevilla (IBiS), Hospital Universitario Virgen del Rocío/CSIC/Universidad de Sevilla, Avda. Manuel Siurot s/n., 41013, Seville, Spain. ismhuefer@gmail.com.4Unidad de Trastornos del Movimiento, Servicio de Neurología y Neurofisiología Clínica, Instituto de Biomedicina de Sevilla (IBiS), Hospital Universitario Virgen del Rocío/CSIC/Universidad de Sevilla, Avda. Manuel Siurot s/n., 41013, Seville, Spain.5Department of Cognitive Neuroscience, Radboud University Medical Centre, Nijmegen, The Netherlands.6Oxford Centre for Functional Magnetic Resonance Imaging of the Brain (FMRIB), University of Oxford, Oxford, UK.AbstractPURPOSE: Differences in site, device, and/or settings may cause large variations in the intensity profile of dopamine transporter (DAT) single-photon emission computed tomography (SPECT) images. However, the current standard to evaluate these images, the striatal binding ratio (SBR), does not efficiently account for this heterogeneity and the assessment can be unequivalent across distinct acquisition pipelines. In this work, we present a voxel-based automated approach to intensity normalize such type of data that improves on cross-session interpretation.PROCEDURES: The normalization method consists of a reparametrization of the voxel values based on the cumulative density function (CDF) of a Gamma distribution modeling the specific region intensity. The harmonization ability was tested in 1342 SPECT images from the PPMI repository, acquired with 7 distinct gamma camera models and at 24 different sites. We compared the striatal quantification across distinct cameras for raw intensities, SBR values, and after applying the Gamma CDF (GDCF) harmonization. As a proof-of-concept, we evaluated the impact of GCDF normalization in a classification task between controls and Parkinson disease patients.RESULTS: Raw striatal intensities and SBR values presented significant differences across distinct camera models. We demonstrate that GCDF normalization efficiently alleviated these differences in striatal quantification and with values constrained to a fixed interval [0, 1]. Also, our method allowed a fully automated image assessment that provided maximal classification ability, given by an area under the curve (AUC) of AUC\\u2009=\\u20090.94 when used mean regional variables and AUC\\u2009=\\u20090.98 when used voxel-based variables.CONCLUSION: The GCDF normalization method is useful to standardize the intensity of DAT SPECT images in an automated fashion and enables the development of unbiased algorithms using multicenter datasets. This method may constitute a key pre-processing step in the analysis of this type of images.KEYWORDS: Dopamine transporter; Gamma distribution; Intensity normalization; Multicenter studies; PPMI; SPECTPMID: 29987621 DOI: 10.1007/s11307-018-1217-8 ShareGrant supportGrant supportFI14/00497/PFIS doctoral programme/MV15/00034/M-AES mobility fellowship/098369/Z/12/Z/Wellcome Trust UK Strategic Award/NWO- Vidi 864-12-003/Stichting voor de Technische Wetenschappen/PI16/01575/Instituto de Salud Carlos III/LinkOut - more resourcesFull Text SourcesElsevier ScienceSpringerMiscellaneousNCI CPTC Antibody Characterization Program', 'Int J Geriatr Psychiatry. 2018 Jul 8. doi: 10.1002/gps.4934. [Epub ahead of print]Age-dependent determinants of antipsychotic use among newly admitted residents of skilled nursing facilities: A population-based study.Jester DJ1, Hyer K1, Molinari V1, Andel R1, Rozek E2.Author information1Florida Policy Exchange Center on Aging, School of Aging Studies, University of South Florida, Tampa, FL, USA.2Department of Psychology, University of Wisconsin - La Crosse, La Crosse, WI, USA.AbstractOBJECTIVES: To assess factors related to antipsychotic (AP) use in skilled nursing facilities for newly admitted residents aged 18 to 49, 50 to 64, 65 to 84, and 85\\xa0years or older.METHODS: Retrospective, population-level, Minimum Data Set (MDS) 2.0 data from the United States during the year of 2009 were used. Over 1 million residents were included. Fourteen clinically relevant variables were identified through a literature search. Antipsychotic use was defined as APs dispensed daily for the prior 7\\xa0days. Logistic regression was used to identify clinically relevant variables, which were then ranked based on magnitude of their association with APs.RESULTS: Bipolar disorder and schizophrenia were consistently related to AP use across age groups. For older age groups, off-label indications such as cognitive impairment, dementia, behavioral symptoms, and physical restraint use were more closely related to AP use, while delusions and hallucinations decreased in strength. Higher proportions of APs were found in all diseases and symptoms in nonelderly adults, with the exception of physical restraint use. Concurrent physical restraint and AP use was highest for older adults aged 65 to 84 at 36%.CONCLUSIONS: Correlates of AP use varied by age, with stronger associations between on-label conditions and AP use among younger adults and off-label conditions among older adults. Several less conventional determinants, namely, Parkinson disease, traumatic brain injury, and the use of physical restraints were identified to increase the likelihood of AP use. This study highlights the importance of monitoring for adverse effects for residents of all ages.© 2018 John Wiley & Sons, Ltd.KEYWORDS: age differences; antipsychotic prescription; nursing home; off-labelPMID: 29984493 DOI: 10.1002/gps.4934 ShareLinkOut - more resourcesFull Text SourcesWileyMiscellaneousNCI CPTAC Assay PortalNCI CPTAC Assay PortalNCI CPTC Antibody Characterization Program']]}\n"
     ]
    }
   ],
   "source": [
    "article_dict[\"title\"].append(title)\n",
    "article_dict[\"abstract\"].append(abstract)\n",
    "print(article_dict)"
   ]
  },
  {
   "cell_type": "markdown",
   "metadata": {},
   "source": [
    "## Save article_dict to json"
   ]
  },
  {
   "cell_type": "code",
   "execution_count": 74,
   "metadata": {
    "collapsed": true
   },
   "outputs": [],
   "source": [
    "import json"
   ]
  },
  {
   "cell_type": "code",
   "execution_count": 75,
   "metadata": {},
   "outputs": [
    {
     "data": {
      "text/plain": [
       "53904"
      ]
     },
     "execution_count": 75,
     "metadata": {},
     "output_type": "execute_result"
    }
   ],
   "source": [
    "json = json.dumps(article_dict)\n",
    "f = open(\"parkinsons.json\",\"w\")\n",
    "f.write(json)\n",
    "f.close()"
   ]
  },
  {
   "cell_type": "markdown",
   "metadata": {},
   "source": [
    "<br>\n",
    "<br>\n",
    "<br>"
   ]
  }
 ],
 "metadata": {
  "kernelspec": {
   "display_name": "Python 3",
   "language": "python",
   "name": "python3"
  },
  "language_info": {
   "codemirror_mode": {
    "name": "ipython",
    "version": 3
   },
   "file_extension": ".py",
   "mimetype": "text/x-python",
   "name": "python",
   "nbconvert_exporter": "python",
   "pygments_lexer": "ipython3",
   "version": "3.6.3"
  }
 },
 "nbformat": 4,
 "nbformat_minor": 2
}
