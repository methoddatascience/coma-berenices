{
 "cells": [
  {
   "cell_type": "markdown",
   "metadata": {},
   "source": [
    "## Pub Med Scraper"
   ]
  },
  {
   "cell_type": "code",
   "execution_count": 1,
   "metadata": {
    "collapsed": true
   },
   "outputs": [],
   "source": [
    "# scrape dependencies\n",
    "import requests\n",
    "import re\n",
    "from bs4 import BeautifulSoup as bs\n",
    "\n",
    "# data analysis dependencies\n",
    "import pandas as pd\n",
    "import numpy as np\n",
    "import csv\n",
    "\n",
    "# ipynb dependencies\n",
    "from IPython.core.interactiveshell import InteractiveShell\n",
    "InteractiveShell.ast_node_interactivity = \"all\"\n",
    "import warnings\n",
    "warnings.filterwarnings('ignore')\n",
    "\n",
    "# viz dependencies\n",
    "%matplotlib inline\n",
    "import matplotlib.pyplot as plt\n",
    "import seaborn as sns\n",
    "plt.style.use('fivethirtyeight')\n",
    "\n",
    "import datetime as dt\n",
    "import time"
   ]
  },
  {
   "cell_type": "code",
   "execution_count": 2,
   "metadata": {},
   "outputs": [
    {
     "name": "stdout",
     "output_type": "stream",
     "text": [
      "https://www.ncbi.nlm.nih.gov/pubmed/?term=parkinsons+disease\n"
     ]
    }
   ],
   "source": [
    "# set the url to scrape\n",
    "url = 'https://www.ncbi.nlm.nih.gov/pubmed/?term=parkinsons+disease'\n",
    "print(url)"
   ]
  },
  {
   "cell_type": "code",
   "execution_count": 3,
   "metadata": {
    "collapsed": true
   },
   "outputs": [],
   "source": [
    "# set up beautiful soup to scrape\n",
    "response = requests.get(url)\n",
    "soup = bs(response.text, 'html.parser')"
   ]
  },
  {
   "cell_type": "code",
   "execution_count": 4,
   "metadata": {
    "collapsed": true
   },
   "outputs": [],
   "source": [
    "# lets scrape the article titles\n",
    "journals = soup.find_all(\"p\", attrs={'class':'title'})"
   ]
  },
  {
   "cell_type": "code",
   "execution_count": 5,
   "metadata": {},
   "outputs": [
    {
     "name": "stdout",
     "output_type": "stream",
     "text": [
      "There are 20 journals to scrape on the first page.\n"
     ]
    }
   ],
   "source": [
    "# searching for the journal titles\n",
    "journals_len = len(journals)\n",
    "print(f\"There are {journals_len} journals to scrape on the first page.\")"
   ]
  },
  {
   "cell_type": "code",
   "execution_count": 6,
   "metadata": {},
   "outputs": [
    {
     "data": {
      "text/plain": [
       "\"Trx-1 ameliorates learning and memory deficits in MPTP-induced Parkinson's disease model in mice.\""
      ]
     },
     "execution_count": 6,
     "metadata": {},
     "output_type": "execute_result"
    },
    {
     "data": {
      "text/plain": [
       "'Lipid vesicles affect the aggregation of 4-hydroxy-2-nonenal-modified α-synuclein oligomers.'"
      ]
     },
     "execution_count": 6,
     "metadata": {},
     "output_type": "execute_result"
    },
    {
     "data": {
      "text/plain": [
       "\"MANF protects dopamine neurons and locomotion defects from a human α-synuclein induced Parkinson's disease model in C. elegans by regulating ER stress and autophagy pathways.\""
      ]
     },
     "execution_count": 6,
     "metadata": {},
     "output_type": "execute_result"
    },
    {
     "data": {
      "text/plain": [
       "'Long-term evolution of patient-reported outcome measures in spinocerebellar ataxias.'"
      ]
     },
     "execution_count": 6,
     "metadata": {},
     "output_type": "execute_result"
    },
    {
     "data": {
      "text/plain": [
       "'Effects of deep brain stimulation on rest tremor progression in early stage Parkinson disease.'"
      ]
     },
     "execution_count": 6,
     "metadata": {},
     "output_type": "execute_result"
    },
    {
     "data": {
      "text/plain": [
       "\"Patients' shifting goals for deep brain stimulation and informed consent.\""
      ]
     },
     "execution_count": 6,
     "metadata": {},
     "output_type": "execute_result"
    },
    {
     "data": {
      "text/plain": [
       "'Glycosaminoglycans have variable effects on α-synuclein aggregation and differentially affect the activities of the resulting amyloid fibrils.'"
      ]
     },
     "execution_count": 6,
     "metadata": {},
     "output_type": "execute_result"
    },
    {
     "data": {
      "text/plain": [
       "'Association between attention-deficit/hyperactivity disorder and amyotrophic lateral sclerosis.'"
      ]
     },
     "execution_count": 6,
     "metadata": {},
     "output_type": "execute_result"
    },
    {
     "data": {
      "text/plain": [
       "\"The factors associated with impulse control behaviors in Parkinson's disease: A 2-year longitudinal retrospective cohort study.\""
      ]
     },
     "execution_count": 6,
     "metadata": {},
     "output_type": "execute_result"
    },
    {
     "data": {
      "text/plain": [
       "\"Evaluation of Linguistic Markers of Word-Finding Difficulty and Cognition in Parkinson's Disease.\""
      ]
     },
     "execution_count": 6,
     "metadata": {},
     "output_type": "execute_result"
    },
    {
     "data": {
      "text/plain": [
       "'Implementation and evaluation of Parkinson disease management in an outpatient clinical pharmacist-run neurology telephone clinic.'"
      ]
     },
     "execution_count": 6,
     "metadata": {},
     "output_type": "execute_result"
    },
    {
     "data": {
      "text/plain": [
       "'Treatment of psychotic symptoms in patients with Parkinson disease.'"
      ]
     },
     "execution_count": 6,
     "metadata": {},
     "output_type": "execute_result"
    },
    {
     "data": {
      "text/plain": [
       "'Pimavanserin (Nuplazid™) for the treatment of Parkinson disease psychosis: A review of the literature.'"
      ]
     },
     "execution_count": 6,
     "metadata": {},
     "output_type": "execute_result"
    },
    {
     "data": {
      "text/plain": [
       "'Drug-induced parkinsonism: A case report.'"
      ]
     },
     "execution_count": 6,
     "metadata": {},
     "output_type": "execute_result"
    },
    {
     "data": {
      "text/plain": [
       "'Evidence for the use of \"medical marijuana\" in psychiatric and neurologic disorders.'"
      ]
     },
     "execution_count": 6,
     "metadata": {},
     "output_type": "execute_result"
    },
    {
     "data": {
      "text/plain": [
       "'Interaction between Monoamine Oxidase B Inhibitors and Selective Serotonin Reuptake Inhibitors.'"
      ]
     },
     "execution_count": 6,
     "metadata": {},
     "output_type": "execute_result"
    },
    {
     "data": {
      "text/plain": [
       "'Comparative Study of MRI Biomarkers in the Substantia Nigra to Discriminate Idiopathic Parkinson Disease.'"
      ]
     },
     "execution_count": 6,
     "metadata": {},
     "output_type": "execute_result"
    },
    {
     "data": {
      "text/plain": [
       "\"Visual hallucinations in dementia and Parkinson's disease: A qualitative exploration of patient and caregiver experiences.\""
      ]
     },
     "execution_count": 6,
     "metadata": {},
     "output_type": "execute_result"
    },
    {
     "data": {
      "text/plain": [
       "'Therapy With Mesenchymal Stem Cells in Parkinson Disease: History and Perspectives.'"
      ]
     },
     "execution_count": 6,
     "metadata": {},
     "output_type": "execute_result"
    },
    {
     "data": {
      "text/plain": [
       "'Level of uric acid and uric acid/creatinine ratios in correlation with stage of Parkinson disease.'"
      ]
     },
     "execution_count": 6,
     "metadata": {},
     "output_type": "execute_result"
    }
   ],
   "source": [
    "# loop through journals to print titles\n",
    "for i in range(0,20):\n",
    "    journals[i].text.strip()"
   ]
  },
  {
   "cell_type": "markdown",
   "metadata": {},
   "source": [
    "## Set main url to concat with pubmed ids"
   ]
  },
  {
   "cell_type": "code",
   "execution_count": 7,
   "metadata": {
    "scrolled": false
   },
   "outputs": [
    {
     "name": "stdout",
     "output_type": "stream",
     "text": [
      "https://www.ncbi.nlm.nih.gov/pubmed/\n"
     ]
    }
   ],
   "source": [
    "# set the main url that we will concatanate with the pubmed id\n",
    "main_url = 'https://www.ncbi.nlm.nih.gov/pubmed/'\n",
    "print(main_url)"
   ]
  },
  {
   "cell_type": "markdown",
   "metadata": {},
   "source": [
    "## Function to create array of links to scrape"
   ]
  },
  {
   "cell_type": "code",
   "execution_count": 8,
   "metadata": {
    "collapsed": true
   },
   "outputs": [],
   "source": [
    "# set empty links_all list to append to \n",
    "links_all = []\n",
    "\n",
    "# set pubmed ids list to append to\n",
    "pubmed_ids = []\n",
    "\n",
    "# set empty list to append scrape_links to\n",
    "scrape_links = []\n",
    "\n",
    "# function to get links\n",
    "def get_links(main_url):\n",
    "    \n",
    "    # use bs to scarpe p tags with class - title\n",
    "    links = soup.find_all(\"p\",attrs={'class':'title'})\n",
    "      \n",
    "    # testing to see how my links / journals to scrape\n",
    "    articles_to_scrape = len(links)\n",
    "    print(f\"There are {articles_to_scrape} articles to scrape.\")\n",
    "    print(\"----------------------------------------------\")\n",
    "    \n",
    "    # loop through links to convert to string\n",
    "    for i in range (len(links)):\n",
    "        links_all.append(str(links[i]))\n",
    "        print(links[i])\n",
    "        print(\"----------------------------------------------\")\n",
    "        \n",
    "    # slice through links_all to test\n",
    "    len(links_all)\n",
    "    links_all[1]\n",
    "    \n",
    "    # loop through links all and use regex to grab the id numbers\n",
    "    for i in range (len(links_all)):\n",
    "        pubmed_ids.append(re.findall(r'\\d{8}',links_all[i]))\n",
    "    \n",
    "    # print out info for pubmed_ids\n",
    "    len(pubmed_ids)\n",
    "    type(pubmed_ids)\n",
    "    print(pubmed_ids)\n",
    "    print(\"----------------------------------------------\")\n",
    "    \n",
    "    # use itertools to transform pubmed ids from an array withn an array into one list\n",
    "    import itertools\n",
    "    pubmed_merged = list(itertools.chain.from_iterable(pubmed_ids))\n",
    "    \n",
    "    # slice through pubmed_merged to see what itertools did\n",
    "    pubmed_merged[0]\n",
    "    \n",
    "    # concat main_url with a slice of pubmed_merged before we loop\n",
    "    print(main_url + str(pubmed_merged[0]))\n",
    "    \n",
    "    # append merged links to links_all\n",
    "    for i in range (len(pubmed_merged)):\n",
    "        scrape_links.append(main_url + str(pubmed_merged[i]))"
   ]
  },
  {
   "cell_type": "code",
   "execution_count": 9,
   "metadata": {
    "scrolled": false
   },
   "outputs": [
    {
     "name": "stdout",
     "output_type": "stream",
     "text": [
      "There are 20 articles to scrape.\n",
      "----------------------------------------------\n",
      "<p class=\"title\" xmlns:mml=\"http://www.w3.org/1998/Math/MathML\"><a href=\"/pubmed/29960099\" ref=\"ordinalpos=1&amp;ncbi_uid=29960099&amp;link_uid=29960099&amp;linksrc=docsum_title\">Trx-1 ameliorates learning and memory deficits in MPTP-induced <b>Parkinson</b>'s <b>disease</b> model in mice.</a></p>\n",
      "----------------------------------------------\n",
      "<p class=\"title\" xmlns:mml=\"http://www.w3.org/1998/Math/MathML\"><a href=\"/pubmed/29960040\" ref=\"ordinalpos=2&amp;ncbi_uid=29960040&amp;link_uid=29960040&amp;linksrc=docsum_title\">Lipid vesicles affect the aggregation of 4-hydroxy-2-nonenal-modified α-synuclein oligomers.</a></p>\n",
      "----------------------------------------------\n",
      "<p class=\"title\" xmlns:mml=\"http://www.w3.org/1998/Math/MathML\"><a href=\"/pubmed/29959908\" ref=\"ordinalpos=3&amp;ncbi_uid=29959908&amp;link_uid=29959908&amp;linksrc=docsum_title\">MANF protects dopamine neurons and locomotion defects from a human α-synuclein induced <b>Parkinson</b>'s <b>disease</b> model in C. elegans by regulating ER stress and autophagy pathways.</a></p>\n",
      "----------------------------------------------\n",
      "<p class=\"title\" xmlns:mml=\"http://www.w3.org/1998/Math/MathML\"><a href=\"/pubmed/29959555\" ref=\"ordinalpos=4&amp;ncbi_uid=29959555&amp;link_uid=29959555&amp;linksrc=docsum_title\">Long-term evolution of patient-reported outcome measures in spinocerebellar ataxias.</a></p>\n",
      "----------------------------------------------\n",
      "<p class=\"title\" xmlns:mml=\"http://www.w3.org/1998/Math/MathML\"><a href=\"/pubmed/29959266\" ref=\"ordinalpos=5&amp;ncbi_uid=29959266&amp;link_uid=29959266&amp;linksrc=docsum_title\">Effects of deep brain stimulation on rest tremor progression in early stage <b>Parkinson disease</b>.</a></p>\n",
      "----------------------------------------------\n",
      "<p class=\"title\" xmlns:mml=\"http://www.w3.org/1998/Math/MathML\"><a href=\"/pubmed/29959262\" ref=\"ordinalpos=6&amp;ncbi_uid=29959262&amp;link_uid=29959262&amp;linksrc=docsum_title\">Patients' shifting goals for deep brain stimulation and informed consent.</a></p>\n",
      "----------------------------------------------\n",
      "<p class=\"title\" xmlns:mml=\"http://www.w3.org/1998/Math/MathML\"><a href=\"/pubmed/29959225\" ref=\"ordinalpos=7&amp;ncbi_uid=29959225&amp;link_uid=29959225&amp;linksrc=docsum_title\">Glycosaminoglycans have variable effects on α-synuclein aggregation and differentially affect the activities of the resulting amyloid fibrils.</a></p>\n",
      "----------------------------------------------\n",
      "<p class=\"title\" xmlns:mml=\"http://www.w3.org/1998/Math/MathML\"><a href=\"/pubmed/29958655\" ref=\"ordinalpos=8&amp;ncbi_uid=29958655&amp;link_uid=29958655&amp;linksrc=docsum_title\">Association between attention-deficit/hyperactivity disorder and amyotrophic lateral sclerosis.</a></p>\n",
      "----------------------------------------------\n",
      "<p class=\"title\" xmlns:mml=\"http://www.w3.org/1998/Math/MathML\"><a href=\"/pubmed/29956879\" ref=\"ordinalpos=9&amp;ncbi_uid=29956879&amp;link_uid=29956879&amp;linksrc=docsum_title\">The factors associated with impulse control behaviors in <b>Parkinson</b>'s <b>disease</b>: A 2-year longitudinal retrospective cohort study.</a></p>\n",
      "----------------------------------------------\n",
      "<p class=\"title\" xmlns:mml=\"http://www.w3.org/1998/Math/MathML\"><a href=\"/pubmed/29955824\" ref=\"ordinalpos=10&amp;ncbi_uid=29955824&amp;link_uid=29955824&amp;linksrc=docsum_title\">Evaluation of Linguistic Markers of Word-Finding Difficulty and Cognition in <b>Parkinson</b>'s <b>Disease</b>.</a></p>\n",
      "----------------------------------------------\n",
      "<p class=\"title\" xmlns:mml=\"http://www.w3.org/1998/Math/MathML\"><a href=\"/pubmed/29955562\" ref=\"ordinalpos=11&amp;ncbi_uid=29955562&amp;link_uid=29955562&amp;linksrc=docsum_title\">Implementation and evaluation of <b>Parkinson disease</b> management in an outpatient clinical pharmacist-run neurology telephone clinic.</a></p>\n",
      "----------------------------------------------\n",
      "<p class=\"title\" xmlns:mml=\"http://www.w3.org/1998/Math/MathML\"><a href=\"/pubmed/29955532\" ref=\"ordinalpos=12&amp;ncbi_uid=29955532&amp;link_uid=29955532&amp;linksrc=docsum_title\">Treatment of psychotic symptoms in patients with <b>Parkinson disease</b>.</a></p>\n",
      "----------------------------------------------\n",
      "<p class=\"title\" xmlns:mml=\"http://www.w3.org/1998/Math/MathML\"><a href=\"/pubmed/29955528\" ref=\"ordinalpos=13&amp;ncbi_uid=29955528&amp;link_uid=29955528&amp;linksrc=docsum_title\">Pimavanserin (Nuplazid™) for the treatment of <b>Parkinson disease</b> psychosis: A review of the literature.</a></p>\n",
      "----------------------------------------------\n",
      "<p class=\"title\" xmlns:mml=\"http://www.w3.org/1998/Math/MathML\"><a href=\"/pubmed/29955500\" ref=\"ordinalpos=14&amp;ncbi_uid=29955500&amp;link_uid=29955500&amp;linksrc=docsum_title\">Drug-induced parkinsonism: A case report.</a></p>\n",
      "----------------------------------------------\n",
      "<p class=\"title\" xmlns:mml=\"http://www.w3.org/1998/Math/MathML\"><a href=\"/pubmed/29955495\" ref=\"ordinalpos=15&amp;ncbi_uid=29955495&amp;link_uid=29955495&amp;linksrc=docsum_title\">Evidence for the use of \"medical marijuana\" in psychiatric and neurologic disorders.</a></p>\n",
      "----------------------------------------------\n",
      "<p class=\"title\" xmlns:mml=\"http://www.w3.org/1998/Math/MathML\"><a href=\"/pubmed/29955193\" ref=\"ordinalpos=16&amp;ncbi_uid=29955193&amp;link_uid=29955193&amp;linksrc=docsum_title\">Interaction between Monoamine Oxidase B Inhibitors and Selective Serotonin Reuptake Inhibitors.</a></p>\n",
      "----------------------------------------------\n",
      "<p class=\"title\" xmlns:mml=\"http://www.w3.org/1998/Math/MathML\"><a href=\"/pubmed/29954816\" ref=\"ordinalpos=17&amp;ncbi_uid=29954816&amp;link_uid=29954816&amp;linksrc=docsum_title\">Comparative Study of MRI Biomarkers in the Substantia Nigra to Discriminate Idiopathic <b>Parkinson Disease</b>.</a></p>\n",
      "----------------------------------------------\n",
      "<p class=\"title\" xmlns:mml=\"http://www.w3.org/1998/Math/MathML\"><a href=\"/pubmed/29953689\" ref=\"ordinalpos=18&amp;ncbi_uid=29953689&amp;link_uid=29953689&amp;linksrc=docsum_title\">Visual hallucinations in dementia and <b>Parkinson</b>'s <b>disease</b>: A qualitative exploration of patient and caregiver experiences.</a></p>\n",
      "----------------------------------------------\n",
      "<p class=\"title\" xmlns:mml=\"http://www.w3.org/1998/Math/MathML\"><a href=\"/pubmed/29953040\" ref=\"ordinalpos=19&amp;ncbi_uid=29953040&amp;link_uid=29953040&amp;linksrc=docsum_title\">Therapy With Mesenchymal Stem Cells in <b>Parkinson Disease</b>: History and Perspectives.</a></p>\n",
      "----------------------------------------------\n",
      "<p class=\"title\" xmlns:mml=\"http://www.w3.org/1998/Math/MathML\"><a href=\"/pubmed/29952939\" ref=\"ordinalpos=20&amp;ncbi_uid=29952939&amp;link_uid=29952939&amp;linksrc=docsum_title\">Level of uric acid and uric acid/creatinine ratios in correlation with stage of <b>Parkinson disease</b>.</a></p>\n",
      "----------------------------------------------\n",
      "[['29960099', '29960099', '29960099'], ['29960040', '29960040', '29960040'], ['29959908', '29959908', '29959908'], ['29959555', '29959555', '29959555'], ['29959266', '29959266', '29959266'], ['29959262', '29959262', '29959262'], ['29959225', '29959225', '29959225'], ['29958655', '29958655', '29958655'], ['29956879', '29956879', '29956879'], ['29955824', '29955824', '29955824'], ['29955562', '29955562', '29955562'], ['29955532', '29955532', '29955532'], ['29955528', '29955528', '29955528'], ['29955500', '29955500', '29955500'], ['29955495', '29955495', '29955495'], ['29955193', '29955193', '29955193'], ['29954816', '29954816', '29954816'], ['29953689', '29953689', '29953689'], ['29953040', '29953040', '29953040'], ['29952939', '29952939', '29952939']]\n",
      "----------------------------------------------\n",
      "https://www.ncbi.nlm.nih.gov/pubmed/29960099\n"
     ]
    }
   ],
   "source": [
    "# RUN FUNCTION\n",
    "get_links(main_url)"
   ]
  },
  {
   "cell_type": "markdown",
   "metadata": {},
   "source": [
    "<br>\n",
    "There are duplicates in our **scrape_links** array. Use `list` to delete the duplicates."
   ]
  },
  {
   "cell_type": "code",
   "execution_count": 10,
   "metadata": {},
   "outputs": [
    {
     "data": {
      "text/plain": [
       "20"
      ]
     },
     "execution_count": 10,
     "metadata": {},
     "output_type": "execute_result"
    },
    {
     "data": {
      "text/plain": [
       "['https://www.ncbi.nlm.nih.gov/pubmed/29955562',\n",
       " 'https://www.ncbi.nlm.nih.gov/pubmed/29959908',\n",
       " 'https://www.ncbi.nlm.nih.gov/pubmed/29955495',\n",
       " 'https://www.ncbi.nlm.nih.gov/pubmed/29953040',\n",
       " 'https://www.ncbi.nlm.nih.gov/pubmed/29952939',\n",
       " 'https://www.ncbi.nlm.nih.gov/pubmed/29959225',\n",
       " 'https://www.ncbi.nlm.nih.gov/pubmed/29956879',\n",
       " 'https://www.ncbi.nlm.nih.gov/pubmed/29959266',\n",
       " 'https://www.ncbi.nlm.nih.gov/pubmed/29955528',\n",
       " 'https://www.ncbi.nlm.nih.gov/pubmed/29955193',\n",
       " 'https://www.ncbi.nlm.nih.gov/pubmed/29960099',\n",
       " 'https://www.ncbi.nlm.nih.gov/pubmed/29960040',\n",
       " 'https://www.ncbi.nlm.nih.gov/pubmed/29958655',\n",
       " 'https://www.ncbi.nlm.nih.gov/pubmed/29954816',\n",
       " 'https://www.ncbi.nlm.nih.gov/pubmed/29953689',\n",
       " 'https://www.ncbi.nlm.nih.gov/pubmed/29959555',\n",
       " 'https://www.ncbi.nlm.nih.gov/pubmed/29955500',\n",
       " 'https://www.ncbi.nlm.nih.gov/pubmed/29955532',\n",
       " 'https://www.ncbi.nlm.nih.gov/pubmed/29955824',\n",
       " 'https://www.ncbi.nlm.nih.gov/pubmed/29959262']"
      ]
     },
     "execution_count": 10,
     "metadata": {},
     "output_type": "execute_result"
    }
   ],
   "source": [
    "# delete duplicates in scrape_links and assign to new variable scrape_links_final\n",
    "scrape_links_final = list(set(scrape_links))\n",
    "len(scrape_links_final)\n",
    "scrape_links_final"
   ]
  },
  {
   "cell_type": "markdown",
   "metadata": {},
   "source": [
    "## Main array of links to scrape:\n",
    "\n",
    "Here we use selenium to iterate through these links. Seleium will click on each link then scrape the title and abstracts on each page. "
   ]
  },
  {
   "cell_type": "code",
   "execution_count": 11,
   "metadata": {},
   "outputs": [
    {
     "name": "stdout",
     "output_type": "stream",
     "text": [
      "https://www.ncbi.nlm.nih.gov/pubmed/29955562\n",
      "https://www.ncbi.nlm.nih.gov/pubmed/29959908\n",
      "https://www.ncbi.nlm.nih.gov/pubmed/29955495\n",
      "https://www.ncbi.nlm.nih.gov/pubmed/29953040\n",
      "https://www.ncbi.nlm.nih.gov/pubmed/29952939\n",
      "https://www.ncbi.nlm.nih.gov/pubmed/29959225\n",
      "https://www.ncbi.nlm.nih.gov/pubmed/29956879\n",
      "https://www.ncbi.nlm.nih.gov/pubmed/29959266\n",
      "https://www.ncbi.nlm.nih.gov/pubmed/29955528\n",
      "https://www.ncbi.nlm.nih.gov/pubmed/29955193\n",
      "https://www.ncbi.nlm.nih.gov/pubmed/29960099\n",
      "https://www.ncbi.nlm.nih.gov/pubmed/29960040\n",
      "https://www.ncbi.nlm.nih.gov/pubmed/29958655\n",
      "https://www.ncbi.nlm.nih.gov/pubmed/29954816\n",
      "https://www.ncbi.nlm.nih.gov/pubmed/29953689\n",
      "https://www.ncbi.nlm.nih.gov/pubmed/29959555\n",
      "https://www.ncbi.nlm.nih.gov/pubmed/29955500\n",
      "https://www.ncbi.nlm.nih.gov/pubmed/29955532\n",
      "https://www.ncbi.nlm.nih.gov/pubmed/29955824\n",
      "https://www.ncbi.nlm.nih.gov/pubmed/29959262\n"
     ]
    }
   ],
   "source": [
    "# testing scrape_links\n",
    "for i in scrape_links_final:\n",
    "    print(i)"
   ]
  },
  {
   "cell_type": "markdown",
   "metadata": {},
   "source": [
    "## Regex Notes"
   ]
  },
  {
   "cell_type": "code",
   "execution_count": 12,
   "metadata": {
    "collapsed": true
   },
   "outputs": [],
   "source": [
    "# Regex\n",
    "# Identifiers:\n",
    "# \\d any number\n",
    "# \\D anything but a number\n",
    "# \\s space\n",
    "# \\S anything but a space\n",
    "# \\w any character\n",
    "# \\W anything but a character\n",
    "# . any character, except for a newline\n",
    "# \\b the whitespace around words\n",
    "# \\. a period\n",
    "\n",
    "# Modifiers:\n",
    "# {1,3} we're expecting 1-3 \\d{1-3}\n",
    "# + Match 1 or more\n",
    "# ? Match 0 or more\n",
    "# * Match 0 or more\n",
    "# $ Match the end of a string\n",
    "# ^ matching the beginning of a string\n",
    "# | either or\n",
    "# [] range or \"variance\" [A-Za-z] [1-5a-qA-Z]\n",
    "# {x} expecting \"x\" amount\n",
    "\n",
    "# White Space Characters: \n",
    "# \\n new line\n",
    "# \\s space\n",
    "# \\t tab\n",
    "# \\e escape\n",
    "# \\f form feed\n",
    "# \\r return\n",
    "\n",
    "# DONT FORGET!:\n",
    "# . + * [] $ ^ () {} | \\"
   ]
  },
  {
   "cell_type": "markdown",
   "metadata": {
    "collapsed": true
   },
   "source": [
    "## Selenium\n",
    "**Web Browser Automation**"
   ]
  },
  {
   "cell_type": "code",
   "execution_count": 13,
   "metadata": {
    "collapsed": true
   },
   "outputs": [],
   "source": [
    "from splinter import Browser\n",
    "from selenium import webdriver"
   ]
  },
  {
   "cell_type": "code",
   "execution_count": 14,
   "metadata": {
    "collapsed": true
   },
   "outputs": [],
   "source": [
    "# make sure chrome browser exe is in current directory\n",
    "# chrome browser exe is not necessary for MACS\n",
    "executable_path = {'executable_path': 'chromedriver'}"
   ]
  },
  {
   "cell_type": "markdown",
   "metadata": {},
   "source": [
    "## Set up dictionary to append data to"
   ]
  },
  {
   "cell_type": "code",
   "execution_count": 16,
   "metadata": {
    "collapsed": true
   },
   "outputs": [],
   "source": [
    "article_dict = {\"title\": [],\n",
    "               \"abstract\": []}"
   ]
  },
  {
   "cell_type": "code",
   "execution_count": 17,
   "metadata": {},
   "outputs": [
    {
     "data": {
      "text/plain": [
       "'https://www.ncbi.nlm.nih.gov/pubmed/29959262'"
      ]
     },
     "execution_count": 17,
     "metadata": {},
     "output_type": "execute_result"
    },
    {
     "data": {
      "text/plain": [
       "'https://www.ncbi.nlm.nih.gov/pubmed/29955824'"
      ]
     },
     "execution_count": 17,
     "metadata": {},
     "output_type": "execute_result"
    }
   ],
   "source": [
    "### use scrape_this to test scraper ###\n",
    "scrape_this = [\"https://www.ncbi.nlm.nih.gov/pubmed/29959262\",\"https://www.ncbi.nlm.nih.gov/pubmed/29955824\"]\n",
    "scrape_this[0]\n",
    "scrape_this[1]"
   ]
  },
  {
   "cell_type": "markdown",
   "metadata": {},
   "source": [
    "## Create get_article_info function"
   ]
  },
  {
   "cell_type": "code",
   "execution_count": 18,
   "metadata": {
    "collapsed": true
   },
   "outputs": [],
   "source": [
    "title = []\n",
    "abstract = []\n",
    "\n",
    "def get_article_info(scrape_this):\n",
    "    \n",
    "    # iterate through articles\n",
    "    for i in scrape_this:\n",
    "        \n",
    "        # sets up scraper\n",
    "        browser = Browser('chrome', headless=False)\n",
    "        html = browser.html\n",
    "        response2 = requests.get(i)\n",
    "        soup2 = bs(response2.text, 'html.parser')\n",
    "    \n",
    "        browser.visit(i)\n",
    "    \n",
    "        # there are two 'h1' tags on this page. slice out index 0\n",
    "        title_one = soup2.find_all('h1')\n",
    "        article_one_title = title_one[1].text.strip()\n",
    "    \n",
    "        # slice h1 at index 1 to grab article title\n",
    "        title.append(article_one_title)\n",
    "    \n",
    "        # get abstract\n",
    "        abstract.append(soup2.find(\"div\", attrs={'class': 'rprt_all'}).text.strip())     "
   ]
  },
  {
   "cell_type": "markdown",
   "metadata": {},
   "source": [
    "## Run article_info function"
   ]
  },
  {
   "cell_type": "code",
   "execution_count": 19,
   "metadata": {
    "collapsed": true
   },
   "outputs": [],
   "source": [
    "get_article_info(scrape_this)"
   ]
  },
  {
   "cell_type": "code",
   "execution_count": 20,
   "metadata": {},
   "outputs": [
    {
     "name": "stdout",
     "output_type": "stream",
     "text": [
      "Patients' shifting goals for deep brain stimulation and informed consent.\n",
      "Evaluation of Linguistic Markers of Word-Finding Difficulty and Cognition in Parkinson's Disease.\n"
     ]
    }
   ],
   "source": [
    "for i in title:\n",
    "    print(i)"
   ]
  },
  {
   "cell_type": "code",
   "execution_count": 21,
   "metadata": {},
   "outputs": [
    {
     "name": "stdout",
     "output_type": "stream",
     "text": [
      "Neurology. 2018 Jun 29. pii: 10.1212/WNL.0000000000005917. doi: 10.1212/WNL.0000000000005917. [Epub ahead of print]Patients' shifting goals for deep brain stimulation and informed consent.Kubu CS1, Frazier T2, Cooper SE2, Machado A2, Vitek J2, Ford PJ2.Author information1From the Center for Neurological Restoration (C.S.K.), Neuroethics Program (P.J.F.), Center for Pediatric Behavioral Health (T.F.), and Center for Neurological Restoration (A.M.), Cleveland Clinic, OH; and Department of Neurology (S.E.C., J.V.), University of Minnesota, Minneapolis. kubuc@ccf.org.2From the Center for Neurological Restoration (C.S.K.), Neuroethics Program (P.J.F.), Center for Pediatric Behavioral Health (T.F.), and Center for Neurological Restoration (A.M.), Cleveland Clinic, OH; and Department of Neurology (S.E.C., J.V.), University of Minnesota, Minneapolis.AbstractOBJECTIVE: To determine using a repeated-measures, prospective design whether deep brain stimulation (DBS) results in changes in the importance of symptom and behavioral goals individually identified by patients with Parkinson disease (PD) before DBS surgery.METHODS: Fifty-two participants recruited from a consecutive series completed a semistructured interview soliciting their rank-ordered symptom and behavioral goals and corresponding visual analog scales measuring perceived symptom severity and limits to goal attainment. Rank orders were reassessed at 2 times after DBS. Changes in rank order over time were examined with χ2 analyses. The relationships between change in symptom severity/limits to behavioral goal attainment and change in rank order were examined with mixed-effects linear regression models.RESULTS: Most participants changed the rank order of their symptom (81%) and behavioral (77%) goals 3 months after DBS surgery. Change in rank order of symptom goals was significantly related to change in severity ratings such that improvements in self-reported symptom severity were associated with reductions in rank. In contrast, no such relationship was evident for the behavioral goals.CONCLUSION: These data illustrate how patients' primary goals for DBS shift early in stimulation and highlight the important differences between symptom and behavioral goals. Changes in the rank order of symptom goals were related to changes in symptom severity, whereas subtler shifts in behavioral goals were unrelated to improvements after DBS. This observation suggests that DBS does not affect goals that may be more reflective of core personal values. The findings provide empiric data that can help improve the informed consent process.© 2018 American Academy of Neurology.PMID: 29959262 DOI: 10.1212/WNL.0000000000005917 Share\n",
      "\n",
      "\n",
      "J Speech Lang Hear Res. 2018 Jun 28:1-9. doi: 10.1044/2018_JSLHR-L-17-0304. [Epub ahead of print]Evaluation of Linguistic Markers of Word-Finding Difficulty and Cognition in Parkinson's Disease.Smith KM1,2, Ash S3, Xie SX4, Grossman M3.Author information1Parkinson Disease and Movement Disorders Center, Department of Neurology, Perelman School of Medicine at the University of Pennsylvania, Philadelphia.2Department of Neurology, University of Massachusetts Memorial Medical Center/UMass Medical School, Worcester.3Department of Neurology and the Penn Frontotemporal Degenerative Center, Perelman School of Medicine at the University of Pennsylvania, Philadelphia.4Department of Biostatistics and Epidemiology, Perelman School of Medicine at the University of Pennsylvania, Philadelphia.AbstractPurpose: Early cognitive symptoms such as word-finding difficulty (WFD) in daily conversation are common in Parkinson's disease (PD), but studies have been limited by a lack of feasible, quantitative measures. Linguistic analysis, focused on pauses in speech, may yield markers of impairment of cognition and communication in PD. The objective of this study was to evaluate the relationship of linguistic markers in semistructured speech to WFD symptoms and cognitive function in PD.Method: Speech recordings of description of the Cookie Theft picture in 53 patients with PD without dementia and 23 elderly controls were analyzed with Praat software. Montreal Cognitive Assessment (MoCA; Nasreddine et al., 2005), category naming fluency, and confrontation naming tests were administered. Questionnaires rating WFD symptoms and cognitive instrumental activities of daily living were completed. We determined the relationships between (a) pause length and location, (b) MoCA score, and (c) WFD symptoms, using Pearson's correlations and multivariate regression models.Results: Compared with controls, patients with PD had more pauses within utterances as well as fewer words per minute and a lower percentage of well-formed sentences. Pauses within utterances differed significantly between PD-mild cognitive impairment and normal cognition (p < .001). Words per minute and percentage of well-formed sentences were predictive of MoCA in multivariate regression models. Pauses before verbs were associated with patient-reported severity of WFD symptoms (p = .006).Conclusions: Linguistic markers including pauses within utterances distinguish patients with PD with mild cognitive symptoms from elderly controls. These markers are associated with global cognitive function before the onset of dementia. Pauses before verbs and grammatical markers may index early cognitive symptoms such as WFD that may interfere with functional communication.Supplemental Material: https://doi.org/10.23641/asha.6615401.PMID: 29955824 DOI: 10.1044/2018_JSLHR-L-17-0304 Share\n",
      "\n",
      "\n"
     ]
    }
   ],
   "source": [
    "for i in abstract:\n",
    "    print(i)\n",
    "    print(\"\\n\")"
   ]
  },
  {
   "cell_type": "markdown",
   "metadata": {},
   "source": [
    "## Add title and abstract to article_dict"
   ]
  },
  {
   "cell_type": "code",
   "execution_count": 22,
   "metadata": {},
   "outputs": [
    {
     "name": "stdout",
     "output_type": "stream",
     "text": [
      "{'title': [[\"Patients' shifting goals for deep brain stimulation and informed consent.\", \"Evaluation of Linguistic Markers of Word-Finding Difficulty and Cognition in Parkinson's Disease.\"]], 'abstract': [[\"Neurology. 2018 Jun 29. pii: 10.1212/WNL.0000000000005917. doi: 10.1212/WNL.0000000000005917. [Epub ahead of print]Patients' shifting goals for deep brain stimulation and informed consent.Kubu CS1, Frazier T2, Cooper SE2, Machado A2, Vitek J2, Ford PJ2.Author information1From the Center for Neurological Restoration (C.S.K.), Neuroethics Program (P.J.F.), Center for Pediatric Behavioral Health (T.F.), and Center for Neurological Restoration (A.M.), Cleveland Clinic, OH; and Department of Neurology (S.E.C., J.V.), University of Minnesota, Minneapolis. kubuc@ccf.org.2From the Center for Neurological Restoration (C.S.K.), Neuroethics Program (P.J.F.), Center for Pediatric Behavioral Health (T.F.), and Center for Neurological Restoration (A.M.), Cleveland Clinic, OH; and Department of Neurology (S.E.C., J.V.), University of Minnesota, Minneapolis.AbstractOBJECTIVE: To determine using a repeated-measures, prospective design whether deep brain stimulation (DBS) results in changes in the importance of symptom and behavioral goals individually identified by patients with Parkinson disease (PD) before DBS surgery.METHODS: Fifty-two participants recruited from a consecutive series completed a semistructured interview soliciting their rank-ordered symptom and behavioral goals and corresponding visual analog scales measuring perceived symptom severity and limits to goal attainment. Rank orders were reassessed at 2 times after DBS. Changes in rank order over time were examined with χ2 analyses. The relationships between change in symptom severity/limits to behavioral goal attainment and change in rank order were examined with mixed-effects linear regression models.RESULTS: Most participants changed the rank order of their symptom (81%) and behavioral (77%) goals 3 months after DBS surgery. Change in rank order of symptom goals was significantly related to change in severity ratings such that improvements in self-reported symptom severity were associated with reductions in rank. In contrast, no such relationship was evident for the behavioral goals.CONCLUSION: These data illustrate how patients' primary goals for DBS shift early in stimulation and highlight the important differences between symptom and behavioral goals. Changes in the rank order of symptom goals were related to changes in symptom severity, whereas subtler shifts in behavioral goals were unrelated to improvements after DBS. This observation suggests that DBS does not affect goals that may be more reflective of core personal values. The findings provide empiric data that can help improve the informed consent process.© 2018 American Academy of Neurology.PMID: 29959262 DOI: 10.1212/WNL.0000000000005917 Share\", \"J Speech Lang Hear Res. 2018 Jun 28:1-9. doi: 10.1044/2018_JSLHR-L-17-0304. [Epub ahead of print]Evaluation of Linguistic Markers of Word-Finding Difficulty and Cognition in Parkinson's Disease.Smith KM1,2, Ash S3, Xie SX4, Grossman M3.Author information1Parkinson Disease and Movement Disorders Center, Department of Neurology, Perelman School of Medicine at the University of Pennsylvania, Philadelphia.2Department of Neurology, University of Massachusetts Memorial Medical Center/UMass Medical School, Worcester.3Department of Neurology and the Penn Frontotemporal Degenerative Center, Perelman School of Medicine at the University of Pennsylvania, Philadelphia.4Department of Biostatistics and Epidemiology, Perelman School of Medicine at the University of Pennsylvania, Philadelphia.AbstractPurpose: Early cognitive symptoms such as word-finding difficulty (WFD) in daily conversation are common in Parkinson's disease (PD), but studies have been limited by a lack of feasible, quantitative measures. Linguistic analysis, focused on pauses in speech, may yield markers of impairment of cognition and communication in PD. The objective of this study was to evaluate the relationship of linguistic markers in semistructured speech to WFD symptoms and cognitive function in PD.Method: Speech recordings of description of the Cookie Theft picture in 53 patients with PD without dementia and 23 elderly controls were analyzed with Praat software. Montreal Cognitive Assessment (MoCA; Nasreddine et al., 2005), category naming fluency, and confrontation naming tests were administered. Questionnaires rating WFD symptoms and cognitive instrumental activities of daily living were completed. We determined the relationships between (a) pause length and location, (b) MoCA score, and (c) WFD symptoms, using Pearson's correlations and multivariate regression models.Results: Compared with controls, patients with PD had more pauses within utterances as well as fewer words per minute and a lower percentage of well-formed sentences. Pauses within utterances differed significantly between PD-mild cognitive impairment and normal cognition (p < .001). Words per minute and percentage of well-formed sentences were predictive of MoCA in multivariate regression models. Pauses before verbs were associated with patient-reported severity of WFD symptoms (p = .006).Conclusions: Linguistic markers including pauses within utterances distinguish patients with PD with mild cognitive symptoms from elderly controls. These markers are associated with global cognitive function before the onset of dementia. Pauses before verbs and grammatical markers may index early cognitive symptoms such as WFD that may interfere with functional communication.Supplemental Material: https://doi.org/10.23641/asha.6615401.PMID: 29955824 DOI: 10.1044/2018_JSLHR-L-17-0304 Share\"]]}\n"
     ]
    }
   ],
   "source": [
    "article_dict[\"title\"].append(title)\n",
    "article_dict[\"abstract\"].append(abstract)\n",
    "print(article_dict)"
   ]
  },
  {
   "cell_type": "markdown",
   "metadata": {},
   "source": [
    "<br>\n",
    "<br>\n",
    "<br>"
   ]
  }
 ],
 "metadata": {
  "kernelspec": {
   "display_name": "Python 3",
   "language": "python",
   "name": "python3"
  },
  "language_info": {
   "codemirror_mode": {
    "name": "ipython",
    "version": 3
   },
   "file_extension": ".py",
   "mimetype": "text/x-python",
   "name": "python",
   "nbconvert_exporter": "python",
   "pygments_lexer": "ipython3",
   "version": "3.6.4"
  }
 },
 "nbformat": 4,
 "nbformat_minor": 2
}
