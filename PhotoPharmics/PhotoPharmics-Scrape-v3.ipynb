{
 "cells": [
  {
   "cell_type": "markdown",
   "metadata": {},
   "source": [
    "## Pub Med Scraper"
   ]
  },
  {
   "cell_type": "code",
   "execution_count": 1,
   "metadata": {
    "collapsed": true
   },
   "outputs": [],
   "source": [
    "# scrape dependencies\n",
    "import requests\n",
    "import re\n",
    "from bs4 import BeautifulSoup as bs\n",
    "\n",
    "# data analysis dependencies\n",
    "import pandas as pd\n",
    "import numpy as np\n",
    "import csv\n",
    "\n",
    "# ipynb dependencies\n",
    "from IPython.core.interactiveshell import InteractiveShell\n",
    "InteractiveShell.ast_node_interactivity = \"all\"\n",
    "import warnings\n",
    "warnings.filterwarnings('ignore')\n",
    "\n",
    "# viz dependencies\n",
    "%matplotlib inline\n",
    "import matplotlib.pyplot as plt\n",
    "import seaborn as sns\n",
    "plt.style.use('fivethirtyeight')\n",
    "\n",
    "import datetime as dt\n",
    "import time"
   ]
  },
  {
   "cell_type": "code",
   "execution_count": 2,
   "metadata": {},
   "outputs": [
    {
     "name": "stdout",
     "output_type": "stream",
     "text": [
      "https://www.ncbi.nlm.nih.gov/pubmed/?term=parkinsons+disease\n"
     ]
    }
   ],
   "source": [
    "# set the url to scrape\n",
    "url = 'https://www.ncbi.nlm.nih.gov/pubmed/?term=parkinsons+disease'\n",
    "print(url)"
   ]
  },
  {
   "cell_type": "code",
   "execution_count": 3,
   "metadata": {
    "collapsed": true
   },
   "outputs": [],
   "source": [
    "# set up beautiful soup to scrape\n",
    "response = requests.get(url)\n",
    "soup = bs(response.text, 'html.parser')"
   ]
  },
  {
   "cell_type": "code",
   "execution_count": 4,
   "metadata": {
    "collapsed": true
   },
   "outputs": [],
   "source": [
    "# lets scrape the article titles\n",
    "journals = soup.find_all(\"p\", attrs={'class':'title'})"
   ]
  },
  {
   "cell_type": "code",
   "execution_count": 5,
   "metadata": {},
   "outputs": [
    {
     "name": "stdout",
     "output_type": "stream",
     "text": [
      "There are 20 journals to scrape on the first page.\n"
     ]
    }
   ],
   "source": [
    "# searching for the journal titles\n",
    "journals_len = len(journals)\n",
    "print(f\"There are {journals_len} journals to scrape on the first page.\")"
   ]
  },
  {
   "cell_type": "code",
   "execution_count": 6,
   "metadata": {},
   "outputs": [
    {
     "data": {
      "text/plain": [
       "\"Trx-1 ameliorates learning and memory deficits in MPTP-induced Parkinson's disease model in mice.\""
      ]
     },
     "execution_count": 6,
     "metadata": {},
     "output_type": "execute_result"
    },
    {
     "data": {
      "text/plain": [
       "'Lipid vesicles affect the aggregation of 4-hydroxy-2-nonenal-modified α-synuclein oligomers.'"
      ]
     },
     "execution_count": 6,
     "metadata": {},
     "output_type": "execute_result"
    },
    {
     "data": {
      "text/plain": [
       "\"MANF protects dopamine neurons and locomotion defects from a human α-synuclein induced Parkinson's disease model in C. elegans by regulating ER stress and autophagy pathways.\""
      ]
     },
     "execution_count": 6,
     "metadata": {},
     "output_type": "execute_result"
    },
    {
     "data": {
      "text/plain": [
       "'Long-term evolution of patient-reported outcome measures in spinocerebellar ataxias.'"
      ]
     },
     "execution_count": 6,
     "metadata": {},
     "output_type": "execute_result"
    },
    {
     "data": {
      "text/plain": [
       "'Effects of deep brain stimulation on rest tremor progression in early stage Parkinson disease.'"
      ]
     },
     "execution_count": 6,
     "metadata": {},
     "output_type": "execute_result"
    },
    {
     "data": {
      "text/plain": [
       "\"Patients' shifting goals for deep brain stimulation and informed consent.\""
      ]
     },
     "execution_count": 6,
     "metadata": {},
     "output_type": "execute_result"
    },
    {
     "data": {
      "text/plain": [
       "'Glycosaminoglycans have variable effects on α-synuclein aggregation and differentially affect the activities of the resulting amyloid fibrils.'"
      ]
     },
     "execution_count": 6,
     "metadata": {},
     "output_type": "execute_result"
    },
    {
     "data": {
      "text/plain": [
       "'Association between attention-deficit/hyperactivity disorder and amyotrophic lateral sclerosis.'"
      ]
     },
     "execution_count": 6,
     "metadata": {},
     "output_type": "execute_result"
    },
    {
     "data": {
      "text/plain": [
       "\"The factors associated with impulse control behaviors in Parkinson's disease: A 2-year longitudinal retrospective cohort study.\""
      ]
     },
     "execution_count": 6,
     "metadata": {},
     "output_type": "execute_result"
    },
    {
     "data": {
      "text/plain": [
       "\"Evaluation of Linguistic Markers of Word-Finding Difficulty and Cognition in Parkinson's Disease.\""
      ]
     },
     "execution_count": 6,
     "metadata": {},
     "output_type": "execute_result"
    },
    {
     "data": {
      "text/plain": [
       "'Implementation and evaluation of Parkinson disease management in an outpatient clinical pharmacist-run neurology telephone clinic.'"
      ]
     },
     "execution_count": 6,
     "metadata": {},
     "output_type": "execute_result"
    },
    {
     "data": {
      "text/plain": [
       "'Treatment of psychotic symptoms in patients with Parkinson disease.'"
      ]
     },
     "execution_count": 6,
     "metadata": {},
     "output_type": "execute_result"
    },
    {
     "data": {
      "text/plain": [
       "'Pimavanserin (Nuplazid™) for the treatment of Parkinson disease psychosis: A review of the literature.'"
      ]
     },
     "execution_count": 6,
     "metadata": {},
     "output_type": "execute_result"
    },
    {
     "data": {
      "text/plain": [
       "'Drug-induced parkinsonism: A case report.'"
      ]
     },
     "execution_count": 6,
     "metadata": {},
     "output_type": "execute_result"
    },
    {
     "data": {
      "text/plain": [
       "'Evidence for the use of \"medical marijuana\" in psychiatric and neurologic disorders.'"
      ]
     },
     "execution_count": 6,
     "metadata": {},
     "output_type": "execute_result"
    },
    {
     "data": {
      "text/plain": [
       "'Interaction between Monoamine Oxidase B Inhibitors and Selective Serotonin Reuptake Inhibitors.'"
      ]
     },
     "execution_count": 6,
     "metadata": {},
     "output_type": "execute_result"
    },
    {
     "data": {
      "text/plain": [
       "'Comparative Study of MRI Biomarkers in the Substantia Nigra to Discriminate Idiopathic Parkinson Disease.'"
      ]
     },
     "execution_count": 6,
     "metadata": {},
     "output_type": "execute_result"
    },
    {
     "data": {
      "text/plain": [
       "\"Visual hallucinations in dementia and Parkinson's disease: A qualitative exploration of patient and caregiver experiences.\""
      ]
     },
     "execution_count": 6,
     "metadata": {},
     "output_type": "execute_result"
    },
    {
     "data": {
      "text/plain": [
       "'Therapy With Mesenchymal Stem Cells in Parkinson Disease: History and Perspectives.'"
      ]
     },
     "execution_count": 6,
     "metadata": {},
     "output_type": "execute_result"
    },
    {
     "data": {
      "text/plain": [
       "'Level of uric acid and uric acid/creatinine ratios in correlation with stage of Parkinson disease.'"
      ]
     },
     "execution_count": 6,
     "metadata": {},
     "output_type": "execute_result"
    }
   ],
   "source": [
    "# loop through journals to print titles\n",
    "for i in range(0,20):\n",
    "    journals[i].text.strip()"
   ]
  },
  {
   "cell_type": "markdown",
   "metadata": {},
   "source": [
    "## Set main url to concat with pubmed ids"
   ]
  },
  {
   "cell_type": "code",
   "execution_count": 7,
   "metadata": {
    "scrolled": false
   },
   "outputs": [
    {
     "name": "stdout",
     "output_type": "stream",
     "text": [
      "https://www.ncbi.nlm.nih.gov/pubmed/\n"
     ]
    }
   ],
   "source": [
    "# set the main url that we will concatanate with the pubmed id\n",
    "main_url = 'https://www.ncbi.nlm.nih.gov/pubmed/'\n",
    "print(main_url)"
   ]
  },
  {
   "cell_type": "markdown",
   "metadata": {},
   "source": [
    "## Function to create array of links to scrape"
   ]
  },
  {
   "cell_type": "code",
   "execution_count": 8,
   "metadata": {
    "collapsed": true
   },
   "outputs": [],
   "source": [
    "# set empty links_all list to append to \n",
    "links_all = []\n",
    "\n",
    "# set pubmed ids list to append to\n",
    "pubmed_ids = []\n",
    "\n",
    "# set empty list to append scrape_links to\n",
    "scrape_links = []\n",
    "\n",
    "# function to get links\n",
    "def get_links(main_url):\n",
    "    \n",
    "    # use bs to scarpe p tags with class - title\n",
    "    links = soup.find_all(\"p\",attrs={'class':'title'})\n",
    "      \n",
    "    # testing to see how my links / journals to scrape\n",
    "    articles_to_scrape = len(links)\n",
    "    print(f\"There are {articles_to_scrape} articles to scrape.\")\n",
    "    print(\"----------------------------------------------\")\n",
    "    \n",
    "    # loop through links to convert to string\n",
    "    for i in range (len(links)):\n",
    "        links_all.append(str(links[i]))\n",
    "        print(links[i])\n",
    "        print(\"----------------------------------------------\")\n",
    "        \n",
    "    # slice through links_all to test\n",
    "    len(links_all)\n",
    "    links_all[1]\n",
    "    \n",
    "    # loop through links all and use regex to grab the id numbers\n",
    "    for i in range (len(links_all)):\n",
    "        pubmed_ids.append(re.findall(r'\\d{8}',links_all[i]))\n",
    "    \n",
    "    # print out info for pubmed_ids\n",
    "    len(pubmed_ids)\n",
    "    type(pubmed_ids)\n",
    "    print(pubmed_ids)\n",
    "    print(\"----------------------------------------------\")\n",
    "    \n",
    "    # use itertools to transform pubmed ids from an array withn an array into one list\n",
    "    import itertools\n",
    "    pubmed_merged = list(itertools.chain.from_iterable(pubmed_ids))\n",
    "    \n",
    "    # slice through pubmed_merged to see what itertools did\n",
    "    pubmed_merged[0]\n",
    "    \n",
    "    # concat main_url with a slice of pubmed_merged before we loop\n",
    "    print(main_url + str(pubmed_merged[0]))\n",
    "    \n",
    "    # append merged links to links_all\n",
    "    for i in range (len(pubmed_merged)):\n",
    "        scrape_links.append(main_url + str(pubmed_merged[i]))"
   ]
  },
  {
   "cell_type": "code",
   "execution_count": 9,
   "metadata": {
    "scrolled": false
   },
   "outputs": [
    {
     "name": "stdout",
     "output_type": "stream",
     "text": [
      "There are 20 articles to scrape.\n",
      "----------------------------------------------\n",
      "<p class=\"title\" xmlns:mml=\"http://www.w3.org/1998/Math/MathML\"><a href=\"/pubmed/29960099\" ref=\"ordinalpos=1&amp;ncbi_uid=29960099&amp;link_uid=29960099&amp;linksrc=docsum_title\">Trx-1 ameliorates learning and memory deficits in MPTP-induced <b>Parkinson</b>'s <b>disease</b> model in mice.</a></p>\n",
      "----------------------------------------------\n",
      "<p class=\"title\" xmlns:mml=\"http://www.w3.org/1998/Math/MathML\"><a href=\"/pubmed/29960040\" ref=\"ordinalpos=2&amp;ncbi_uid=29960040&amp;link_uid=29960040&amp;linksrc=docsum_title\">Lipid vesicles affect the aggregation of 4-hydroxy-2-nonenal-modified α-synuclein oligomers.</a></p>\n",
      "----------------------------------------------\n",
      "<p class=\"title\" xmlns:mml=\"http://www.w3.org/1998/Math/MathML\"><a href=\"/pubmed/29959908\" ref=\"ordinalpos=3&amp;ncbi_uid=29959908&amp;link_uid=29959908&amp;linksrc=docsum_title\">MANF protects dopamine neurons and locomotion defects from a human α-synuclein induced <b>Parkinson</b>'s <b>disease</b> model in C. elegans by regulating ER stress and autophagy pathways.</a></p>\n",
      "----------------------------------------------\n",
      "<p class=\"title\" xmlns:mml=\"http://www.w3.org/1998/Math/MathML\"><a href=\"/pubmed/29959555\" ref=\"ordinalpos=4&amp;ncbi_uid=29959555&amp;link_uid=29959555&amp;linksrc=docsum_title\">Long-term evolution of patient-reported outcome measures in spinocerebellar ataxias.</a></p>\n",
      "----------------------------------------------\n",
      "<p class=\"title\" xmlns:mml=\"http://www.w3.org/1998/Math/MathML\"><a href=\"/pubmed/29959266\" ref=\"ordinalpos=5&amp;ncbi_uid=29959266&amp;link_uid=29959266&amp;linksrc=docsum_title\">Effects of deep brain stimulation on rest tremor progression in early stage <b>Parkinson disease</b>.</a></p>\n",
      "----------------------------------------------\n",
      "<p class=\"title\" xmlns:mml=\"http://www.w3.org/1998/Math/MathML\"><a href=\"/pubmed/29959262\" ref=\"ordinalpos=6&amp;ncbi_uid=29959262&amp;link_uid=29959262&amp;linksrc=docsum_title\">Patients' shifting goals for deep brain stimulation and informed consent.</a></p>\n",
      "----------------------------------------------\n",
      "<p class=\"title\" xmlns:mml=\"http://www.w3.org/1998/Math/MathML\"><a href=\"/pubmed/29959225\" ref=\"ordinalpos=7&amp;ncbi_uid=29959225&amp;link_uid=29959225&amp;linksrc=docsum_title\">Glycosaminoglycans have variable effects on α-synuclein aggregation and differentially affect the activities of the resulting amyloid fibrils.</a></p>\n",
      "----------------------------------------------\n",
      "<p class=\"title\" xmlns:mml=\"http://www.w3.org/1998/Math/MathML\"><a href=\"/pubmed/29958655\" ref=\"ordinalpos=8&amp;ncbi_uid=29958655&amp;link_uid=29958655&amp;linksrc=docsum_title\">Association between attention-deficit/hyperactivity disorder and amyotrophic lateral sclerosis.</a></p>\n",
      "----------------------------------------------\n",
      "<p class=\"title\" xmlns:mml=\"http://www.w3.org/1998/Math/MathML\"><a href=\"/pubmed/29956879\" ref=\"ordinalpos=9&amp;ncbi_uid=29956879&amp;link_uid=29956879&amp;linksrc=docsum_title\">The factors associated with impulse control behaviors in <b>Parkinson</b>'s <b>disease</b>: A 2-year longitudinal retrospective cohort study.</a></p>\n",
      "----------------------------------------------\n",
      "<p class=\"title\" xmlns:mml=\"http://www.w3.org/1998/Math/MathML\"><a href=\"/pubmed/29955824\" ref=\"ordinalpos=10&amp;ncbi_uid=29955824&amp;link_uid=29955824&amp;linksrc=docsum_title\">Evaluation of Linguistic Markers of Word-Finding Difficulty and Cognition in <b>Parkinson</b>'s <b>Disease</b>.</a></p>\n",
      "----------------------------------------------\n",
      "<p class=\"title\" xmlns:mml=\"http://www.w3.org/1998/Math/MathML\"><a href=\"/pubmed/29955562\" ref=\"ordinalpos=11&amp;ncbi_uid=29955562&amp;link_uid=29955562&amp;linksrc=docsum_title\">Implementation and evaluation of <b>Parkinson disease</b> management in an outpatient clinical pharmacist-run neurology telephone clinic.</a></p>\n",
      "----------------------------------------------\n",
      "<p class=\"title\" xmlns:mml=\"http://www.w3.org/1998/Math/MathML\"><a href=\"/pubmed/29955532\" ref=\"ordinalpos=12&amp;ncbi_uid=29955532&amp;link_uid=29955532&amp;linksrc=docsum_title\">Treatment of psychotic symptoms in patients with <b>Parkinson disease</b>.</a></p>\n",
      "----------------------------------------------\n",
      "<p class=\"title\" xmlns:mml=\"http://www.w3.org/1998/Math/MathML\"><a href=\"/pubmed/29955528\" ref=\"ordinalpos=13&amp;ncbi_uid=29955528&amp;link_uid=29955528&amp;linksrc=docsum_title\">Pimavanserin (Nuplazid™) for the treatment of <b>Parkinson disease</b> psychosis: A review of the literature.</a></p>\n",
      "----------------------------------------------\n",
      "<p class=\"title\" xmlns:mml=\"http://www.w3.org/1998/Math/MathML\"><a href=\"/pubmed/29955500\" ref=\"ordinalpos=14&amp;ncbi_uid=29955500&amp;link_uid=29955500&amp;linksrc=docsum_title\">Drug-induced parkinsonism: A case report.</a></p>\n",
      "----------------------------------------------\n",
      "<p class=\"title\" xmlns:mml=\"http://www.w3.org/1998/Math/MathML\"><a href=\"/pubmed/29955495\" ref=\"ordinalpos=15&amp;ncbi_uid=29955495&amp;link_uid=29955495&amp;linksrc=docsum_title\">Evidence for the use of \"medical marijuana\" in psychiatric and neurologic disorders.</a></p>\n",
      "----------------------------------------------\n",
      "<p class=\"title\" xmlns:mml=\"http://www.w3.org/1998/Math/MathML\"><a href=\"/pubmed/29955193\" ref=\"ordinalpos=16&amp;ncbi_uid=29955193&amp;link_uid=29955193&amp;linksrc=docsum_title\">Interaction between Monoamine Oxidase B Inhibitors and Selective Serotonin Reuptake Inhibitors.</a></p>\n",
      "----------------------------------------------\n",
      "<p class=\"title\" xmlns:mml=\"http://www.w3.org/1998/Math/MathML\"><a href=\"/pubmed/29954816\" ref=\"ordinalpos=17&amp;ncbi_uid=29954816&amp;link_uid=29954816&amp;linksrc=docsum_title\">Comparative Study of MRI Biomarkers in the Substantia Nigra to Discriminate Idiopathic <b>Parkinson Disease</b>.</a></p>\n",
      "----------------------------------------------\n",
      "<p class=\"title\" xmlns:mml=\"http://www.w3.org/1998/Math/MathML\"><a href=\"/pubmed/29953689\" ref=\"ordinalpos=18&amp;ncbi_uid=29953689&amp;link_uid=29953689&amp;linksrc=docsum_title\">Visual hallucinations in dementia and <b>Parkinson</b>'s <b>disease</b>: A qualitative exploration of patient and caregiver experiences.</a></p>\n",
      "----------------------------------------------\n",
      "<p class=\"title\" xmlns:mml=\"http://www.w3.org/1998/Math/MathML\"><a href=\"/pubmed/29953040\" ref=\"ordinalpos=19&amp;ncbi_uid=29953040&amp;link_uid=29953040&amp;linksrc=docsum_title\">Therapy With Mesenchymal Stem Cells in <b>Parkinson Disease</b>: History and Perspectives.</a></p>\n",
      "----------------------------------------------\n",
      "<p class=\"title\" xmlns:mml=\"http://www.w3.org/1998/Math/MathML\"><a href=\"/pubmed/29952939\" ref=\"ordinalpos=20&amp;ncbi_uid=29952939&amp;link_uid=29952939&amp;linksrc=docsum_title\">Level of uric acid and uric acid/creatinine ratios in correlation with stage of <b>Parkinson disease</b>.</a></p>\n",
      "----------------------------------------------\n",
      "[['29960099', '29960099', '29960099'], ['29960040', '29960040', '29960040'], ['29959908', '29959908', '29959908'], ['29959555', '29959555', '29959555'], ['29959266', '29959266', '29959266'], ['29959262', '29959262', '29959262'], ['29959225', '29959225', '29959225'], ['29958655', '29958655', '29958655'], ['29956879', '29956879', '29956879'], ['29955824', '29955824', '29955824'], ['29955562', '29955562', '29955562'], ['29955532', '29955532', '29955532'], ['29955528', '29955528', '29955528'], ['29955500', '29955500', '29955500'], ['29955495', '29955495', '29955495'], ['29955193', '29955193', '29955193'], ['29954816', '29954816', '29954816'], ['29953689', '29953689', '29953689'], ['29953040', '29953040', '29953040'], ['29952939', '29952939', '29952939']]\n",
      "----------------------------------------------\n",
      "https://www.ncbi.nlm.nih.gov/pubmed/29960099\n"
     ]
    }
   ],
   "source": [
    "# RUN FUNCTION\n",
    "get_links(main_url)"
   ]
  },
  {
   "cell_type": "markdown",
   "metadata": {},
   "source": [
    "<br>\n",
    "There are duplicates in our **scrape_links** array. Use `list` to delete the duplicates."
   ]
  },
  {
   "cell_type": "code",
   "execution_count": 10,
   "metadata": {},
   "outputs": [
    {
     "data": {
      "text/plain": [
       "20"
      ]
     },
     "execution_count": 10,
     "metadata": {},
     "output_type": "execute_result"
    },
    {
     "data": {
      "text/plain": [
       "['https://www.ncbi.nlm.nih.gov/pubmed/29960099',\n",
       " 'https://www.ncbi.nlm.nih.gov/pubmed/29959908',\n",
       " 'https://www.ncbi.nlm.nih.gov/pubmed/29959262',\n",
       " 'https://www.ncbi.nlm.nih.gov/pubmed/29955500',\n",
       " 'https://www.ncbi.nlm.nih.gov/pubmed/29955562',\n",
       " 'https://www.ncbi.nlm.nih.gov/pubmed/29955532',\n",
       " 'https://www.ncbi.nlm.nih.gov/pubmed/29953689',\n",
       " 'https://www.ncbi.nlm.nih.gov/pubmed/29952939',\n",
       " 'https://www.ncbi.nlm.nih.gov/pubmed/29960040',\n",
       " 'https://www.ncbi.nlm.nih.gov/pubmed/29958655',\n",
       " 'https://www.ncbi.nlm.nih.gov/pubmed/29956879',\n",
       " 'https://www.ncbi.nlm.nih.gov/pubmed/29955528',\n",
       " 'https://www.ncbi.nlm.nih.gov/pubmed/29959555',\n",
       " 'https://www.ncbi.nlm.nih.gov/pubmed/29959225',\n",
       " 'https://www.ncbi.nlm.nih.gov/pubmed/29955495',\n",
       " 'https://www.ncbi.nlm.nih.gov/pubmed/29955193',\n",
       " 'https://www.ncbi.nlm.nih.gov/pubmed/29954816',\n",
       " 'https://www.ncbi.nlm.nih.gov/pubmed/29959266',\n",
       " 'https://www.ncbi.nlm.nih.gov/pubmed/29955824',\n",
       " 'https://www.ncbi.nlm.nih.gov/pubmed/29953040']"
      ]
     },
     "execution_count": 10,
     "metadata": {},
     "output_type": "execute_result"
    }
   ],
   "source": [
    "# delete duplicates in scrape_links and assign to new variable scrape_links_final\n",
    "scrape_links_final = list(set(scrape_links))\n",
    "len(scrape_links_final)\n",
    "scrape_links_final"
   ]
  },
  {
   "cell_type": "markdown",
   "metadata": {},
   "source": [
    "## Main array of links to scrape:\n",
    "\n",
    "Here we use selenium to iterate through these links. Seleium will click on each link then scrape the title and abstracts on each page. "
   ]
  },
  {
   "cell_type": "code",
   "execution_count": 11,
   "metadata": {},
   "outputs": [
    {
     "name": "stdout",
     "output_type": "stream",
     "text": [
      "https://www.ncbi.nlm.nih.gov/pubmed/29960099\n",
      "https://www.ncbi.nlm.nih.gov/pubmed/29959908\n",
      "https://www.ncbi.nlm.nih.gov/pubmed/29959262\n",
      "https://www.ncbi.nlm.nih.gov/pubmed/29955500\n",
      "https://www.ncbi.nlm.nih.gov/pubmed/29955562\n",
      "https://www.ncbi.nlm.nih.gov/pubmed/29955532\n",
      "https://www.ncbi.nlm.nih.gov/pubmed/29953689\n",
      "https://www.ncbi.nlm.nih.gov/pubmed/29952939\n",
      "https://www.ncbi.nlm.nih.gov/pubmed/29960040\n",
      "https://www.ncbi.nlm.nih.gov/pubmed/29958655\n",
      "https://www.ncbi.nlm.nih.gov/pubmed/29956879\n",
      "https://www.ncbi.nlm.nih.gov/pubmed/29955528\n",
      "https://www.ncbi.nlm.nih.gov/pubmed/29959555\n",
      "https://www.ncbi.nlm.nih.gov/pubmed/29959225\n",
      "https://www.ncbi.nlm.nih.gov/pubmed/29955495\n",
      "https://www.ncbi.nlm.nih.gov/pubmed/29955193\n",
      "https://www.ncbi.nlm.nih.gov/pubmed/29954816\n",
      "https://www.ncbi.nlm.nih.gov/pubmed/29959266\n",
      "https://www.ncbi.nlm.nih.gov/pubmed/29955824\n",
      "https://www.ncbi.nlm.nih.gov/pubmed/29953040\n"
     ]
    }
   ],
   "source": [
    "# testing scrape_links\n",
    "for i in scrape_links_final:\n",
    "    print(i)"
   ]
  },
  {
   "cell_type": "code",
   "execution_count": 27,
   "metadata": {},
   "outputs": [
    {
     "data": {
      "text/plain": [
       "['https://www.ncbi.nlm.nih.gov/pubmed/29960099',\n",
       " 'https://www.ncbi.nlm.nih.gov/pubmed/29959908',\n",
       " 'https://www.ncbi.nlm.nih.gov/pubmed/29959262',\n",
       " 'https://www.ncbi.nlm.nih.gov/pubmed/29955500',\n",
       " 'https://www.ncbi.nlm.nih.gov/pubmed/29955562']"
      ]
     },
     "execution_count": 27,
     "metadata": {},
     "output_type": "execute_result"
    },
    {
     "data": {
      "text/plain": [
       "['https://www.ncbi.nlm.nih.gov/pubmed/29955532',\n",
       " 'https://www.ncbi.nlm.nih.gov/pubmed/29953689',\n",
       " 'https://www.ncbi.nlm.nih.gov/pubmed/29952939',\n",
       " 'https://www.ncbi.nlm.nih.gov/pubmed/29960040',\n",
       " 'https://www.ncbi.nlm.nih.gov/pubmed/29958655']"
      ]
     },
     "execution_count": 27,
     "metadata": {},
     "output_type": "execute_result"
    },
    {
     "data": {
      "text/plain": [
       "['https://www.ncbi.nlm.nih.gov/pubmed/29956879',\n",
       " 'https://www.ncbi.nlm.nih.gov/pubmed/29955528',\n",
       " 'https://www.ncbi.nlm.nih.gov/pubmed/29959555',\n",
       " 'https://www.ncbi.nlm.nih.gov/pubmed/29959225',\n",
       " 'https://www.ncbi.nlm.nih.gov/pubmed/29955495']"
      ]
     },
     "execution_count": 27,
     "metadata": {},
     "output_type": "execute_result"
    },
    {
     "data": {
      "text/plain": [
       "['https://www.ncbi.nlm.nih.gov/pubmed/29955193',\n",
       " 'https://www.ncbi.nlm.nih.gov/pubmed/29954816',\n",
       " 'https://www.ncbi.nlm.nih.gov/pubmed/29959266',\n",
       " 'https://www.ncbi.nlm.nih.gov/pubmed/29955824',\n",
       " 'https://www.ncbi.nlm.nih.gov/pubmed/29953040']"
      ]
     },
     "execution_count": 27,
     "metadata": {},
     "output_type": "execute_result"
    }
   ],
   "source": [
    "# slice out scrape_links_final so we can scrape 5 articles at a time\n",
    "links_1 = scrape_links_final[0:5]\n",
    "links_1\n",
    "\n",
    "links_2 = scrape_links_final[5:10]\n",
    "links_2\n",
    "\n",
    "links_3 = scrape_links_final[10:15]\n",
    "links_3\n",
    "\n",
    "links_4 = scrape_links_final[15:20]\n",
    "links_4"
   ]
  },
  {
   "cell_type": "markdown",
   "metadata": {},
   "source": [
    "## Regex Notes"
   ]
  },
  {
   "cell_type": "code",
   "execution_count": 12,
   "metadata": {
    "collapsed": true
   },
   "outputs": [],
   "source": [
    "# Regex\n",
    "# Identifiers:\n",
    "# \\d any number\n",
    "# \\D anything but a number\n",
    "# \\s space\n",
    "# \\S anything but a space\n",
    "# \\w any character\n",
    "# \\W anything but a character\n",
    "# . any character, except for a newline\n",
    "# \\b the whitespace around words\n",
    "# \\. a period\n",
    "\n",
    "# Modifiers:\n",
    "# {1,3} we're expecting 1-3 \\d{1-3}\n",
    "# + Match 1 or more\n",
    "# ? Match 0 or more\n",
    "# * Match 0 or more\n",
    "# $ Match the end of a string\n",
    "# ^ matching the beginning of a string\n",
    "# | either or\n",
    "# [] range or \"variance\" [A-Za-z] [1-5a-qA-Z]\n",
    "# {x} expecting \"x\" amount\n",
    "\n",
    "# White Space Characters: \n",
    "# \\n new line\n",
    "# \\s space\n",
    "# \\t tab\n",
    "# \\e escape\n",
    "# \\f form feed\n",
    "# \\r return\n",
    "\n",
    "# DONT FORGET!:\n",
    "# . + * [] $ ^ () {} | \\"
   ]
  },
  {
   "cell_type": "markdown",
   "metadata": {
    "collapsed": true
   },
   "source": [
    "## Selenium\n",
    "**Web Browser Automation**"
   ]
  },
  {
   "cell_type": "code",
   "execution_count": 13,
   "metadata": {
    "collapsed": true
   },
   "outputs": [],
   "source": [
    "from splinter import Browser\n",
    "from selenium import webdriver"
   ]
  },
  {
   "cell_type": "code",
   "execution_count": 14,
   "metadata": {
    "collapsed": true
   },
   "outputs": [],
   "source": [
    "# make sure chrome browser exe is in current directory\n",
    "# chrome browser exe is not necessary for MACS\n",
    "executable_path = {'executable_path': 'chromedriver'}"
   ]
  },
  {
   "cell_type": "markdown",
   "metadata": {},
   "source": [
    "## Set up dictionary to append data to"
   ]
  },
  {
   "cell_type": "code",
   "execution_count": 15,
   "metadata": {
    "collapsed": true
   },
   "outputs": [],
   "source": [
    "article_dict = {\"title\": [],\n",
    "               \"abstract\": []}"
   ]
  },
  {
   "cell_type": "markdown",
   "metadata": {},
   "source": [
    "## Create get_article_info function"
   ]
  },
  {
   "cell_type": "code",
   "execution_count": 1,
   "metadata": {
    "collapsed": true
   },
   "outputs": [],
   "source": [
    "title = []\n",
    "abstract = []\n",
    "\n",
    "def get_article_info(links_1):\n",
    "    \n",
    "    # iterate through articles\n",
    "    for i in links_1:\n",
    "        \n",
    "        # sets up scraper\n",
    "        browser = Browser('chrome', headless=False)\n",
    "        html = browser.html\n",
    "        response2 = requests.get(i)\n",
    "        soup2 = bs(response2.text, 'html.parser')\n",
    "    \n",
    "        browser.visit(i)\n",
    "    \n",
    "        # there are two 'h1' tags on this page. slice out index 0\n",
    "        title_one = soup2.find_all('h1')\n",
    "        article_one_title = title_one[1].text.strip()\n",
    "    \n",
    "        # slice h1 at index 1 to grab article title\n",
    "        title.append(article_one_title)\n",
    "    \n",
    "        # get abstract *** CHANGED from 'rprt_all' to 'rprt abstract'\n",
    "        # abstract.append(soup2.find(\"div\", attrs={'class': 'rprt_all'}).text.strip())\n",
    "        abstract.append(soup2.find(\"div\", attrs={'class': 'rprt abstract'}).text.strip())"
   ]
  },
  {
   "cell_type": "markdown",
   "metadata": {},
   "source": [
    "## Run article_info function"
   ]
  },
  {
   "cell_type": "code",
   "execution_count": 28,
   "metadata": {
    "collapsed": true
   },
   "outputs": [],
   "source": [
    "get_article_info(links_1)"
   ]
  },
  {
   "cell_type": "code",
   "execution_count": 31,
   "metadata": {
    "collapsed": true
   },
   "outputs": [],
   "source": [
    "get_article_info(links_2)"
   ]
  },
  {
   "cell_type": "code",
   "execution_count": 34,
   "metadata": {
    "collapsed": true
   },
   "outputs": [],
   "source": [
    "get_article_info(links_3)"
   ]
  },
  {
   "cell_type": "code",
   "execution_count": 37,
   "metadata": {
    "collapsed": true
   },
   "outputs": [],
   "source": [
    "get_article_info(links_4)"
   ]
  },
  {
   "cell_type": "code",
   "execution_count": 38,
   "metadata": {},
   "outputs": [
    {
     "name": "stdout",
     "output_type": "stream",
     "text": [
      "Trx-1 ameliorates learning and memory deficits in MPTP-induced Parkinson's disease model in mice.\n",
      "\n",
      "MANF protects dopamine neurons and locomotion defects from a human α-synuclein induced Parkinson's disease model in C. elegans by regulating ER stress and autophagy pathways.\n",
      "\n",
      "Patients' shifting goals for deep brain stimulation and informed consent.\n",
      "\n",
      "Drug-induced parkinsonism: A case report.\n",
      "\n",
      "Implementation and evaluation of Parkinson disease management in an outpatient clinical pharmacist-run neurology telephone clinic.\n",
      "\n",
      "Treatment of psychotic symptoms in patients with Parkinson disease.\n",
      "\n",
      "Visual hallucinations in dementia and Parkinson's disease: A qualitative exploration of patient and caregiver experiences.\n",
      "\n",
      "Level of uric acid and uric acid/creatinine ratios in correlation with stage of Parkinson disease.\n",
      "\n",
      "Lipid vesicles affect the aggregation of 4-hydroxy-2-nonenal-modified α-synuclein oligomers.\n",
      "\n",
      "Association between attention-deficit/hyperactivity disorder and amyotrophic lateral sclerosis.\n",
      "\n",
      "The factors associated with impulse control behaviors in Parkinson's disease: A 2-year longitudinal retrospective cohort study.\n",
      "\n",
      "Pimavanserin (Nuplazid™) for the treatment of Parkinson disease psychosis: A review of the literature.\n",
      "\n",
      "Long-term evolution of patient-reported outcome measures in spinocerebellar ataxias.\n",
      "\n",
      "Glycosaminoglycans have variable effects on α-synuclein aggregation and differentially affect the activities of the resulting amyloid fibrils.\n",
      "\n",
      "Evidence for the use of \"medical marijuana\" in psychiatric and neurologic disorders.\n",
      "\n",
      "Interaction between Monoamine Oxidase B Inhibitors and Selective Serotonin Reuptake Inhibitors.\n",
      "\n",
      "Comparative Study of MRI Biomarkers in the Substantia Nigra to Discriminate Idiopathic Parkinson Disease.\n",
      "\n",
      "Effects of deep brain stimulation on rest tremor progression in early stage Parkinson disease.\n",
      "\n",
      "Evaluation of Linguistic Markers of Word-Finding Difficulty and Cognition in Parkinson's Disease.\n",
      "\n",
      "Therapy With Mesenchymal Stem Cells in Parkinson Disease: History and Perspectives.\n",
      "\n"
     ]
    },
    {
     "data": {
      "text/plain": [
       "20"
      ]
     },
     "execution_count": 38,
     "metadata": {},
     "output_type": "execute_result"
    }
   ],
   "source": [
    "for i in title:\n",
    "    print(i + \"\\n\")\n",
    "\n",
    "len(title)"
   ]
  },
  {
   "cell_type": "code",
   "execution_count": 39,
   "metadata": {
    "scrolled": false
   },
   "outputs": [
    {
     "name": "stdout",
     "output_type": "stream",
     "text": [
      "Free Radic Biol Med. 2018 Jun 27. pii: S0891-5849(18)31128-6. doi: 10.1016/j.freeradbiomed.2018.06.029. [Epub ahead of print]Trx-1 ameliorates learning and memory deficits in MPTP-induced Parkinson's disease model in mice.Zhang X1, Bai L2, Zhang S2, Zhou X2, Li Y3, Bai J4.Author information1Faculty of Environmental Science and Engineering, Kunming University of Science and Technology, Kunming 650500; Laboratory of Molecular Neurobiology, Medical Faculty, Kunming University of Science and Technology, Kunming 650500.2Laboratory of Molecular Neurobiology, Medical Faculty, Kunming University of Science and Technology, Kunming 650500.3Laboratory of Molecular Neurobiology, Medical Faculty, Kunming University of Science and Technology, Kunming 650500. Electronic address: liye918@gmail.com.4Laboratory of Molecular Neurobiology, Medical Faculty, Kunming University of Science and Technology, Kunming 650500. Electronic address: jiebai662001@126.com.AbstractParkinson's disease (PD) is characterized by a progressive loss of dopaminergic neurons in the substantia nigra(SNpc), characteristic motor symptoms and cognitive impairment. Thioredoxin-1 (Trx-1) is a redox protein and protects neurons from various injuries. Our previous study has shown that Trx-1 overexpression attenuates movement disorder in PD. However, whether Trx-1 ameliorates cognitive deficits in PD is still unknown. In the present study, we investigated the effects of Trx-1 on learning and memory in the 1-methyl-4-phenyl-1,2,3,6-tetrahydropyridine (MPTP)-induced PD model in mice. We demonstrated that deficits in learning and memory were induced by MPTP in mice through the elevated plus-maze test. We found that the retention transfer latency time was shorten, escape latency was decreased and the number of platform crossings was increased in the Morris water maze (MWM) in Trx-1 transgenic (TG) mice when compared with wild type mice. The expressions of tyrosine hydroxylase(TH) and dopamine D1 receptor (D1R) were decreased by MPTP, which were restored in Trx-1 TG mice. The expression of N-methyl-D-aspartate receptor 2B subunit (NR2B), the levels of phosphorylation of extracellular signal-regulated kinase (ERK1/2) and cAMP-response element binding protein (CREB) in the hippocampus were decreased by MPTP, which were reversed in Trx-1 TG mice. These results suggest that Trx-1 ameliorates learning and memory deficits in MPTP-induced PD model in mice via modulating the D1R and the NMDAR-ERK1/2-CREB pathway. Trx-1 may be a therapy target for learning and memory deficits in PD.KEYWORDS: Hippocampus; Learning and memory deficits; Parkinson's disease; Thioredoxin-1PMID: 29960099 DOI: 10.1016/j.freeradbiomed.2018.06.029 Share\n",
      "\n",
      "\n",
      "Exp Neurol. 2018 Jun 27. pii: S0014-4886(18)30206-1. doi: 10.1016/j.expneurol.2018.06.016. [Epub ahead of print]MANF protects dopamine neurons and locomotion defects from a human α-synuclein induced Parkinson's disease model in C. elegans by regulating ER stress and autophagy pathways.Zhang Z1, Shen Y1, Luo H1, Zhang F2, Jing L2, Wu Y2, Xia X2, Song Y2, Li W3, Jin L4.Author information1Department of Neurology, Shanghai Tongji Hospital, Tongji University School of Medicine, 389 Xincun Road, Shanghai 200065, People's Republic of China.2School of Life Science and Technology, Tongji University, 1239 Siping Road, Shanghai 200092, People's Republic of China.3Department of Neurology, Shanghai Tongji Hospital, Tongji University School of Medicine, 389 Xincun Road, Shanghai 200065, People's Republic of China; School of Life Science and Technology, Tongji University, 1239 Siping Road, Shanghai 200092, People's Republic of China. Electronic address: liw@tongji.edu.cn.4Department of Neurology, Shanghai Tongji Hospital, Tongji University School of Medicine, 389 Xincun Road, Shanghai 200065, People's Republic of China. Electronic address: lingjingjin@163.com.AbstractThere are many studies have demonstrated that mesencephalic astrocyte-derived neurotrophic factor (MANF) has been shown protective effects on neurotoxin based models of Parkinson's disease (PD). It still remains unclear whether MANF can rescue dopaminergic (DA) neurons in an α-synuclein model. Glial cell line-derived neurotrophic factor (GDNF) and its related neurturin (NRTN) can protect DA neurons in the neurotoxin but not α-synuclein animal models of PD, it failed in the clinical trials. Since α-synuclein model can better mimic the progression of human PD, in our study we overexpressed MANF specifically in DA neurons by using an α-synuclein Caenorhabditis elegans (C. elegans) model. Our results showed MANF alleviated progressive neuronal degeneration and prevented locomotion defects. Indeed, MANF can protect cilia of DA neurons at an early stage, suggested that MANF participated in the whole process of neuronal degeneration. Furthermore, we found MANF facilitated the removal of misfolded α-synuclein proteins and rescued the function of damaged DA neurons. By using RNAi approach, we inhibited ER stress and autophagy related genes and MANF effects were decreased, which demonstrated ER stress and autophagy pathways were involved in the MANF-mediated neuroprotection. Our study suggests MANF exhibits potential as a neuroprotective agent for PD therapy.KEYWORDS: Autophagy; C. elegans; Calcium; ER stress; MANF; Neuroprotection; Parkinson's disease; α-synucleinPMID: 29959908 DOI: 10.1016/j.expneurol.2018.06.016 Share\n",
      "\n",
      "\n",
      "Neurology. 2018 Jun 29. pii: 10.1212/WNL.0000000000005917. doi: 10.1212/WNL.0000000000005917. [Epub ahead of print]Patients' shifting goals for deep brain stimulation and informed consent.Kubu CS1, Frazier T2, Cooper SE2, Machado A2, Vitek J2, Ford PJ2.Author information1From the Center for Neurological Restoration (C.S.K.), Neuroethics Program (P.J.F.), Center for Pediatric Behavioral Health (T.F.), and Center for Neurological Restoration (A.M.), Cleveland Clinic, OH; and Department of Neurology (S.E.C., J.V.), University of Minnesota, Minneapolis. kubuc@ccf.org.2From the Center for Neurological Restoration (C.S.K.), Neuroethics Program (P.J.F.), Center for Pediatric Behavioral Health (T.F.), and Center for Neurological Restoration (A.M.), Cleveland Clinic, OH; and Department of Neurology (S.E.C., J.V.), University of Minnesota, Minneapolis.AbstractOBJECTIVE: To determine using a repeated-measures, prospective design whether deep brain stimulation (DBS) results in changes in the importance of symptom and behavioral goals individually identified by patients with Parkinson disease (PD) before DBS surgery.METHODS: Fifty-two participants recruited from a consecutive series completed a semistructured interview soliciting their rank-ordered symptom and behavioral goals and corresponding visual analog scales measuring perceived symptom severity and limits to goal attainment. Rank orders were reassessed at 2 times after DBS. Changes in rank order over time were examined with χ2 analyses. The relationships between change in symptom severity/limits to behavioral goal attainment and change in rank order were examined with mixed-effects linear regression models.RESULTS: Most participants changed the rank order of their symptom (81%) and behavioral (77%) goals 3 months after DBS surgery. Change in rank order of symptom goals was significantly related to change in severity ratings such that improvements in self-reported symptom severity were associated with reductions in rank. In contrast, no such relationship was evident for the behavioral goals.CONCLUSION: These data illustrate how patients' primary goals for DBS shift early in stimulation and highlight the important differences between symptom and behavioral goals. Changes in the rank order of symptom goals were related to changes in symptom severity, whereas subtler shifts in behavioral goals were unrelated to improvements after DBS. This observation suggests that DBS does not affect goals that may be more reflective of core personal values. The findings provide empiric data that can help improve the informed consent process.© 2018 American Academy of Neurology.PMID: 29959262 DOI: 10.1212/WNL.0000000000005917 Share\n",
      "\n",
      "\n",
      "Ment Health Clin. 2018 Mar 23;7(2):65-68. doi: 10.9740/mhc.2017.03.065. eCollection  2017 Mar.Drug-induced parkinsonism: A case report.Morabito BD1, Paulison B2.Author information1Clinical Pharmacy Specialist, North Florida/South Georgia Veterans Health System, Gainesville, Florida, Brianna.Morabito@va.gov.2Clinical Pharmacy Specialist, North Florida/South Georgia Veterans Health System, Gainesville, Florida.AbstractDrug-induced parkinsonism is defined as the appearance of parkinsonism on treatment with pharmaceutical agents. Symptoms typically manifest within a few days, and 90% of cases emerge within 3 months. The patient was a 68-year-old white man with a past psychiatric history significant for bipolar I versus cyclothymic disorder. The patient presented with pressured speech, flight of ideas, distractibility, delusions, and disorganized thinking. He was started on risperidone and, due to a subclinical response, was cross-tapered from risperidone to olanzapine, and divalproex was started. The patient was then given paliperidone 234 mg long-acting injection (LAI) and a second loading dose of 156 mg 1 week later. The patient's cognitive and functional status subsequently declined, all neuroleptics were discontinued, and he was diagnosed with drug-induced parkinsonism. After a complicated hospital course the patient died approximately 5 months after the administration of paliperidone LAI. Although there are several confounding factors, due to the temporal relationship of events it is likely that paliperidone LAI was a contributing factor for the development of severe parkinsonism. Practitioners should be cognizant of the potential long-term consequences of paliperidone LAI.KEYWORDS: Invega Sustenna®; Parkinson disease; antipsychotic; divalproex; drug-induced parkinsonism; long-acting injection; paliperidone; parkinsonismPMID: 29955500 PMCID: PMC6007667 DOI: 10.9740/mhc.2017.03.065 Share\n",
      "\n",
      "\n",
      "Ment Health Clin. 2018 Apr 26;8(3):159-162. doi: 10.9740/mhc.2018.05.159. eCollection  2018 May.Implementation and evaluation of Parkinson disease management in an outpatient clinical pharmacist-run neurology telephone clinic.Stefan TC1, Elharar N2, Garcia G3.Author information1PGY-2 Psychiatric Pharmacy Resident, West Palm Beach Veterans Affairs Medical Center, West Palm Beach, Florida, Teodora.Stefan@va.gov.2Clinical Pharmacy Specialist - PTSD and Substance Abuse, PGY2 Psychiatry Residency Associate Director, West Palm Beach Veterans Affairs Medical Center, West Palm Beach, Florida.3Clinical Pharmacy Specialist, Psychiatry, Residency Director, PGY-2 Psychiatric Pharmacy, West Palm Beach Veterans Affairs Medical Center, West Palm Beach, Florida.AbstractParkinson disease (PD) is a progressive, debilitating neurodegenerative disease that often requires complex pharmacologic treatment regimens. Prior to this clinic, there was no involvement of a clinical pharmacy specialist (CPS) in the outpatient neurology clinic at the West Palm Beach Veterans Affairs Medical Center. This was a prospective, quality-improvement project to develop a clinical pharmacist-run neurology telephone clinic and evaluate pharmacologic and nonpharmacologic interventions in an effort to improve the quality of care for patients with PD. Additionally, the CPS conducted medication education groups to 24 patients with PD and their caregivers, if applicable, at this medical center with the purpose of promoting patient knowledge and medication awareness. Medication management was performed via telephone rather than face to face. Only patients with a concomitant mental health diagnosis for which they were receiving at least one psychotropic medication were included for individual visits due to the established scope of practice of the CPS being limited to mental health and primary care medications. Data collection included patient and clinic demographics as well as pharmacologic and nonpharmacologic interventions made for patients enrolled from January 6, 2017, through March 31, 2017. A total of 49 pharmacologic and nonpharmacologic interventions were made for 10 patients. We successfully implemented and evaluated a clinical pharmacist-run neurology telephone clinic for patients with PD. Expansion of this clinic to patients with various neurological disorders may improve access to care using an innovative method of medication management expertise by a CPS.KEYWORDS: Parkinson disease; clinical pharmacist–run neurology telephone clinic; clinical pharmacy specialist; mental healthPMID: 29955562 PMCID: PMC6007640 DOI: 10.9740/mhc.2018.05.159 ShareConflict of interest statementDisclosures: The authors have nothing to disclose.\n",
      "\n",
      "\n",
      "Ment Health Clin. 2018 Mar 23;7(6):262-270. doi: 10.9740/mhc.2017.11.262. eCollection  2017 Nov.Treatment of psychotic symptoms in patients with Parkinson disease.Chen JJ1.Author information1Professor and Chair, Department of Pharmacy Practice, College of Pharmacy, Marshall B. Ketchum University, Fullerton, California; Professor, Department of Neurology, Loma Linda University, Loma Linda, California, jchen@ketchum.edu.AbstractPersistent psychotic symptoms will develop in up to 60% of patients with Parkinson disease (PD). The initial approach to the management of PD psychosis (PDP) begins with addressing concurrent systemic conditions associated with psychotic behavior, such as delirium, medical conditions (eg, infections), psychiatric disorders (eg, major depression with psychotic symptoms, mania, schizophrenia), and substance misuse or withdrawal. A review of current medications is recommended, and medications that may trigger psychotic symptoms should be eliminated. If possible, antiparkinson medications should be reduced to the minimum therapeutic dose or discontinued in a sequential manner. Generally, dose reduction or discontinuation of anticholinergics is attempted first, followed by that of monoamine oxidase B inhibitors, amantadine, dopamine agonists, catechol-O-methyltransferase inhibitors, and lastly carbidopa/levodopa. The aim of antiparkinson medication dose reduction is to achieve a balance between improving drug-related psychotic symptoms and not significantly worsening the motor symptoms of PD. If additional measures are needed for chronic PDP treatment, the use of second-generation antipsychotics, such as clozapine, pimavanserin, or quetiapine, must be considered. The first-generation antipsychotics (eg, fluphenazine, haloperidol) are not recommended. In the patient with comorbid dementia, the addition of a cholinesterase inhibitor might also be beneficial for PDP. The choice of agent is based on patient-specific parameters, potential benefit, and side effects.KEYWORDS: Parkinson disease; antipsychotics; clozapine; movement disorders; nonmotor symptoms; pimavanserin; psychosis; quetiapinePMID: 29955532 PMCID: PMC6007727 DOI: 10.9740/mhc.2017.11.262 ShareConflict of interest statementDisclosures: J.J.C. is on the Speaker's Bureau for ACADIA Pharmaceuticals. Psychopharmacology Pearls are review articles intended to highlight both the evidence base available and/or controversial areas of clinical care for psychiatric and neurologic conditions, as well as strategies of clinical decision-making used by expert clinicians. As pearls, articles reflect the views and practice of each author as substantiated with evidence-based facts as well as opinion and experience. Articles are edited by members of the Psychopharmacology Pearls Editorial Board and are peer reviewed by MHC reviewers. This article was developed as part of the 2017 Psychopharmacology Pearls product for BCPP recertification credit. The course information and testing center is at cpnp.org/322903.\n",
      "\n",
      "\n",
      "Int J Geriatr Psychiatry. 2018 Jun 28. doi: 10.1002/gps.4929. [Epub ahead of print]Visual hallucinations in dementia and Parkinson's disease: A qualitative exploration of patient and caregiver experiences.Renouf S1, Ffytche D1, Pinto R1, Murray J2, Lawrence V2.Author information1Department of Old Age Psychiatry, Institute of Psychiatry, Psychology and Neuroscience, King's College London, London, UK.2Health Services and Population Research, Institute of Psychiatry, Psychology and Neuroscience, King's College London, London, UK.AbstractOBJECTIVES: Visual hallucinations (VHs) can occur in several clinical conditions, of which the dementias, broadly defined, and Parkinson's disease rank among the most common. There is limited research on the lived experience of hallucinations among affected individuals and therefore a lack of evidence-based management strategies. This study used qualitative methods to explore the VH experience of individuals with dementia or Parkinson's disease and their informal caregivers.METHODS: In-depth interviews were conducted with 10 individuals with VHs and dementia and 11 informal caregivers, and 11 individuals with VHs and Parkinson's disease and 9 informal caregivers. Interviews were analysed using an inductive thematic approach.RESULTS: Three themes emerged from the data: \"Insight and distress,\" \"Caregiver approach: challenging v reassurance,\" and \"Normality and stigma.\" Insight appeared to affect whether hallucinations were perceived as threatening and whether acceptance occurred over time. Emotional reactions and management strategies varied as insight changed with disease progression. Concerns around stigmatisation negatively influenced help-seeking and acceptance of the hallucinations.CONCLUSIONS: Degree of insight and cognitive ability appear fundamental to the lived experience of hallucinations. Irrespective of the clinical context, support in early stages should focus on raising awareness of VH, symptom disclosure, stigma reduction, and contact with others affected. In later stages, the focus shifts to informal caregiver needs and a flexible approach to reassuring those affected.© 2018 John Wiley & Sons, Ltd.KEYWORDS: Parkinson's disease; dementia; qualitative methods; visual hallucinationsPMID: 29953689 DOI: 10.1002/gps.4929 ShareLinkOut - more resourcesFull Text SourcesWiley\n",
      "\n",
      "\n",
      "Medicine (Baltimore). 2018 Jun;97(26):e10967. doi: 10.1097/MD.0000000000010967.Level of uric acid and uric acid/creatinine ratios in correlation with stage of Parkinson disease.Zhong LL1, Song YQ2,3, Tian XY1, Cao H1, Ju KJ1.Author information1Department of Neurology.2Department of Radiation Oncology, The Affiliated Huaian No. 1 People's Hospital of Nanjing Medical University.3Department of Hematology, Huai'an First People's Hospital, Nanjing Medical University, Huai'an, Jiangsu, P.R. China.AbstractThis study aims to investigate relationship between the level of uric acid (UA) and UA/creatinine ratios (UA/Cr) to the stage of Parkinson disease (PD).A total of 120 cases of PD patients who were admitted in our hospital between 2013 and 2015 were enrolled into this study; these 120 cases of PD patients were divided into 3 groups, according to Hoehn-Yahr (H-Y) classification: early stage (1-2 classification), medium stage (2.5-3 classification), and advanced stage (4-5 classification); UA and UA/Cr level in each group was compared. Then, factors including age, gender, dopamine dosage, UA, and UA/Cr levels were analyzed to find the independent predictive factors of PD by logistic regression.UA and UA/Cr levels in the early and medium stage PD patients were significantly higher than in the advanced stage ones. UA and UA/Cr levels in patients with good prognosis were significantly higher than in the poor ones.UA and UA/Cr levels are negatively correlated with the stages of PD and are independent negatively predicting biological indexes of PD incidence and progression.PMID: 29952939 DOI: 10.1097/MD.0000000000010967 Free full textShareLinkOut - more resourcesFull Text SourcesWolters Kluwer\n",
      "\n",
      "\n",
      "Biochim Biophys Acta. 2018 Jun 27. pii: S0925-4439(18)30224-2. doi: 10.1016/j.bbadis.2018.06.020. [Epub ahead of print]Lipid vesicles affect the aggregation of 4-hydroxy-2-nonenal-modified α-synuclein oligomers.Sinha MS1, Giraldo AMV2, Öllinger K2, Hallbeck M3, Civitelli L4.Author information1Department of Pathology, Department of Clinical and Experimental Medicine, Linköping University, S-58185 Linköping, Sweden.2Experimental Pathology, Department of Clinical and Experimental Medicine, Linköping University, S-58185 Linköping, Sweden.3Department of Pathology, Department of Clinical and Experimental Medicine, Linköping University, S-58185 Linköping, Sweden. Electronic address: martin.hallbeck@liu.se.4Department of Pathology, Department of Clinical and Experimental Medicine, Linköping University, S-58185 Linköping, Sweden. Electronic address: livia.civitelli@liu.se.AbstractParkinson's disease (PD) and other synucleinopathies are characterized by accumulation of misfolded aggregates of α-synuclein (α-syn). The normal function of α-syn is still under investigation, but it has been generally linked to synaptic plasticity, neurotransmitter release and the maintenance of the synaptic pool. α-Syn localizes at synaptic terminals where it can bind to synaptic vesicles as well as to other cellular membranes. It has become clear that these interactions have an impact on both α-syn functional role and its propensity to aggregate. In this study, we investigated the aggregation process of α-syn covalently modified with 4-hydroxy-2-nonenal (HNE). HNE is a product of lipid peroxidation and has been implicated in the pathogenesis of different neurodegenerative diseases by modifying the kinetics of soluble toxic oligomers. Although HNE-modified α-syn has been reported to assemble into stable oligomers, we found that slightly acidic conditions promoted further protein aggregation. Lipid vesicles delayed the aggregation process in a concentration-dependent manner, an effect that was observed only when they were added at the beginning of the aggregation process. Co-aggregation of lipid vesicles with HNE-modified α-syn also induced cytotoxic effects on differentiated SHSY-5Y cells. Under conditions in which the aggregation process was delayed cell viability was reduced. By exploring the behavior and potential cytotoxic effects of HNE-α-syn under acidic conditions in relation to protein-lipid interactions our study gives a framework to examine a possible pathway leading from a physiological setting to the pathological outcome of PD.KEYWORDS: Aggregation kinetics; Lipids; Parkinson's disease; Toxicity; α-SynucleinPMID: 29960040 DOI: 10.1016/j.bbadis.2018.06.020 Share\n",
      "\n",
      "\n",
      "J Neurol Sci. 2018 Jun 21. pii: S0022-510X(18)30267-3. doi: 10.1016/j.jns.2018.06.017. [Epub ahead of print]Association between attention-deficit/hyperactivity disorder and amyotrophic lateral sclerosis.Kawada T1.Author information1Department of Hygiene and Public Health, Nippon Medical School, Japan. Electronic address: kawada@nms.ac.jp.KEYWORDS: Amyotrophic lateral sclerosis; Attention-deficit/hyperactivity disorder; Parkinson's diseasePMID: 29958655 DOI: 10.1016/j.jns.2018.06.017 SharePublication typePublication typeLetter\n",
      "\n",
      "\n",
      "Brain Behav. 2018 Jun 29:e01036. doi: 10.1002/brb3.1036. [Epub ahead of print]The factors associated with impulse control behaviors in Parkinson's disease: A 2-year longitudinal retrospective cohort study.Kon T1,2, Ueno T1, Haga R1, Tomiyama M1.Author information1Department of Neurology, Aomori Prefectural Central Hospital, Aomori, Japan.2Department of Neuropathology, Graduate School of Medicine, Hirosaki University, Hirosaki, Japan.AbstractINTRODUCTION: Impulse control behaviors (ICBs) are impulsive-compulsive behaviors often associated with dopamine replacement therapy in Parkinson's disease (PD). Although remission can occur in ICB, only four reports on the ratio of remission and the persistence of ICB have been published, and the associated factors with ICB remission or persistence have been little known. Therefore, we conducted a longitudinal assessment of the remission, persistence, and development of ICB and those associated factors in patients with PD.METHODS: We retrospectively investigated a PD database at Aomori Prefectural Central Hospital, Japan. One hundred and forty-eight patients with PD who could be followed up for 2 years were enrolled. ICB was assessed using the Questionnaire for Impulsive-Compulsive Disorders in Parkinson's disease. Motor severity (Hoehn and Yahr scale and United Parkinson's Disease Rating Scale), cognitive function (Mini-Mental State Examination), and other clinical variables (sex, age, onset age, disease duration, olfactory dysfunction, and dyskinesia) and medications used to treat PD were assessed. Univariate analyses were performed.RESULTS: Seven patients were excluded because of the exclusion criteria, and 141 patients were analyzed. Thirty patients (21.3%) had ICB at baseline, and these patients also had significantly higher use of pergolide. The ICB remission rate was 60%, the ICB persistence ratio was 40%, and the ICB development ratio was 12.6% over 2 years. Statistically, younger age and pergolide use were associated with ICB persistence. Being male, having dyskinesia, and rotigotine, entacapone, zonisamide, and istradefylline use were associated with ICB development.CONCLUSION: This study suggests that younger age and pergolide use may be the new associated factors with ICB persistence and that entacapone, zonisamide, and istradefylline use may be associated with the development of ICB. Drug profiles and medication practices in Japan may explain the association of these factors with ICB.© 2018 The Authors. Brain and Behavior published by Wiley Periodicals, Inc.KEYWORDS: Parkinson's disease; dopamine agonist; dopamine dysregulation syndrome; impulse control behavior; impulse control disorderPMID: 29956879 DOI: 10.1002/brb3.1036 Share\n",
      "\n",
      "\n",
      "Ment Health Clin. 2018 Mar 23;7(5):230-234. doi: 10.9740/mhc.2017.09.230. eCollection  2017 Sep.Pimavanserin (Nuplazid™) for the treatment of Parkinson disease psychosis: A review of the literature.Touma KTB1, Touma DC2.Author information1Clinical Pharmacy Specialist, Mental Health, WJB Dorn VA Medical Center - Anderson Community Based Outpatient Clinic, Anderson, South Carolina, Katherine.Blissit@va.gov.2Postgraduate Year Three Family Medicine Resident, Spartanburg Regional Healthcare System, Spartanburg, South Carolina.AbstractIntroduction: Pimavanserin (Nuplazid™) is an atypical antipsychotic currently indicated for the treatment of hallucinations and delusions associated with Parkinson disease psychosis. The antipsychotic effects of this new agent are believed to occur via selective inverse agonist activity at serotonin 5-HT2a receptors.Methods: Study authors completed a literature review of 2 published randomized controlled trials of pimavanserin for the treatment of Parkinson disease psychosis. The Food and Drug Administration Briefing Document by the Psychopharmacologic Drugs Advisory Committee for the review of pimavanserin dated March 29, 2016, was reviewed for additional information on 2 unpublished trials.Results: Pimavanserin has demonstrated no worsening of motor symptoms of Parkinson disease, but only 1 of 4 trials has shown consistent statistically significant improvements in psychotic symptoms compared with placebo.Discussion: Options for the treatment of Parkinson disease psychosis are limited. The selective receptor profile of pimavanserin offers advantages for tolerability. Further studies are warranted to better provide clinicians and patients with information regarding the clinical utility of this agent.KEYWORDS: Parkinson disease; Pimavanserin; psychosisPMID: 29955528 PMCID: PMC6007714 DOI: 10.9740/mhc.2017.09.230 ShareConflict of interest statementDisclosures: The authors have nothing to disclose in terms of financial conflict of interest.\n",
      "\n",
      "\n",
      "J Neurol. 2018 Jun 29. doi: 10.1007/s00415-018-8954-0. [Epub ahead of print]Long-term evolution of patient-reported outcome measures in spinocerebellar ataxias.Jacobi H1,2, du Montcel ST3,4, Bauer P5,6, Giunti P7, Cook A7, Labrum R8, Parkinson MH7, Durr A9,10,11,12,13, Brice A9,10,11,12,13, Charles P13, Marelli C14, Mariotti C15, Nanetti L15, Sarro L15, Rakowicz M16, Sulek A17, Sobanska A16, Schmitz-Hübsch T18, Schöls L19, Hengel H19, Baliko L20, Melegh B21, Filla A22, Antenora A22, Infante J23, Berciano J24, van de Warrenburg BP25, Timmann D26, Szymanski S27, Boesch S28, Nachbauer W28, Kang JS29, Pandolfo M30, Schulz JB31,32, Melac AT4, Diallo A3, Klockgether T33,34.Author information1German Center for Neurodegenerative Diseases (DZNE), Bonn, Germany. heike.jacobi@med.uni-heidelberg.de.2Department of Neurology, Heidelberg University Hospital, Im Neuenheimer Feld 400, 69120, Heidelberg, Germany. heike.jacobi@med.uni-heidelberg.de.3Sorbonne Universités, Université Pierre et Marie Curie (UPMC) Univ Paris 06, UMRS 1136, INSERM U 1136, Institut Pierre Louis d'Epidémiologie et de Santé Publique, 75013, Paris, France.4AP-HP, Biostatistics Unit, Groupe Hospitalier Pitié-Salpêtrière, 75013, Paris, France.5Institute of Medical Genetics and Applied Genomics, University of Tübingen, Tübingen, Germany.6CENTOGENE AG, Rostock, Germany.7Department of Molecular Neuroscience, UCL, Institute of Neurology, London, UK.8Neurogenetic Laboratory, National Hospital of Neurology and Neurosurgery, UCL, London, UK.9INSERM, U 1127, 75013, Paris, France.10CNRS, UMR 7225, 75013, Paris, France.11Sorbonne Universités, UPMC Univ Paris 06, UMRS_1127, 75013, Paris, France.12Institut du Cerveau et de la Moelle épinière, ICM, 75013, Paris, France.13Département de Génétique, APHP, Hôpital de la Pitié-Salpêtrière, 75013, Paris, France.14Service de Neurologie-CMRR, CHRU Gui de Chauliac, 80, av. A. Fliche, 34295, Montpellier Cedex 05, France.15SOSD Genetics of Neurodegenerative and Metabolic Diseases, Fondazione-IRCCS Istituto Neurologico Carlo Besta, Milan, Italy.16Department of Clinical Neurophysiology, Institute of Psychiatry and Neurology, Warsaw, Poland.17Department of Genetics, Institute of Psychiatry and Neurology, Warsaw, Poland.18Charité Universitätsmedizin Berlin, NeuroCure Clinical Research Center, Berlin, Germany.19Department of Neurodegeneration and Hertie-Institute for Clinical Brain Research, University of Tübingen and Deutsches Zentrum für Neurodegenerative Erkrankungen (DZNE), 72076, Tübingen, Germany.20Department of Neurology, Zala County Hospital, Zrinyi M. Str. 1, Zalaegerszeg, 8900, Hungary.21Department of Medical Genetics, Medical School, and Szentagothai Research Center, University of Pécs, Pécs, Hungary.22Department of Neuroscience, and Reproductive and Odontostomatological Sciences, Federico II University Naples, Naples, Italy.23Service of Neurology, University Hospital Marqués de Valdecilla (IDIVAL), University of Cantabria (UC) and Centro de Investigación Biomédica en Red de Enfermedades Neurodegenerativas (CIBERNED), Santander, Spain.24Service of Neurology, University Hospital \"Marqués de Valdecilla (IDIVAL)\", \"Centro de Investigación Biomédica en Red de Enfermedades Neurodegenerativas (CIBERNED)\", University of Cantabria (UC), Santander, Spain.25Department of Neurology, Donders Institute for Brain, Cognition, and Behaviour, Radboud University Medical Center, PO Box 9101, 6500 HB, Nijmegen, The Netherlands.26Department of Neurology, University Clinic Essen, University of Duisburg-Essen, Essen, Germany.27Department of Neurology, St. Josef Hospital, University Hospital of Bochum, Bochum, Germany.28Department of Neurology, Medical University, Innsbruck, Innsbruck, Austria.29Department of Neurology, University of Frankfurt, Frankfurt am Main, Germany.30Université Libre de Bruxelles (ULB), Neurology Service-ULB Hôpital Erasme, ULB Laboratory of Experimental Neurology, Brussels, Belgium.31Department of Neurology, RWTH Aachen University, Pauwelsstraβe 30, 52074, Aachen, Germany.32JARA-BRAIN Institute Molecular Neuroscience and Neuroimaging, Forschungszentrum Jülich GmbH and RWTH Aachen University, 52074, Aachen, Germany.33German Center for Neurodegenerative Diseases (DZNE), Bonn, Germany.34Department of Neurology, University Hospital of Bonn, Bonn, Germany.AbstractINTRODUCTION: To study the long-term evolution of patient-reported outcome measures (PROMs) in the most common spinocerebellar ataxias (SCAs), we analyzed 8 years follow-up data of the EUROSCA Natural History Study, a cohort study of 526 patients with SCA1, SCA2, SCA3 and SCA6.METHODS: To assess the functional capacity in daily living, we used the functional assessment (part IV) of the Unified Huntington's Disease Rating Scale (UHDRS-IV), for health-related quality of life the visual analogue scale of the EuroQol Five Dimensions Questionnaire (EQ-5D VAS), and for depressive symptoms the Patient Health Questionnaire (PHQ-9). Severity of ataxia was assessed using the Scale for the Assessment and Rating of Ataxia (SARA) and neurological symptoms other than ataxia with the Inventory of Non-Ataxia Signs (INAS).RESULTS: UHDRS-IV [SCA1: - 1.35 (0.12); SCA2: - 1.15 (0.11); SCA3: - 1.16 (0.11); SCA6: - 0.99 (0.12)] and EQ-5D [SCA1: - 2.88 (0.72); SCA2: - 1.97 (0.49); SCA3: - 2.06 (0.55); SCA6: - 1.03 (0.57)] decreased linearly, whereas PHQ-9 increased [SCA1: 0.15 (0.04); SCA2: 0.09 (0.03); SCA3: 0.06 (0.04); SCA6: 0.07 (0.04)] during the observational period. Standard response means (SRMs) of UHDRS-IV (0.473-0.707) and EQ-5D VAS (0.053-0.184) were lower than that of SARA (0.404-0.979). In SCA1, higher SARA scores [- 0.0288 (0.01), p = 0.0251], longer repeat expansions [- 0.0622 (0.02), p = 0.0002] and the presence of cognitive impairment at baseline [- 0.5381 (0.25), p = 0.0365] were associated with faster UHDRS-IV decline. In SCA3, higher INAS counts were associated with a faster UHDRS-IV decline [- 0.05 (0.02), p = 0.0212]. In SCA1, PHQ-9 progression was faster in patients with cognitive impairment [0.14 (0.07); p = 0.0396].CONCLUSIONS: In the common SCAs, PROMs give complementary information to the information provided by neurological scales. This underlines the importance of PROMs as additional outcome measures in future interventional trials.KEYWORDS: ADL; Depression; Natural history studies; Quality of life; Spinocerebellar ataxia; Trinucleotide repeat diseasesPMID: 29959555 DOI: 10.1007/s00415-018-8954-0 ShareGrant supportGrant supportEU FP6 (EUROSCA)/Sixth Framework Programme/503304/Sixth Framework Programme/GeneMove/German Ministry of Education and Research/NKFIH 119540/Hungarian Funding Agency/n° 2012-305121 \"Integrated European-omics research project for diagnosis and therapy in rare neuromuscular and neurodegenerative diseases (NEUROMICS)\"/FP7 Ideas: European Research Council/\n",
      "\n",
      "\n",
      "J Biol Chem. 2018 Jun 29. pii: jbc.RA118.004267. doi: 10.1074/jbc.RA118.004267. [Epub ahead of print]Glycosaminoglycans have variable effects on α-synuclein aggregation and differentially affect the activities of the resulting amyloid fibrils.Mehra S1, Ghosh D2, Kumar R1, Mondal M3, Gadhe LG1, Das S1, Anoop A1, Jha NN1, Jacob RS1, Chatterjee D1, Ray S1, Singh N1, Kumar A1, Maji SK1.Author information1IIT Bombay, India.2BSBE, IIT Bombay, India.3IIT Bombay.AbstractParkinson's disease is a sporadic disorder in which both environmental and cellular factors play a major role in the initiation of this disease. Glycosaminoglycans (GAGs) are integral components of the extracellular matrix and are known to influence amyloid aggregation of several proteins, including α-synuclein (α-Syn). However, the mechanism by which different GAGs and related biological polymers influence protein aggregation and the structure and intercellular spread of these aggregates remains elusive. In this study, we used three different GAGs and related charged polymers to establish their role in α-Syn aggregation and associated biological activities of these aggregates. Heparin, a representative GAG, affected α-Syn aggregation in a concentration-dependent manner, whereas biphasic α-Syn aggregation kinetics was observed in the presence of chondroitin sulfate B. Of note, as indicated by 2D NMR analysis, different GAGs uniquely modulated α-Syn aggregation owing to the diversity of their interactions with soluble α-Syn. Moreover, subtle differences in the GAG backbone structure and charge density significantly altered the properties of the resulting amyloid fibrils. Each GAG/polymer facilitated the formation of morphologically and structurally distinct α-Syn amyloids, which not only displayed variable cytotoxicity, but also exhibited altered ability to internalize into cells. Our study supports the role of GAGs as key modulators in α-Syn amyloid formation, and their distinct activities may regulate amyloidogenesis depending on the type of GAG being up- or down-regulated in vivo.KEYWORDS: Parkinson disease; alpha-synuclein (a-synuclein); amyloid; amyloidogenesis; glycosaminoglycan; neurodegenerationPMID: 29959225 DOI: 10.1074/jbc.RA118.004267 Share\n",
      "\n",
      "\n",
      "Ment Health Clin. 2018 Mar 23;7(1):29-38. doi: 10.9740/mhc.2017.01.029. eCollection  2017 Jan.Evidence for the use of \"medical marijuana\" in psychiatric and neurologic disorders.Noel C1.Author information1Assistant Professor of Pharmacy Practice, St John Fisher College Wegman's School of Pharmacy, Rochester, New York; Clinical Pharmacist, University of Rochester Medical Center, Rochester, New York, cnoel@sjfc.edu.AbstractIntroduction: Cannabis is listed as a Schedule I substance under the Controlled Substances Act of 1970, meaning the US federal government defines it as an illegal drug that has high potential for abuse and no established medical use; however, half of the states in the nation have enacted \"medical marijuana\" (MM) laws. Clinicians must be aware of the evidence for and against the use of MM in their patients who may consider using this substance.Methods: A PubMed database search was performed using the text string: \"Cannabis\"[Mesh] OR \"Marijuana Abuse\"[Mesh] OR \"Medical Marijuana\"[Mesh] OR \"Marijuana Smoking\"[Mesh] OR \"cannabi*\" OR \"tetrahydrocannabinol.\" The search was further limited to randomized clinical trial publications in English on human subjects to identify articles regarding the therapeutic use of phytocannabinoids for psychiatric and neurologic disorders. Commercially available products (ie, dronabinol, nabilone, nabiximols) and synthetic cannabinoids were excluded from the review.Results: Publications were identified that included patients with dementia, multiple sclerosis, Parkinson disease, Huntington disease, schizophrenia, social anxiety disorder, depression, tobacco use disorder, and neuropathic pain.Discussion: There is great variety concerning which medical conditions are approved for treatment with MM for either palliative or therapeutic benefit, depending on the state law. It is important to keep an evidence-based approach in mind, even with substances considered to be illegal under US federal law. Clinicians must weigh risks and benefits of the use of MM in their patients and should ensure that patients have tried other treatment modalities with higher levels of evidence for use when available and appropriate.KEYWORDS: CBD; THC; cannabidiol; cannabinoids; delta-9-tetrahydrocannabinol; marijuana; medical marijuana; phytocannabinoids; tetrahydrocannabinol; therapeutic uses of illicit substancesPMID: 29955495 PMCID: PMC6007658 DOI: 10.9740/mhc.2017.01.029 Share\n",
      "\n",
      "\n",
      "Can J Hosp Pharm. 2018 May-Jun;71(3):196-207. Epub  2018 Jun 28.Interaction between Monoamine Oxidase B Inhibitors and Selective Serotonin Reuptake Inhibitors.Aboukarr A1, Giudice M2.Author information1, PharmD, was, at the time this review was performed, a PharmD student in the Leslie Dan Faculty of Pharmacy, University of Toronto, Toronto, Ontario. He is now with Medical Affairs, Purdue Pharma (Canada), Pickering, Ontario.2, BScPharm, is with the Ottawa Valley Regional Drug Information Service, The Ottawa Hospital, Ottawa, Ontario.Abstractin\n",
      "\t\t\t\tEnglish, FrenchContexte: Les inhibiteurs de la monoamine oxydase B (MAO-B) sont employés dans le traitement des symptômes moteurs de la maladie de Parkinson, maladie à laquelle la dépression est souvent associée et fréquemment traitée à l’aide d’inhibiteurs sélectifs de la recapture de la sérotonine (ISRS). Des sources tertiaires mettent en garde contre la combinaison d’inhibiteurs de la MAO-B et d’ISRS car elle peut mener à une augmentation des effets sérotoninergiques, dégénérant en un syndrome sérotoninergique.Objectif: Chercher à connaître le mécanisme, la signification clinique et la prise en charge de cette potentielle interaction médicamenteuse en procédant à une revue des preuves à l’appui.Sources des données: Les bases de données PubMed, MEDLINE (depuis 1946), Embase (depuis 1947), PscyINFO (depuis 1806), et International Pharmaceutical Abstracts (depuis 1970) ont été interrogées le 4 février 2017.Sélection des études et extraction des données: Des études et des observations cliniques, publiées en anglais, portant sur des aspects de la potentielle interaction entre les inhibiteurs de la MAO-B et les ISRS chez les patients atteints de la maladie de Parkinson ont été repérées par une recherche ciblant les titres et les résumés.Synthèse des données: La recherche a permis de trouver 8 études analysant la potentielle interaction entre les ISRS et deux inhibiteurs de la MAO-B : la sélégiline et la rasagiline. La plus importante d’entre elles, une étude de cohorte rétrospective sur 1504 patients atteints de la maladie de Parkinson, n’a relevé aucun cas de syndrome sérotoninergique en présence d’une prise concomitante de rasagiline et d’un ISRS. Une enquête auprès de 63 chercheurs dans le Parkinson Study Group a permis de relever 11 potentiels cas de syndrome sérotoninergique chez 4568 patients traités avec une combinaison de sélégiline et d’antidépresseurs (notamment des ISRS). De plus, 17 observations cliniques qui décrivaient un début de syndrome sérotoninergique en présence d’une prise concomitante d’un ISRS et de sélégiline ou de rasagiline ont été recensées. Suivant la réduction de la posologie ou l’interruption d’un ou des deux médicaments, les symptômes du syndrome sérotoninergique se sont graduellement résolus dans la plupart des cas, et il n’y a eu aucune mortalité.Conclusions: Selon la documentation, le syndrome sérotoninergique est rare et la combinaison d’ISRS et d’inhibiteurs de la MAO-B est bien tolérée. Ainsi, les deux types d’inhibiteurs peuvent être administrés conjointement pourvu que l’on ne dépasse pas la posologie recommandée et que la dose d’ISRS demeure dans le bas de l’intervalle thérapeutique. Parmi les ISRS, il peut être préférable d’employer le citalopram ou la sertraline.Background: Monoamine oxidase B (MAO-B) inhibitors are used to treat the motor symptoms of Parkinson disease. Depression is commonly associated with Parkinson disease, and selective serotonin reuptake inhibitors (SSRIs) are often used for its management. Tertiary sources warn that the combination of MAO-B inhibitors and SSRIs can result in increased serotonergic effects, leading to serotonin syndrome.Objective: To explore the mechanism, clinical significance, and management of this potential drug interaction through a review of the supporting evidence.Data Sources: PubMed, MEDLINE (1946 forward), Embase (1947 forward), PsycINFO (1806 forward), and International Pharmaceutical Abstracts (1970 forward) were searched on February 4, 2017.Study Selection and Data Extraction: Studies and case reports describing aspects of the potential interaction between MAO-B inhibitors and SSRIs in patients with Parkinson disease and published in English were identified by both title and abstract.Data Synthesis: The search identified 8 studies evaluating the potential interaction between SSRIs and the MAO-B inhibitors selegiline and rasagiline. The largest, a retrospective cohort study of 1504 patients with Parkinson disease, found no cases of serotonin syndrome with coadministration of rasagiline and an SSRI. A survey of 63 investigators in the Parkinson Study Group identified 11 potential cases of serotonin syndrome among 4568 patients treated with the combination of selegiline and antidepressants (including SSRIs). In addition, 17 case reports describing the onset of serotonin syndrome with coadministration of an SSRI and either selegiline or rasagiline were identified. Following discontinuation or dose reduction of one or both of the agents, the symptoms of serotonin syndrome gradually resolved in most cases, with none being fatal.Conclusions: According to the literature, serotonin syndrome occurs rarely, and the combination of SSRI and MAO-B inhibitor is well tolerated. Therefore, SSRIs and MAO-B inhibitors can be coadministered, provided that their recommended doses are not exceeded and the SSRI dose is kept at the lower end of the therapeutic range. Among the SSRIs, citalopram and sertraline may be preferred.KEYWORDS: Parkinson disease; drug interactions; rasagiline; selective serotonin reuptake inhibitor; selegiline; serotonin syndromePMID: 29955193 PMCID: PMC6019085 [Available on 2018-11-01] ShareConflict of interest statementCompeting interests: This manuscript was undertaken when Abdullah Aboukarr was a fourth-year PharmD student with a placement at the Ottawa Valley Regional Drug Information Service, for which Mirella Giudice was the preceptor. Dr Aboukarr now works as a medical information/pharmacovigilance officer with Purdue Pharma (Canada), which does not market or manufacture any of the products mentioned in this article, or any competing products. No other competing interests were declared.Publication typePublication typeReview\n",
      "\n",
      "\n",
      "AJNR Am J Neuroradiol. 2018 Jun 28. doi: 10.3174/ajnr.A5702. [Epub ahead of print]Comparative Study of MRI Biomarkers in the Substantia Nigra to Discriminate Idiopathic Parkinson Disease.Pyatigorskaya N1,2,3, Magnin B4,2,3, Mongin M4,2, Yahia-Cherif L4,2, Valabregue R4, Arnaldi D4,5,6, Ewenczyk C7, Poupon C8, Vidailhet M4,2,7,6, Lehéricy S4,2,3.Author information1From the Institut du Cerveau et de la Moelle épinière (N.P., B.M., M.M., L.Y.-C., R.V., D.A., M.V., S.L.), Centre de NeuroImagerie de Recherche, Paris, France nadya.pyatigorskaya@gmail.com.2UMR S 1127, CNRS UMR 7225 (N.P., B.M., M.M., L.Y.-C., M.V., S.L.), Sorbonne University, Paris, France.3Service de neuroradiologie (N.P., B.M., S.L.).4From the Institut du Cerveau et de la Moelle épinière (N.P., B.M., M.M., L.Y.-C., R.V., D.A., M.V., S.L.), Centre de NeuroImagerie de Recherche, Paris, France.5Clinical Neurology (D.A.), Department of Neuroscience, University of Genoa, Genoa, Italy.6Centre d'Investigation Clinique (D.A., M.V.), Hôpital Pitié-Salpêtrière, Paris, France.7Département des Maladies du Système Nerveux (C.E., M.V.), Clinique des mouvements anormaux, Assistance Publique Hôpitaux de Paris, Hôpital Pitié-Salpêtrière, Paris, France.8NeuroSpin (C.P.), Commissariat à l'Energie Atomique, Gif-Sur-Yvette, France.AbstractBACKGROUND AND PURPOSE: Several new MR imaging techniques have shown promising results in patients with Parkinson disease; however, the comparative diagnostic values of these measures at the individual level remain unclear. Our aim was to compare the diagnostic value of MR imaging biomarkers of substantia nigra damage for distinguishing patients with Parkinson disease from healthy volunteers.MATERIALS AND METHODS: Thirty-six patients and 20 healthy volunteers were prospectively included. The MR imaging protocol at 3T included 3D T2-weighted and T1-weighted neuromelanin-sensitive images, diffusion tensor images, and R2* mapping. T2* high-resolution images were also acquired at 7T to evaluate the dorsal nigral hyperintensity sign. Quantitative analysis was performed using ROIs in the substantia nigra drawn manually around the area of high signal intensity on neuromelanin-sensitive images and T2-weighted images. Visual analysis of the substantia nigra neuromelanin-sensitive signal intensity and the dorsolateral nigral hyperintensity on T2* images was performed.RESULTS: There was a significant decrease in the neuromelanin-sensitive volume and signal intensity in patients with Parkinson disease. There was also a significant decrease in fractional anisotropy and an increase in mean, axial, and radial diffusivity in the neuromelanin-sensitive substantia nigra at 3T and a decrease in substantia nigra volume on T2* images. The combination of substantia nigra volume, signal intensity, and fractional anisotropy in the neuromelanin-sensitive substantia nigra allowed excellent diagnostic accuracy (0.93). Visual assessment of both substantia nigra dorsolateral hyperintensity and neuromelanin-sensitive images had good diagnostic accuracy (0.91 and 0.86, respectively).CONCLUSIONS: The combination of neuromelanin signal and volume changes with fractional anisotropy measurements in the substantia nigra showed excellent diagnostic accuracy. Moreover, the high diagnostic accuracy of visual assessment of substantia nigra changes using dorsolateral hyperintensity analysis or neuromelanin-sensitive signal changes indicates that these techniques are promising for clinical practice.© 2018 by American Journal of Neuroradiology.PMID: 29954816 DOI: 10.3174/ajnr.A5702 Share\n",
      "\n",
      "\n",
      "Neurology. 2018 Jun 29. pii: 10.1212/WNL.0000000000005903. doi: 10.1212/WNL.0000000000005903. [Epub ahead of print]Effects of deep brain stimulation on rest tremor progression in early stage Parkinson disease.Hacker ML1, DeLong MR1, Turchan M1, Heusinkveld LE1, Ostrem JL1, Molinari AL1, Currie AD1, Konrad PE1, Davis TL1, Phibbs FT1, Hedera P1, Cannard KR1, Drye LT1, Sternberg AL1, Shade DM1, Tonascia J1, Charles D2.Author information1From the Departments of Neurology (M.L.H., M.T., L.E.H., A.L.M., A.D.C., T.L.D., F.T.P., P.H., D.C.) and Neurosurgery (P.E.K.), Vanderbilt University Medical Center, Nashville, TN; Department of Neurology (M.R.D.), Emory University School of Medicine, Atlanta, GA; Laboratory of Molecular Immunology (L.E.H.), National Institute of Allergy and Infectious Diseases, Bethesda, MD; Movement Disorders and Neuromodulation Center (J.L.O.), Department of Neurology, University of California San Francisco; Department of Neurology (K.R.C.), Walter Reed National Military Center, Bethesda; and Department of Epidemiology (L.T.D., A.L.S., D.M.S., J.T.), Johns Hopkins University, Baltimore, MD.2From the Departments of Neurology (M.L.H., M.T., L.E.H., A.L.M., A.D.C., T.L.D., F.T.P., P.H., D.C.) and Neurosurgery (P.E.K.), Vanderbilt University Medical Center, Nashville, TN; Department of Neurology (M.R.D.), Emory University School of Medicine, Atlanta, GA; Laboratory of Molecular Immunology (L.E.H.), National Institute of Allergy and Infectious Diseases, Bethesda, MD; Movement Disorders and Neuromodulation Center (J.L.O.), Department of Neurology, University of California San Francisco; Department of Neurology (K.R.C.), Walter Reed National Military Center, Bethesda; and Department of Epidemiology (L.T.D., A.L.S., D.M.S., J.T.), Johns Hopkins University, Baltimore, MD. david.charles@vanderbilt.edu.AbstractOBJECTIVE: To evaluate whether the progression of individual motor features was influenced by early deep brain stimulation (DBS), a post hoc analysis of Unified Parkinson's Disease Rating Scale-III (UPDRS-III) score (after a 7-day washout) was conducted from the 2-year DBS in early Parkinson disease (PD) pilot trial dataset.METHODS: The prospective pilot trial enrolled patients with PD aged 50-75 years, treated with PD medications for 6 months-4 years, and no history of dyskinesia or other motor fluctuations, who were randomized to receive optimal drug therapy (ODT) or DBS plus ODT (DBS + ODT). At baseline and 6, 12, 18, and 24 months, all patients stopped all PD therapy for 1 week (medication and stimulation, if applicable). UPDRS-III \"off\" item scores were compared between the ODT and DBS + ODT groups (n = 28); items with significant between-group differences were analyzed further.RESULTS: UPDRS-III \"off\" rest tremor score change from baseline to 24 months was worse in patients receiving ODT vs DBS + ODT (p = 0.002). Rest tremor slopes from baseline to 24 months favored DBS + ODT both \"off\" and \"on\" therapy (p < 0.001, p = 0.003, respectively). More ODT patients developed new rest tremor in previously unaffected limbs than those receiving DBS + ODT (p = 0.001).CONCLUSIONS: These results suggest the possibility that DBS in early PD may slow rest tremor progression. Future investigation in a larger cohort is needed, and these findings will be tested in the Food and Drug Administration-approved, phase III, pivotal, multicenter clinical trial evaluating DBS in early PD.CLASSIFICATION OF EVIDENCE: This study provides Class II evidence that for patients with early PD, DBS may slow the progression of rest tremor.© 2018 American Academy of Neurology.PMID: 29959266 DOI: 10.1212/WNL.0000000000005903 Share\n",
      "\n",
      "\n",
      "J Speech Lang Hear Res. 2018 Jun 28:1-9. doi: 10.1044/2018_JSLHR-L-17-0304. [Epub ahead of print]Evaluation of Linguistic Markers of Word-Finding Difficulty and Cognition in Parkinson's Disease.Smith KM1,2, Ash S3, Xie SX4, Grossman M3.Author information1Parkinson Disease and Movement Disorders Center, Department of Neurology, Perelman School of Medicine at the University of Pennsylvania, Philadelphia.2Department of Neurology, University of Massachusetts Memorial Medical Center/UMass Medical School, Worcester.3Department of Neurology and the Penn Frontotemporal Degenerative Center, Perelman School of Medicine at the University of Pennsylvania, Philadelphia.4Department of Biostatistics and Epidemiology, Perelman School of Medicine at the University of Pennsylvania, Philadelphia.AbstractPurpose: Early cognitive symptoms such as word-finding difficulty (WFD) in daily conversation are common in Parkinson's disease (PD), but studies have been limited by a lack of feasible, quantitative measures. Linguistic analysis, focused on pauses in speech, may yield markers of impairment of cognition and communication in PD. The objective of this study was to evaluate the relationship of linguistic markers in semistructured speech to WFD symptoms and cognitive function in PD.Method: Speech recordings of description of the Cookie Theft picture in 53 patients with PD without dementia and 23 elderly controls were analyzed with Praat software. Montreal Cognitive Assessment (MoCA; Nasreddine et al., 2005), category naming fluency, and confrontation naming tests were administered. Questionnaires rating WFD symptoms and cognitive instrumental activities of daily living were completed. We determined the relationships between (a) pause length and location, (b) MoCA score, and (c) WFD symptoms, using Pearson's correlations and multivariate regression models.Results: Compared with controls, patients with PD had more pauses within utterances as well as fewer words per minute and a lower percentage of well-formed sentences. Pauses within utterances differed significantly between PD-mild cognitive impairment and normal cognition (p < .001). Words per minute and percentage of well-formed sentences were predictive of MoCA in multivariate regression models. Pauses before verbs were associated with patient-reported severity of WFD symptoms (p = .006).Conclusions: Linguistic markers including pauses within utterances distinguish patients with PD with mild cognitive symptoms from elderly controls. These markers are associated with global cognitive function before the onset of dementia. Pauses before verbs and grammatical markers may index early cognitive symptoms such as WFD that may interfere with functional communication.Supplemental Material: https://doi.org/10.23641/asha.6615401.PMID: 29955824 DOI: 10.1044/2018_JSLHR-L-17-0304 Share\n",
      "\n",
      "\n",
      "Neurologist. 2018 Jul;23(4):141-147. doi: 10.1097/NRL.0000000000000188.Therapy With Mesenchymal Stem Cells in Parkinson Disease: History and Perspectives.Mendes Filho D1,2, Ribeiro PDC2,3, Oliveira LF1,4, de Paula DRM1, Capuano V1, de Assunção TSF5,6, da Silva VJD1,5.Author information1Departments of Physiology, Biological and Natural Sciences Institute.2Nanocell Institute, Divinópolis, MG.3Laboratory of Immunology and Experimental Transplantation, São José do Rio Preto Medical School, São José do Rio Preto, SP.4National Institute of Science and Technology for Regenerative Medicine (INCT-REGENERA-CNPq), Rio de Janeiro, RJ.5Tropical Medicine and Infectiology, Health Sciences Institute, Triângulo Mineiro Federal University, Uberaba.6Minas Gerais Network for Tissue Engineering and Cell Therapy (REMETTEC-FAPEMIG), Belo Horizonte, MG, Brazil.AbstractBACKGROUND: Parkinson disease (PD) is a neurodegenerative disorder affecting the basal nuclei, causing motor and cognitive disorders. Bearing in mind that standard treatments are ineffective in delaying the disease progression, alternative treatments capable of eliminating symptoms and reversing the clinical condition have been sought. Possible alternative treatments include cell therapy, especially with the use of mesenchymal stem cells (MSC).REVIEW SUMMARY: MSC are adult stem cells which have demonstrated remarkable therapeutic power in parkinsonian animals due to their differentiation competence, migratory capacity and the production of bioactive molecules. This review aims to analyze the main studies involving MSC and PD in more than a decade of studies, addressing their different methodologies and common characteristics, as well as suggesting perspectives on the application of MSC in PD.CONCLUSIONS: The results of MSC therapy in animal models and some clinical trials suggest that such cellular therapy may slow the progression of PD and promote neuroregeneration. However, further research is needed to address the limitations of an eventual clinical application.PMID: 29953040 DOI: 10.1097/NRL.0000000000000188 ShareLinkOut - more resourcesFull Text SourcesWolters Kluwer\n",
      "\n",
      "\n"
     ]
    },
    {
     "data": {
      "text/plain": [
       "20"
      ]
     },
     "execution_count": 39,
     "metadata": {},
     "output_type": "execute_result"
    }
   ],
   "source": [
    "for i in abstract:\n",
    "    print(i)\n",
    "    print(\"\\n\")\n",
    "\n",
    "len(abstract)"
   ]
  },
  {
   "cell_type": "markdown",
   "metadata": {},
   "source": [
    "## Add title and abstract to article_dict"
   ]
  },
  {
   "cell_type": "code",
   "execution_count": 40,
   "metadata": {
    "scrolled": false
   },
   "outputs": [
    {
     "name": "stdout",
     "output_type": "stream",
     "text": [
      "{'title': [[\"Trx-1 ameliorates learning and memory deficits in MPTP-induced Parkinson's disease model in mice.\", \"MANF protects dopamine neurons and locomotion defects from a human α-synuclein induced Parkinson's disease model in C. elegans by regulating ER stress and autophagy pathways.\", \"Patients' shifting goals for deep brain stimulation and informed consent.\", 'Drug-induced parkinsonism: A case report.', 'Implementation and evaluation of Parkinson disease management in an outpatient clinical pharmacist-run neurology telephone clinic.', 'Treatment of psychotic symptoms in patients with Parkinson disease.', \"Visual hallucinations in dementia and Parkinson's disease: A qualitative exploration of patient and caregiver experiences.\", 'Level of uric acid and uric acid/creatinine ratios in correlation with stage of Parkinson disease.', 'Lipid vesicles affect the aggregation of 4-hydroxy-2-nonenal-modified α-synuclein oligomers.', 'Association between attention-deficit/hyperactivity disorder and amyotrophic lateral sclerosis.', \"The factors associated with impulse control behaviors in Parkinson's disease: A 2-year longitudinal retrospective cohort study.\", 'Pimavanserin (Nuplazid™) for the treatment of Parkinson disease psychosis: A review of the literature.', 'Long-term evolution of patient-reported outcome measures in spinocerebellar ataxias.', 'Glycosaminoglycans have variable effects on α-synuclein aggregation and differentially affect the activities of the resulting amyloid fibrils.', 'Evidence for the use of \"medical marijuana\" in psychiatric and neurologic disorders.', 'Interaction between Monoamine Oxidase B Inhibitors and Selective Serotonin Reuptake Inhibitors.', 'Comparative Study of MRI Biomarkers in the Substantia Nigra to Discriminate Idiopathic Parkinson Disease.', 'Effects of deep brain stimulation on rest tremor progression in early stage Parkinson disease.', \"Evaluation of Linguistic Markers of Word-Finding Difficulty and Cognition in Parkinson's Disease.\", 'Therapy With Mesenchymal Stem Cells in Parkinson Disease: History and Perspectives.']], 'abstract': [[\"Free Radic Biol Med. 2018 Jun 27. pii: S0891-5849(18)31128-6. doi: 10.1016/j.freeradbiomed.2018.06.029. [Epub ahead of print]Trx-1 ameliorates learning and memory deficits in MPTP-induced Parkinson's disease model in mice.Zhang X1, Bai L2, Zhang S2, Zhou X2, Li Y3, Bai J4.Author information1Faculty of Environmental Science and Engineering, Kunming University of Science and Technology, Kunming 650500; Laboratory of Molecular Neurobiology, Medical Faculty, Kunming University of Science and Technology, Kunming 650500.2Laboratory of Molecular Neurobiology, Medical Faculty, Kunming University of Science and Technology, Kunming 650500.3Laboratory of Molecular Neurobiology, Medical Faculty, Kunming University of Science and Technology, Kunming 650500. Electronic address: liye918@gmail.com.4Laboratory of Molecular Neurobiology, Medical Faculty, Kunming University of Science and Technology, Kunming 650500. Electronic address: jiebai662001@126.com.AbstractParkinson's disease (PD) is characterized by a progressive loss of dopaminergic neurons in the substantia nigra(SNpc), characteristic motor symptoms and cognitive impairment. Thioredoxin-1 (Trx-1) is a redox protein and protects neurons from various injuries. Our previous study has shown that Trx-1 overexpression attenuates movement disorder in PD. However, whether Trx-1 ameliorates cognitive deficits in PD is still unknown. In the present study, we investigated the effects of Trx-1 on learning and memory in the 1-methyl-4-phenyl-1,2,3,6-tetrahydropyridine (MPTP)-induced PD model in mice. We demonstrated that deficits in learning and memory were induced by MPTP in mice through the elevated plus-maze test. We found that the retention transfer latency time was shorten, escape latency was decreased and the number of platform crossings was increased in the Morris water maze (MWM) in Trx-1 transgenic (TG) mice when compared with wild type mice. The expressions of tyrosine hydroxylase(TH) and dopamine D1 receptor (D1R) were decreased by MPTP, which were restored in Trx-1 TG mice. The expression of N-methyl-D-aspartate receptor 2B subunit (NR2B), the levels of phosphorylation of extracellular signal-regulated kinase (ERK1/2) and cAMP-response element binding protein (CREB) in the hippocampus were decreased by MPTP, which were reversed in Trx-1 TG mice. These results suggest that Trx-1 ameliorates learning and memory deficits in MPTP-induced PD model in mice via modulating the D1R and the NMDAR-ERK1/2-CREB pathway. Trx-1 may be a therapy target for learning and memory deficits in PD.KEYWORDS: Hippocampus; Learning and memory deficits; Parkinson's disease; Thioredoxin-1PMID: 29960099 DOI: 10.1016/j.freeradbiomed.2018.06.029 Share\", \"Exp Neurol. 2018 Jun 27. pii: S0014-4886(18)30206-1. doi: 10.1016/j.expneurol.2018.06.016. [Epub ahead of print]MANF protects dopamine neurons and locomotion defects from a human α-synuclein induced Parkinson's disease model in C. elegans by regulating ER stress and autophagy pathways.Zhang Z1, Shen Y1, Luo H1, Zhang F2, Jing L2, Wu Y2, Xia X2, Song Y2, Li W3, Jin L4.Author information1Department of Neurology, Shanghai Tongji Hospital, Tongji University School of Medicine, 389 Xincun Road, Shanghai 200065, People's Republic of China.2School of Life Science and Technology, Tongji University, 1239 Siping Road, Shanghai 200092, People's Republic of China.3Department of Neurology, Shanghai Tongji Hospital, Tongji University School of Medicine, 389 Xincun Road, Shanghai 200065, People's Republic of China; School of Life Science and Technology, Tongji University, 1239 Siping Road, Shanghai 200092, People's Republic of China. Electronic address: liw@tongji.edu.cn.4Department of Neurology, Shanghai Tongji Hospital, Tongji University School of Medicine, 389 Xincun Road, Shanghai 200065, People's Republic of China. Electronic address: lingjingjin@163.com.AbstractThere are many studies have demonstrated that mesencephalic astrocyte-derived neurotrophic factor (MANF) has been shown protective effects on neurotoxin based models of Parkinson's disease (PD). It still remains unclear whether MANF can rescue dopaminergic (DA) neurons in an α-synuclein model. Glial cell line-derived neurotrophic factor (GDNF) and its related neurturin (NRTN) can protect DA neurons in the neurotoxin but not α-synuclein animal models of PD, it failed in the clinical trials. Since α-synuclein model can better mimic the progression of human PD, in our study we overexpressed MANF specifically in DA neurons by using an α-synuclein Caenorhabditis elegans (C. elegans) model. Our results showed MANF alleviated progressive neuronal degeneration and prevented locomotion defects. Indeed, MANF can protect cilia of DA neurons at an early stage, suggested that MANF participated in the whole process of neuronal degeneration. Furthermore, we found MANF facilitated the removal of misfolded α-synuclein proteins and rescued the function of damaged DA neurons. By using RNAi approach, we inhibited ER stress and autophagy related genes and MANF effects were decreased, which demonstrated ER stress and autophagy pathways were involved in the MANF-mediated neuroprotection. Our study suggests MANF exhibits potential as a neuroprotective agent for PD therapy.KEYWORDS: Autophagy; C. elegans; Calcium; ER stress; MANF; Neuroprotection; Parkinson's disease; α-synucleinPMID: 29959908 DOI: 10.1016/j.expneurol.2018.06.016 Share\", \"Neurology. 2018 Jun 29. pii: 10.1212/WNL.0000000000005917. doi: 10.1212/WNL.0000000000005917. [Epub ahead of print]Patients' shifting goals for deep brain stimulation and informed consent.Kubu CS1, Frazier T2, Cooper SE2, Machado A2, Vitek J2, Ford PJ2.Author information1From the Center for Neurological Restoration (C.S.K.), Neuroethics Program (P.J.F.), Center for Pediatric Behavioral Health (T.F.), and Center for Neurological Restoration (A.M.), Cleveland Clinic, OH; and Department of Neurology (S.E.C., J.V.), University of Minnesota, Minneapolis. kubuc@ccf.org.2From the Center for Neurological Restoration (C.S.K.), Neuroethics Program (P.J.F.), Center for Pediatric Behavioral Health (T.F.), and Center for Neurological Restoration (A.M.), Cleveland Clinic, OH; and Department of Neurology (S.E.C., J.V.), University of Minnesota, Minneapolis.AbstractOBJECTIVE: To determine using a repeated-measures, prospective design whether deep brain stimulation (DBS) results in changes in the importance of symptom and behavioral goals individually identified by patients with Parkinson disease (PD) before DBS surgery.METHODS: Fifty-two participants recruited from a consecutive series completed a semistructured interview soliciting their rank-ordered symptom and behavioral goals and corresponding visual analog scales measuring perceived symptom severity and limits to goal attainment. Rank orders were reassessed at 2 times after DBS. Changes in rank order over time were examined with χ2 analyses. The relationships between change in symptom severity/limits to behavioral goal attainment and change in rank order were examined with mixed-effects linear regression models.RESULTS: Most participants changed the rank order of their symptom (81%) and behavioral (77%) goals 3 months after DBS surgery. Change in rank order of symptom goals was significantly related to change in severity ratings such that improvements in self-reported symptom severity were associated with reductions in rank. In contrast, no such relationship was evident for the behavioral goals.CONCLUSION: These data illustrate how patients' primary goals for DBS shift early in stimulation and highlight the important differences between symptom and behavioral goals. Changes in the rank order of symptom goals were related to changes in symptom severity, whereas subtler shifts in behavioral goals were unrelated to improvements after DBS. This observation suggests that DBS does not affect goals that may be more reflective of core personal values. The findings provide empiric data that can help improve the informed consent process.© 2018 American Academy of Neurology.PMID: 29959262 DOI: 10.1212/WNL.0000000000005917 Share\", \"Ment Health Clin. 2018 Mar 23;7(2):65-68. doi: 10.9740/mhc.2017.03.065. eCollection  2017 Mar.Drug-induced parkinsonism: A case report.Morabito BD1, Paulison B2.Author information1Clinical Pharmacy Specialist, North Florida/South Georgia Veterans Health System, Gainesville, Florida, Brianna.Morabito@va.gov.2Clinical Pharmacy Specialist, North Florida/South Georgia Veterans Health System, Gainesville, Florida.AbstractDrug-induced parkinsonism is defined as the appearance of parkinsonism on treatment with pharmaceutical agents. Symptoms typically manifest within a few days, and 90% of cases emerge within 3 months. The patient was a 68-year-old white man with a past psychiatric history significant for bipolar I versus cyclothymic disorder. The patient presented with pressured speech, flight of ideas, distractibility, delusions, and disorganized thinking. He was started on risperidone and, due to a subclinical response, was cross-tapered from risperidone to olanzapine, and divalproex was started. The patient was then given paliperidone 234 mg long-acting injection (LAI) and a second loading dose of 156 mg 1 week later. The patient's cognitive and functional status subsequently declined, all neuroleptics were discontinued, and he was diagnosed with drug-induced parkinsonism. After a complicated hospital course the patient died approximately 5 months after the administration of paliperidone LAI. Although there are several confounding factors, due to the temporal relationship of events it is likely that paliperidone LAI was a contributing factor for the development of severe parkinsonism. Practitioners should be cognizant of the potential long-term consequences of paliperidone LAI.KEYWORDS: Invega Sustenna®; Parkinson disease; antipsychotic; divalproex; drug-induced parkinsonism; long-acting injection; paliperidone; parkinsonismPMID: 29955500 PMCID: PMC6007667 DOI: 10.9740/mhc.2017.03.065 Share\", 'Ment Health Clin. 2018 Apr 26;8(3):159-162. doi: 10.9740/mhc.2018.05.159. eCollection  2018 May.Implementation and evaluation of Parkinson disease management in an outpatient clinical pharmacist-run neurology telephone clinic.Stefan TC1, Elharar N2, Garcia G3.Author information1PGY-2 Psychiatric Pharmacy Resident, West Palm Beach Veterans Affairs Medical Center, West Palm Beach, Florida, Teodora.Stefan@va.gov.2Clinical Pharmacy Specialist - PTSD and Substance Abuse, PGY2 Psychiatry Residency Associate Director, West Palm Beach Veterans Affairs Medical Center, West Palm Beach, Florida.3Clinical Pharmacy Specialist, Psychiatry, Residency Director, PGY-2 Psychiatric Pharmacy, West Palm Beach Veterans Affairs Medical Center, West Palm Beach, Florida.AbstractParkinson disease (PD) is a progressive, debilitating neurodegenerative disease that often requires complex pharmacologic treatment regimens. Prior to this clinic, there was no involvement of a clinical pharmacy specialist (CPS) in the outpatient neurology clinic at the West Palm Beach Veterans Affairs Medical Center. This was a prospective, quality-improvement project to develop a clinical pharmacist-run neurology telephone clinic and evaluate pharmacologic and nonpharmacologic interventions in an effort to improve the quality of care for patients with PD. Additionally, the CPS conducted medication education groups to 24 patients with PD and their caregivers, if applicable, at this medical center with the purpose of promoting patient knowledge and medication awareness. Medication management was performed via telephone rather than face to face. Only patients with a concomitant mental health diagnosis for which they were receiving at least one psychotropic medication were included for individual visits due to the established scope of practice of the CPS being limited to mental health and primary care medications. Data collection included patient and clinic demographics as well as pharmacologic and nonpharmacologic interventions made for patients enrolled from January 6, 2017, through March 31, 2017. A total of 49 pharmacologic and nonpharmacologic interventions were made for 10 patients. We successfully implemented and evaluated a clinical pharmacist-run neurology telephone clinic for patients with PD. Expansion of this clinic to patients with various neurological disorders may improve access to care using an innovative method of medication management expertise by a CPS.KEYWORDS: Parkinson disease; clinical pharmacist–run neurology telephone clinic; clinical pharmacy specialist; mental healthPMID: 29955562 PMCID: PMC6007640 DOI: 10.9740/mhc.2018.05.159 ShareConflict of interest statementDisclosures: The authors have nothing to disclose.', \"Ment Health Clin. 2018 Mar 23;7(6):262-270. doi: 10.9740/mhc.2017.11.262. eCollection  2017 Nov.Treatment of psychotic symptoms in patients with Parkinson disease.Chen JJ1.Author information1Professor and Chair, Department of Pharmacy Practice, College of Pharmacy, Marshall B. Ketchum University, Fullerton, California; Professor, Department of Neurology, Loma Linda University, Loma Linda, California, jchen@ketchum.edu.AbstractPersistent psychotic symptoms will develop in up to 60% of patients with Parkinson disease (PD). The initial approach to the management of PD psychosis (PDP) begins with addressing concurrent systemic conditions associated with psychotic behavior, such as delirium, medical conditions (eg, infections), psychiatric disorders (eg, major depression with psychotic symptoms, mania, schizophrenia), and substance misuse or withdrawal. A review of current medications is recommended, and medications that may trigger psychotic symptoms should be eliminated. If possible, antiparkinson medications should be reduced to the minimum therapeutic dose or discontinued in a sequential manner. Generally, dose reduction or discontinuation of anticholinergics is attempted first, followed by that of monoamine oxidase B inhibitors, amantadine, dopamine agonists, catechol-O-methyltransferase inhibitors, and lastly carbidopa/levodopa. The aim of antiparkinson medication dose reduction is to achieve a balance between improving drug-related psychotic symptoms and not significantly worsening the motor symptoms of PD. If additional measures are needed for chronic PDP treatment, the use of second-generation antipsychotics, such as clozapine, pimavanserin, or quetiapine, must be considered. The first-generation antipsychotics (eg, fluphenazine, haloperidol) are not recommended. In the patient with comorbid dementia, the addition of a cholinesterase inhibitor might also be beneficial for PDP. The choice of agent is based on patient-specific parameters, potential benefit, and side effects.KEYWORDS: Parkinson disease; antipsychotics; clozapine; movement disorders; nonmotor symptoms; pimavanserin; psychosis; quetiapinePMID: 29955532 PMCID: PMC6007727 DOI: 10.9740/mhc.2017.11.262 ShareConflict of interest statementDisclosures: J.J.C. is on the Speaker's Bureau for ACADIA Pharmaceuticals. Psychopharmacology Pearls are review articles intended to highlight both the evidence base available and/or controversial areas of clinical care for psychiatric and neurologic conditions, as well as strategies of clinical decision-making used by expert clinicians. As pearls, articles reflect the views and practice of each author as substantiated with evidence-based facts as well as opinion and experience. Articles are edited by members of the Psychopharmacology Pearls Editorial Board and are peer reviewed by MHC reviewers. This article was developed as part of the 2017 Psychopharmacology Pearls product for BCPP recertification credit. The course information and testing center is at cpnp.org/322903.\", 'Int J Geriatr Psychiatry. 2018 Jun 28. doi: 10.1002/gps.4929. [Epub ahead of print]Visual hallucinations in dementia and Parkinson\\'s disease: A qualitative exploration of patient and caregiver experiences.Renouf S1, Ffytche D1, Pinto R1, Murray J2, Lawrence V2.Author information1Department of Old Age Psychiatry, Institute of Psychiatry, Psychology and Neuroscience, King\\'s College London, London, UK.2Health Services and Population Research, Institute of Psychiatry, Psychology and Neuroscience, King\\'s College London, London, UK.AbstractOBJECTIVES: Visual hallucinations (VHs) can occur in several clinical conditions, of which the dementias, broadly defined, and Parkinson\\'s disease rank among the most common. There is limited research on the lived experience of hallucinations among affected individuals and therefore a lack of evidence-based management strategies. This study used qualitative methods to explore the VH experience of individuals with dementia or Parkinson\\'s disease and their informal caregivers.METHODS: In-depth interviews were conducted with 10 individuals with VHs and dementia and 11 informal caregivers, and 11 individuals with VHs and Parkinson\\'s disease and 9 informal caregivers. Interviews were analysed using an inductive thematic approach.RESULTS: Three themes emerged from the data: \"Insight and distress,\" \"Caregiver approach: challenging v reassurance,\" and \"Normality and stigma.\" Insight appeared to affect whether hallucinations were perceived as threatening and whether acceptance occurred over time. Emotional reactions and management strategies varied as insight changed with disease progression. Concerns around stigmatisation negatively influenced help-seeking and acceptance of the hallucinations.CONCLUSIONS: Degree of insight and cognitive ability appear fundamental to the lived experience of hallucinations. Irrespective of the clinical context, support in early stages should focus on raising awareness of VH, symptom disclosure, stigma reduction, and contact with others affected. In later stages, the focus shifts to informal caregiver needs and a flexible approach to reassuring those affected.© 2018 John Wiley & Sons, Ltd.KEYWORDS: Parkinson\\'s disease; dementia; qualitative methods; visual hallucinationsPMID: 29953689 DOI: 10.1002/gps.4929 ShareLinkOut - more resourcesFull Text SourcesWiley', \"Medicine (Baltimore). 2018 Jun;97(26):e10967. doi: 10.1097/MD.0000000000010967.Level of uric acid and uric acid/creatinine ratios in correlation with stage of Parkinson disease.Zhong LL1, Song YQ2,3, Tian XY1, Cao H1, Ju KJ1.Author information1Department of Neurology.2Department of Radiation Oncology, The Affiliated Huaian No. 1 People's Hospital of Nanjing Medical University.3Department of Hematology, Huai'an First People's Hospital, Nanjing Medical University, Huai'an, Jiangsu, P.R. China.AbstractThis study aims to investigate relationship between the level of uric acid (UA) and UA/creatinine ratios (UA/Cr) to the stage of Parkinson disease (PD).A total of 120 cases of PD patients who were admitted in our hospital between 2013 and 2015 were enrolled into this study; these 120 cases of PD patients were divided into 3 groups, according to Hoehn-Yahr (H-Y) classification: early stage (1-2 classification), medium stage (2.5-3 classification), and advanced stage (4-5 classification); UA and UA/Cr level in each group was compared. Then, factors including age, gender, dopamine dosage, UA, and UA/Cr levels were analyzed to find the independent predictive factors of PD by logistic regression.UA and UA/Cr levels in the early and medium stage PD patients were significantly higher than in the advanced stage ones. UA and UA/Cr levels in patients with good prognosis were significantly higher than in the poor ones.UA and UA/Cr levels are negatively correlated with the stages of PD and are independent negatively predicting biological indexes of PD incidence and progression.PMID: 29952939 DOI: 10.1097/MD.0000000000010967 Free full textShareLinkOut - more resourcesFull Text SourcesWolters Kluwer\", \"Biochim Biophys Acta. 2018 Jun 27. pii: S0925-4439(18)30224-2. doi: 10.1016/j.bbadis.2018.06.020. [Epub ahead of print]Lipid vesicles affect the aggregation of 4-hydroxy-2-nonenal-modified α-synuclein oligomers.Sinha MS1, Giraldo AMV2, Öllinger K2, Hallbeck M3, Civitelli L4.Author information1Department of Pathology, Department of Clinical and Experimental Medicine, Linköping University, S-58185 Linköping, Sweden.2Experimental Pathology, Department of Clinical and Experimental Medicine, Linköping University, S-58185 Linköping, Sweden.3Department of Pathology, Department of Clinical and Experimental Medicine, Linköping University, S-58185 Linköping, Sweden. Electronic address: martin.hallbeck@liu.se.4Department of Pathology, Department of Clinical and Experimental Medicine, Linköping University, S-58185 Linköping, Sweden. Electronic address: livia.civitelli@liu.se.AbstractParkinson's disease (PD) and other synucleinopathies are characterized by accumulation of misfolded aggregates of α-synuclein (α-syn). The normal function of α-syn is still under investigation, but it has been generally linked to synaptic plasticity, neurotransmitter release and the maintenance of the synaptic pool. α-Syn localizes at synaptic terminals where it can bind to synaptic vesicles as well as to other cellular membranes. It has become clear that these interactions have an impact on both α-syn functional role and its propensity to aggregate. In this study, we investigated the aggregation process of α-syn covalently modified with 4-hydroxy-2-nonenal (HNE). HNE is a product of lipid peroxidation and has been implicated in the pathogenesis of different neurodegenerative diseases by modifying the kinetics of soluble toxic oligomers. Although HNE-modified α-syn has been reported to assemble into stable oligomers, we found that slightly acidic conditions promoted further protein aggregation. Lipid vesicles delayed the aggregation process in a concentration-dependent manner, an effect that was observed only when they were added at the beginning of the aggregation process. Co-aggregation of lipid vesicles with HNE-modified α-syn also induced cytotoxic effects on differentiated SHSY-5Y cells. Under conditions in which the aggregation process was delayed cell viability was reduced. By exploring the behavior and potential cytotoxic effects of HNE-α-syn under acidic conditions in relation to protein-lipid interactions our study gives a framework to examine a possible pathway leading from a physiological setting to the pathological outcome of PD.KEYWORDS: Aggregation kinetics; Lipids; Parkinson's disease; Toxicity; α-SynucleinPMID: 29960040 DOI: 10.1016/j.bbadis.2018.06.020 Share\", \"J Neurol Sci. 2018 Jun 21. pii: S0022-510X(18)30267-3. doi: 10.1016/j.jns.2018.06.017. [Epub ahead of print]Association between attention-deficit/hyperactivity disorder and amyotrophic lateral sclerosis.Kawada T1.Author information1Department of Hygiene and Public Health, Nippon Medical School, Japan. Electronic address: kawada@nms.ac.jp.KEYWORDS: Amyotrophic lateral sclerosis; Attention-deficit/hyperactivity disorder; Parkinson's diseasePMID: 29958655 DOI: 10.1016/j.jns.2018.06.017 SharePublication typePublication typeLetter\", \"Brain Behav. 2018 Jun 29:e01036. doi: 10.1002/brb3.1036. [Epub ahead of print]The factors associated with impulse control behaviors in Parkinson's disease: A 2-year longitudinal retrospective cohort study.Kon T1,2, Ueno T1, Haga R1, Tomiyama M1.Author information1Department of Neurology, Aomori Prefectural Central Hospital, Aomori, Japan.2Department of Neuropathology, Graduate School of Medicine, Hirosaki University, Hirosaki, Japan.AbstractINTRODUCTION: Impulse control behaviors (ICBs) are impulsive-compulsive behaviors often associated with dopamine replacement therapy in Parkinson's disease (PD). Although remission can occur in ICB, only four reports on the ratio of remission and the persistence of ICB have been published, and the associated factors with ICB remission or persistence have been little known. Therefore, we conducted a longitudinal assessment of the remission, persistence, and development of ICB and those associated factors in patients with PD.METHODS: We retrospectively investigated a PD database at Aomori Prefectural Central Hospital, Japan. One hundred and forty-eight patients with PD who could be followed up for 2\\xa0years were enrolled. ICB was assessed using the Questionnaire for Impulsive-Compulsive Disorders in Parkinson's disease. Motor severity (Hoehn and Yahr scale and United Parkinson's Disease Rating Scale), cognitive function (Mini-Mental State Examination), and other clinical variables (sex, age, onset age, disease duration, olfactory dysfunction, and dyskinesia) and medications used to treat PD were assessed. Univariate analyses were performed.RESULTS: Seven patients were excluded because of the exclusion criteria, and 141 patients were analyzed. Thirty patients (21.3%) had ICB at baseline, and these patients also had significantly higher use of pergolide. The ICB remission rate was 60%, the ICB persistence ratio was 40%, and the ICB development ratio was 12.6% over 2\\xa0years. Statistically, younger age and pergolide use were associated with ICB persistence. Being male, having dyskinesia, and rotigotine, entacapone, zonisamide, and istradefylline use were associated with ICB development.CONCLUSION: This study suggests that younger age and pergolide use may be the new associated factors with ICB persistence and that entacapone, zonisamide, and istradefylline use may be associated with the development of ICB. Drug profiles and medication practices in Japan may explain the association of these factors with ICB.© 2018 The Authors. Brain and Behavior published by Wiley Periodicals, Inc.KEYWORDS: Parkinson's disease; dopamine agonist; dopamine dysregulation syndrome; impulse control behavior; impulse control disorderPMID: 29956879 DOI: 10.1002/brb3.1036 Share\", 'Ment Health Clin. 2018 Mar 23;7(5):230-234. doi: 10.9740/mhc.2017.09.230. eCollection  2017 Sep.Pimavanserin (Nuplazid™) for the treatment of Parkinson disease psychosis: A review of the literature.Touma KTB1, Touma DC2.Author information1Clinical Pharmacy Specialist, Mental Health, WJB Dorn VA Medical Center - Anderson Community Based Outpatient Clinic, Anderson, South Carolina, Katherine.Blissit@va.gov.2Postgraduate Year Three Family Medicine Resident, Spartanburg Regional Healthcare System, Spartanburg, South Carolina.AbstractIntroduction: Pimavanserin (Nuplazid™) is an atypical antipsychotic currently indicated for the treatment of hallucinations and delusions associated with Parkinson disease psychosis. The antipsychotic effects of this new agent are believed to occur via selective inverse agonist activity at serotonin 5-HT2a receptors.Methods: Study authors completed a literature review of 2 published randomized controlled trials of pimavanserin for the treatment of Parkinson disease psychosis. The Food and Drug Administration Briefing Document by the Psychopharmacologic Drugs Advisory Committee for the review of pimavanserin dated March 29, 2016, was reviewed for additional information on 2 unpublished trials.Results: Pimavanserin has demonstrated no worsening of motor symptoms of Parkinson disease, but only 1 of 4 trials has shown consistent statistically significant improvements in psychotic symptoms compared with placebo.Discussion: Options for the treatment of Parkinson disease psychosis are limited. The selective receptor profile of pimavanserin offers advantages for tolerability. Further studies are warranted to better provide clinicians and patients with information regarding the clinical utility of this agent.KEYWORDS: Parkinson disease; Pimavanserin; psychosisPMID: 29955528 PMCID: PMC6007714 DOI: 10.9740/mhc.2017.09.230 ShareConflict of interest statementDisclosures: The authors have nothing to disclose in terms of financial conflict of interest.', 'J Neurol. 2018 Jun 29. doi: 10.1007/s00415-018-8954-0. [Epub ahead of print]Long-term evolution of patient-reported outcome measures in spinocerebellar ataxias.Jacobi H1,2, du Montcel ST3,4, Bauer P5,6, Giunti P7, Cook A7, Labrum R8, Parkinson MH7, Durr A9,10,11,12,13, Brice A9,10,11,12,13, Charles P13, Marelli C14, Mariotti C15, Nanetti L15, Sarro L15, Rakowicz M16, Sulek A17, Sobanska A16, Schmitz-Hübsch T18, Schöls L19, Hengel H19, Baliko L20, Melegh B21, Filla A22, Antenora A22, Infante J23, Berciano J24, van de Warrenburg BP25, Timmann D26, Szymanski S27, Boesch S28, Nachbauer W28, Kang JS29, Pandolfo M30, Schulz JB31,32, Melac AT4, Diallo A3, Klockgether T33,34.Author information1German Center for Neurodegenerative Diseases (DZNE), Bonn, Germany. heike.jacobi@med.uni-heidelberg.de.2Department of Neurology, Heidelberg University Hospital, Im Neuenheimer Feld 400, 69120, Heidelberg, Germany. heike.jacobi@med.uni-heidelberg.de.3Sorbonne Universités, Université Pierre et Marie Curie (UPMC) Univ Paris 06, UMRS 1136, INSERM U 1136, Institut Pierre Louis d\\'Epidémiologie et de Santé Publique, 75013, Paris, France.4AP-HP, Biostatistics Unit, Groupe Hospitalier Pitié-Salpêtrière, 75013, Paris, France.5Institute of Medical Genetics and Applied Genomics, University of Tübingen, Tübingen, Germany.6CENTOGENE AG, Rostock, Germany.7Department of Molecular Neuroscience, UCL, Institute of Neurology, London, UK.8Neurogenetic Laboratory, National Hospital of Neurology and Neurosurgery, UCL, London, UK.9INSERM, U 1127, 75013, Paris, France.10CNRS, UMR 7225, 75013, Paris, France.11Sorbonne Universités, UPMC Univ Paris 06, UMRS_1127, 75013, Paris, France.12Institut du Cerveau et de la Moelle épinière, ICM, 75013, Paris, France.13Département de Génétique, APHP, Hôpital de la Pitié-Salpêtrière, 75013, Paris, France.14Service de Neurologie-CMRR, CHRU Gui de Chauliac, 80, av. A. Fliche, 34295, Montpellier Cedex 05, France.15SOSD Genetics of Neurodegenerative and Metabolic Diseases, Fondazione-IRCCS Istituto Neurologico Carlo Besta, Milan, Italy.16Department of Clinical Neurophysiology, Institute of Psychiatry and Neurology, Warsaw, Poland.17Department of Genetics, Institute of Psychiatry and Neurology, Warsaw, Poland.18Charité Universitätsmedizin Berlin, NeuroCure Clinical Research Center, Berlin, Germany.19Department of Neurodegeneration and Hertie-Institute for Clinical Brain Research, University of Tübingen and Deutsches Zentrum für Neurodegenerative Erkrankungen (DZNE), 72076, Tübingen, Germany.20Department of Neurology, Zala County Hospital, Zrinyi M. Str. 1, Zalaegerszeg, 8900, Hungary.21Department of Medical Genetics, Medical School, and Szentagothai Research Center, University of Pécs, Pécs, Hungary.22Department of Neuroscience, and Reproductive and Odontostomatological Sciences, Federico II University Naples, Naples, Italy.23Service of Neurology, University Hospital Marqués de Valdecilla (IDIVAL), University of Cantabria (UC) and Centro de Investigación Biomédica en Red de Enfermedades Neurodegenerativas (CIBERNED), Santander, Spain.24Service of Neurology, University Hospital \"Marqués de Valdecilla (IDIVAL)\", \"Centro de Investigación Biomédica en Red de Enfermedades Neurodegenerativas (CIBERNED)\", University of Cantabria (UC), Santander, Spain.25Department of Neurology, Donders Institute for Brain, Cognition, and Behaviour, Radboud University Medical Center, PO Box 9101, 6500 HB, Nijmegen, The Netherlands.26Department of Neurology, University Clinic Essen, University of Duisburg-Essen, Essen, Germany.27Department of Neurology, St. Josef Hospital, University Hospital of Bochum, Bochum, Germany.28Department of Neurology, Medical University, Innsbruck, Innsbruck, Austria.29Department of Neurology, University of Frankfurt, Frankfurt am Main, Germany.30Université Libre de Bruxelles (ULB), Neurology Service-ULB Hôpital Erasme, ULB Laboratory of Experimental Neurology, Brussels, Belgium.31Department of Neurology, RWTH Aachen University, Pauwelsstraβe 30, 52074, Aachen, Germany.32JARA-BRAIN Institute Molecular Neuroscience and Neuroimaging, Forschungszentrum Jülich GmbH and RWTH Aachen University, 52074, Aachen, Germany.33German Center for Neurodegenerative Diseases (DZNE), Bonn, Germany.34Department of Neurology, University Hospital of Bonn, Bonn, Germany.AbstractINTRODUCTION: To study the long-term evolution of patient-reported outcome measures (PROMs) in the most common spinocerebellar ataxias (SCAs), we analyzed 8\\xa0years follow-up data of the EUROSCA Natural History Study, a cohort study of 526 patients with SCA1, SCA2, SCA3 and SCA6.METHODS: To assess the functional capacity in daily living, we used the functional assessment (part IV) of the Unified Huntington\\'s Disease Rating Scale (UHDRS-IV), for health-related quality of life the visual analogue scale of the EuroQol Five Dimensions Questionnaire (EQ-5D VAS), and for depressive symptoms the Patient Health Questionnaire (PHQ-9). Severity of ataxia was assessed using the Scale for the Assessment and Rating of Ataxia (SARA) and neurological symptoms other than ataxia with the Inventory of Non-Ataxia Signs (INAS).RESULTS: UHDRS-IV [SCA1: -\\u20091.35 (0.12); SCA2: -\\u20091.15 (0.11); SCA3: -\\u20091.16 (0.11); SCA6: -\\u20090.99 (0.12)] and EQ-5D [SCA1: -\\u20092.88 (0.72); SCA2: -\\u20091.97 (0.49); SCA3: -\\u20092.06 (0.55); SCA6: -\\u20091.03 (0.57)] decreased linearly, whereas PHQ-9 increased [SCA1: 0.15 (0.04); SCA2: 0.09 (0.03); SCA3: 0.06 (0.04); SCA6: 0.07 (0.04)] during the observational period. Standard response means (SRMs) of UHDRS-IV (0.473-0.707) and EQ-5D VAS (0.053-0.184) were lower than that of SARA (0.404-0.979). In SCA1, higher SARA scores [-\\u20090.0288 (0.01), p\\u2009=\\u20090.0251], longer repeat expansions [-\\u20090.0622 (0.02), p\\u2009=\\u20090.0002] and the presence of cognitive impairment at baseline [-\\u20090.5381 (0.25), p\\u2009=\\u20090.0365] were associated with faster UHDRS-IV decline. In SCA3, higher INAS counts were associated with a faster UHDRS-IV decline [-\\u20090.05 (0.02), p\\u2009=\\u20090.0212]. In SCA1, PHQ-9 progression was faster in patients with cognitive impairment [0.14 (0.07); p\\u2009=\\u20090.0396].CONCLUSIONS: In the common SCAs, PROMs give complementary information to the information provided by neurological scales. This underlines the importance of PROMs as additional outcome measures in future interventional trials.KEYWORDS: ADL; Depression; Natural history studies; Quality of life; Spinocerebellar ataxia; Trinucleotide repeat diseasesPMID: 29959555 DOI: 10.1007/s00415-018-8954-0 ShareGrant supportGrant supportEU FP6 (EUROSCA)/Sixth Framework Programme/503304/Sixth Framework Programme/GeneMove/German Ministry of Education and Research/NKFIH 119540/Hungarian Funding Agency/n° 2012-305121 \"Integrated European-omics research project for diagnosis and therapy in rare neuromuscular and neurodegenerative diseases (NEUROMICS)\"/FP7 Ideas: European Research Council/', \"J Biol Chem. 2018 Jun 29. pii: jbc.RA118.004267. doi: 10.1074/jbc.RA118.004267. [Epub ahead of print]Glycosaminoglycans have variable effects on α-synuclein aggregation and differentially affect the activities of the resulting amyloid fibrils.Mehra S1, Ghosh D2, Kumar R1, Mondal M3, Gadhe LG1, Das S1, Anoop A1, Jha NN1, Jacob RS1, Chatterjee D1, Ray S1, Singh N1, Kumar A1, Maji SK1.Author information1IIT Bombay, India.2BSBE, IIT Bombay, India.3IIT Bombay.AbstractParkinson's disease is a sporadic disorder in which both environmental and cellular factors play a major role in the initiation of this disease. Glycosaminoglycans (GAGs) are integral components of the extracellular matrix and are known to influence amyloid aggregation of several proteins, including α-synuclein (α-Syn). However, the mechanism by which different GAGs and related biological polymers influence protein aggregation and the structure and intercellular spread of these aggregates remains elusive. In this study, we used three different GAGs and related charged polymers to establish their role in α-Syn aggregation and associated biological activities of these aggregates. Heparin, a representative GAG, affected α-Syn aggregation in a concentration-dependent manner, whereas biphasic α-Syn aggregation kinetics was observed in the presence of chondroitin sulfate B. Of note, as indicated by 2D NMR analysis, different GAGs uniquely modulated α-Syn aggregation owing to the diversity of their interactions with soluble α-Syn. Moreover, subtle differences in the GAG backbone structure and charge density significantly altered the properties of the resulting amyloid fibrils. Each GAG/polymer facilitated the formation of morphologically and structurally distinct α-Syn amyloids, which not only displayed variable cytotoxicity, but also exhibited altered ability to internalize into cells. Our study supports the role of GAGs as key modulators in α-Syn amyloid formation, and their distinct activities may regulate amyloidogenesis depending on the type of GAG being up- or down-regulated in vivo.KEYWORDS: Parkinson disease; alpha-synuclein (a-synuclein); amyloid; amyloidogenesis; glycosaminoglycan; neurodegenerationPMID: 29959225 DOI: 10.1074/jbc.RA118.004267 Share\", 'Ment Health Clin. 2018 Mar 23;7(1):29-38. doi: 10.9740/mhc.2017.01.029. eCollection  2017 Jan.Evidence for the use of \"medical marijuana\" in psychiatric and neurologic disorders.Noel C1.Author information1Assistant Professor of Pharmacy Practice, St John Fisher College Wegman\\'s School of Pharmacy, Rochester, New York; Clinical Pharmacist, University of Rochester Medical Center, Rochester, New York, cnoel@sjfc.edu.AbstractIntroduction: Cannabis is listed as a Schedule I substance under the Controlled Substances Act of 1970, meaning the US federal government defines it as an illegal drug that has high potential for abuse and no established medical use; however, half of the states in the nation have enacted \"medical marijuana\" (MM) laws. Clinicians must be aware of the evidence for and against the use of MM in their patients who may consider using this substance.Methods: A PubMed database search was performed using the text string: \"Cannabis\"[Mesh] OR \"Marijuana Abuse\"[Mesh] OR \"Medical Marijuana\"[Mesh] OR \"Marijuana Smoking\"[Mesh] OR \"cannabi*\" OR \"tetrahydrocannabinol.\" The search was further limited to randomized clinical trial publications in English on human subjects to identify articles regarding the therapeutic use of phytocannabinoids for psychiatric and neurologic disorders. Commercially available products (ie, dronabinol, nabilone, nabiximols) and synthetic cannabinoids were excluded from the review.Results: Publications were identified that included patients with dementia, multiple sclerosis, Parkinson disease, Huntington disease, schizophrenia, social anxiety disorder, depression, tobacco use disorder, and neuropathic pain.Discussion: There is great variety concerning which medical conditions are approved for treatment with MM for either palliative or therapeutic benefit, depending on the state law. It is important to keep an evidence-based approach in mind, even with substances considered to be illegal under US federal law. Clinicians must weigh risks and benefits of the use of MM in their patients and should ensure that patients have tried other treatment modalities with higher levels of evidence for use when available and appropriate.KEYWORDS: CBD; THC; cannabidiol; cannabinoids; delta-9-tetrahydrocannabinol; marijuana; medical marijuana; phytocannabinoids; tetrahydrocannabinol; therapeutic uses of illicit substancesPMID: 29955495 PMCID: PMC6007658 DOI: 10.9740/mhc.2017.01.029 Share', 'Can J Hosp Pharm. 2018 May-Jun;71(3):196-207. Epub  2018 Jun 28.Interaction between Monoamine Oxidase B Inhibitors and Selective Serotonin Reuptake Inhibitors.Aboukarr A1, Giudice M2.Author information1, PharmD, was, at the time this review was performed, a PharmD student in the Leslie Dan Faculty of Pharmacy, University of Toronto, Toronto, Ontario. He is now with Medical Affairs, Purdue Pharma (Canada), Pickering, Ontario.2, BScPharm, is with the Ottawa Valley Regional Drug Information Service, The Ottawa Hospital, Ottawa, Ontario.Abstractin\\n\\t\\t\\t\\tEnglish, FrenchContexte: Les inhibiteurs de la monoamine oxydase B (MAO-B) sont employés dans le traitement des symptômes moteurs de la maladie de Parkinson, maladie à laquelle la dépression est souvent associée et fréquemment traitée à l’aide d’inhibiteurs sélectifs de la recapture de la sérotonine (ISRS). Des sources tertiaires mettent en garde contre la combinaison d’inhibiteurs de la MAO-B et d’ISRS car elle peut mener à une augmentation des effets sérotoninergiques, dégénérant en un syndrome sérotoninergique.Objectif: Chercher à connaître le mécanisme, la signification clinique et la prise en charge de cette potentielle interaction médicamenteuse en procédant à une revue des preuves à l’appui.Sources des données: Les bases de données PubMed, MEDLINE (depuis 1946), Embase (depuis 1947), PscyINFO (depuis 1806), et International Pharmaceutical Abstracts (depuis 1970) ont été interrogées le 4 février 2017.Sélection des études et extraction des données: Des études et des observations cliniques, publiées en anglais, portant sur des aspects de la potentielle interaction entre les inhibiteurs de la MAO-B et les ISRS chez les patients atteints de la maladie de Parkinson ont été repérées par une recherche ciblant les titres et les résumés.Synthèse des données: La recherche a permis de trouver 8 études analysant la potentielle interaction entre les ISRS et deux inhibiteurs de la MAO-B : la sélégiline et la rasagiline. La plus importante d’entre elles, une étude de cohorte rétrospective sur 1504 patients atteints de la maladie de Parkinson, n’a relevé aucun cas de syndrome sérotoninergique en présence d’une prise concomitante de rasagiline et d’un ISRS. Une enquête auprès de 63 chercheurs dans le Parkinson Study Group a permis de relever 11 potentiels cas de syndrome sérotoninergique chez 4568 patients traités avec une combinaison de sélégiline et d’antidépresseurs (notamment des ISRS). De plus, 17 observations cliniques qui décrivaient un début de syndrome sérotoninergique en présence d’une prise concomitante d’un ISRS et de sélégiline ou de rasagiline ont été recensées. Suivant la réduction de la posologie ou l’interruption d’un ou des deux médicaments, les symptômes du syndrome sérotoninergique se sont graduellement résolus dans la plupart des cas, et il n’y a eu aucune mortalité.Conclusions: Selon la documentation, le syndrome sérotoninergique est rare et la combinaison d’ISRS et d’inhibiteurs de la MAO-B est bien tolérée. Ainsi, les deux types d’inhibiteurs peuvent être administrés conjointement pourvu que l’on ne dépasse pas la posologie recommandée et que la dose d’ISRS demeure dans le bas de l’intervalle thérapeutique. Parmi les ISRS, il peut être préférable d’employer le citalopram ou la sertraline.Background: Monoamine oxidase B (MAO-B) inhibitors are used to treat the motor symptoms of Parkinson disease. Depression is commonly associated with Parkinson disease, and selective serotonin reuptake inhibitors (SSRIs) are often used for its management. Tertiary sources warn that the combination of MAO-B inhibitors and SSRIs can result in increased serotonergic effects, leading to serotonin syndrome.Objective: To explore the mechanism, clinical significance, and management of this potential drug interaction through a review of the supporting evidence.Data Sources: PubMed, MEDLINE (1946 forward), Embase (1947 forward), PsycINFO (1806 forward), and International Pharmaceutical Abstracts (1970 forward) were searched on February 4, 2017.Study Selection and Data Extraction: Studies and case reports describing aspects of the potential interaction between MAO-B inhibitors and SSRIs in patients with Parkinson disease and published in English were identified by both title and abstract.Data Synthesis: The search identified 8 studies evaluating the potential interaction between SSRIs and the MAO-B inhibitors selegiline and rasagiline. The largest, a retrospective cohort study of 1504 patients with Parkinson disease, found no cases of serotonin syndrome with coadministration of rasagiline and an SSRI. A survey of 63 investigators in the Parkinson Study Group identified 11 potential cases of serotonin syndrome among 4568 patients treated with the combination of selegiline and antidepressants (including SSRIs). In addition, 17 case reports describing the onset of serotonin syndrome with coadministration of an SSRI and either selegiline or rasagiline were identified. Following discontinuation or dose reduction of one or both of the agents, the symptoms of serotonin syndrome gradually resolved in most cases, with none being fatal.Conclusions: According to the literature, serotonin syndrome occurs rarely, and the combination of SSRI and MAO-B inhibitor is well tolerated. Therefore, SSRIs and MAO-B inhibitors can be coadministered, provided that their recommended doses are not exceeded and the SSRI dose is kept at the lower end of the therapeutic range. Among the SSRIs, citalopram and sertraline may be preferred.KEYWORDS: Parkinson disease; drug interactions; rasagiline; selective serotonin reuptake inhibitor; selegiline; serotonin syndromePMID: 29955193 PMCID: PMC6019085 [Available on 2018-11-01] ShareConflict of interest statementCompeting interests: This manuscript was undertaken when Abdullah Aboukarr was a fourth-year PharmD student with a placement at the Ottawa Valley Regional Drug Information Service, for which Mirella Giudice was the preceptor. Dr Aboukarr now works as a medical information/pharmacovigilance officer with Purdue Pharma (Canada), which does not market or manufacture any of the products mentioned in this article, or any competing products. No other competing interests were declared.Publication typePublication typeReview', \"AJNR Am J Neuroradiol. 2018 Jun 28. doi: 10.3174/ajnr.A5702. [Epub ahead of print]Comparative Study of MRI Biomarkers in the Substantia Nigra to Discriminate Idiopathic Parkinson Disease.Pyatigorskaya N1,2,3, Magnin B4,2,3, Mongin M4,2, Yahia-Cherif L4,2, Valabregue R4, Arnaldi D4,5,6, Ewenczyk C7, Poupon C8, Vidailhet M4,2,7,6, Lehéricy S4,2,3.Author information1From the Institut du Cerveau et de la Moelle épinière (N.P., B.M., M.M., L.Y.-C., R.V., D.A., M.V., S.L.), Centre de NeuroImagerie de Recherche, Paris, France nadya.pyatigorskaya@gmail.com.2UMR S 1127, CNRS UMR 7225 (N.P., B.M., M.M., L.Y.-C., M.V., S.L.), Sorbonne University, Paris, France.3Service de neuroradiologie (N.P., B.M., S.L.).4From the Institut du Cerveau et de la Moelle épinière (N.P., B.M., M.M., L.Y.-C., R.V., D.A., M.V., S.L.), Centre de NeuroImagerie de Recherche, Paris, France.5Clinical Neurology (D.A.), Department of Neuroscience, University of Genoa, Genoa, Italy.6Centre d'Investigation Clinique (D.A., M.V.), Hôpital Pitié-Salpêtrière, Paris, France.7Département des Maladies du Système Nerveux (C.E., M.V.), Clinique des mouvements anormaux, Assistance Publique Hôpitaux de Paris, Hôpital Pitié-Salpêtrière, Paris, France.8NeuroSpin (C.P.), Commissariat à l'Energie Atomique, Gif-Sur-Yvette, France.AbstractBACKGROUND AND PURPOSE: Several new MR imaging techniques have shown promising results in patients with Parkinson disease; however, the comparative diagnostic values of these measures at the individual level remain unclear. Our aim was to compare the diagnostic value of MR imaging biomarkers of substantia nigra damage for distinguishing patients with Parkinson disease from healthy volunteers.MATERIALS AND METHODS: Thirty-six patients and 20 healthy volunteers were prospectively included. The MR imaging protocol at 3T included 3D T2-weighted and T1-weighted neuromelanin-sensitive images, diffusion tensor images, and R2* mapping. T2* high-resolution images were also acquired at 7T to evaluate the dorsal nigral hyperintensity sign. Quantitative analysis was performed using ROIs in the substantia nigra drawn manually around the area of high signal intensity on neuromelanin-sensitive images and T2-weighted images. Visual analysis of the substantia nigra neuromelanin-sensitive signal intensity and the dorsolateral nigral hyperintensity on T2* images was performed.RESULTS: There was a significant decrease in the neuromelanin-sensitive volume and signal intensity in patients with Parkinson disease. There was also a significant decrease in fractional anisotropy and an increase in mean, axial, and radial diffusivity in the neuromelanin-sensitive substantia nigra at 3T and a decrease in substantia nigra volume on T2* images. The combination of substantia nigra volume, signal intensity, and fractional anisotropy in the neuromelanin-sensitive substantia nigra allowed excellent diagnostic accuracy (0.93). Visual assessment of both substantia nigra dorsolateral hyperintensity and neuromelanin-sensitive images had good diagnostic accuracy (0.91 and 0.86, respectively).CONCLUSIONS: The combination of neuromelanin signal and volume changes with fractional anisotropy measurements in the substantia nigra showed excellent diagnostic accuracy. Moreover, the high diagnostic accuracy of visual assessment of substantia nigra changes using dorsolateral hyperintensity analysis or neuromelanin-sensitive signal changes indicates that these techniques are promising for clinical practice.© 2018 by American Journal of Neuroradiology.PMID: 29954816 DOI: 10.3174/ajnr.A5702 Share\", 'Neurology. 2018 Jun 29. pii: 10.1212/WNL.0000000000005903. doi: 10.1212/WNL.0000000000005903. [Epub ahead of print]Effects of deep brain stimulation on rest tremor progression in early stage Parkinson disease.Hacker ML1, DeLong MR1, Turchan M1, Heusinkveld LE1, Ostrem JL1, Molinari AL1, Currie AD1, Konrad PE1, Davis TL1, Phibbs FT1, Hedera P1, Cannard KR1, Drye LT1, Sternberg AL1, Shade DM1, Tonascia J1, Charles D2.Author information1From the Departments of Neurology (M.L.H., M.T., L.E.H., A.L.M., A.D.C., T.L.D., F.T.P., P.H., D.C.) and Neurosurgery (P.E.K.), Vanderbilt University Medical Center, Nashville, TN; Department of Neurology (M.R.D.), Emory University School of Medicine, Atlanta, GA; Laboratory of Molecular Immunology (L.E.H.), National Institute of Allergy and Infectious Diseases, Bethesda, MD; Movement Disorders and Neuromodulation Center (J.L.O.), Department of Neurology, University of California San Francisco; Department of Neurology (K.R.C.), Walter Reed National Military Center, Bethesda; and Department of Epidemiology (L.T.D., A.L.S., D.M.S., J.T.), Johns Hopkins University, Baltimore, MD.2From the Departments of Neurology (M.L.H., M.T., L.E.H., A.L.M., A.D.C., T.L.D., F.T.P., P.H., D.C.) and Neurosurgery (P.E.K.), Vanderbilt University Medical Center, Nashville, TN; Department of Neurology (M.R.D.), Emory University School of Medicine, Atlanta, GA; Laboratory of Molecular Immunology (L.E.H.), National Institute of Allergy and Infectious Diseases, Bethesda, MD; Movement Disorders and Neuromodulation Center (J.L.O.), Department of Neurology, University of California San Francisco; Department of Neurology (K.R.C.), Walter Reed National Military Center, Bethesda; and Department of Epidemiology (L.T.D., A.L.S., D.M.S., J.T.), Johns Hopkins University, Baltimore, MD. david.charles@vanderbilt.edu.AbstractOBJECTIVE: To evaluate whether the progression of individual motor features was influenced by early deep brain stimulation (DBS), a post hoc analysis of Unified Parkinson\\'s Disease Rating Scale-III (UPDRS-III) score (after a 7-day washout) was conducted from the 2-year DBS in early Parkinson disease (PD) pilot trial dataset.METHODS: The prospective pilot trial enrolled patients with PD aged 50-75 years, treated with PD medications for 6 months-4 years, and no history of dyskinesia or other motor fluctuations, who were randomized to receive optimal drug therapy (ODT) or DBS plus ODT (DBS + ODT). At baseline and 6, 12, 18, and 24 months, all patients stopped all PD therapy for 1 week (medication and stimulation, if applicable). UPDRS-III \"off\" item scores were compared between the ODT and DBS + ODT groups (n = 28); items with significant between-group differences were analyzed further.RESULTS: UPDRS-III \"off\" rest tremor score change from baseline to 24 months was worse in patients receiving ODT vs DBS + ODT (p = 0.002). Rest tremor slopes from baseline to 24 months favored DBS + ODT both \"off\" and \"on\" therapy (p < 0.001, p = 0.003, respectively). More ODT patients developed new rest tremor in previously unaffected limbs than those receiving DBS + ODT (p = 0.001).CONCLUSIONS: These results suggest the possibility that DBS in early PD may slow rest tremor progression. Future investigation in a larger cohort is needed, and these findings will be tested in the Food and Drug Administration-approved, phase III, pivotal, multicenter clinical trial evaluating DBS in early PD.CLASSIFICATION OF EVIDENCE: This study provides Class II evidence that for patients with early PD, DBS may slow the progression of rest tremor.© 2018 American Academy of Neurology.PMID: 29959266 DOI: 10.1212/WNL.0000000000005903 Share', \"J Speech Lang Hear Res. 2018 Jun 28:1-9. doi: 10.1044/2018_JSLHR-L-17-0304. [Epub ahead of print]Evaluation of Linguistic Markers of Word-Finding Difficulty and Cognition in Parkinson's Disease.Smith KM1,2, Ash S3, Xie SX4, Grossman M3.Author information1Parkinson Disease and Movement Disorders Center, Department of Neurology, Perelman School of Medicine at the University of Pennsylvania, Philadelphia.2Department of Neurology, University of Massachusetts Memorial Medical Center/UMass Medical School, Worcester.3Department of Neurology and the Penn Frontotemporal Degenerative Center, Perelman School of Medicine at the University of Pennsylvania, Philadelphia.4Department of Biostatistics and Epidemiology, Perelman School of Medicine at the University of Pennsylvania, Philadelphia.AbstractPurpose: Early cognitive symptoms such as word-finding difficulty (WFD) in daily conversation are common in Parkinson's disease (PD), but studies have been limited by a lack of feasible, quantitative measures. Linguistic analysis, focused on pauses in speech, may yield markers of impairment of cognition and communication in PD. The objective of this study was to evaluate the relationship of linguistic markers in semistructured speech to WFD symptoms and cognitive function in PD.Method: Speech recordings of description of the Cookie Theft picture in 53 patients with PD without dementia and 23 elderly controls were analyzed with Praat software. Montreal Cognitive Assessment (MoCA; Nasreddine et al., 2005), category naming fluency, and confrontation naming tests were administered. Questionnaires rating WFD symptoms and cognitive instrumental activities of daily living were completed. We determined the relationships between (a) pause length and location, (b) MoCA score, and (c) WFD symptoms, using Pearson's correlations and multivariate regression models.Results: Compared with controls, patients with PD had more pauses within utterances as well as fewer words per minute and a lower percentage of well-formed sentences. Pauses within utterances differed significantly between PD-mild cognitive impairment and normal cognition (p < .001). Words per minute and percentage of well-formed sentences were predictive of MoCA in multivariate regression models. Pauses before verbs were associated with patient-reported severity of WFD symptoms (p = .006).Conclusions: Linguistic markers including pauses within utterances distinguish patients with PD with mild cognitive symptoms from elderly controls. These markers are associated with global cognitive function before the onset of dementia. Pauses before verbs and grammatical markers may index early cognitive symptoms such as WFD that may interfere with functional communication.Supplemental Material: https://doi.org/10.23641/asha.6615401.PMID: 29955824 DOI: 10.1044/2018_JSLHR-L-17-0304 Share\", 'Neurologist. 2018 Jul;23(4):141-147. doi: 10.1097/NRL.0000000000000188.Therapy With Mesenchymal Stem Cells in Parkinson Disease: History and Perspectives.Mendes Filho D1,2, Ribeiro PDC2,3, Oliveira LF1,4, de Paula DRM1, Capuano V1, de Assunção TSF5,6, da Silva VJD1,5.Author information1Departments of Physiology, Biological and Natural Sciences Institute.2Nanocell Institute, Divinópolis, MG.3Laboratory of Immunology and Experimental Transplantation, São José do Rio Preto Medical School, São José do Rio Preto, SP.4National Institute of Science and Technology for Regenerative Medicine (INCT-REGENERA-CNPq), Rio de Janeiro, RJ.5Tropical Medicine and Infectiology, Health Sciences Institute, Triângulo Mineiro Federal University, Uberaba.6Minas Gerais Network for Tissue Engineering and Cell Therapy (REMETTEC-FAPEMIG), Belo Horizonte, MG, Brazil.AbstractBACKGROUND: Parkinson disease (PD) is a neurodegenerative disorder affecting the basal nuclei, causing motor and cognitive disorders. Bearing in mind that standard treatments are ineffective in delaying the disease progression, alternative treatments capable of eliminating symptoms and reversing the clinical condition have been sought. Possible alternative treatments include cell therapy, especially with the use of mesenchymal stem cells (MSC).REVIEW SUMMARY: MSC are adult stem cells which have demonstrated remarkable therapeutic power in parkinsonian animals due to their differentiation competence, migratory capacity and the production of bioactive molecules. This review aims to analyze the main studies involving MSC and PD in more than a decade of studies, addressing their different methodologies and common characteristics, as well as suggesting perspectives on the application of MSC in PD.CONCLUSIONS: The results of MSC therapy in animal models and some clinical trials suggest that such cellular therapy may slow the progression of PD and promote neuroregeneration. However, further research is needed to address the limitations of an eventual clinical application.PMID: 29953040 DOI: 10.1097/NRL.0000000000000188 ShareLinkOut - more resourcesFull Text SourcesWolters Kluwer']]}\n"
     ]
    }
   ],
   "source": [
    "article_dict[\"title\"].append(title)\n",
    "article_dict[\"abstract\"].append(abstract)\n",
    "print(article_dict)"
   ]
  },
  {
   "cell_type": "markdown",
   "metadata": {},
   "source": [
    "## Save article_dict to json"
   ]
  },
  {
   "cell_type": "code",
   "execution_count": 41,
   "metadata": {
    "collapsed": true
   },
   "outputs": [],
   "source": [
    "import json"
   ]
  },
  {
   "cell_type": "code",
   "execution_count": 42,
   "metadata": {},
   "outputs": [
    {
     "data": {
      "text/plain": [
       "61334"
      ]
     },
     "execution_count": 42,
     "metadata": {},
     "output_type": "execute_result"
    }
   ],
   "source": [
    "json = json.dumps(article_dict)\n",
    "f = open(\"data/parkinsons.json\",\"w\")\n",
    "f.write(json)\n",
    "f.close()"
   ]
  },
  {
   "cell_type": "markdown",
   "metadata": {},
   "source": [
    "<br>\n",
    "<br>\n",
    "<br>"
   ]
  }
 ],
 "metadata": {
  "kernelspec": {
   "display_name": "Python 3",
   "language": "python",
   "name": "python3"
  },
  "language_info": {
   "codemirror_mode": {
    "name": "ipython",
    "version": 3
   },
   "file_extension": ".py",
   "mimetype": "text/x-python",
   "name": "python",
   "nbconvert_exporter": "python",
   "pygments_lexer": "ipython3",
   "version": "3.6.4"
  }
 },
 "nbformat": 4,
 "nbformat_minor": 2
}
