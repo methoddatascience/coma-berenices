{
 "cells": [
  {
   "cell_type": "markdown",
   "metadata": {},
   "source": [
    "## Pub Med Scraper"
   ]
  },
  {
   "cell_type": "code",
   "execution_count": 1,
   "metadata": {
    "collapsed": true
   },
   "outputs": [],
   "source": [
    "# scrape dependencies\n",
    "import requests\n",
    "import re\n",
    "from bs4 import BeautifulSoup as bs\n",
    "\n",
    "# data analysis dependencies\n",
    "import pandas as pd\n",
    "import numpy as np\n",
    "import csv\n",
    "\n",
    "# ipynb dependencies\n",
    "from IPython.core.interactiveshell import InteractiveShell\n",
    "InteractiveShell.ast_node_interactivity = \"all\"\n",
    "import warnings\n",
    "warnings.filterwarnings('ignore')\n",
    "\n",
    "# viz dependencies\n",
    "%matplotlib inline\n",
    "import matplotlib.pyplot as plt\n",
    "import seaborn as sns\n",
    "plt.style.use('fivethirtyeight')\n",
    "\n",
    "import datetime as dt\n",
    "import time"
   ]
  },
  {
   "cell_type": "code",
   "execution_count": 2,
   "metadata": {},
   "outputs": [
    {
     "name": "stdout",
     "output_type": "stream",
     "text": [
      "https://www.ncbi.nlm.nih.gov/pubmed/?term=parkinsons+disease\n"
     ]
    }
   ],
   "source": [
    "# set the url to scrape\n",
    "url = 'https://www.ncbi.nlm.nih.gov/pubmed/?term=parkinsons+disease'\n",
    "print(url)"
   ]
  },
  {
   "cell_type": "code",
   "execution_count": 3,
   "metadata": {
    "collapsed": true
   },
   "outputs": [],
   "source": [
    "# set up beautiful soup to scrape\n",
    "response = requests.get(url)\n",
    "soup = bs(response.text, 'html.parser')"
   ]
  },
  {
   "cell_type": "code",
   "execution_count": 4,
   "metadata": {
    "collapsed": true
   },
   "outputs": [],
   "source": [
    "# lets scrape the article titles\n",
    "journals = soup.find_all(\"p\", attrs={'class':'title'})"
   ]
  },
  {
   "cell_type": "code",
   "execution_count": 5,
   "metadata": {},
   "outputs": [
    {
     "name": "stdout",
     "output_type": "stream",
     "text": [
      "There are 20 journals to scrape on the first page.\n"
     ]
    }
   ],
   "source": [
    "# searching for the journal titles\n",
    "journals_len = len(journals)\n",
    "print(f\"There are {journals_len} journals to scrape on the first page.\")"
   ]
  },
  {
   "cell_type": "code",
   "execution_count": 6,
   "metadata": {},
   "outputs": [
    {
     "data": {
      "text/plain": [
       "'[Parkinson Disease and Pain - diagnostic and therapeutic approaches to a challenging non-motor symptom].'"
      ]
     },
     "execution_count": 6,
     "metadata": {},
     "output_type": "execute_result"
    },
    {
     "data": {
      "text/plain": [
       "\"Assessing the validity of proxy caregiver reporting for potential palliative care outcome measures in Parkinson's disease.\""
      ]
     },
     "execution_count": 6,
     "metadata": {},
     "output_type": "execute_result"
    },
    {
     "data": {
      "text/plain": [
       "\"Resting-state connectivity after visuo-motor skill learning is inversely associated with offline consolidation in Parkinson's disease and healthy controls.\""
      ]
     },
     "execution_count": 6,
     "metadata": {},
     "output_type": "execute_result"
    },
    {
     "data": {
      "text/plain": [
       "\"Effects of blackberry (Morus nigra) fruit juice on levodopa-induced dyskinesia in a mice model of Parkinson's disease.\""
      ]
     },
     "execution_count": 6,
     "metadata": {},
     "output_type": "execute_result"
    },
    {
     "data": {
      "text/plain": [
       "'Testing the Protein Propagation Hypothesis of Parkinson Disease.'"
      ]
     },
     "execution_count": 6,
     "metadata": {},
     "output_type": "execute_result"
    },
    {
     "data": {
      "text/plain": [
       "'Understanding the Care Needs and Profile of People Living at Home With Moderate to Advanced Stage Parkinson Disease.'"
      ]
     },
     "execution_count": 6,
     "metadata": {},
     "output_type": "execute_result"
    },
    {
     "data": {
      "text/plain": [
       "'A chemical probe to monitor the parkinsonism-associated protein DJ-1 in live cells.'"
      ]
     },
     "execution_count": 6,
     "metadata": {},
     "output_type": "execute_result"
    },
    {
     "data": {
      "text/plain": [
       "\"Recruitment and Retention in Clinical Trials of Deep Brain Stimulation in Early-Stage Parkinson's Disease: Past Experiences and Future Considerations.\""
      ]
     },
     "execution_count": 6,
     "metadata": {},
     "output_type": "execute_result"
    },
    {
     "data": {
      "text/plain": [
       "'Evolvability and Neurodegenerative Disease: Antagonistic Pleiotropy Phenomena Derived from Amyloid Aggregates.'"
      ]
     },
     "execution_count": 6,
     "metadata": {},
     "output_type": "execute_result"
    },
    {
     "data": {
      "text/plain": [
       "'Aging modulates microglia phenotypes in neuroinflammation of MPTP-PD mice.'"
      ]
     },
     "execution_count": 6,
     "metadata": {},
     "output_type": "execute_result"
    },
    {
     "data": {
      "text/plain": [
       "'The Sinister Face of Heme Oxygenase-1 in Brain Aging and Disease.'"
      ]
     },
     "execution_count": 6,
     "metadata": {},
     "output_type": "execute_result"
    },
    {
     "data": {
      "text/plain": [
       "'In vivo Quantification of Glial Activation in Minipigs Overexpressing human α-synuclein.'"
      ]
     },
     "execution_count": 6,
     "metadata": {},
     "output_type": "execute_result"
    },
    {
     "data": {
      "text/plain": [
       "\"The REM Sleep Behavior Disorder Screening Questionnaire is not Valid in De Novo Parkinson's Disease.\""
      ]
     },
     "execution_count": 6,
     "metadata": {},
     "output_type": "execute_result"
    },
    {
     "data": {
      "text/plain": [
       "'Immunosuppressants and risk of Parkinson disease.'"
      ]
     },
     "execution_count": 6,
     "metadata": {},
     "output_type": "execute_result"
    },
    {
     "data": {
      "text/plain": [
       "\"Do We Need to Rethink the Epidemiology and Healthcare Utilization of Parkinson's Disease in Germany?\""
      ]
     },
     "execution_count": 6,
     "metadata": {},
     "output_type": "execute_result"
    },
    {
     "data": {
      "text/plain": [
       "\"Hypermetabolism in the cerebellum and brainstem and cortical hypometabolism are independently associated with cognitive impairment in Parkinson's disease.\""
      ]
     },
     "execution_count": 6,
     "metadata": {},
     "output_type": "execute_result"
    },
    {
     "data": {
      "text/plain": [
       "'Sensorimotor integration training in Parkinson`s disease.'"
      ]
     },
     "execution_count": 6,
     "metadata": {},
     "output_type": "execute_result"
    },
    {
     "data": {
      "text/plain": [
       "'Professional occupation and the risk of Parkinson Disease.'"
      ]
     },
     "execution_count": 6,
     "metadata": {},
     "output_type": "execute_result"
    },
    {
     "data": {
      "text/plain": [
       "'Target-specific forebrain projections and appropriate synaptic inputs of hESC-derived dopamine neurons grafted to the midbrain of parkinsonian rats.'"
      ]
     },
     "execution_count": 6,
     "metadata": {},
     "output_type": "execute_result"
    },
    {
     "data": {
      "text/plain": [
       "'Apomorphine and levodopa infusion for motor fluctuations and dyskinesia in advanced Parkinson disease.'"
      ]
     },
     "execution_count": 6,
     "metadata": {},
     "output_type": "execute_result"
    }
   ],
   "source": [
    "# loop through journals to print titles\n",
    "for i in range(0,20):\n",
    "    journals[i].text.strip()"
   ]
  },
  {
   "cell_type": "markdown",
   "metadata": {},
   "source": [
    "## Set main url to concat with pubmed ids"
   ]
  },
  {
   "cell_type": "code",
   "execution_count": 7,
   "metadata": {
    "scrolled": false
   },
   "outputs": [
    {
     "name": "stdout",
     "output_type": "stream",
     "text": [
      "https://www.ncbi.nlm.nih.gov/pubmed/\n"
     ]
    }
   ],
   "source": [
    "# set the main url that we will concatanate with the pubmed id\n",
    "main_url = 'https://www.ncbi.nlm.nih.gov/pubmed/'\n",
    "print(main_url)"
   ]
  },
  {
   "cell_type": "markdown",
   "metadata": {},
   "source": [
    "<br>\n",
    "<br>\n",
    "# TESTING SECTION ------------------------------------------------------------------"
   ]
  },
  {
   "cell_type": "code",
   "execution_count": 8,
   "metadata": {
    "collapsed": true
   },
   "outputs": [],
   "source": [
    "# set empty links_all list to append to \n",
    "links_all = []\n",
    "\n",
    "# set pubmed ids list to append to\n",
    "pubmed_ids = []\n",
    "\n",
    "# set empty list to append scrape_links to\n",
    "scrape_links = []"
   ]
  },
  {
   "cell_type": "code",
   "execution_count": 9,
   "metadata": {},
   "outputs": [
    {
     "name": "stdout",
     "output_type": "stream",
     "text": [
      "<p class=\"title\" xmlns:mml=\"http://www.w3.org/1998/Math/MathML\"><a href=\"/pubmed/30016807\" ref=\"ordinalpos=1&amp;ncbi_uid=30016807&amp;link_uid=30016807&amp;linksrc=docsum_title\">[<b>Parkinson Disease</b> and Pain - diagnostic and therapeutic approaches to a challenging non-motor symptom].</a></p>\n"
     ]
    }
   ],
   "source": [
    "# use bs to scarpe p tags with class - title\n",
    "links = soup.find_all(\"p\",attrs={'class':'title'})\n",
    "print(links[0])"
   ]
  },
  {
   "cell_type": "code",
   "execution_count": 10,
   "metadata": {},
   "outputs": [
    {
     "name": "stdout",
     "output_type": "stream",
     "text": [
      "There are 20 articles to scrape.\n",
      "----------------------------------------------\n"
     ]
    }
   ],
   "source": [
    "# testing to see how my links / journals to scrape\n",
    "articles_to_scrape = len(links)\n",
    "print(f\"There are {articles_to_scrape} articles to scrape.\")\n",
    "print(\"----------------------------------------------\")"
   ]
  },
  {
   "cell_type": "code",
   "execution_count": 11,
   "metadata": {},
   "outputs": [
    {
     "name": "stdout",
     "output_type": "stream",
     "text": [
      "<p class=\"title\" xmlns:mml=\"http://www.w3.org/1998/Math/MathML\"><a href=\"/pubmed/30016807\" ref=\"ordinalpos=1&amp;ncbi_uid=30016807&amp;link_uid=30016807&amp;linksrc=docsum_title\">[<b>Parkinson Disease</b> and Pain - diagnostic and therapeutic approaches to a challenging non-motor symptom].</a></p>\n",
      "----------------------------------------------\n",
      "<p class=\"title\" xmlns:mml=\"http://www.w3.org/1998/Math/MathML\"><a href=\"/pubmed/30015552\" ref=\"ordinalpos=2&amp;ncbi_uid=30015552&amp;link_uid=30015552&amp;linksrc=docsum_title\">Assessing the validity of proxy caregiver reporting for potential palliative care outcome measures in <b>Parkinson</b>'s <b>disease</b>.</a></p>\n",
      "----------------------------------------------\n",
      "<p class=\"title\" xmlns:mml=\"http://www.w3.org/1998/Math/MathML\"><a href=\"/pubmed/30015056\" ref=\"ordinalpos=3&amp;ncbi_uid=30015056&amp;link_uid=30015056&amp;linksrc=docsum_title\">Resting-state connectivity after visuo-motor skill learning is inversely associated with offline consolidation in <b>Parkinson</b>'s <b>disease</b> and healthy controls.</a></p>\n",
      "----------------------------------------------\n",
      "<p class=\"title\" xmlns:mml=\"http://www.w3.org/1998/Math/MathML\"><a href=\"/pubmed/30013404\" ref=\"ordinalpos=4&amp;ncbi_uid=30013404&amp;link_uid=30013404&amp;linksrc=docsum_title\">Effects of blackberry (<i>Morus nigra</i>) fruit juice on levodopa-induced dyskinesia in a mice model of <b>Parkinson</b>'s <b>disease</b>.</a></p>\n",
      "----------------------------------------------\n",
      "<p class=\"title\" xmlns:mml=\"http://www.w3.org/1998/Math/MathML\"><a href=\"/pubmed/30013389\" ref=\"ordinalpos=5&amp;ncbi_uid=30013389&amp;link_uid=30013389&amp;linksrc=docsum_title\">Testing the Protein Propagation Hypothesis of <b>Parkinson Disease</b>.</a></p>\n",
      "----------------------------------------------\n",
      "<p class=\"title\" xmlns:mml=\"http://www.w3.org/1998/Math/MathML\"><a href=\"/pubmed/30012028\" ref=\"ordinalpos=6&amp;ncbi_uid=30012028&amp;link_uid=30012028&amp;linksrc=docsum_title\">Understanding the Care Needs and Profile of People Living at Home With Moderate to Advanced Stage <b>Parkinson Disease</b>.</a></p>\n",
      "----------------------------------------------\n",
      "<p class=\"title\" xmlns:mml=\"http://www.w3.org/1998/Math/MathML\"><a href=\"/pubmed/30011180\" ref=\"ordinalpos=7&amp;ncbi_uid=30011180&amp;link_uid=30011180&amp;linksrc=docsum_title\">A chemical probe to monitor the parkinsonism-associated protein DJ-1 in live cells.</a></p>\n",
      "----------------------------------------------\n",
      "<p class=\"title\" xmlns:mml=\"http://www.w3.org/1998/Math/MathML\"><a href=\"/pubmed/30010145\" ref=\"ordinalpos=8&amp;ncbi_uid=30010145&amp;link_uid=30010145&amp;linksrc=docsum_title\">Recruitment and Retention in Clinical Trials of Deep Brain Stimulation in Early-Stage <b>Parkinson</b>'s <b>Disease</b>: Past Experiences and Future Considerations.</a></p>\n",
      "----------------------------------------------\n",
      "<p class=\"title\" xmlns:mml=\"http://www.w3.org/1998/Math/MathML\"><a href=\"/pubmed/30010144\" ref=\"ordinalpos=9&amp;ncbi_uid=30010144&amp;link_uid=30010144&amp;linksrc=docsum_title\">Evolvability and Neurodegenerative <b>Disease</b>: Antagonistic Pleiotropy Phenomena Derived from Amyloid Aggregates.</a></p>\n",
      "----------------------------------------------\n",
      "<p class=\"title\" xmlns:mml=\"http://www.w3.org/1998/Math/MathML\"><a href=\"/pubmed/30009921\" ref=\"ordinalpos=10&amp;ncbi_uid=30009921&amp;link_uid=30009921&amp;linksrc=docsum_title\">Aging modulates microglia phenotypes in neuroinflammation of MPTP-PD mice.</a></p>\n",
      "----------------------------------------------\n",
      "<p class=\"title\" xmlns:mml=\"http://www.w3.org/1998/Math/MathML\"><a href=\"/pubmed/30009872\" ref=\"ordinalpos=11&amp;ncbi_uid=30009872&amp;link_uid=30009872&amp;linksrc=docsum_title\">The Sinister Face of Heme Oxygenase-1 in Brain Aging and <b>Disease</b>.</a></p>\n",
      "----------------------------------------------\n",
      "<p class=\"title\" xmlns:mml=\"http://www.w3.org/1998/Math/MathML\"><a href=\"/pubmed/30009467\" ref=\"ordinalpos=12&amp;ncbi_uid=30009467&amp;link_uid=30009467&amp;linksrc=docsum_title\">In vivo Quantification of Glial Activation in Minipigs Overexpressing human α-synuclein.</a></p>\n",
      "----------------------------------------------\n",
      "<p class=\"title\" xmlns:mml=\"http://www.w3.org/1998/Math/MathML\"><a href=\"/pubmed/30009211\" ref=\"ordinalpos=13&amp;ncbi_uid=30009211&amp;link_uid=30009211&amp;linksrc=docsum_title\">The REM Sleep Behavior Disorder Screening Questionnaire is not Valid in De Novo <b>Parkinson</b>'s <b>Disease</b>.</a></p>\n",
      "----------------------------------------------\n",
      "<p class=\"title\" xmlns:mml=\"http://www.w3.org/1998/Math/MathML\"><a href=\"/pubmed/30009205\" ref=\"ordinalpos=14&amp;ncbi_uid=30009205&amp;link_uid=30009205&amp;linksrc=docsum_title\">Immunosuppressants and risk of <b>Parkinson disease</b>.</a></p>\n",
      "----------------------------------------------\n",
      "<p class=\"title\" xmlns:mml=\"http://www.w3.org/1998/Math/MathML\"><a href=\"/pubmed/30008693\" ref=\"ordinalpos=15&amp;ncbi_uid=30008693&amp;link_uid=30008693&amp;linksrc=docsum_title\">Do We Need to Rethink the Epidemiology and Healthcare Utilization of <b>Parkinson</b>'s <b>Disease</b> in Germany?</a></p>\n",
      "----------------------------------------------\n",
      "<p class=\"title\" xmlns:mml=\"http://www.w3.org/1998/Math/MathML\"><a href=\"/pubmed/30008111\" ref=\"ordinalpos=16&amp;ncbi_uid=30008111&amp;link_uid=30008111&amp;linksrc=docsum_title\">Hypermetabolism in the cerebellum and brainstem and cortical hypometabolism are independently associated with cognitive impairment in <b>Parkinson</b>'s <b>disease</b>.</a></p>\n",
      "----------------------------------------------\n",
      "<p class=\"title\" xmlns:mml=\"http://www.w3.org/1998/Math/MathML\"><a href=\"/pubmed/30007996\" ref=\"ordinalpos=17&amp;ncbi_uid=30007996&amp;link_uid=30007996&amp;linksrc=docsum_title\">Sensorimotor integration training in <b>Parkinson</b>`s <b>disease</b>.</a></p>\n",
      "----------------------------------------------\n",
      "<p class=\"title\" xmlns:mml=\"http://www.w3.org/1998/Math/MathML\"><a href=\"/pubmed/30007105\" ref=\"ordinalpos=18&amp;ncbi_uid=30007105&amp;link_uid=30007105&amp;linksrc=docsum_title\">Professional occupation and the risk of <b>Parkinson Disease</b>.</a></p>\n",
      "----------------------------------------------\n",
      "<p class=\"title\" xmlns:mml=\"http://www.w3.org/1998/Math/MathML\"><a href=\"/pubmed/30007046\" ref=\"ordinalpos=19&amp;ncbi_uid=30007046&amp;link_uid=30007046&amp;linksrc=docsum_title\">Target-specific forebrain projections and appropriate synaptic inputs of hESC-derived dopamine neurons grafted to the midbrain of parkinsonian rats.</a></p>\n",
      "----------------------------------------------\n",
      "<p class=\"title\" xmlns:mml=\"http://www.w3.org/1998/Math/MathML\"><a href=\"/pubmed/30006821\" ref=\"ordinalpos=20&amp;ncbi_uid=30006821&amp;link_uid=30006821&amp;linksrc=docsum_title\">Apomorphine and levodopa infusion for motor fluctuations and dyskinesia in advanced <b>Parkinson disease</b>.</a></p>\n",
      "----------------------------------------------\n"
     ]
    }
   ],
   "source": [
    "# loop through links to convert to string\n",
    "for i in range (len(links)):\n",
    "    links_all.append(str(links[i]))\n",
    "    print(links[i])\n",
    "    print(\"----------------------------------------------\")"
   ]
  },
  {
   "cell_type": "code",
   "execution_count": 12,
   "metadata": {
    "collapsed": true
   },
   "outputs": [],
   "source": [
    "# for i in links_all:\n",
    "#     print(i)\n",
    "#     print(\"----------------------------------------------\")"
   ]
  },
  {
   "cell_type": "code",
   "execution_count": 13,
   "metadata": {},
   "outputs": [
    {
     "data": {
      "text/plain": [
       "20"
      ]
     },
     "execution_count": 13,
     "metadata": {},
     "output_type": "execute_result"
    },
    {
     "data": {
      "text/plain": [
       "'<p class=\"title\" xmlns:mml=\"http://www.w3.org/1998/Math/MathML\"><a href=\"/pubmed/30012028\" ref=\"ordinalpos=6&amp;ncbi_uid=30012028&amp;link_uid=30012028&amp;linksrc=docsum_title\">Understanding the Care Needs and Profile of People Living at Home With Moderate to Advanced Stage <b>Parkinson Disease</b>.</a></p>'"
      ]
     },
     "execution_count": 13,
     "metadata": {},
     "output_type": "execute_result"
    }
   ],
   "source": [
    "# slice through links_all to test\n",
    "len(links_all)\n",
    "links_all[5]"
   ]
  },
  {
   "cell_type": "markdown",
   "metadata": {},
   "source": [
    "### Regex test"
   ]
  },
  {
   "cell_type": "code",
   "execution_count": 14,
   "metadata": {
    "collapsed": true
   },
   "outputs": [],
   "source": [
    "regex_test = '<p class=\"title\" xmlns:mml=\"http://www.w3.org/1998/Math/MathML\"><a href=\"/pubmed/29987868\" ref=\"ordinalpos=6&amp;ncbi_uid=29987868&amp;link_uid=29987868&amp;linksrc=docsum_title\">Personal computer-based cognitive training in <b>Parkinson</b>\\'s <b>disease</b>: a case study.</a></p>'"
   ]
  },
  {
   "cell_type": "code",
   "execution_count": 15,
   "metadata": {},
   "outputs": [
    {
     "name": "stdout",
     "output_type": "stream",
     "text": [
      "<p class=\"title\" xmlns:mml=\"http://www.w3.org/1998/Math/MathML\"><a href=\"/pubmed/29987868\" ref=\"ordinalpos=6&amp;ncbi_uid=29987868&amp;link_uid=29987868&amp;linksrc=docsum_title\">Personal computer-based cognitive training in <b>Parkinson</b>'s <b>disease</b>: a case study.</a></p>\n"
     ]
    }
   ],
   "source": [
    "print(regex_test)"
   ]
  },
  {
   "cell_type": "code",
   "execution_count": 16,
   "metadata": {},
   "outputs": [
    {
     "data": {
      "text/plain": [
       "['29987868', '29987868', '29987868']"
      ]
     },
     "execution_count": 16,
     "metadata": {},
     "output_type": "execute_result"
    }
   ],
   "source": [
    "re.findall(r'\\d{8}',regex_test)"
   ]
  },
  {
   "cell_type": "markdown",
   "metadata": {},
   "source": [
    "### End Regex Test"
   ]
  },
  {
   "cell_type": "code",
   "execution_count": 17,
   "metadata": {
    "collapsed": true
   },
   "outputs": [],
   "source": [
    "# loop through links all and use regex to grab the id numbers\n",
    "for i in range (len(links_all)):\n",
    "    pubmed_ids.append(re.findall(r'\\d{8}',links_all[i]))"
   ]
  },
  {
   "cell_type": "code",
   "execution_count": 18,
   "metadata": {},
   "outputs": [
    {
     "data": {
      "text/plain": [
       "20"
      ]
     },
     "execution_count": 18,
     "metadata": {},
     "output_type": "execute_result"
    },
    {
     "data": {
      "text/plain": [
       "list"
      ]
     },
     "execution_count": 18,
     "metadata": {},
     "output_type": "execute_result"
    },
    {
     "name": "stdout",
     "output_type": "stream",
     "text": [
      "[['30016807', '30016807', '30016807'], ['30015552', '30015552', '30015552'], ['30015056', '30015056', '30015056'], ['30013404', '30013404', '30013404'], ['30013389', '30013389', '30013389'], ['30012028', '30012028', '30012028'], ['30011180', '30011180', '30011180'], ['30010145', '30010145', '30010145'], ['30010144', '30010144', '30010144'], ['30009921', '30009921', '30009921'], ['30009872', '30009872', '30009872'], ['30009467', '30009467', '30009467'], ['30009211', '30009211', '30009211'], ['30009205', '30009205', '30009205'], ['30008693', '30008693', '30008693'], ['30008111', '30008111', '30008111'], ['30007996', '30007996', '30007996'], ['30007105', '30007105', '30007105'], ['30007046', '30007046', '30007046'], ['30006821', '30006821', '30006821']]\n",
      "----------------------------------------------\n"
     ]
    }
   ],
   "source": [
    "# print out info for pubmed_ids\n",
    "len(pubmed_ids)\n",
    "type(pubmed_ids)\n",
    "print(pubmed_ids)\n",
    "print(\"----------------------------------------------\")"
   ]
  },
  {
   "cell_type": "code",
   "execution_count": 19,
   "metadata": {
    "collapsed": true
   },
   "outputs": [],
   "source": [
    "# use itertools to transform pubmed ids from an array withn an array into one list\n",
    "import itertools\n",
    "pubmed_merged = list(itertools.chain.from_iterable(pubmed_ids))"
   ]
  },
  {
   "cell_type": "code",
   "execution_count": 20,
   "metadata": {},
   "outputs": [
    {
     "data": {
      "text/plain": [
       "'30016807'"
      ]
     },
     "execution_count": 20,
     "metadata": {},
     "output_type": "execute_result"
    },
    {
     "name": "stdout",
     "output_type": "stream",
     "text": [
      "['30016807', '30016807', '30016807', '30015552', '30015552', '30015552', '30015056', '30015056', '30015056', '30013404', '30013404', '30013404', '30013389', '30013389', '30013389', '30012028', '30012028', '30012028', '30011180', '30011180', '30011180', '30010145', '30010145', '30010145', '30010144', '30010144', '30010144', '30009921', '30009921', '30009921', '30009872', '30009872', '30009872', '30009467', '30009467', '30009467', '30009211', '30009211', '30009211', '30009205', '30009205', '30009205', '30008693', '30008693', '30008693', '30008111', '30008111', '30008111', '30007996', '30007996', '30007996', '30007105', '30007105', '30007105', '30007046', '30007046', '30007046', '30006821', '30006821', '30006821']\n"
     ]
    }
   ],
   "source": [
    "# slice through pubmed_merged to see what itertools did\n",
    "pubmed_merged[0]\n",
    "print(pubmed_merged)"
   ]
  },
  {
   "cell_type": "code",
   "execution_count": 21,
   "metadata": {},
   "outputs": [
    {
     "name": "stdout",
     "output_type": "stream",
     "text": [
      "https://www.ncbi.nlm.nih.gov/pubmed/30016807\n"
     ]
    }
   ],
   "source": [
    "# concat main_url with a slice of pubmed_merged before we loop\n",
    "print(main_url + str(pubmed_merged[0]))"
   ]
  },
  {
   "cell_type": "code",
   "execution_count": 22,
   "metadata": {
    "collapsed": true
   },
   "outputs": [],
   "source": [
    "# append merged links to links_all\n",
    "for i in range (len(pubmed_merged)):\n",
    "    scrape_links.append(main_url + str(pubmed_merged[i]))"
   ]
  },
  {
   "cell_type": "code",
   "execution_count": 23,
   "metadata": {},
   "outputs": [
    {
     "name": "stdout",
     "output_type": "stream",
     "text": [
      "https://www.ncbi.nlm.nih.gov/pubmed/30016807\n",
      "https://www.ncbi.nlm.nih.gov/pubmed/30016807\n",
      "https://www.ncbi.nlm.nih.gov/pubmed/30016807\n",
      "https://www.ncbi.nlm.nih.gov/pubmed/30015552\n",
      "https://www.ncbi.nlm.nih.gov/pubmed/30015552\n",
      "https://www.ncbi.nlm.nih.gov/pubmed/30015552\n",
      "https://www.ncbi.nlm.nih.gov/pubmed/30015056\n",
      "https://www.ncbi.nlm.nih.gov/pubmed/30015056\n",
      "https://www.ncbi.nlm.nih.gov/pubmed/30015056\n",
      "https://www.ncbi.nlm.nih.gov/pubmed/30013404\n",
      "https://www.ncbi.nlm.nih.gov/pubmed/30013404\n",
      "https://www.ncbi.nlm.nih.gov/pubmed/30013404\n",
      "https://www.ncbi.nlm.nih.gov/pubmed/30013389\n",
      "https://www.ncbi.nlm.nih.gov/pubmed/30013389\n",
      "https://www.ncbi.nlm.nih.gov/pubmed/30013389\n",
      "https://www.ncbi.nlm.nih.gov/pubmed/30012028\n",
      "https://www.ncbi.nlm.nih.gov/pubmed/30012028\n",
      "https://www.ncbi.nlm.nih.gov/pubmed/30012028\n",
      "https://www.ncbi.nlm.nih.gov/pubmed/30011180\n",
      "https://www.ncbi.nlm.nih.gov/pubmed/30011180\n",
      "https://www.ncbi.nlm.nih.gov/pubmed/30011180\n",
      "https://www.ncbi.nlm.nih.gov/pubmed/30010145\n",
      "https://www.ncbi.nlm.nih.gov/pubmed/30010145\n",
      "https://www.ncbi.nlm.nih.gov/pubmed/30010145\n",
      "https://www.ncbi.nlm.nih.gov/pubmed/30010144\n",
      "https://www.ncbi.nlm.nih.gov/pubmed/30010144\n",
      "https://www.ncbi.nlm.nih.gov/pubmed/30010144\n",
      "https://www.ncbi.nlm.nih.gov/pubmed/30009921\n",
      "https://www.ncbi.nlm.nih.gov/pubmed/30009921\n",
      "https://www.ncbi.nlm.nih.gov/pubmed/30009921\n",
      "https://www.ncbi.nlm.nih.gov/pubmed/30009872\n",
      "https://www.ncbi.nlm.nih.gov/pubmed/30009872\n",
      "https://www.ncbi.nlm.nih.gov/pubmed/30009872\n",
      "https://www.ncbi.nlm.nih.gov/pubmed/30009467\n",
      "https://www.ncbi.nlm.nih.gov/pubmed/30009467\n",
      "https://www.ncbi.nlm.nih.gov/pubmed/30009467\n",
      "https://www.ncbi.nlm.nih.gov/pubmed/30009211\n",
      "https://www.ncbi.nlm.nih.gov/pubmed/30009211\n",
      "https://www.ncbi.nlm.nih.gov/pubmed/30009211\n",
      "https://www.ncbi.nlm.nih.gov/pubmed/30009205\n",
      "https://www.ncbi.nlm.nih.gov/pubmed/30009205\n",
      "https://www.ncbi.nlm.nih.gov/pubmed/30009205\n",
      "https://www.ncbi.nlm.nih.gov/pubmed/30008693\n",
      "https://www.ncbi.nlm.nih.gov/pubmed/30008693\n",
      "https://www.ncbi.nlm.nih.gov/pubmed/30008693\n",
      "https://www.ncbi.nlm.nih.gov/pubmed/30008111\n",
      "https://www.ncbi.nlm.nih.gov/pubmed/30008111\n",
      "https://www.ncbi.nlm.nih.gov/pubmed/30008111\n",
      "https://www.ncbi.nlm.nih.gov/pubmed/30007996\n",
      "https://www.ncbi.nlm.nih.gov/pubmed/30007996\n",
      "https://www.ncbi.nlm.nih.gov/pubmed/30007996\n",
      "https://www.ncbi.nlm.nih.gov/pubmed/30007105\n",
      "https://www.ncbi.nlm.nih.gov/pubmed/30007105\n",
      "https://www.ncbi.nlm.nih.gov/pubmed/30007105\n",
      "https://www.ncbi.nlm.nih.gov/pubmed/30007046\n",
      "https://www.ncbi.nlm.nih.gov/pubmed/30007046\n",
      "https://www.ncbi.nlm.nih.gov/pubmed/30007046\n",
      "https://www.ncbi.nlm.nih.gov/pubmed/30006821\n",
      "https://www.ncbi.nlm.nih.gov/pubmed/30006821\n",
      "https://www.ncbi.nlm.nih.gov/pubmed/30006821\n"
     ]
    }
   ],
   "source": [
    "for i in scrape_links:\n",
    "    print(i)"
   ]
  },
  {
   "cell_type": "markdown",
   "metadata": {},
   "source": [
    "# END TESTING SECTION------------------------------------------------------------\n",
    "<br>\n",
    "<br>"
   ]
  },
  {
   "cell_type": "markdown",
   "metadata": {},
   "source": [
    "## Function to create array of links to scrape"
   ]
  },
  {
   "cell_type": "code",
   "execution_count": 24,
   "metadata": {
    "collapsed": true
   },
   "outputs": [],
   "source": [
    "# set empty links_all list to append to \n",
    "links_all = []\n",
    "\n",
    "# set pubmed ids list to append to\n",
    "pubmed_ids = []\n",
    "\n",
    "# set empty list to append scrape_links to\n",
    "scrape_links = []\n",
    "\n",
    "# function to get links\n",
    "def get_links(main_url):\n",
    "    \n",
    "    # use bs to scarpe p tags with class - title\n",
    "    links = soup.find_all(\"p\",attrs={'class':'title'})\n",
    "      \n",
    "    # testing to see how my links / journals to scrape\n",
    "    articles_to_scrape = len(links)\n",
    "    print(f\"There are {articles_to_scrape} articles to scrape.\")\n",
    "    print(\"----------------------------------------------\")\n",
    "    \n",
    "    # loop through links to convert to string\n",
    "    for i in range (len(links)):\n",
    "        links_all.append(str(links[i]))\n",
    "        print(links[i])\n",
    "        print(\"----------------------------------------------\")\n",
    "        \n",
    "    # slice through links_all to test\n",
    "    len(links_all)\n",
    "    links_all[1]\n",
    "    \n",
    "    # loop through links all and use regex to grab the id numbers\n",
    "    for i in range (len(links_all)):\n",
    "        pubmed_ids.append(re.findall(r'\\d{8}',links_all[i]))\n",
    "    \n",
    "    # print out info for pubmed_ids\n",
    "    len(pubmed_ids)\n",
    "    type(pubmed_ids)\n",
    "    print(pubmed_ids)\n",
    "    print(\"----------------------------------------------\")\n",
    "    \n",
    "    # use itertools to transform pubmed ids from an array withn an array into one list\n",
    "    import itertools\n",
    "    pubmed_merged = list(itertools.chain.from_iterable(pubmed_ids))\n",
    "    \n",
    "    # slice through pubmed_merged to see what itertools did\n",
    "    pubmed_merged[0]\n",
    "    \n",
    "    # concat main_url with a slice of pubmed_merged before we loop\n",
    "    print(main_url + str(pubmed_merged[0]))\n",
    "    \n",
    "    # append merged links to links_all\n",
    "    for i in range (len(pubmed_merged)):\n",
    "        scrape_links.append(main_url + str(pubmed_merged[i]))"
   ]
  },
  {
   "cell_type": "code",
   "execution_count": 25,
   "metadata": {
    "scrolled": false
   },
   "outputs": [
    {
     "name": "stdout",
     "output_type": "stream",
     "text": [
      "There are 20 articles to scrape.\n",
      "----------------------------------------------\n",
      "<p class=\"title\" xmlns:mml=\"http://www.w3.org/1998/Math/MathML\"><a href=\"/pubmed/30016807\" ref=\"ordinalpos=1&amp;ncbi_uid=30016807&amp;link_uid=30016807&amp;linksrc=docsum_title\">[<b>Parkinson Disease</b> and Pain - diagnostic and therapeutic approaches to a challenging non-motor symptom].</a></p>\n",
      "----------------------------------------------\n",
      "<p class=\"title\" xmlns:mml=\"http://www.w3.org/1998/Math/MathML\"><a href=\"/pubmed/30015552\" ref=\"ordinalpos=2&amp;ncbi_uid=30015552&amp;link_uid=30015552&amp;linksrc=docsum_title\">Assessing the validity of proxy caregiver reporting for potential palliative care outcome measures in <b>Parkinson</b>'s <b>disease</b>.</a></p>\n",
      "----------------------------------------------\n",
      "<p class=\"title\" xmlns:mml=\"http://www.w3.org/1998/Math/MathML\"><a href=\"/pubmed/30015056\" ref=\"ordinalpos=3&amp;ncbi_uid=30015056&amp;link_uid=30015056&amp;linksrc=docsum_title\">Resting-state connectivity after visuo-motor skill learning is inversely associated with offline consolidation in <b>Parkinson</b>'s <b>disease</b> and healthy controls.</a></p>\n",
      "----------------------------------------------\n",
      "<p class=\"title\" xmlns:mml=\"http://www.w3.org/1998/Math/MathML\"><a href=\"/pubmed/30013404\" ref=\"ordinalpos=4&amp;ncbi_uid=30013404&amp;link_uid=30013404&amp;linksrc=docsum_title\">Effects of blackberry (<i>Morus nigra</i>) fruit juice on levodopa-induced dyskinesia in a mice model of <b>Parkinson</b>'s <b>disease</b>.</a></p>\n",
      "----------------------------------------------\n",
      "<p class=\"title\" xmlns:mml=\"http://www.w3.org/1998/Math/MathML\"><a href=\"/pubmed/30013389\" ref=\"ordinalpos=5&amp;ncbi_uid=30013389&amp;link_uid=30013389&amp;linksrc=docsum_title\">Testing the Protein Propagation Hypothesis of <b>Parkinson Disease</b>.</a></p>\n",
      "----------------------------------------------\n",
      "<p class=\"title\" xmlns:mml=\"http://www.w3.org/1998/Math/MathML\"><a href=\"/pubmed/30012028\" ref=\"ordinalpos=6&amp;ncbi_uid=30012028&amp;link_uid=30012028&amp;linksrc=docsum_title\">Understanding the Care Needs and Profile of People Living at Home With Moderate to Advanced Stage <b>Parkinson Disease</b>.</a></p>\n",
      "----------------------------------------------\n",
      "<p class=\"title\" xmlns:mml=\"http://www.w3.org/1998/Math/MathML\"><a href=\"/pubmed/30011180\" ref=\"ordinalpos=7&amp;ncbi_uid=30011180&amp;link_uid=30011180&amp;linksrc=docsum_title\">A chemical probe to monitor the parkinsonism-associated protein DJ-1 in live cells.</a></p>\n",
      "----------------------------------------------\n",
      "<p class=\"title\" xmlns:mml=\"http://www.w3.org/1998/Math/MathML\"><a href=\"/pubmed/30010145\" ref=\"ordinalpos=8&amp;ncbi_uid=30010145&amp;link_uid=30010145&amp;linksrc=docsum_title\">Recruitment and Retention in Clinical Trials of Deep Brain Stimulation in Early-Stage <b>Parkinson</b>'s <b>Disease</b>: Past Experiences and Future Considerations.</a></p>\n",
      "----------------------------------------------\n",
      "<p class=\"title\" xmlns:mml=\"http://www.w3.org/1998/Math/MathML\"><a href=\"/pubmed/30010144\" ref=\"ordinalpos=9&amp;ncbi_uid=30010144&amp;link_uid=30010144&amp;linksrc=docsum_title\">Evolvability and Neurodegenerative <b>Disease</b>: Antagonistic Pleiotropy Phenomena Derived from Amyloid Aggregates.</a></p>\n",
      "----------------------------------------------\n",
      "<p class=\"title\" xmlns:mml=\"http://www.w3.org/1998/Math/MathML\"><a href=\"/pubmed/30009921\" ref=\"ordinalpos=10&amp;ncbi_uid=30009921&amp;link_uid=30009921&amp;linksrc=docsum_title\">Aging modulates microglia phenotypes in neuroinflammation of MPTP-PD mice.</a></p>\n",
      "----------------------------------------------\n",
      "<p class=\"title\" xmlns:mml=\"http://www.w3.org/1998/Math/MathML\"><a href=\"/pubmed/30009872\" ref=\"ordinalpos=11&amp;ncbi_uid=30009872&amp;link_uid=30009872&amp;linksrc=docsum_title\">The Sinister Face of Heme Oxygenase-1 in Brain Aging and <b>Disease</b>.</a></p>\n",
      "----------------------------------------------\n",
      "<p class=\"title\" xmlns:mml=\"http://www.w3.org/1998/Math/MathML\"><a href=\"/pubmed/30009467\" ref=\"ordinalpos=12&amp;ncbi_uid=30009467&amp;link_uid=30009467&amp;linksrc=docsum_title\">In vivo Quantification of Glial Activation in Minipigs Overexpressing human α-synuclein.</a></p>\n",
      "----------------------------------------------\n",
      "<p class=\"title\" xmlns:mml=\"http://www.w3.org/1998/Math/MathML\"><a href=\"/pubmed/30009211\" ref=\"ordinalpos=13&amp;ncbi_uid=30009211&amp;link_uid=30009211&amp;linksrc=docsum_title\">The REM Sleep Behavior Disorder Screening Questionnaire is not Valid in De Novo <b>Parkinson</b>'s <b>Disease</b>.</a></p>\n",
      "----------------------------------------------\n",
      "<p class=\"title\" xmlns:mml=\"http://www.w3.org/1998/Math/MathML\"><a href=\"/pubmed/30009205\" ref=\"ordinalpos=14&amp;ncbi_uid=30009205&amp;link_uid=30009205&amp;linksrc=docsum_title\">Immunosuppressants and risk of <b>Parkinson disease</b>.</a></p>\n",
      "----------------------------------------------\n",
      "<p class=\"title\" xmlns:mml=\"http://www.w3.org/1998/Math/MathML\"><a href=\"/pubmed/30008693\" ref=\"ordinalpos=15&amp;ncbi_uid=30008693&amp;link_uid=30008693&amp;linksrc=docsum_title\">Do We Need to Rethink the Epidemiology and Healthcare Utilization of <b>Parkinson</b>'s <b>Disease</b> in Germany?</a></p>\n",
      "----------------------------------------------\n",
      "<p class=\"title\" xmlns:mml=\"http://www.w3.org/1998/Math/MathML\"><a href=\"/pubmed/30008111\" ref=\"ordinalpos=16&amp;ncbi_uid=30008111&amp;link_uid=30008111&amp;linksrc=docsum_title\">Hypermetabolism in the cerebellum and brainstem and cortical hypometabolism are independently associated with cognitive impairment in <b>Parkinson</b>'s <b>disease</b>.</a></p>\n",
      "----------------------------------------------\n",
      "<p class=\"title\" xmlns:mml=\"http://www.w3.org/1998/Math/MathML\"><a href=\"/pubmed/30007996\" ref=\"ordinalpos=17&amp;ncbi_uid=30007996&amp;link_uid=30007996&amp;linksrc=docsum_title\">Sensorimotor integration training in <b>Parkinson</b>`s <b>disease</b>.</a></p>\n",
      "----------------------------------------------\n",
      "<p class=\"title\" xmlns:mml=\"http://www.w3.org/1998/Math/MathML\"><a href=\"/pubmed/30007105\" ref=\"ordinalpos=18&amp;ncbi_uid=30007105&amp;link_uid=30007105&amp;linksrc=docsum_title\">Professional occupation and the risk of <b>Parkinson Disease</b>.</a></p>\n",
      "----------------------------------------------\n",
      "<p class=\"title\" xmlns:mml=\"http://www.w3.org/1998/Math/MathML\"><a href=\"/pubmed/30007046\" ref=\"ordinalpos=19&amp;ncbi_uid=30007046&amp;link_uid=30007046&amp;linksrc=docsum_title\">Target-specific forebrain projections and appropriate synaptic inputs of hESC-derived dopamine neurons grafted to the midbrain of parkinsonian rats.</a></p>\n",
      "----------------------------------------------\n",
      "<p class=\"title\" xmlns:mml=\"http://www.w3.org/1998/Math/MathML\"><a href=\"/pubmed/30006821\" ref=\"ordinalpos=20&amp;ncbi_uid=30006821&amp;link_uid=30006821&amp;linksrc=docsum_title\">Apomorphine and levodopa infusion for motor fluctuations and dyskinesia in advanced <b>Parkinson disease</b>.</a></p>\n",
      "----------------------------------------------\n",
      "[['30016807', '30016807', '30016807'], ['30015552', '30015552', '30015552'], ['30015056', '30015056', '30015056'], ['30013404', '30013404', '30013404'], ['30013389', '30013389', '30013389'], ['30012028', '30012028', '30012028'], ['30011180', '30011180', '30011180'], ['30010145', '30010145', '30010145'], ['30010144', '30010144', '30010144'], ['30009921', '30009921', '30009921'], ['30009872', '30009872', '30009872'], ['30009467', '30009467', '30009467'], ['30009211', '30009211', '30009211'], ['30009205', '30009205', '30009205'], ['30008693', '30008693', '30008693'], ['30008111', '30008111', '30008111'], ['30007996', '30007996', '30007996'], ['30007105', '30007105', '30007105'], ['30007046', '30007046', '30007046'], ['30006821', '30006821', '30006821']]\n",
      "----------------------------------------------\n",
      "https://www.ncbi.nlm.nih.gov/pubmed/30016807\n"
     ]
    }
   ],
   "source": [
    "# RUN FUNCTION\n",
    "get_links(main_url)"
   ]
  },
  {
   "cell_type": "markdown",
   "metadata": {},
   "source": [
    "<br>\n",
    "There are duplicates in our **scrape_links** array. Use `list` to delete the duplicates."
   ]
  },
  {
   "cell_type": "code",
   "execution_count": 26,
   "metadata": {},
   "outputs": [
    {
     "data": {
      "text/plain": [
       "20"
      ]
     },
     "execution_count": 26,
     "metadata": {},
     "output_type": "execute_result"
    },
    {
     "data": {
      "text/plain": [
       "['https://www.ncbi.nlm.nih.gov/pubmed/30008693',\n",
       " 'https://www.ncbi.nlm.nih.gov/pubmed/30016807',\n",
       " 'https://www.ncbi.nlm.nih.gov/pubmed/30013404',\n",
       " 'https://www.ncbi.nlm.nih.gov/pubmed/30007105',\n",
       " 'https://www.ncbi.nlm.nih.gov/pubmed/30015552',\n",
       " 'https://www.ncbi.nlm.nih.gov/pubmed/30009467',\n",
       " 'https://www.ncbi.nlm.nih.gov/pubmed/30006821',\n",
       " 'https://www.ncbi.nlm.nih.gov/pubmed/30009921',\n",
       " 'https://www.ncbi.nlm.nih.gov/pubmed/30007996',\n",
       " 'https://www.ncbi.nlm.nih.gov/pubmed/30010144',\n",
       " 'https://www.ncbi.nlm.nih.gov/pubmed/30009205',\n",
       " 'https://www.ncbi.nlm.nih.gov/pubmed/30007046',\n",
       " 'https://www.ncbi.nlm.nih.gov/pubmed/30012028',\n",
       " 'https://www.ncbi.nlm.nih.gov/pubmed/30008111',\n",
       " 'https://www.ncbi.nlm.nih.gov/pubmed/30013389',\n",
       " 'https://www.ncbi.nlm.nih.gov/pubmed/30010145',\n",
       " 'https://www.ncbi.nlm.nih.gov/pubmed/30011180',\n",
       " 'https://www.ncbi.nlm.nih.gov/pubmed/30009211',\n",
       " 'https://www.ncbi.nlm.nih.gov/pubmed/30015056',\n",
       " 'https://www.ncbi.nlm.nih.gov/pubmed/30009872']"
      ]
     },
     "execution_count": 26,
     "metadata": {},
     "output_type": "execute_result"
    }
   ],
   "source": [
    "# delete duplicates in scrape_links and assign to new variable scrape_links_final\n",
    "scrape_links_final = list(set(scrape_links))\n",
    "len(scrape_links_final)\n",
    "scrape_links_final"
   ]
  },
  {
   "cell_type": "markdown",
   "metadata": {},
   "source": [
    "## Main array of links to scrape:\n",
    "\n",
    "Here we use selenium to iterate through these links. Seleium will click on each link then scrape the title and abstracts on each page. "
   ]
  },
  {
   "cell_type": "code",
   "execution_count": 27,
   "metadata": {},
   "outputs": [
    {
     "name": "stdout",
     "output_type": "stream",
     "text": [
      "https://www.ncbi.nlm.nih.gov/pubmed/30008693\n",
      "https://www.ncbi.nlm.nih.gov/pubmed/30016807\n",
      "https://www.ncbi.nlm.nih.gov/pubmed/30013404\n",
      "https://www.ncbi.nlm.nih.gov/pubmed/30007105\n",
      "https://www.ncbi.nlm.nih.gov/pubmed/30015552\n",
      "https://www.ncbi.nlm.nih.gov/pubmed/30009467\n",
      "https://www.ncbi.nlm.nih.gov/pubmed/30006821\n",
      "https://www.ncbi.nlm.nih.gov/pubmed/30009921\n",
      "https://www.ncbi.nlm.nih.gov/pubmed/30007996\n",
      "https://www.ncbi.nlm.nih.gov/pubmed/30010144\n",
      "https://www.ncbi.nlm.nih.gov/pubmed/30009205\n",
      "https://www.ncbi.nlm.nih.gov/pubmed/30007046\n",
      "https://www.ncbi.nlm.nih.gov/pubmed/30012028\n",
      "https://www.ncbi.nlm.nih.gov/pubmed/30008111\n",
      "https://www.ncbi.nlm.nih.gov/pubmed/30013389\n",
      "https://www.ncbi.nlm.nih.gov/pubmed/30010145\n",
      "https://www.ncbi.nlm.nih.gov/pubmed/30011180\n",
      "https://www.ncbi.nlm.nih.gov/pubmed/30009211\n",
      "https://www.ncbi.nlm.nih.gov/pubmed/30015056\n",
      "https://www.ncbi.nlm.nih.gov/pubmed/30009872\n"
     ]
    }
   ],
   "source": [
    "# testing scrape_links\n",
    "for i in scrape_links_final:\n",
    "    print(i)"
   ]
  },
  {
   "cell_type": "code",
   "execution_count": 28,
   "metadata": {},
   "outputs": [
    {
     "data": {
      "text/plain": [
       "['https://www.ncbi.nlm.nih.gov/pubmed/30008693',\n",
       " 'https://www.ncbi.nlm.nih.gov/pubmed/30016807',\n",
       " 'https://www.ncbi.nlm.nih.gov/pubmed/30013404',\n",
       " 'https://www.ncbi.nlm.nih.gov/pubmed/30007105',\n",
       " 'https://www.ncbi.nlm.nih.gov/pubmed/30015552']"
      ]
     },
     "execution_count": 28,
     "metadata": {},
     "output_type": "execute_result"
    },
    {
     "data": {
      "text/plain": [
       "['https://www.ncbi.nlm.nih.gov/pubmed/30009467',\n",
       " 'https://www.ncbi.nlm.nih.gov/pubmed/30006821',\n",
       " 'https://www.ncbi.nlm.nih.gov/pubmed/30009921',\n",
       " 'https://www.ncbi.nlm.nih.gov/pubmed/30007996',\n",
       " 'https://www.ncbi.nlm.nih.gov/pubmed/30010144']"
      ]
     },
     "execution_count": 28,
     "metadata": {},
     "output_type": "execute_result"
    },
    {
     "data": {
      "text/plain": [
       "['https://www.ncbi.nlm.nih.gov/pubmed/30009205',\n",
       " 'https://www.ncbi.nlm.nih.gov/pubmed/30007046',\n",
       " 'https://www.ncbi.nlm.nih.gov/pubmed/30012028',\n",
       " 'https://www.ncbi.nlm.nih.gov/pubmed/30008111',\n",
       " 'https://www.ncbi.nlm.nih.gov/pubmed/30013389']"
      ]
     },
     "execution_count": 28,
     "metadata": {},
     "output_type": "execute_result"
    },
    {
     "data": {
      "text/plain": [
       "['https://www.ncbi.nlm.nih.gov/pubmed/30010145',\n",
       " 'https://www.ncbi.nlm.nih.gov/pubmed/30011180',\n",
       " 'https://www.ncbi.nlm.nih.gov/pubmed/30009211',\n",
       " 'https://www.ncbi.nlm.nih.gov/pubmed/30015056',\n",
       " 'https://www.ncbi.nlm.nih.gov/pubmed/30009872']"
      ]
     },
     "execution_count": 28,
     "metadata": {},
     "output_type": "execute_result"
    }
   ],
   "source": [
    "# slice out scrape_links_final so we can scrape 5 articles at a time\n",
    "links_1 = scrape_links_final[0:5]\n",
    "links_1\n",
    "\n",
    "links_2 = scrape_links_final[5:10]\n",
    "links_2\n",
    "\n",
    "links_3 = scrape_links_final[10:15]\n",
    "links_3\n",
    "\n",
    "links_4 = scrape_links_final[15:20]\n",
    "links_4"
   ]
  },
  {
   "cell_type": "markdown",
   "metadata": {},
   "source": [
    "## Regex Notes"
   ]
  },
  {
   "cell_type": "code",
   "execution_count": 29,
   "metadata": {
    "collapsed": true
   },
   "outputs": [],
   "source": [
    "# Regex\n",
    "# Identifiers:\n",
    "# \\d any number\n",
    "# \\D anything but a number\n",
    "# \\s space\n",
    "# \\S anything but a space\n",
    "# \\w any character\n",
    "# \\W anything but a character\n",
    "# . any character, except for a newline\n",
    "# \\b the whitespace around words\n",
    "# \\. a period\n",
    "\n",
    "# Modifiers:\n",
    "# {1,3} we're expecting 1-3 \\d{1-3}\n",
    "# + Match 1 or more\n",
    "# ? Match 0 or more\n",
    "# * Match 0 or more\n",
    "# $ Match the end of a string\n",
    "# ^ matching the beginning of a string\n",
    "# | either or\n",
    "# [] range or \"variance\" [A-Za-z] [1-5a-qA-Z]\n",
    "# {x} expecting \"x\" amount\n",
    "\n",
    "# White Space Characters: \n",
    "# \\n new line\n",
    "# \\s space\n",
    "# \\t tab\n",
    "# \\e escape\n",
    "# \\f form feed\n",
    "# \\r return\n",
    "\n",
    "# DONT FORGET!:\n",
    "# . + * [] $ ^ () {} | \\"
   ]
  },
  {
   "cell_type": "markdown",
   "metadata": {
    "collapsed": true
   },
   "source": [
    "## Selenium\n",
    "**Web Browser Automation**"
   ]
  },
  {
   "cell_type": "code",
   "execution_count": 30,
   "metadata": {
    "collapsed": true
   },
   "outputs": [],
   "source": [
    "from splinter import Browser\n",
    "from selenium import webdriver"
   ]
  },
  {
   "cell_type": "code",
   "execution_count": 31,
   "metadata": {
    "collapsed": true
   },
   "outputs": [],
   "source": [
    "# make sure chrome browser exe is in current directory\n",
    "# chrome browser exe is not necessary for MACS\n",
    "executable_path = {'executable_path': 'chromedriver'}"
   ]
  },
  {
   "cell_type": "markdown",
   "metadata": {},
   "source": [
    "## Set up dictionary to append data to"
   ]
  },
  {
   "cell_type": "code",
   "execution_count": 32,
   "metadata": {
    "collapsed": true
   },
   "outputs": [],
   "source": [
    "article_dict = {}"
   ]
  },
  {
   "cell_type": "markdown",
   "metadata": {},
   "source": [
    "## Set up SQLite"
   ]
  },
  {
   "cell_type": "code",
   "execution_count": 33,
   "metadata": {
    "collapsed": true
   },
   "outputs": [],
   "source": [
    "# Import sqlalchemy Dependencies\n",
    "import sqlalchemy\n",
    "from sqlalchemy.ext.automap import automap_base\n",
    "from sqlalchemy.orm import Session\n",
    "from sqlalchemy import create_engine\n",
    "from sqlalchemy import func\n",
    "from sqlalchemy import Column, Float, Integer, String, Date\n",
    "from sqlalchemy.ext.declarative import declarative_base"
   ]
  },
  {
   "cell_type": "code",
   "execution_count": 34,
   "metadata": {
    "collapsed": true
   },
   "outputs": [],
   "source": [
    "# Create an engine for the photopharm.sqlite database\n",
    "engine = create_engine(\"sqlite:///photopharm.sqlite\")\n"
   ]
  },
  {
   "cell_type": "code",
   "execution_count": 35,
   "metadata": {
    "collapsed": true
   },
   "outputs": [],
   "source": [
    "# Reflect Database into ORM classes\n",
    "Base = declarative_base()"
   ]
  },
  {
   "cell_type": "code",
   "execution_count": 36,
   "metadata": {
    "collapsed": true
   },
   "outputs": [],
   "source": [
    "# Create ORM class for titles and abstracts\n",
    "class Articles(Base):\n",
    "    __tablename__ = \"Title_Abstracts\"\n",
    "    \n",
    "    __table_args__ = {'extend_existing': True} \n",
    "    \n",
    "    id = Column(Integer, primary_key = True)\n",
    "    title = Column(String)\n",
    "    abstract = Column(String)\n",
    "    "
   ]
  },
  {
   "cell_type": "code",
   "execution_count": 37,
   "metadata": {
    "collapsed": true
   },
   "outputs": [],
   "source": [
    "# create tables\n",
    "Base.metadata.create_all(engine)"
   ]
  },
  {
   "cell_type": "markdown",
   "metadata": {},
   "source": [
    "## Create get_article_info function"
   ]
  },
  {
   "cell_type": "code",
   "execution_count": null,
   "metadata": {
    "collapsed": true
   },
   "outputs": [],
   "source": [
    "import json"
   ]
  },
  {
   "cell_type": "code",
   "execution_count": 38,
   "metadata": {
    "collapsed": true
   },
   "outputs": [],
   "source": [
    "title = []\n",
    "abstract = []\n",
    "\n",
    "def get_article_info(links_1):\n",
    "    \n",
    "    # iterate through articles\n",
    "    for i in links_1:\n",
    "        \n",
    "        # sets up scraper\n",
    "        browser = Browser('chrome', headless=False)\n",
    "        html = browser.html\n",
    "        response2 = requests.get(i)\n",
    "        soup2 = bs(response2.text, 'html.parser')\n",
    "    \n",
    "        browser.visit(i)\n",
    "    \n",
    "        # there are two 'h1' tags on this page. slice out index 0\n",
    "        title_one = soup2.find_all('h1')\n",
    "        article_one_title = title_one[1].text.strip()\n",
    "    \n",
    "        # slice h1 at index 1 to grab article title\n",
    "        title.append(article_one_title)\n",
    "    \n",
    "        # get abstract \n",
    "        # abstract.append(soup2.find(\"div\", attrs={'class': 'rprt_all'}).text.strip())     \n",
    "        abstract.append(soup2.find(\"div\", attrs={'class': 'abstr'}).text.strip())\n",
    "        \n",
    "        article_dict[\"title\"] = title\n",
    "        article_dict[\"abstract\"] = abstract"
   ]
  },
  {
   "cell_type": "markdown",
   "metadata": {},
   "source": [
    "## Run article_info function"
   ]
  },
  {
   "cell_type": "code",
   "execution_count": 39,
   "metadata": {
    "collapsed": true
   },
   "outputs": [],
   "source": [
    "get_article_info(links_1)"
   ]
  },
  {
   "cell_type": "code",
   "execution_count": null,
   "metadata": {
    "collapsed": true
   },
   "outputs": [],
   "source": [
    "get_article_info(links_2)"
   ]
  },
  {
   "cell_type": "code",
   "execution_count": null,
   "metadata": {
    "collapsed": true
   },
   "outputs": [],
   "source": [
    "get_article_info(links_3)"
   ]
  },
  {
   "cell_type": "code",
   "execution_count": null,
   "metadata": {
    "collapsed": true
   },
   "outputs": [],
   "source": [
    "get_article_info(links_4)"
   ]
  },
  {
   "cell_type": "code",
   "execution_count": 40,
   "metadata": {},
   "outputs": [
    {
     "name": "stdout",
     "output_type": "stream",
     "text": [
      "Do We Need to Rethink the Epidemiology and Healthcare Utilization of Parkinson's Disease in Germany?\n",
      "\n",
      "[Parkinson Disease and Pain - diagnostic and therapeutic approaches to a challenging non-motor symptom].\n",
      "\n",
      "Effects of blackberry (Morus nigra) fruit juice on levodopa-induced dyskinesia in a mice model of Parkinson's disease.\n",
      "\n",
      "Professional occupation and the risk of Parkinson Disease.\n",
      "\n",
      "Assessing the validity of proxy caregiver reporting for potential palliative care outcome measures in Parkinson's disease.\n",
      "\n"
     ]
    },
    {
     "data": {
      "text/plain": [
       "5"
      ]
     },
     "execution_count": 40,
     "metadata": {},
     "output_type": "execute_result"
    }
   ],
   "source": [
    "for i in title:\n",
    "    print(i + \"\\n\")\n",
    "\n",
    "len(title)"
   ]
  },
  {
   "cell_type": "code",
   "execution_count": 41,
   "metadata": {
    "scrolled": false
   },
   "outputs": [
    {
     "name": "stdout",
     "output_type": "stream",
     "text": [
      "AbstractEpidemiological aspects of Parkinson's disease (PD), co-occurring diseases and medical healthcare utilization of PD patients are still largely elusive. Based on claims data of 3.7 million statutory insurance members in Germany in 2015 the prevalence and incidence of PD was determined. PD cases had at least one main hospital discharge diagnosis of PD, or one physician diagnosis confirmed by a subsequent or independent diagnosis or by PD medication in 2015. Prevalence of (co-)occurring diseases, mortality, and healthcare measures in PD cases and matched controls were compared. In 2015, 21,714 prevalent PD cases (standardized prevalence: 511.4/100,000 persons) and 3,541 incident PD cases (standardized incidence: 84.1/100,000 persons) were identified. Prevalence of several (co-)occurring diseases/complications, e.g., dementia (PD/controls: 39/13%), depression (45/22%), bladder dysfunction (46/22%), and diabetes (35/31%), as well as mortality (10.7/5.8%) differed between PD cases and controls. The annual healthcare utilization was increased in PD cases compared to controls, e.g., regarding mean ± SD physician contacts (15.2 ± 7.6/12.2 ± 7.3), hospitalizations (1.3 ± 1.8/0.7 ± 1.4), drug prescriptions (overall: 37.7 ± 24.2/21.7 ± 19.6; anti-PD medication: 7.4 ± 7.4/0.1 ± 0.7), assistive/therapeutic devices (47/30%), and therapeutic remedies (57/16%). The standardized prevalence and incidence of PD in Germany as well as mortality in PD may be substantially higher than reported previously. While frequently diagnosed with co-occurring diseases/complications, such as dementia, depression, bladder dysfunction and diabetes, the degree of healthcare utilization shows large variability between PD patients. These findings encourage a rethinking of the epidemiology and healthcare utilization in PD, at least in Germany. Longitudinal studies of insurance claims data should further investigate the individual and epidemiological progression and healthcare demands in PD.\n",
      "\n",
      "\n",
      "Abstractin\n",
      "\t\t\t\tGermanSchmerzen beim idiopathischen Parkinsonsyndrom (IPS) treten bei 40 %–95 % der Patienten auf und beeinträchtigen die Lebensqualität, sind jedoch oftmals unterdiagnostiziert und werden nur unsystematisch therapiert.Schmerzätiologie und Schmerzcharakter können sehr vielfältig sein und obwohl die Optimierung der Parkinson-Medikation die Basis der Schmerzbehandlung ist, sind in den meisten Fällen zusätzliche Therapien zur suffizienten Behandlung der Schmerzen notwendig.In dieser Arbeit werden Epidemiologie und Pathophysiologie des Schmerzes beim IPS dargestellt sowie Schmerzcharakteristika beschrieben. Es wird aufgezeigt, welche Methoden der Schmerzbehandlung beim IPS genutzt werden und wie Patienten die Effektivität der Therapien beurteilen. Auf Basis der begrenzten Datenlage und eines Expertenkonsens wurden praxisrelevante Vorschläge zu Diagnostik und Therapie bei Schmerz und IPS gegeben.Diese Arbeit soll dazu beitragen, Neurologen für das Thema Schmerz beim IPS zu sensibilisieren. Aufgrund der Komplexität und Besonderheiten der neurodegenerativen Erkrankung sollten Neurologen an der interdisziplinären Schmerztherapie beim IPS beteiligt sein und ihren Patienten differenziertere Therapieoptionen bereitstellen als bisher.\n",
      "\n",
      "\n",
      "AbstractBackground and objective: Levodopa-induced dyskinesia (LID) is a movement disorder that occurs due to levodopa consumption for a long period to attenuate Parkinsonism. Plants have been the basis for medical treatments in human history and still widely practiced. Blackberry (Morus nigra) is one of the fruits rich in anthocyanin. The present study examined the effect of blackberry fruit juice on LID in 1-methyl-4-phenyl-1,2,3,6-tetrahydropyridine (MPTP)-induced Parkinson's disease in mice.Materials and methods: In this study, 42 male mice were used, which were divided into six groups equally: one control group and five groups receiving MPTP injection. After confirmation of Parkinsonism in MPTP groups, one group was preserved without treatment and four other groups were treated with levodopa (50 mg/kg ip). After the onset of LID (2 weeks), one group was kept without additional treatment and three other groups were treated with three different doses of blackberry fruit juice (5, 10, and 15 mL/kg) with levodopa orally for 7 days. Abnormal involuntary movement scale (AIMS) and cylinder behavioral test were carried out according to the schedule. The collected data were analyzed using the SPSS software with the significant level of P<0.05.Results: Parkinson's disease was confirmed with AIMS test on the fourth day after MPTP injection. The onset of LID was observed after 2 weeks of levodopa treatment using both behavioral tests. The result of administration of M. nigra fruit juice for 1 week showed that this addition is useful in hindering LID. These effects were more pronounced at doses 10 and 15 mL/kg with nearly the same results on attenuating AIMS. Low dose of the fruit juice does not seem to affect LID significantly.Conclusion: M. nigra fruit juice is effective to attenuate LID in an MPTP-induced Parkinson mice model.\n",
      "\n",
      "\n",
      "AbstractBACKGROUND: Creativity in Parkinson Disease (PD) is strongly related to dopaminergic activity and medication. We hypothesized that PD patients, including those who are in the prediagnostic phase of PD, are prone to choose highly-structured 'conventional' professional occupations and avoid highly-creative 'artistic' occupations.METHODS: At baseline of the population-based Rotterdam Study, we asked 12,147 individuals aged >45 years about their latest occupation, and categorized occupations according to the RIASEC model. Participants underwent baseline and follow-up (median 11 years) examinations for PD. We determined associations of artistic (versus any other occupation) and conventional (versus any other occupation) occupations with PD. Additionally, we pooled our results with a recently published case-control study ('Radboud Study').RESULTS: At baseline, conventional occupations were common (n=4356 [36%]), while artistic occupations were rare (n=137 [1%]). There were 217 PD patients, including 91 prevalent and 126 incident PD patients. The risk of PD varied substantially across occupational categories (chi-square=14.61; p=0.01). The penalized odds ratio (OR) of artistic occupations for PD was 0.19 (95% confidence interval [0.00;1.31]; p=0.11), while the OR of conventional occupations for PD was 1.23 ([0.95;1.66]; p=0.10). The direction and magnitude of ORs were similar in cross-sectional and longitudinal subsamples. Pooled ORs across the Rotterdam and Radboud studies were 0.20 ([0.08;0.52]; p<0.001) for artistic and 1.23 ([0.92;1.67]; p=0.08) for conventional occupations.CONCLUSIONS: The risk of PD varies substantially by choice of professional occupation. Our findings suggest that dopaminergic degeneration affects choice of occupation, which may already start in the prediagnostic phase of PD. This article is protected by copyright. All rights reserved.This article is protected by copyright. All rights reserved.\n",
      "\n",
      "\n",
      "AbstractBACKGROUND: There is increasing interest in applying palliative care approaches for patients with Parkinson's disease. Methodological studies are needed to validate palliative care outcome measures for Parkinson's disease to build this evidence base. As many patients with Parkinson's disease have cognitive and/or communication issues, proxy outcome measures may improve the inclusivity and relevance of research.AIM: To assess the validity of proxy caregiver reports for several potential palliative care outcome measures.DESIGN: A cross-sectional study of Parkinson's disease patients and caregivers completed a battery of outcome measures relevant to palliative care including the Memorial Symptom Assessment Scale, Hospital Anxiety and Depression Scale, Prolonged Grief Questionnaire 12, Parkinson Disease Questionnaire 39, Functional Assessment of Chronic Illness Therapy-Spiritual Wellbeing, and Schwab and England. Intraclass correlation coefficients were used to assess agreement.SETTING/PARTICIPANTS: A total of 50 Parkinson's disease patient and caregiver dyads recruited at an academic medical center, Veterans Affairs Medical Center, and community support groups.RESULTS: There was moderate to good agreement for Schwab and England, Parkinson Disease Questionnaire 39 total, and majority of Parkinson Disease Questionnaire 39 subscales; moderate to good agreement for the Hospital Anxiety and Depression Scale, Functional Assessment of Chronic Illness Therapy-Spiritual Wellbeing, Prolonged Grief Questionnaire 12, and Memorial Symptom Assessment Scale; and poor to moderate agreement for the Parkinson Disease Questionnaire 39 stigma, social support, and bodily pain subscales. Caregivers tended to attribute higher symptom severity than patients. We did not detect differences in intraclass correlation coefficient based on cognitive status but patients with advanced illness had significantly lower intraclass correlation coefficients for several outcomes.CONCLUSIONS: Caution is indicated when considering caregiver proxy reporting for most outcomes assessed, particularly in Parkinson's disease patients with advanced disease.\n",
      "\n",
      "\n"
     ]
    },
    {
     "data": {
      "text/plain": [
       "5"
      ]
     },
     "execution_count": 41,
     "metadata": {},
     "output_type": "execute_result"
    }
   ],
   "source": [
    "for i in abstract:\n",
    "    print(i)\n",
    "    print(\"\\n\")\n",
    "\n",
    "len(abstract)"
   ]
  },
  {
   "cell_type": "markdown",
   "metadata": {},
   "source": [
    "## Add title and abstract to article_dict"
   ]
  },
  {
   "cell_type": "code",
   "execution_count": 42,
   "metadata": {
    "scrolled": false
   },
   "outputs": [
    {
     "name": "stdout",
     "output_type": "stream",
     "text": [
      "{'title': [\"Do We Need to Rethink the Epidemiology and Healthcare Utilization of Parkinson's Disease in Germany?\", '[Parkinson Disease and Pain - diagnostic and therapeutic approaches to a challenging non-motor symptom].', \"Effects of blackberry (Morus nigra) fruit juice on levodopa-induced dyskinesia in a mice model of Parkinson's disease.\", 'Professional occupation and the risk of Parkinson Disease.', \"Assessing the validity of proxy caregiver reporting for potential palliative care outcome measures in Parkinson's disease.\"], 'abstract': [\"AbstractEpidemiological aspects of Parkinson's disease (PD), co-occurring diseases and medical healthcare utilization of PD patients are still largely elusive. Based on claims data of 3.7 million statutory insurance members in Germany in 2015 the prevalence and incidence of PD was determined. PD cases had at least one main hospital discharge diagnosis of PD, or one physician diagnosis confirmed by a subsequent or independent diagnosis or by PD medication in 2015. Prevalence of (co-)occurring diseases, mortality, and healthcare measures in PD cases and matched controls were compared. In 2015, 21,714 prevalent PD cases (standardized prevalence: 511.4/100,000 persons) and 3,541 incident PD cases (standardized incidence: 84.1/100,000 persons) were identified. Prevalence of several (co-)occurring diseases/complications, e.g., dementia (PD/controls: 39/13%), depression (45/22%), bladder dysfunction (46/22%), and diabetes (35/31%), as well as mortality (10.7/5.8%) differed between PD cases and controls. The annual healthcare utilization was increased in PD cases compared to controls, e.g., regarding mean ± SD physician contacts (15.2 ± 7.6/12.2 ± 7.3), hospitalizations (1.3 ± 1.8/0.7 ± 1.4), drug prescriptions (overall: 37.7 ± 24.2/21.7 ± 19.6; anti-PD medication: 7.4 ± 7.4/0.1 ± 0.7), assistive/therapeutic devices (47/30%), and therapeutic remedies (57/16%). The standardized prevalence and incidence of PD in Germany as well as mortality in PD may be substantially higher than reported previously. While frequently diagnosed with co-occurring diseases/complications, such as dementia, depression, bladder dysfunction and diabetes, the degree of healthcare utilization shows large variability between PD patients. These findings encourage a rethinking of the epidemiology and healthcare utilization in PD, at least in Germany. Longitudinal studies of insurance claims data should further investigate the individual and epidemiological progression and healthcare demands in PD.\", 'Abstractin\\n\\t\\t\\t\\tGermanSchmerzen beim idiopathischen Parkinsonsyndrom (IPS) treten bei 40\\u200a%–95\\u200a% der Patienten auf und beeinträchtigen die Lebensqualität, sind jedoch oftmals unterdiagnostiziert und werden nur unsystematisch therapiert.Schmerzätiologie und Schmerzcharakter können sehr vielfältig sein und obwohl die Optimierung der Parkinson-Medikation die Basis der Schmerzbehandlung ist, sind in den meisten Fällen zusätzliche Therapien zur suffizienten Behandlung der Schmerzen notwendig.In dieser Arbeit werden Epidemiologie und Pathophysiologie des Schmerzes beim IPS dargestellt sowie Schmerzcharakteristika beschrieben. Es wird aufgezeigt, welche Methoden der Schmerzbehandlung beim IPS genutzt werden und wie Patienten die Effektivität der Therapien beurteilen. Auf Basis der begrenzten Datenlage und eines Expertenkonsens wurden praxisrelevante Vorschläge zu Diagnostik und Therapie bei Schmerz und IPS gegeben.Diese Arbeit soll dazu beitragen, Neurologen für das Thema Schmerz beim IPS zu sensibilisieren. Aufgrund der Komplexität und Besonderheiten der neurodegenerativen Erkrankung sollten Neurologen an der interdisziplinären Schmerztherapie beim IPS beteiligt sein und ihren Patienten differenziertere Therapieoptionen bereitstellen als bisher.', \"AbstractBackground and objective: Levodopa-induced dyskinesia (LID) is a movement disorder that occurs due to levodopa consumption for a long period to attenuate Parkinsonism. Plants have been the basis for medical treatments in human history and still widely practiced. Blackberry (Morus nigra) is one of the fruits rich in anthocyanin. The present study examined the effect of blackberry fruit juice on LID in 1-methyl-4-phenyl-1,2,3,6-tetrahydropyridine (MPTP)-induced Parkinson's disease in mice.Materials and methods: In this study, 42 male mice were used, which were divided into six groups equally: one control group and five groups receiving MPTP injection. After confirmation of Parkinsonism in MPTP groups, one group was preserved without treatment and four other groups were treated with levodopa (50 mg/kg ip). After the onset of LID (2 weeks), one group was kept without additional treatment and three other groups were treated with three different doses of blackberry fruit juice (5, 10, and 15 mL/kg) with levodopa orally for 7 days. Abnormal involuntary movement scale (AIMS) and cylinder behavioral test were carried out according to the schedule. The collected data were analyzed using the SPSS software with the significant level of P<0.05.Results: Parkinson's disease was confirmed with AIMS test on the fourth day after MPTP injection. The onset of LID was observed after 2 weeks of levodopa treatment using both behavioral tests. The result of administration of M. nigra fruit juice for 1 week showed that this addition is useful in hindering LID. These effects were more pronounced at doses 10 and 15 mL/kg with nearly the same results on attenuating AIMS. Low dose of the fruit juice does not seem to affect LID significantly.Conclusion: M. nigra fruit juice is effective to attenuate LID in an MPTP-induced Parkinson mice model.\", \"AbstractBACKGROUND: Creativity in Parkinson Disease (PD) is strongly related to dopaminergic activity and medication. We hypothesized that PD patients, including those who are in the prediagnostic phase of PD, are prone to choose highly-structured 'conventional' professional occupations and avoid highly-creative 'artistic' occupations.METHODS: At baseline of the population-based Rotterdam Study, we asked 12,147 individuals aged >45 years about their latest occupation, and categorized occupations according to the RIASEC model. Participants underwent baseline and follow-up (median 11 years) examinations for PD. We determined associations of artistic (versus any other occupation) and conventional (versus any other occupation) occupations with PD. Additionally, we pooled our results with a recently published case-control study ('Radboud Study').RESULTS: At baseline, conventional occupations were common (n=4356 [36%]), while artistic occupations were rare (n=137 [1%]). There were 217 PD patients, including 91 prevalent and 126 incident PD patients. The risk of PD varied substantially across occupational categories (chi-square=14.61; p=0.01). The penalized odds ratio (OR) of artistic occupations for PD was 0.19 (95% confidence interval [0.00;1.31]; p=0.11), while the OR of conventional occupations for PD was 1.23 ([0.95;1.66]; p=0.10). The direction and magnitude of ORs were similar in cross-sectional and longitudinal subsamples. Pooled ORs across the Rotterdam and Radboud studies were 0.20 ([0.08;0.52]; p<0.001) for artistic and 1.23 ([0.92;1.67]; p=0.08) for conventional occupations.CONCLUSIONS: The risk of PD varies substantially by choice of professional occupation. Our findings suggest that dopaminergic degeneration affects choice of occupation, which may already start in the prediagnostic phase of PD. This article is protected by copyright. All rights reserved.This article is protected by copyright. All rights reserved.\", \"AbstractBACKGROUND: There is increasing interest in applying palliative care approaches for patients with Parkinson's disease. Methodological studies are needed to validate palliative care outcome measures for Parkinson's disease to build this evidence base. As many patients with Parkinson's disease have cognitive and/or communication issues, proxy outcome measures may improve the inclusivity and relevance of research.AIM: To assess the validity of proxy caregiver reports for several potential palliative care outcome measures.DESIGN: A cross-sectional study of Parkinson's disease patients and caregivers completed a battery of outcome measures relevant to palliative care including the Memorial Symptom Assessment Scale, Hospital Anxiety and Depression Scale, Prolonged Grief Questionnaire 12, Parkinson Disease Questionnaire 39, Functional Assessment of Chronic Illness Therapy-Spiritual Wellbeing, and Schwab and England. Intraclass correlation coefficients were used to assess agreement.SETTING/PARTICIPANTS: A total of 50 Parkinson's disease patient and caregiver dyads recruited at an academic medical center, Veterans Affairs Medical Center, and community support groups.RESULTS: There was moderate to good agreement for Schwab and England, Parkinson Disease Questionnaire 39 total, and majority of Parkinson Disease Questionnaire 39 subscales; moderate to good agreement for the Hospital Anxiety and Depression Scale, Functional Assessment of Chronic Illness Therapy-Spiritual Wellbeing, Prolonged Grief Questionnaire 12, and Memorial Symptom Assessment Scale; and poor to moderate agreement for the Parkinson Disease Questionnaire 39 stigma, social support, and bodily pain subscales. Caregivers tended to attribute higher symptom severity than patients. We did not detect differences in intraclass correlation coefficient based on cognitive status but patients with advanced illness had significantly lower intraclass correlation coefficients for several outcomes.CONCLUSIONS: Caution is indicated when considering caregiver proxy reporting for most outcomes assessed, particularly in Parkinson's disease patients with advanced disease.\"]}\n"
     ]
    }
   ],
   "source": [
    "#article_dict[\"title\"].append(title)\n",
    "#article_dict[\"abstract\"].append(abstract)\n",
    "print(article_dict)"
   ]
  },
  {
   "cell_type": "markdown",
   "metadata": {},
   "source": [
    "## Save article_dict to json"
   ]
  },
  {
   "cell_type": "code",
   "execution_count": 43,
   "metadata": {
    "collapsed": true
   },
   "outputs": [],
   "source": [
    "import json"
   ]
  },
  {
   "cell_type": "code",
   "execution_count": 44,
   "metadata": {},
   "outputs": [
    {
     "data": {
      "text/plain": [
       "9899"
      ]
     },
     "execution_count": 44,
     "metadata": {},
     "output_type": "execute_result"
    }
   ],
   "source": [
    "json = json.dumps(article_dict)\n",
    "f = open(\"parkinsons.json\",\"w\")\n",
    "f.write(json)\n",
    "f.close()"
   ]
  },
  {
   "cell_type": "code",
   "execution_count": 45,
   "metadata": {
    "collapsed": true
   },
   "outputs": [],
   "source": [
    "# read in parkinsons json into a dataframe\n",
    "df2 = pd.read_json('parkinsons.json')"
   ]
  },
  {
   "cell_type": "code",
   "execution_count": 47,
   "metadata": {},
   "outputs": [],
   "source": [
    "# import json to sqlite\n",
    "df2.to_sql(con=engine, index_label='id', name=Articles.__tablename__, if_exists='append')"
   ]
  },
  {
   "cell_type": "code",
   "execution_count": null,
   "metadata": {
    "collapsed": true
   },
   "outputs": [],
   "source": []
  }
 ],
 "metadata": {
  "kernelspec": {
   "display_name": "Python 3",
   "language": "python",
   "name": "python3"
  },
  "language_info": {
   "codemirror_mode": {
    "name": "ipython",
    "version": 3
   },
   "file_extension": ".py",
   "mimetype": "text/x-python",
   "name": "python",
   "nbconvert_exporter": "python",
   "pygments_lexer": "ipython3",
   "version": "3.6.3"
  }
 },
 "nbformat": 4,
 "nbformat_minor": 2
}
