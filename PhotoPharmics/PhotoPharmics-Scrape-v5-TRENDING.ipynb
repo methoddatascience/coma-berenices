{
 "cells": [
  {
   "cell_type": "markdown",
   "metadata": {},
   "source": [
    "## Pub Med Scraper"
   ]
  },
  {
   "cell_type": "code",
   "execution_count": 1,
   "metadata": {
    "collapsed": true
   },
   "outputs": [],
   "source": [
    "# scrape dependencies\n",
    "import requests\n",
    "import re\n",
    "from bs4 import BeautifulSoup as bs\n",
    "\n",
    "# data analysis dependencies\n",
    "import pandas as pd\n",
    "import numpy as np\n",
    "import csv\n",
    "\n",
    "# ipynb dependencies\n",
    "from IPython.core.interactiveshell import InteractiveShell\n",
    "InteractiveShell.ast_node_interactivity = \"all\"\n",
    "import warnings\n",
    "warnings.filterwarnings('ignore')\n",
    "\n",
    "# viz dependencies\n",
    "%matplotlib inline\n",
    "import matplotlib.pyplot as plt\n",
    "import seaborn as sns\n",
    "plt.style.use('fivethirtyeight')\n",
    "\n",
    "import datetime as dt\n",
    "import time"
   ]
  },
  {
   "cell_type": "code",
   "execution_count": 3,
   "metadata": {},
   "outputs": [
    {
     "name": "stdout",
     "output_type": "stream",
     "text": [
      "https://www.ncbi.nlm.nih.gov/pubmed/trending/\n"
     ]
    }
   ],
   "source": [
    "# set the url to scrape\n",
    "url = 'https://www.ncbi.nlm.nih.gov/pubmed/trending/'\n",
    "print(url)"
   ]
  },
  {
   "cell_type": "code",
   "execution_count": 4,
   "metadata": {
    "collapsed": true
   },
   "outputs": [],
   "source": [
    "# set up beautiful soup to scrape\n",
    "response = requests.get(url)\n",
    "soup = bs(response.text, 'html.parser')"
   ]
  },
  {
   "cell_type": "code",
   "execution_count": 5,
   "metadata": {
    "collapsed": true
   },
   "outputs": [],
   "source": [
    "# lets scrape the article titles\n",
    "journals = soup.find_all(\"p\", attrs={'class':'title'})"
   ]
  },
  {
   "cell_type": "code",
   "execution_count": 6,
   "metadata": {},
   "outputs": [
    {
     "name": "stdout",
     "output_type": "stream",
     "text": [
      "There are 20 journals to scrape on the first page.\n"
     ]
    }
   ],
   "source": [
    "# searching for the journal titles\n",
    "journals_len = len(journals)\n",
    "print(f\"There are {journals_len} journals to scrape on the first page.\")"
   ]
  },
  {
   "cell_type": "code",
   "execution_count": 7,
   "metadata": {},
   "outputs": [
    {
     "data": {
      "text/plain": [
       "'Author Correction: What models eat.'"
      ]
     },
     "execution_count": 7,
     "metadata": {},
     "output_type": "execute_result"
    },
    {
     "data": {
      "text/plain": [
       "'Physical and Mental Effects of Bathing: A Randomized Intervention Study.'"
      ]
     },
     "execution_count": 7,
     "metadata": {},
     "output_type": "execute_result"
    },
    {
     "data": {
      "text/plain": [
       "'Günter Blobel (1936–2018)'"
      ]
     },
     "execution_count": 7,
     "metadata": {},
     "output_type": "execute_result"
    },
    {
     "data": {
      "text/plain": [
       "'Enhancing T cell therapy through TCR-signaling-responsive nanoparticle drug delivery.'"
      ]
     },
     "execution_count": 7,
     "metadata": {},
     "output_type": "execute_result"
    },
    {
     "data": {
      "text/plain": [
       "'Cancer-associated thrombosis in patients with implanted ports: a prospective multicenter French cohort study (ONCOCIP).'"
      ]
     },
     "execution_count": 7,
     "metadata": {},
     "output_type": "execute_result"
    },
    {
     "data": {
      "text/plain": [
       "'Long-acting Reversible Contraception-Highly Efficacious, Safe, and Underutilized.'"
      ]
     },
     "execution_count": 7,
     "metadata": {},
     "output_type": "execute_result"
    },
    {
     "data": {
      "text/plain": [
       "'Chimeric Antigen Receptor Therapy.'"
      ]
     },
     "execution_count": 7,
     "metadata": {},
     "output_type": "execute_result"
    },
    {
     "data": {
      "text/plain": [
       "'The Link between the Appendix and Ulcerative Colitis: Clinical Relevance and Potential Immunological Mechanisms.'"
      ]
     },
     "execution_count": 7,
     "metadata": {},
     "output_type": "execute_result"
    },
    {
     "data": {
      "text/plain": [
       "'Ketorolac for postoperative pain in children.'"
      ]
     },
     "execution_count": 7,
     "metadata": {},
     "output_type": "execute_result"
    },
    {
     "data": {
      "text/plain": [
       "'Human pluripotent reprogramming with CRISPR activators.'"
      ]
     },
     "execution_count": 7,
     "metadata": {},
     "output_type": "execute_result"
    },
    {
     "data": {
      "text/plain": [
       "'Validation of Plasma Biomarker Candidates for the Prediction of eGFR Decline in Patients With Type 2 Diabetes.'"
      ]
     },
     "execution_count": 7,
     "metadata": {},
     "output_type": "execute_result"
    },
    {
     "data": {
      "text/plain": [
       "'Optimized base editors enable efficient editing in cells, organoids and mice.'"
      ]
     },
     "execution_count": 7,
     "metadata": {},
     "output_type": "execute_result"
    },
    {
     "data": {
      "text/plain": [
       "'Author Correction: Reduced mutation rate in exons due to differential mismatch repair.'"
      ]
     },
     "execution_count": 7,
     "metadata": {},
     "output_type": "execute_result"
    },
    {
     "data": {
      "text/plain": [
       "'Species-specific activity of antibacterial drug combinations.'"
      ]
     },
     "execution_count": 7,
     "metadata": {},
     "output_type": "execute_result"
    },
    {
     "data": {
      "text/plain": [
       "'Heavily and fully modified RNAs guide efficient SpyCas9-mediated genome editing.'"
      ]
     },
     "execution_count": 7,
     "metadata": {},
     "output_type": "execute_result"
    },
    {
     "data": {
      "text/plain": [
       "'CRISPR screens identify genomic ribonucleotides as a source of PARP-trapping lesions.'"
      ]
     },
     "execution_count": 7,
     "metadata": {},
     "output_type": "execute_result"
    },
    {
     "data": {
      "text/plain": [
       "'Patisiran, an RNAi Therapeutic, for Hereditary Transthyretin Amyloidosis.'"
      ]
     },
     "execution_count": 7,
     "metadata": {},
     "output_type": "execute_result"
    },
    {
     "data": {
      "text/plain": [
       "'DNA-induced liquid phase condensation of cGAS activates innate immune signaling.'"
      ]
     },
     "execution_count": 7,
     "metadata": {},
     "output_type": "execute_result"
    },
    {
     "data": {
      "text/plain": [
       "'A novel chemical compound SINCRO with dual function in the STING-type I interferon and tumor cell death pathways.'"
      ]
     },
     "execution_count": 7,
     "metadata": {},
     "output_type": "execute_result"
    },
    {
     "data": {
      "text/plain": [
       "'Publisher Correction: A naturally occurring antiviral ribonucleotide encoded by the human genome.'"
      ]
     },
     "execution_count": 7,
     "metadata": {},
     "output_type": "execute_result"
    }
   ],
   "source": [
    "# loop through journals to print titles\n",
    "for i in range(journals_len):\n",
    "    journals[i].text.strip()"
   ]
  },
  {
   "cell_type": "markdown",
   "metadata": {},
   "source": [
    "## Set main url to concat with pubmed ids"
   ]
  },
  {
   "cell_type": "code",
   "execution_count": 8,
   "metadata": {
    "scrolled": false
   },
   "outputs": [
    {
     "name": "stdout",
     "output_type": "stream",
     "text": [
      "https://www.ncbi.nlm.nih.gov/pubmed/\n"
     ]
    }
   ],
   "source": [
    "# set the main url that we will concatanate with the pubmed id\n",
    "main_url = 'https://www.ncbi.nlm.nih.gov/pubmed/'\n",
    "print(main_url)"
   ]
  },
  {
   "cell_type": "markdown",
   "metadata": {},
   "source": [
    "<br>\n",
    "<br>\n",
    "# TESTING SECTION ------------------------------------------------------------------"
   ]
  },
  {
   "cell_type": "code",
   "execution_count": 9,
   "metadata": {
    "collapsed": true
   },
   "outputs": [],
   "source": [
    "# set empty links_all list to append to \n",
    "links_all = []\n",
    "\n",
    "# set pubmed ids list to append to\n",
    "pubmed_ids = []\n",
    "\n",
    "# set empty list to append scrape_links to\n",
    "scrape_links = []"
   ]
  },
  {
   "cell_type": "code",
   "execution_count": 10,
   "metadata": {},
   "outputs": [
    {
     "name": "stdout",
     "output_type": "stream",
     "text": [
      "<p class=\"title\" xmlns:mml=\"http://www.w3.org/1998/Math/MathML\"><a href=\"/pubmed/29985486\" ref=\"ordinalpos=1&amp;ncbi_uid=29985486&amp;link_uid=29985486&amp;linksrc=docsum_title\">Author Correction: What models eat.</a></p>\n"
     ]
    }
   ],
   "source": [
    "# use bs to scarpe p tags with class - title\n",
    "links = soup.find_all(\"p\",attrs={'class':'title'})\n",
    "print(links[0])"
   ]
  },
  {
   "cell_type": "code",
   "execution_count": 11,
   "metadata": {},
   "outputs": [
    {
     "name": "stdout",
     "output_type": "stream",
     "text": [
      "There are 20 articles to scrape.\n",
      "----------------------------------------------\n"
     ]
    }
   ],
   "source": [
    "# testing to see how my links / journals to scrape\n",
    "articles_to_scrape = len(links)\n",
    "print(f\"There are {articles_to_scrape} articles to scrape.\")\n",
    "print(\"----------------------------------------------\")"
   ]
  },
  {
   "cell_type": "code",
   "execution_count": 12,
   "metadata": {},
   "outputs": [
    {
     "name": "stdout",
     "output_type": "stream",
     "text": [
      "<p class=\"title\" xmlns:mml=\"http://www.w3.org/1998/Math/MathML\"><a href=\"/pubmed/29985486\" ref=\"ordinalpos=1&amp;ncbi_uid=29985486&amp;link_uid=29985486&amp;linksrc=docsum_title\">Author Correction: What models eat.</a></p>\n",
      "----------------------------------------------\n",
      "<p class=\"title\" xmlns:mml=\"http://www.w3.org/1998/Math/MathML\"><a href=\"/pubmed/29977318\" ref=\"ordinalpos=2&amp;ncbi_uid=29977318&amp;link_uid=29977318&amp;linksrc=docsum_title\">Physical and Mental Effects of Bathing: A Randomized Intervention Study.</a></p>\n",
      "----------------------------------------------\n",
      "<p class=\"title\" xmlns:mml=\"http://www.w3.org/1998/Math/MathML\"><a href=\"/pubmed/29975496\" ref=\"ordinalpos=3&amp;ncbi_uid=29975496&amp;link_uid=29975496&amp;linksrc=docsum_title\">Günter Blobel (1936–2018)</a></p>\n",
      "----------------------------------------------\n",
      "<p class=\"title\" xmlns:mml=\"http://www.w3.org/1998/Math/MathML\"><a href=\"/pubmed/29985479\" ref=\"ordinalpos=4&amp;ncbi_uid=29985479&amp;link_uid=29985479&amp;linksrc=docsum_title\">Enhancing T cell therapy through TCR-signaling-responsive nanoparticle drug delivery.</a></p>\n",
      "----------------------------------------------\n",
      "<p class=\"title\" xmlns:mml=\"http://www.w3.org/1998/Math/MathML\"><a href=\"/pubmed/29980524\" ref=\"ordinalpos=5&amp;ncbi_uid=29980524&amp;link_uid=29980524&amp;linksrc=docsum_title\">Cancer-associated thrombosis in patients with implanted ports: a prospective multicenter French cohort study (ONCOCIP).</a></p>\n",
      "----------------------------------------------\n",
      "<p class=\"title\" xmlns:mml=\"http://www.w3.org/1998/Math/MathML\"><a href=\"/pubmed/29984374\" ref=\"ordinalpos=6&amp;ncbi_uid=29984374&amp;link_uid=29984374&amp;linksrc=docsum_title\">Long-acting Reversible Contraception-Highly Efficacious, Safe, and Underutilized.</a></p>\n",
      "----------------------------------------------\n",
      "<p class=\"title\" xmlns:mml=\"http://www.w3.org/1998/Math/MathML\"><a href=\"/pubmed/29972754\" ref=\"ordinalpos=7&amp;ncbi_uid=29972754&amp;link_uid=29972754&amp;linksrc=docsum_title\">Chimeric Antigen Receptor Therapy.</a></p>\n",
      "----------------------------------------------\n",
      "<p class=\"title\" xmlns:mml=\"http://www.w3.org/1998/Math/MathML\"><a href=\"/pubmed/26416189\" ref=\"ordinalpos=8&amp;ncbi_uid=26416189&amp;link_uid=26416189&amp;linksrc=docsum_title\">The Link between the Appendix and Ulcerative Colitis: Clinical Relevance and Potential Immunological Mechanisms.</a></p>\n",
      "----------------------------------------------\n",
      "<p class=\"title\" xmlns:mml=\"http://www.w3.org/1998/Math/MathML\"><a href=\"/pubmed/29981164\" ref=\"ordinalpos=9&amp;ncbi_uid=29981164&amp;link_uid=29981164&amp;linksrc=docsum_title\">Ketorolac for postoperative pain in children.</a></p>\n",
      "----------------------------------------------\n",
      "<p class=\"title\" xmlns:mml=\"http://www.w3.org/1998/Math/MathML\"><a href=\"/pubmed/29980666\" ref=\"ordinalpos=10&amp;ncbi_uid=29980666&amp;link_uid=29980666&amp;linksrc=docsum_title\">Human pluripotent reprogramming with CRISPR activators.</a></p>\n",
      "----------------------------------------------\n",
      "<p class=\"title\" xmlns:mml=\"http://www.w3.org/1998/Math/MathML\"><a href=\"/pubmed/29980527\" ref=\"ordinalpos=11&amp;ncbi_uid=29980527&amp;link_uid=29980527&amp;linksrc=docsum_title\">Validation of Plasma Biomarker Candidates for the Prediction of eGFR Decline in Patients With Type 2 Diabetes.</a></p>\n",
      "----------------------------------------------\n",
      "<p class=\"title\" xmlns:mml=\"http://www.w3.org/1998/Math/MathML\"><a href=\"/pubmed/29969439\" ref=\"ordinalpos=12&amp;ncbi_uid=29969439&amp;link_uid=29969439&amp;linksrc=docsum_title\">Optimized base editors enable efficient editing in cells, organoids and mice.</a></p>\n",
      "----------------------------------------------\n",
      "<p class=\"title\" xmlns:mml=\"http://www.w3.org/1998/Math/MathML\"><a href=\"/pubmed/29973711\" ref=\"ordinalpos=13&amp;ncbi_uid=29973711&amp;link_uid=29973711&amp;linksrc=docsum_title\">Author Correction: Reduced mutation rate in exons due to differential mismatch repair.</a></p>\n",
      "----------------------------------------------\n",
      "<p class=\"title\" xmlns:mml=\"http://www.w3.org/1998/Math/MathML\"><a href=\"/pubmed/29973719\" ref=\"ordinalpos=14&amp;ncbi_uid=29973719&amp;link_uid=29973719&amp;linksrc=docsum_title\">Species-specific activity of antibacterial drug combinations.</a></p>\n",
      "----------------------------------------------\n",
      "<p class=\"title\" xmlns:mml=\"http://www.w3.org/1998/Math/MathML\"><a href=\"/pubmed/29980686\" ref=\"ordinalpos=15&amp;ncbi_uid=29980686&amp;link_uid=29980686&amp;linksrc=docsum_title\">Heavily and fully modified RNAs guide efficient SpyCas9-mediated genome editing.</a></p>\n",
      "----------------------------------------------\n",
      "<p class=\"title\" xmlns:mml=\"http://www.w3.org/1998/Math/MathML\"><a href=\"/pubmed/29973717\" ref=\"ordinalpos=16&amp;ncbi_uid=29973717&amp;link_uid=29973717&amp;linksrc=docsum_title\">CRISPR screens identify genomic ribonucleotides as a source of PARP-trapping lesions.</a></p>\n",
      "----------------------------------------------\n",
      "<p class=\"title\" xmlns:mml=\"http://www.w3.org/1998/Math/MathML\"><a href=\"/pubmed/29972753\" ref=\"ordinalpos=17&amp;ncbi_uid=29972753&amp;link_uid=29972753&amp;linksrc=docsum_title\">Patisiran, an RNAi Therapeutic, for Hereditary Transthyretin Amyloidosis.</a></p>\n",
      "----------------------------------------------\n",
      "<p class=\"title\" xmlns:mml=\"http://www.w3.org/1998/Math/MathML\"><a href=\"/pubmed/29976794\" ref=\"ordinalpos=18&amp;ncbi_uid=29976794&amp;link_uid=29976794&amp;linksrc=docsum_title\">DNA-induced liquid phase condensation of cGAS activates innate immune signaling.</a></p>\n",
      "----------------------------------------------\n",
      "<p class=\"title\" xmlns:mml=\"http://www.w3.org/1998/Math/MathML\"><a href=\"/pubmed/29981256\" ref=\"ordinalpos=19&amp;ncbi_uid=29981256&amp;link_uid=29981256&amp;linksrc=docsum_title\">A novel chemical compound SINCRO with dual function in the STING-type I interferon and tumor cell death pathways.</a></p>\n",
      "----------------------------------------------\n",
      "<p class=\"title\" xmlns:mml=\"http://www.w3.org/1998/Math/MathML\"><a href=\"/pubmed/29980769\" ref=\"ordinalpos=20&amp;ncbi_uid=29980769&amp;link_uid=29980769&amp;linksrc=docsum_title\">Publisher Correction: A naturally occurring antiviral ribonucleotide encoded by the human genome.</a></p>\n",
      "----------------------------------------------\n"
     ]
    }
   ],
   "source": [
    "# loop through links to convert to string\n",
    "for i in range (len(links)):\n",
    "    links_all.append(str(links[i]))\n",
    "    print(links[i])\n",
    "    print(\"----------------------------------------------\")"
   ]
  },
  {
   "cell_type": "code",
   "execution_count": null,
   "metadata": {
    "collapsed": true
   },
   "outputs": [],
   "source": [
    "# for i in links_all:\n",
    "#     print(i)\n",
    "#     print(\"----------------------------------------------\")"
   ]
  },
  {
   "cell_type": "code",
   "execution_count": 13,
   "metadata": {},
   "outputs": [
    {
     "data": {
      "text/plain": [
       "20"
      ]
     },
     "execution_count": 13,
     "metadata": {},
     "output_type": "execute_result"
    },
    {
     "data": {
      "text/plain": [
       "'<p class=\"title\" xmlns:mml=\"http://www.w3.org/1998/Math/MathML\"><a href=\"/pubmed/29985486\" ref=\"ordinalpos=1&amp;ncbi_uid=29985486&amp;link_uid=29985486&amp;linksrc=docsum_title\">Author Correction: What models eat.</a></p>'"
      ]
     },
     "execution_count": 13,
     "metadata": {},
     "output_type": "execute_result"
    }
   ],
   "source": [
    "# slice through links_all to test\n",
    "len(links_all)\n",
    "links_all[0]"
   ]
  },
  {
   "cell_type": "markdown",
   "metadata": {},
   "source": [
    "### Regex test"
   ]
  },
  {
   "cell_type": "code",
   "execution_count": 14,
   "metadata": {
    "collapsed": true
   },
   "outputs": [],
   "source": [
    "regex_test = '<p class=\"title\" xmlns:mml=\"http://www.w3.org/1998/Math/MathML\"><a href=\"/pubmed/29985486\" ref=\"ordinalpos=1&amp;ncbi_uid=29985486&amp;link_uid=29985486&amp;linksrc=docsum_title\">Author Correction: What models eat.</a></p>'"
   ]
  },
  {
   "cell_type": "code",
   "execution_count": 15,
   "metadata": {},
   "outputs": [
    {
     "name": "stdout",
     "output_type": "stream",
     "text": [
      "<p class=\"title\" xmlns:mml=\"http://www.w3.org/1998/Math/MathML\"><a href=\"/pubmed/29985486\" ref=\"ordinalpos=1&amp;ncbi_uid=29985486&amp;link_uid=29985486&amp;linksrc=docsum_title\">Author Correction: What models eat.</a></p>\n"
     ]
    }
   ],
   "source": [
    "print(regex_test)"
   ]
  },
  {
   "cell_type": "code",
   "execution_count": 16,
   "metadata": {},
   "outputs": [
    {
     "data": {
      "text/plain": [
       "['29985486', '29985486', '29985486']"
      ]
     },
     "execution_count": 16,
     "metadata": {},
     "output_type": "execute_result"
    }
   ],
   "source": [
    "re.findall(r'\\d{8}',regex_test)"
   ]
  },
  {
   "cell_type": "markdown",
   "metadata": {},
   "source": [
    "### End Regex Test"
   ]
  },
  {
   "cell_type": "code",
   "execution_count": 17,
   "metadata": {
    "collapsed": true
   },
   "outputs": [],
   "source": [
    "# loop through links all and use regex to grab the id numbers\n",
    "for i in range (len(links_all)):\n",
    "    pubmed_ids.append(re.findall(r'\\d{8}',links_all[i]))"
   ]
  },
  {
   "cell_type": "code",
   "execution_count": 18,
   "metadata": {},
   "outputs": [
    {
     "data": {
      "text/plain": [
       "20"
      ]
     },
     "execution_count": 18,
     "metadata": {},
     "output_type": "execute_result"
    },
    {
     "data": {
      "text/plain": [
       "list"
      ]
     },
     "execution_count": 18,
     "metadata": {},
     "output_type": "execute_result"
    },
    {
     "name": "stdout",
     "output_type": "stream",
     "text": [
      "[['29985486', '29985486', '29985486'], ['29977318', '29977318', '29977318'], ['29975496', '29975496', '29975496'], ['29985479', '29985479', '29985479'], ['29980524', '29980524', '29980524'], ['29984374', '29984374', '29984374'], ['29972754', '29972754', '29972754'], ['26416189', '26416189', '26416189'], ['29981164', '29981164', '29981164'], ['29980666', '29980666', '29980666'], ['29980527', '29980527', '29980527'], ['29969439', '29969439', '29969439'], ['29973711', '29973711', '29973711'], ['29973719', '29973719', '29973719'], ['29980686', '29980686', '29980686'], ['29973717', '29973717', '29973717'], ['29972753', '29972753', '29972753'], ['29976794', '29976794', '29976794'], ['29981256', '29981256', '29981256'], ['29980769', '29980769', '29980769']]\n",
      "----------------------------------------------\n"
     ]
    }
   ],
   "source": [
    "# print out info for pubmed_ids\n",
    "len(pubmed_ids)\n",
    "type(pubmed_ids)\n",
    "print(pubmed_ids)\n",
    "print(\"----------------------------------------------\")"
   ]
  },
  {
   "cell_type": "code",
   "execution_count": 19,
   "metadata": {
    "collapsed": true
   },
   "outputs": [],
   "source": [
    "# use itertools to transform pubmed ids from an array withn an array into one list\n",
    "import itertools\n",
    "pubmed_merged = list(itertools.chain.from_iterable(pubmed_ids))"
   ]
  },
  {
   "cell_type": "code",
   "execution_count": 20,
   "metadata": {},
   "outputs": [
    {
     "data": {
      "text/plain": [
       "'29985486'"
      ]
     },
     "execution_count": 20,
     "metadata": {},
     "output_type": "execute_result"
    },
    {
     "name": "stdout",
     "output_type": "stream",
     "text": [
      "['29985486', '29985486', '29985486', '29977318', '29977318', '29977318', '29975496', '29975496', '29975496', '29985479', '29985479', '29985479', '29980524', '29980524', '29980524', '29984374', '29984374', '29984374', '29972754', '29972754', '29972754', '26416189', '26416189', '26416189', '29981164', '29981164', '29981164', '29980666', '29980666', '29980666', '29980527', '29980527', '29980527', '29969439', '29969439', '29969439', '29973711', '29973711', '29973711', '29973719', '29973719', '29973719', '29980686', '29980686', '29980686', '29973717', '29973717', '29973717', '29972753', '29972753', '29972753', '29976794', '29976794', '29976794', '29981256', '29981256', '29981256', '29980769', '29980769', '29980769']\n"
     ]
    }
   ],
   "source": [
    "# slice through pubmed_merged to see what itertools did\n",
    "pubmed_merged[0]\n",
    "print(pubmed_merged)"
   ]
  },
  {
   "cell_type": "code",
   "execution_count": 21,
   "metadata": {},
   "outputs": [
    {
     "name": "stdout",
     "output_type": "stream",
     "text": [
      "https://www.ncbi.nlm.nih.gov/pubmed/29985486\n"
     ]
    }
   ],
   "source": [
    "# concat main_url with a slice of pubmed_merged before we loop\n",
    "print(main_url + str(pubmed_merged[0]))"
   ]
  },
  {
   "cell_type": "code",
   "execution_count": 22,
   "metadata": {
    "collapsed": true
   },
   "outputs": [],
   "source": [
    "# append merged links to links_all\n",
    "for i in range (len(pubmed_merged)):\n",
    "    scrape_links.append(main_url + str(pubmed_merged[i]))"
   ]
  },
  {
   "cell_type": "code",
   "execution_count": 23,
   "metadata": {},
   "outputs": [
    {
     "name": "stdout",
     "output_type": "stream",
     "text": [
      "https://www.ncbi.nlm.nih.gov/pubmed/29985486\n",
      "https://www.ncbi.nlm.nih.gov/pubmed/29985486\n",
      "https://www.ncbi.nlm.nih.gov/pubmed/29985486\n",
      "https://www.ncbi.nlm.nih.gov/pubmed/29977318\n",
      "https://www.ncbi.nlm.nih.gov/pubmed/29977318\n",
      "https://www.ncbi.nlm.nih.gov/pubmed/29977318\n",
      "https://www.ncbi.nlm.nih.gov/pubmed/29975496\n",
      "https://www.ncbi.nlm.nih.gov/pubmed/29975496\n",
      "https://www.ncbi.nlm.nih.gov/pubmed/29975496\n",
      "https://www.ncbi.nlm.nih.gov/pubmed/29985479\n",
      "https://www.ncbi.nlm.nih.gov/pubmed/29985479\n",
      "https://www.ncbi.nlm.nih.gov/pubmed/29985479\n",
      "https://www.ncbi.nlm.nih.gov/pubmed/29980524\n",
      "https://www.ncbi.nlm.nih.gov/pubmed/29980524\n",
      "https://www.ncbi.nlm.nih.gov/pubmed/29980524\n",
      "https://www.ncbi.nlm.nih.gov/pubmed/29984374\n",
      "https://www.ncbi.nlm.nih.gov/pubmed/29984374\n",
      "https://www.ncbi.nlm.nih.gov/pubmed/29984374\n",
      "https://www.ncbi.nlm.nih.gov/pubmed/29972754\n",
      "https://www.ncbi.nlm.nih.gov/pubmed/29972754\n",
      "https://www.ncbi.nlm.nih.gov/pubmed/29972754\n",
      "https://www.ncbi.nlm.nih.gov/pubmed/26416189\n",
      "https://www.ncbi.nlm.nih.gov/pubmed/26416189\n",
      "https://www.ncbi.nlm.nih.gov/pubmed/26416189\n",
      "https://www.ncbi.nlm.nih.gov/pubmed/29981164\n",
      "https://www.ncbi.nlm.nih.gov/pubmed/29981164\n",
      "https://www.ncbi.nlm.nih.gov/pubmed/29981164\n",
      "https://www.ncbi.nlm.nih.gov/pubmed/29980666\n",
      "https://www.ncbi.nlm.nih.gov/pubmed/29980666\n",
      "https://www.ncbi.nlm.nih.gov/pubmed/29980666\n",
      "https://www.ncbi.nlm.nih.gov/pubmed/29980527\n",
      "https://www.ncbi.nlm.nih.gov/pubmed/29980527\n",
      "https://www.ncbi.nlm.nih.gov/pubmed/29980527\n",
      "https://www.ncbi.nlm.nih.gov/pubmed/29969439\n",
      "https://www.ncbi.nlm.nih.gov/pubmed/29969439\n",
      "https://www.ncbi.nlm.nih.gov/pubmed/29969439\n",
      "https://www.ncbi.nlm.nih.gov/pubmed/29973711\n",
      "https://www.ncbi.nlm.nih.gov/pubmed/29973711\n",
      "https://www.ncbi.nlm.nih.gov/pubmed/29973711\n",
      "https://www.ncbi.nlm.nih.gov/pubmed/29973719\n",
      "https://www.ncbi.nlm.nih.gov/pubmed/29973719\n",
      "https://www.ncbi.nlm.nih.gov/pubmed/29973719\n",
      "https://www.ncbi.nlm.nih.gov/pubmed/29980686\n",
      "https://www.ncbi.nlm.nih.gov/pubmed/29980686\n",
      "https://www.ncbi.nlm.nih.gov/pubmed/29980686\n",
      "https://www.ncbi.nlm.nih.gov/pubmed/29973717\n",
      "https://www.ncbi.nlm.nih.gov/pubmed/29973717\n",
      "https://www.ncbi.nlm.nih.gov/pubmed/29973717\n",
      "https://www.ncbi.nlm.nih.gov/pubmed/29972753\n",
      "https://www.ncbi.nlm.nih.gov/pubmed/29972753\n",
      "https://www.ncbi.nlm.nih.gov/pubmed/29972753\n",
      "https://www.ncbi.nlm.nih.gov/pubmed/29976794\n",
      "https://www.ncbi.nlm.nih.gov/pubmed/29976794\n",
      "https://www.ncbi.nlm.nih.gov/pubmed/29976794\n",
      "https://www.ncbi.nlm.nih.gov/pubmed/29981256\n",
      "https://www.ncbi.nlm.nih.gov/pubmed/29981256\n",
      "https://www.ncbi.nlm.nih.gov/pubmed/29981256\n",
      "https://www.ncbi.nlm.nih.gov/pubmed/29980769\n",
      "https://www.ncbi.nlm.nih.gov/pubmed/29980769\n",
      "https://www.ncbi.nlm.nih.gov/pubmed/29980769\n"
     ]
    }
   ],
   "source": [
    "for i in scrape_links:\n",
    "    print(i)"
   ]
  },
  {
   "cell_type": "markdown",
   "metadata": {},
   "source": [
    "# END TESTING SECTION------------------------------------------------------------\n",
    "<br>\n",
    "<br>"
   ]
  },
  {
   "cell_type": "markdown",
   "metadata": {},
   "source": [
    "## Function to create array of links to scrape"
   ]
  },
  {
   "cell_type": "code",
   "execution_count": null,
   "metadata": {
    "collapsed": true
   },
   "outputs": [],
   "source": [
    "# set empty links_all list to append to \n",
    "links_all = []\n",
    "\n",
    "# set pubmed ids list to append to\n",
    "pubmed_ids = []\n",
    "\n",
    "# set empty list to append scrape_links to\n",
    "scrape_links = []\n",
    "\n",
    "# function to get links\n",
    "def get_links(main_url):\n",
    "    \n",
    "    # use bs to scarpe p tags with class - title\n",
    "    links = soup.find_all(\"p\",attrs={'class':'title'})\n",
    "      \n",
    "    # testing to see how my links / journals to scrape\n",
    "    articles_to_scrape = len(links)\n",
    "    print(f\"There are {articles_to_scrape} articles to scrape.\")\n",
    "    print(\"----------------------------------------------\")\n",
    "    \n",
    "    # loop through links to convert to string\n",
    "    for i in range (len(links)):\n",
    "        links_all.append(str(links[i]))\n",
    "        print(links[i])\n",
    "        print(\"----------------------------------------------\")\n",
    "        \n",
    "    # slice through links_all to test\n",
    "    len(links_all)\n",
    "    links_all[1]\n",
    "    \n",
    "    # loop through links all and use regex to grab the id numbers\n",
    "    for i in range (len(links_all)):\n",
    "        pubmed_ids.append(re.findall(r'\\d{8}',links_all[i]))\n",
    "    \n",
    "    # print out info for pubmed_ids\n",
    "    len(pubmed_ids)\n",
    "    type(pubmed_ids)\n",
    "    print(pubmed_ids)\n",
    "    print(\"----------------------------------------------\")\n",
    "    \n",
    "    # use itertools to transform pubmed ids from an array withn an array into one list\n",
    "    import itertools\n",
    "    pubmed_merged = list(itertools.chain.from_iterable(pubmed_ids))\n",
    "    \n",
    "    # slice through pubmed_merged to see what itertools did\n",
    "    pubmed_merged[0]\n",
    "    \n",
    "    # concat main_url with a slice of pubmed_merged before we loop\n",
    "    print(main_url + str(pubmed_merged[0]))\n",
    "    \n",
    "    # append merged links to links_all\n",
    "    for i in range (len(pubmed_merged)):\n",
    "        scrape_links.append(main_url + str(pubmed_merged[i]))"
   ]
  },
  {
   "cell_type": "code",
   "execution_count": null,
   "metadata": {
    "collapsed": true,
    "scrolled": false
   },
   "outputs": [],
   "source": [
    "# RUN FUNCTION\n",
    "get_links(main_url)"
   ]
  },
  {
   "cell_type": "markdown",
   "metadata": {},
   "source": [
    "<br>\n",
    "There are duplicates in our **scrape_links** array. Use `list` to delete the duplicates."
   ]
  },
  {
   "cell_type": "code",
   "execution_count": 24,
   "metadata": {},
   "outputs": [
    {
     "data": {
      "text/plain": [
       "20"
      ]
     },
     "execution_count": 24,
     "metadata": {},
     "output_type": "execute_result"
    },
    {
     "data": {
      "text/plain": [
       "['https://www.ncbi.nlm.nih.gov/pubmed/26416189',\n",
       " 'https://www.ncbi.nlm.nih.gov/pubmed/29981164',\n",
       " 'https://www.ncbi.nlm.nih.gov/pubmed/29980527',\n",
       " 'https://www.ncbi.nlm.nih.gov/pubmed/29976794',\n",
       " 'https://www.ncbi.nlm.nih.gov/pubmed/29972753',\n",
       " 'https://www.ncbi.nlm.nih.gov/pubmed/29973717',\n",
       " 'https://www.ncbi.nlm.nih.gov/pubmed/29985479',\n",
       " 'https://www.ncbi.nlm.nih.gov/pubmed/29980769',\n",
       " 'https://www.ncbi.nlm.nih.gov/pubmed/29973711',\n",
       " 'https://www.ncbi.nlm.nih.gov/pubmed/29985486',\n",
       " 'https://www.ncbi.nlm.nih.gov/pubmed/29980524',\n",
       " 'https://www.ncbi.nlm.nih.gov/pubmed/29981256',\n",
       " 'https://www.ncbi.nlm.nih.gov/pubmed/29980686',\n",
       " 'https://www.ncbi.nlm.nih.gov/pubmed/29977318',\n",
       " 'https://www.ncbi.nlm.nih.gov/pubmed/29972754',\n",
       " 'https://www.ncbi.nlm.nih.gov/pubmed/29980666',\n",
       " 'https://www.ncbi.nlm.nih.gov/pubmed/29984374',\n",
       " 'https://www.ncbi.nlm.nih.gov/pubmed/29975496',\n",
       " 'https://www.ncbi.nlm.nih.gov/pubmed/29973719',\n",
       " 'https://www.ncbi.nlm.nih.gov/pubmed/29969439']"
      ]
     },
     "execution_count": 24,
     "metadata": {},
     "output_type": "execute_result"
    }
   ],
   "source": [
    "# delete duplicates in scrape_links and assign to new variable scrape_links_final\n",
    "scrape_links_final = list(set(scrape_links))\n",
    "len(scrape_links_final)\n",
    "scrape_links_final"
   ]
  },
  {
   "cell_type": "markdown",
   "metadata": {},
   "source": [
    "## Main array of links to scrape:\n",
    "\n",
    "Here we use selenium to iterate through these links. Seleium will click on each link then scrape the title and abstracts on each page. "
   ]
  },
  {
   "cell_type": "code",
   "execution_count": 25,
   "metadata": {},
   "outputs": [
    {
     "name": "stdout",
     "output_type": "stream",
     "text": [
      "https://www.ncbi.nlm.nih.gov/pubmed/26416189\n",
      "https://www.ncbi.nlm.nih.gov/pubmed/29981164\n",
      "https://www.ncbi.nlm.nih.gov/pubmed/29980527\n",
      "https://www.ncbi.nlm.nih.gov/pubmed/29976794\n",
      "https://www.ncbi.nlm.nih.gov/pubmed/29972753\n",
      "https://www.ncbi.nlm.nih.gov/pubmed/29973717\n",
      "https://www.ncbi.nlm.nih.gov/pubmed/29985479\n",
      "https://www.ncbi.nlm.nih.gov/pubmed/29980769\n",
      "https://www.ncbi.nlm.nih.gov/pubmed/29973711\n",
      "https://www.ncbi.nlm.nih.gov/pubmed/29985486\n",
      "https://www.ncbi.nlm.nih.gov/pubmed/29980524\n",
      "https://www.ncbi.nlm.nih.gov/pubmed/29981256\n",
      "https://www.ncbi.nlm.nih.gov/pubmed/29980686\n",
      "https://www.ncbi.nlm.nih.gov/pubmed/29977318\n",
      "https://www.ncbi.nlm.nih.gov/pubmed/29972754\n",
      "https://www.ncbi.nlm.nih.gov/pubmed/29980666\n",
      "https://www.ncbi.nlm.nih.gov/pubmed/29984374\n",
      "https://www.ncbi.nlm.nih.gov/pubmed/29975496\n",
      "https://www.ncbi.nlm.nih.gov/pubmed/29973719\n",
      "https://www.ncbi.nlm.nih.gov/pubmed/29969439\n"
     ]
    }
   ],
   "source": [
    "# testing scrape_links\n",
    "for i in scrape_links_final:\n",
    "    print(i)"
   ]
  },
  {
   "cell_type": "markdown",
   "metadata": {},
   "source": [
    "### Add timer to main function when scraping"
   ]
  },
  {
   "cell_type": "code",
   "execution_count": 26,
   "metadata": {},
   "outputs": [
    {
     "data": {
      "text/plain": [
       "['https://www.ncbi.nlm.nih.gov/pubmed/26416189',\n",
       " 'https://www.ncbi.nlm.nih.gov/pubmed/29981164',\n",
       " 'https://www.ncbi.nlm.nih.gov/pubmed/29980527',\n",
       " 'https://www.ncbi.nlm.nih.gov/pubmed/29976794',\n",
       " 'https://www.ncbi.nlm.nih.gov/pubmed/29972753']"
      ]
     },
     "execution_count": 26,
     "metadata": {},
     "output_type": "execute_result"
    },
    {
     "data": {
      "text/plain": [
       "['https://www.ncbi.nlm.nih.gov/pubmed/29973717',\n",
       " 'https://www.ncbi.nlm.nih.gov/pubmed/29985479',\n",
       " 'https://www.ncbi.nlm.nih.gov/pubmed/29980769',\n",
       " 'https://www.ncbi.nlm.nih.gov/pubmed/29973711',\n",
       " 'https://www.ncbi.nlm.nih.gov/pubmed/29985486']"
      ]
     },
     "execution_count": 26,
     "metadata": {},
     "output_type": "execute_result"
    },
    {
     "data": {
      "text/plain": [
       "['https://www.ncbi.nlm.nih.gov/pubmed/29980524',\n",
       " 'https://www.ncbi.nlm.nih.gov/pubmed/29981256',\n",
       " 'https://www.ncbi.nlm.nih.gov/pubmed/29980686',\n",
       " 'https://www.ncbi.nlm.nih.gov/pubmed/29977318',\n",
       " 'https://www.ncbi.nlm.nih.gov/pubmed/29972754']"
      ]
     },
     "execution_count": 26,
     "metadata": {},
     "output_type": "execute_result"
    },
    {
     "data": {
      "text/plain": [
       "['https://www.ncbi.nlm.nih.gov/pubmed/29980666',\n",
       " 'https://www.ncbi.nlm.nih.gov/pubmed/29984374',\n",
       " 'https://www.ncbi.nlm.nih.gov/pubmed/29975496',\n",
       " 'https://www.ncbi.nlm.nih.gov/pubmed/29973719',\n",
       " 'https://www.ncbi.nlm.nih.gov/pubmed/29969439']"
      ]
     },
     "execution_count": 26,
     "metadata": {},
     "output_type": "execute_result"
    }
   ],
   "source": [
    "# slice out scrape_links_final so we can scrape 5 articles at a time\n",
    "links_1 = scrape_links_final[0:5]\n",
    "links_1\n",
    "\n",
    "links_2 = scrape_links_final[5:10]\n",
    "links_2\n",
    "\n",
    "links_3 = scrape_links_final[10:15]\n",
    "links_3\n",
    "\n",
    "links_4 = scrape_links_final[15:20]\n",
    "links_4"
   ]
  },
  {
   "cell_type": "markdown",
   "metadata": {},
   "source": [
    "## Regex Notes"
   ]
  },
  {
   "cell_type": "code",
   "execution_count": null,
   "metadata": {
    "collapsed": true
   },
   "outputs": [],
   "source": [
    "# Regex\n",
    "# Identifiers:\n",
    "# \\d any number\n",
    "# \\D anything but a number\n",
    "# \\s space\n",
    "# \\S anything but a space\n",
    "# \\w any character\n",
    "# \\W anything but a character\n",
    "# . any character, except for a newline\n",
    "# \\b the whitespace around words\n",
    "# \\. a period\n",
    "\n",
    "# Modifiers:\n",
    "# {1,3} we're expecting 1-3 \\d{1-3}\n",
    "# + Match 1 or more\n",
    "# ? Match 0 or more\n",
    "# * Match 0 or more\n",
    "# $ Match the end of a string\n",
    "# ^ matching the beginning of a string\n",
    "# | either or\n",
    "# [] range or \"variance\" [A-Za-z] [1-5a-qA-Z]\n",
    "# {x} expecting \"x\" amount\n",
    "\n",
    "# White Space Characters: \n",
    "# \\n new line\n",
    "# \\s space\n",
    "# \\t tab\n",
    "# \\e escape\n",
    "# \\f form feed\n",
    "# \\r return\n",
    "\n",
    "# DONT FORGET!:\n",
    "# . + * [] $ ^ () {} | \\"
   ]
  },
  {
   "cell_type": "markdown",
   "metadata": {
    "collapsed": true
   },
   "source": [
    "## Selenium\n",
    "**Web Browser Automation**"
   ]
  },
  {
   "cell_type": "code",
   "execution_count": 27,
   "metadata": {
    "collapsed": true
   },
   "outputs": [],
   "source": [
    "from splinter import Browser\n",
    "from selenium import webdriver"
   ]
  },
  {
   "cell_type": "code",
   "execution_count": 28,
   "metadata": {
    "collapsed": true
   },
   "outputs": [],
   "source": [
    "# make sure chrome browser exe is in current directory\n",
    "# chrome browser exe is not necessary for MACS\n",
    "executable_path = {'executable_path': 'chromedriver'}"
   ]
  },
  {
   "cell_type": "markdown",
   "metadata": {},
   "source": [
    "## Set up dictionary to append data to"
   ]
  },
  {
   "cell_type": "code",
   "execution_count": 29,
   "metadata": {
    "collapsed": true
   },
   "outputs": [],
   "source": [
    "article_dict = {\"title\": [],\n",
    "               \"abstract\": []}"
   ]
  },
  {
   "cell_type": "markdown",
   "metadata": {},
   "source": [
    "## Create get_article_info function"
   ]
  },
  {
   "cell_type": "code",
   "execution_count": 30,
   "metadata": {
    "collapsed": true
   },
   "outputs": [],
   "source": [
    "title = []\n",
    "abstract = []\n",
    "\n",
    "def get_article_info(links_1):\n",
    "    \n",
    "    # iterate through articles\n",
    "    for i in links_1:\n",
    "        \n",
    "        # sets up scraper\n",
    "        browser = Browser('chrome', headless=False)\n",
    "        html = browser.html\n",
    "        response2 = requests.get(i)\n",
    "        soup2 = bs(response2.text, 'html.parser')\n",
    "    \n",
    "        browser.visit(i)\n",
    "    \n",
    "        # there are two 'h1' tags on this page. slice out index 0\n",
    "        title_one = soup2.find_all('h1')\n",
    "        article_one_title = title_one[1].text.strip()\n",
    "    \n",
    "        # slice h1 at index 1 to grab article title\n",
    "        title.append(article_one_title)\n",
    "    \n",
    "        # get abstract \n",
    "        # abstract.append(soup2.find(\"div\", attrs={'class': 'rprt_all'}).text.strip())     \n",
    "        abstract.append(soup2.find(\"div\", attrs={'class': 'rprt abstract'}).text.strip())"
   ]
  },
  {
   "cell_type": "markdown",
   "metadata": {},
   "source": [
    "## Run article_info function"
   ]
  },
  {
   "cell_type": "code",
   "execution_count": 31,
   "metadata": {
    "collapsed": true
   },
   "outputs": [],
   "source": [
    "get_article_info(links_1)"
   ]
  },
  {
   "cell_type": "code",
   "execution_count": 35,
   "metadata": {},
   "outputs": [],
   "source": [
    "get_article_info(links_2)"
   ]
  },
  {
   "cell_type": "code",
   "execution_count": 38,
   "metadata": {
    "collapsed": true
   },
   "outputs": [],
   "source": [
    "get_article_info(links_3)"
   ]
  },
  {
   "cell_type": "code",
   "execution_count": 41,
   "metadata": {
    "collapsed": true
   },
   "outputs": [],
   "source": [
    "get_article_info(links_4)"
   ]
  },
  {
   "cell_type": "code",
   "execution_count": 42,
   "metadata": {},
   "outputs": [
    {
     "name": "stdout",
     "output_type": "stream",
     "text": [
      "The Link between the Appendix and Ulcerative Colitis: Clinical Relevance and Potential Immunological Mechanisms.\n",
      "\n",
      "Ketorolac for postoperative pain in children.\n",
      "\n",
      "Validation of Plasma Biomarker Candidates for the Prediction of eGFR Decline in Patients With Type 2 Diabetes.\n",
      "\n",
      "DNA-induced liquid phase condensation of cGAS activates innate immune signaling.\n",
      "\n",
      "Patisiran, an RNAi Therapeutic, for Hereditary Transthyretin Amyloidosis.\n",
      "\n",
      "CRISPR screens identify genomic ribonucleotides as a source of PARP-trapping lesions.\n",
      "\n",
      "Enhancing T cell therapy through TCR-signaling-responsive nanoparticle drug delivery.\n",
      "\n",
      "Publisher Correction: A naturally occurring antiviral ribonucleotide encoded by the human genome.\n",
      "\n",
      "Author Correction: Reduced mutation rate in exons due to differential mismatch repair.\n",
      "\n",
      "Author Correction: What models eat.\n",
      "\n",
      "Cancer-associated thrombosis in patients with implanted ports: a prospective multicenter French cohort study (ONCOCIP).\n",
      "\n",
      "A novel chemical compound SINCRO with dual function in the STING-type I interferon and tumor cell death pathways.\n",
      "\n",
      "Heavily and fully modified RNAs guide efficient SpyCas9-mediated genome editing.\n",
      "\n",
      "Physical and Mental Effects of Bathing: A Randomized Intervention Study.\n",
      "\n",
      "Chimeric Antigen Receptor Therapy.\n",
      "\n",
      "Human pluripotent reprogramming with CRISPR activators.\n",
      "\n",
      "Long-acting Reversible Contraception-Highly Efficacious, Safe, and Underutilized.\n",
      "\n",
      "Günter Blobel (1936–2018)\n",
      "\n",
      "Species-specific activity of antibacterial drug combinations.\n",
      "\n",
      "Optimized base editors enable efficient editing in cells, organoids and mice.\n",
      "\n"
     ]
    },
    {
     "data": {
      "text/plain": [
       "20"
      ]
     },
     "execution_count": 42,
     "metadata": {},
     "output_type": "execute_result"
    }
   ],
   "source": [
    "for i in title:\n",
    "    print(i + \"\\n\")\n",
    "\n",
    "len(title)"
   ]
  },
  {
   "cell_type": "code",
   "execution_count": 43,
   "metadata": {
    "scrolled": false
   },
   "outputs": [
    {
     "name": "stdout",
     "output_type": "stream",
     "text": [
      "Am J Gastroenterol. 2016 Feb;111(2):163-9. doi: 10.1038/ajg.2015.301. Epub  2015 Sep 29.The Link between the Appendix and Ulcerative Colitis: Clinical Relevance and Potential Immunological Mechanisms.Sahami S1, Kooij IA2, Meijer SL3, Van den Brink GR2,4, Buskens CJ1, Te Velde AA2.Author information1Department of Surgery, Academic Medical Centre, Amsterdam, The Netherlands.2Tytgat Institute for Liver and Intestinal Research, Academic Medical Center, Amsterdam, The Netherlands.3Department of Pathology, Academic Medical Center, Amsterdam, The Netherlands.4Department of Gastroenterology, Academic Medical Center, Amsterdam, The Netherlands.AbstractThe human appendix has long been considered as a vestigial organ, an organ that has lost its function during evolution. In recent years, however, reports have emerged that link the appendix to numerous immunological functions in humans. Evidence has been presented for an important role of the appendix in maintaining intestinal health. This theory suggests that the appendix may be a reservoir or 'safe house' from which the commensal gut flora can rapidly be reestablished if it is eradicated from the colon. However, the appendix may also have a role in the development of inflammatory bowel disease (IBD). Several large epidemiological cohort studies have demonstrated the preventive effect of appendectomy on the development of ulcerative colitis, a finding that has been confirmed in murine colitis models. In addition, current studies are examining the possible therapeutic effect of an appendectomy to modulate disease course in patients with ulcerative colitis. This literature review assesses the current knowledge about the clinical and immunological aspects of the vermiform appendix in IBD and suggests that the idea of the appendix as a vestigial remnant should be discarded.PMID: 26416189 DOI: 10.1038/ajg.2015.301  [Indexed for MEDLINE] SharePublication type, MeSH terms, SubstancePublication typeReviewMeSH termsAppendectomyAppendix/immunology*Appendix/microbiologyB-Lymphocytes/immunologyColitis, Ulcerative/epidemiologyColitis, Ulcerative/immunology*Crohn Disease/epidemiologyCrohn Disease/immunologyDisease ProgressionDysbiosis/epidemiologyDysbiosis/immunology*Gastrointestinal Microbiome/immunology*HumansImmunoglobulin A/immunologyNatural Killer T-Cells/immunologyProtective FactorsSeverity of Illness IndexSubstanceImmunoglobulin ALinkOut - more resourcesFull Text SourcesNature Publishing GroupMedicalUlcerative Colitis - Genetic AllianceUlcerative Colitis - MedlinePlus Health Information\n",
      "\n",
      "\n",
      "Cochrane Database Syst Rev. 2018 Jul 7;7:CD012294. doi: 10.1002/14651858.CD012294.pub2. [Epub ahead of print]Ketorolac for postoperative pain in children.McNicol ED1, Rowe E, Cooper TE.Author information1Department of Anesthesiology and Perioperative Medicine, Tufts Medical Center, Boston, Massachusetts, USA.AbstractBACKGROUND: Children who undergo surgical procedures in ambulatory and inpatient settings are at risk of experiencing acute pain. Nonsteroidal anti-inflammatory drugs (NSAIDs) can reduce moderate to severe pain without many of the side effects associated with opioids. However, NSAIDs may cause bleeding, renal and gastrointestinal toxicity, and potentially delay wound and bone healing. Intravenous administration of ketorolac for postoperative pain in children has not been approved in many countries, but is routinely administered in clinical practise.OBJECTIVES: To assess the efficacy and safety of ketorolac for postoperative pain in children.SEARCH METHODS: We searched the following databases, without language restrictions, to November 2017: CENTRAL (The Cochrane Library 2017, Issue 10); MEDLINE, Embase, and LILACS. We also checked clinical trials registers and reference lists of reviews, and retrieved articles for additional studies.SELECTION CRITERIA: We included randomised controlled trials that compared the analgesic efficacy of ketorolac (in any dose, administered via any route) with placebo or another active treatment, in treating postoperative pain in participants zero to 18 years of age following any type of surgery.DATA COLLECTION AND ANALYSIS: We used standard methodological procedures expected by Cochrane. Two review authors independently considered trials for inclusion in the review, assessed risk of bias, and extracted data. We analyzed trials in two groups; ketorolac versus placebo, and ketorolac versus opioid. However, we performed limited pooled analyses. We assessed the overall quality of the evidence for each outcome using GRADE, and created a 'Summary of findings' table.MAIN RESULTS: We included 13 studies, involving 920 randomised participants. There was considerable heterogeneity among study designs, including the comparator arms (placebo, opioid, another NSAID, or a different regimen of ketorolac), dosing regimens (routes and timing of administration, single versus multiple dose), outcome assessment methods, and types of surgery. Mean study population ages ranged from 356 days to 13.9 years. The majority of studies chose a dose of either 0.5 mg/kg (as a single or multiple dose regimen) or 1 mg/kg (single dose with 0.5 mg/kg for any subsequent doses). One study administered interventions intraoperatively; the remainder administered interventions postoperatively, often after the participant reported moderate to severe pain.There were insufficient data to perform meta-analysis for either of our primary outcomes: participants with at least 50% pain relief; or mean postoperative pain intensity. Four studies individually reported statistically significant reductions in pain intensity when comparing ketorolac with placebo, but the studies were small and had various risks of bias, primarily due to incomplete outcome data and small sample sizes.We found limited data available for the secondary outcomes of participants requiring rescue medication and opioid consumption. For the former, we saw no clear difference between ketorolac and placebo; 74 of 135 (55%) participants receiving ketorolac required rescue analgesia in the post-anaesthesia care unit (PACU) versus 81 of 127 (64%) receiving placebo (relative risk (RR) 0.85, 95% confidence interval (CI) 0.71 to 1.00, P = 0.05; 4 studies, 262 participants). For opioid consumption in the PACU, we saw no clear difference between ketorolac and placebo (P = 0.61). For the time period zero to four hours after administration of the interventions, participants receiving ketorolac received 1.58 mg less intravenous morphine equivalents than those receiving placebo (95% CI -2.58 mg to -0.57 mg, P = 0.002; 2 studies, 129 participants). However, we are uncertain whether ketorolac has an important effect on opioid consumption, as the data were sparse and the results were inconsistent. Only one study reported data for opioid consumption when comparing ketorolac with an opioid. There were no clear differences between the ketorolac and opioid group at any time point. There were no data assessing this outcome for the comparison of ketorolac with another NSAID.There were insufficient data to allow us to analyze overall adverse event or serious adverse event rates. Although the majority of serious adverse events reported in those receiving ketorolac involved bleeding, the number of events was too low to conclude that bleeding risk was increased in those receiving ketorolac perioperatively. There was not a statistically significant increase in event rates for any specific adverse event, either in pooled analysis or in single studies, when comparing ketorolac and placebo. When comparing ketorolac with opioids or other NSAIDs, there were too few data to make any conclusions regarding event rates. Lastly, withdrawals due to adverse events were vary rare in all groups, reflecting the acute nature of such studies.We assessed the quality of evidence for all outcomes for each comparison (placebo or active) as very low, due to issues with risk of bias in individual studies, imprecision, heterogeneity between studies, and low overall numbers of participants and events.AUTHORS' CONCLUSIONS: Due to the lack of data for our primary outcomes, and the very low-quality evidence for secondary outcomes, the efficacy and safety of ketorolac in treating postoperative pain in children were both uncertain. The evidence was insufficient to support or reject its use.PMID: 29981164 DOI: 10.1002/14651858.CD012294.pub2 SharePublication typePublication typeReviewLinkOut - more resourcesFull Text SourcesWiley\n",
      "\n",
      "\n",
      "Diabetes Care. 2018 Jul 6. pii: dc180532. doi: 10.2337/dc18-0532. [Epub ahead of print]Validation of Plasma Biomarker Candidates for the Prediction of eGFR Decline in Patients With Type 2 Diabetes.Heinzel A1, Kammer M1,2, Mayer G3, Reindl-Schwaighofer R1, Hu K1, Perco P3, Eder S3, Rosivall L4, Mark PB5, Ju W6, Kretzler M6, Gilmour P7, Wilson JM8, Duffin KL8, Abdalla M9,10,11, McCarthy MI9,10,12, Heinze G2, Heerspink HL13, Wiecek A14, Gomez MF15, Oberbauer R16; BEAt-DKD Consortium.Author information1Department of Nephrology, Medical University of Vienna, Vienna, Austria.2Center for Medical Statistics, Informatics and Intelligent Systems (CeMSIIS), Section for Clinical Biometrics, Medical University of Vienna, Vienna, Austria.3Department of Internal Medicine IV (Nephrology and Hypertension), Medical University of Innsbruck, Innsbruck, Austria.4International Nephrology Research and Training Centre, Institute of Pathophysiology, Semmelweis University, Budapest, Hungary.5Institute of Cardiovascular and Medical Sciences, University of Glasgow, Glasgow, U.K.6Department of Internal Medicine, Department of Computational Medicine and Bioinformatics, University of Michigan, Ann Arbor, MI.7Astellas Pharma Europe B.V., Leiden, the Netherlands.8Lilly Research Laboratories, Eli Lilly and Company, Indianapolis, IN.9Oxford Centre for Diabetes, Endocrinology and Metabolism, University of Oxford, Oxford, U.K.10Wellcome Trust Centre for Human Genetics, University of Oxford, Oxford, U.K.11Computational Statistics and Machine Learning, Department of Statistics, University of Oxford, Oxford, U.K.12Oxford National Institute for Health Research Biomedical Research Centre, Churchill Hospital, Oxford, U.K.13Clinical Pharmacy and Pharmacology, Faculty of Medical Sciences, University Medical Center Groningen, Groningen, the Netherlands.14Department of Nephrology, Transplantation and Internal Medicine, Medical University of Silesia in Katowice, Katowice, Poland.15Department of Clinical Sciences in Malmö, Lund University Diabetes Centre, Lund, Sweden.16Department of Nephrology, Medical University of Vienna, Vienna, Austria rainer.oberbauer@meduniwien.ac.at.AbstractOBJECTIVE: The decline of estimated glomerular filtration rate (eGFR) in patients with type 2 diabetes is variable, and early interventions would likely be cost-effective. We elucidated the contribution of 17 plasma biomarkers to the prediction of eGFR loss on top of clinical risk factors.RESEARCH DESIGN AND METHODS: We studied participants in PROVALID (PROspective cohort study in patients with type 2 diabetes mellitus for VALIDation of biomarkers), a prospective multinational cohort study of patients with type 2 diabetes and a follow-up of more than 24 months (n = 2,560; baseline median eGFR, 84 mL/min/1.73 m2; urine albumin-to-creatinine ratio, 8.1 mg/g). The 17 biomarkers were measured at baseline in 481 samples using Luminex and ELISA. The prediction of eGFR decline was evaluated by linear mixed modeling.RESULTS: In univariable analyses, 9 of the 17 markers showed significant differences in median concentration between stable and fast-progressing patients. A linear mixed model for eGFR obtained by variable selection exhibited an adjusted R2 of 62%. A panel of 12 biomarkers was selected by the procedure and accounted for 34% of the total explained variability, of which 32% were due to 5 markers. The individual contribution of each biomarker to the prediction of eGFR decline on top of clinical predictors was generally low. When included into the model, baseline eGFR exhibited the largest explained variability of eGFR decline (R2 of 79%), and the contribution of each biomarker dropped below 1%.CONCLUSIONS: In this longitudinal study of patients with type 2 diabetes and maintained eGFR at baseline, 12 of the 17 candidate biomarkers were associated with eGFR decline, but their predictive power was low.© 2018 by the American Diabetes Association.PMID: 29980527 DOI: 10.2337/dc18-0532 ShareLinkOut - more resourcesFull Text SourcesHighWireMiscellaneousNCI CPTAC Assay PortalNCI CPTC Antibody Characterization Program\n",
      "\n",
      "\n",
      "Science. 2018 Jul 5. pii: eaat1022. doi: 10.1126/science.aat1022. [Epub ahead of print]DNA-induced liquid phase condensation of cGAS activates innate immune signaling.Du M1,2, Chen ZJ3,2,4.Author information1Department of Molecular Biology, University of Texas Southwestern Medical Center, Dallas, TX 75390-9148, USA.2Center for Inflammation Research, University of Texas Southwestern Medical Center, Dallas, TX 75390-9148, USA.3Department of Molecular Biology, University of Texas Southwestern Medical Center, Dallas, TX 75390-9148, USA. zhijian.chen@utsouthwestern.edu.4Howard Hughes Medical Institute, University of Texas Southwestern Medical Center, Dallas, TX 75390-9148, USA.AbstractThe binding of DNA to cyclic GMP-AMP synthase (cGAS) leads to the production of the secondary messenger cyclic GMP-AMP (cGAMP), which activates innate immune responses. Here, we show that DNA binding to cGAS robustly induced the formation of liquidlike droplets in which cGAS was activated. The disordered and positively charged cGAS N terminus enhanced cGAS-DNA phase separation by increasing the valencies of DNA binding. Long DNA was more efficient in promoting cGAS liquid phase separation and cGAS enzyme activity than short DNA. Moreover, free zinc ion enhanced cGAS enzyme activity both in vitro and in cells by promoting cGAS-DNA phase separation. These results demonstrated that the DNA-induced phase transition of cGAS promotes cGAMP production and innate immune signaling.PMID: 29976794 DOI: 10.1126/science.aat1022 ShareLinkOut - more resourcesFull Text SourcesHighWire - PDF\n",
      "\n",
      "\n",
      "N Engl J Med. 2018 Jul 5;379(1):11-21. doi: 10.1056/NEJMoa1716153.Patisiran, an RNAi Therapeutic, for Hereditary Transthyretin Amyloidosis.Adams D1, Gonzalez-Duarte A1, O'Riordan WD1, Yang CC1, Ueda M1, Kristen AV1, Tournev I1, Schmidt HH1, Coelho T1, Berk JL1, Lin KP1, Vita G1, Attarian S1, Planté-Bordeneuve V1, Mezei MM1, Campistol JM1, Buades J1, Brannagan TH 3rd1, Kim BJ1, Oh J1, Parman Y1, Sekijima Y1, Hawkins PN1, Solomon SD1, Polydefkis M1, Dyck PJ1, Gandhi PJ1, Goyal S1, Chen J1, Strahs AL1, Nochur SV1, Sweetser MT1, Garg PP1, Vaishnaw AK1, Gollob JA1, Suhr OB1.Author information1From Assistance Publique-Hôpitaux de Paris (APHP), National Reference Center for Familial Amyloidotic Polyneuropathy, Centre Hospitalier Universitaire (CHU) Bicêtre, INSERM Unité 1195, Université Paris-Sud, Le Kremlin-Bicêtre (D.A.), the Department of Neuromuscular Disorders and ALS, Hôpital de la Timone, Marseille (S.A.), and the Department of Neurology, Amyloid Network, CHU Henri Mondor-APHP, Créteil (V.P.-B.) - all in France; the National Institute of Medical Sciences and Nutrition-Salvador Zubiran, Mexico City (A.G.-D.); the Department of Clinical Research, eStudySite, San Diego, CA (W.D.O.); the Department of Neurology, National Taiwan University Hospital (C.-C.Y.), and the Department of Neurology, Taipei Veterans General Hospital (K.-P.L.), Taipei, Taiwan; Kumamoto University Hospital, Kumamoto (M.U.), and the Department of Medicine (Neurology and Rheumatology), Shinshu University School of Medicine, Matsumoto (Y.S.) - both in Japan; the Department of Cardiology, University of Heidelberg, Heidelberg (A.V.K.), and Medizinische Klinik B für Gastroenterologie und Hepatologie, Universitätsklinikum Münster, Münster (H.H.S.) - both in Germany; University Multiprofile Hospital for Active Treatment, Sofia, Bulgaria (I.T.); Hospital de Santo António, Centro Hospitalar do Porto, Porto, Portugal (T.C.); the Amyloidosis Center, Department of Medicine, Boston Medical Center (J.L.B.), and Harvard Medical School (S.D.S.), Boston; the Department of Clinical and Experimental Medicine, University Hospital of Messina, Messina, Italy (G.V.); the Departments of Neurology and Medicine, Vancouver General Hospital, Vancouver, BC, Canada (M.M.M.); the Department of Nephrology, Hospital Clinic, Barcelona (J.M.C.), and the Balearic Islands Health Research Institute and Hospital Son Llatzer, Palma de Mallorca (J.B.) - all in Spain; the Department of Neurology, Columbia University, College of Physicians and Surgeons, New York (T.H.B.); Samsung Medical Center, Sungkyunkwan University School of Medicine (B.J.K.), and the the Department of Neurology, Konkuk University Medical Center (J.O.), Seoul, South Korea; the Department of Neurology, Istanbul University, Istanbul, Turkey (Y.P.); the Division of Medicine, University College London, London (P.N.H.); Johns Hopkins Bayview Medical Center, Baltimore (M.P.); the Department of Neurology, Mayo Clinic, Rochester, MN (P.J.D.); Alnylam Pharmaceuticals, Cambridge, MA (P.J.G., S.G., J.C., A.L.S., S.V.N., M.T.S., P.P.G., A.K.V., J.A.G.); and the Department of Public Health and Clinical Medicine, Umeå University, Umeå, Sweden (O.B.S.).AbstractBACKGROUND: Patisiran, an investigational RNA interference therapeutic agent, specifically inhibits hepatic synthesis of transthyretin.METHODS: In this phase 3 trial, we randomly assigned patients with hereditary transthyretin amyloidosis with polyneuropathy, in a 2:1 ratio, to receive intravenous patisiran (0.3 mg per kilogram of body weight) or placebo once every 3 weeks. The primary end point was the change from baseline in the modified Neuropathy Impairment Score+7 (mNIS+7; range, 0 to 304, with higher scores indicating more impairment) at 18 months. Other assessments included the Norfolk Quality of Life-Diabetic Neuropathy (Norfolk QOL-DN) questionnaire (range, -4 to 136, with higher scores indicating worse quality of life), 10-m walk test (with gait speed measured in meters per second), and modified body-mass index (modified BMI, defined as [weight in kilograms divided by square of height in meters]×albumin level in grams per liter; lower values indicated worse nutritional status).RESULTS: A total of 225 patients underwent randomization (148 to the patisiran group and 77 to the placebo group). The mean (±SD) mNIS+7 at baseline was 80.9±41.5 in the patisiran group and 74.6±37.0 in the placebo group; the least-squares mean (±SE) change from baseline was -6.0±1.7 versus 28.0±2.6 (difference, -34.0 points; P<0.001) at 18 months. The mean (±SD) baseline Norfolk QOL-DN score was 59.6±28.2 in the patisiran group and 55.5±24.3 in the placebo group; the least-squares mean (±SE) change from baseline was -6.7±1.8 versus 14.4±2.7 (difference, -21.1 points; P<0.001) at 18 months. Patisiran also showed an effect on gait speed and modified BMI. At 18 months, the least-squares mean change from baseline in gait speed was 0.08±0.02 m per second with patisiran versus -0.24±0.04 m per second with placebo (difference, 0.31 m per second; P<0.001), and the least-squares mean change from baseline in the modified BMI was -3.7±9.6 versus -119.4±14.5 (difference, 115.7; P<0.001). Approximately 20% of the patients who received patisiran and 10% of those who received placebo had mild or moderate infusion-related reactions; the overall incidence and types of adverse events were similar in the two groups.CONCLUSIONS: In this trial, patisiran improved multiple clinical manifestations of hereditary transthyretin amyloidosis. (Funded by Alnylam Pharmaceuticals; APOLLO ClinicalTrials.gov number, NCT01960348 .).Comment inOligonucleotide Drugs for Transthyretin Amyloidosis. [N Engl J Med.  2018]PMID: 29972753 DOI: 10.1056/NEJMoa1716153 SharePublication type, Secondary source IDPublication typeResearch Support, Non-U.S. Gov'tSecondary source IDClinicalTrials.gov/NCT01960348LinkOut - more resourcesFull Text SourcesAtypon - PDFOvid Technologies, Inc.MedicalClinicalTrials.govMiscellaneousNCI CPTC Antibody Characterization Program\n",
      "\n",
      "\n",
      "Nature. 2018 Jul;559(7713):285-289. doi: 10.1038/s41586-018-0291-z. Epub  2018 Jul 4.CRISPR screens identify genomic ribonucleotides as a source of PARP-trapping lesions.Zimmermann M1, Murina O2, Reijns MAM2, Agathanggelou A3, Challis R2, Tarnauskaitė Ž2, Muir M4, Fluteau A2, Aregger M5, McEwan A1, Yuan W6, Clarke M6, Lambros MB6, Paneesha S7, Moss P8, Chandrashekhar M5,9, Angers S10, Moffat J5,9,11, Brunton VG4, Hart T12, de Bono J6,13, Stankovic T3, Jackson AP14, Durocher D15,16.Author information1The Lunenfeld-Tanenbaum Research Institute, Mount Sinai Hospital, Toronto, Ontario, Canada.2MRC Human Genetics Unit, Institute of Genetics and Molecular Medicine, University of Edinburgh, Edinburgh, UK.3Institute for Cancer and Genomic Sciences, University of Birmingham, Birmingham, UK.4Cancer Research UK Edinburgh Centre, University of Edinburgh, Edinburgh, UK.5Donnelly Centre, University of Toronto, Toronto, Ontario, Canada.6The Institute of Cancer Research, London, UK.7Heartlands Hospital, Birmingham, UK.8Institute of Immunology and Immunotherapy, University of Birmingham, Birmingham, UK.9Department of Molecular Genetics, University of Toronto, Toronto, Ontario, Canada.10Department of Pharmaceutical Sciences, Leslie Dan Faculty of Pharmacy & Department of Biochemistry, Faculty of Medicine, University of Toronto, Toronto, Ontario, Canada.11Canadian Institute for Advanced Research, Toronto, Ontario, Canada.12Department of Bioinformatics and Computational Biology, The University of Texas MD Anderson Cancer Center, Houston, TX, USA.13Royal Marsden NHS Foundation Trust, London, UK.14MRC Human Genetics Unit, Institute of Genetics and Molecular Medicine, University of Edinburgh, Edinburgh, UK. andrew.jackson@igmm.ed.ac.uk.15The Lunenfeld-Tanenbaum Research Institute, Mount Sinai Hospital, Toronto, Ontario, Canada. durocher@lunenfeld.ca.16Department of Molecular Genetics, University of Toronto, Toronto, Ontario, Canada. durocher@lunenfeld.ca.AbstractThe observation that BRCA1- and BRCA2-deficient cells are sensitive to inhibitors of poly(ADP-ribose) polymerase (PARP) has spurred the development of cancer therapies that use these inhibitors to target deficiencies in homologous recombination1. The cytotoxicity of PARP inhibitors depends on PARP trapping, the formation of non-covalent protein-DNA adducts composed of inhibited PARP1 bound to DNA lesions of unclear origins1-4. To address the nature of such lesions and the cellular consequences of PARP trapping, we undertook three CRISPR (clustered regularly interspersed palindromic repeats) screens to identify genes and pathways that mediate cellular resistance to olaparib, a clinically approved PARP inhibitor1. Here we present a high-confidence set of 73 genes, which when mutated cause increased sensitivity to PARP inhibitors. In addition to an expected enrichment for genes related to homologous recombination, we discovered that mutations in all three genes encoding ribonuclease H2 sensitized cells to PARP inhibition. We establish that the underlying cause of the PARP-inhibitor hypersensitivity of cells deficient in ribonuclease H2 is impaired ribonucleotide excision repair5. Embedded ribonucleotides, which are abundant in the genome of cells deficient in ribonucleotide excision repair, are substrates for cleavage by topoisomerase 1, resulting in PARP-trapping lesions that impede DNA replication and endanger genome integrity. We conclude that genomic ribonucleotides are a hitherto unappreciated source of PARP-trapping DNA lesions, and that the frequent deletion of RNASEH2B in metastatic prostate cancer and chronic lymphocytic leukaemia could provide an opportunity to exploit these findings therapeutically.PMID: 29973717 DOI: 10.1038/s41586-018-0291-z ShareLinkOut - more resourcesFull Text SourcesNature Publishing GroupMiscellaneousNCI CPTAC Assay PortalNCI CPTAC Assay PortalNCI CPTC Antibody Characterization ProgramNCI CPTC Antibody Characterization ProgramNCI CPTC Antibody Characterization Program\n",
      "\n",
      "\n",
      "Nat Biotechnol. 2018 Jul 9. doi: 10.1038/nbt.4181. [Epub ahead of print]Enhancing T cell therapy through TCR-signaling-responsive nanoparticle drug delivery.Tang L1,2,3, Zheng Y1,3, Melo MB1,3, Mabardi L1, Castaño AP4, Xie YQ5, Li N1,3, Kudchodkar SB6, Wong HC7, Jeng EK7, Maus MV4,8, Irvine DJ1,2,3,9,10.Author information1David H. Koch Institute for Integrative Cancer Research, Massachusetts Institute of Technology (MIT), Cambridge, Massachusetts, USA.2Department of Materials Science and Engineering, Massachusetts Institute of Technology, Cambridge, Massachusetts, USA.3Department of Biological Engineering, Massachusetts Institute of Technology, Cambridge, Massachusetts, USA.4Cellular Immunotherapy Program, Massachusetts General Hospital (MGH) Cancer Center, Charlestown, Massachusetts, USA.5Institute of Bioengineering, École Polytechnique Fédérale de Lausanne, Lausanne, Switzerland.6Vaccine Center, Wistar Institute, Philadelphia, Pennsylvania, USA.7Altor BioScience Corporation, Miramar, Florida, USA.8Harvard Medical School, Boston, Massachusetts, USA.9Ragon Institute of Massachusetts General Hospital, Massachusetts Institute of Technology, Cambridge, Massachusetts, USA.10Howard Hughes Medical Institute, Chevy Chase, Maryland, USA.AbstractAdoptive cell therapy (ACT) with antigen-specific T cells has shown remarkable clinical success; however, approaches to safely and effectively augment T cell function, especially in solid tumors, remain of great interest. Here we describe a strategy to 'backpack' large quantities of supporting protein drugs on T cells by using protein nanogels (NGs) that selectively release these cargos in response to T cell receptor activation. We designed cell surface-conjugated NGs that responded to an increase in T cell surface reduction potential after antigen recognition and limited drug release to sites of antigen encounter, such as the tumor microenvironment. By using NGs that carried an interleukin-15 super-agonist complex, we demonstrated that, relative to systemic administration of free cytokines, NG delivery selectively expanded T cells 16-fold in tumors and allowed at least eightfold higher doses of cytokine to be administered without toxicity. The improved therapeutic window enabled substantially increased tumor clearance by mouse T cell and human chimeric antigen receptor (CAR)-T cell therapy in vivo.PMID: 29985479 DOI: 10.1038/nbt.4181 ShareLinkOut - more resourcesFull Text SourcesNature Publishing Group\n",
      "\n",
      "\n",
      "Nature. 2018 Jul 6. doi: 10.1038/s41586-018-0355-0. [Epub ahead of print]Publisher Correction: A naturally occurring antiviral ribonucleotide encoded by the human genome.Gizzi AS1, Grove TL2, Arnold JJ3, Jose J3, Jangra RK4, Garforth SJ1, Du Q1, Cahill SM1, Dulyaninova NG1, Love JD5, Chandran K4, Bresnick AR1, Cameron CE3, Almo SC6,7.Author information1Department of Biochemistry, Albert Einstein College of Medicine, Bronx, NY, USA.2Department of Biochemistry, Albert Einstein College of Medicine, Bronx, NY, USA. tyler.grove@einstein.yu.edu.3Department of Biochemistry and Molecular Biology, The Pennsylvania State University, University Park, PA, USA.4Department of Microbiology and Immunology, Albert Einstein College of Medicine, Bronx, NY, USA.5Institute for Protein Innovation, Boston, MA, USA.6Department of Biochemistry, Albert Einstein College of Medicine, Bronx, NY, USA. steve.almo@einstein.yu.edu.7Institute for Protein Innovation, Boston, MA, USA. steve.almo@einstein.yu.edu.AbstractChange history: In the HTML version of this Letter, Extended Data Fig. 4 incorrectly corresponded to Fig. 4 (the PDF version of the figure was correct). This has been corrected online.Erratum forA naturally occurring antiviral ribonucleotide encoded by the human genome. [Nature.  2018]PMID: 29980769 DOI: 10.1038/s41586-018-0355-0 SharePublication typePublication typePublished ErratumLinkOut - more resourcesFull Text SourcesNature Publishing Group\n",
      "\n",
      "\n",
      "Nat Genet. 2018 Jul 4. doi: 10.1038/s41588-018-0123-y. [Epub ahead of print]Author Correction: Reduced mutation rate in exons due to differential mismatch repair.Frigola J1,2, Sabarinathan R1,2, Mularoni L1,2, Muiños F1,2, Gonzalez-Perez A1,2, López-Bigas N3,4,5.Author information1Institute for Research in Biomedicine (IRB Barcelona), The Barcelona Institute of Science and Technology (BIST), Barcelona, Spain.2Research Program on Biomedical Informatics, Universitat Pompeu Fabra, Barcelona, Spain.3Institute for Research in Biomedicine (IRB Barcelona), The Barcelona Institute of Science and Technology (BIST), Barcelona, Spain. nuria.lopez@irbbarcelona.org.4Research Program on Biomedical Informatics, Universitat Pompeu Fabra, Barcelona, Spain. nuria.lopez@irbbarcelona.org.5Institució Catalana de Recerca i Estudis Avançats (ICREA), Barcelona, Spain. nuria.lopez@irbbarcelona.org.AbstractIn the version of this article initially published, the x axis on the fourth plot in Fig. 2e was incorrectly labeled \"H3K36me3 exon-to-intron ratio (lower to higher).\" The x axis on this plot should read \"Genic H3K36me3 coverage bins (higher to lower)\".Erratum forReduced mutation rate in exons due to differential mismatch repair. [Nat Genet.  2017]PMID: 29973711 DOI: 10.1038/s41588-018-0123-y SharePublication typePublication typePublished ErratumLinkOut - more resourcesFull Text SourcesNature Publishing Group\n",
      "\n",
      "\n",
      "Nat Med. 2018 Jul 9. doi: 10.1038/s41591-018-0133-4. [Epub ahead of print]Author Correction: What models eat.Engber D1.Author information1Freelance science journalist and can be found on Twitter at @danengber, . danengber@yahoo.com.AbstractIn the version of this article originally published, there was an error in the sentence \"That quest, which started in the 1980s, continues through until today: For a paper published online in 2017, a group of researchers based at Brazil's Federal University of Rio Grande do Sul tested Sprague Dawley rats on either a high-fat diet, a cafeteria diet or what they called a 'Western diet', formulated to match up more closely with eating patterns in developed nations (it had 42.5% of its calories from fat and added salt and carbohydrates).\" Wistar rats were used in the experiment, not Sprague Dawley rats. Also, in ref. 7, the first author's last name was listed as Bortoloin. The correct spelling is Bortolin. The errors have been corrected in the HTML and PDF versions of this article.Erratum forWhat models eat. [Nat Med.  2018]PMID: 29985486 DOI: 10.1038/s41591-018-0133-4 SharePublication typePublication typePublished ErratumLinkOut - more resourcesFull Text SourcesNature Publishing Group\n",
      "\n",
      "\n",
      "Blood. 2018 Jul 6. pii: blood-2018-03-837153. doi: 10.1182/blood-2018-03-837153. [Epub ahead of print]Cancer-associated thrombosis in patients with implanted ports: a prospective multicenter French cohort study (ONCOCIP).Decousus H1, Bourmaud A2, Fournel P3, Bertoletti L4, Labruyère C5, Presles E6, Merah A7, Laporte S8, Stefani L9, Del Piano F10, Jacquin JP3, Meyer G11, Chauvin F8.Author information1INSERM, Centre d'Investigation Clinique 1408, Saint-Etienne, France; herve.decousus@chu-st-etienne.fr.2Hygee Center, Saint Priest en Jarez, France.3Medical Oncology Lucien Neuwirth Cancer Institute, Saint-Priest en Jarez, France.4F-Crin, INNOVTE (Investigation Network On Venous Thrombo-Embolism), Saint-Etienne, France.5Universite Jean Monet-Saint-Etienne, INSERM, SAINBIOSE (SAnte, INgenierie, BIOlogie, Saint-Etienne) U1059, Saint-Etienne, France.6Department of Clinical Pharmacology, University hospital, Saint-Etienne, France.7CHU Saint-Etienne, Hopital Nord, Service Medecine Vasculaire et Therapeutique, Saint Etienne, France.8INSERM, Centre d'Investigation Clinique 1408, Saint-Etienne, France.9Oncology department, CH Annecy Genevois, Pringy, France.10Service de Gynecologie, Hopitaux du Leman, Thonon Les Bains, France.11Service de Pneumologie, Hopital Europeen Georges Pompidou, AP-HP; Universite Paris Descartes, Sorbonne Paris Cite, and INSERM UMR S 970, Paris, France.AbstractThe need to accurately identify cancer outpatients at high risk of thrombotic complications is still unmet. In a prospective, multicenter cohort study, consecutive adult patients with a solid tumor and implanted port underwent 12-month follow-up. Our primary objective was to identify risk factors for (1) catheter-related thrombosis, defined as ipsilateral symptomatic upper-limb deep-vein thrombosis with or without pulmonary embolism, and (2) venous thromboembolism other than catheter-related, defined as any symptomatic superficial- or deep-vein thrombosis (other than catheter-related) or pulmonary embolism, and incidental pulmonary embolism. All events were objectively confirmed and centrally adjudicated. Rate assessments integrated the competing risk of death. Overall, 3032 patients were included (median age: 63 years; women: 58%). The most frequent cancer locations were breast (33.7%), lung (18.5%) and colorectal (15.6%), cancer being metastatic in 43.2% of patients. Most patients (97.1%) received chemotherapy. By 12 months, 48 (1.6%) patients had been lost to follow-up and 656 (24.6%) had died; 3.8% (n=111) of patients had experienced catheter-related thrombosis, and 9.6% (n=276) venous thromboembolism other than catheter-related. By multivariate analysis, use of the cephalic vein for catheter insertion predicted catheter-related thrombosis, whereas ongoing antiplatelet therapy was protective; risk factors for venous thromboembolism other than catheter-related were advanced age, previous venous thromboembolism, cancer site, and low hemoglobin level or increased leukocyte count before chemotherapy. In conclusion, this large prospective cohort study showed a high rate of venous thromboembolism in patients with a solid tumor and implanted port. Risk factors for catheter-related thrombosis differed from those for venous thromboembolism not catheter-related. This trial was registered at www.clinicaltrials.gov number as #NCT02025894.PMID: 29980524 DOI: 10.1182/blood-2018-03-837153 ShareSecondary source IDSecondary source IDClinicalTrials.gov/NCT02025894LinkOut - more resourcesFull Text SourcesHighWire - PDFMedicalClinicalTrials.gov\n",
      "\n",
      "\n",
      "Cancer Sci. 2018 Jul 7. doi: 10.1111/cas.13726. [Epub ahead of print]A novel chemical compound SINCRO with dual function in the STING-type I interferon and tumor cell death pathways.Kimura Y1, Negishi H1, Matsuda A1, Endo N1, Hangai S1,2, Inoue A1, Nishio J1, Taniguchi T1,2, Yanai H1,2.Author information1Department of Molecular Immunology, Institute of Industrial Science, The University of Tokyo, Komaba 4-6-1, Meguro-ku, Tokyo, 153-8505, Japan.2Max Planck-, The University of Tokyo, Center for Integrative Inflammology, Komaba 4-6-1, Meguro-ku, Tokyo, 153-8505, Japan.AbstractRecent years have seen a number of regulatory approvals for immune oncology or immunotherapies based on their ability to enhance anti-tumor immune responses. Nevertheless, the majority of the patients remain refractory to these treatments; hence, new therapies that augment current immunotherapies are required. Innate immune receptors that recognize nucleic acid are potent activators of subsequent T cell responses and, as a result, can evoke potent anti-tumor immune responses. Here, we present a novel compound N-{3-[(1,4'-bipiperidin)-1'-yl]propyl}-6-[4-(4-methylpiperazin-1-yl)phenyl]picolinamide (SINCRO; STING-mediated interferon-inducing and cytotoxic reagent, original) as an anti-cancer drug that activates the cytosolic DNA-sensing STING (stimulator of interferon genes) signaling pathway leading to the induction of type I interferon (IFN) genes. Indeed, IFN-β gene induction by SINCRO is abolished in STING-deficient cells. In addition to its IFN-inducing activity, SINCRO shows a STING-independent cytotoxic activity against cancer cells. SINCRO does not evoke DNA double-strand break or caspase-3 cleavage. Thus, SINCRO induces cell death in a manner different from conventional apoptosis-inducing pathways. Finally, we provide evidence that SINCRO administration significantly attenuates in vivo tumor growth by both type I IFN-dependent and independent mechanisms. Thus, SINCRO is an attractive anti-cancer compound with dual function in that it evokes type I IFN response to promote anti-tumor immunity on the one hand and induces tumor cell death on the other hand. SINCRO may provide a new platform for the development of drugs for effective cancer therapy. This article is protected by copyright. All rights reserved.KEYWORDS: \n",
      "STING\n",
      "; Anticancer Drug; Cancer immunity; Cytotoxicity; Type I interferonPMID: 29981256 DOI: 10.1111/cas.13726 Free full textShareLinkOut - more resourcesFull Text SourcesWiley\n",
      "\n",
      "\n",
      "Nat Commun. 2018 Jul 6;9(1):2641. doi: 10.1038/s41467-018-05073-z.Heavily and fully modified RNAs guide efficient SpyCas9-mediated genome editing.Mir A1, Alterman JF1, Hassler MR1, Debacker AJ1, Hudgens E2, Echeverria D1, Brodsky MH2, Khvorova A3,4, Watts JK5,6, Sontheimer EJ7,8.Author information1RNA Therapeutics Institute, University of Massachusetts Medical School, Worcester, MA, 01605, USA.2Department of Molecular, Cell and Cancer Biology, University of Massachusetts Medical School, Worcester, MA, 01605, USA.3RNA Therapeutics Institute, University of Massachusetts Medical School, Worcester, MA, 01605, USA. anastasia.khvorova@umassmed.edu.4Program in Molecular Medicine, University of Massachusetts Medical School, Worcester, MA, 01605, USA. anastasia.khvorova@umassmed.edu.5RNA Therapeutics Institute, University of Massachusetts Medical School, Worcester, MA, 01605, USA. jonathan.watts@umassmed.edu.6Department of Biochemistry and Molecular Pharmacology, University of Massachusetts Medical School, Worcester, MA, 01605, USA. jonathan.watts@umassmed.edu.7RNA Therapeutics Institute, University of Massachusetts Medical School, Worcester, MA, 01605, USA. erik.sontheimer@umassmed.edu.8Program in Molecular Medicine, University of Massachusetts Medical School, Worcester, MA, 01605, USA. erik.sontheimer@umassmed.edu.AbstractRNA-based drugs depend on chemical modifications to increase potency and to decrease immunogenicity in vivo. Chemical modification will likely improve the guide RNAs involved in CRISPR-Cas9-based therapeutics as well. Cas9 orthologs are RNA-guided microbial effectors that cleave DNA. Here, we explore chemical modifications at all positions of the crRNA guide and tracrRNA cofactor. We identify several heavily modified versions of crRNA and tracrRNA that are more potent than their unmodified counterparts. In addition, we describe fully chemically modified crRNAs and tracrRNAs (containing no 2'-OH groups) that are functional in human cells. These designs will contribute to Cas9-based therapeutics since heavily modified RNAs tend to be more stable in vivo (thus increasing potency). We anticipate that our designs will improve the use of Cas9 via RNP and mRNA delivery for in vivo and ex vivo purposes.PMID: 29980686 PMCID: PMC6035171 DOI: 10.1038/s41467-018-05073-z ShareImages from this publication.See all images  (5)Free textFig. 1Initial screening of chemical modifications in the crRNA. a Schematic of Cas9 RNP paired with target DNA. The secondary structure elements of crRNA and tracrRNA are labeled. RNA is shown in orange, whereas DNA is in gray. The PAM sequence is highlighted red and cleavage sites are marked with arrows. b Chemical modifications used in this study. c Bar graph showing mCherry-positive cells after electroporation of HEK293T-TLR cells with RNPs that included the indicated crRNAs and an unmodified tracrRNA. Error bars represent standard deviation (SD) resulting from at least three biological replicatesHeavily and fully modified RNAs guide efficient SpyCas9-mediated genome editingNat Commun. 2018;9:2641.Fig. 2Second round of chemical optimization of CRISPR RNAs. The optimized crRNA designs are shown in a, whereas chemical designs of tracrRNA are shown in b. Each crRNA was tested with the unmodified tracrRNA T0, whereas each tracrRNA was tested with the unmodified crRNA C0. The bar graphs show the percent of cells expressing mCherry, ±SD. Each RNA was tested in triplicateHeavily and fully modified RNAs guide efficient SpyCas9-mediated genome editingNat Commun. 2018;9:2641.Fig. 3Cas9 tolerates heavily and fully modified crRNA:tracrRNA. a, b Each crRNA was tested with tracrRNAs T0, T2, and T6–T8 using 20 pmol of Cas9 RNP. c HEK293T-TLR cells were also electroporated with 100 pmol of the indicated RNPs to test whether heavily modified RNAs regain functionality at higher doses. Error bars show ± SD of three biological replicatesHeavily and fully modified RNAs guide efficient SpyCas9-mediated genome editingNat Commun. 2018;9:2641.Fig. 4Targeting endogenous genes with modified RNAs. a The C10 guide design targeting HTT exon 50 was tested using 20 pmol of RNP along with T2 and T6–T8 in HEK293T cells. b HTT-C20 and HTT-C21 designs were tested using 80 pmol of Cas9 RNP with the indicated tracrRNAs. c The therapeutically relevant HBB locus was targeted using a previously validated guide sequence incorporated into the C20 design. d, e VEGFA-targeting crRNAs C20 and C21 were tested using the indicated tracrRNAs with 80 pmol of RNP in HEK293T cells (d) or 60 pmol of RNP in hESCs (e). Indels were calculated using TIDE. Bars show averages (±SD) of at least three biological replicatesHeavily and fully modified RNAs guide efficient SpyCas9-mediated genome editingNat Commun. 2018;9:2641.Fig. 5Heavily and fully modified RNAs support precise genome editing. a Schematic of the Cas9-mediated homology-directed repair in HEK293T-TLR cells. Cells were electroporated with 20 pmoles of Cas9 RNP and 400 ng of 800 bp donor (PCR fragment). Precise repair of the DSB results in GFP expression (b), and NHEJ-mediated + 1 frameshifts result in mCherry expression (c). d The fully modified C21:T8 dual guides were tested using 100 pmoles of Cas9 RNP to test whether fully modified RNAs recover HDR activity at higher doses. Bars show averages (±SD) of three biological replicatesHeavily and fully modified RNAs guide efficient SpyCas9-mediated genome editingNat Commun. 2018;9:2641.Grant supportGrant supportA-10199/CHDI Foundation (CHDI)/LinkOut - more resourcesFull Text SourcesNature Publishing GroupPubMed Central\n",
      "\n",
      "\n",
      "Evid Based Complement Alternat Med. 2018 Jun 7;2018:9521086. doi: 10.1155/2018/9521086. eCollection  2018.Physical and Mental Effects of Bathing: A Randomized Intervention Study.Goto Y1, Hayasaka S1,2, Kurihara S1, Nakamura Y3.Author information1ONSEN Medical Science Research Center, Japan Health & Research Institute, 3-1-4 Nihonbashi, Chuo-ku, Tokyo 103-0014, Japan.2Tokyo City University, 8-9-18 Todoroki, Setagaya-ku, Tokyo 158-8586, Japan.3Jichi Medical University, 3311-1 Yakushiji, Shimosa City, Tochigi 329-0498, Japan.AbstractShowering is the most common form of bathing worldwide. Whole-body immersion bathing in warm water (~40°C) is common in Japan and exerts sufficient hyperthermic action to induce vasodilatation and increase blood flow, supplying more oxygen and nutrients to the periphery. Cross-sectional studies report better subjective health status with an immersion bathing habit. This randomized controlled trial compared the effects on health of immersion bathing and shower bathing in 38 participants who received 2-week intervention of immersion bathing in warm water (40°C) for 10 min (bathing intervention) followed by 2-week shower bathing without immersion (showering intervention) or vice versa (n = 19 each group). Visual analog scale scores were significantly better for fatigue, stress, pain, and smile and tended to be better for self-reported heath and skin condition after bathing intervention than after showering intervention. The SF-8 Health Survey showed significantly better general health, mental health, role emotional, and social functioning scores. Profile of Mood State scores were lower for stress, tension-anxiety, anger-hostility, and depression-dejection. Immersion bathing, but not shower bathing, exerts hyperthermic action that induces increased blood flow and metabolic waste elimination, which may afford physical refreshment. Immersion bathing should improve both physical and emotional aspects of quality of life.PMID: 29977318 PMCID: PMC6011066 DOI: 10.1155/2018/9521086 Free PMC ArticleShareLinkOut - more resourcesFull Text SourcesHindawi Publishing CorporationEurope PubMed CentralPubMed Central\n",
      "\n",
      "\n",
      "N Engl J Med. 2018 Jul 5;379(1):64-73. doi: 10.1056/NEJMra1706169.Chimeric Antigen Receptor Therapy.June CH1, Sadelain M1.Author information1From the Center for Cellular Immunotherapies, Perelman School of Medicine, Department of Pathology and Laboratory Medicine, University of Pennsylvania, Philadelphia (C.H.J.); and the Center for Cell Engineering, Sloan Kettering Institute, Memorial Sloan Kettering Cancer Center, New York (M.S.).Comment inA Look Forward - The Frontiers in Medicine Series. [N Engl J Med.  2018]PMID: 29972754 DOI: 10.1056/NEJMra1706169 ShareLinkOut - more resourcesFull Text SourcesAtypon - PDFOvid Technologies, Inc.\n",
      "\n",
      "\n",
      "Nat Commun. 2018 Jul 6;9(1):2643. doi: 10.1038/s41467-018-05067-x.Human pluripotent reprogramming with CRISPR activators.Weltner J1, Balboa D2, Katayama S3, Bespalov M2, Krjutškov K3,4, Jouhilahti EM2, Trokovic R2, Kere J5,6,7,8, Otonkoski T9,10.Author information1Research Programs Unit, Molecular Neurology and Biomedicum Stem Cell Centre, Faculty of Medicine, University of Helsinki, Helsinki, 00014, Finland. jere.weltner@helsinki.fi.2Research Programs Unit, Molecular Neurology and Biomedicum Stem Cell Centre, Faculty of Medicine, University of Helsinki, Helsinki, 00014, Finland.3Department of Biosciences and Nutrition, Karolinska Institutet, Huddinge, 141 83, Sweden.4Competence Centre on Health Technologies, Tartu, 50410, Estonia.5Research Programs Unit, Molecular Neurology and Biomedicum Stem Cell Centre, Faculty of Medicine, University of Helsinki, Helsinki, 00014, Finland. juha.kere@ki.se.6Department of Biosciences and Nutrition, Karolinska Institutet, Huddinge, 141 83, Sweden. juha.kere@ki.se.7School of Basic and Medical Biosciences, Guy's Hospital, King's College London, London, SE1 9RT, UK. juha.kere@ki.se.8Folkhälsan Institute of Genetics, Helsinki, 00290, Finland. juha.kere@ki.se.9Research Programs Unit, Molecular Neurology and Biomedicum Stem Cell Centre, Faculty of Medicine, University of Helsinki, Helsinki, 00014, Finland. timo.otonkoski@helsinki.fi.10Children's Hospital, Helsinki University Central Hospital, University of Helsinki, Helsinki, 00290, Finland. timo.otonkoski@helsinki.fi.AbstractCRISPR-Cas9-based gene activation (CRISPRa) is an attractive tool for cellular reprogramming applications due to its high multiplexing capacity and direct targeting of endogenous loci. Here we present the reprogramming of primary human skin fibroblasts into induced pluripotent stem cells (iPSCs) using CRISPRa, targeting endogenous OCT4, SOX2, KLF4, MYC, and LIN28A promoters. The low basal reprogramming efficiency can be improved by an order of magnitude by additionally targeting a conserved Alu-motif enriched near genes involved in embryo genome activation (EEA-motif). This effect is mediated in part by more efficient activation of NANOG and REX1. These data demonstrate that human somatic cells can be reprogrammed into iPSCs using only CRISPRa. Furthermore, the results unravel the involvement of EEA-motif-associated mechanisms in cellular reprogramming.PMID: 29980666 PMCID: PMC6035213 DOI: 10.1038/s41467-018-05067-x ShareImages from this publication.See all images  (6)Free textFig. 1CRISPRa-mediated reprogramming of NSCs and EEA-motif targeting. a Schematic representation of dCas9VPH structure. b Schematic representation of NSC reprogramming into iPSCs with dCas9VPH mediated OCT4 activation. c Immunocytochemical detection of pluripotency markers in NCS-derived iPSCs (top row) and tri-lineage differentiation in plated embryoid bodies (bottom row). Nuclei stained blue. Scale bar = 200 µm. d Targeting of EGA enriched Alu-motif with SpdCas9 gRNAs. e Quantification of iPSC-like alkaline phosphatase positive colonies induced from NSCs. n = 6 independent inductions (P = 0.053, OCT4 targeting with EEA-gRNAs vs. without EEA-gRNAs). Data presented as mean ± s.e.m., two-tailed Student’s t-testHuman pluripotent reprogramming with CRISPR activatorsNat Commun. 2018;9:2643.Fig. 2Optimization of dCas9 activator and gRNA targeting in HEK293 for reprogramming factor activation. a Locations of promoter targeting gRNAs for reprogramming factors (OCT4, SOX2, KLF4, C-MYC, LIN28A, and NANOG) in relation to transcription start site. b Immunocytochemical staining of reprogramming factors after single gRNA activation and pooled mixture of five guides in HEK293 with dCas9VPH. Pictures are in similar order to guides in Fig. 2a. Best performing guides used for plasmid cloning are marked with dotted lines. Scale bar = 400 µm. c Schematic representation of concatenated reprogramming factor gRNA plasmid construction. d Reprogramming factor activation by qRT-PCR, in HEK293 cells 3 days after transfection and HFFs 4 days after electroporation, using transiently expressed dCas9VPH effector. n = 3, data are from three independently treated samples. Data presented as mean ± s.e.m., two tailed Student’s t-test. *P < 0.05, **P < 0.01, ***P < 0.001Human pluripotent reprogramming with CRISPR activatorsNat Commun. 2018;9:2643.Fig. 3EEA-motif targeting enhances derivation of CRISPRa iPSCs from primary skin fibroblasts. a Schematic representation of skin fibroblast reprogramming with dCas9 activators. b Pluripotency factor expression in CRISPR-iPSC colonies (top row, scale bar = 400 µm) and tri-lineage differentiation markers for ectoderm (TUBB3), mesoderm (Vimentin and α-SMA), and endoderm (SOX17 and FOXA2) in embryoid bodies (middle row, scale bar = 200 µm) and teratomas (bottom row, scale bar = 800 µm). c Normal 46, XX karyotype of a CRISPRa iPSC line HEL139.2. d Principal component analysis of CRISPR iPSC lines, control PSC lines and HFFs based on expression of 123 significantly fluctuated genes. e Clustering of iPSC lines and HFFs based on expression of 85 significantly fluctuated and differentially regulated genes. f Clustering of CRISPR iPSC lines and control pluripotent stem cells based on DNA methylation. g Effect of VP192 and VPH domains and EEA-motif targeting on CRISPRa reprogramming efficiency of HFFs. n = 6 from three independent experiments. Data presented as mean ± s.e.m., two tailed Student’s t-test. **P < 0.01Human pluripotent reprogramming with CRISPR activatorsNat Commun. 2018;9:2643.Fig. 4Transcriptional analysis of reprogramming cell populations. a Schematic representation of skin fibroblast reprograming with dCas9VP192 for RNA sequencing samples. b Clustering of all reprogramming samples based on expression of 4972 significantly fluctuated genes. Group 6 represents genes upregulated specifically by EEA-guides at day 12. c Upregulated genes at day 12 of reprogramming in OMKSL + KM + EEA targeted cells (Group 6). d Clustering of samples within day 4, 8, and 12 time points based on differentially regulated genesHuman pluripotent reprogramming with CRISPR activatorsNat Commun. 2018;9:2643.Fig. 5EEA-motif targeting improves NANOG and REX1 activation. a Immunostaining of emerging iPSC colonies detects activation of targeted LIN28A before its mRNA reads become detectable in bulk RNA-seq. Scale bar = 400 µm. b HFF reprogramming efficiency after transgenic expression of additional factors belonging to Group 6 (Fig. ). n = 5, three independent experiments. c qRT-PCR quantification of NANOG and REX1 activation using dCas9VP192 with and without EEA-motif gRNAs in HEK293. n = 3, three independent experiments. d NANOG activation can be detected by immunostaining in CRISPRa reprogramming colonies 2 days earlier in the presence of EEA-motif targeting guides. Scale bar = 200 µm. Data presented as mean ± s.e.m., two tailed Student’s t-test. **P < 0.01, ***P < 0.001Human pluripotent reprogramming with CRISPR activatorsNat Commun. 2018;9:2643.Fig. 6EGA-enriched Alu-motif targeting is associated with activation and chromatin opening. a Effect of single EEA-motif targeting gRNAs (Fig. ) on CRISPRa reprogramming efficiency of HFFs. n = 3, data are from three independent experiments. b Schematic representation of EEA-motif reporter plasmid activation. c qRT-PCR quantification of mCherry reporter activation with EEA-motif gRNAs 1 and 2 in reporter transfected HEK293 relative to five gRNAs. EEA-g1 activates the reporter with higher efficiency than EEA-g2 (P = 0.02). n = 3, three independent experiments. d Expression of Alu derived transcripts in STRT-seq data of pluripotent stem cells and CRISPRa reprogramming cell populations. Centre line, box, and whiskers represent median, quartiles, and 1.5 IQR, respectively. e Effect of dCas9 fusion domain on reprogramming efficiency in transgenic reprogramming with OCT4, SOX2, KLF4, LIN28, L-MYC, and EEA-g1. n = 6, data are from three independent experiments. f Increase in the presence of EEA-g1 sequence in ATAC-seq peaks in TetON-DDdCas9GFP and EEA-g1 expressing HEK293. ctrl n = 3, DOX + TMP n = 5. g Effect of dCas9 fusion domain on reprogramming efficiency in transgenic reprogramming with OCT4, SOX2, LIN28, L-MYC, and EEA-g1. n = 6, data are from three independent experiments. h Schematic model of EEA-motif targeting in gene activation and reprogramming. Data presented as mean ± s.e.m., two tailed Student’s t-test. *P < 0.05, **P < 0.01Human pluripotent reprogramming with CRISPR activatorsNat Commun. 2018;9:2643.LinkOut - more resourcesFull Text SourcesNature Publishing GroupPubMed CentralMiscellaneousNCI CPTC Antibody Characterization Program\n",
      "\n",
      "\n",
      "JAMA. 2018 Jul 6. doi: 10.1001/jama.2018.8877. [Epub ahead of print]Long-acting Reversible Contraception-Highly Efficacious, Safe, and Underutilized.Wu JP1, Moniz MH2, Ursu AN3.Author information1Department of Family Medicine, Institute for Healthcare Policy and Innovation, University of Michigan, Ann Arbor.2Department of Obstetrics and Gynecology, Institute for Healthcare Policy and Innovation, University of Michigan, Ann Arbor.3Department of Family Medicine, University of Michigan, Ann Arbor.PMID: 29984374 DOI: 10.1001/jama.2018.8877 ShareLinkOut - more resourcesFull Text SourcesSilverchair Information Systems\n",
      "\n",
      "\n",
      "Cell. 2018 Apr 5;173(2):278-280. doi: 10.1016/j.cell.2018.03.047.Günter Blobel (1936–2018)Simon SM.PMID: 29975496 PMCID: PMC6018020 Free PMC ArticleShareImages from this publication.See all images  (1)Free textFigureGünter Blobel with his wife Laura Maioglio in the 70s. Blobel was never done discussing science when dinner called, so visiting scientists were routinely brought along to Barbetta, Laura’s northern Italian restaurant on New York’s Theatre row.Obituary: Günter Blobel (1936–2018)Cell. 2018 Apr 5;173(2):278-280.Grant supportGrant supportR01 GM119585/GM/NIGMS NIH HHS/United StatesR56 CA207929/CA/NCI NIH HHS/United StatesLinkOut - more resourcesFull Text SourcesEurope PubMed Central - Author ManuscriptPubMed Central - Author Manuscript\n",
      "\n",
      "\n",
      "Nature. 2018 Jul;559(7713):259-263. doi: 10.1038/s41586-018-0278-9. Epub  2018 Jul 4.Species-specific activity of antibacterial drug combinations.Brochado AR1, Telzerow A1, Bobonis J1, Banzhaf M1,2, Mateus A1, Selkrig J1, Huth E3, Bassler S1, Zamarreño Beas J4, Zietek M1, Ng N5, Foerster S6, Ezraty B4, Py B4, Barras F4,7, Savitski MM1, Bork P8,9,10,11, Göttig S3, Typas A12,13.Author information1European Molecular Biology Laboratory, Genome Biology Unit, Heidelberg, Germany.2Institute of Microbiology & Infection, School of Biosciences, University of Birmingham, Birmingham, UK.3Institute of Medical Microbiology and Infection Control, Hospital of Goethe University, Frankfurt am Main, Germany.4Laboratoire de Chimie Bactérienne, Institut de Microbiologie de la Méditerranée, CNRS UMR 7283, Aix-Marseille Université, Marseille, France.5Department of Bioengineering, Stanford University, Stanford, CA, USA.6Institute of Social & Preventive Medicine, Institute of Infectious Diseases, University of Bern, Bern, Switzerland.7Institut Pasteur, Paris, France.8European Molecular Biology Laboratory, Structural & Computational Biology Unit, Heidelberg, Germany.9Max-Delbrück-Centre for Molecular Medicine, Berlin, Germany.10Molecular Medicine Partnership Unit, Heidelberg, Germany.11Department of Bioinformatics, Biocenter, University of Würzburg, Würzburg, Germany.12European Molecular Biology Laboratory, Genome Biology Unit, Heidelberg, Germany. typas@embl.de.13European Molecular Biology Laboratory, Structural & Computational Biology Unit, Heidelberg, Germany. typas@embl.de.AbstractThe spread of antimicrobial resistance has become a serious public health concern, making once-treatable diseases deadly again and undermining the achievements of modern medicine1,2. Drug combinations can help to fight multi-drug-resistant bacterial infections, yet they are largely unexplored and rarely used in clinics. Here we profile almost 3,000 dose-resolved combinations of antibiotics, human-targeted drugs and food additives in six strains from three Gram-negative pathogens-Escherichia coli, Salmonella enterica serovar Typhimurium and Pseudomonas aeruginosa-to identify general principles for antibacterial drug combinations and understand their potential. Despite the phylogenetic relatedness of the three species, more than 70% of the drug-drug interactions that we detected are species-specific and 20% display strain specificity, revealing a large potential for narrow-spectrum therapies. Overall, antagonisms are more common than synergies and occur almost exclusively between drugs that target different cellular processes, whereas synergies are more conserved and are enriched in drugs that target the same process. We provide mechanistic insights into this dichotomy and further dissect the interactions of the food additive vanillin. Finally, we demonstrate that several synergies are effective against multi-drug-resistant clinical isolates in vitro and during infections of the larvae of the greater wax moth Galleria mellonella, with one reverting resistance to the last-resort antibiotic colistin.PMID: 29973719 DOI: 10.1038/s41586-018-0278-9 ShareLinkOut - more resourcesFull Text SourcesNature Publishing Group\n",
      "\n",
      "\n",
      "Nat Biotechnol. 2018 Jul 3. doi: 10.1038/nbt.4194. [Epub ahead of print]Optimized base editors enable efficient editing in cells, organoids and mice.Zafra MP1, Schatoff EM1,2, Katti A1,3, Foronda M1, Breinig M4, Schweitzer AY4, Simon A1, Han T1,3, Goswami S1, Montgomery E1, Thibado J3, Kastenhuber ER5,6, Sánchez-Rivera FJ5, Shi J7,8, Vakoc CR7, Lowe SW5,9, Tschaharganeh DF4, Dow LE1,3,10.Author information1Sandra and Edward Meyer Cancer Center, Department of Medicine, Weill Cornell Medicine, New York, New York, USA.2Weill Cornell/Rockefeller/Sloan-Kettering Tri-Institutional MD-PhD program, New York, New York, USA.3Weill Cornell Graduate School of Medical Sciences, Weill Cornell Medicine, New York, New York, USA.4Helmholtz-University Group 'Cell Plasticity and Epigenetic Remodeling', German Cancer Research Center (DKFZ) and Institute of Pathology, University Hospital, Heidelberg, Germany.5Cancer Biology and Genetics, Memorial Sloan Kettering Cancer Center, New York, New York, USA.6Gerstner Sloan Kettering Graduate School of Biomedical Sciences, New York, New York, USA.7Cold Spring Harbor Laboratory, New York, New York, USA.8Department of Cancer Biology, Perelman School of Medicine, University of Pennsylvania, Philadelphia, Pennsylvania, USA.9Howard Hughes Medical Institute, Memorial Sloan Kettering Cancer Center, New York, New York, USA.10Department of Biochemistry, Weill Cornell Medicine, New York, New York, USA.AbstractCRISPR base editing enables the creation of targeted single-base conversions without generating double-stranded breaks. However, the efficiency of current base editors is very low in many cell types. We reengineered the sequences of BE3, BE4Gam, and xBE3 by codon optimization and incorporation of additional nuclear-localization sequences. Our collection of optimized constitutive and inducible base-editing vector systems dramatically improves the efficiency by which single-nucleotide variants can be created. The reengineered base editors enable target modification in a wide range of mouse and human cell lines, and intestinal organoids. We also show that the optimized base editors mediate efficient in vivo somatic editing in the liver in adult mice.PMID: 29969439 DOI: 10.1038/nbt.4194 ShareLinkOut - more resourcesFull Text SourcesNature Publishing GroupResearch MaterialsGet Article's Plasmids - Addgene - Addgene Non-profit plasmid repository\n",
      "\n",
      "\n"
     ]
    },
    {
     "data": {
      "text/plain": [
       "20"
      ]
     },
     "execution_count": 43,
     "metadata": {},
     "output_type": "execute_result"
    }
   ],
   "source": [
    "for i in abstract:\n",
    "    print(i)\n",
    "    print(\"\\n\")\n",
    "\n",
    "len(abstract)"
   ]
  },
  {
   "cell_type": "markdown",
   "metadata": {},
   "source": [
    "## Add title and abstract to article_dict"
   ]
  },
  {
   "cell_type": "code",
   "execution_count": 44,
   "metadata": {
    "scrolled": false
   },
   "outputs": [
    {
     "name": "stdout",
     "output_type": "stream",
     "text": [
      "{'title': [['The Link between the Appendix and Ulcerative Colitis: Clinical Relevance and Potential Immunological Mechanisms.', 'Ketorolac for postoperative pain in children.', 'Validation of Plasma Biomarker Candidates for the Prediction of eGFR Decline in Patients With Type 2 Diabetes.', 'DNA-induced liquid phase condensation of cGAS activates innate immune signaling.', 'Patisiran, an RNAi Therapeutic, for Hereditary Transthyretin Amyloidosis.', 'CRISPR screens identify genomic ribonucleotides as a source of PARP-trapping lesions.', 'Enhancing T cell therapy through TCR-signaling-responsive nanoparticle drug delivery.', 'Publisher Correction: A naturally occurring antiviral ribonucleotide encoded by the human genome.', 'Author Correction: Reduced mutation rate in exons due to differential mismatch repair.', 'Author Correction: What models eat.', 'Cancer-associated thrombosis in patients with implanted ports: a prospective multicenter French cohort study (ONCOCIP).', 'A novel chemical compound SINCRO with dual function in the STING-type I interferon and tumor cell death pathways.', 'Heavily and fully modified RNAs guide efficient SpyCas9-mediated genome editing.', 'Physical and Mental Effects of Bathing: A Randomized Intervention Study.', 'Chimeric Antigen Receptor Therapy.', 'Human pluripotent reprogramming with CRISPR activators.', 'Long-acting Reversible Contraception-Highly Efficacious, Safe, and Underutilized.', 'Günter Blobel (1936–2018)', 'Species-specific activity of antibacterial drug combinations.', 'Optimized base editors enable efficient editing in cells, organoids and mice.']], 'abstract': [[\"Am J Gastroenterol. 2016 Feb;111(2):163-9. doi: 10.1038/ajg.2015.301. Epub  2015 Sep 29.The Link between the Appendix and Ulcerative Colitis: Clinical Relevance and Potential Immunological Mechanisms.Sahami S1, Kooij IA2, Meijer SL3, Van den Brink GR2,4, Buskens CJ1, Te Velde AA2.Author information1Department of Surgery, Academic Medical Centre, Amsterdam, The Netherlands.2Tytgat Institute for Liver and Intestinal Research, Academic Medical Center, Amsterdam, The Netherlands.3Department of Pathology, Academic Medical Center, Amsterdam, The Netherlands.4Department of Gastroenterology, Academic Medical Center, Amsterdam, The Netherlands.AbstractThe human appendix has long been considered as a vestigial organ, an organ that has lost its function during evolution. In recent years, however, reports have emerged that link the appendix to numerous immunological functions in humans. Evidence has been presented for an important role of the appendix in maintaining intestinal health. This theory suggests that the appendix may be a reservoir or 'safe house' from which the commensal gut flora can rapidly be reestablished if it is eradicated from the colon. However, the appendix may also have a role in the development of inflammatory bowel disease (IBD). Several large epidemiological cohort studies have demonstrated the preventive effect of appendectomy on the development of ulcerative colitis, a finding that has been confirmed in murine colitis models. In addition, current studies are examining the possible therapeutic effect of an appendectomy to modulate disease course in patients with ulcerative colitis. This literature review assesses the current knowledge about the clinical and immunological aspects of the vermiform appendix in IBD and suggests that the idea of the appendix as a vestigial remnant should be discarded.PMID: 26416189 DOI: 10.1038/ajg.2015.301  [Indexed for MEDLINE] SharePublication type, MeSH terms, SubstancePublication typeReviewMeSH termsAppendectomyAppendix/immunology*Appendix/microbiologyB-Lymphocytes/immunologyColitis, Ulcerative/epidemiologyColitis, Ulcerative/immunology*Crohn Disease/epidemiologyCrohn Disease/immunologyDisease ProgressionDysbiosis/epidemiologyDysbiosis/immunology*Gastrointestinal Microbiome/immunology*HumansImmunoglobulin A/immunologyNatural Killer T-Cells/immunologyProtective FactorsSeverity of Illness IndexSubstanceImmunoglobulin ALinkOut - more resourcesFull Text SourcesNature Publishing GroupMedicalUlcerative Colitis - Genetic AllianceUlcerative Colitis - MedlinePlus Health Information\", \"Cochrane Database Syst Rev. 2018 Jul 7;7:CD012294. doi: 10.1002/14651858.CD012294.pub2. [Epub ahead of print]Ketorolac for postoperative pain in children.McNicol ED1, Rowe E, Cooper TE.Author information1Department of Anesthesiology and Perioperative Medicine, Tufts Medical Center, Boston, Massachusetts, USA.AbstractBACKGROUND: Children who undergo surgical procedures in ambulatory and inpatient settings are at risk of experiencing acute pain. Nonsteroidal anti-inflammatory drugs (NSAIDs) can reduce moderate to severe pain without many of the side effects associated with opioids. However, NSAIDs may cause bleeding, renal and gastrointestinal toxicity, and potentially delay wound and bone healing. Intravenous administration of ketorolac for postoperative pain in children has not been approved in many countries, but is routinely administered in clinical practise.OBJECTIVES: To assess the efficacy and safety of ketorolac for postoperative pain in children.SEARCH METHODS: We searched the following databases, without language restrictions, to November 2017: CENTRAL (The Cochrane Library 2017, Issue 10); MEDLINE, Embase, and LILACS. We also checked clinical trials registers and reference lists of reviews, and retrieved articles for additional studies.SELECTION CRITERIA: We included randomised controlled trials that compared the analgesic efficacy of ketorolac (in any dose, administered via any route) with placebo or another active treatment, in treating postoperative pain in participants zero to 18 years of age following any type of surgery.DATA COLLECTION AND ANALYSIS: We used standard methodological procedures expected by Cochrane. Two review authors independently considered trials for inclusion in the review, assessed risk of bias, and extracted data. We analyzed trials in two groups; ketorolac versus placebo, and ketorolac versus opioid. However, we performed limited pooled analyses. We assessed the overall quality of the evidence for each outcome using GRADE, and created a 'Summary of findings' table.MAIN RESULTS: We included 13 studies, involving 920 randomised participants. There was considerable heterogeneity among study designs, including the comparator arms (placebo, opioid, another NSAID, or a different regimen of ketorolac), dosing regimens (routes and timing of administration, single versus multiple dose), outcome assessment methods, and types of surgery. Mean study population ages ranged from 356 days to 13.9 years. The majority of studies chose a dose of either 0.5 mg/kg (as a single or multiple dose regimen) or 1 mg/kg (single dose with 0.5 mg/kg for any subsequent doses). One study administered interventions intraoperatively; the remainder administered interventions postoperatively, often after the participant reported moderate to severe pain.There were insufficient data to perform meta-analysis for either of our primary outcomes: participants with at least 50% pain relief; or mean postoperative pain intensity. Four studies individually reported statistically significant reductions in pain intensity when comparing ketorolac with placebo, but the studies were small and had various risks of bias, primarily due to incomplete outcome data and small sample sizes.We found limited data available for the secondary outcomes of participants requiring rescue medication and opioid consumption. For the former, we saw no clear difference between ketorolac and placebo; 74 of 135 (55%) participants receiving ketorolac required rescue analgesia in the post-anaesthesia care unit (PACU) versus 81 of 127 (64%) receiving placebo (relative risk (RR) 0.85, 95% confidence interval (CI) 0.71 to 1.00, P = 0.05; 4 studies, 262 participants). For opioid consumption in the PACU, we saw no clear difference between ketorolac and placebo (P = 0.61). For the time period zero to four hours after administration of the interventions, participants receiving ketorolac received 1.58 mg less intravenous morphine equivalents than those receiving placebo (95% CI -2.58 mg to -0.57 mg, P = 0.002; 2 studies, 129 participants). However, we are uncertain whether ketorolac has an important effect on opioid consumption, as the data were sparse and the results were inconsistent. Only one study reported data for opioid consumption when comparing ketorolac with an opioid. There were no clear differences between the ketorolac and opioid group at any time point. There were no data assessing this outcome for the comparison of ketorolac with another NSAID.There were insufficient data to allow us to analyze overall adverse event or serious adverse event rates. Although the majority of serious adverse events reported in those receiving ketorolac involved bleeding, the number of events was too low to conclude that bleeding risk was increased in those receiving ketorolac perioperatively. There was not a statistically significant increase in event rates for any specific adverse event, either in pooled analysis or in single studies, when comparing ketorolac and placebo. When comparing ketorolac with opioids or other NSAIDs, there were too few data to make any conclusions regarding event rates. Lastly, withdrawals due to adverse events were vary rare in all groups, reflecting the acute nature of such studies.We assessed the quality of evidence for all outcomes for each comparison (placebo or active) as very low, due to issues with risk of bias in individual studies, imprecision, heterogeneity between studies, and low overall numbers of participants and events.AUTHORS' CONCLUSIONS: Due to the lack of data for our primary outcomes, and the very low-quality evidence for secondary outcomes, the efficacy and safety of ketorolac in treating postoperative pain in children were both uncertain. The evidence was insufficient to support or reject its use.PMID: 29981164 DOI: 10.1002/14651858.CD012294.pub2 SharePublication typePublication typeReviewLinkOut - more resourcesFull Text SourcesWiley\", 'Diabetes Care. 2018 Jul 6. pii: dc180532. doi: 10.2337/dc18-0532. [Epub ahead of print]Validation of Plasma Biomarker Candidates for the Prediction of eGFR Decline in Patients With Type 2 Diabetes.Heinzel A1, Kammer M1,2, Mayer G3, Reindl-Schwaighofer R1, Hu K1, Perco P3, Eder S3, Rosivall L4, Mark PB5, Ju W6, Kretzler M6, Gilmour P7, Wilson JM8, Duffin KL8, Abdalla M9,10,11, McCarthy MI9,10,12, Heinze G2, Heerspink HL13, Wiecek A14, Gomez MF15, Oberbauer R16; BEAt-DKD Consortium.Author information1Department of Nephrology, Medical University of Vienna, Vienna, Austria.2Center for Medical Statistics, Informatics and Intelligent Systems (CeMSIIS), Section for Clinical Biometrics, Medical University of Vienna, Vienna, Austria.3Department of Internal Medicine IV (Nephrology and Hypertension), Medical University of Innsbruck, Innsbruck, Austria.4International Nephrology Research and Training Centre, Institute of Pathophysiology, Semmelweis University, Budapest, Hungary.5Institute of Cardiovascular and Medical Sciences, University of Glasgow, Glasgow, U.K.6Department of Internal Medicine, Department of Computational Medicine and Bioinformatics, University of Michigan, Ann Arbor, MI.7Astellas Pharma Europe B.V., Leiden, the Netherlands.8Lilly Research Laboratories, Eli Lilly and Company, Indianapolis, IN.9Oxford Centre for Diabetes, Endocrinology and Metabolism, University of Oxford, Oxford, U.K.10Wellcome Trust Centre for Human Genetics, University of Oxford, Oxford, U.K.11Computational Statistics and Machine Learning, Department of Statistics, University of Oxford, Oxford, U.K.12Oxford National Institute for Health Research Biomedical Research Centre, Churchill Hospital, Oxford, U.K.13Clinical Pharmacy and Pharmacology, Faculty of Medical Sciences, University Medical Center Groningen, Groningen, the Netherlands.14Department of Nephrology, Transplantation and Internal Medicine, Medical University of Silesia in Katowice, Katowice, Poland.15Department of Clinical Sciences in Malmö, Lund University Diabetes Centre, Lund, Sweden.16Department of Nephrology, Medical University of Vienna, Vienna, Austria rainer.oberbauer@meduniwien.ac.at.AbstractOBJECTIVE: The decline of estimated glomerular filtration rate (eGFR) in patients with type 2 diabetes is variable, and early interventions would likely be cost-effective. We elucidated the contribution of 17 plasma biomarkers to the prediction of eGFR loss on top of clinical risk factors.RESEARCH DESIGN AND METHODS: We studied participants in PROVALID (PROspective cohort study in patients with type 2 diabetes mellitus for VALIDation of biomarkers), a prospective multinational cohort study of patients with type 2 diabetes and a follow-up of more than 24 months (n = 2,560; baseline median eGFR, 84 mL/min/1.73 m2; urine albumin-to-creatinine ratio, 8.1 mg/g). The 17 biomarkers were measured at baseline in 481 samples using Luminex and ELISA. The prediction of eGFR decline was evaluated by linear mixed modeling.RESULTS: In univariable analyses, 9 of the 17 markers showed significant differences in median concentration between stable and fast-progressing patients. A linear mixed model for eGFR obtained by variable selection exhibited an adjusted R2 of 62%. A panel of 12 biomarkers was selected by the procedure and accounted for 34% of the total explained variability, of which 32% were due to 5 markers. The individual contribution of each biomarker to the prediction of eGFR decline on top of clinical predictors was generally low. When included into the model, baseline eGFR exhibited the largest explained variability of eGFR decline (R2 of 79%), and the contribution of each biomarker dropped below 1%.CONCLUSIONS: In this longitudinal study of patients with type 2 diabetes and maintained eGFR at baseline, 12 of the 17 candidate biomarkers were associated with eGFR decline, but their predictive power was low.© 2018 by the American Diabetes Association.PMID: 29980527 DOI: 10.2337/dc18-0532 ShareLinkOut - more resourcesFull Text SourcesHighWireMiscellaneousNCI CPTAC Assay PortalNCI CPTC Antibody Characterization Program', 'Science. 2018 Jul 5. pii: eaat1022. doi: 10.1126/science.aat1022. [Epub ahead of print]DNA-induced liquid phase condensation of cGAS activates innate immune signaling.Du M1,2, Chen ZJ3,2,4.Author information1Department of Molecular Biology, University of Texas Southwestern Medical Center, Dallas, TX 75390-9148, USA.2Center for Inflammation Research, University of Texas Southwestern Medical Center, Dallas, TX 75390-9148, USA.3Department of Molecular Biology, University of Texas Southwestern Medical Center, Dallas, TX 75390-9148, USA. zhijian.chen@utsouthwestern.edu.4Howard Hughes Medical Institute, University of Texas Southwestern Medical Center, Dallas, TX 75390-9148, USA.AbstractThe binding of DNA to cyclic GMP-AMP synthase (cGAS) leads to the production of the secondary messenger cyclic GMP-AMP (cGAMP), which activates innate immune responses. Here, we show that DNA binding to cGAS robustly induced the formation of liquidlike droplets in which cGAS was activated. The disordered and positively charged cGAS N terminus enhanced cGAS-DNA phase separation by increasing the valencies of DNA binding. Long DNA was more efficient in promoting cGAS liquid phase separation and cGAS enzyme activity than short DNA. Moreover, free zinc ion enhanced cGAS enzyme activity both in vitro and in cells by promoting cGAS-DNA phase separation. These results demonstrated that the DNA-induced phase transition of cGAS promotes cGAMP production and innate immune signaling.PMID: 29976794 DOI: 10.1126/science.aat1022 ShareLinkOut - more resourcesFull Text SourcesHighWire - PDF', \"N Engl J Med. 2018 Jul 5;379(1):11-21. doi: 10.1056/NEJMoa1716153.Patisiran, an RNAi Therapeutic, for Hereditary Transthyretin Amyloidosis.Adams D1, Gonzalez-Duarte A1, O'Riordan WD1, Yang CC1, Ueda M1, Kristen AV1, Tournev I1, Schmidt HH1, Coelho T1, Berk JL1, Lin KP1, Vita G1, Attarian S1, Planté-Bordeneuve V1, Mezei MM1, Campistol JM1, Buades J1, Brannagan TH 3rd1, Kim BJ1, Oh J1, Parman Y1, Sekijima Y1, Hawkins PN1, Solomon SD1, Polydefkis M1, Dyck PJ1, Gandhi PJ1, Goyal S1, Chen J1, Strahs AL1, Nochur SV1, Sweetser MT1, Garg PP1, Vaishnaw AK1, Gollob JA1, Suhr OB1.Author information1From Assistance Publique-Hôpitaux de Paris (APHP), National Reference Center for Familial Amyloidotic Polyneuropathy, Centre Hospitalier Universitaire (CHU) Bicêtre, INSERM Unité 1195, Université Paris-Sud, Le Kremlin-Bicêtre (D.A.), the Department of Neuromuscular Disorders and ALS, Hôpital de la Timone, Marseille (S.A.), and the Department of Neurology, Amyloid Network, CHU Henri Mondor-APHP, Créteil (V.P.-B.) - all in France; the National Institute of Medical Sciences and Nutrition-Salvador Zubiran, Mexico City (A.G.-D.); the Department of Clinical Research, eStudySite, San Diego, CA (W.D.O.); the Department of Neurology, National Taiwan University Hospital (C.-C.Y.), and the Department of Neurology, Taipei Veterans General Hospital (K.-P.L.), Taipei, Taiwan; Kumamoto University Hospital, Kumamoto (M.U.), and the Department of Medicine (Neurology and Rheumatology), Shinshu University School of Medicine, Matsumoto (Y.S.) - both in Japan; the Department of Cardiology, University of Heidelberg, Heidelberg (A.V.K.), and Medizinische Klinik B für Gastroenterologie und Hepatologie, Universitätsklinikum Münster, Münster (H.H.S.) - both in Germany; University Multiprofile Hospital for Active Treatment, Sofia, Bulgaria (I.T.); Hospital de Santo António, Centro Hospitalar do Porto, Porto, Portugal (T.C.); the Amyloidosis Center, Department of Medicine, Boston Medical Center (J.L.B.), and Harvard Medical School (S.D.S.), Boston; the Department of Clinical and Experimental Medicine, University Hospital of Messina, Messina, Italy (G.V.); the Departments of Neurology and Medicine, Vancouver General Hospital, Vancouver, BC, Canada (M.M.M.); the Department of Nephrology, Hospital Clinic, Barcelona (J.M.C.), and the Balearic Islands Health Research Institute and Hospital Son Llatzer, Palma de Mallorca (J.B.) - all in Spain; the Department of Neurology, Columbia University, College of Physicians and Surgeons, New York (T.H.B.); Samsung Medical Center, Sungkyunkwan University School of Medicine (B.J.K.), and the the Department of Neurology, Konkuk University Medical Center (J.O.), Seoul, South Korea; the Department of Neurology, Istanbul University, Istanbul, Turkey (Y.P.); the Division of Medicine, University College London, London (P.N.H.); Johns Hopkins Bayview Medical Center, Baltimore (M.P.); the Department of Neurology, Mayo Clinic, Rochester, MN (P.J.D.); Alnylam Pharmaceuticals, Cambridge, MA (P.J.G., S.G., J.C., A.L.S., S.V.N., M.T.S., P.P.G., A.K.V., J.A.G.); and the Department of Public Health and Clinical Medicine, Umeå University, Umeå, Sweden (O.B.S.).AbstractBACKGROUND: Patisiran, an investigational RNA interference therapeutic agent, specifically inhibits hepatic synthesis of transthyretin.METHODS: In this phase 3 trial, we randomly assigned patients with hereditary transthyretin amyloidosis with polyneuropathy, in a 2:1 ratio, to receive intravenous patisiran (0.3 mg per kilogram of body weight) or placebo once every 3 weeks. The primary end point was the change from baseline in the modified Neuropathy Impairment Score+7 (mNIS+7; range, 0 to 304, with higher scores indicating more impairment) at 18 months. Other assessments included the Norfolk Quality of Life-Diabetic Neuropathy (Norfolk QOL-DN) questionnaire (range, -4 to 136, with higher scores indicating worse quality of life), 10-m walk test (with gait speed measured in meters per second), and modified body-mass index (modified BMI, defined as [weight in kilograms divided by square of height in meters]×albumin level in grams per liter; lower values indicated worse nutritional status).RESULTS: A total of 225 patients underwent randomization (148 to the patisiran group and 77 to the placebo group). The mean (±SD) mNIS+7 at baseline was 80.9±41.5 in the patisiran group and 74.6±37.0 in the placebo group; the least-squares mean (±SE) change from baseline was -6.0±1.7 versus 28.0±2.6 (difference, -34.0 points; P<0.001) at 18 months. The mean (±SD) baseline Norfolk QOL-DN score was 59.6±28.2 in the patisiran group and 55.5±24.3 in the placebo group; the least-squares mean (±SE) change from baseline was -6.7±1.8 versus 14.4±2.7 (difference, -21.1 points; P<0.001) at 18 months. Patisiran also showed an effect on gait speed and modified BMI. At 18 months, the least-squares mean change from baseline in gait speed was 0.08±0.02 m per second with patisiran versus -0.24±0.04 m per second with placebo (difference, 0.31 m per second; P<0.001), and the least-squares mean change from baseline in the modified BMI was -3.7±9.6 versus -119.4±14.5 (difference, 115.7; P<0.001). Approximately 20% of the patients who received patisiran and 10% of those who received placebo had mild or moderate infusion-related reactions; the overall incidence and types of adverse events were similar in the two groups.CONCLUSIONS: In this trial, patisiran improved multiple clinical manifestations of hereditary transthyretin amyloidosis. (Funded by Alnylam Pharmaceuticals; APOLLO ClinicalTrials.gov number, NCT01960348 .).Comment inOligonucleotide Drugs for Transthyretin Amyloidosis. [N Engl J Med.  2018]PMID: 29972753 DOI: 10.1056/NEJMoa1716153 SharePublication type, Secondary source IDPublication typeResearch Support, Non-U.S. Gov'tSecondary source IDClinicalTrials.gov/NCT01960348LinkOut - more resourcesFull Text SourcesAtypon - PDFOvid Technologies, Inc.MedicalClinicalTrials.govMiscellaneousNCI CPTC Antibody Characterization Program\", 'Nature. 2018 Jul;559(7713):285-289. doi: 10.1038/s41586-018-0291-z. Epub  2018 Jul 4.CRISPR screens identify genomic ribonucleotides as a source of PARP-trapping lesions.Zimmermann M1, Murina O2, Reijns MAM2, Agathanggelou A3, Challis R2, Tarnauskaitė Ž2, Muir M4, Fluteau A2, Aregger M5, McEwan A1, Yuan W6, Clarke M6, Lambros MB6, Paneesha S7, Moss P8, Chandrashekhar M5,9, Angers S10, Moffat J5,9,11, Brunton VG4, Hart T12, de Bono J6,13, Stankovic T3, Jackson AP14, Durocher D15,16.Author information1The Lunenfeld-Tanenbaum Research Institute, Mount Sinai Hospital, Toronto, Ontario, Canada.2MRC Human Genetics Unit, Institute of Genetics and Molecular Medicine, University of Edinburgh, Edinburgh, UK.3Institute for Cancer and Genomic Sciences, University of Birmingham, Birmingham, UK.4Cancer Research UK Edinburgh Centre, University of Edinburgh, Edinburgh, UK.5Donnelly Centre, University of Toronto, Toronto, Ontario, Canada.6The Institute of Cancer Research, London, UK.7Heartlands Hospital, Birmingham, UK.8Institute of Immunology and Immunotherapy, University of Birmingham, Birmingham, UK.9Department of Molecular Genetics, University of Toronto, Toronto, Ontario, Canada.10Department of Pharmaceutical Sciences, Leslie Dan Faculty of Pharmacy & Department of Biochemistry, Faculty of Medicine, University of Toronto, Toronto, Ontario, Canada.11Canadian Institute for Advanced Research, Toronto, Ontario, Canada.12Department of Bioinformatics and Computational Biology, The University of Texas MD Anderson Cancer Center, Houston, TX, USA.13Royal Marsden NHS Foundation Trust, London, UK.14MRC Human Genetics Unit, Institute of Genetics and Molecular Medicine, University of Edinburgh, Edinburgh, UK. andrew.jackson@igmm.ed.ac.uk.15The Lunenfeld-Tanenbaum Research Institute, Mount Sinai Hospital, Toronto, Ontario, Canada. durocher@lunenfeld.ca.16Department of Molecular Genetics, University of Toronto, Toronto, Ontario, Canada. durocher@lunenfeld.ca.AbstractThe observation that BRCA1- and BRCA2-deficient cells are sensitive to inhibitors of poly(ADP-ribose) polymerase (PARP) has spurred the development of cancer therapies that use these inhibitors to target deficiencies in homologous recombination1. The cytotoxicity of PARP inhibitors depends on PARP trapping, the formation of non-covalent protein-DNA adducts composed of inhibited PARP1 bound to DNA lesions of unclear origins1-4. To address the nature of such lesions and the cellular consequences of PARP trapping, we undertook three CRISPR (clustered regularly interspersed palindromic repeats) screens to identify genes and pathways that mediate cellular resistance to olaparib, a clinically approved PARP inhibitor1. Here we present a high-confidence set of 73 genes, which when mutated cause increased sensitivity to PARP inhibitors. In addition to an expected enrichment for genes related to homologous recombination, we discovered that mutations in all three genes encoding ribonuclease H2 sensitized cells to PARP inhibition. We establish that the underlying cause of the PARP-inhibitor hypersensitivity of cells deficient in ribonuclease H2 is impaired ribonucleotide excision repair5. Embedded ribonucleotides, which are abundant in the genome of cells deficient in ribonucleotide excision repair, are substrates for cleavage by topoisomerase 1, resulting in PARP-trapping lesions that impede DNA replication and endanger genome integrity. We conclude that genomic ribonucleotides are a hitherto unappreciated source of PARP-trapping DNA lesions, and that the frequent deletion of RNASEH2B in metastatic prostate cancer and chronic lymphocytic leukaemia could provide an opportunity to exploit these findings therapeutically.PMID: 29973717 DOI: 10.1038/s41586-018-0291-z ShareLinkOut - more resourcesFull Text SourcesNature Publishing GroupMiscellaneousNCI CPTAC Assay PortalNCI CPTAC Assay PortalNCI CPTC Antibody Characterization ProgramNCI CPTC Antibody Characterization ProgramNCI CPTC Antibody Characterization Program', \"Nat Biotechnol. 2018 Jul 9. doi: 10.1038/nbt.4181. [Epub ahead of print]Enhancing T cell therapy through TCR-signaling-responsive nanoparticle drug delivery.Tang L1,2,3, Zheng Y1,3, Melo MB1,3, Mabardi L1, Castaño AP4, Xie YQ5, Li N1,3, Kudchodkar SB6, Wong HC7, Jeng EK7, Maus MV4,8, Irvine DJ1,2,3,9,10.Author information1David H. Koch Institute for Integrative Cancer Research, Massachusetts Institute of Technology (MIT), Cambridge, Massachusetts, USA.2Department of Materials Science and Engineering, Massachusetts Institute of Technology, Cambridge, Massachusetts, USA.3Department of Biological Engineering, Massachusetts Institute of Technology, Cambridge, Massachusetts, USA.4Cellular Immunotherapy Program, Massachusetts General Hospital (MGH) Cancer Center, Charlestown, Massachusetts, USA.5Institute of Bioengineering, École Polytechnique Fédérale de Lausanne, Lausanne, Switzerland.6Vaccine Center, Wistar Institute, Philadelphia, Pennsylvania, USA.7Altor BioScience Corporation, Miramar, Florida, USA.8Harvard Medical School, Boston, Massachusetts, USA.9Ragon Institute of Massachusetts General Hospital, Massachusetts Institute of Technology, Cambridge, Massachusetts, USA.10Howard Hughes Medical Institute, Chevy Chase, Maryland, USA.AbstractAdoptive cell therapy (ACT) with antigen-specific T cells has shown remarkable clinical success; however, approaches to safely and effectively augment T cell function, especially in solid tumors, remain of great interest. Here we describe a strategy to 'backpack' large quantities of supporting protein drugs on T cells by using protein nanogels (NGs) that selectively release these cargos in response to T cell receptor activation. We designed cell surface-conjugated NGs that responded to an increase in T cell surface reduction potential after antigen recognition and limited drug release to sites of antigen encounter, such as the tumor microenvironment. By using NGs that carried an interleukin-15 super-agonist complex, we demonstrated that, relative to systemic administration of free cytokines, NG delivery selectively expanded T cells 16-fold in tumors and allowed at least eightfold higher doses of cytokine to be administered without toxicity. The improved therapeutic window enabled substantially increased tumor clearance by mouse T cell and human chimeric antigen receptor (CAR)-T cell therapy in vivo.PMID: 29985479 DOI: 10.1038/nbt.4181 ShareLinkOut - more resourcesFull Text SourcesNature Publishing Group\", 'Nature. 2018 Jul 6. doi: 10.1038/s41586-018-0355-0. [Epub ahead of print]Publisher Correction: A naturally occurring antiviral ribonucleotide encoded by the human genome.Gizzi AS1, Grove TL2, Arnold JJ3, Jose J3, Jangra RK4, Garforth SJ1, Du Q1, Cahill SM1, Dulyaninova NG1, Love JD5, Chandran K4, Bresnick AR1, Cameron CE3, Almo SC6,7.Author information1Department of Biochemistry, Albert Einstein College of Medicine, Bronx, NY, USA.2Department of Biochemistry, Albert Einstein College of Medicine, Bronx, NY, USA. tyler.grove@einstein.yu.edu.3Department of Biochemistry and Molecular Biology, The Pennsylvania State University, University Park, PA, USA.4Department of Microbiology and Immunology, Albert Einstein College of Medicine, Bronx, NY, USA.5Institute for Protein Innovation, Boston, MA, USA.6Department of Biochemistry, Albert Einstein College of Medicine, Bronx, NY, USA. steve.almo@einstein.yu.edu.7Institute for Protein Innovation, Boston, MA, USA. steve.almo@einstein.yu.edu.AbstractChange history: In the HTML version of this Letter, Extended Data Fig. 4 incorrectly corresponded to Fig. 4 (the PDF version of the figure was correct). This has been corrected online.Erratum forA naturally occurring antiviral ribonucleotide encoded by the human genome. [Nature.  2018]PMID: 29980769 DOI: 10.1038/s41586-018-0355-0 SharePublication typePublication typePublished ErratumLinkOut - more resourcesFull Text SourcesNature Publishing Group', 'Nat Genet. 2018 Jul 4. doi: 10.1038/s41588-018-0123-y. [Epub ahead of print]Author Correction: Reduced mutation rate in exons due to differential mismatch repair.Frigola J1,2, Sabarinathan R1,2, Mularoni L1,2, Muiños F1,2, Gonzalez-Perez A1,2, López-Bigas N3,4,5.Author information1Institute for Research in Biomedicine (IRB Barcelona), The Barcelona Institute of Science and Technology (BIST), Barcelona, Spain.2Research Program on Biomedical Informatics, Universitat Pompeu Fabra, Barcelona, Spain.3Institute for Research in Biomedicine (IRB Barcelona), The Barcelona Institute of Science and Technology (BIST), Barcelona, Spain. nuria.lopez@irbbarcelona.org.4Research Program on Biomedical Informatics, Universitat Pompeu Fabra, Barcelona, Spain. nuria.lopez@irbbarcelona.org.5Institució Catalana de Recerca i Estudis Avançats (ICREA), Barcelona, Spain. nuria.lopez@irbbarcelona.org.AbstractIn the version of this article initially published, the x axis on the fourth plot in Fig. 2e was incorrectly labeled \"H3K36me3 exon-to-intron ratio (lower to higher).\" The x axis on this plot should read \"Genic H3K36me3 coverage bins (higher to lower)\".Erratum forReduced mutation rate in exons due to differential mismatch repair. [Nat Genet.  2017]PMID: 29973711 DOI: 10.1038/s41588-018-0123-y SharePublication typePublication typePublished ErratumLinkOut - more resourcesFull Text SourcesNature Publishing Group', 'Nat Med. 2018 Jul 9. doi: 10.1038/s41591-018-0133-4. [Epub ahead of print]Author Correction: What models eat.Engber D1.Author information1Freelance science journalist and can be found on Twitter at @danengber, . danengber@yahoo.com.AbstractIn the version of this article originally published, there was an error in the sentence \"That quest, which started in the 1980s, continues through until today: For a paper published online in 2017, a group of researchers based at Brazil\\'s Federal University of Rio Grande do Sul tested Sprague Dawley rats on either a high-fat diet, a cafeteria diet or what they called a \\'Western diet\\', formulated to match up more closely with eating patterns in developed nations (it had 42.5% of its calories from fat and added salt and carbohydrates).\" Wistar rats were used in the experiment, not Sprague Dawley rats. Also, in ref. 7, the first author\\'s last name was listed as Bortoloin. The correct spelling is Bortolin. The errors have been corrected in the HTML and PDF versions of this article.Erratum forWhat models eat. [Nat Med.  2018]PMID: 29985486 DOI: 10.1038/s41591-018-0133-4 SharePublication typePublication typePublished ErratumLinkOut - more resourcesFull Text SourcesNature Publishing Group', \"Blood. 2018 Jul 6. pii: blood-2018-03-837153. doi: 10.1182/blood-2018-03-837153. [Epub ahead of print]Cancer-associated thrombosis in patients with implanted ports: a prospective multicenter French cohort study (ONCOCIP).Decousus H1, Bourmaud A2, Fournel P3, Bertoletti L4, Labruyère C5, Presles E6, Merah A7, Laporte S8, Stefani L9, Del Piano F10, Jacquin JP3, Meyer G11, Chauvin F8.Author information1INSERM, Centre d'Investigation Clinique 1408, Saint-Etienne, France; herve.decousus@chu-st-etienne.fr.2Hygee Center, Saint Priest en Jarez, France.3Medical Oncology Lucien Neuwirth Cancer Institute, Saint-Priest en Jarez, France.4F-Crin, INNOVTE (Investigation Network On Venous Thrombo-Embolism), Saint-Etienne, France.5Universite Jean Monet-Saint-Etienne, INSERM, SAINBIOSE (SAnte, INgenierie, BIOlogie, Saint-Etienne) U1059, Saint-Etienne, France.6Department of Clinical Pharmacology, University hospital, Saint-Etienne, France.7CHU Saint-Etienne, Hopital Nord, Service Medecine Vasculaire et Therapeutique, Saint Etienne, France.8INSERM, Centre d'Investigation Clinique 1408, Saint-Etienne, France.9Oncology department, CH Annecy Genevois, Pringy, France.10Service de Gynecologie, Hopitaux du Leman, Thonon Les Bains, France.11Service de Pneumologie, Hopital Europeen Georges Pompidou, AP-HP; Universite Paris Descartes, Sorbonne Paris Cite, and INSERM UMR S 970, Paris, France.AbstractThe need to accurately identify cancer outpatients at high risk of thrombotic complications is still unmet. In a prospective, multicenter cohort study, consecutive adult patients with a solid tumor and implanted port underwent 12-month follow-up. Our primary objective was to identify risk factors for (1) catheter-related thrombosis, defined as ipsilateral symptomatic upper-limb deep-vein thrombosis with or without pulmonary embolism, and (2) venous thromboembolism other than catheter-related, defined as any symptomatic superficial- or deep-vein thrombosis (other than catheter-related) or pulmonary embolism, and incidental pulmonary embolism. All events were objectively confirmed and centrally adjudicated. Rate assessments integrated the competing risk of death. Overall, 3032 patients were included (median age: 63 years; women: 58%). The most frequent cancer locations were breast (33.7%), lung (18.5%) and colorectal (15.6%), cancer being metastatic in 43.2% of patients. Most patients (97.1%) received chemotherapy. By 12 months, 48 (1.6%) patients had been lost to follow-up and 656 (24.6%) had died; 3.8% (n=111) of patients had experienced catheter-related thrombosis, and 9.6% (n=276) venous thromboembolism other than catheter-related. By multivariate analysis, use of the cephalic vein for catheter insertion predicted catheter-related thrombosis, whereas ongoing antiplatelet therapy was protective; risk factors for venous thromboembolism other than catheter-related were advanced age, previous venous thromboembolism, cancer site, and low hemoglobin level or increased leukocyte count before chemotherapy. In conclusion, this large prospective cohort study showed a high rate of venous thromboembolism in patients with a solid tumor and implanted port. Risk factors for catheter-related thrombosis differed from those for venous thromboembolism not catheter-related. This trial was registered at www.clinicaltrials.gov number as #NCT02025894.PMID: 29980524 DOI: 10.1182/blood-2018-03-837153 ShareSecondary source IDSecondary source IDClinicalTrials.gov/NCT02025894LinkOut - more resourcesFull Text SourcesHighWire - PDFMedicalClinicalTrials.gov\", \"Cancer Sci. 2018 Jul 7. doi: 10.1111/cas.13726. [Epub ahead of print]A novel chemical compound SINCRO with dual function in the STING-type I interferon and tumor cell death pathways.Kimura Y1, Negishi H1, Matsuda A1, Endo N1, Hangai S1,2, Inoue A1, Nishio J1, Taniguchi T1,2, Yanai H1,2.Author information1Department of Molecular Immunology, Institute of Industrial Science, The University of Tokyo, Komaba 4-6-1, Meguro-ku, Tokyo, 153-8505, Japan.2Max Planck-, The University of Tokyo, Center for Integrative Inflammology, Komaba 4-6-1, Meguro-ku, Tokyo, 153-8505, Japan.AbstractRecent years have seen a number of regulatory approvals for immune oncology or immunotherapies based on their ability to enhance anti-tumor immune responses. Nevertheless, the majority of the patients remain refractory to these treatments; hence, new therapies that augment current immunotherapies are required. Innate immune receptors that recognize nucleic acid are potent activators of subsequent T cell responses and, as a result, can evoke potent anti-tumor immune responses. Here, we present a novel compound N-{3-[(1,4'-bipiperidin)-1'-yl]propyl}-6-[4-(4-methylpiperazin-1-yl)phenyl]picolinamide (SINCRO; STING-mediated interferon-inducing and cytotoxic reagent, original) as an anti-cancer drug that activates the cytosolic DNA-sensing STING (stimulator of interferon genes) signaling pathway leading to the induction of type I interferon (IFN) genes. Indeed, IFN-β gene induction by SINCRO is abolished in STING-deficient cells. In addition to its IFN-inducing activity, SINCRO shows a STING-independent cytotoxic activity against cancer cells. SINCRO does not evoke DNA double-strand break or caspase-3 cleavage. Thus, SINCRO induces cell death in a manner different from conventional apoptosis-inducing pathways. Finally, we provide evidence that SINCRO administration significantly attenuates in vivo tumor growth by both type I IFN-dependent and independent mechanisms. Thus, SINCRO is an attractive anti-cancer compound with dual function in that it evokes type I IFN response to promote anti-tumor immunity on the one hand and induces tumor cell death on the other hand. SINCRO may provide a new platform for the development of drugs for effective cancer therapy. This article is protected by copyright. All rights reserved.KEYWORDS: \\nSTING\\n; Anticancer Drug; Cancer immunity; Cytotoxicity; Type I interferonPMID: 29981256 DOI: 10.1111/cas.13726 Free full textShareLinkOut - more resourcesFull Text SourcesWiley\", \"Nat Commun. 2018 Jul 6;9(1):2641. doi: 10.1038/s41467-018-05073-z.Heavily and fully modified RNAs guide efficient SpyCas9-mediated genome editing.Mir A1, Alterman JF1, Hassler MR1, Debacker AJ1, Hudgens E2, Echeverria D1, Brodsky MH2, Khvorova A3,4, Watts JK5,6, Sontheimer EJ7,8.Author information1RNA Therapeutics Institute, University of Massachusetts Medical School, Worcester, MA, 01605, USA.2Department of Molecular, Cell and Cancer Biology, University of Massachusetts Medical School, Worcester, MA, 01605, USA.3RNA Therapeutics Institute, University of Massachusetts Medical School, Worcester, MA, 01605, USA. anastasia.khvorova@umassmed.edu.4Program in Molecular Medicine, University of Massachusetts Medical School, Worcester, MA, 01605, USA. anastasia.khvorova@umassmed.edu.5RNA Therapeutics Institute, University of Massachusetts Medical School, Worcester, MA, 01605, USA. jonathan.watts@umassmed.edu.6Department of Biochemistry and Molecular Pharmacology, University of Massachusetts Medical School, Worcester, MA, 01605, USA. jonathan.watts@umassmed.edu.7RNA Therapeutics Institute, University of Massachusetts Medical School, Worcester, MA, 01605, USA. erik.sontheimer@umassmed.edu.8Program in Molecular Medicine, University of Massachusetts Medical School, Worcester, MA, 01605, USA. erik.sontheimer@umassmed.edu.AbstractRNA-based drugs depend on chemical modifications to increase potency and to decrease immunogenicity in vivo. Chemical modification will likely improve the guide RNAs involved in CRISPR-Cas9-based therapeutics as well. Cas9 orthologs are RNA-guided microbial effectors that cleave DNA. Here, we explore chemical modifications at all positions of the crRNA guide and tracrRNA cofactor. We identify several heavily modified versions of crRNA and tracrRNA that are more potent than their unmodified counterparts. In addition, we describe fully chemically modified crRNAs and tracrRNAs (containing no 2'-OH groups) that are functional in human cells. These designs will contribute to Cas9-based therapeutics since heavily modified RNAs tend to be more stable in vivo (thus increasing potency). We anticipate that our designs will improve the use of Cas9 via RNP and mRNA delivery for in vivo and ex vivo purposes.PMID: 29980686 PMCID: PMC6035171 DOI: 10.1038/s41467-018-05073-z ShareImages from this publication.See all images  (5)Free textFig. 1Initial screening of chemical modifications in the crRNA. a Schematic of Cas9 RNP paired with target DNA. The secondary structure elements of crRNA and tracrRNA are labeled. RNA is shown in orange, whereas DNA is in gray. The PAM sequence is highlighted red and cleavage sites are marked with arrows. b Chemical modifications used in this study. c Bar graph showing mCherry-positive cells after electroporation of HEK293T-TLR cells with RNPs that included the indicated crRNAs and an unmodified tracrRNA. Error bars represent standard deviation (SD) resulting from at least three biological replicatesHeavily and fully modified RNAs guide efficient SpyCas9-mediated genome editingNat Commun. 2018;9:2641.Fig. 2Second round of chemical optimization of CRISPR RNAs. The optimized crRNA designs are shown in a, whereas chemical designs of tracrRNA are shown in b. Each crRNA was tested with the unmodified tracrRNA T0, whereas each tracrRNA was tested with the unmodified crRNA C0. The bar graphs show the percent of cells expressing mCherry, ±SD. Each RNA was tested in triplicateHeavily and fully modified RNAs guide efficient SpyCas9-mediated genome editingNat Commun. 2018;9:2641.Fig. 3Cas9 tolerates heavily and fully modified crRNA:tracrRNA. a, b Each crRNA was tested with tracrRNAs T0, T2, and T6–T8 using 20 pmol of Cas9 RNP. c HEK293T-TLR cells were also electroporated with 100 pmol of the indicated RNPs to test whether heavily modified RNAs regain functionality at higher doses. Error bars show\\u2009±\\u2009SD of three biological replicatesHeavily and fully modified RNAs guide efficient SpyCas9-mediated genome editingNat Commun. 2018;9:2641.Fig. 4Targeting endogenous genes with modified RNAs. a The C10 guide design targeting HTT exon 50 was tested using 20 pmol of RNP along with T2 and T6–T8 in HEK293T cells. b HTT-C20 and HTT-C21 designs were tested using 80 pmol of Cas9 RNP with the indicated tracrRNAs. c The therapeutically relevant HBB locus was targeted using a previously validated guide sequence incorporated into the C20 design. d, e VEGFA-targeting crRNAs C20 and C21 were tested using the indicated tracrRNAs with 80 pmol of RNP in HEK293T cells (d) or 60 pmol of RNP in\\xa0hESCs (e). Indels were calculated using TIDE.\\xa0Bars show averages (±SD) of at least three biological replicatesHeavily and fully modified RNAs guide efficient SpyCas9-mediated genome editingNat Commun. 2018;9:2641.Fig. 5Heavily and fully modified RNAs support precise genome editing. a Schematic of the Cas9-mediated homology-directed repair in HEK293T-TLR cells. Cells were electroporated with 20 pmoles of Cas9 RNP and 400\\u2009ng of 800\\u2009bp donor (PCR fragment). Precise repair of the DSB results in GFP expression (b), and NHEJ-mediated\\u2009+\\u20091 frameshifts result in mCherry expression (c). d The fully modified C21:T8 dual guides were tested using 100 pmoles of Cas9 RNP to test whether fully modified RNAs recover HDR activity at higher doses. Bars show averages (±SD) of three biological replicatesHeavily and fully modified RNAs guide efficient SpyCas9-mediated genome editingNat Commun. 2018;9:2641.Grant supportGrant supportA-10199/CHDI Foundation (CHDI)/LinkOut - more resourcesFull Text SourcesNature Publishing GroupPubMed Central\", 'Evid Based Complement Alternat Med. 2018 Jun 7;2018:9521086. doi: 10.1155/2018/9521086. eCollection  2018.Physical and Mental Effects of Bathing: A Randomized Intervention Study.Goto Y1, Hayasaka S1,2, Kurihara S1, Nakamura Y3.Author information1ONSEN Medical Science Research Center, Japan Health & Research Institute, 3-1-4 Nihonbashi, Chuo-ku, Tokyo 103-0014, Japan.2Tokyo City University, 8-9-18 Todoroki, Setagaya-ku, Tokyo 158-8586, Japan.3Jichi Medical University, 3311-1 Yakushiji, Shimosa City, Tochigi 329-0498, Japan.AbstractShowering is the most common form of bathing worldwide. Whole-body immersion bathing in warm water (~40°C) is common in Japan and exerts sufficient hyperthermic action to induce vasodilatation and increase blood flow, supplying more oxygen and nutrients to the periphery. Cross-sectional studies report better subjective health status with an immersion bathing habit. This randomized controlled trial compared the effects on health of immersion bathing and shower bathing in 38 participants who received 2-week intervention of immersion bathing in warm water (40°C) for 10 min (bathing intervention) followed by 2-week shower bathing without immersion (showering intervention) or vice versa (n = 19 each group). Visual analog scale scores were significantly better for fatigue, stress, pain, and smile and tended to be better for self-reported heath and skin condition after bathing intervention than after showering intervention. The SF-8 Health Survey showed significantly better general health, mental health, role emotional, and social functioning scores. Profile of Mood State scores were lower for stress, tension-anxiety, anger-hostility, and depression-dejection. Immersion bathing, but not shower bathing, exerts hyperthermic action that induces increased blood flow and metabolic waste elimination, which may afford physical refreshment. Immersion bathing should improve both physical and emotional aspects of quality of life.PMID: 29977318 PMCID: PMC6011066 DOI: 10.1155/2018/9521086 Free PMC ArticleShareLinkOut - more resourcesFull Text SourcesHindawi Publishing CorporationEurope PubMed CentralPubMed Central', 'N Engl J Med. 2018 Jul 5;379(1):64-73. doi: 10.1056/NEJMra1706169.Chimeric Antigen Receptor Therapy.June CH1, Sadelain M1.Author information1From the Center for Cellular Immunotherapies, Perelman School of Medicine, Department of Pathology and Laboratory Medicine, University of Pennsylvania, Philadelphia (C.H.J.); and the Center for Cell Engineering, Sloan Kettering Institute, Memorial Sloan Kettering Cancer Center, New York (M.S.).Comment inA Look Forward - The Frontiers in Medicine Series. [N Engl J Med.  2018]PMID: 29972754 DOI: 10.1056/NEJMra1706169 ShareLinkOut - more resourcesFull Text SourcesAtypon - PDFOvid Technologies, Inc.', \"Nat Commun. 2018 Jul 6;9(1):2643. doi: 10.1038/s41467-018-05067-x.Human pluripotent reprogramming with CRISPR activators.Weltner J1, Balboa D2, Katayama S3, Bespalov M2, Krjutškov K3,4, Jouhilahti EM2, Trokovic R2, Kere J5,6,7,8, Otonkoski T9,10.Author information1Research Programs Unit, Molecular Neurology and Biomedicum Stem Cell Centre, Faculty of Medicine, University of Helsinki, Helsinki, 00014, Finland. jere.weltner@helsinki.fi.2Research Programs Unit, Molecular Neurology and Biomedicum Stem Cell Centre, Faculty of Medicine, University of Helsinki, Helsinki, 00014, Finland.3Department of Biosciences and Nutrition, Karolinska Institutet, Huddinge, 141 83, Sweden.4Competence Centre on Health Technologies, Tartu, 50410, Estonia.5Research Programs Unit, Molecular Neurology and Biomedicum Stem Cell Centre, Faculty of Medicine, University of Helsinki, Helsinki, 00014, Finland. juha.kere@ki.se.6Department of Biosciences and Nutrition, Karolinska Institutet, Huddinge, 141 83, Sweden. juha.kere@ki.se.7School of Basic and Medical Biosciences, Guy's Hospital, King's College London, London, SE1 9RT, UK. juha.kere@ki.se.8Folkhälsan Institute of Genetics, Helsinki, 00290, Finland. juha.kere@ki.se.9Research Programs Unit, Molecular Neurology and Biomedicum Stem Cell Centre, Faculty of Medicine, University of Helsinki, Helsinki, 00014, Finland. timo.otonkoski@helsinki.fi.10Children's Hospital, Helsinki University Central Hospital, University of Helsinki, Helsinki, 00290, Finland. timo.otonkoski@helsinki.fi.AbstractCRISPR-Cas9-based gene activation (CRISPRa) is an attractive tool for cellular reprogramming applications due to its high multiplexing capacity and direct targeting of endogenous loci. Here we present the reprogramming of primary human skin fibroblasts into induced pluripotent stem cells (iPSCs) using CRISPRa, targeting endogenous OCT4, SOX2, KLF4, MYC, and LIN28A promoters. The low basal reprogramming efficiency can be improved by an order of magnitude by additionally targeting a conserved Alu-motif enriched near genes involved in embryo genome activation (EEA-motif). This effect is mediated in part by more efficient activation of NANOG and REX1. These data demonstrate that human somatic cells can be reprogrammed into iPSCs using only CRISPRa. Furthermore, the results unravel the involvement of EEA-motif-associated mechanisms in cellular reprogramming.PMID: 29980666 PMCID: PMC6035213 DOI: 10.1038/s41467-018-05067-x ShareImages from this publication.See all images  (6)Free textFig. 1CRISPRa-mediated reprogramming of NSCs and EEA-motif targeting. a Schematic representation of dCas9VPH structure. b Schematic representation of NSC reprogramming into iPSCs with dCas9VPH mediated OCT4 activation. c Immunocytochemical detection of pluripotency markers in NCS-derived iPSCs (top row) and tri-lineage differentiation in plated embryoid bodies (bottom row). Nuclei stained blue. Scale bar\\u2009=\\u2009200\\u2009µm. d Targeting of EGA enriched Alu-motif with SpdCas9 gRNAs. e Quantification of iPSC-like alkaline phosphatase positive colonies induced from NSCs. n\\u2009=\\u20096 independent inductions (P\\u2009=\\u20090.053, OCT4 targeting with EEA-gRNAs vs. without EEA-gRNAs). Data presented as mean\\u2009±\\u2009s.e.m., two-tailed Student’s t-testHuman pluripotent reprogramming with CRISPR activatorsNat Commun. 2018;9:2643.Fig. 2Optimization of dCas9 activator and gRNA targeting in HEK293 for reprogramming factor activation. a Locations of promoter targeting gRNAs for reprogramming factors (OCT4, SOX2, KLF4, C-MYC, LIN28A, and NANOG) in relation to transcription start site. b Immunocytochemical staining of reprogramming factors after single gRNA activation and pooled mixture of five guides in HEK293 with dCas9VPH. Pictures are in similar order to guides in Fig.\\xa02a. Best performing guides used for plasmid cloning are marked with dotted lines. Scale bar\\u2009=\\u2009400\\u2009µm. c Schematic representation of concatenated reprogramming factor gRNA plasmid construction. d Reprogramming factor activation by qRT-PCR, in HEK293 cells 3 days after transfection and HFFs 4 days after electroporation, using transiently expressed dCas9VPH effector. n\\u2009=\\u20093, data are from three independently treated samples. Data presented as mean\\u2009±\\u2009s.e.m., two tailed Student’s t-test. *P\\u2009<\\u20090.05, **P\\u2009<\\u20090.01, ***P\\u2009<\\u20090.001Human pluripotent reprogramming with CRISPR activatorsNat Commun. 2018;9:2643.Fig. 3EEA-motif targeting enhances derivation of CRISPRa iPSCs from primary skin fibroblasts. a Schematic representation of skin fibroblast reprogramming with dCas9 activators. b Pluripotency factor expression in CRISPR-iPSC colonies (top row, scale bar\\u2009=\\u2009400\\u2009µm) and tri-lineage differentiation markers for ectoderm (TUBB3), mesoderm (Vimentin and α-SMA), and endoderm (SOX17 and FOXA2) in embryoid bodies (middle row, scale bar\\u2009=\\u2009200\\u2009µm) and teratomas (bottom row, scale bar\\u2009=\\u2009800\\u2009µm). c Normal 46, XX karyotype of a CRISPRa iPSC line HEL139.2. d Principal component analysis of CRISPR iPSC lines, control PSC lines and HFFs based on expression of 123 significantly fluctuated genes. e Clustering of iPSC lines and HFFs based on expression of 85 significantly fluctuated and differentially regulated genes. f Clustering of CRISPR iPSC lines and control pluripotent stem cells based on DNA methylation. g Effect of VP192 and VPH domains and EEA-motif targeting on CRISPRa reprogramming efficiency of HFFs. n\\u2009=\\u20096 from three independent experiments. Data presented as mean\\u2009±\\u2009s.e.m., two tailed Student’s t-test. **P\\u2009<\\u20090.01Human pluripotent reprogramming with CRISPR activatorsNat Commun. 2018;9:2643.Fig. 4Transcriptional analysis of reprogramming cell populations. a Schematic representation of skin fibroblast reprograming with dCas9VP192 for RNA sequencing samples. b Clustering of all reprogramming samples based on expression of 4972 significantly fluctuated genes. Group 6 represents genes upregulated specifically by EEA-guides at day 12. c Upregulated genes at day 12 of reprogramming in OMKSL\\u2009+\\u2009KM\\u2009+\\u2009EEA targeted cells (Group 6). d Clustering of samples within day 4, 8, and 12 time points based on differentially regulated genesHuman pluripotent reprogramming with CRISPR activatorsNat Commun. 2018;9:2643.Fig. 5EEA-motif targeting improves NANOG and REX1 activation. a Immunostaining of emerging iPSC colonies detects activation of targeted LIN28A before its mRNA reads become detectable in bulk RNA-seq. Scale bar\\u2009=\\u2009400\\u2009µm. b HFF reprogramming efficiency after transgenic expression of additional factors belonging to Group 6 (Fig.\\xa0). n\\u2009=\\u20095, three independent experiments. c qRT-PCR quantification of NANOG and REX1 activation using dCas9VP192 with and without EEA-motif gRNAs in HEK293. n\\u2009=\\u20093, three independent experiments. d NANOG activation can be detected by immunostaining in CRISPRa reprogramming colonies 2 days earlier in the presence of EEA-motif targeting guides. Scale bar\\u2009=\\u2009200\\u2009µm. Data presented as mean\\u2009±\\u2009s.e.m., two tailed Student’s t-test. **P\\u2009<\\u20090.01, ***P\\u2009<\\u20090.001Human pluripotent reprogramming with CRISPR activatorsNat Commun. 2018;9:2643.Fig. 6EGA-enriched Alu-motif targeting is associated with activation and chromatin opening. a Effect of single EEA-motif targeting gRNAs (Fig.\\xa0) on CRISPRa reprogramming efficiency of HFFs. n\\u2009=\\u20093, data are from three independent experiments. b Schematic representation of EEA-motif reporter plasmid activation. c qRT-PCR quantification of mCherry reporter activation with EEA-motif gRNAs 1 and 2 in reporter transfected HEK293 relative to five gRNAs. EEA-g1 activates the reporter with higher efficiency than EEA-g2 (P\\u2009=\\u20090.02). n\\u2009=\\u20093, three independent experiments. d Expression of Alu derived transcripts in STRT-seq data of pluripotent stem cells and CRISPRa reprogramming cell populations. Centre line, box, and whiskers represent median, quartiles, and 1.5 IQR, respectively. e Effect of dCas9 fusion domain on reprogramming efficiency in transgenic reprogramming with OCT4, SOX2, KLF4, LIN28, L-MYC, and EEA-g1. n\\u2009=\\u20096, data are from three independent experiments. f Increase in the presence of EEA-g1 sequence in ATAC-seq peaks in TetON-DDdCas9GFP and EEA-g1 expressing HEK293. ctrl n\\u2009=\\u20093, DOX\\u2009+\\u2009TMP n\\u2009=\\u20095. g Effect of dCas9 fusion domain on reprogramming efficiency in transgenic reprogramming with OCT4, SOX2, LIN28, L-MYC, and EEA-g1. n\\u2009=\\u20096, data are from three independent experiments. h Schematic model of EEA-motif targeting in gene activation and reprogramming. Data presented as mean\\u2009±\\u2009s.e.m., two tailed Student’s t-test. *P\\u2009<\\u20090.05, **P\\u2009<\\u20090.01Human pluripotent reprogramming with CRISPR activatorsNat Commun. 2018;9:2643.LinkOut - more resourcesFull Text SourcesNature Publishing GroupPubMed CentralMiscellaneousNCI CPTC Antibody Characterization Program\", 'JAMA. 2018 Jul 6. doi: 10.1001/jama.2018.8877. [Epub ahead of print]Long-acting Reversible Contraception-Highly Efficacious, Safe, and Underutilized.Wu JP1, Moniz MH2, Ursu AN3.Author information1Department of Family Medicine, Institute for Healthcare Policy and Innovation, University of Michigan, Ann Arbor.2Department of Obstetrics and Gynecology, Institute for Healthcare Policy and Innovation, University of Michigan, Ann Arbor.3Department of Family Medicine, University of Michigan, Ann Arbor.PMID: 29984374 DOI: 10.1001/jama.2018.8877 ShareLinkOut - more resourcesFull Text SourcesSilverchair Information Systems', 'Cell. 2018 Apr 5;173(2):278-280. doi: 10.1016/j.cell.2018.03.047.Günter Blobel (1936–2018)Simon SM.PMID: 29975496 PMCID: PMC6018020 Free PMC ArticleShareImages from this publication.See all images  (1)Free textFigureGünter Blobel with his wife Laura Maioglio in the 70s. Blobel was never done discussing science when dinner called, so visiting scientists were routinely brought along to Barbetta, Laura’s northern Italian restaurant on New York’s Theatre row.Obituary: Günter Blobel (1936–2018)Cell. 2018 Apr 5;173(2):278-280.Grant supportGrant supportR01 GM119585/GM/NIGMS NIH HHS/United StatesR56 CA207929/CA/NCI NIH HHS/United StatesLinkOut - more resourcesFull Text SourcesEurope PubMed Central - Author ManuscriptPubMed Central - Author Manuscript', 'Nature. 2018 Jul;559(7713):259-263. doi: 10.1038/s41586-018-0278-9. Epub  2018 Jul 4.Species-specific activity of antibacterial drug combinations.Brochado AR1, Telzerow A1, Bobonis J1, Banzhaf M1,2, Mateus A1, Selkrig J1, Huth E3, Bassler S1, Zamarreño Beas J4, Zietek M1, Ng N5, Foerster S6, Ezraty B4, Py B4, Barras F4,7, Savitski MM1, Bork P8,9,10,11, Göttig S3, Typas A12,13.Author information1European Molecular Biology Laboratory, Genome Biology Unit, Heidelberg, Germany.2Institute of Microbiology & Infection, School of Biosciences, University of Birmingham, Birmingham, UK.3Institute of Medical Microbiology and Infection Control, Hospital of Goethe University, Frankfurt am Main, Germany.4Laboratoire de Chimie Bactérienne, Institut de Microbiologie de la Méditerranée, CNRS UMR 7283, Aix-Marseille Université, Marseille, France.5Department of Bioengineering, Stanford University, Stanford, CA, USA.6Institute of Social & Preventive Medicine, Institute of Infectious Diseases, University of Bern, Bern, Switzerland.7Institut Pasteur, Paris, France.8European Molecular Biology Laboratory, Structural & Computational Biology Unit, Heidelberg, Germany.9Max-Delbrück-Centre for Molecular Medicine, Berlin, Germany.10Molecular Medicine Partnership Unit, Heidelberg, Germany.11Department of Bioinformatics, Biocenter, University of Würzburg, Würzburg, Germany.12European Molecular Biology Laboratory, Genome Biology Unit, Heidelberg, Germany. typas@embl.de.13European Molecular Biology Laboratory, Structural & Computational Biology Unit, Heidelberg, Germany. typas@embl.de.AbstractThe spread of antimicrobial resistance has become a serious public health concern, making once-treatable diseases deadly again and undermining the achievements of modern medicine1,2. Drug combinations can help\\xa0to fight multi-drug-resistant bacterial infections, yet they are largely unexplored and rarely used in clinics. Here we profile almost 3,000 dose-resolved combinations of antibiotics, human-targeted drugs and food additives in six strains from three Gram-negative pathogens-Escherichia coli, Salmonella enterica serovar Typhimurium and Pseudomonas aeruginosa-to identify general principles for antibacterial drug combinations and understand their potential. Despite the phylogenetic relatedness of the three species, more than 70% of the drug-drug interactions\\xa0that we detected are species-specific and 20% display strain specificity, revealing a large potential for narrow-spectrum therapies. Overall, antagonisms are more common than synergies and occur almost exclusively between drugs that target different cellular processes, whereas synergies are more conserved and are enriched in drugs that target the same process. We provide mechanistic insights into this dichotomy and further dissect the interactions of the food additive vanillin. Finally, we demonstrate that several synergies are effective against multi-drug-resistant clinical isolates in vitro and during infections of the larvae of the greater wax moth Galleria mellonella, with one reverting resistance to the last-resort antibiotic colistin.PMID: 29973719 DOI: 10.1038/s41586-018-0278-9 ShareLinkOut - more resourcesFull Text SourcesNature Publishing Group', \"Nat Biotechnol. 2018 Jul 3. doi: 10.1038/nbt.4194. [Epub ahead of print]Optimized base editors enable efficient editing in cells, organoids and mice.Zafra MP1, Schatoff EM1,2, Katti A1,3, Foronda M1, Breinig M4, Schweitzer AY4, Simon A1, Han T1,3, Goswami S1, Montgomery E1, Thibado J3, Kastenhuber ER5,6, Sánchez-Rivera FJ5, Shi J7,8, Vakoc CR7, Lowe SW5,9, Tschaharganeh DF4, Dow LE1,3,10.Author information1Sandra and Edward Meyer Cancer Center, Department of Medicine, Weill Cornell Medicine, New York, New York, USA.2Weill Cornell/Rockefeller/Sloan-Kettering Tri-Institutional MD-PhD program, New York, New York, USA.3Weill Cornell Graduate School of Medical Sciences, Weill Cornell Medicine, New York, New York, USA.4Helmholtz-University Group 'Cell Plasticity and Epigenetic Remodeling', German Cancer Research Center (DKFZ) and Institute of Pathology, University Hospital, Heidelberg, Germany.5Cancer Biology and Genetics, Memorial Sloan Kettering Cancer Center, New York, New York, USA.6Gerstner Sloan Kettering Graduate School of Biomedical Sciences, New York, New York, USA.7Cold Spring Harbor Laboratory, New York, New York, USA.8Department of Cancer Biology, Perelman School of Medicine, University of Pennsylvania, Philadelphia, Pennsylvania, USA.9Howard Hughes Medical Institute, Memorial Sloan Kettering Cancer Center, New York, New York, USA.10Department of Biochemistry, Weill Cornell Medicine, New York, New York, USA.AbstractCRISPR base editing enables the creation of targeted single-base conversions without generating double-stranded breaks. However, the efficiency of current base editors is very low in many cell types. We reengineered the sequences of BE3, BE4Gam, and xBE3 by codon optimization and incorporation of additional nuclear-localization sequences. Our collection of optimized constitutive and inducible base-editing vector systems dramatically improves the efficiency by which single-nucleotide variants can be created. The reengineered base editors enable target modification in a wide range of mouse and human cell lines, and intestinal organoids. We also show that the optimized base editors mediate efficient in vivo somatic editing in the liver in adult mice.PMID: 29969439 DOI: 10.1038/nbt.4194 ShareLinkOut - more resourcesFull Text SourcesNature Publishing GroupResearch MaterialsGet Article's Plasmids - Addgene - Addgene Non-profit plasmid repository\"]]}\n"
     ]
    }
   ],
   "source": [
    "article_dict[\"title\"].append(title)\n",
    "article_dict[\"abstract\"].append(abstract)\n",
    "print(article_dict)"
   ]
  },
  {
   "cell_type": "markdown",
   "metadata": {},
   "source": [
    "## Save article_dict to json"
   ]
  },
  {
   "cell_type": "code",
   "execution_count": 45,
   "metadata": {
    "collapsed": true
   },
   "outputs": [],
   "source": [
    "import json"
   ]
  },
  {
   "cell_type": "code",
   "execution_count": 46,
   "metadata": {},
   "outputs": [
    {
     "data": {
      "text/plain": [
       "63627"
      ]
     },
     "execution_count": 46,
     "metadata": {},
     "output_type": "execute_result"
    }
   ],
   "source": [
    "json = json.dumps(article_dict)\n",
    "f = open(\"trending1.json\",\"w\")\n",
    "f.write(json)\n",
    "f.close()"
   ]
  },
  {
   "cell_type": "markdown",
   "metadata": {},
   "source": [
    "<br>\n",
    "<br>\n",
    "<br>"
   ]
  }
 ],
 "metadata": {
  "kernelspec": {
   "display_name": "Python 3",
   "language": "python",
   "name": "python3"
  },
  "language_info": {
   "codemirror_mode": {
    "name": "ipython",
    "version": 3
   },
   "file_extension": ".py",
   "mimetype": "text/x-python",
   "name": "python",
   "nbconvert_exporter": "python",
   "pygments_lexer": "ipython3",
   "version": "3.6.4"
  }
 },
 "nbformat": 4,
 "nbformat_minor": 2
}
