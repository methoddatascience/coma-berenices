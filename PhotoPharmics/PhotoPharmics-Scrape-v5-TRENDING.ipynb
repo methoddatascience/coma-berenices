{
 "cells": [
  {
   "cell_type": "markdown",
   "metadata": {},
   "source": [
    "## Pub Med Scraper"
   ]
  },
  {
   "cell_type": "code",
   "execution_count": 1,
   "metadata": {
    "collapsed": true
   },
   "outputs": [],
   "source": [
    "# scrape dependencies\n",
    "import requests\n",
    "import re\n",
    "from bs4 import BeautifulSoup as bs\n",
    "\n",
    "# data analysis dependencies\n",
    "import pandas as pd\n",
    "import numpy as np\n",
    "import csv\n",
    "\n",
    "# ipynb dependencies\n",
    "from IPython.core.interactiveshell import InteractiveShell\n",
    "InteractiveShell.ast_node_interactivity = \"all\"\n",
    "import warnings\n",
    "warnings.filterwarnings('ignore')\n",
    "\n",
    "# viz dependencies\n",
    "%matplotlib inline\n",
    "import matplotlib.pyplot as plt\n",
    "import seaborn as sns\n",
    "plt.style.use('fivethirtyeight')\n",
    "\n",
    "import datetime as dt\n",
    "import time"
   ]
  },
  {
   "cell_type": "code",
   "execution_count": 2,
   "metadata": {},
   "outputs": [
    {
     "name": "stdout",
     "output_type": "stream",
     "text": [
      "https://www.ncbi.nlm.nih.gov/pubmed/trending/\n"
     ]
    }
   ],
   "source": [
    "# set the url to scrape\n",
    "url = 'https://www.ncbi.nlm.nih.gov/pubmed/trending/'\n",
    "print(url)"
   ]
  },
  {
   "cell_type": "code",
   "execution_count": 3,
   "metadata": {
    "collapsed": true
   },
   "outputs": [],
   "source": [
    "# set up beautiful soup to scrape\n",
    "response = requests.get(url)\n",
    "soup = bs(response.text, 'html.parser')"
   ]
  },
  {
   "cell_type": "code",
   "execution_count": 4,
   "metadata": {
    "collapsed": true
   },
   "outputs": [],
   "source": [
    "# lets scrape the article titles\n",
    "journals = soup.find_all(\"p\", attrs={'class':'title'})"
   ]
  },
  {
   "cell_type": "code",
   "execution_count": 5,
   "metadata": {},
   "outputs": [
    {
     "name": "stdout",
     "output_type": "stream",
     "text": [
      "There are 20 journals to scrape on the first page.\n"
     ]
    }
   ],
   "source": [
    "# searching for the journal titles\n",
    "journals_len = len(journals)\n",
    "print(f\"There are {journals_len} journals to scrape on the first page.\")"
   ]
  },
  {
   "cell_type": "code",
   "execution_count": 6,
   "metadata": {},
   "outputs": [
    {
     "data": {
      "text/plain": [
       "'Reprogramming human T cell function and specificity with non-viral genome targeting.'"
      ]
     },
     "execution_count": 6,
     "metadata": {},
     "output_type": "execute_result"
    },
    {
     "data": {
      "text/plain": [
       "'Prediction of acute myeloid leukaemia risk in healthy individuals.'"
      ]
     },
     "execution_count": 6,
     "metadata": {},
     "output_type": "execute_result"
    },
    {
     "data": {
      "text/plain": [
       "'Author Correction: What models eat.'"
      ]
     },
     "execution_count": 6,
     "metadata": {},
     "output_type": "execute_result"
    },
    {
     "data": {
      "text/plain": [
       "'Physical and Mental Effects of Bathing: A Randomized Intervention Study.'"
      ]
     },
     "execution_count": 6,
     "metadata": {},
     "output_type": "execute_result"
    },
    {
     "data": {
      "text/plain": [
       "'Günter Blobel (1936–2018)'"
      ]
     },
     "execution_count": 6,
     "metadata": {},
     "output_type": "execute_result"
    },
    {
     "data": {
      "text/plain": [
       "'Histidine catabolism is a major determinant of methotrexate sensitivity.'"
      ]
     },
     "execution_count": 6,
     "metadata": {},
     "output_type": "execute_result"
    },
    {
     "data": {
      "text/plain": [
       "'Enhancing T cell therapy through TCR-signaling-responsive nanoparticle drug delivery.'"
      ]
     },
     "execution_count": 6,
     "metadata": {},
     "output_type": "execute_result"
    },
    {
     "data": {
      "text/plain": [
       "'A randomized placebo-controlled clinical trial of nicotinamide riboside in obese men: safety, insulin-sensitivity, and lipid-mobilizing effects.'"
      ]
     },
     "execution_count": 6,
     "metadata": {},
     "output_type": "execute_result"
    },
    {
     "data": {
      "text/plain": [
       "'The Health Insurance Marketplaces.'"
      ]
     },
     "execution_count": 6,
     "metadata": {},
     "output_type": "execute_result"
    },
    {
     "data": {
      "text/plain": [
       "'Mechanism of parkin activation by PINK1.'"
      ]
     },
     "execution_count": 6,
     "metadata": {},
     "output_type": "execute_result"
    },
    {
     "data": {
      "text/plain": [
       "'Cancer-associated thrombosis in patients with implanted ports: a prospective multicenter French cohort study (ONCOCIP).'"
      ]
     },
     "execution_count": 6,
     "metadata": {},
     "output_type": "execute_result"
    },
    {
     "data": {
      "text/plain": [
       "'CRISPR-enhanced engineering of therapy-sensitive cancer cells for self-targeting of primary and metastatic tumors.'"
      ]
     },
     "execution_count": 6,
     "metadata": {},
     "output_type": "execute_result"
    },
    {
     "data": {
      "text/plain": [
       "'Evolution of a central neural circuit underlies Drosophila mate preferences.'"
      ]
     },
     "execution_count": 6,
     "metadata": {},
     "output_type": "execute_result"
    },
    {
     "data": {
      "text/plain": [
       "'Phenotype molding of stromal cells in the lung tumor microenvironment.'"
      ]
     },
     "execution_count": 6,
     "metadata": {},
     "output_type": "execute_result"
    },
    {
     "data": {
      "text/plain": [
       "'X-ray and cryo-EM structures of the mitochondrial calcium uniporter.'"
      ]
     },
     "execution_count": 6,
     "metadata": {},
     "output_type": "execute_result"
    },
    {
     "data": {
      "text/plain": [
       "'NAD+ Depletion Triggers Macrophage Necroptosis, a Cell Death Pathway Exploited by Mycobacterium tuberculosis.'"
      ]
     },
     "execution_count": 6,
     "metadata": {},
     "output_type": "execute_result"
    },
    {
     "data": {
      "text/plain": [
       "'Somatic mutations precede acute myeloid leukemia years before diagnosis.'"
      ]
     },
     "execution_count": 6,
     "metadata": {},
     "output_type": "execute_result"
    },
    {
     "data": {
      "text/plain": [
       "'Long-acting Reversible Contraception-Highly Efficacious, Safe, and Underutilized.'"
      ]
     },
     "execution_count": 6,
     "metadata": {},
     "output_type": "execute_result"
    },
    {
     "data": {
      "text/plain": [
       "'Prevention of M. tuberculosis Infection with H4:IC31 Vaccine or BCG Revaccination.'"
      ]
     },
     "execution_count": 6,
     "metadata": {},
     "output_type": "execute_result"
    },
    {
     "data": {
      "text/plain": [
       "\"RIG-I Recognizes the 5' Region of Dengue and Zika Virus Genomes.\""
      ]
     },
     "execution_count": 6,
     "metadata": {},
     "output_type": "execute_result"
    }
   ],
   "source": [
    "# loop through journals to print titles\n",
    "for i in range(journals_len):\n",
    "    journals[i].text.strip()"
   ]
  },
  {
   "cell_type": "markdown",
   "metadata": {},
   "source": [
    "## Set main url to concat with pubmed ids"
   ]
  },
  {
   "cell_type": "code",
   "execution_count": 7,
   "metadata": {
    "scrolled": false
   },
   "outputs": [
    {
     "name": "stdout",
     "output_type": "stream",
     "text": [
      "https://www.ncbi.nlm.nih.gov/pubmed/\n"
     ]
    }
   ],
   "source": [
    "# set the main url that we will concatanate with the pubmed id\n",
    "main_url = 'https://www.ncbi.nlm.nih.gov/pubmed/'\n",
    "print(main_url)"
   ]
  },
  {
   "cell_type": "markdown",
   "metadata": {},
   "source": [
    "<br>\n",
    "<br>\n",
    "# TESTING SECTION ------------------------------------------------------------------"
   ]
  },
  {
   "cell_type": "code",
   "execution_count": 8,
   "metadata": {
    "collapsed": true
   },
   "outputs": [],
   "source": [
    "# set empty links_all list to append to \n",
    "links_all = []\n",
    "\n",
    "# set pubmed ids list to append to\n",
    "pubmed_ids = []\n",
    "\n",
    "# set empty list to append scrape_links to\n",
    "scrape_links = []"
   ]
  },
  {
   "cell_type": "code",
   "execution_count": 9,
   "metadata": {},
   "outputs": [
    {
     "name": "stdout",
     "output_type": "stream",
     "text": [
      "<p class=\"title\" xmlns:mml=\"http://www.w3.org/1998/Math/MathML\"><a href=\"/pubmed/29995861\" ref=\"ordinalpos=1&amp;ncbi_uid=29995861&amp;link_uid=29995861&amp;linksrc=docsum_title\">Reprogramming human T cell function and specificity with non-viral genome targeting.</a></p>\n"
     ]
    }
   ],
   "source": [
    "# use bs to scarpe p tags with class - title\n",
    "links = soup.find_all(\"p\",attrs={'class':'title'})\n",
    "print(links[0])"
   ]
  },
  {
   "cell_type": "code",
   "execution_count": 10,
   "metadata": {},
   "outputs": [
    {
     "name": "stdout",
     "output_type": "stream",
     "text": [
      "There are 20 articles to scrape.\n",
      "----------------------------------------------\n"
     ]
    }
   ],
   "source": [
    "# testing to see how my links / journals to scrape\n",
    "articles_to_scrape = len(links)\n",
    "print(f\"There are {articles_to_scrape} articles to scrape.\")\n",
    "print(\"----------------------------------------------\")"
   ]
  },
  {
   "cell_type": "code",
   "execution_count": 11,
   "metadata": {},
   "outputs": [
    {
     "name": "stdout",
     "output_type": "stream",
     "text": [
      "<p class=\"title\" xmlns:mml=\"http://www.w3.org/1998/Math/MathML\"><a href=\"/pubmed/29995861\" ref=\"ordinalpos=1&amp;ncbi_uid=29995861&amp;link_uid=29995861&amp;linksrc=docsum_title\">Reprogramming human T cell function and specificity with non-viral genome targeting.</a></p>\n",
      "----------------------------------------------\n",
      "<p class=\"title\" xmlns:mml=\"http://www.w3.org/1998/Math/MathML\"><a href=\"/pubmed/29988082\" ref=\"ordinalpos=2&amp;ncbi_uid=29988082&amp;link_uid=29988082&amp;linksrc=docsum_title\">Prediction of acute myeloid leukaemia risk in healthy individuals.</a></p>\n",
      "----------------------------------------------\n",
      "<p class=\"title\" xmlns:mml=\"http://www.w3.org/1998/Math/MathML\"><a href=\"/pubmed/29985486\" ref=\"ordinalpos=3&amp;ncbi_uid=29985486&amp;link_uid=29985486&amp;linksrc=docsum_title\">Author Correction: What models eat.</a></p>\n",
      "----------------------------------------------\n",
      "<p class=\"title\" xmlns:mml=\"http://www.w3.org/1998/Math/MathML\"><a href=\"/pubmed/29977318\" ref=\"ordinalpos=4&amp;ncbi_uid=29977318&amp;link_uid=29977318&amp;linksrc=docsum_title\">Physical and Mental Effects of Bathing: A Randomized Intervention Study.</a></p>\n",
      "----------------------------------------------\n",
      "<p class=\"title\" xmlns:mml=\"http://www.w3.org/1998/Math/MathML\"><a href=\"/pubmed/29975496\" ref=\"ordinalpos=5&amp;ncbi_uid=29975496&amp;link_uid=29975496&amp;linksrc=docsum_title\">Günter Blobel (1936–2018)</a></p>\n",
      "----------------------------------------------\n",
      "<p class=\"title\" xmlns:mml=\"http://www.w3.org/1998/Math/MathML\"><a href=\"/pubmed/29995852\" ref=\"ordinalpos=6&amp;ncbi_uid=29995852&amp;link_uid=29995852&amp;linksrc=docsum_title\">Histidine catabolism is a major determinant of methotrexate sensitivity.</a></p>\n",
      "----------------------------------------------\n",
      "<p class=\"title\" xmlns:mml=\"http://www.w3.org/1998/Math/MathML\"><a href=\"/pubmed/29985479\" ref=\"ordinalpos=7&amp;ncbi_uid=29985479&amp;link_uid=29985479&amp;linksrc=docsum_title\">Enhancing T cell therapy through TCR-signaling-responsive nanoparticle drug delivery.</a></p>\n",
      "----------------------------------------------\n",
      "<p class=\"title\" xmlns:mml=\"http://www.w3.org/1998/Math/MathML\"><a href=\"/pubmed/29992272\" ref=\"ordinalpos=8&amp;ncbi_uid=29992272&amp;link_uid=29992272&amp;linksrc=docsum_title\">A randomized placebo-controlled clinical trial of nicotinamide riboside in obese men: safety, insulin-sensitivity, and lipid-mobilizing effects.</a></p>\n",
      "----------------------------------------------\n",
      "<p class=\"title\" xmlns:mml=\"http://www.w3.org/1998/Math/MathML\"><a href=\"/pubmed/29987334\" ref=\"ordinalpos=9&amp;ncbi_uid=29987334&amp;link_uid=29987334&amp;linksrc=docsum_title\">The Health Insurance Marketplaces.</a></p>\n",
      "----------------------------------------------\n",
      "<p class=\"title\" xmlns:mml=\"http://www.w3.org/1998/Math/MathML\"><a href=\"/pubmed/29995846\" ref=\"ordinalpos=10&amp;ncbi_uid=29995846&amp;link_uid=29995846&amp;linksrc=docsum_title\">Mechanism of parkin activation by PINK1.</a></p>\n",
      "----------------------------------------------\n",
      "<p class=\"title\" xmlns:mml=\"http://www.w3.org/1998/Math/MathML\"><a href=\"/pubmed/29980524\" ref=\"ordinalpos=11&amp;ncbi_uid=29980524&amp;link_uid=29980524&amp;linksrc=docsum_title\">Cancer-associated thrombosis in patients with implanted ports: a prospective multicenter French cohort study (ONCOCIP).</a></p>\n",
      "----------------------------------------------\n",
      "<p class=\"title\" xmlns:mml=\"http://www.w3.org/1998/Math/MathML\"><a href=\"/pubmed/29997250\" ref=\"ordinalpos=12&amp;ncbi_uid=29997250&amp;link_uid=29997250&amp;linksrc=docsum_title\">CRISPR-enhanced engineering of therapy-sensitive cancer cells for self-targeting of primary and metastatic tumors.</a></p>\n",
      "----------------------------------------------\n",
      "<p class=\"title\" xmlns:mml=\"http://www.w3.org/1998/Math/MathML\"><a href=\"/pubmed/29995860\" ref=\"ordinalpos=13&amp;ncbi_uid=29995860&amp;link_uid=29995860&amp;linksrc=docsum_title\">Evolution of a central neural circuit underlies Drosophila mate preferences.</a></p>\n",
      "----------------------------------------------\n",
      "<p class=\"title\" xmlns:mml=\"http://www.w3.org/1998/Math/MathML\"><a href=\"/pubmed/29988129\" ref=\"ordinalpos=14&amp;ncbi_uid=29988129&amp;link_uid=29988129&amp;linksrc=docsum_title\">Phenotype molding of stromal cells in the lung tumor microenvironment.</a></p>\n",
      "----------------------------------------------\n",
      "<p class=\"title\" xmlns:mml=\"http://www.w3.org/1998/Math/MathML\"><a href=\"/pubmed/29995856\" ref=\"ordinalpos=15&amp;ncbi_uid=29995856&amp;link_uid=29995856&amp;linksrc=docsum_title\">X-ray and cryo-EM structures of the mitochondrial calcium uniporter.</a></p>\n",
      "----------------------------------------------\n",
      "<p class=\"title\" xmlns:mml=\"http://www.w3.org/1998/Math/MathML\"><a href=\"/pubmed/29996103\" ref=\"ordinalpos=16&amp;ncbi_uid=29996103&amp;link_uid=29996103&amp;linksrc=docsum_title\">NAD<sup>+</sup> Depletion Triggers Macrophage Necroptosis, a Cell Death Pathway Exploited by Mycobacterium tuberculosis.</a></p>\n",
      "----------------------------------------------\n",
      "<p class=\"title\" xmlns:mml=\"http://www.w3.org/1998/Math/MathML\"><a href=\"/pubmed/29988143\" ref=\"ordinalpos=17&amp;ncbi_uid=29988143&amp;link_uid=29988143&amp;linksrc=docsum_title\">Somatic mutations precede acute myeloid leukemia years before diagnosis.</a></p>\n",
      "----------------------------------------------\n",
      "<p class=\"title\" xmlns:mml=\"http://www.w3.org/1998/Math/MathML\"><a href=\"/pubmed/29984374\" ref=\"ordinalpos=18&amp;ncbi_uid=29984374&amp;link_uid=29984374&amp;linksrc=docsum_title\">Long-acting Reversible Contraception-Highly Efficacious, Safe, and Underutilized.</a></p>\n",
      "----------------------------------------------\n",
      "<p class=\"title\" xmlns:mml=\"http://www.w3.org/1998/Math/MathML\"><a href=\"/pubmed/29996082\" ref=\"ordinalpos=19&amp;ncbi_uid=29996082&amp;link_uid=29996082&amp;linksrc=docsum_title\">Prevention of M. tuberculosis Infection with H4:IC31 Vaccine or BCG Revaccination.</a></p>\n",
      "----------------------------------------------\n",
      "<p class=\"title\" xmlns:mml=\"http://www.w3.org/1998/Math/MathML\"><a href=\"/pubmed/29996094\" ref=\"ordinalpos=20&amp;ncbi_uid=29996094&amp;link_uid=29996094&amp;linksrc=docsum_title\">RIG-I Recognizes the 5' Region of Dengue and Zika Virus Genomes.</a></p>\n",
      "----------------------------------------------\n"
     ]
    }
   ],
   "source": [
    "# loop through links to convert to string\n",
    "for i in range (len(links)):\n",
    "    links_all.append(str(links[i]))\n",
    "    print(links[i])\n",
    "    print(\"----------------------------------------------\")"
   ]
  },
  {
   "cell_type": "code",
   "execution_count": 12,
   "metadata": {
    "collapsed": true
   },
   "outputs": [],
   "source": [
    "# for i in links_all:\n",
    "#     print(i)\n",
    "#     print(\"----------------------------------------------\")"
   ]
  },
  {
   "cell_type": "code",
   "execution_count": 13,
   "metadata": {},
   "outputs": [
    {
     "data": {
      "text/plain": [
       "20"
      ]
     },
     "execution_count": 13,
     "metadata": {},
     "output_type": "execute_result"
    },
    {
     "data": {
      "text/plain": [
       "'<p class=\"title\" xmlns:mml=\"http://www.w3.org/1998/Math/MathML\"><a href=\"/pubmed/29995861\" ref=\"ordinalpos=1&amp;ncbi_uid=29995861&amp;link_uid=29995861&amp;linksrc=docsum_title\">Reprogramming human T cell function and specificity with non-viral genome targeting.</a></p>'"
      ]
     },
     "execution_count": 13,
     "metadata": {},
     "output_type": "execute_result"
    }
   ],
   "source": [
    "# slice through links_all to test\n",
    "len(links_all)\n",
    "links_all[0]"
   ]
  },
  {
   "cell_type": "markdown",
   "metadata": {},
   "source": [
    "### Regex test"
   ]
  },
  {
   "cell_type": "code",
   "execution_count": 14,
   "metadata": {
    "collapsed": true
   },
   "outputs": [],
   "source": [
    "regex_test = '<p class=\"title\" xmlns:mml=\"http://www.w3.org/1998/Math/MathML\"><a href=\"/pubmed/29985486\" ref=\"ordinalpos=1&amp;ncbi_uid=29985486&amp;link_uid=29985486&amp;linksrc=docsum_title\">Author Correction: What models eat.</a></p>'"
   ]
  },
  {
   "cell_type": "code",
   "execution_count": 15,
   "metadata": {},
   "outputs": [
    {
     "name": "stdout",
     "output_type": "stream",
     "text": [
      "<p class=\"title\" xmlns:mml=\"http://www.w3.org/1998/Math/MathML\"><a href=\"/pubmed/29985486\" ref=\"ordinalpos=1&amp;ncbi_uid=29985486&amp;link_uid=29985486&amp;linksrc=docsum_title\">Author Correction: What models eat.</a></p>\n"
     ]
    }
   ],
   "source": [
    "print(regex_test)"
   ]
  },
  {
   "cell_type": "code",
   "execution_count": 16,
   "metadata": {},
   "outputs": [
    {
     "data": {
      "text/plain": [
       "['29985486', '29985486', '29985486']"
      ]
     },
     "execution_count": 16,
     "metadata": {},
     "output_type": "execute_result"
    }
   ],
   "source": [
    "re.findall(r'\\d{8}',regex_test)"
   ]
  },
  {
   "cell_type": "markdown",
   "metadata": {},
   "source": [
    "### End Regex Test"
   ]
  },
  {
   "cell_type": "code",
   "execution_count": 17,
   "metadata": {
    "collapsed": true
   },
   "outputs": [],
   "source": [
    "# loop through links all and use regex to grab the id numbers\n",
    "for i in range (len(links_all)):\n",
    "    pubmed_ids.append(re.findall(r'\\d{8}',links_all[i]))"
   ]
  },
  {
   "cell_type": "code",
   "execution_count": 18,
   "metadata": {},
   "outputs": [
    {
     "data": {
      "text/plain": [
       "20"
      ]
     },
     "execution_count": 18,
     "metadata": {},
     "output_type": "execute_result"
    },
    {
     "data": {
      "text/plain": [
       "list"
      ]
     },
     "execution_count": 18,
     "metadata": {},
     "output_type": "execute_result"
    },
    {
     "name": "stdout",
     "output_type": "stream",
     "text": [
      "[['29995861', '29995861', '29995861'], ['29988082', '29988082', '29988082'], ['29985486', '29985486', '29985486'], ['29977318', '29977318', '29977318'], ['29975496', '29975496', '29975496'], ['29995852', '29995852', '29995852'], ['29985479', '29985479', '29985479'], ['29992272', '29992272', '29992272'], ['29987334', '29987334', '29987334'], ['29995846', '29995846', '29995846'], ['29980524', '29980524', '29980524'], ['29997250', '29997250', '29997250'], ['29995860', '29995860', '29995860'], ['29988129', '29988129', '29988129'], ['29995856', '29995856', '29995856'], ['29996103', '29996103', '29996103'], ['29988143', '29988143', '29988143'], ['29984374', '29984374', '29984374'], ['29996082', '29996082', '29996082'], ['29996094', '29996094', '29996094']]\n",
      "----------------------------------------------\n"
     ]
    }
   ],
   "source": [
    "# print out info for pubmed_ids\n",
    "len(pubmed_ids)\n",
    "type(pubmed_ids)\n",
    "print(pubmed_ids)\n",
    "print(\"----------------------------------------------\")"
   ]
  },
  {
   "cell_type": "code",
   "execution_count": 19,
   "metadata": {
    "collapsed": true
   },
   "outputs": [],
   "source": [
    "# use itertools to transform pubmed ids from an array withn an array into one list\n",
    "import itertools\n",
    "pubmed_merged = list(itertools.chain.from_iterable(pubmed_ids))"
   ]
  },
  {
   "cell_type": "code",
   "execution_count": 20,
   "metadata": {},
   "outputs": [
    {
     "data": {
      "text/plain": [
       "'29995861'"
      ]
     },
     "execution_count": 20,
     "metadata": {},
     "output_type": "execute_result"
    },
    {
     "name": "stdout",
     "output_type": "stream",
     "text": [
      "['29995861', '29995861', '29995861', '29988082', '29988082', '29988082', '29985486', '29985486', '29985486', '29977318', '29977318', '29977318', '29975496', '29975496', '29975496', '29995852', '29995852', '29995852', '29985479', '29985479', '29985479', '29992272', '29992272', '29992272', '29987334', '29987334', '29987334', '29995846', '29995846', '29995846', '29980524', '29980524', '29980524', '29997250', '29997250', '29997250', '29995860', '29995860', '29995860', '29988129', '29988129', '29988129', '29995856', '29995856', '29995856', '29996103', '29996103', '29996103', '29988143', '29988143', '29988143', '29984374', '29984374', '29984374', '29996082', '29996082', '29996082', '29996094', '29996094', '29996094']\n"
     ]
    }
   ],
   "source": [
    "# slice through pubmed_merged to see what itertools did\n",
    "pubmed_merged[0]\n",
    "print(pubmed_merged)"
   ]
  },
  {
   "cell_type": "code",
   "execution_count": 21,
   "metadata": {},
   "outputs": [
    {
     "name": "stdout",
     "output_type": "stream",
     "text": [
      "https://www.ncbi.nlm.nih.gov/pubmed/29995861\n"
     ]
    }
   ],
   "source": [
    "# concat main_url with a slice of pubmed_merged before we loop\n",
    "print(main_url + str(pubmed_merged[0]))"
   ]
  },
  {
   "cell_type": "code",
   "execution_count": 22,
   "metadata": {
    "collapsed": true
   },
   "outputs": [],
   "source": [
    "# append merged links to links_all\n",
    "for i in range (len(pubmed_merged)):\n",
    "    scrape_links.append(main_url + str(pubmed_merged[i]))"
   ]
  },
  {
   "cell_type": "code",
   "execution_count": 23,
   "metadata": {},
   "outputs": [
    {
     "name": "stdout",
     "output_type": "stream",
     "text": [
      "https://www.ncbi.nlm.nih.gov/pubmed/29995861\n",
      "https://www.ncbi.nlm.nih.gov/pubmed/29995861\n",
      "https://www.ncbi.nlm.nih.gov/pubmed/29995861\n",
      "https://www.ncbi.nlm.nih.gov/pubmed/29988082\n",
      "https://www.ncbi.nlm.nih.gov/pubmed/29988082\n",
      "https://www.ncbi.nlm.nih.gov/pubmed/29988082\n",
      "https://www.ncbi.nlm.nih.gov/pubmed/29985486\n",
      "https://www.ncbi.nlm.nih.gov/pubmed/29985486\n",
      "https://www.ncbi.nlm.nih.gov/pubmed/29985486\n",
      "https://www.ncbi.nlm.nih.gov/pubmed/29977318\n",
      "https://www.ncbi.nlm.nih.gov/pubmed/29977318\n",
      "https://www.ncbi.nlm.nih.gov/pubmed/29977318\n",
      "https://www.ncbi.nlm.nih.gov/pubmed/29975496\n",
      "https://www.ncbi.nlm.nih.gov/pubmed/29975496\n",
      "https://www.ncbi.nlm.nih.gov/pubmed/29975496\n",
      "https://www.ncbi.nlm.nih.gov/pubmed/29995852\n",
      "https://www.ncbi.nlm.nih.gov/pubmed/29995852\n",
      "https://www.ncbi.nlm.nih.gov/pubmed/29995852\n",
      "https://www.ncbi.nlm.nih.gov/pubmed/29985479\n",
      "https://www.ncbi.nlm.nih.gov/pubmed/29985479\n",
      "https://www.ncbi.nlm.nih.gov/pubmed/29985479\n",
      "https://www.ncbi.nlm.nih.gov/pubmed/29992272\n",
      "https://www.ncbi.nlm.nih.gov/pubmed/29992272\n",
      "https://www.ncbi.nlm.nih.gov/pubmed/29992272\n",
      "https://www.ncbi.nlm.nih.gov/pubmed/29987334\n",
      "https://www.ncbi.nlm.nih.gov/pubmed/29987334\n",
      "https://www.ncbi.nlm.nih.gov/pubmed/29987334\n",
      "https://www.ncbi.nlm.nih.gov/pubmed/29995846\n",
      "https://www.ncbi.nlm.nih.gov/pubmed/29995846\n",
      "https://www.ncbi.nlm.nih.gov/pubmed/29995846\n",
      "https://www.ncbi.nlm.nih.gov/pubmed/29980524\n",
      "https://www.ncbi.nlm.nih.gov/pubmed/29980524\n",
      "https://www.ncbi.nlm.nih.gov/pubmed/29980524\n",
      "https://www.ncbi.nlm.nih.gov/pubmed/29997250\n",
      "https://www.ncbi.nlm.nih.gov/pubmed/29997250\n",
      "https://www.ncbi.nlm.nih.gov/pubmed/29997250\n",
      "https://www.ncbi.nlm.nih.gov/pubmed/29995860\n",
      "https://www.ncbi.nlm.nih.gov/pubmed/29995860\n",
      "https://www.ncbi.nlm.nih.gov/pubmed/29995860\n",
      "https://www.ncbi.nlm.nih.gov/pubmed/29988129\n",
      "https://www.ncbi.nlm.nih.gov/pubmed/29988129\n",
      "https://www.ncbi.nlm.nih.gov/pubmed/29988129\n",
      "https://www.ncbi.nlm.nih.gov/pubmed/29995856\n",
      "https://www.ncbi.nlm.nih.gov/pubmed/29995856\n",
      "https://www.ncbi.nlm.nih.gov/pubmed/29995856\n",
      "https://www.ncbi.nlm.nih.gov/pubmed/29996103\n",
      "https://www.ncbi.nlm.nih.gov/pubmed/29996103\n",
      "https://www.ncbi.nlm.nih.gov/pubmed/29996103\n",
      "https://www.ncbi.nlm.nih.gov/pubmed/29988143\n",
      "https://www.ncbi.nlm.nih.gov/pubmed/29988143\n",
      "https://www.ncbi.nlm.nih.gov/pubmed/29988143\n",
      "https://www.ncbi.nlm.nih.gov/pubmed/29984374\n",
      "https://www.ncbi.nlm.nih.gov/pubmed/29984374\n",
      "https://www.ncbi.nlm.nih.gov/pubmed/29984374\n",
      "https://www.ncbi.nlm.nih.gov/pubmed/29996082\n",
      "https://www.ncbi.nlm.nih.gov/pubmed/29996082\n",
      "https://www.ncbi.nlm.nih.gov/pubmed/29996082\n",
      "https://www.ncbi.nlm.nih.gov/pubmed/29996094\n",
      "https://www.ncbi.nlm.nih.gov/pubmed/29996094\n",
      "https://www.ncbi.nlm.nih.gov/pubmed/29996094\n"
     ]
    }
   ],
   "source": [
    "for i in scrape_links:\n",
    "    print(i)"
   ]
  },
  {
   "cell_type": "markdown",
   "metadata": {},
   "source": [
    "# END TESTING SECTION------------------------------------------------------------\n",
    "<br>\n",
    "<br>"
   ]
  },
  {
   "cell_type": "markdown",
   "metadata": {},
   "source": [
    "## Function to create array of links to scrape"
   ]
  },
  {
   "cell_type": "code",
   "execution_count": 24,
   "metadata": {
    "collapsed": true
   },
   "outputs": [],
   "source": [
    "# set empty links_all list to append to \n",
    "links_all = []\n",
    "\n",
    "# set pubmed ids list to append to\n",
    "pubmed_ids = []\n",
    "\n",
    "# set empty list to append scrape_links to\n",
    "scrape_links = []\n",
    "\n",
    "# function to get links\n",
    "def get_links(main_url):\n",
    "    \n",
    "    # use bs to scarpe p tags with class - title\n",
    "    links = soup.find_all(\"p\",attrs={'class':'title'})\n",
    "      \n",
    "    # testing to see how my links / journals to scrape\n",
    "    articles_to_scrape = len(links)\n",
    "    print(f\"There are {articles_to_scrape} articles to scrape.\")\n",
    "    print(\"----------------------------------------------\")\n",
    "    \n",
    "    # loop through links to convert to string\n",
    "    for i in range (len(links)):\n",
    "        links_all.append(str(links[i]))\n",
    "        print(links[i])\n",
    "        print(\"----------------------------------------------\")\n",
    "        \n",
    "    # slice through links_all to test\n",
    "    len(links_all)\n",
    "    links_all[1]\n",
    "    \n",
    "    # loop through links all and use regex to grab the id numbers\n",
    "    for i in range (len(links_all)):\n",
    "        pubmed_ids.append(re.findall(r'\\d{8}',links_all[i]))\n",
    "    \n",
    "    # print out info for pubmed_ids\n",
    "    len(pubmed_ids)\n",
    "    type(pubmed_ids)\n",
    "    print(pubmed_ids)\n",
    "    print(\"----------------------------------------------\")\n",
    "    \n",
    "    # use itertools to transform pubmed ids from an array withn an array into one list\n",
    "    import itertools\n",
    "    pubmed_merged = list(itertools.chain.from_iterable(pubmed_ids))\n",
    "    \n",
    "    # slice through pubmed_merged to see what itertools did\n",
    "    pubmed_merged[0]\n",
    "    \n",
    "    # concat main_url with a slice of pubmed_merged before we loop\n",
    "    print(main_url + str(pubmed_merged[0]))\n",
    "    \n",
    "    # append merged links to links_all\n",
    "    for i in range (len(pubmed_merged)):\n",
    "        scrape_links.append(main_url + str(pubmed_merged[i]))"
   ]
  },
  {
   "cell_type": "code",
   "execution_count": 25,
   "metadata": {
    "scrolled": false
   },
   "outputs": [
    {
     "name": "stdout",
     "output_type": "stream",
     "text": [
      "There are 20 articles to scrape.\n",
      "----------------------------------------------\n",
      "<p class=\"title\" xmlns:mml=\"http://www.w3.org/1998/Math/MathML\"><a href=\"/pubmed/29995861\" ref=\"ordinalpos=1&amp;ncbi_uid=29995861&amp;link_uid=29995861&amp;linksrc=docsum_title\">Reprogramming human T cell function and specificity with non-viral genome targeting.</a></p>\n",
      "----------------------------------------------\n",
      "<p class=\"title\" xmlns:mml=\"http://www.w3.org/1998/Math/MathML\"><a href=\"/pubmed/29988082\" ref=\"ordinalpos=2&amp;ncbi_uid=29988082&amp;link_uid=29988082&amp;linksrc=docsum_title\">Prediction of acute myeloid leukaemia risk in healthy individuals.</a></p>\n",
      "----------------------------------------------\n",
      "<p class=\"title\" xmlns:mml=\"http://www.w3.org/1998/Math/MathML\"><a href=\"/pubmed/29985486\" ref=\"ordinalpos=3&amp;ncbi_uid=29985486&amp;link_uid=29985486&amp;linksrc=docsum_title\">Author Correction: What models eat.</a></p>\n",
      "----------------------------------------------\n",
      "<p class=\"title\" xmlns:mml=\"http://www.w3.org/1998/Math/MathML\"><a href=\"/pubmed/29977318\" ref=\"ordinalpos=4&amp;ncbi_uid=29977318&amp;link_uid=29977318&amp;linksrc=docsum_title\">Physical and Mental Effects of Bathing: A Randomized Intervention Study.</a></p>\n",
      "----------------------------------------------\n",
      "<p class=\"title\" xmlns:mml=\"http://www.w3.org/1998/Math/MathML\"><a href=\"/pubmed/29975496\" ref=\"ordinalpos=5&amp;ncbi_uid=29975496&amp;link_uid=29975496&amp;linksrc=docsum_title\">Günter Blobel (1936–2018)</a></p>\n",
      "----------------------------------------------\n",
      "<p class=\"title\" xmlns:mml=\"http://www.w3.org/1998/Math/MathML\"><a href=\"/pubmed/29995852\" ref=\"ordinalpos=6&amp;ncbi_uid=29995852&amp;link_uid=29995852&amp;linksrc=docsum_title\">Histidine catabolism is a major determinant of methotrexate sensitivity.</a></p>\n",
      "----------------------------------------------\n",
      "<p class=\"title\" xmlns:mml=\"http://www.w3.org/1998/Math/MathML\"><a href=\"/pubmed/29985479\" ref=\"ordinalpos=7&amp;ncbi_uid=29985479&amp;link_uid=29985479&amp;linksrc=docsum_title\">Enhancing T cell therapy through TCR-signaling-responsive nanoparticle drug delivery.</a></p>\n",
      "----------------------------------------------\n",
      "<p class=\"title\" xmlns:mml=\"http://www.w3.org/1998/Math/MathML\"><a href=\"/pubmed/29992272\" ref=\"ordinalpos=8&amp;ncbi_uid=29992272&amp;link_uid=29992272&amp;linksrc=docsum_title\">A randomized placebo-controlled clinical trial of nicotinamide riboside in obese men: safety, insulin-sensitivity, and lipid-mobilizing effects.</a></p>\n",
      "----------------------------------------------\n",
      "<p class=\"title\" xmlns:mml=\"http://www.w3.org/1998/Math/MathML\"><a href=\"/pubmed/29987334\" ref=\"ordinalpos=9&amp;ncbi_uid=29987334&amp;link_uid=29987334&amp;linksrc=docsum_title\">The Health Insurance Marketplaces.</a></p>\n",
      "----------------------------------------------\n",
      "<p class=\"title\" xmlns:mml=\"http://www.w3.org/1998/Math/MathML\"><a href=\"/pubmed/29995846\" ref=\"ordinalpos=10&amp;ncbi_uid=29995846&amp;link_uid=29995846&amp;linksrc=docsum_title\">Mechanism of parkin activation by PINK1.</a></p>\n",
      "----------------------------------------------\n",
      "<p class=\"title\" xmlns:mml=\"http://www.w3.org/1998/Math/MathML\"><a href=\"/pubmed/29980524\" ref=\"ordinalpos=11&amp;ncbi_uid=29980524&amp;link_uid=29980524&amp;linksrc=docsum_title\">Cancer-associated thrombosis in patients with implanted ports: a prospective multicenter French cohort study (ONCOCIP).</a></p>\n",
      "----------------------------------------------\n",
      "<p class=\"title\" xmlns:mml=\"http://www.w3.org/1998/Math/MathML\"><a href=\"/pubmed/29997250\" ref=\"ordinalpos=12&amp;ncbi_uid=29997250&amp;link_uid=29997250&amp;linksrc=docsum_title\">CRISPR-enhanced engineering of therapy-sensitive cancer cells for self-targeting of primary and metastatic tumors.</a></p>\n",
      "----------------------------------------------\n",
      "<p class=\"title\" xmlns:mml=\"http://www.w3.org/1998/Math/MathML\"><a href=\"/pubmed/29995860\" ref=\"ordinalpos=13&amp;ncbi_uid=29995860&amp;link_uid=29995860&amp;linksrc=docsum_title\">Evolution of a central neural circuit underlies Drosophila mate preferences.</a></p>\n",
      "----------------------------------------------\n",
      "<p class=\"title\" xmlns:mml=\"http://www.w3.org/1998/Math/MathML\"><a href=\"/pubmed/29988129\" ref=\"ordinalpos=14&amp;ncbi_uid=29988129&amp;link_uid=29988129&amp;linksrc=docsum_title\">Phenotype molding of stromal cells in the lung tumor microenvironment.</a></p>\n",
      "----------------------------------------------\n",
      "<p class=\"title\" xmlns:mml=\"http://www.w3.org/1998/Math/MathML\"><a href=\"/pubmed/29995856\" ref=\"ordinalpos=15&amp;ncbi_uid=29995856&amp;link_uid=29995856&amp;linksrc=docsum_title\">X-ray and cryo-EM structures of the mitochondrial calcium uniporter.</a></p>\n",
      "----------------------------------------------\n",
      "<p class=\"title\" xmlns:mml=\"http://www.w3.org/1998/Math/MathML\"><a href=\"/pubmed/29996103\" ref=\"ordinalpos=16&amp;ncbi_uid=29996103&amp;link_uid=29996103&amp;linksrc=docsum_title\">NAD<sup>+</sup> Depletion Triggers Macrophage Necroptosis, a Cell Death Pathway Exploited by Mycobacterium tuberculosis.</a></p>\n",
      "----------------------------------------------\n",
      "<p class=\"title\" xmlns:mml=\"http://www.w3.org/1998/Math/MathML\"><a href=\"/pubmed/29988143\" ref=\"ordinalpos=17&amp;ncbi_uid=29988143&amp;link_uid=29988143&amp;linksrc=docsum_title\">Somatic mutations precede acute myeloid leukemia years before diagnosis.</a></p>\n",
      "----------------------------------------------\n",
      "<p class=\"title\" xmlns:mml=\"http://www.w3.org/1998/Math/MathML\"><a href=\"/pubmed/29984374\" ref=\"ordinalpos=18&amp;ncbi_uid=29984374&amp;link_uid=29984374&amp;linksrc=docsum_title\">Long-acting Reversible Contraception-Highly Efficacious, Safe, and Underutilized.</a></p>\n",
      "----------------------------------------------\n",
      "<p class=\"title\" xmlns:mml=\"http://www.w3.org/1998/Math/MathML\"><a href=\"/pubmed/29996082\" ref=\"ordinalpos=19&amp;ncbi_uid=29996082&amp;link_uid=29996082&amp;linksrc=docsum_title\">Prevention of M. tuberculosis Infection with H4:IC31 Vaccine or BCG Revaccination.</a></p>\n",
      "----------------------------------------------\n",
      "<p class=\"title\" xmlns:mml=\"http://www.w3.org/1998/Math/MathML\"><a href=\"/pubmed/29996094\" ref=\"ordinalpos=20&amp;ncbi_uid=29996094&amp;link_uid=29996094&amp;linksrc=docsum_title\">RIG-I Recognizes the 5' Region of Dengue and Zika Virus Genomes.</a></p>\n",
      "----------------------------------------------\n",
      "[['29995861', '29995861', '29995861'], ['29988082', '29988082', '29988082'], ['29985486', '29985486', '29985486'], ['29977318', '29977318', '29977318'], ['29975496', '29975496', '29975496'], ['29995852', '29995852', '29995852'], ['29985479', '29985479', '29985479'], ['29992272', '29992272', '29992272'], ['29987334', '29987334', '29987334'], ['29995846', '29995846', '29995846'], ['29980524', '29980524', '29980524'], ['29997250', '29997250', '29997250'], ['29995860', '29995860', '29995860'], ['29988129', '29988129', '29988129'], ['29995856', '29995856', '29995856'], ['29996103', '29996103', '29996103'], ['29988143', '29988143', '29988143'], ['29984374', '29984374', '29984374'], ['29996082', '29996082', '29996082'], ['29996094', '29996094', '29996094']]\n",
      "----------------------------------------------\n",
      "https://www.ncbi.nlm.nih.gov/pubmed/29995861\n"
     ]
    }
   ],
   "source": [
    "# RUN FUNCTION\n",
    "get_links(main_url)"
   ]
  },
  {
   "cell_type": "markdown",
   "metadata": {},
   "source": [
    "<br>\n",
    "There are duplicates in our **scrape_links** array. Use `list` to delete the duplicates."
   ]
  },
  {
   "cell_type": "code",
   "execution_count": 26,
   "metadata": {},
   "outputs": [
    {
     "data": {
      "text/plain": [
       "20"
      ]
     },
     "execution_count": 26,
     "metadata": {},
     "output_type": "execute_result"
    },
    {
     "data": {
      "text/plain": [
       "['https://www.ncbi.nlm.nih.gov/pubmed/29985486',\n",
       " 'https://www.ncbi.nlm.nih.gov/pubmed/29995846',\n",
       " 'https://www.ncbi.nlm.nih.gov/pubmed/29997250',\n",
       " 'https://www.ncbi.nlm.nih.gov/pubmed/29995860',\n",
       " 'https://www.ncbi.nlm.nih.gov/pubmed/29995852',\n",
       " 'https://www.ncbi.nlm.nih.gov/pubmed/29996082',\n",
       " 'https://www.ncbi.nlm.nih.gov/pubmed/29987334',\n",
       " 'https://www.ncbi.nlm.nih.gov/pubmed/29988129',\n",
       " 'https://www.ncbi.nlm.nih.gov/pubmed/29988082',\n",
       " 'https://www.ncbi.nlm.nih.gov/pubmed/29996103',\n",
       " 'https://www.ncbi.nlm.nih.gov/pubmed/29984374',\n",
       " 'https://www.ncbi.nlm.nih.gov/pubmed/29995856',\n",
       " 'https://www.ncbi.nlm.nih.gov/pubmed/29977318',\n",
       " 'https://www.ncbi.nlm.nih.gov/pubmed/29975496',\n",
       " 'https://www.ncbi.nlm.nih.gov/pubmed/29995861',\n",
       " 'https://www.ncbi.nlm.nih.gov/pubmed/29996094',\n",
       " 'https://www.ncbi.nlm.nih.gov/pubmed/29980524',\n",
       " 'https://www.ncbi.nlm.nih.gov/pubmed/29992272',\n",
       " 'https://www.ncbi.nlm.nih.gov/pubmed/29985479',\n",
       " 'https://www.ncbi.nlm.nih.gov/pubmed/29988143']"
      ]
     },
     "execution_count": 26,
     "metadata": {},
     "output_type": "execute_result"
    }
   ],
   "source": [
    "# delete duplicates in scrape_links and assign to new variable scrape_links_final\n",
    "scrape_links_final = list(set(scrape_links))\n",
    "len(scrape_links_final)\n",
    "scrape_links_final"
   ]
  },
  {
   "cell_type": "markdown",
   "metadata": {},
   "source": [
    "## Main array of links to scrape:\n",
    "\n",
    "Here we use selenium to iterate through these links. Seleium will click on each link then scrape the title and abstracts on each page. "
   ]
  },
  {
   "cell_type": "code",
   "execution_count": 27,
   "metadata": {},
   "outputs": [
    {
     "name": "stdout",
     "output_type": "stream",
     "text": [
      "https://www.ncbi.nlm.nih.gov/pubmed/29985486\n",
      "https://www.ncbi.nlm.nih.gov/pubmed/29995846\n",
      "https://www.ncbi.nlm.nih.gov/pubmed/29997250\n",
      "https://www.ncbi.nlm.nih.gov/pubmed/29995860\n",
      "https://www.ncbi.nlm.nih.gov/pubmed/29995852\n",
      "https://www.ncbi.nlm.nih.gov/pubmed/29996082\n",
      "https://www.ncbi.nlm.nih.gov/pubmed/29987334\n",
      "https://www.ncbi.nlm.nih.gov/pubmed/29988129\n",
      "https://www.ncbi.nlm.nih.gov/pubmed/29988082\n",
      "https://www.ncbi.nlm.nih.gov/pubmed/29996103\n",
      "https://www.ncbi.nlm.nih.gov/pubmed/29984374\n",
      "https://www.ncbi.nlm.nih.gov/pubmed/29995856\n",
      "https://www.ncbi.nlm.nih.gov/pubmed/29977318\n",
      "https://www.ncbi.nlm.nih.gov/pubmed/29975496\n",
      "https://www.ncbi.nlm.nih.gov/pubmed/29995861\n",
      "https://www.ncbi.nlm.nih.gov/pubmed/29996094\n",
      "https://www.ncbi.nlm.nih.gov/pubmed/29980524\n",
      "https://www.ncbi.nlm.nih.gov/pubmed/29992272\n",
      "https://www.ncbi.nlm.nih.gov/pubmed/29985479\n",
      "https://www.ncbi.nlm.nih.gov/pubmed/29988143\n"
     ]
    }
   ],
   "source": [
    "# testing scrape_links\n",
    "for i in scrape_links_final:\n",
    "    print(i)"
   ]
  },
  {
   "cell_type": "markdown",
   "metadata": {},
   "source": [
    "### Add timer to main function when scraping"
   ]
  },
  {
   "cell_type": "code",
   "execution_count": 28,
   "metadata": {},
   "outputs": [
    {
     "data": {
      "text/plain": [
       "['https://www.ncbi.nlm.nih.gov/pubmed/29985486',\n",
       " 'https://www.ncbi.nlm.nih.gov/pubmed/29995846',\n",
       " 'https://www.ncbi.nlm.nih.gov/pubmed/29997250',\n",
       " 'https://www.ncbi.nlm.nih.gov/pubmed/29995860',\n",
       " 'https://www.ncbi.nlm.nih.gov/pubmed/29995852']"
      ]
     },
     "execution_count": 28,
     "metadata": {},
     "output_type": "execute_result"
    },
    {
     "data": {
      "text/plain": [
       "['https://www.ncbi.nlm.nih.gov/pubmed/29996082',\n",
       " 'https://www.ncbi.nlm.nih.gov/pubmed/29987334',\n",
       " 'https://www.ncbi.nlm.nih.gov/pubmed/29988129',\n",
       " 'https://www.ncbi.nlm.nih.gov/pubmed/29988082',\n",
       " 'https://www.ncbi.nlm.nih.gov/pubmed/29996103']"
      ]
     },
     "execution_count": 28,
     "metadata": {},
     "output_type": "execute_result"
    },
    {
     "data": {
      "text/plain": [
       "['https://www.ncbi.nlm.nih.gov/pubmed/29984374',\n",
       " 'https://www.ncbi.nlm.nih.gov/pubmed/29995856',\n",
       " 'https://www.ncbi.nlm.nih.gov/pubmed/29977318',\n",
       " 'https://www.ncbi.nlm.nih.gov/pubmed/29975496',\n",
       " 'https://www.ncbi.nlm.nih.gov/pubmed/29995861']"
      ]
     },
     "execution_count": 28,
     "metadata": {},
     "output_type": "execute_result"
    },
    {
     "data": {
      "text/plain": [
       "['https://www.ncbi.nlm.nih.gov/pubmed/29996094',\n",
       " 'https://www.ncbi.nlm.nih.gov/pubmed/29980524',\n",
       " 'https://www.ncbi.nlm.nih.gov/pubmed/29992272',\n",
       " 'https://www.ncbi.nlm.nih.gov/pubmed/29985479',\n",
       " 'https://www.ncbi.nlm.nih.gov/pubmed/29988143']"
      ]
     },
     "execution_count": 28,
     "metadata": {},
     "output_type": "execute_result"
    }
   ],
   "source": [
    "# slice out scrape_links_final so we can scrape 5 articles at a time\n",
    "links_1 = scrape_links_final[0:5]\n",
    "links_1\n",
    "\n",
    "links_2 = scrape_links_final[5:10]\n",
    "links_2\n",
    "\n",
    "links_3 = scrape_links_final[10:15]\n",
    "links_3\n",
    "\n",
    "links_4 = scrape_links_final[15:20]\n",
    "links_4"
   ]
  },
  {
   "cell_type": "markdown",
   "metadata": {},
   "source": [
    "## Regex Notes"
   ]
  },
  {
   "cell_type": "code",
   "execution_count": 29,
   "metadata": {
    "collapsed": true
   },
   "outputs": [],
   "source": [
    "# Regex\n",
    "# Identifiers:\n",
    "# \\d any number\n",
    "# \\D anything but a number\n",
    "# \\s space\n",
    "# \\S anything but a space\n",
    "# \\w any character\n",
    "# \\W anything but a character\n",
    "# . any character, except for a newline\n",
    "# \\b the whitespace around words\n",
    "# \\. a period\n",
    "\n",
    "# Modifiers:\n",
    "# {1,3} we're expecting 1-3 \\d{1-3}\n",
    "# + Match 1 or more\n",
    "# ? Match 0 or more\n",
    "# * Match 0 or more\n",
    "# $ Match the end of a string\n",
    "# ^ matching the beginning of a string\n",
    "# | either or\n",
    "# [] range or \"variance\" [A-Za-z] [1-5a-qA-Z]\n",
    "# {x} expecting \"x\" amount\n",
    "\n",
    "# White Space Characters: \n",
    "# \\n new line\n",
    "# \\s space\n",
    "# \\t tab\n",
    "# \\e escape\n",
    "# \\f form feed\n",
    "# \\r return\n",
    "\n",
    "# DONT FORGET!:\n",
    "# . + * [] $ ^ () {} | \\"
   ]
  },
  {
   "cell_type": "markdown",
   "metadata": {
    "collapsed": true
   },
   "source": [
    "## Selenium\n",
    "**Web Browser Automation**"
   ]
  },
  {
   "cell_type": "code",
   "execution_count": 30,
   "metadata": {
    "collapsed": true
   },
   "outputs": [],
   "source": [
    "from splinter import Browser\n",
    "from selenium import webdriver"
   ]
  },
  {
   "cell_type": "code",
   "execution_count": 31,
   "metadata": {
    "collapsed": true
   },
   "outputs": [],
   "source": [
    "# make sure chrome browser exe is in current directory\n",
    "# chrome browser exe is not necessary for MACS\n",
    "executable_path = {'executable_path': 'chromedriver'}"
   ]
  },
  {
   "cell_type": "markdown",
   "metadata": {},
   "source": [
    "## Set up dictionary to append data to"
   ]
  },
  {
   "cell_type": "code",
   "execution_count": 32,
   "metadata": {},
   "outputs": [],
   "source": [
    "article_dict = {}"
   ]
  },
  {
   "cell_type": "markdown",
   "metadata": {},
   "source": [
    "## Create get_article_info function"
   ]
  },
  {
   "cell_type": "code",
   "execution_count": 33,
   "metadata": {
    "collapsed": true
   },
   "outputs": [],
   "source": [
    "title = []\n",
    "abstract = []\n",
    "\n",
    "def get_article_info(links_1):\n",
    "    \n",
    "    # iterate through articles\n",
    "    for i in links_1:\n",
    "        \n",
    "        # sets up scraper\n",
    "        browser = Browser('chrome', headless=False)\n",
    "        html = browser.html\n",
    "        response2 = requests.get(i)\n",
    "        soup2 = bs(response2.text, 'html.parser')\n",
    "    \n",
    "        browser.visit(i)\n",
    "    \n",
    "        # there are two 'h1' tags on this page. slice out index 0\n",
    "        title_one = soup2.find_all('h1')\n",
    "        article_one_title = title_one[1].text.strip()\n",
    "    \n",
    "        # slice h1 at index 1 to grab article title\n",
    "        title.append(article_one_title)\n",
    "    \n",
    "        # get abstract \n",
    "        # abstract.append(soup2.find(\"div\", attrs={'class': 'rprt_all'}).text.strip())     \n",
    "        abstract.append(soup2.find(\"div\", attrs={'class': 'rprt abstract'}).text.strip())\n",
    "        \n",
    "        article_dict[\"title\"] = title\n",
    "        article_dict[\"abstract\"] = abstract"
   ]
  },
  {
   "cell_type": "markdown",
   "metadata": {},
   "source": [
    "## Run article_info function"
   ]
  },
  {
   "cell_type": "code",
   "execution_count": 37,
   "metadata": {},
   "outputs": [
    {
     "data": {
      "text/plain": [
       "['Author Correction: What models eat.',\n",
       " 'Mechanism of parkin activation by PINK1.',\n",
       " 'CRISPR-enhanced engineering of therapy-sensitive cancer cells for self-targeting of primary and metastatic tumors.',\n",
       " 'Evolution of a central neural circuit underlies Drosophila mate preferences.',\n",
       " 'Histidine catabolism is a major determinant of methotrexate sensitivity.']"
      ]
     },
     "execution_count": 37,
     "metadata": {},
     "output_type": "execute_result"
    }
   ],
   "source": [
    "title"
   ]
  },
  {
   "cell_type": "code",
   "execution_count": 36,
   "metadata": {
    "collapsed": true
   },
   "outputs": [],
   "source": [
    "get_article_info(links_1)"
   ]
  },
  {
   "cell_type": "code",
   "execution_count": 51,
   "metadata": {
    "collapsed": true
   },
   "outputs": [],
   "source": [
    "get_article_info(links_2)"
   ]
  },
  {
   "cell_type": "code",
   "execution_count": null,
   "metadata": {
    "collapsed": true
   },
   "outputs": [],
   "source": [
    "get_article_info(links_3)"
   ]
  },
  {
   "cell_type": "code",
   "execution_count": null,
   "metadata": {
    "collapsed": true
   },
   "outputs": [],
   "source": [
    "get_article_info(links_4)"
   ]
  },
  {
   "cell_type": "code",
   "execution_count": 52,
   "metadata": {},
   "outputs": [
    {
     "name": "stdout",
     "output_type": "stream",
     "text": [
      "Author Correction: What models eat.\n",
      "\n",
      "Mechanism of parkin activation by PINK1.\n",
      "\n",
      "CRISPR-enhanced engineering of therapy-sensitive cancer cells for self-targeting of primary and metastatic tumors.\n",
      "\n",
      "Evolution of a central neural circuit underlies Drosophila mate preferences.\n",
      "\n",
      "Histidine catabolism is a major determinant of methotrexate sensitivity.\n",
      "\n",
      "Prevention of M. tuberculosis Infection with H4:IC31 Vaccine or BCG Revaccination.\n",
      "\n",
      "The Health Insurance Marketplaces.\n",
      "\n",
      "Phenotype molding of stromal cells in the lung tumor microenvironment.\n",
      "\n",
      "Prediction of acute myeloid leukaemia risk in healthy individuals.\n",
      "\n",
      "NAD+ Depletion Triggers Macrophage Necroptosis, a Cell Death Pathway Exploited by Mycobacterium tuberculosis.\n",
      "\n"
     ]
    },
    {
     "data": {
      "text/plain": [
       "10"
      ]
     },
     "execution_count": 52,
     "metadata": {},
     "output_type": "execute_result"
    }
   ],
   "source": [
    "for i in title:\n",
    "    print(i + \"\\n\")\n",
    "\n",
    "len(title)"
   ]
  },
  {
   "cell_type": "code",
   "execution_count": 39,
   "metadata": {
    "scrolled": false
   },
   "outputs": [
    {
     "name": "stdout",
     "output_type": "stream",
     "text": [
      "Nat Med. 2018 Jul 9. doi: 10.1038/s41591-018-0133-4. [Epub ahead of print]Author Correction: What models eat.Engber D1.Author information1Freelance science journalist and can be found on Twitter at @danengber, . danengber@yahoo.com.AbstractIn the version of this article originally published, there was an error in the sentence \"That quest, which started in the 1980s, continues through until today: For a paper published online in 2017, a group of researchers based at Brazil's Federal University of Rio Grande do Sul tested Sprague Dawley rats on either a high-fat diet, a cafeteria diet or what they called a 'Western diet', formulated to match up more closely with eating patterns in developed nations (it had 42.5% of its calories from fat and added salt and carbohydrates).\" Wistar rats were used in the experiment, not Sprague Dawley rats. Also, in ref. 7, the first author's last name was listed as Bortoloin. The correct spelling is Bortolin. The errors have been corrected in the HTML and PDF versions of this article.Erratum forWhat models eat. [Nat Med.  2018]PMID: 29985486 DOI: 10.1038/s41591-018-0133-4 SharePublication typePublication typePublished ErratumLinkOut - more resourcesFull Text SourcesNature Publishing Group\n",
      "\n",
      "\n",
      "Nature. 2018 Jun 6. doi: 10.1038/s41586-018-0224-x. [Epub ahead of print]Mechanism of parkin activation by PINK1.Gladkova C1, Maslen SL1, Skehel JM1, Komander D2.Author information1Medical Research Council Laboratory of Molecular Biology, Cambridge, UK.2Medical Research Council Laboratory of Molecular Biology, Cambridge, UK. dk@mrc-lmb.cam.ac.uk.AbstractMutations in the E3 ubiquitin ligase parkin (PARK2, also known as PRKN) and the protein kinase PINK1 (also known as PARK6) are linked to autosomal-recessive juvenile parkinsonism (AR-JP)1,2; at the cellular level, these mutations cause defects in mitophagy, the process that organizes the destruction of damaged mitochondria3,4. Parkin is autoinhibited, and requires activation by PINK1, which phosphorylates Ser65 in ubiquitin and in the parkin ubiquitin-like (Ubl) domain. Parkin binds phospho-ubiquitin, which enables efficient parkin phosphorylation; however, the enzyme remains autoinhibited with an inaccessible active site5,6. It is unclear how phosphorylation of parkin activates the molecule. Here we follow the activation of full-length human parkin by hydrogen-deuterium exchange mass spectrometry, and reveal large-scale domain rearrangement in the activation process, during which the phospho-Ubl rebinds to the parkin core and releases the catalytic RING2 domain. A 1.8 Å crystal structure of phosphorylated human parkin reveals the binding site of the phospho-Ubl on the unique parkin domain (UPD), involving a phosphate-binding pocket lined by AR-JP mutations. Notably, a conserved linker region between Ubl and the UPD acts as an activating element (ACT) that contributes to RING2 release by mimicking RING2 interactions on the UPD, explaining further AR-JP mutations. Our data show how autoinhibition in parkin is resolved, and suggest a mechanism for how parkin ubiquitinates its substrates via an untethered RING2 domain. These findings open new avenues for the design of parkin activators for clinical use.PMID: 29995846 DOI: 10.1038/s41586-018-0224-x ShareLinkOut - more resourcesFull Text SourcesNature Publishing GroupMiscellaneousNCI CPTC Antibody Characterization Program\n",
      "\n",
      "\n",
      "Sci Transl Med. 2018 Jul 11;10(449). pii: eaao3240. doi: 10.1126/scitranslmed.aao3240.CRISPR-enhanced engineering of therapy-sensitive cancer cells for self-targeting of primary and metastatic tumors.Reinshagen C1,2,3, Bhere D1,2,3, Choi SH1,2,3, Hutten S3, Nesterenko I3, Wakimoto H1,2,4, Le Roux E3, Rizvi A3, Du W3, Minicucci C3, Shah K5,2,3,6.Author information1Center for Stem Cell Therapeutics and Imaging, Brigham and Women's Hospital, Harvard Medical School, Boston, MA 02115, USA.2Department of Neurosurgery, Brigham and Women's Hospital, Harvard Medical School, Boston, MA 02115, USA.3Department of Radiology, Massachusetts General Hospital, Harvard Medical School, Boston, MA 02114, USA.4Department of Neurosurgery, Massachusetts General Hospital, Harvard Medical School, Boston, MA 02114, USA.5Center for Stem Cell Therapeutics and Imaging, Brigham and Women's Hospital, Harvard Medical School, Boston, MA 02115, USA. kshah@bwh.harvard.edu.6Harvard Stem Cell Institute, Harvard University, Cambridge, MA 02138, USA.AbstractTumor cells engineered to express therapeutic agents have shown promise to treat cancer. However, their potential to target cell surface receptors specific to the tumor site and their posttreatment fate have not been explored. We created therapeutic tumor cells expressing ligands specific to primary and recurrent tumor sites (receptor self-targeted tumor cells) and extensively characterized two different approaches using (i) therapy-resistant cancer cells, engineered with secretable death receptor-targeting ligands for \"off-the-shelf\" therapy in primary tumor settings, and (ii) therapy-sensitive cancer cells, which were CRISPR-engineered to knock out therapy-specific cell surface receptors before engineering with receptor self-targeted ligands and reapplied in autologous models of recurrent or metastatic disease. We show that both approaches allow high expression of targeted ligands that induce tumor cell killing and translate into marked survival benefits in mouse models of multiple cancer types. Safe elimination of therapeutic cancer cells after treatment was achieved by co-engineering with a prodrug-converting suicide system, which also allowed for real-time in vivo positron emission tomography imaging of therapeutic tumor cell fate. This study demonstrates self-tumor tropism of engineered cancer cells and their therapeutic potential when engineered with receptor self-targeted molecules, and it establishes a roadmap toward a safe clinical translation for different cancer types in primary, recurrent, and metastatic settings.PMID: 29997250 DOI: 10.1126/scitranslmed.aao3240 ShareLinkOut - more resourcesFull Text SourcesHighWire\n",
      "\n",
      "\n",
      "Nature. 2018 Jul 11. doi: 10.1038/s41586-018-0322-9. [Epub ahead of print]Evolution of a central neural circuit underlies Drosophila mate preferences.Seeholzer LF1, Seppo M1, Stern DL2, Ruta V3.Author information1Laboratory of Neurophysiology and Behavior, The Rockefeller University, New York, NY, USA.2Janelia Research Campus, Howard Hughes Medical Institute, Ashburn, VA, USA.3Laboratory of Neurophysiology and Behavior, The Rockefeller University, New York, NY, USA. ruta@rockefeller.edu.AbstractCourtship rituals serve to reinforce reproductive barriers between closely related species. Drosophila melanogaster and Drosophila simulans exhibit reproductive isolation, owing in part to the fact that D. melanogaster females produce 7,11-heptacosadiene, a pheromone that promotes courtship in D. melanogaster males but suppresses courtship in D. simulans males. Here we compare pheromone-processing pathways in D. melanogaster and D. simulans males to define how these sister species endow 7,11-heptacosadiene with the opposite behavioural valence to underlie species discrimination. We show that males of both species detect 7,11-heptacosadiene using homologous peripheral sensory neurons, but this signal is differentially propagated to P1 neurons, which control courtship behaviour. A change in the balance of excitation and inhibition onto courtship-promoting neurons transforms an excitatory pheromonal cue in D. melanogaster into an inhibitory cue in D. simulans. Our results reveal how species-specific pheromone responses can emerge from conservation of peripheral detection mechanisms and diversification of central circuitry, and demonstrate how flexible nodes in neural circuits can contribute to behavioural evolution.PMID: 29995860 DOI: 10.1038/s41586-018-0322-9 ShareLinkOut - more resourcesFull Text SourcesNature Publishing Group\n",
      "\n",
      "\n",
      "Nature. 2018 Jul 11. doi: 10.1038/s41586-018-0316-7. [Epub ahead of print]Histidine catabolism is a major determinant of methotrexate sensitivity.Kanarek N1,2,3,4, Keys HR1, Cantor JR1,2,3,4, Lewis CA1, Chan SH1, Kunchok T1, Abu-Remaileh M1,2,3,4, Freinkman E1, Schweitzer LD4, Sabatini DM5,6,7,8.Author information1Whitehead Institute for Biomedical Research and Massachusetts Institute of Technology, Department of Biology, Cambridge, MA, USA.2Howard Hughes Medical Institute, Department of Biology, Massachusetts Institute of Technology, Cambridge, MA, USA.3Koch Institute for Integrative Cancer Research and Massachusetts Institute of Technology, Department of Biology, Cambridge, MA, USA.4Broad Institute of Harvard and Massachusetts Institute of Technology, Cambridge, MA, USA.5Whitehead Institute for Biomedical Research and Massachusetts Institute of Technology, Department of Biology, Cambridge, MA, USA. sabatini@wi.mit.edu.6Howard Hughes Medical Institute, Department of Biology, Massachusetts Institute of Technology, Cambridge, MA, USA. sabatini@wi.mit.edu.7Koch Institute for Integrative Cancer Research and Massachusetts Institute of Technology, Department of Biology, Cambridge, MA, USA. sabatini@wi.mit.edu.8Broad Institute of Harvard and Massachusetts Institute of Technology, Cambridge, MA, USA. sabatini@wi.mit.edu.AbstractThe chemotherapeutic drug methotrexate inhibits the enzyme dihydrofolate reductase1, which generates tetrahydrofolate, an essential cofactor in nucleotide synthesis2. Depletion of tetrahydrofolate causes cell death by suppressing DNA and RNA production3. Although methotrexate is widely used as an anticancer agent and is the subject of over a thousand ongoing clinical trials4, its high toxicity often leads to the premature termination of its use, which reduces its potential efficacy5. To identify genes that modulate the response of cancer cells to methotrexate, we performed a CRISPR-Cas9-based screen6,7. This screen yielded FTCD, which encodes an enzyme-formimidoyltransferase cyclodeaminase-that is required for the catabolism of the amino acid histidine8, a process that has not previously been linked to methotrexate sensitivity. In cultured cancer cells, depletion of several genes in the histidine degradation pathway markedly decreased sensitivity to methotrexate. Mechanistically, histidine catabolism drains the cellular pool of tetrahydrofolate, which is particularly detrimental to methotrexate-treated cells. Moreover, expression of the rate-limiting enzyme in histidine catabolism is associated with methotrexate sensitivity in cancer cell lines and with survival rate in patients. In vivo dietary supplementation of histidine increased flux through the histidine degradation pathway and enhanced the sensitivity of leukaemia xenografts to methotrexate. The histidine degradation pathway markedly influences the sensitivity of cancer cells to methotrexate and may be exploited to improve methotrexate efficacy through a simple dietary intervention.PMID: 29995852 DOI: 10.1038/s41586-018-0316-7 ShareGrant supportGrant supportR01 CA129105/CA/NCI NIH HHS/United StatesLinkOut - more resourcesFull Text SourcesNature Publishing Group\n",
      "\n",
      "\n"
     ]
    },
    {
     "data": {
      "text/plain": [
       "5"
      ]
     },
     "execution_count": 39,
     "metadata": {},
     "output_type": "execute_result"
    }
   ],
   "source": [
    "for i in abstract:\n",
    "    print(i)\n",
    "    print(\"\\n\")\n",
    "\n",
    "len(abstract)"
   ]
  },
  {
   "cell_type": "markdown",
   "metadata": {},
   "source": [
    "## Add title and abstract to article_dict"
   ]
  },
  {
   "cell_type": "code",
   "execution_count": 53,
   "metadata": {
    "scrolled": false
   },
   "outputs": [
    {
     "data": {
      "text/plain": [
       "{'abstract': ['Nat Med. 2018 Jul 9. doi: 10.1038/s41591-018-0133-4. [Epub ahead of print]Author Correction: What models eat.Engber D1.Author information1Freelance science journalist and can be found on Twitter at @danengber, . danengber@yahoo.com.AbstractIn the version of this article originally published, there was an error in the sentence \"That quest, which started in the 1980s, continues through until today: For a paper published online in 2017, a group of researchers based at Brazil\\'s Federal University of Rio Grande do Sul tested Sprague Dawley rats on either a high-fat diet, a cafeteria diet or what they called a \\'Western diet\\', formulated to match up more closely with eating patterns in developed nations (it had 42.5% of its calories from fat and added salt and carbohydrates).\" Wistar rats were used in the experiment, not Sprague Dawley rats. Also, in ref. 7, the first author\\'s last name was listed as Bortoloin. The correct spelling is Bortolin. The errors have been corrected in the HTML and PDF versions of this article.Erratum forWhat models eat. [Nat Med.  2018]PMID: 29985486 DOI: 10.1038/s41591-018-0133-4 SharePublication typePublication typePublished ErratumLinkOut - more resourcesFull Text SourcesNature Publishing Group',\n",
       "  'Nature. 2018 Jun 6. doi: 10.1038/s41586-018-0224-x. [Epub ahead of print]Mechanism of parkin activation by PINK1.Gladkova C1, Maslen SL1, Skehel JM1, Komander D2.Author information1Medical Research Council Laboratory of Molecular Biology, Cambridge, UK.2Medical Research Council Laboratory of Molecular Biology, Cambridge, UK. dk@mrc-lmb.cam.ac.uk.AbstractMutations in the E3 ubiquitin ligase parkin (PARK2, also known as PRKN) and the protein kinase PINK1 (also known as PARK6) are linked to autosomal-recessive juvenile parkinsonism (AR-JP)1,2; at the cellular level, these mutations cause defects in mitophagy, the process that organizes the destruction of damaged mitochondria3,4. Parkin is autoinhibited, and requires activation by PINK1, which phosphorylates Ser65 in ubiquitin and in the parkin ubiquitin-like (Ubl) domain. Parkin binds phospho-ubiquitin, which enables efficient parkin phosphorylation; however, the enzyme remains autoinhibited with an inaccessible active site5,6. It is unclear how phosphorylation of parkin activates the molecule. Here we follow the activation of full-length human parkin by hydrogen-deuterium exchange mass spectrometry, and reveal large-scale domain rearrangement in the activation process, during which the phospho-Ubl rebinds to the parkin core and releases the catalytic RING2 domain. A 1.8\\xa0Å crystal structure of phosphorylated human parkin reveals the binding site of the phospho-Ubl on the unique parkin domain (UPD), involving a phosphate-binding pocket lined by AR-JP mutations. Notably, a conserved linker region between Ubl and the UPD acts as an activating element (ACT) that contributes to RING2 release by mimicking RING2 interactions on the UPD, explaining further AR-JP mutations. Our data show how autoinhibition in parkin is resolved, and suggest a mechanism for how parkin ubiquitinates its substrates via an untethered RING2 domain. These findings open new avenues for the design of parkin activators for clinical use.PMID: 29995846 DOI: 10.1038/s41586-018-0224-x ShareLinkOut - more resourcesFull Text SourcesNature Publishing GroupMiscellaneousNCI CPTC Antibody Characterization Program',\n",
       "  'Sci Transl Med. 2018 Jul 11;10(449). pii: eaao3240. doi: 10.1126/scitranslmed.aao3240.CRISPR-enhanced engineering of therapy-sensitive cancer cells for self-targeting of primary and metastatic tumors.Reinshagen C1,2,3, Bhere D1,2,3, Choi SH1,2,3, Hutten S3, Nesterenko I3, Wakimoto H1,2,4, Le Roux E3, Rizvi A3, Du W3, Minicucci C3, Shah K5,2,3,6.Author information1Center for Stem Cell Therapeutics and Imaging, Brigham and Women\\'s Hospital, Harvard Medical School, Boston, MA 02115, USA.2Department of Neurosurgery, Brigham and Women\\'s Hospital, Harvard Medical School, Boston, MA 02115, USA.3Department of Radiology, Massachusetts General Hospital, Harvard Medical School, Boston, MA 02114, USA.4Department of Neurosurgery, Massachusetts General Hospital, Harvard Medical School, Boston, MA 02114, USA.5Center for Stem Cell Therapeutics and Imaging, Brigham and Women\\'s Hospital, Harvard Medical School, Boston, MA 02115, USA. kshah@bwh.harvard.edu.6Harvard Stem Cell Institute, Harvard University, Cambridge, MA 02138, USA.AbstractTumor cells engineered to express therapeutic agents have shown promise to treat cancer. However, their potential to target cell surface receptors specific to the tumor site and their posttreatment fate have not been explored. We created therapeutic tumor cells expressing ligands specific to primary and recurrent tumor sites (receptor self-targeted tumor cells) and extensively characterized two different approaches using (i) therapy-resistant cancer cells, engineered with secretable death receptor-targeting ligands for \"off-the-shelf\" therapy in primary tumor settings, and (ii) therapy-sensitive cancer cells, which were CRISPR-engineered to knock out therapy-specific cell surface receptors before engineering with receptor self-targeted ligands and reapplied in autologous models of recurrent or metastatic disease. We show that both approaches allow high expression of targeted ligands that induce tumor cell killing and translate into marked survival benefits in mouse models of multiple cancer types. Safe elimination of therapeutic cancer cells after treatment was achieved by co-engineering with a prodrug-converting suicide system, which also allowed for real-time in vivo positron emission tomography imaging of therapeutic tumor cell fate. This study demonstrates self-tumor tropism of engineered cancer cells and their therapeutic potential when engineered with receptor self-targeted molecules, and it establishes a roadmap toward a safe clinical translation for different cancer types in primary, recurrent, and metastatic settings.PMID: 29997250 DOI: 10.1126/scitranslmed.aao3240 ShareLinkOut - more resourcesFull Text SourcesHighWire',\n",
       "  'Nature. 2018 Jul 11. doi: 10.1038/s41586-018-0322-9. [Epub ahead of print]Evolution of a central neural circuit underlies Drosophila mate preferences.Seeholzer LF1, Seppo M1, Stern DL2, Ruta V3.Author information1Laboratory of Neurophysiology and Behavior, The Rockefeller University, New York, NY, USA.2Janelia Research Campus, Howard Hughes Medical Institute, Ashburn, VA, USA.3Laboratory of Neurophysiology and Behavior, The Rockefeller University, New York, NY, USA. ruta@rockefeller.edu.AbstractCourtship rituals serve to reinforce reproductive barriers between closely related species. Drosophila melanogaster and Drosophila simulans exhibit reproductive isolation, owing in part to the fact that D. melanogaster females produce 7,11-heptacosadiene, a pheromone that promotes courtship in D. melanogaster males but suppresses courtship in D. simulans males. Here we compare pheromone-processing pathways in D. melanogaster and D. simulans males to define how these sister species endow 7,11-heptacosadiene with the opposite behavioural valence to underlie species discrimination. We show that males of both species detect 7,11-heptacosadiene using homologous peripheral sensory neurons, but this signal is differentially propagated to P1 neurons, which control courtship behaviour. A change in the balance of excitation and inhibition onto courtship-promoting neurons transforms an excitatory pheromonal cue in D. melanogaster into an inhibitory cue in D. simulans. Our results reveal how species-specific pheromone responses can emerge from conservation of peripheral detection mechanisms and diversification of central circuitry, and demonstrate how flexible nodes in neural circuits can contribute to behavioural evolution.PMID: 29995860 DOI: 10.1038/s41586-018-0322-9 ShareLinkOut - more resourcesFull Text SourcesNature Publishing Group',\n",
       "  'Nature. 2018 Jul 11. doi: 10.1038/s41586-018-0316-7. [Epub ahead of print]Histidine catabolism is a major determinant of methotrexate sensitivity.Kanarek N1,2,3,4, Keys HR1, Cantor JR1,2,3,4, Lewis CA1, Chan SH1, Kunchok T1, Abu-Remaileh M1,2,3,4, Freinkman E1, Schweitzer LD4, Sabatini DM5,6,7,8.Author information1Whitehead Institute for Biomedical Research and Massachusetts Institute of Technology, Department of Biology, Cambridge, MA, USA.2Howard Hughes Medical Institute, Department of Biology, Massachusetts Institute of Technology, Cambridge, MA, USA.3Koch Institute for Integrative Cancer Research and Massachusetts Institute of Technology, Department of Biology, Cambridge, MA, USA.4Broad Institute of Harvard and Massachusetts Institute of Technology, Cambridge, MA, USA.5Whitehead Institute for Biomedical Research and Massachusetts Institute of Technology, Department of Biology, Cambridge, MA, USA. sabatini@wi.mit.edu.6Howard Hughes Medical Institute, Department of Biology, Massachusetts Institute of Technology, Cambridge, MA, USA. sabatini@wi.mit.edu.7Koch Institute for Integrative Cancer Research and Massachusetts Institute of Technology, Department of Biology, Cambridge, MA, USA. sabatini@wi.mit.edu.8Broad Institute of Harvard and Massachusetts Institute of Technology, Cambridge, MA, USA. sabatini@wi.mit.edu.AbstractThe chemotherapeutic drug methotrexate inhibits the enzyme dihydrofolate reductase1, which generates tetrahydrofolate, an essential cofactor in nucleotide synthesis2. Depletion of tetrahydrofolate causes cell death by suppressing DNA and RNA production3. Although methotrexate is widely used as an anticancer agent and is the subject of over a thousand ongoing clinical trials4, its high toxicity often leads to the premature termination of its use, which reduces its potential efficacy5. To identify genes that modulate the response of cancer cells to methotrexate, we performed a CRISPR-Cas9-based screen6,7. This screen yielded FTCD, which encodes an enzyme-formimidoyltransferase cyclodeaminase-that is required for the catabolism of the amino acid histidine8, a process that has not\\xa0previously been linked to methotrexate sensitivity. In cultured cancer cells, depletion of several genes in the histidine degradation\\xa0pathway markedly decreased sensitivity to methotrexate. Mechanistically, histidine catabolism drains the cellular pool of tetrahydrofolate, which is particularly detrimental to methotrexate-treated cells. Moreover, expression of the rate-limiting enzyme in histidine catabolism is associated with methotrexate sensitivity in cancer cell lines and with survival rate in patients. In vivo dietary supplementation of histidine increased flux through the histidine degradation pathway and enhanced the sensitivity of leukaemia xenografts to methotrexate. The histidine degradation pathway markedly influences the sensitivity of cancer cells to methotrexate and may be exploited to improve methotrexate efficacy through a simple dietary intervention.PMID: 29995852 DOI: 10.1038/s41586-018-0316-7 ShareGrant supportGrant supportR01 CA129105/CA/NCI NIH HHS/United StatesLinkOut - more resourcesFull Text SourcesNature Publishing Group',\n",
       "  \"N Engl J Med. 2018 Jul 12;379(2):138-149. doi: 10.1056/NEJMoa1714021.Prevention of M. tuberculosis Infection with H4:IC31 Vaccine or BCG Revaccination.Nemes E1, Geldenhuys H1, Rozot V1, Rutkowski KT1, Ratangee F1, Bilek N1, Mabwe S1, Makhethe L1, Erasmus M1, Toefy A1, Mulenga H1, Hanekom WA1, Self SG1, Bekker LG1, Ryall R1, Gurunathan S1, DiazGranados CA1, Andersen P1, Kromann I1, Evans T1, Ellis RD1, Landry B1, Hokey DA1, Hopkins R1, Ginsberg AM1, Scriba TJ1, Hatherill M1; C-040-404 Study Team.Author information1From the South African Tuberculosis Vaccine Initiative, Institute of Infectious Disease and Molecular Medicine and Division of Immunology, Department of Pathology (E.N., H.G., V.R., F.R., N.B., S.M., L.M., M.E., A.T., H.M., W.A.H., T.J.S., M.H.), and Desmond Tutu HIV Foundation (L.-G.B.), University of Cape Town, Cape Town, South Africa; Aeras, Rockville, MD (K.T.R., T.E., R.D.E., B.L., D.A.H., R.H., A.M.G.); Statistical Center for HIV Research, Vaccine and Infectious Disease Division, Fred Hutchinson Cancer Research Center, Seattle (S.G.S.); Sanofi Pasteur, Swiftwater, PA (R.R., S.G., C.A.D.); and Center for Vaccine Research, Statens Serum Institut, Copenhagen (P.A., I.K.).AbstractBACKGROUND: Recent Mycobacterium tuberculosis infection confers a predisposition to the development of tuberculosis disease, the leading killer among global infectious diseases. H4:IC31, a candidate subunit vaccine, has shown protection against tuberculosis disease in preclinical models, and observational studies have indicated that primary bacille Calmette-Guérin (BCG) vaccination may offer partial protection against infection.METHODS: In this phase 2 trial, we randomly assigned 990 adolescents in a high-risk setting who had undergone neonatal BCG vaccination to receive the H4:IC31 vaccine, BCG revaccination, or placebo. All the participants had negative results on testing for M. tuberculosis infection on the QuantiFERON-TB Gold In-tube assay (QFT) and for the human immunodeficiency virus. The primary outcomes were safety and acquisition of M. tuberculosis infection, as defined by initial conversion on QFT that was performed every 6 months during a 2-year period. Secondary outcomes were immunogenicity and sustained QFT conversion to a positive test without reversion to negative status at 3 months and 6 months after conversion. Estimates of vaccine efficacy are based on hazard ratios from Cox regression models and compare each vaccine with placebo.RESULTS: Both the BCG and H4:IC31 vaccines were immunogenic. QFT conversion occurred in 44 of 308 participants (14.3%) in the H4:IC31 group and in 41 of 312 participants (13.1%) in the BCG group, as compared with 49 of 310 participants (15.8%) in the placebo group; the rate of sustained conversion was 8.1% in the H4:IC31 group and 6.7% in the BCG group, as compared with 11.6% in the placebo group. Neither the H4:IC31 vaccine nor the BCG vaccine prevented initial QFT conversion, with efficacy point estimates of 9.4% (P=0.63) and 20.1% (P=0.29), respectively. However, the BCG vaccine reduced the rate of sustained QFT conversion, with an efficacy of 45.4% (P=0.03); the efficacy of the H4:IC31 vaccine was 30.5% (P=0.16). There were no clinically significant between-group differences in the rates of serious adverse events, although mild-to-moderate injection-site reactions were more common with BCG revaccination.CONCLUSIONS: In this trial, the rate of sustained QFT conversion, which may reflect sustained M. tuberculosis infection, was reduced by vaccination in a high-transmission setting. This finding may inform clinical development of new vaccine candidates. (Funded by Aeras and others; C-040-404 ClinicalTrials.gov number, NCT02075203 .).PMID: 29996082 PMCID: PMC5937161 DOI: 10.1056/NEJMoa1714021 Free PMC ArticleShareImages from this publication.See all images  (3)Free textFigure 1: Study design and CONSORT diagram(A) Study design. Each participant followed a schedule of evaluations according to study arm and QFT test results. An 84-day wash-out period was implemented to account for participants who may already have been M.tb-infected at enrollment but had not yet QFT converted. After the primary analysis, the IDMC recommended that participants who converted at Month 6 or 12 should return for an additional end-of-study visit to evaluate sustained QFT conversion. Safety outcomes were assessed at each study visit, including evaluation of symptoms of TB disease. QFT, QuantiFERON-TB Gold In-tube; EoS, end of study.CONSORT diagram. Amongst screened individuals (n=2976), 1986 were excluded for one or more reasons. The most common reason for ineligibility was a positive QFT test (n=1405, 71%); other common reasons for exclusion were: abnormal blood results (n=244, 12%), body mass index out of range (n=122, 6%), previous TB or household TB contact (n=55, 3%). ITT, intent-to-treat; mITT, modified ITT; PP, per protocol. Prevention of Infection with Mycobacterium tuberculosis by H4:IC31® Vaccination or BCG Revaccination in Adolescents N Engl J Med. 2018 Jul 12 :10.1056/NEJMoa1714021.Figure 2: Immunogenicity Vaccine immunogenicity measured by PBMC intracellular cytokine staining (ICS) and flow cytometry following stimulation with Ag85B or TB10.4 peptide pools (summed response is shown) or BCG.Paired responses of CD4 T cells expressing IFNγ and/or IL2 for each individual (between 23 and 28 participants were included at each time point) at D0 (circles) and D70 (diamonds) randomized to placebo (blue), H4:IC31® (red) or BCG (green). Changes in response between D0 and D70 were compared by Wilcoxon Signed-Rank Test. Prevention of Infection with Mycobacterium tuberculosis by H4:IC31® Vaccination or BCG Revaccination in Adolescents N Engl J Med. 2018 Jul 12 :10.1056/NEJMoa1714021.Figure 3: Vaccine efficacy (A) Longitudinal quantitative IFNγ values measured by QFT by study arm, aligned to initial QFT conversion time point (month 0). Each line represents one individual; those who never converted and those with missing QFT results after initial conversion are not shown. Solid lines denote participants who met the secondary efficacy endpoint (sustained QFT conversion, top row) and dashed lines denote participants with initial QFT conversion who then reverted (bottom row). The solid horizontal line denotes the manufacturer’s recommended threshold (0.35IU/mL); the shaded horizontal area denotes the uncertainty zone (0.2-0.7IU/mL); the horizontal line at 4.0IU/mL denotes an alternative QFT threshold applied in exploratory analyses. Values <0.01IU/mL were set to 0.01 to enable plotting on the log scale. (B) Kaplan-Meier curves representing time to initial QFT conversion (primary efficacy endpoint) after first vaccination by study arm in the mITT population. Statistics are reported in . (C) Kaplan-Meier curves representing time after first vaccination to initial QFT conversion in participants with sustained conversion (secondary efficacy endpoint) by study arm in the mITT population. Inset depicts time to QFT reversion within 6 months of initial conversion in participants with QFT values at three and six months post-conversion. Statistics for conversion endpoints are reported in . Prevention of Infection with Mycobacterium tuberculosis by H4:IC31® Vaccination or BCG Revaccination in Adolescents N Engl J Med. 2018 Jul 12 :10.1056/NEJMoa1714021.Publication type, Secondary source IDPublication typeResearch Support, Non-U.S. Gov'tSecondary source IDClinicalTrials.gov/NCT02075203LinkOut - more resourcesFull Text SourcesAtypon - PDFEurope PubMed Central - Author ManuscriptOvid Technologies, Inc.PubMed Central - Author ManuscriptMedicalClinicalTrials.gov\",\n",
       "  'JAMA. 2018 Jul 9. doi: 10.1001/jama.2018.8117. [Epub ahead of print]The Health Insurance Marketplaces.Sacks DW1.Author information1Department of Business Economics and Public Policy, Kelley School of Business, Indiana University, Bloomington.PMID: 29987334 DOI: 10.1001/jama.2018.8117 ShareLinkOut - more resourcesFull Text SourcesSilverchair Information Systems',\n",
       "  'Nat Med. 2018 Jul 9. doi: 10.1038/s41591-018-0096-5. [Epub ahead of print]Phenotype molding of stromal cells in the lung tumor microenvironment.Lambrechts D1,2, Wauters E3,4, Boeckx B5,6, Aibar S7,8, Nittner D9,10, Burton O8,11, Bassez A5,6, Decaluwé H12,13, Pircher A5,14, Van den Eynde K15, Weynand B15, Verbeken E15, De Leyn P13, Liston A8,11, Vansteenkiste J3,4, Carmeliet P5,14,16, Aerts S7,8, Thienpont B17,18.Author information1VIB Center for Cancer Biology, Leuven, Belgium. diether.lambrechts@kuleuven.vib.be.2Laboratory for Translational Genetics, Department of Human Genetics, KU Leuven, Leuven, Belgium. diether.lambrechts@kuleuven.vib.be.3Respiratory Oncology Unit (Pneumology) and Leuven Lung Cancer Group, University Hospitals KU Leuven, Leuven, Belgium.4Laboratory of Pneumology, Department of Chronic Diseases, Metabolism and Ageing, KU Leuven, Leuven, Belgium.5VIB Center for Cancer Biology, Leuven, Belgium.6Laboratory for Translational Genetics, Department of Human Genetics, KU Leuven, Leuven, Belgium.7Laboratory for Computational Biology, Department of Human Genetics, KU Leuven, Leuven, Belgium.8VIB-KU Leuven Center for Brain & Disease Research, Leuven, Belgium.9Histopathology Expertise Center, VIB Leuven Center for Cancer Biology, VIB, Leuven, Belgium.10Department of Oncology, KU Leuven, Leuven, Belgium.11Laboratory of Genetics of Autoimmunity, Department of Microbiology and Immunology, KU Leuven, Leuven, Belgium.12Department of Thoracic Surgery, University Hospitals KU Leuven, Leuven, Belgium.13Department of Chronic Diseases, Metabolism and Ageing, KU Leuven, Leuven, Belgium.14Laboratory of Angiogenesis and Vascular Metabolism, Department of Oncology, KU Leuven, Leuven, Belgium.15Translational Cell & Tissue Research, Department of Imaging & Pathology, KU Leuven, Leuven, Belgium.16State Key Laboratory of Ophthalmology, Zhongsan Ophthalmic Center, SunYat-Sen University, Guangzhou, China.17VIB Center for Cancer Biology, Leuven, Belgium. bernard.thienpont@kuleuven.be.18Laboratory for Functional Epigenetics, Department of Human Genetics, KU Leuven, Leuven, Belgium. bernard.thienpont@kuleuven.be.AbstractCancer cells are embedded in the tumor microenvironment (TME), a complex ecosystem of stromal cells. Here, we present a 52,698-cell catalog of the TME transcriptome in human lung tumors at single-cell resolution, validated in independent samples where 40,250 additional cells were sequenced. By comparing with matching non-malignant lung samples, we reveal a highly complex TME that profoundly molds stromal cells. We identify 52 stromal cell subtypes, including novel subpopulations in cell types hitherto considered to be homogeneous, as well as transcription factors underlying their heterogeneity. For instance, we discover fibroblasts expressing different collagen sets, endothelial cells downregulating immune cell homing and genes coregulated with established immune checkpoint transcripts and correlating with T-cell activity. By assessing marker genes for these cell subtypes in bulk RNA-sequencing data from 1,572 patients, we illustrate how these correlate with survival, while immunohistochemistry for selected markers validates them as separate cellular entities in an independent series of lung tumors. Hence, in providing a comprehensive catalog of stromal cells types and by characterizing their phenotype and co-optive behavior, this resource provides deeper insights into lung cancer biology that will be helpful in advancing lung cancer diagnosis and therapy.PMID: 29988129 DOI: 10.1038/s41591-018-0096-5 ShareLinkOut - more resourcesFull Text SourcesNature Publishing Group',\n",
       "  'Nature. 2018 Jul 9. doi: 10.1038/s41586-018-0317-6. [Epub ahead of print]Prediction of acute myeloid leukaemia risk in healthy individuals.Abelson S1, Collord G2,3, Ng SWK4, Weissbrod O5, Mendelson Cohen N5, Niemeyer E6, Barda N7, Zuzarte PC8, Heisler L8, Sundaravadanam Y8, Luben R9, Hayat S9, Wang TT1,10, Zhao Z1, Cirlan I1, Pugh TJ1,8,10, Soave D8, Ng K8, Latimer C2, Hardy C2, Raine K2, Jones D2, Hoult D11, Britten A11, McPherson JD8, Johansson M12, Mbabaali F8, Eagles J8, Miller JK8, Pasternack D8, Timms L8, Krzyzanowski P8, Awadalla P8, Costa R13, Segal E5, Bratman SV1,8,14, Beer P2, Behjati S2,3, Martincorena I2, Wang JCY1,15,16, Bowles KM17,18, Quirós JR19, Karakatsani A20,21, La Vecchia C20,22, Trichopoulou A20, Salamanca-Fernández E23,24, Huerta JM24,25, Barricarte A24,26,27, Travis RC28, Tumino R29, Masala G30, Boeing H31, Panico S32, Kaaks R33, Krämer A34, Sieri S35, Riboli E36, Vineis P36, Foll M12, McKay J12, Polidoro S37, Sala N38, Khaw KT39, Vermeulen R40, Campbell PJ2,41, Papaemmanuil E2,42, Minden MD1,10,15,16, Tanay A5, Balicer RD7, Wareham NJ11, Gerstung M43,44, Dick JE45,46, Brennan P47, Vassiliou GS48,49,50, Shlush LI51,52,53.Author information1Princess Margaret Cancer Centre, University Health Network (UHN), Toronto, Ontario, Canada.2Wellcome Trust Sanger Institute, Wellcome Trust Genome Campus, Hinxton, UK.3Department of Paediatrics, University of Cambridge, Cambridge, UK.4Institute of Biomaterials and Biomedical Engineering, University of Toronto, Toronto, Ontario, Canada.5Department of Computer Science and Applied Mathematics, Weizmann Institute of Science, Rehovot, Israel.6Department of Immunology, Weizmann Institute of Science, Rehovot, Israel.7Clalit Research Institute, Tel Aviv, Israel.8Ontario Institute for Cancer Research, Toronto, Ontario, Canada.9Department of Public Health and Primary Care, Institute of Public Health, University of Cambridge School of Clinical Medicine, Cambridge, UK.10Department of Medical Biophysics, University of Toronto, Toronto, Ontario, Canada.11MRC Epidemiology Unit, University of Cambridge, Cambridge, UK.12International Agency for Research on Cancer, World Health Organization, Lyon, France.13European Molecular Biology Laboratory, European Bioinformatics Institute EMBL-EBI, Wellcome Genome Campus, Hinxton, UK.14Department of Radiation Oncology, University of Toronto, Toronto, Ontario, Canada.15Department of Medicine, University of Toronto, Toronto, Ontario, Canada.16Division of Medical Oncology and Hematology, University Health Network, Toronto, Ontario, Canada.17Department of Molecular Haematology, Norwich Medical School, The University of East Anglia, Norwich, UK.18Department of Haematology, Norfolk and Norwich University Hospitals NHS Trust, Norwich, UK.19Public Health Directorate, Asturias, Spain.20Hellenic Health Foundation, Athens, Greece.212nd Pulmonary Medicine Department, School of Medicine, National and Kapodistrian University of Athens, \"ATTIKON\" University Hospital, Haidari, Athens, Greece.22Department of Clinical Sciences and Community Health, Università degli Studi di Milano, Milan, Italy.23Escuela Andaluza de Salud Pública, Instituto de Investigación Biosanitaria ibs.GRANADA, Hospitales Universitarios de Granada/Universidad de Granada, Granada, Spain.24CIBER Epidemiology and Public Health CIBERESP, Madrid, Spain.25Department of Epidemiology, Murcia Regional Health Council, IMIB-Arrixaca, Murcia, Spain.26Navarra Public Health Institute, Pamplona, Spain.27Navarra Institute for Health Research, Pamplona, Spain.28Cancer Epidemiology Unit, Nuffield Department of Population Health, University of Oxford, Oxford, UK.29Cancer Registry and Histopathology Department, Civic-M. P. Arezzo Hospital, Azienda Sanitaria Provinciale, Ragusa, Italy.30Cancer Risk Factors and Life-Style Epidemiology Unit, Cancer Research and Prevention Institute - ISPO, Florence, Italy.31Department of Epidemiology, German Institute of Human Nutrition (DIfE), Potsdam-Rehbrücke, Germany.32Dipartimento Di Medicina Clinica E Chirurgia, Federico II University, Naples, Italy.33Division of Cancer Epidemiology, German Cancer Research Center (DKFZ), Heidelberg, Germany.34Clinical Cooperation Unit Molecular Hematology/Oncology, German Cancer Research Center (DKFZ) and Department of Internal Medicine V, University of Heidelberg, Heidelberg, Germany.35Epidemiology and Prevention Unit, Fondazione IRCCS Istituto Nazionale dei Tumori, Milano, Italy.36Department of Epidemiology and Biostatistics, School of Public Health, Imperial College London, London, UK.37Italian Institute for Genomic Medicine, Torino, Italy.38Unit of Nutrition and Cancer, Cancer Epidemiology Research Program and Translational Research Laboratory, Catalan Institute of Oncology, ICO-IDIBELL, Barcelona, Spain.39University of Cambridge, Cambridge, UK.40Division of Environmental Epidemiology and Veterinary Public Health, Institute for Risk Assessment Sciences, Utrecht University, Utrecht, The Netherlands.41Department of Haematology, University of Cambridge, Cambridge, UK.42Center for Molecular Oncology and Department of Epidemiology and Biostatistics, Memorial Sloan Kettering Cancer Center, New York, NY, USA.43Wellcome Trust Sanger Institute, Wellcome Trust Genome Campus, Hinxton, UK. moritz.gerstung@ebi.ac.uk.44European Molecular Biology Laboratory, European Bioinformatics Institute EMBL-EBI, Wellcome Genome Campus, Hinxton, UK. moritz.gerstung@ebi.ac.uk.45Princess Margaret Cancer Centre, University Health Network (UHN), Toronto, Ontario, Canada. John.Dick@uhnresearch.ca.46Department of Molecular Genetics, University of Toronto, Toronto, Ontario, Canada. John.Dick@uhnresearch.ca.47International Agency for Research on Cancer, World Health Organization, Lyon, France. BrennanP@iarc.fr.48Wellcome Trust Sanger Institute, Wellcome Trust Genome Campus, Hinxton, UK. gsv20@sanger.ac.uk.49Department of Haematology, University of Cambridge, Cambridge, UK. gsv20@sanger.ac.uk.50Wellcome Trust-Medical Research Council Cambridge Stem Cell Institute, University of Cambridge, Cambridge, UK. gsv20@sanger.ac.uk.51Princess Margaret Cancer Centre, University Health Network (UHN), Toronto, Ontario, Canada. liranshlush3@gmail.com.52Department of Immunology, Weizmann Institute of Science, Rehovot, Israel. liranshlush3@gmail.com.53Division of Hematology, Rambam Healthcare Campus, Haifa, Israel. liranshlush3@gmail.com.AbstractThe incidence of acute myeloid leukaemia (AML) increases with age and mortality exceeds 90% when diagnosed after age 65. Most cases arise without any detectable early symptoms and patients usually present with the acute complications of bone marrow failure1. The onset of such de novo AML cases is typically preceded by the accumulation of somatic mutations in preleukaemic haematopoietic stem and progenitor cells (HSPCs) that undergo clonal expansion2,3. However, recurrent AML mutations also accumulate in HSPCs during ageing of healthy individuals who do not develop AML, a phenomenon referred to as age-related clonal haematopoiesis (ARCH)4-8. Here we use deep sequencing to analyse genes that are recurrently mutated in AML to distinguish between individuals who have a high risk of developing AML and those with benign ARCH. We analysed peripheral blood cells from 95 individuals that were obtained on average 6.3\\xa0years before AML diagnosis (pre-AML group), together with 414 unselected age- and gender-matched individuals (control group). Pre-AML cases were distinct from controls and had more mutations per sample, higher variant allele frequencies, indicating greater clonal expansion, and showed enrichment of mutations in specific genes. Genetic parameters were used to derive a model that accurately predicted AML-free survival; this model was validated in an independent cohort of 29 pre-AML cases and 262 controls. Because AML is rare, we also developed an AML predictive model using a large electronic health record database that identified individuals at greater risk. Collectively our findings provide proof-of-concept that it is possible to discriminate ARCH from pre-AML many years before malignant transformation. This could in future enable earlier detection and monitoring, and may help to inform intervention.PMID: 29988082 DOI: 10.1038/s41586-018-0317-6 ShareLinkOut - more resourcesFull Text SourcesNature Publishing Group',\n",
       "  'Cell Rep. 2018 Jul 10;24(2):429-440. doi: 10.1016/j.celrep.2018.06.042.NAD+ Depletion Triggers Macrophage Necroptosis, a Cell Death Pathway Exploited by Mycobacterium tuberculosis.Pajuelo D1, Gonzalez-Juarbe N1, Tak U1, Sun J1, Orihuela CJ1, Niederweis M2.Author information1Department of Microbiology, University of Alabama at Birmingham, Birmingham, AL 35294, USA.2Department of Microbiology, University of Alabama at Birmingham, Birmingham, AL 35294, USA. Electronic address: mnieder@uab.edu.AbstractMycobacterium tuberculosis (Mtb) kills infected macrophages by inhibiting apoptosis and promoting necrosis. The tuberculosis necrotizing toxin (TNT) is a secreted nicotinamide adenine dinucleotide (NAD+) glycohydrolase that induces necrosis in infected macrophages. Here, we show that NAD+ depletion by TNT activates RIPK3 and MLKL, key mediators of necroptosis. Notably, Mtb bypasses the canonical necroptosis pathway since neither TNF-α nor RIPK1 are required for macrophage death. Macrophage necroptosis is associated with depolarized mitochondria and impaired ATP synthesis, known hallmarks of Mtb-induced cell death. These results identify TNT as the main trigger of necroptosis in\\xa0Mtb-infected macrophages. Surprisingly, NAD+ depletion itself was sufficient to trigger necroptosis in a RIPK3- and MLKL-dependent manner by inhibiting the NAD+ salvage pathway in THP-1 cells or by TNT expression in Jurkat T\\xa0cells. These findings suggest avenues for host-directed therapies to treat tuberculosis and other infectious and age-related diseases in which NAD+ deficiency is a pathological factor.KEYWORDS: MLKL; NAD(+); RIPK3; TNT; cell death; mitochondria; necroptosis; toxin; tuberculosisPMID: 29996103 DOI: 10.1016/j.celrep.2018.06.042 ShareLinkOut - more resourcesMiscellaneousNCI CPTAC Assay PortalNCI CPTAC Assay PortalNCI CPTAC Assay Portal'],\n",
       " 'title': ['Author Correction: What models eat.',\n",
       "  'Mechanism of parkin activation by PINK1.',\n",
       "  'CRISPR-enhanced engineering of therapy-sensitive cancer cells for self-targeting of primary and metastatic tumors.',\n",
       "  'Evolution of a central neural circuit underlies Drosophila mate preferences.',\n",
       "  'Histidine catabolism is a major determinant of methotrexate sensitivity.',\n",
       "  'Prevention of M. tuberculosis Infection with H4:IC31 Vaccine or BCG Revaccination.',\n",
       "  'The Health Insurance Marketplaces.',\n",
       "  'Phenotype molding of stromal cells in the lung tumor microenvironment.',\n",
       "  'Prediction of acute myeloid leukaemia risk in healthy individuals.',\n",
       "  'NAD+ Depletion Triggers Macrophage Necroptosis, a Cell Death Pathway Exploited by Mycobacterium tuberculosis.']}"
      ]
     },
     "execution_count": 53,
     "metadata": {},
     "output_type": "execute_result"
    }
   ],
   "source": [
    "# check article dict\n",
    "article_dict"
   ]
  },
  {
   "cell_type": "markdown",
   "metadata": {},
   "source": [
    "## Save article_dict to json"
   ]
  },
  {
   "cell_type": "code",
   "execution_count": 55,
   "metadata": {
    "collapsed": true
   },
   "outputs": [],
   "source": [
    "import json"
   ]
  },
  {
   "cell_type": "code",
   "execution_count": 56,
   "metadata": {},
   "outputs": [
    {
     "data": {
      "text/plain": [
       "33939"
      ]
     },
     "execution_count": 56,
     "metadata": {},
     "output_type": "execute_result"
    }
   ],
   "source": [
    "# check json file\n",
    "json = json.dumps(article_dict)\n",
    "f = open(\"trending2.json\",\"w\")\n",
    "f.write(json)\n",
    "f.close()"
   ]
  },
  {
   "cell_type": "code",
   "execution_count": 43,
   "metadata": {
    "collapsed": true
   },
   "outputs": [],
   "source": [
    "# Import sqlalchemy Dependencies\n",
    "import sqlalchemy\n",
    "from sqlalchemy.ext.automap import automap_base\n",
    "from sqlalchemy.orm import Session\n",
    "from sqlalchemy import create_engine\n",
    "from sqlalchemy import func\n",
    "from sqlalchemy import Column, Float, Integer, String, Date\n",
    "from sqlalchemy.ext.declarative import declarative_base"
   ]
  },
  {
   "cell_type": "code",
   "execution_count": 44,
   "metadata": {
    "collapsed": true
   },
   "outputs": [],
   "source": [
    "# Create an engine for the photopharm.sqlite database\n",
    "engine = create_engine(\"sqlite:///photopharm.sqlite\")\n"
   ]
  },
  {
   "cell_type": "code",
   "execution_count": 45,
   "metadata": {
    "collapsed": true
   },
   "outputs": [],
   "source": [
    "# Reflect Database into ORM classes\n",
    "Base = declarative_base()"
   ]
  },
  {
   "cell_type": "code",
   "execution_count": 46,
   "metadata": {
    "collapsed": true
   },
   "outputs": [],
   "source": [
    "# Create ORM class for titles and abstracts\n",
    "class Articles(Base):\n",
    "    __tablename__ = \"Title_Abstracts\"\n",
    "    \n",
    "    __table_args__ = {'extend_existing': True} \n",
    "    \n",
    "    id = Column(Integer, primary_key = True)\n",
    "    title = Column(String)\n",
    "    abstract = Column(String)\n",
    "    "
   ]
  },
  {
   "cell_type": "code",
   "execution_count": 47,
   "metadata": {
    "collapsed": true
   },
   "outputs": [],
   "source": [
    "# create tables\n",
    "Base.metadata.create_all(engine)"
   ]
  },
  {
   "cell_type": "code",
   "execution_count": 57,
   "metadata": {
    "collapsed": true
   },
   "outputs": [],
   "source": [
    "# read in trending1 json into a dataframe\n",
    "df2 = pd.read_json('trending2.json')"
   ]
  },
  {
   "cell_type": "code",
   "execution_count": 58,
   "metadata": {},
   "outputs": [
    {
     "data": {
      "text/html": [
       "<div>\n",
       "<style>\n",
       "    .dataframe thead tr:only-child th {\n",
       "        text-align: right;\n",
       "    }\n",
       "\n",
       "    .dataframe thead th {\n",
       "        text-align: left;\n",
       "    }\n",
       "\n",
       "    .dataframe tbody tr th {\n",
       "        vertical-align: top;\n",
       "    }\n",
       "</style>\n",
       "<table border=\"1\" class=\"dataframe\">\n",
       "  <thead>\n",
       "    <tr style=\"text-align: right;\">\n",
       "      <th></th>\n",
       "      <th>abstract</th>\n",
       "      <th>title</th>\n",
       "    </tr>\n",
       "  </thead>\n",
       "  <tbody>\n",
       "    <tr>\n",
       "      <th>0</th>\n",
       "      <td>Nat Med. 2018 Jul 9. doi: 10.1038/s41591-018-0...</td>\n",
       "      <td>Author Correction: What models eat.</td>\n",
       "    </tr>\n",
       "    <tr>\n",
       "      <th>1</th>\n",
       "      <td>Nature. 2018 Jun 6. doi: 10.1038/s41586-018-02...</td>\n",
       "      <td>Mechanism of parkin activation by PINK1.</td>\n",
       "    </tr>\n",
       "    <tr>\n",
       "      <th>2</th>\n",
       "      <td>Sci Transl Med. 2018 Jul 11;10(449). pii: eaao...</td>\n",
       "      <td>CRISPR-enhanced engineering of therapy-sensiti...</td>\n",
       "    </tr>\n",
       "    <tr>\n",
       "      <th>3</th>\n",
       "      <td>Nature. 2018 Jul 11. doi: 10.1038/s41586-018-0...</td>\n",
       "      <td>Evolution of a central neural circuit underlie...</td>\n",
       "    </tr>\n",
       "    <tr>\n",
       "      <th>4</th>\n",
       "      <td>Nature. 2018 Jul 11. doi: 10.1038/s41586-018-0...</td>\n",
       "      <td>Histidine catabolism is a major determinant of...</td>\n",
       "    </tr>\n",
       "    <tr>\n",
       "      <th>5</th>\n",
       "      <td>N Engl J Med. 2018 Jul 12;379(2):138-149. doi:...</td>\n",
       "      <td>Prevention of M. tuberculosis Infection with H...</td>\n",
       "    </tr>\n",
       "    <tr>\n",
       "      <th>6</th>\n",
       "      <td>JAMA. 2018 Jul 9. doi: 10.1001/jama.2018.8117....</td>\n",
       "      <td>The Health Insurance Marketplaces.</td>\n",
       "    </tr>\n",
       "    <tr>\n",
       "      <th>7</th>\n",
       "      <td>Nat Med. 2018 Jul 9. doi: 10.1038/s41591-018-0...</td>\n",
       "      <td>Phenotype molding of stromal cells in the lung...</td>\n",
       "    </tr>\n",
       "    <tr>\n",
       "      <th>8</th>\n",
       "      <td>Nature. 2018 Jul 9. doi: 10.1038/s41586-018-03...</td>\n",
       "      <td>Prediction of acute myeloid leukaemia risk in ...</td>\n",
       "    </tr>\n",
       "    <tr>\n",
       "      <th>9</th>\n",
       "      <td>Cell Rep. 2018 Jul 10;24(2):429-440. doi: 10.1...</td>\n",
       "      <td>NAD+ Depletion Triggers Macrophage Necroptosis...</td>\n",
       "    </tr>\n",
       "  </tbody>\n",
       "</table>\n",
       "</div>"
      ],
      "text/plain": [
       "                                            abstract  \\\n",
       "0  Nat Med. 2018 Jul 9. doi: 10.1038/s41591-018-0...   \n",
       "1  Nature. 2018 Jun 6. doi: 10.1038/s41586-018-02...   \n",
       "2  Sci Transl Med. 2018 Jul 11;10(449). pii: eaao...   \n",
       "3  Nature. 2018 Jul 11. doi: 10.1038/s41586-018-0...   \n",
       "4  Nature. 2018 Jul 11. doi: 10.1038/s41586-018-0...   \n",
       "5  N Engl J Med. 2018 Jul 12;379(2):138-149. doi:...   \n",
       "6  JAMA. 2018 Jul 9. doi: 10.1001/jama.2018.8117....   \n",
       "7  Nat Med. 2018 Jul 9. doi: 10.1038/s41591-018-0...   \n",
       "8  Nature. 2018 Jul 9. doi: 10.1038/s41586-018-03...   \n",
       "9  Cell Rep. 2018 Jul 10;24(2):429-440. doi: 10.1...   \n",
       "\n",
       "                                               title  \n",
       "0                Author Correction: What models eat.  \n",
       "1           Mechanism of parkin activation by PINK1.  \n",
       "2  CRISPR-enhanced engineering of therapy-sensiti...  \n",
       "3  Evolution of a central neural circuit underlie...  \n",
       "4  Histidine catabolism is a major determinant of...  \n",
       "5  Prevention of M. tuberculosis Infection with H...  \n",
       "6                 The Health Insurance Marketplaces.  \n",
       "7  Phenotype molding of stromal cells in the lung...  \n",
       "8  Prediction of acute myeloid leukaemia risk in ...  \n",
       "9  NAD+ Depletion Triggers Macrophage Necroptosis...  "
      ]
     },
     "execution_count": 58,
     "metadata": {},
     "output_type": "execute_result"
    }
   ],
   "source": [
    "df2"
   ]
  },
  {
   "cell_type": "code",
   "execution_count": 59,
   "metadata": {},
   "outputs": [
    {
     "ename": "IntegrityError",
     "evalue": "(sqlite3.IntegrityError) UNIQUE constraint failed: Title_Abstracts.id [SQL: 'INSERT INTO \"Title_Abstracts\" (id, abstract, title) VALUES (?, ?, ?)'] [parameters: ((0, 'Nat Med. 2018 Jul 9. doi: 10.1038/s41591-018-0133-4. [Epub ahead of print]Author Correction: What models eat.Engber D1.Author information1Freelance s ... (942 characters truncated) ... DOI: 10.1038/s41591-018-0133-4 SharePublication typePublication typePublished ErratumLinkOut - more resourcesFull Text SourcesNature Publishing Group', 'Author Correction: What models eat.'), (1, 'Nature. 2018 Jun 6. doi: 10.1038/s41586-018-0224-x. [Epub ahead of print]Mechanism of parkin activation by PINK1.Gladkova C1, Maslen SL1, Skehel JM1, ... (1858 characters truncated) ... 0.1038/s41586-018-0224-x ShareLinkOut - more resourcesFull Text SourcesNature Publishing GroupMiscellaneousNCI CPTC Antibody Characterization Program', 'Mechanism of parkin activation by PINK1.'), (2, 'Sci Transl Med. 2018 Jul 11;10(449). pii: eaao3240. doi: 10.1126/scitranslmed.aao3240.CRISPR-enhanced engineering of therapy-sensitive cancer cells f ... (2395 characters truncated) ... n primary, recurrent, and metastatic settings.PMID: 29997250 DOI: 10.1126/scitranslmed.aao3240 ShareLinkOut - more resourcesFull Text SourcesHighWire', 'CRISPR-enhanced engineering of therapy-sensitive cancer cells for self-targeting of primary and metastatic tumors.'), (3, 'Nature. 2018 Jul 11. doi: 10.1038/s41586-018-0322-9. [Epub ahead of print]Evolution of a central neural circuit underlies Drosophila mate preferences ... (1549 characters truncated) ... ntribute to behavioural evolution.PMID: 29995860 DOI: 10.1038/s41586-018-0322-9 ShareLinkOut - more resourcesFull Text SourcesNature Publishing Group', 'Evolution of a central neural circuit underlies Drosophila mate preferences.'), (4, 'Nature. 2018 Jul 11. doi: 10.1038/s41586-018-0316-7. [Epub ahead of print]Histidine catabolism is a major determinant of methotrexate sensitivity.Kan ... (2900 characters truncated) ... 6-018-0316-7 ShareGrant supportGrant supportR01 CA129105/CA/NCI NIH HHS/United StatesLinkOut - more resourcesFull Text SourcesNature Publishing Group', 'Histidine catabolism is a major determinant of methotrexate sensitivity.'), (5, \"N Engl J Med. 2018 Jul 12;379(2):138-149. doi: 10.1056/NEJMoa1714021.Prevention of M. tuberculosis Infection with H4:IC31 Vaccine or BCG Revaccinatio ... (7392 characters truncated) ... l Text SourcesAtypon - PDFEurope PubMed Central - Author ManuscriptOvid Technologies, Inc.PubMed Central - Author ManuscriptMedicalClinicalTrials.gov\", 'Prevention of M. tuberculosis Infection with H4:IC31 Vaccine or BCG Revaccination.'), (6, 'JAMA. 2018 Jul 9. doi: 10.1001/jama.2018.8117. [Epub ahead of print]The Health Insurance Marketplaces.Sacks DW1.Author information1Department of Busi ... (64 characters truncated) ... iana University, Bloomington.PMID: 29987334 DOI: 10.1001/jama.2018.8117 ShareLinkOut - more resourcesFull Text SourcesSilverchair Information Systems', 'The Health Insurance Marketplaces.'), (7, 'Nat Med. 2018 Jul 9. doi: 10.1038/s41591-018-0096-5. [Epub ahead of print]Phenotype molding of stromal cells in the lung tumor microenvironment.Lambr ... (3339 characters truncated) ... lung cancer diagnosis and therapy.PMID: 29988129 DOI: 10.1038/s41591-018-0096-5 ShareLinkOut - more resourcesFull Text SourcesNature Publishing Group', 'Phenotype molding of stromal cells in the lung tumor microenvironment.'), (8, 'Nature. 2018 Jul 9. doi: 10.1038/s41586-018-0317-6. [Epub ahead of print]Prediction of acute myeloid leukaemia risk in healthy individuals.Abelson S1 ... (8058 characters truncated) ... d may help to inform intervention.PMID: 29988082 DOI: 10.1038/s41586-018-0317-6 ShareLinkOut - more resourcesFull Text SourcesNature Publishing Group', 'Prediction of acute myeloid leukaemia risk in healthy individuals.'), (9, 'Cell Rep. 2018 Jul 10;24(2):429-440. doi: 10.1016/j.celrep.2018.06.042.NAD+ Depletion Triggers Macrophage Necroptosis, a Cell Death Pathway Exploited ... (1558 characters truncated) ... 996103 DOI: 10.1016/j.celrep.2018.06.042 ShareLinkOut - more resourcesMiscellaneousNCI CPTAC Assay PortalNCI CPTAC Assay PortalNCI CPTAC Assay Portal', 'NAD+ Depletion Triggers Macrophage Necroptosis, a Cell Death Pathway Exploited by Mycobacterium tuberculosis.'))]",
     "output_type": "error",
     "traceback": [
      "\u001b[1;31m---------------------------------------------------------------------------\u001b[0m",
      "\u001b[1;31mIntegrityError\u001b[0m                            Traceback (most recent call last)",
      "\u001b[1;32m~\\Anaconda3\\lib\\site-packages\\sqlalchemy\\engine\\base.py\u001b[0m in \u001b[0;36m_execute_context\u001b[1;34m(self, dialect, constructor, statement, parameters, *args)\u001b[0m\n\u001b[0;32m   1158\u001b[0m                         \u001b[0mparameters\u001b[0m\u001b[1;33m,\u001b[0m\u001b[1;33m\u001b[0m\u001b[0m\n\u001b[1;32m-> 1159\u001b[1;33m                         context)\n\u001b[0m\u001b[0;32m   1160\u001b[0m             \u001b[1;32melif\u001b[0m \u001b[1;32mnot\u001b[0m \u001b[0mparameters\u001b[0m \u001b[1;32mand\u001b[0m \u001b[0mcontext\u001b[0m\u001b[1;33m.\u001b[0m\u001b[0mno_parameters\u001b[0m\u001b[1;33m:\u001b[0m\u001b[1;33m\u001b[0m\u001b[0m\n",
      "\u001b[1;32m~\\Anaconda3\\lib\\site-packages\\sqlalchemy\\engine\\default.py\u001b[0m in \u001b[0;36mdo_executemany\u001b[1;34m(self, cursor, statement, parameters, context)\u001b[0m\n\u001b[0;32m    466\u001b[0m     \u001b[1;32mdef\u001b[0m \u001b[0mdo_executemany\u001b[0m\u001b[1;33m(\u001b[0m\u001b[0mself\u001b[0m\u001b[1;33m,\u001b[0m \u001b[0mcursor\u001b[0m\u001b[1;33m,\u001b[0m \u001b[0mstatement\u001b[0m\u001b[1;33m,\u001b[0m \u001b[0mparameters\u001b[0m\u001b[1;33m,\u001b[0m \u001b[0mcontext\u001b[0m\u001b[1;33m=\u001b[0m\u001b[1;32mNone\u001b[0m\u001b[1;33m)\u001b[0m\u001b[1;33m:\u001b[0m\u001b[1;33m\u001b[0m\u001b[0m\n\u001b[1;32m--> 467\u001b[1;33m         \u001b[0mcursor\u001b[0m\u001b[1;33m.\u001b[0m\u001b[0mexecutemany\u001b[0m\u001b[1;33m(\u001b[0m\u001b[0mstatement\u001b[0m\u001b[1;33m,\u001b[0m \u001b[0mparameters\u001b[0m\u001b[1;33m)\u001b[0m\u001b[1;33m\u001b[0m\u001b[0m\n\u001b[0m\u001b[0;32m    468\u001b[0m \u001b[1;33m\u001b[0m\u001b[0m\n",
      "\u001b[1;31mIntegrityError\u001b[0m: UNIQUE constraint failed: Title_Abstracts.id",
      "\nThe above exception was the direct cause of the following exception:\n",
      "\u001b[1;31mIntegrityError\u001b[0m                            Traceback (most recent call last)",
      "\u001b[1;32m<ipython-input-59-31d170e2c27b>\u001b[0m in \u001b[0;36m<module>\u001b[1;34m()\u001b[0m\n\u001b[0;32m      1\u001b[0m \u001b[1;31m# import json to sqlite\u001b[0m\u001b[1;33m\u001b[0m\u001b[1;33m\u001b[0m\u001b[0m\n\u001b[1;32m----> 2\u001b[1;33m \u001b[0mdf2\u001b[0m\u001b[1;33m.\u001b[0m\u001b[0mto_sql\u001b[0m\u001b[1;33m(\u001b[0m\u001b[0mcon\u001b[0m\u001b[1;33m=\u001b[0m\u001b[0mengine\u001b[0m\u001b[1;33m,\u001b[0m \u001b[0mindex_label\u001b[0m\u001b[1;33m=\u001b[0m\u001b[1;34m'id'\u001b[0m\u001b[1;33m,\u001b[0m \u001b[0mname\u001b[0m\u001b[1;33m=\u001b[0m\u001b[0mArticles\u001b[0m\u001b[1;33m.\u001b[0m\u001b[0m__tablename__\u001b[0m\u001b[1;33m,\u001b[0m \u001b[0mif_exists\u001b[0m\u001b[1;33m=\u001b[0m\u001b[1;34m'append'\u001b[0m\u001b[1;33m)\u001b[0m\u001b[1;33m\u001b[0m\u001b[0m\n\u001b[0m",
      "\u001b[1;32m~\\Anaconda3\\lib\\site-packages\\pandas\\core\\generic.py\u001b[0m in \u001b[0;36mto_sql\u001b[1;34m(self, name, con, flavor, schema, if_exists, index, index_label, chunksize, dtype)\u001b[0m\n\u001b[0;32m   1360\u001b[0m         sql.to_sql(self, name, con, flavor=flavor, schema=schema,\n\u001b[0;32m   1361\u001b[0m                    \u001b[0mif_exists\u001b[0m\u001b[1;33m=\u001b[0m\u001b[0mif_exists\u001b[0m\u001b[1;33m,\u001b[0m \u001b[0mindex\u001b[0m\u001b[1;33m=\u001b[0m\u001b[0mindex\u001b[0m\u001b[1;33m,\u001b[0m \u001b[0mindex_label\u001b[0m\u001b[1;33m=\u001b[0m\u001b[0mindex_label\u001b[0m\u001b[1;33m,\u001b[0m\u001b[1;33m\u001b[0m\u001b[0m\n\u001b[1;32m-> 1362\u001b[1;33m                    chunksize=chunksize, dtype=dtype)\n\u001b[0m\u001b[0;32m   1363\u001b[0m \u001b[1;33m\u001b[0m\u001b[0m\n\u001b[0;32m   1364\u001b[0m     \u001b[1;32mdef\u001b[0m \u001b[0mto_pickle\u001b[0m\u001b[1;33m(\u001b[0m\u001b[0mself\u001b[0m\u001b[1;33m,\u001b[0m \u001b[0mpath\u001b[0m\u001b[1;33m,\u001b[0m \u001b[0mcompression\u001b[0m\u001b[1;33m=\u001b[0m\u001b[1;34m'infer'\u001b[0m\u001b[1;33m)\u001b[0m\u001b[1;33m:\u001b[0m\u001b[1;33m\u001b[0m\u001b[0m\n",
      "\u001b[1;32m~\\Anaconda3\\lib\\site-packages\\pandas\\io\\sql.py\u001b[0m in \u001b[0;36mto_sql\u001b[1;34m(frame, name, con, flavor, schema, if_exists, index, index_label, chunksize, dtype)\u001b[0m\n\u001b[0;32m    469\u001b[0m     pandas_sql.to_sql(frame, name, if_exists=if_exists, index=index,\n\u001b[0;32m    470\u001b[0m                       \u001b[0mindex_label\u001b[0m\u001b[1;33m=\u001b[0m\u001b[0mindex_label\u001b[0m\u001b[1;33m,\u001b[0m \u001b[0mschema\u001b[0m\u001b[1;33m=\u001b[0m\u001b[0mschema\u001b[0m\u001b[1;33m,\u001b[0m\u001b[1;33m\u001b[0m\u001b[0m\n\u001b[1;32m--> 471\u001b[1;33m                       chunksize=chunksize, dtype=dtype)\n\u001b[0m\u001b[0;32m    472\u001b[0m \u001b[1;33m\u001b[0m\u001b[0m\n\u001b[0;32m    473\u001b[0m \u001b[1;33m\u001b[0m\u001b[0m\n",
      "\u001b[1;32m~\\Anaconda3\\lib\\site-packages\\pandas\\io\\sql.py\u001b[0m in \u001b[0;36mto_sql\u001b[1;34m(self, frame, name, if_exists, index, index_label, schema, chunksize, dtype)\u001b[0m\n\u001b[0;32m   1149\u001b[0m                          schema=schema, dtype=dtype)\n\u001b[0;32m   1150\u001b[0m         \u001b[0mtable\u001b[0m\u001b[1;33m.\u001b[0m\u001b[0mcreate\u001b[0m\u001b[1;33m(\u001b[0m\u001b[1;33m)\u001b[0m\u001b[1;33m\u001b[0m\u001b[0m\n\u001b[1;32m-> 1151\u001b[1;33m         \u001b[0mtable\u001b[0m\u001b[1;33m.\u001b[0m\u001b[0minsert\u001b[0m\u001b[1;33m(\u001b[0m\u001b[0mchunksize\u001b[0m\u001b[1;33m)\u001b[0m\u001b[1;33m\u001b[0m\u001b[0m\n\u001b[0m\u001b[0;32m   1152\u001b[0m         \u001b[1;32mif\u001b[0m \u001b[1;33m(\u001b[0m\u001b[1;32mnot\u001b[0m \u001b[0mname\u001b[0m\u001b[1;33m.\u001b[0m\u001b[0misdigit\u001b[0m\u001b[1;33m(\u001b[0m\u001b[1;33m)\u001b[0m \u001b[1;32mand\u001b[0m \u001b[1;32mnot\u001b[0m \u001b[0mname\u001b[0m\u001b[1;33m.\u001b[0m\u001b[0mislower\u001b[0m\u001b[1;33m(\u001b[0m\u001b[1;33m)\u001b[0m\u001b[1;33m)\u001b[0m\u001b[1;33m:\u001b[0m\u001b[1;33m\u001b[0m\u001b[0m\n\u001b[0;32m   1153\u001b[0m             \u001b[1;31m# check for potentially case sensitivity issues (GH7815)\u001b[0m\u001b[1;33m\u001b[0m\u001b[1;33m\u001b[0m\u001b[0m\n",
      "\u001b[1;32m~\\Anaconda3\\lib\\site-packages\\pandas\\io\\sql.py\u001b[0m in \u001b[0;36minsert\u001b[1;34m(self, chunksize)\u001b[0m\n\u001b[0;32m    664\u001b[0m \u001b[1;33m\u001b[0m\u001b[0m\n\u001b[0;32m    665\u001b[0m                 \u001b[0mchunk_iter\u001b[0m \u001b[1;33m=\u001b[0m \u001b[0mzip\u001b[0m\u001b[1;33m(\u001b[0m\u001b[1;33m*\u001b[0m\u001b[1;33m[\u001b[0m\u001b[0marr\u001b[0m\u001b[1;33m[\u001b[0m\u001b[0mstart_i\u001b[0m\u001b[1;33m:\u001b[0m\u001b[0mend_i\u001b[0m\u001b[1;33m]\u001b[0m \u001b[1;32mfor\u001b[0m \u001b[0marr\u001b[0m \u001b[1;32min\u001b[0m \u001b[0mdata_list\u001b[0m\u001b[1;33m]\u001b[0m\u001b[1;33m)\u001b[0m\u001b[1;33m\u001b[0m\u001b[0m\n\u001b[1;32m--> 666\u001b[1;33m                 \u001b[0mself\u001b[0m\u001b[1;33m.\u001b[0m\u001b[0m_execute_insert\u001b[0m\u001b[1;33m(\u001b[0m\u001b[0mconn\u001b[0m\u001b[1;33m,\u001b[0m \u001b[0mkeys\u001b[0m\u001b[1;33m,\u001b[0m \u001b[0mchunk_iter\u001b[0m\u001b[1;33m)\u001b[0m\u001b[1;33m\u001b[0m\u001b[0m\n\u001b[0m\u001b[0;32m    667\u001b[0m \u001b[1;33m\u001b[0m\u001b[0m\n\u001b[0;32m    668\u001b[0m     def _query_iterator(self, result, chunksize, columns, coerce_float=True,\n",
      "\u001b[1;32m~\\Anaconda3\\lib\\site-packages\\pandas\\io\\sql.py\u001b[0m in \u001b[0;36m_execute_insert\u001b[1;34m(self, conn, keys, data_iter)\u001b[0m\n\u001b[0;32m    639\u001b[0m     \u001b[1;32mdef\u001b[0m \u001b[0m_execute_insert\u001b[0m\u001b[1;33m(\u001b[0m\u001b[0mself\u001b[0m\u001b[1;33m,\u001b[0m \u001b[0mconn\u001b[0m\u001b[1;33m,\u001b[0m \u001b[0mkeys\u001b[0m\u001b[1;33m,\u001b[0m \u001b[0mdata_iter\u001b[0m\u001b[1;33m)\u001b[0m\u001b[1;33m:\u001b[0m\u001b[1;33m\u001b[0m\u001b[0m\n\u001b[0;32m    640\u001b[0m         \u001b[0mdata\u001b[0m \u001b[1;33m=\u001b[0m \u001b[1;33m[\u001b[0m\u001b[0mdict\u001b[0m\u001b[1;33m(\u001b[0m\u001b[1;33m(\u001b[0m\u001b[0mk\u001b[0m\u001b[1;33m,\u001b[0m \u001b[0mv\u001b[0m\u001b[1;33m)\u001b[0m \u001b[1;32mfor\u001b[0m \u001b[0mk\u001b[0m\u001b[1;33m,\u001b[0m \u001b[0mv\u001b[0m \u001b[1;32min\u001b[0m \u001b[0mzip\u001b[0m\u001b[1;33m(\u001b[0m\u001b[0mkeys\u001b[0m\u001b[1;33m,\u001b[0m \u001b[0mrow\u001b[0m\u001b[1;33m)\u001b[0m\u001b[1;33m)\u001b[0m \u001b[1;32mfor\u001b[0m \u001b[0mrow\u001b[0m \u001b[1;32min\u001b[0m \u001b[0mdata_iter\u001b[0m\u001b[1;33m]\u001b[0m\u001b[1;33m\u001b[0m\u001b[0m\n\u001b[1;32m--> 641\u001b[1;33m         \u001b[0mconn\u001b[0m\u001b[1;33m.\u001b[0m\u001b[0mexecute\u001b[0m\u001b[1;33m(\u001b[0m\u001b[0mself\u001b[0m\u001b[1;33m.\u001b[0m\u001b[0minsert_statement\u001b[0m\u001b[1;33m(\u001b[0m\u001b[1;33m)\u001b[0m\u001b[1;33m,\u001b[0m \u001b[0mdata\u001b[0m\u001b[1;33m)\u001b[0m\u001b[1;33m\u001b[0m\u001b[0m\n\u001b[0m\u001b[0;32m    642\u001b[0m \u001b[1;33m\u001b[0m\u001b[0m\n\u001b[0;32m    643\u001b[0m     \u001b[1;32mdef\u001b[0m \u001b[0minsert\u001b[0m\u001b[1;33m(\u001b[0m\u001b[0mself\u001b[0m\u001b[1;33m,\u001b[0m \u001b[0mchunksize\u001b[0m\u001b[1;33m=\u001b[0m\u001b[1;32mNone\u001b[0m\u001b[1;33m)\u001b[0m\u001b[1;33m:\u001b[0m\u001b[1;33m\u001b[0m\u001b[0m\n",
      "\u001b[1;32m~\\Anaconda3\\lib\\site-packages\\sqlalchemy\\engine\\base.py\u001b[0m in \u001b[0;36mexecute\u001b[1;34m(self, object, *multiparams, **params)\u001b[0m\n\u001b[0;32m    943\u001b[0m             \u001b[1;32mraise\u001b[0m \u001b[0mexc\u001b[0m\u001b[1;33m.\u001b[0m\u001b[0mObjectNotExecutableError\u001b[0m\u001b[1;33m(\u001b[0m\u001b[0mobject\u001b[0m\u001b[1;33m)\u001b[0m\u001b[1;33m\u001b[0m\u001b[0m\n\u001b[0;32m    944\u001b[0m         \u001b[1;32melse\u001b[0m\u001b[1;33m:\u001b[0m\u001b[1;33m\u001b[0m\u001b[0m\n\u001b[1;32m--> 945\u001b[1;33m             \u001b[1;32mreturn\u001b[0m \u001b[0mmeth\u001b[0m\u001b[1;33m(\u001b[0m\u001b[0mself\u001b[0m\u001b[1;33m,\u001b[0m \u001b[0mmultiparams\u001b[0m\u001b[1;33m,\u001b[0m \u001b[0mparams\u001b[0m\u001b[1;33m)\u001b[0m\u001b[1;33m\u001b[0m\u001b[0m\n\u001b[0m\u001b[0;32m    946\u001b[0m \u001b[1;33m\u001b[0m\u001b[0m\n\u001b[0;32m    947\u001b[0m     \u001b[1;32mdef\u001b[0m \u001b[0m_execute_function\u001b[0m\u001b[1;33m(\u001b[0m\u001b[0mself\u001b[0m\u001b[1;33m,\u001b[0m \u001b[0mfunc\u001b[0m\u001b[1;33m,\u001b[0m \u001b[0mmultiparams\u001b[0m\u001b[1;33m,\u001b[0m \u001b[0mparams\u001b[0m\u001b[1;33m)\u001b[0m\u001b[1;33m:\u001b[0m\u001b[1;33m\u001b[0m\u001b[0m\n",
      "\u001b[1;32m~\\Anaconda3\\lib\\site-packages\\sqlalchemy\\sql\\elements.py\u001b[0m in \u001b[0;36m_execute_on_connection\u001b[1;34m(self, connection, multiparams, params)\u001b[0m\n\u001b[0;32m    261\u001b[0m     \u001b[1;32mdef\u001b[0m \u001b[0m_execute_on_connection\u001b[0m\u001b[1;33m(\u001b[0m\u001b[0mself\u001b[0m\u001b[1;33m,\u001b[0m \u001b[0mconnection\u001b[0m\u001b[1;33m,\u001b[0m \u001b[0mmultiparams\u001b[0m\u001b[1;33m,\u001b[0m \u001b[0mparams\u001b[0m\u001b[1;33m)\u001b[0m\u001b[1;33m:\u001b[0m\u001b[1;33m\u001b[0m\u001b[0m\n\u001b[0;32m    262\u001b[0m         \u001b[1;32mif\u001b[0m \u001b[0mself\u001b[0m\u001b[1;33m.\u001b[0m\u001b[0msupports_execution\u001b[0m\u001b[1;33m:\u001b[0m\u001b[1;33m\u001b[0m\u001b[0m\n\u001b[1;32m--> 263\u001b[1;33m             \u001b[1;32mreturn\u001b[0m \u001b[0mconnection\u001b[0m\u001b[1;33m.\u001b[0m\u001b[0m_execute_clauseelement\u001b[0m\u001b[1;33m(\u001b[0m\u001b[0mself\u001b[0m\u001b[1;33m,\u001b[0m \u001b[0mmultiparams\u001b[0m\u001b[1;33m,\u001b[0m \u001b[0mparams\u001b[0m\u001b[1;33m)\u001b[0m\u001b[1;33m\u001b[0m\u001b[0m\n\u001b[0m\u001b[0;32m    264\u001b[0m         \u001b[1;32melse\u001b[0m\u001b[1;33m:\u001b[0m\u001b[1;33m\u001b[0m\u001b[0m\n\u001b[0;32m    265\u001b[0m             \u001b[1;32mraise\u001b[0m \u001b[0mexc\u001b[0m\u001b[1;33m.\u001b[0m\u001b[0mObjectNotExecutableError\u001b[0m\u001b[1;33m(\u001b[0m\u001b[0mself\u001b[0m\u001b[1;33m)\u001b[0m\u001b[1;33m\u001b[0m\u001b[0m\n",
      "\u001b[1;32m~\\Anaconda3\\lib\\site-packages\\sqlalchemy\\engine\\base.py\u001b[0m in \u001b[0;36m_execute_clauseelement\u001b[1;34m(self, elem, multiparams, params)\u001b[0m\n\u001b[0;32m   1051\u001b[0m             \u001b[0mcompiled_sql\u001b[0m\u001b[1;33m,\u001b[0m\u001b[1;33m\u001b[0m\u001b[0m\n\u001b[0;32m   1052\u001b[0m             \u001b[0mdistilled_params\u001b[0m\u001b[1;33m,\u001b[0m\u001b[1;33m\u001b[0m\u001b[0m\n\u001b[1;32m-> 1053\u001b[1;33m             \u001b[0mcompiled_sql\u001b[0m\u001b[1;33m,\u001b[0m \u001b[0mdistilled_params\u001b[0m\u001b[1;33m\u001b[0m\u001b[0m\n\u001b[0m\u001b[0;32m   1054\u001b[0m         )\n\u001b[0;32m   1055\u001b[0m         \u001b[1;32mif\u001b[0m \u001b[0mself\u001b[0m\u001b[1;33m.\u001b[0m\u001b[0m_has_events\u001b[0m \u001b[1;32mor\u001b[0m \u001b[0mself\u001b[0m\u001b[1;33m.\u001b[0m\u001b[0mengine\u001b[0m\u001b[1;33m.\u001b[0m\u001b[0m_has_events\u001b[0m\u001b[1;33m:\u001b[0m\u001b[1;33m\u001b[0m\u001b[0m\n",
      "\u001b[1;32m~\\Anaconda3\\lib\\site-packages\\sqlalchemy\\engine\\base.py\u001b[0m in \u001b[0;36m_execute_context\u001b[1;34m(self, dialect, constructor, statement, parameters, *args)\u001b[0m\n\u001b[0;32m   1187\u001b[0m                 \u001b[0mparameters\u001b[0m\u001b[1;33m,\u001b[0m\u001b[1;33m\u001b[0m\u001b[0m\n\u001b[0;32m   1188\u001b[0m                 \u001b[0mcursor\u001b[0m\u001b[1;33m,\u001b[0m\u001b[1;33m\u001b[0m\u001b[0m\n\u001b[1;32m-> 1189\u001b[1;33m                 context)\n\u001b[0m\u001b[0;32m   1190\u001b[0m \u001b[1;33m\u001b[0m\u001b[0m\n\u001b[0;32m   1191\u001b[0m         \u001b[1;32mif\u001b[0m \u001b[0mself\u001b[0m\u001b[1;33m.\u001b[0m\u001b[0m_has_events\u001b[0m \u001b[1;32mor\u001b[0m \u001b[0mself\u001b[0m\u001b[1;33m.\u001b[0m\u001b[0mengine\u001b[0m\u001b[1;33m.\u001b[0m\u001b[0m_has_events\u001b[0m\u001b[1;33m:\u001b[0m\u001b[1;33m\u001b[0m\u001b[0m\n",
      "\u001b[1;32m~\\Anaconda3\\lib\\site-packages\\sqlalchemy\\engine\\base.py\u001b[0m in \u001b[0;36m_handle_dbapi_exception\u001b[1;34m(self, e, statement, parameters, cursor, context)\u001b[0m\n\u001b[0;32m   1400\u001b[0m                 util.raise_from_cause(\n\u001b[0;32m   1401\u001b[0m                     \u001b[0msqlalchemy_exception\u001b[0m\u001b[1;33m,\u001b[0m\u001b[1;33m\u001b[0m\u001b[0m\n\u001b[1;32m-> 1402\u001b[1;33m                     \u001b[0mexc_info\u001b[0m\u001b[1;33m\u001b[0m\u001b[0m\n\u001b[0m\u001b[0;32m   1403\u001b[0m                 )\n\u001b[0;32m   1404\u001b[0m             \u001b[1;32melse\u001b[0m\u001b[1;33m:\u001b[0m\u001b[1;33m\u001b[0m\u001b[0m\n",
      "\u001b[1;32m~\\Anaconda3\\lib\\site-packages\\sqlalchemy\\util\\compat.py\u001b[0m in \u001b[0;36mraise_from_cause\u001b[1;34m(exception, exc_info)\u001b[0m\n\u001b[0;32m    201\u001b[0m     \u001b[0mexc_type\u001b[0m\u001b[1;33m,\u001b[0m \u001b[0mexc_value\u001b[0m\u001b[1;33m,\u001b[0m \u001b[0mexc_tb\u001b[0m \u001b[1;33m=\u001b[0m \u001b[0mexc_info\u001b[0m\u001b[1;33m\u001b[0m\u001b[0m\n\u001b[0;32m    202\u001b[0m     \u001b[0mcause\u001b[0m \u001b[1;33m=\u001b[0m \u001b[0mexc_value\u001b[0m \u001b[1;32mif\u001b[0m \u001b[0mexc_value\u001b[0m \u001b[1;32mis\u001b[0m \u001b[1;32mnot\u001b[0m \u001b[0mexception\u001b[0m \u001b[1;32melse\u001b[0m \u001b[1;32mNone\u001b[0m\u001b[1;33m\u001b[0m\u001b[0m\n\u001b[1;32m--> 203\u001b[1;33m     \u001b[0mreraise\u001b[0m\u001b[1;33m(\u001b[0m\u001b[0mtype\u001b[0m\u001b[1;33m(\u001b[0m\u001b[0mexception\u001b[0m\u001b[1;33m)\u001b[0m\u001b[1;33m,\u001b[0m \u001b[0mexception\u001b[0m\u001b[1;33m,\u001b[0m \u001b[0mtb\u001b[0m\u001b[1;33m=\u001b[0m\u001b[0mexc_tb\u001b[0m\u001b[1;33m,\u001b[0m \u001b[0mcause\u001b[0m\u001b[1;33m=\u001b[0m\u001b[0mcause\u001b[0m\u001b[1;33m)\u001b[0m\u001b[1;33m\u001b[0m\u001b[0m\n\u001b[0m\u001b[0;32m    204\u001b[0m \u001b[1;33m\u001b[0m\u001b[0m\n\u001b[0;32m    205\u001b[0m \u001b[1;32mif\u001b[0m \u001b[0mpy3k\u001b[0m\u001b[1;33m:\u001b[0m\u001b[1;33m\u001b[0m\u001b[0m\n",
      "\u001b[1;32m~\\Anaconda3\\lib\\site-packages\\sqlalchemy\\util\\compat.py\u001b[0m in \u001b[0;36mreraise\u001b[1;34m(tp, value, tb, cause)\u001b[0m\n\u001b[0;32m    184\u001b[0m             \u001b[0mvalue\u001b[0m\u001b[1;33m.\u001b[0m\u001b[0m__cause__\u001b[0m \u001b[1;33m=\u001b[0m \u001b[0mcause\u001b[0m\u001b[1;33m\u001b[0m\u001b[0m\n\u001b[0;32m    185\u001b[0m         \u001b[1;32mif\u001b[0m \u001b[0mvalue\u001b[0m\u001b[1;33m.\u001b[0m\u001b[0m__traceback__\u001b[0m \u001b[1;32mis\u001b[0m \u001b[1;32mnot\u001b[0m \u001b[0mtb\u001b[0m\u001b[1;33m:\u001b[0m\u001b[1;33m\u001b[0m\u001b[0m\n\u001b[1;32m--> 186\u001b[1;33m             \u001b[1;32mraise\u001b[0m \u001b[0mvalue\u001b[0m\u001b[1;33m.\u001b[0m\u001b[0mwith_traceback\u001b[0m\u001b[1;33m(\u001b[0m\u001b[0mtb\u001b[0m\u001b[1;33m)\u001b[0m\u001b[1;33m\u001b[0m\u001b[0m\n\u001b[0m\u001b[0;32m    187\u001b[0m         \u001b[1;32mraise\u001b[0m \u001b[0mvalue\u001b[0m\u001b[1;33m\u001b[0m\u001b[0m\n\u001b[0;32m    188\u001b[0m \u001b[1;33m\u001b[0m\u001b[0m\n",
      "\u001b[1;32m~\\Anaconda3\\lib\\site-packages\\sqlalchemy\\engine\\base.py\u001b[0m in \u001b[0;36m_execute_context\u001b[1;34m(self, dialect, constructor, statement, parameters, *args)\u001b[0m\n\u001b[0;32m   1157\u001b[0m                         \u001b[0mstatement\u001b[0m\u001b[1;33m,\u001b[0m\u001b[1;33m\u001b[0m\u001b[0m\n\u001b[0;32m   1158\u001b[0m                         \u001b[0mparameters\u001b[0m\u001b[1;33m,\u001b[0m\u001b[1;33m\u001b[0m\u001b[0m\n\u001b[1;32m-> 1159\u001b[1;33m                         context)\n\u001b[0m\u001b[0;32m   1160\u001b[0m             \u001b[1;32melif\u001b[0m \u001b[1;32mnot\u001b[0m \u001b[0mparameters\u001b[0m \u001b[1;32mand\u001b[0m \u001b[0mcontext\u001b[0m\u001b[1;33m.\u001b[0m\u001b[0mno_parameters\u001b[0m\u001b[1;33m:\u001b[0m\u001b[1;33m\u001b[0m\u001b[0m\n\u001b[0;32m   1161\u001b[0m                 \u001b[1;32mif\u001b[0m \u001b[0mself\u001b[0m\u001b[1;33m.\u001b[0m\u001b[0mdialect\u001b[0m\u001b[1;33m.\u001b[0m\u001b[0m_has_events\u001b[0m\u001b[1;33m:\u001b[0m\u001b[1;33m\u001b[0m\u001b[0m\n",
      "\u001b[1;32m~\\Anaconda3\\lib\\site-packages\\sqlalchemy\\engine\\default.py\u001b[0m in \u001b[0;36mdo_executemany\u001b[1;34m(self, cursor, statement, parameters, context)\u001b[0m\n\u001b[0;32m    465\u001b[0m \u001b[1;33m\u001b[0m\u001b[0m\n\u001b[0;32m    466\u001b[0m     \u001b[1;32mdef\u001b[0m \u001b[0mdo_executemany\u001b[0m\u001b[1;33m(\u001b[0m\u001b[0mself\u001b[0m\u001b[1;33m,\u001b[0m \u001b[0mcursor\u001b[0m\u001b[1;33m,\u001b[0m \u001b[0mstatement\u001b[0m\u001b[1;33m,\u001b[0m \u001b[0mparameters\u001b[0m\u001b[1;33m,\u001b[0m \u001b[0mcontext\u001b[0m\u001b[1;33m=\u001b[0m\u001b[1;32mNone\u001b[0m\u001b[1;33m)\u001b[0m\u001b[1;33m:\u001b[0m\u001b[1;33m\u001b[0m\u001b[0m\n\u001b[1;32m--> 467\u001b[1;33m         \u001b[0mcursor\u001b[0m\u001b[1;33m.\u001b[0m\u001b[0mexecutemany\u001b[0m\u001b[1;33m(\u001b[0m\u001b[0mstatement\u001b[0m\u001b[1;33m,\u001b[0m \u001b[0mparameters\u001b[0m\u001b[1;33m)\u001b[0m\u001b[1;33m\u001b[0m\u001b[0m\n\u001b[0m\u001b[0;32m    468\u001b[0m \u001b[1;33m\u001b[0m\u001b[0m\n\u001b[0;32m    469\u001b[0m     \u001b[1;32mdef\u001b[0m \u001b[0mdo_execute\u001b[0m\u001b[1;33m(\u001b[0m\u001b[0mself\u001b[0m\u001b[1;33m,\u001b[0m \u001b[0mcursor\u001b[0m\u001b[1;33m,\u001b[0m \u001b[0mstatement\u001b[0m\u001b[1;33m,\u001b[0m \u001b[0mparameters\u001b[0m\u001b[1;33m,\u001b[0m \u001b[0mcontext\u001b[0m\u001b[1;33m=\u001b[0m\u001b[1;32mNone\u001b[0m\u001b[1;33m)\u001b[0m\u001b[1;33m:\u001b[0m\u001b[1;33m\u001b[0m\u001b[0m\n",
      "\u001b[1;31mIntegrityError\u001b[0m: (sqlite3.IntegrityError) UNIQUE constraint failed: Title_Abstracts.id [SQL: 'INSERT INTO \"Title_Abstracts\" (id, abstract, title) VALUES (?, ?, ?)'] [parameters: ((0, 'Nat Med. 2018 Jul 9. doi: 10.1038/s41591-018-0133-4. [Epub ahead of print]Author Correction: What models eat.Engber D1.Author information1Freelance s ... (942 characters truncated) ... DOI: 10.1038/s41591-018-0133-4 SharePublication typePublication typePublished ErratumLinkOut - more resourcesFull Text SourcesNature Publishing Group', 'Author Correction: What models eat.'), (1, 'Nature. 2018 Jun 6. doi: 10.1038/s41586-018-0224-x. [Epub ahead of print]Mechanism of parkin activation by PINK1.Gladkova C1, Maslen SL1, Skehel JM1, ... (1858 characters truncated) ... 0.1038/s41586-018-0224-x ShareLinkOut - more resourcesFull Text SourcesNature Publishing GroupMiscellaneousNCI CPTC Antibody Characterization Program', 'Mechanism of parkin activation by PINK1.'), (2, 'Sci Transl Med. 2018 Jul 11;10(449). pii: eaao3240. doi: 10.1126/scitranslmed.aao3240.CRISPR-enhanced engineering of therapy-sensitive cancer cells f ... (2395 characters truncated) ... n primary, recurrent, and metastatic settings.PMID: 29997250 DOI: 10.1126/scitranslmed.aao3240 ShareLinkOut - more resourcesFull Text SourcesHighWire', 'CRISPR-enhanced engineering of therapy-sensitive cancer cells for self-targeting of primary and metastatic tumors.'), (3, 'Nature. 2018 Jul 11. doi: 10.1038/s41586-018-0322-9. [Epub ahead of print]Evolution of a central neural circuit underlies Drosophila mate preferences ... (1549 characters truncated) ... ntribute to behavioural evolution.PMID: 29995860 DOI: 10.1038/s41586-018-0322-9 ShareLinkOut - more resourcesFull Text SourcesNature Publishing Group', 'Evolution of a central neural circuit underlies Drosophila mate preferences.'), (4, 'Nature. 2018 Jul 11. doi: 10.1038/s41586-018-0316-7. [Epub ahead of print]Histidine catabolism is a major determinant of methotrexate sensitivity.Kan ... (2900 characters truncated) ... 6-018-0316-7 ShareGrant supportGrant supportR01 CA129105/CA/NCI NIH HHS/United StatesLinkOut - more resourcesFull Text SourcesNature Publishing Group', 'Histidine catabolism is a major determinant of methotrexate sensitivity.'), (5, \"N Engl J Med. 2018 Jul 12;379(2):138-149. doi: 10.1056/NEJMoa1714021.Prevention of M. tuberculosis Infection with H4:IC31 Vaccine or BCG Revaccinatio ... (7392 characters truncated) ... l Text SourcesAtypon - PDFEurope PubMed Central - Author ManuscriptOvid Technologies, Inc.PubMed Central - Author ManuscriptMedicalClinicalTrials.gov\", 'Prevention of M. tuberculosis Infection with H4:IC31 Vaccine or BCG Revaccination.'), (6, 'JAMA. 2018 Jul 9. doi: 10.1001/jama.2018.8117. [Epub ahead of print]The Health Insurance Marketplaces.Sacks DW1.Author information1Department of Busi ... (64 characters truncated) ... iana University, Bloomington.PMID: 29987334 DOI: 10.1001/jama.2018.8117 ShareLinkOut - more resourcesFull Text SourcesSilverchair Information Systems', 'The Health Insurance Marketplaces.'), (7, 'Nat Med. 2018 Jul 9. doi: 10.1038/s41591-018-0096-5. [Epub ahead of print]Phenotype molding of stromal cells in the lung tumor microenvironment.Lambr ... (3339 characters truncated) ... lung cancer diagnosis and therapy.PMID: 29988129 DOI: 10.1038/s41591-018-0096-5 ShareLinkOut - more resourcesFull Text SourcesNature Publishing Group', 'Phenotype molding of stromal cells in the lung tumor microenvironment.'), (8, 'Nature. 2018 Jul 9. doi: 10.1038/s41586-018-0317-6. [Epub ahead of print]Prediction of acute myeloid leukaemia risk in healthy individuals.Abelson S1 ... (8058 characters truncated) ... d may help to inform intervention.PMID: 29988082 DOI: 10.1038/s41586-018-0317-6 ShareLinkOut - more resourcesFull Text SourcesNature Publishing Group', 'Prediction of acute myeloid leukaemia risk in healthy individuals.'), (9, 'Cell Rep. 2018 Jul 10;24(2):429-440. doi: 10.1016/j.celrep.2018.06.042.NAD+ Depletion Triggers Macrophage Necroptosis, a Cell Death Pathway Exploited ... (1558 characters truncated) ... 996103 DOI: 10.1016/j.celrep.2018.06.042 ShareLinkOut - more resourcesMiscellaneousNCI CPTAC Assay PortalNCI CPTAC Assay PortalNCI CPTAC Assay Portal', 'NAD+ Depletion Triggers Macrophage Necroptosis, a Cell Death Pathway Exploited by Mycobacterium tuberculosis.'))]"
     ]
    }
   ],
   "source": [
    "# import json to sqlite\n",
    "df2.to_sql(con=engine, index_label='id', name=Articles.__tablename__, if_exists='append')"
   ]
  },
  {
   "cell_type": "code",
   "execution_count": null,
   "metadata": {
    "collapsed": true
   },
   "outputs": [],
   "source": []
  }
 ],
 "metadata": {
  "kernelspec": {
   "display_name": "Python 3",
   "language": "python",
   "name": "python3"
  },
  "language_info": {
   "codemirror_mode": {
    "name": "ipython",
    "version": 3
   },
   "file_extension": ".py",
   "mimetype": "text/x-python",
   "name": "python",
   "nbconvert_exporter": "python",
   "pygments_lexer": "ipython3",
   "version": "3.6.3"
  }
 },
 "nbformat": 4,
 "nbformat_minor": 2
}
